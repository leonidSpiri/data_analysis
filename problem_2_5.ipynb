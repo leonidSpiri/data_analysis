{
 "nbformat": 4,
 "nbformat_minor": 0,
 "metadata": {
  "kernelspec": {
   "display_name": "Python 3",
   "language": "python",
   "name": "python3"
  },
  "language_info": {
   "codemirror_mode": {
    "name": "ipython",
    "version": 3
   },
   "file_extension": ".py",
   "mimetype": "text/x-python",
   "name": "python",
   "nbconvert_exporter": "python",
   "pygments_lexer": "ipython3",
   "version": "3.8.3"
  },
  "colab": {
   "provenance": []
  }
 },
 "cells": [
  {
   "cell_type": "markdown",
   "source": [
    "# Задание 5. Студенты"
   ],
   "metadata": {
    "id": "I33pLNYDCViZ"
   }
  },
  {
   "cell_type": "markdown",
   "metadata": {
    "id": "xdkJdV6e81e5"
   },
   "source": [
    "В [файле](https://raw.githubusercontent.com/dm-fedorov/python_basic/master/data/students.stat) следующие поля:\n",
    "    \n",
    "- *gender* — пол абитуриента;\n",
    "- *race/ethnicity* — национальность (зашифрована в виде значений \"Group A\", \"Group B\" и т.д.);\n",
    "- *parental level of education* — уровень образования родителей;\n",
    "- *lunch* — насколько качественно пообедал абитуриент перед тестом;\n",
    "- *test preparation course* — закончил ли абитуриент подготовительные курсы;\n",
    "- *math score* — оценка по математике;\n",
    "- *reading score* — оценка по чтению;\n",
    "- *writing score* — оценка по письму."
   ]
  },
  {
   "cell_type": "code",
   "metadata": {
    "id": "SbHuuB6Z81e-",
    "ExecuteTime": {
     "end_time": "2024-05-10T10:21:49.004793Z",
     "start_time": "2024-05-10T10:21:48.265408Z"
    }
   },
   "source": [
    "import pandas as pd"
   ],
   "outputs": [],
   "execution_count": 1
  },
  {
   "cell_type": "code",
   "metadata": {
    "id": "YWUbQ5rV81fA",
    "colab": {
     "base_uri": "https://localhost:8080/",
     "height": 424
    },
    "outputId": "453eb139-adfd-43ef-e287-72596cfb795d",
    "ExecuteTime": {
     "end_time": "2024-05-10T10:21:49.388297Z",
     "start_time": "2024-05-10T10:21:49.007352Z"
    }
   },
   "source": [
    "df = pd.read_csv(\"https://raw.githubusercontent.com/dm-fedorov/python_basic/master/data/students.stat\")\n",
    "df"
   ],
   "outputs": [
    {
     "data": {
      "text/plain": [
       "     gender race/ethnicity parental level of education         lunch  \\\n",
       "0    female        group B           bachelor's degree      standard   \n",
       "1    female        group C                some college      standard   \n",
       "2    female        group B             master's degree      standard   \n",
       "3      male        group A          associate's degree  free/reduced   \n",
       "4      male        group C                some college      standard   \n",
       "..      ...            ...                         ...           ...   \n",
       "995  female        group E             master's degree      standard   \n",
       "996    male        group C                 high school  free/reduced   \n",
       "997  female        group C                 high school  free/reduced   \n",
       "998  female        group D                some college      standard   \n",
       "999  female        group D                some college  free/reduced   \n",
       "\n",
       "    test preparation course  math score  reading score  writing score  \n",
       "0                      none          72             72             74  \n",
       "1                 completed          69             90             88  \n",
       "2                      none          90             95             93  \n",
       "3                      none          47             57             44  \n",
       "4                      none          76             78             75  \n",
       "..                      ...         ...            ...            ...  \n",
       "995               completed          88             99             95  \n",
       "996                    none          62             55             55  \n",
       "997               completed          59             71             65  \n",
       "998               completed          68             78             77  \n",
       "999                    none          77             86             86  \n",
       "\n",
       "[1000 rows x 8 columns]"
      ],
      "text/html": [
       "<div>\n",
       "<style scoped>\n",
       "    .dataframe tbody tr th:only-of-type {\n",
       "        vertical-align: middle;\n",
       "    }\n",
       "\n",
       "    .dataframe tbody tr th {\n",
       "        vertical-align: top;\n",
       "    }\n",
       "\n",
       "    .dataframe thead th {\n",
       "        text-align: right;\n",
       "    }\n",
       "</style>\n",
       "<table border=\"1\" class=\"dataframe\">\n",
       "  <thead>\n",
       "    <tr style=\"text-align: right;\">\n",
       "      <th></th>\n",
       "      <th>gender</th>\n",
       "      <th>race/ethnicity</th>\n",
       "      <th>parental level of education</th>\n",
       "      <th>lunch</th>\n",
       "      <th>test preparation course</th>\n",
       "      <th>math score</th>\n",
       "      <th>reading score</th>\n",
       "      <th>writing score</th>\n",
       "    </tr>\n",
       "  </thead>\n",
       "  <tbody>\n",
       "    <tr>\n",
       "      <th>0</th>\n",
       "      <td>female</td>\n",
       "      <td>group B</td>\n",
       "      <td>bachelor's degree</td>\n",
       "      <td>standard</td>\n",
       "      <td>none</td>\n",
       "      <td>72</td>\n",
       "      <td>72</td>\n",
       "      <td>74</td>\n",
       "    </tr>\n",
       "    <tr>\n",
       "      <th>1</th>\n",
       "      <td>female</td>\n",
       "      <td>group C</td>\n",
       "      <td>some college</td>\n",
       "      <td>standard</td>\n",
       "      <td>completed</td>\n",
       "      <td>69</td>\n",
       "      <td>90</td>\n",
       "      <td>88</td>\n",
       "    </tr>\n",
       "    <tr>\n",
       "      <th>2</th>\n",
       "      <td>female</td>\n",
       "      <td>group B</td>\n",
       "      <td>master's degree</td>\n",
       "      <td>standard</td>\n",
       "      <td>none</td>\n",
       "      <td>90</td>\n",
       "      <td>95</td>\n",
       "      <td>93</td>\n",
       "    </tr>\n",
       "    <tr>\n",
       "      <th>3</th>\n",
       "      <td>male</td>\n",
       "      <td>group A</td>\n",
       "      <td>associate's degree</td>\n",
       "      <td>free/reduced</td>\n",
       "      <td>none</td>\n",
       "      <td>47</td>\n",
       "      <td>57</td>\n",
       "      <td>44</td>\n",
       "    </tr>\n",
       "    <tr>\n",
       "      <th>4</th>\n",
       "      <td>male</td>\n",
       "      <td>group C</td>\n",
       "      <td>some college</td>\n",
       "      <td>standard</td>\n",
       "      <td>none</td>\n",
       "      <td>76</td>\n",
       "      <td>78</td>\n",
       "      <td>75</td>\n",
       "    </tr>\n",
       "    <tr>\n",
       "      <th>...</th>\n",
       "      <td>...</td>\n",
       "      <td>...</td>\n",
       "      <td>...</td>\n",
       "      <td>...</td>\n",
       "      <td>...</td>\n",
       "      <td>...</td>\n",
       "      <td>...</td>\n",
       "      <td>...</td>\n",
       "    </tr>\n",
       "    <tr>\n",
       "      <th>995</th>\n",
       "      <td>female</td>\n",
       "      <td>group E</td>\n",
       "      <td>master's degree</td>\n",
       "      <td>standard</td>\n",
       "      <td>completed</td>\n",
       "      <td>88</td>\n",
       "      <td>99</td>\n",
       "      <td>95</td>\n",
       "    </tr>\n",
       "    <tr>\n",
       "      <th>996</th>\n",
       "      <td>male</td>\n",
       "      <td>group C</td>\n",
       "      <td>high school</td>\n",
       "      <td>free/reduced</td>\n",
       "      <td>none</td>\n",
       "      <td>62</td>\n",
       "      <td>55</td>\n",
       "      <td>55</td>\n",
       "    </tr>\n",
       "    <tr>\n",
       "      <th>997</th>\n",
       "      <td>female</td>\n",
       "      <td>group C</td>\n",
       "      <td>high school</td>\n",
       "      <td>free/reduced</td>\n",
       "      <td>completed</td>\n",
       "      <td>59</td>\n",
       "      <td>71</td>\n",
       "      <td>65</td>\n",
       "    </tr>\n",
       "    <tr>\n",
       "      <th>998</th>\n",
       "      <td>female</td>\n",
       "      <td>group D</td>\n",
       "      <td>some college</td>\n",
       "      <td>standard</td>\n",
       "      <td>completed</td>\n",
       "      <td>68</td>\n",
       "      <td>78</td>\n",
       "      <td>77</td>\n",
       "    </tr>\n",
       "    <tr>\n",
       "      <th>999</th>\n",
       "      <td>female</td>\n",
       "      <td>group D</td>\n",
       "      <td>some college</td>\n",
       "      <td>free/reduced</td>\n",
       "      <td>none</td>\n",
       "      <td>77</td>\n",
       "      <td>86</td>\n",
       "      <td>86</td>\n",
       "    </tr>\n",
       "  </tbody>\n",
       "</table>\n",
       "<p>1000 rows × 8 columns</p>\n",
       "</div>"
      ]
     },
     "execution_count": 2,
     "metadata": {},
     "output_type": "execute_result"
    }
   ],
   "execution_count": 2
  },
  {
   "cell_type": "markdown",
   "metadata": {
    "id": "n_zoe5no81fB"
   },
   "source": [
    "## Задача 1\n",
    "\n",
    "Считаем девочек и мальчиков."
   ]
  },
  {
   "cell_type": "code",
   "metadata": {
    "id": "R1Wpb9yc81fC",
    "colab": {
     "base_uri": "https://localhost:8080/"
    },
    "outputId": "b3467fe1-f4ee-4da6-eeaa-6b750702e6a4",
    "ExecuteTime": {
     "end_time": "2024-05-10T10:21:49.395793Z",
     "start_time": "2024-05-10T10:21:49.389891Z"
    }
   },
   "source": [
    "# Считаем количество девочек и мальчиков\n",
    "gender_counts = df['gender'].value_counts()\n",
    "\n",
    "# Выводим результат\n",
    "print(\"Количество девочек и мальчиков:\")\n",
    "print(gender_counts)"
   ],
   "outputs": [
    {
     "name": "stdout",
     "output_type": "stream",
     "text": [
      "Количество девочек и мальчиков:\n",
      "gender\n",
      "female    518\n",
      "male      482\n",
      "Name: count, dtype: int64\n"
     ]
    }
   ],
   "execution_count": 3
  },
  {
   "cell_type": "markdown",
   "metadata": {
    "id": "PiestQ9m81fC"
   },
   "source": [
    "## Задача 2\n",
    "\n",
    "У скольких абитуриентов родители имеют диплом бакалавра (bachelor's degree)?\n",
    "\n",
    "Ответ в виде целого числа."
   ]
  },
  {
   "cell_type": "code",
   "metadata": {
    "id": "HMu6Xm1S81fC",
    "colab": {
     "base_uri": "https://localhost:8080/"
    },
    "outputId": "18962470-60fb-4ffd-dd10-213763fb6791",
    "ExecuteTime": {
     "end_time": "2024-05-10T10:21:49.407132Z",
     "start_time": "2024-05-10T10:21:49.397709Z"
    }
   },
   "source": [
    "# Подсчет количества абитуриентов, у которых родители имеют диплом бакалавра\n",
    "bachelors_count = df[df['parental level of education'] == \"bachelor's degree\"].shape[0]\n",
    "\n",
    "print(bachelors_count)"
   ],
   "outputs": [
    {
     "name": "stdout",
     "output_type": "stream",
     "text": [
      "118\n"
     ]
    }
   ],
   "execution_count": 4
  },
  {
   "cell_type": "markdown",
   "metadata": {
    "id": "cRlFR5-881fD"
   },
   "source": [
    "## Задача 3\n",
    "\n",
    "Сколько разных вариантов значений встречается в столбце \"parental level of education\"?\n",
    "\n",
    "Ответ в виде целого числа."
   ]
  },
  {
   "cell_type": "code",
   "metadata": {
    "id": "GdSHlOg881fD",
    "colab": {
     "base_uri": "https://localhost:8080/"
    },
    "outputId": "68278b55-872c-4765-adce-32cbd4da25f6",
    "ExecuteTime": {
     "end_time": "2024-05-10T10:21:49.419727Z",
     "start_time": "2024-05-10T10:21:49.412220Z"
    }
   },
   "source": [
    "unique_education_levels = df['parental level of education'].nunique()\n",
    "\n",
    "print(unique_education_levels)"
   ],
   "outputs": [
    {
     "name": "stdout",
     "output_type": "stream",
     "text": [
      "6\n"
     ]
    }
   ],
   "execution_count": 5
  },
  {
   "cell_type": "markdown",
   "metadata": {
    "id": "6AoG2FQG81fE"
   },
   "source": [
    "## Задача 4\n",
    "\n",
    "Сколько процентов абитуриентов полноценно пообедали перед экзаменом? (У скольких процентов абитуриентов значение столбца \"lunch\" = \"standard\").\n",
    "\n",
    "Ответ в виде десятичной дроби."
   ]
  },
  {
   "cell_type": "code",
   "metadata": {
    "id": "FjMYA4y581fE",
    "colab": {
     "base_uri": "https://localhost:8080/"
    },
    "outputId": "8698ceac-ece6-4bcb-a509-8613a2c8eb1a",
    "ExecuteTime": {
     "end_time": "2024-05-10T10:21:49.429976Z",
     "start_time": "2024-05-10T10:21:49.421514Z"
    }
   },
   "source": [
    "total_students = len(df)\n",
    "standard_lunch_count = len(df[df['lunch'] == 'standard'])\n",
    "\n",
    "percentage_standard_lunch = standard_lunch_count / total_students\n",
    "\n",
    "print(\"{:.2f}\".format(percentage_standard_lunch))"
   ],
   "outputs": [
    {
     "name": "stdout",
     "output_type": "stream",
     "text": [
      "0.65\n"
     ]
    }
   ],
   "execution_count": 6
  },
  {
   "cell_type": "markdown",
   "metadata": {
    "id": "uZhH9-kc81fE"
   },
   "source": [
    "## Задача 5\n",
    "\n",
    "Сколько абитуриентов относится к этнической группе \"group C\"?\n",
    "\n",
    "Ответ в виде целого числа."
   ]
  },
  {
   "cell_type": "code",
   "metadata": {
    "id": "fsjwCrTL81fF",
    "colab": {
     "base_uri": "https://localhost:8080/"
    },
    "outputId": "d95c4bd5-b3b4-4e58-f39e-6e62e42ba9c8",
    "ExecuteTime": {
     "end_time": "2024-05-10T10:21:49.438199Z",
     "start_time": "2024-05-10T10:21:49.432118Z"
    }
   },
   "source": [
    "group_c_count = len(df[df['race/ethnicity'] == 'group C'])\n",
    "\n",
    "print(group_c_count)"
   ],
   "outputs": [
    {
     "name": "stdout",
     "output_type": "stream",
     "text": [
      "319\n"
     ]
    }
   ],
   "execution_count": 7
  },
  {
   "cell_type": "markdown",
   "metadata": {
    "id": "_u0JHh4g81fF"
   },
   "source": [
    "### Задача 6\n",
    "\n",
    "Сколько разных этнических групп встречается в файле?\n",
    "\n",
    "Ответ в виде целого числа."
   ]
  },
  {
   "cell_type": "code",
   "metadata": {
    "id": "z9WI2q1i81fF",
    "colab": {
     "base_uri": "https://localhost:8080/"
    },
    "outputId": "d612963e-264b-4466-f56f-57b66fa1d552",
    "ExecuteTime": {
     "end_time": "2024-05-10T10:21:49.444665Z",
     "start_time": "2024-05-10T10:21:49.439998Z"
    }
   },
   "source": [
    "unique_ethnic_groups = df['race/ethnicity'].nunique()\n",
    "\n",
    "print(unique_ethnic_groups)"
   ],
   "outputs": [
    {
     "name": "stdout",
     "output_type": "stream",
     "text": [
      "5\n"
     ]
    }
   ],
   "execution_count": 8
  },
  {
   "cell_type": "markdown",
   "metadata": {
    "id": "11bFER0d81fF"
   },
   "source": [
    "### Задача 7\n",
    "\n",
    "Вычислите средний балл абитуриентов на экзамене по чтению (reading score).\n",
    "\n",
    "Ответ в виде одного числа."
   ]
  },
  {
   "cell_type": "code",
   "metadata": {
    "id": "rB6PMiA681fG",
    "colab": {
     "base_uri": "https://localhost:8080/"
    },
    "outputId": "7a543a6b-f625-46a8-e004-949d214a3ad8",
    "ExecuteTime": {
     "end_time": "2024-05-10T10:21:49.452235Z",
     "start_time": "2024-05-10T10:21:49.446734Z"
    }
   },
   "source": [
    "mean_reading_score = df['reading score'].mean()\n",
    "\n",
    "print(mean_reading_score)"
   ],
   "outputs": [
    {
     "name": "stdout",
     "output_type": "stream",
     "text": [
      "69.169\n"
     ]
    }
   ],
   "execution_count": 9
  },
  {
   "cell_type": "markdown",
   "metadata": {
    "id": "WkCYZQxD81fG"
   },
   "source": [
    "### Задача 8\n",
    "\n",
    "Сколько абитуриентов получили на экзамене по чтению (reading score) оценку ниже среднего?\n"
   ]
  },
  {
   "cell_type": "code",
   "metadata": {
    "id": "c3-sdh2Z81fG",
    "colab": {
     "base_uri": "https://localhost:8080/"
    },
    "outputId": "9225b89c-2b89-4b74-833b-5e856f623ccf",
    "ExecuteTime": {
     "end_time": "2024-05-10T10:21:49.460270Z",
     "start_time": "2024-05-10T10:21:49.454951Z"
    }
   },
   "source": [
    "mean_reading_score = df['reading score'].mean()\n",
    "below_average_reading_score = df[df['reading score'] < mean_reading_score]\n",
    "\n",
    "num_students_below_average = below_average_reading_score.shape[0]\n",
    "\n",
    "print(num_students_below_average)"
   ],
   "outputs": [
    {
     "name": "stdout",
     "output_type": "stream",
     "text": [
      "487\n"
     ]
    }
   ],
   "execution_count": 10
  },
  {
   "cell_type": "markdown",
   "metadata": {
    "id": "-NdD7YSp81fG"
   },
   "source": [
    "### Задача 9\n",
    "\n",
    "Какой средний балл на экзамене по чтению (reading score) получили девочки?\n",
    "\n",
    "Ответ округлите до трёх знаков после запятой."
   ]
  },
  {
   "cell_type": "code",
   "metadata": {
    "id": "CueHv6xN81fG",
    "colab": {
     "base_uri": "https://localhost:8080/"
    },
    "outputId": "90cada3e-3a47-4f4e-e825-d67f86b56d68",
    "ExecuteTime": {
     "end_time": "2024-05-10T10:21:49.470758Z",
     "start_time": "2024-05-10T10:21:49.462504Z"
    }
   },
   "source": [
    "mean_reading_score_girls = df[df['gender'] == 'female']['reading score'].mean()\n",
    "\n",
    "rounded_mean_reading_score_girls = round(mean_reading_score_girls, 3)\n",
    "\n",
    "print(rounded_mean_reading_score_girls)"
   ],
   "outputs": [
    {
     "name": "stdout",
     "output_type": "stream",
     "text": [
      "72.608\n"
     ]
    }
   ],
   "execution_count": 11
  },
  {
   "cell_type": "markdown",
   "metadata": {
    "id": "T6tPVoIW81fH"
   },
   "source": [
    "### Задача 10\n",
    "\n",
    "Сколько абитуриентов получили на экзамене по письму (writing score) оценку выше 90?"
   ]
  },
  {
   "cell_type": "code",
   "metadata": {
    "id": "0YZqsGkX81fH",
    "colab": {
     "base_uri": "https://localhost:8080/"
    },
    "outputId": "d7bdc453-036b-4b2b-f228-65bd355461ec",
    "ExecuteTime": {
     "end_time": "2024-05-10T10:21:49.480112Z",
     "start_time": "2024-05-10T10:21:49.473432Z"
    }
   },
   "source": [
    "writing_score_above_90 = df[df['writing score'] > 90]\n",
    "number_of_students = writing_score_above_90.shape[0]\n",
    "\n",
    "print(number_of_students)"
   ],
   "outputs": [
    {
     "name": "stdout",
     "output_type": "stream",
     "text": [
      "68\n"
     ]
    }
   ],
   "execution_count": 12
  },
  {
   "cell_type": "markdown",
   "metadata": {
    "id": "3OrnQLav81fH"
   },
   "source": [
    "### Задача 11\n",
    "\n",
    "Сколько процентов абитуриентов, получивших на экзамене по письму (writing score) оценку более 90, хорошо пообедали перед экзаменом (lunch = standard)?\n",
    "\n",
    "Ответ округлите до одного знака после запятой."
   ]
  },
  {
   "cell_type": "code",
   "metadata": {
    "id": "XPsbTEVg81fH",
    "colab": {
     "base_uri": "https://localhost:8080/"
    },
    "outputId": "d74a6e10-59c7-4deb-e8c9-8031ecf38c13",
    "ExecuteTime": {
     "end_time": "2024-05-10T10:21:49.491698Z",
     "start_time": "2024-05-10T10:21:49.482120Z"
    }
   },
   "source": [
    "writing_score_above_90 = df[(df['writing score'] > 90) & (df['lunch'] == 'standard')]\n",
    "\n",
    "percentage = len(writing_score_above_90) / len(df[df['writing score'] > 90]) * 100\n",
    "\n",
    "print(round(percentage, 1))"
   ],
   "outputs": [
    {
     "name": "stdout",
     "output_type": "stream",
     "text": [
      "86.8\n"
     ]
    }
   ],
   "execution_count": 13
  },
  {
   "cell_type": "markdown",
   "metadata": {
    "id": "TQXAdq7z81fH"
   },
   "source": [
    "### Задача 12\n",
    "\n",
    "Сколько мальчиков хорошо пообедали перед экзаменом (lunch = standard)?\n",
    "\n",
    "Ответ в виде одного числа."
   ]
  },
  {
   "cell_type": "code",
   "metadata": {
    "id": "KkYxnKH481fH",
    "colab": {
     "base_uri": "https://localhost:8080/"
    },
    "outputId": "0d59ca33-bcc5-405d-db14-45189ff16387",
    "ExecuteTime": {
     "end_time": "2024-05-10T10:21:49.502782Z",
     "start_time": "2024-05-10T10:21:49.497194Z"
    }
   },
   "source": [
    "good_lunch_boys = len(df[(df['gender'] == 'male') & (df['lunch'] == 'standard')])\n",
    "\n",
    "print(good_lunch_boys)"
   ],
   "outputs": [
    {
     "name": "stdout",
     "output_type": "stream",
     "text": [
      "316\n"
     ]
    }
   ],
   "execution_count": 14
  },
  {
   "cell_type": "markdown",
   "metadata": {
    "id": "CDJLaTIa81fH"
   },
   "source": [
    "### Задача 13\n",
    "\n",
    "Сколько мальчиков закончили подготовительные курсы (test preparation course = completed)?\n",
    "\n",
    "Ответ в виде одного числа."
   ]
  },
  {
   "cell_type": "code",
   "metadata": {
    "id": "FMHkqLsZ81fI",
    "colab": {
     "base_uri": "https://localhost:8080/"
    },
    "outputId": "955286f0-c7be-4296-a53f-6140fd9b953f",
    "ExecuteTime": {
     "end_time": "2024-05-10T10:21:49.512552Z",
     "start_time": "2024-05-10T10:21:49.504723Z"
    }
   },
   "source": [
    "completed_prep_courses_boys = len(df[(df['gender'] == 'male') & (df['test preparation course'] == 'completed')])\n",
    "\n",
    "print(completed_prep_courses_boys)"
   ],
   "outputs": [
    {
     "name": "stdout",
     "output_type": "stream",
     "text": [
      "174\n"
     ]
    }
   ],
   "execution_count": 15
  },
  {
   "cell_type": "markdown",
   "metadata": {
    "id": "6wBUK0C-81fI"
   },
   "source": [
    "### Задача 14\n",
    "\n",
    "У скольких девочек родители имеют степень магистра (parental level of education = master's degree)?\n",
    "\n",
    "Ответ в виде одного числа."
   ]
  },
  {
   "cell_type": "code",
   "metadata": {
    "id": "I1z__6Up81fI",
    "colab": {
     "base_uri": "https://localhost:8080/"
    },
    "outputId": "3120e218-0b4f-4e5a-d348-2576d8c65ea8",
    "ExecuteTime": {
     "end_time": "2024-05-10T10:21:49.524592Z",
     "start_time": "2024-05-10T10:21:49.517663Z"
    }
   },
   "source": [
    "girls_with_masters_parents = len(df[(df['gender'] == 'female') & (df['parental level of education'] == \"master's degree\")])\n",
    "\n",
    "print(girls_with_masters_parents)"
   ],
   "outputs": [
    {
     "name": "stdout",
     "output_type": "stream",
     "text": [
      "36\n"
     ]
    }
   ],
   "execution_count": 16
  },
  {
   "cell_type": "markdown",
   "metadata": {
    "id": "iQ2M9Tst81fI"
   },
   "source": [
    "### Задача 15\n",
    "\n",
    "Сколько абитуриентов, относящихся к этнической группе С, закончили подготовительные курсы?\n",
    "\n",
    "Ответ введите в виде одного числа."
   ]
  },
  {
   "cell_type": "code",
   "metadata": {
    "id": "1hAfKul681fJ",
    "colab": {
     "base_uri": "https://localhost:8080/"
    },
    "outputId": "29d40325-6ba6-42c8-c21d-2104f1d651f4",
    "ExecuteTime": {
     "end_time": "2024-05-10T10:21:49.534627Z",
     "start_time": "2024-05-10T10:21:49.527533Z"
    }
   },
   "source": [
    "group_c_prep = len(df[(df['race/ethnicity'] == 'group C') & (df['test preparation course'] == 'completed')])\n",
    "\n",
    "print(group_c_prep)"
   ],
   "outputs": [
    {
     "name": "stdout",
     "output_type": "stream",
     "text": [
      "117\n"
     ]
    }
   ],
   "execution_count": 17
  },
  {
   "cell_type": "markdown",
   "metadata": {
    "id": "gUGRdn6f81fJ"
   },
   "source": [
    "### Задача 16\n",
    "\n",
    "Сколько девочек, родители которых имеют степень магистра, набрали по математике больше 90 баллов?\n",
    "\n",
    "Ответ введите в виде одного числа."
   ]
  },
  {
   "cell_type": "code",
   "metadata": {
    "id": "6mGYOQBc81fJ",
    "colab": {
     "base_uri": "https://localhost:8080/"
    },
    "outputId": "e02f8aa2-2f55-44b3-9e90-5cad8f023ca5",
    "ExecuteTime": {
     "end_time": "2024-05-10T10:21:49.545323Z",
     "start_time": "2024-05-10T10:21:49.536879Z"
    }
   },
   "source": [
    "girls_master_90_math = len(df[(df['gender'] == 'female') & (df['parental level of education'] == \"master's degree\") & (df['math score'] > 90)])\n",
    "\n",
    "print(girls_master_90_math)\n"
   ],
   "outputs": [
    {
     "name": "stdout",
     "output_type": "stream",
     "text": [
      "2\n"
     ]
    }
   ],
   "execution_count": 18
  }
 ]
}
