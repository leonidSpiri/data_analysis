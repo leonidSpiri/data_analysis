{
 "nbformat": 4,
 "nbformat_minor": 0,
 "metadata": {
  "kernelspec": {
   "display_name": "Python 3",
   "language": "python",
   "name": "python3"
  },
  "language_info": {
   "codemirror_mode": {
    "name": "ipython",
    "version": 3
   },
   "file_extension": ".py",
   "mimetype": "text/x-python",
   "name": "python",
   "nbconvert_exporter": "python",
   "pygments_lexer": "ipython3",
   "version": "3.7.3"
  },
  "colab": {
   "provenance": [
    {
     "file_id": "1HSB53uE2xPTlaQfk3OPnUx3blCj39ppr",
     "timestamp": 1715331142880
    },
    {
     "file_id": "1nZ2_Xw5BiDNn0oEYVIMs2Q5BHCYuH1q3",
     "timestamp": 1714687832070
    },
    {
     "file_id": "1G1SBu2qYPU4m3c2Ri-UWV4S7-lQzWe08",
     "timestamp": 1673435962745
    },
    {
     "file_id": "1nPJCNRLkzG000N5EJN-P_uC_cyodYe7F",
     "timestamp": 1631212026399
    },
    {
     "file_id": "19KKwZ2EBeqinp8Y6GRD2y2tvit7HkDWb",
     "timestamp": 1631013405148
    }
   ]
  }
 },
 "cells": [
  {
   "cell_type": "markdown",
   "metadata": {
    "id": "YWjQJn-q-Wxv"
   },
   "source": [
    "# Задание 9. Про ЕГЭ"
   ]
  },
  {
   "cell_type": "markdown",
   "metadata": {
    "id": "DIFR-vKl-Wxw"
   },
   "source": [
    "В этом задании Вам предстоит выполнить роль аналитика данных в области образования.\n",
    "\n",
    "Заказчик (руководство вуза) предоставил обезличенные данные с баллами ЕГЭ студентов (`stud_spisok_ege.csv`) и сведения о баллах за контрольные работы (`stud_spisok_ball.csv`).\n",
    "\n",
    "Анализ этих данных позволит руководству вуза принимать обоснованные решения по повышению качества процесса обучения и выстраивать персональные образовательные маршруты (построить рекомендательную систему на основе искусственного интеллекта)."
   ]
  },
  {
   "cell_type": "code",
   "metadata": {
    "id": "9BcA82CY-Wxw",
    "outputId": "e76ceca0-1e87-4c59-ff20-4b1c52991733",
    "colab": {
     "base_uri": "https://localhost:8080/",
     "height": 206
    },
    "executionInfo": {
     "status": "ok",
     "timestamp": 1715331214819,
     "user_tz": -180,
     "elapsed": 629,
     "user": {
      "displayName": "Денис Н",
      "userId": "05703602284528533401"
     }
    },
    "ExecuteTime": {
     "end_time": "2024-05-16T22:51:26.137813Z",
     "start_time": "2024-05-16T22:51:25.539695Z"
    }
   },
   "source": [
    "import pandas as pd\n",
    "\n",
    "url = \"https://raw.githubusercontent.com/dm-fedorov/pandas_basic/master/data/data_stud/stud_spisok_ege.csv\"\n",
    "\n",
    "df_1 = pd.read_csv(url, sep=';')\n",
    "df_1.head()"
   ],
   "outputs": [
    {
     "data": {
      "text/plain": [
       "   stud_kod     predmet_name  ball  year    svid_status\n",
       "0     50095     Русский язык    76  2013  Действительно\n",
       "1     50095  Английский язык    94  2013  Действительно\n",
       "2     50095       Математика    56  2013  Действительно\n",
       "3     50095   Обществознание    70  2013  Действительно\n",
       "4     50104     Русский язык    72  2013  Действительно"
      ],
      "text/html": [
       "<div>\n",
       "<style scoped>\n",
       "    .dataframe tbody tr th:only-of-type {\n",
       "        vertical-align: middle;\n",
       "    }\n",
       "\n",
       "    .dataframe tbody tr th {\n",
       "        vertical-align: top;\n",
       "    }\n",
       "\n",
       "    .dataframe thead th {\n",
       "        text-align: right;\n",
       "    }\n",
       "</style>\n",
       "<table border=\"1\" class=\"dataframe\">\n",
       "  <thead>\n",
       "    <tr style=\"text-align: right;\">\n",
       "      <th></th>\n",
       "      <th>stud_kod</th>\n",
       "      <th>predmet_name</th>\n",
       "      <th>ball</th>\n",
       "      <th>year</th>\n",
       "      <th>svid_status</th>\n",
       "    </tr>\n",
       "  </thead>\n",
       "  <tbody>\n",
       "    <tr>\n",
       "      <th>0</th>\n",
       "      <td>50095</td>\n",
       "      <td>Русский язык</td>\n",
       "      <td>76</td>\n",
       "      <td>2013</td>\n",
       "      <td>Действительно</td>\n",
       "    </tr>\n",
       "    <tr>\n",
       "      <th>1</th>\n",
       "      <td>50095</td>\n",
       "      <td>Английский язык</td>\n",
       "      <td>94</td>\n",
       "      <td>2013</td>\n",
       "      <td>Действительно</td>\n",
       "    </tr>\n",
       "    <tr>\n",
       "      <th>2</th>\n",
       "      <td>50095</td>\n",
       "      <td>Математика</td>\n",
       "      <td>56</td>\n",
       "      <td>2013</td>\n",
       "      <td>Действительно</td>\n",
       "    </tr>\n",
       "    <tr>\n",
       "      <th>3</th>\n",
       "      <td>50095</td>\n",
       "      <td>Обществознание</td>\n",
       "      <td>70</td>\n",
       "      <td>2013</td>\n",
       "      <td>Действительно</td>\n",
       "    </tr>\n",
       "    <tr>\n",
       "      <th>4</th>\n",
       "      <td>50104</td>\n",
       "      <td>Русский язык</td>\n",
       "      <td>72</td>\n",
       "      <td>2013</td>\n",
       "      <td>Действительно</td>\n",
       "    </tr>\n",
       "  </tbody>\n",
       "</table>\n",
       "</div>"
      ]
     },
     "execution_count": 1,
     "metadata": {},
     "output_type": "execute_result"
    }
   ],
   "execution_count": 1
  },
  {
   "cell_type": "markdown",
   "metadata": {
    "id": "3_itlQHP-Wxw"
   },
   "source": [
    "- `stud_kod` - идентификатор студента\n",
    "- `predmet_name` - имя предмета\n",
    "- `ball` - балл\n",
    "- `year` - год сдачи\n",
    "- `svid_status` - статус свидетельства о сдаче ЕГЭ"
   ]
  },
  {
   "cell_type": "code",
   "metadata": {
    "id": "QDRqp-zd-Wxx",
    "outputId": "3eff2dc8-2b7e-4366-bfc6-ae26f6ab109c",
    "colab": {
     "base_uri": "https://localhost:8080/",
     "height": 206
    },
    "executionInfo": {
     "status": "ok",
     "timestamp": 1715331215794,
     "user_tz": -180,
     "elapsed": 981,
     "user": {
      "displayName": "Денис Н",
      "userId": "05703602284528533401"
     }
    },
    "ExecuteTime": {
     "end_time": "2024-05-16T22:51:27.501641Z",
     "start_time": "2024-05-16T22:51:26.141613Z"
    }
   },
   "source": [
    "url = \"https://raw.githubusercontent.com/dm-fedorov/pandas_basic/master/data/data_stud/stud_spisok_ball.csv\"\n",
    "\n",
    "df_2 = pd.read_csv(url, sep=';')\n",
    "df_2.head()"
   ],
   "outputs": [
    {
     "data": {
      "text/plain": [
       "   stud_kod  uch_plan_kod predmet_name ball         ts  cd_nomer  semestr  \\\n",
       "0         8             1      История   25  25-дек-11         1        1   \n",
       "1         8             1      История   30  25-дек-11         2        1   \n",
       "2         8             1      История   45        NaN         3        1   \n",
       "3         8             1    Философия   15  30-апр-15         2        1   \n",
       "4         8             1    Философия   18  30-апр-15         1        1   \n",
       "\n",
       "           cd_type_name  uch_plan_punkt_kod  \n",
       "0                  Эссе                 255  \n",
       "1           Презентация                 255  \n",
       "2  Аналитическая работа                 255  \n",
       "3               Реферат                 293  \n",
       "4  Аналитическая работа                 293  "
      ],
      "text/html": [
       "<div>\n",
       "<style scoped>\n",
       "    .dataframe tbody tr th:only-of-type {\n",
       "        vertical-align: middle;\n",
       "    }\n",
       "\n",
       "    .dataframe tbody tr th {\n",
       "        vertical-align: top;\n",
       "    }\n",
       "\n",
       "    .dataframe thead th {\n",
       "        text-align: right;\n",
       "    }\n",
       "</style>\n",
       "<table border=\"1\" class=\"dataframe\">\n",
       "  <thead>\n",
       "    <tr style=\"text-align: right;\">\n",
       "      <th></th>\n",
       "      <th>stud_kod</th>\n",
       "      <th>uch_plan_kod</th>\n",
       "      <th>predmet_name</th>\n",
       "      <th>ball</th>\n",
       "      <th>ts</th>\n",
       "      <th>cd_nomer</th>\n",
       "      <th>semestr</th>\n",
       "      <th>cd_type_name</th>\n",
       "      <th>uch_plan_punkt_kod</th>\n",
       "    </tr>\n",
       "  </thead>\n",
       "  <tbody>\n",
       "    <tr>\n",
       "      <th>0</th>\n",
       "      <td>8</td>\n",
       "      <td>1</td>\n",
       "      <td>История</td>\n",
       "      <td>25</td>\n",
       "      <td>25-дек-11</td>\n",
       "      <td>1</td>\n",
       "      <td>1</td>\n",
       "      <td>Эссе</td>\n",
       "      <td>255</td>\n",
       "    </tr>\n",
       "    <tr>\n",
       "      <th>1</th>\n",
       "      <td>8</td>\n",
       "      <td>1</td>\n",
       "      <td>История</td>\n",
       "      <td>30</td>\n",
       "      <td>25-дек-11</td>\n",
       "      <td>2</td>\n",
       "      <td>1</td>\n",
       "      <td>Презентация</td>\n",
       "      <td>255</td>\n",
       "    </tr>\n",
       "    <tr>\n",
       "      <th>2</th>\n",
       "      <td>8</td>\n",
       "      <td>1</td>\n",
       "      <td>История</td>\n",
       "      <td>45</td>\n",
       "      <td>NaN</td>\n",
       "      <td>3</td>\n",
       "      <td>1</td>\n",
       "      <td>Аналитическая работа</td>\n",
       "      <td>255</td>\n",
       "    </tr>\n",
       "    <tr>\n",
       "      <th>3</th>\n",
       "      <td>8</td>\n",
       "      <td>1</td>\n",
       "      <td>Философия</td>\n",
       "      <td>15</td>\n",
       "      <td>30-апр-15</td>\n",
       "      <td>2</td>\n",
       "      <td>1</td>\n",
       "      <td>Реферат</td>\n",
       "      <td>293</td>\n",
       "    </tr>\n",
       "    <tr>\n",
       "      <th>4</th>\n",
       "      <td>8</td>\n",
       "      <td>1</td>\n",
       "      <td>Философия</td>\n",
       "      <td>18</td>\n",
       "      <td>30-апр-15</td>\n",
       "      <td>1</td>\n",
       "      <td>1</td>\n",
       "      <td>Аналитическая работа</td>\n",
       "      <td>293</td>\n",
       "    </tr>\n",
       "  </tbody>\n",
       "</table>\n",
       "</div>"
      ]
     },
     "execution_count": 2,
     "metadata": {},
     "output_type": "execute_result"
    }
   ],
   "execution_count": 2
  },
  {
   "cell_type": "markdown",
   "metadata": {
    "id": "_DmX00oY-Wxx"
   },
   "source": [
    "- `stud_kod` - идентификатор студента\n",
    "- `uch_plan_kod` - внутренний код учебного плана\n",
    "- `predmet_name` - имя дисциплины по учебному плану\n",
    "- `ball` - балл за контрольную работу\n",
    "- `ts` - время, когда оценка внесена в систему\n",
    "- `cd_nomer` - номер контрольной работы, если их несколько за семестр\n",
    "- `semestr` - семестр\n",
    "- `cd_type_name` - вид контрольной работы\n",
    "- `uch_plan_punkt_kod` - идентификатор учебного плана"
   ]
  },
  {
   "cell_type": "code",
   "source": [
    "#df_2.dtypes"
   ],
   "metadata": {
    "id": "qVryLYWLZsF6",
    "executionInfo": {
     "status": "ok",
     "timestamp": 1715331215795,
     "user_tz": -180,
     "elapsed": 36,
     "user": {
      "displayName": "Денис Н",
      "userId": "05703602284528533401"
     }
    },
    "ExecuteTime": {
     "end_time": "2024-05-16T22:51:27.507712Z",
     "start_time": "2024-05-16T22:51:27.503730Z"
    }
   },
   "outputs": [],
   "execution_count": 3
  },
  {
   "cell_type": "markdown",
   "metadata": {
    "id": "jeN5RYsA-Wxy"
   },
   "source": [
    "**Задача 1**: определите, всего сколько студентов представлено в наборе данных."
   ]
  },
  {
   "cell_type": "code",
   "source": [
    "df_1['stud_kod'].nunique() + df_2['stud_kod'].nunique()"
   ],
   "metadata": {
    "id": "fr3BPsgwVkuo",
    "colab": {
     "base_uri": "https://localhost:8080/"
    },
    "executionInfo": {
     "status": "ok",
     "timestamp": 1715331215796,
     "user_tz": -180,
     "elapsed": 37,
     "user": {
      "displayName": "Денис Н",
      "userId": "05703602284528533401"
     }
    },
    "outputId": "4be9b4e8-46eb-4926-9d95-113d7b5c1724",
    "ExecuteTime": {
     "end_time": "2024-05-16T22:51:27.523861Z",
     "start_time": "2024-05-16T22:51:27.510542Z"
    }
   },
   "outputs": [
    {
     "data": {
      "text/plain": [
       "3286"
      ]
     },
     "execution_count": 4,
     "metadata": {},
     "output_type": "execute_result"
    }
   ],
   "execution_count": 4
  },
  {
   "cell_type": "markdown",
   "metadata": {
    "id": "sUw3jad0-Wxy"
   },
   "source": [
    "**Задача 2**: определите по данным ЕГЭ те предметы, которые чаще всего сдают абитуренты в этом вузе."
   ]
  },
  {
   "cell_type": "code",
   "source": [
    "df_1['predmet_name'].value_counts().idxmax()"
   ],
   "metadata": {
    "id": "VWIKoB9jVjAl",
    "colab": {
     "base_uri": "https://localhost:8080/",
     "height": 36
    },
    "executionInfo": {
     "status": "ok",
     "timestamp": 1715331215797,
     "user_tz": -180,
     "elapsed": 35,
     "user": {
      "displayName": "Денис Н",
      "userId": "05703602284528533401"
     }
    },
    "outputId": "df0b454e-61bf-4dd8-f1f9-50a7069a666a",
    "ExecuteTime": {
     "end_time": "2024-05-16T22:51:27.539291Z",
     "start_time": "2024-05-16T22:51:27.525669Z"
    }
   },
   "outputs": [
    {
     "data": {
      "text/plain": [
       "'Математика'"
      ]
     },
     "execution_count": 5,
     "metadata": {},
     "output_type": "execute_result"
    }
   ],
   "execution_count": 5
  },
  {
   "cell_type": "markdown",
   "metadata": {
    "id": "07TIyKrR-Wxy"
   },
   "source": [
    "**Задача 3**: определите средние, минимальные и максимальные баллы ЕГЭ по отдельным предметам."
   ]
  },
  {
   "cell_type": "code",
   "source": [
    "subject_stats = df_1.groupby('predmet_name')['ball'].agg(['mean', 'min', 'max'])\n",
    "subject_stats"
   ],
   "metadata": {
    "id": "JKBqp9IzVhVu",
    "colab": {
     "base_uri": "https://localhost:8080/",
     "height": 582
    },
    "executionInfo": {
     "status": "ok",
     "timestamp": 1715331215797,
     "user_tz": -180,
     "elapsed": 34,
     "user": {
      "displayName": "Денис Н",
      "userId": "05703602284528533401"
     }
    },
    "outputId": "ed27451a-72ca-44f9-e669-1b1e364b0c54",
    "ExecuteTime": {
     "end_time": "2024-05-16T22:51:27.568096Z",
     "start_time": "2024-05-16T22:51:27.542900Z"
    }
   },
   "outputs": [
    {
     "data": {
      "text/plain": [
       "                               mean  min  max\n",
       "predmet_name                                 \n",
       "Английский язык           69.949640    0  100\n",
       "Английский язык (устный)   0.000000    0    0\n",
       "Биология                  55.557377    0   93\n",
       "География                 64.333333   37   85\n",
       "Информатика и ИКТ         62.481928    0   94\n",
       "История                   59.945402    0  100\n",
       "Литература                63.283333    0   87\n",
       "Математика                64.135454    0  100\n",
       "Немецкий язык             66.285714   23   90\n",
       "Немецкий язык (устный)     0.000000    0    0\n",
       "Обществознание            71.406528    0  100\n",
       "Русский язык              79.134975    0  100\n",
       "Сочинение                  0.998465    0    1\n",
       "Физика                    53.458824    0   96\n",
       "Французский язык          71.636364   44   92\n",
       "Химия                     55.000000    0   98"
      ],
      "text/html": [
       "<div>\n",
       "<style scoped>\n",
       "    .dataframe tbody tr th:only-of-type {\n",
       "        vertical-align: middle;\n",
       "    }\n",
       "\n",
       "    .dataframe tbody tr th {\n",
       "        vertical-align: top;\n",
       "    }\n",
       "\n",
       "    .dataframe thead th {\n",
       "        text-align: right;\n",
       "    }\n",
       "</style>\n",
       "<table border=\"1\" class=\"dataframe\">\n",
       "  <thead>\n",
       "    <tr style=\"text-align: right;\">\n",
       "      <th></th>\n",
       "      <th>mean</th>\n",
       "      <th>min</th>\n",
       "      <th>max</th>\n",
       "    </tr>\n",
       "    <tr>\n",
       "      <th>predmet_name</th>\n",
       "      <th></th>\n",
       "      <th></th>\n",
       "      <th></th>\n",
       "    </tr>\n",
       "  </thead>\n",
       "  <tbody>\n",
       "    <tr>\n",
       "      <th>Английский язык</th>\n",
       "      <td>69.949640</td>\n",
       "      <td>0</td>\n",
       "      <td>100</td>\n",
       "    </tr>\n",
       "    <tr>\n",
       "      <th>Английский язык (устный)</th>\n",
       "      <td>0.000000</td>\n",
       "      <td>0</td>\n",
       "      <td>0</td>\n",
       "    </tr>\n",
       "    <tr>\n",
       "      <th>Биология</th>\n",
       "      <td>55.557377</td>\n",
       "      <td>0</td>\n",
       "      <td>93</td>\n",
       "    </tr>\n",
       "    <tr>\n",
       "      <th>География</th>\n",
       "      <td>64.333333</td>\n",
       "      <td>37</td>\n",
       "      <td>85</td>\n",
       "    </tr>\n",
       "    <tr>\n",
       "      <th>Информатика и ИКТ</th>\n",
       "      <td>62.481928</td>\n",
       "      <td>0</td>\n",
       "      <td>94</td>\n",
       "    </tr>\n",
       "    <tr>\n",
       "      <th>История</th>\n",
       "      <td>59.945402</td>\n",
       "      <td>0</td>\n",
       "      <td>100</td>\n",
       "    </tr>\n",
       "    <tr>\n",
       "      <th>Литература</th>\n",
       "      <td>63.283333</td>\n",
       "      <td>0</td>\n",
       "      <td>87</td>\n",
       "    </tr>\n",
       "    <tr>\n",
       "      <th>Математика</th>\n",
       "      <td>64.135454</td>\n",
       "      <td>0</td>\n",
       "      <td>100</td>\n",
       "    </tr>\n",
       "    <tr>\n",
       "      <th>Немецкий язык</th>\n",
       "      <td>66.285714</td>\n",
       "      <td>23</td>\n",
       "      <td>90</td>\n",
       "    </tr>\n",
       "    <tr>\n",
       "      <th>Немецкий язык (устный)</th>\n",
       "      <td>0.000000</td>\n",
       "      <td>0</td>\n",
       "      <td>0</td>\n",
       "    </tr>\n",
       "    <tr>\n",
       "      <th>Обществознание</th>\n",
       "      <td>71.406528</td>\n",
       "      <td>0</td>\n",
       "      <td>100</td>\n",
       "    </tr>\n",
       "    <tr>\n",
       "      <th>Русский язык</th>\n",
       "      <td>79.134975</td>\n",
       "      <td>0</td>\n",
       "      <td>100</td>\n",
       "    </tr>\n",
       "    <tr>\n",
       "      <th>Сочинение</th>\n",
       "      <td>0.998465</td>\n",
       "      <td>0</td>\n",
       "      <td>1</td>\n",
       "    </tr>\n",
       "    <tr>\n",
       "      <th>Физика</th>\n",
       "      <td>53.458824</td>\n",
       "      <td>0</td>\n",
       "      <td>96</td>\n",
       "    </tr>\n",
       "    <tr>\n",
       "      <th>Французский язык</th>\n",
       "      <td>71.636364</td>\n",
       "      <td>44</td>\n",
       "      <td>92</td>\n",
       "    </tr>\n",
       "    <tr>\n",
       "      <th>Химия</th>\n",
       "      <td>55.000000</td>\n",
       "      <td>0</td>\n",
       "      <td>98</td>\n",
       "    </tr>\n",
       "  </tbody>\n",
       "</table>\n",
       "</div>"
      ]
     },
     "execution_count": 6,
     "metadata": {},
     "output_type": "execute_result"
    }
   ],
   "execution_count": 6
  },
  {
   "cell_type": "markdown",
   "metadata": {
    "id": "VOX3X_xo-Wxz"
   },
   "source": [
    "**Задача 4**: определите годы с максимальными и минимальными показателями ЕГЭ."
   ]
  },
  {
   "cell_type": "code",
   "source": [
    "yearly_stats = df_1.groupby('year')['ball'].mean()\n",
    "max_year = yearly_stats.idxmax()\n",
    "min_year = yearly_stats.idxmin()\n",
    "max_year, min_year"
   ],
   "metadata": {
    "id": "Hnz_4C3dVfjV",
    "colab": {
     "base_uri": "https://localhost:8080/"
    },
    "executionInfo": {
     "status": "ok",
     "timestamp": 1715331215797,
     "user_tz": -180,
     "elapsed": 32,
     "user": {
      "displayName": "Денис Н",
      "userId": "05703602284528533401"
     }
    },
    "outputId": "ee50f961-d0d2-4847-fb61-8a54c40c74b8",
    "ExecuteTime": {
     "end_time": "2024-05-16T22:51:27.580814Z",
     "start_time": "2024-05-16T22:51:27.572906Z"
    }
   },
   "outputs": [
    {
     "data": {
      "text/plain": [
       "(2013, 2009)"
      ]
     },
     "execution_count": 7,
     "metadata": {},
     "output_type": "execute_result"
    }
   ],
   "execution_count": 7
  },
  {
   "cell_type": "markdown",
   "metadata": {
    "id": "4c5yGwGR-Wxz"
   },
   "source": [
    "**Задача 5**: определите наиболее часто встречающийся вид контрольной работы в вузе."
   ]
  },
  {
   "cell_type": "code",
   "source": [
    "df_2['cd_type_name'].value_counts().idxmax()"
   ],
   "metadata": {
    "id": "ilQ83Fr2VdzU",
    "colab": {
     "base_uri": "https://localhost:8080/",
     "height": 36
    },
    "executionInfo": {
     "status": "ok",
     "timestamp": 1715331215797,
     "user_tz": -180,
     "elapsed": 30,
     "user": {
      "displayName": "Денис Н",
      "userId": "05703602284528533401"
     }
    },
    "outputId": "f834d4be-2beb-4066-ecb1-9bae075a02ea",
    "ExecuteTime": {
     "end_time": "2024-05-16T22:51:27.598568Z",
     "start_time": "2024-05-16T22:51:27.583059Z"
    }
   },
   "outputs": [
    {
     "data": {
      "text/plain": [
       "'Контрольная работа'"
      ]
     },
     "execution_count": 8,
     "metadata": {},
     "output_type": "execute_result"
    }
   ],
   "execution_count": 8
  },
  {
   "cell_type": "markdown",
   "metadata": {
    "id": "gmA0flKt-Wx0"
   },
   "source": [
    "**Задача 6**: определите дисциплину(ы), вызвавшую наибольшие сложности у студентов.\n",
    "\n",
    "Это позволит усилить подготовку по данным дисциплинам через внедрение факультативных занятий."
   ]
  },
  {
   "cell_type": "code",
   "source": [
    "df_2['ball'] = df_2['ball'].str.replace(',', '.')\n",
    "df_2['ball_numeric'] = pd.to_numeric(df_2['ball'], errors='coerce')\n",
    "df_2.groupby('predmet_name')['ball_numeric'].mean().idxmin()"
   ],
   "metadata": {
    "id": "ajawgv_SVeZR",
    "colab": {
     "base_uri": "https://localhost:8080/",
     "height": 36
    },
    "executionInfo": {
     "status": "ok",
     "timestamp": 1715331215798,
     "user_tz": -180,
     "elapsed": 27,
     "user": {
      "displayName": "Денис Н",
      "userId": "05703602284528533401"
     }
    },
    "outputId": "f53231df-c402-4ee3-c22a-e81cb2b5f468",
    "ExecuteTime": {
     "end_time": "2024-05-16T22:51:27.680160Z",
     "start_time": "2024-05-16T22:51:27.600820Z"
    }
   },
   "outputs": [
    {
     "data": {
      "text/plain": [
       "'Иностранный язык профессиональный'"
      ]
     },
     "execution_count": 9,
     "metadata": {},
     "output_type": "execute_result"
    }
   ],
   "execution_count": 9
  },
  {
   "cell_type": "markdown",
   "metadata": {
    "id": "0mI0yDkQ-Wx0"
   },
   "source": [
    "**Задача 7**: определите отстающих студентов (претендентов на отчисление)."
   ]
  },
  {
   "cell_type": "code",
   "metadata": {
    "id": "W16XN_yy-Wx0",
    "colab": {
     "base_uri": "https://localhost:8080/"
    },
    "executionInfo": {
     "status": "ok",
     "timestamp": 1715331215799,
     "user_tz": -180,
     "elapsed": 26,
     "user": {
      "displayName": "Денис Н",
      "userId": "05703602284528533401"
     }
    },
    "outputId": "5bb67064-5c8c-4029-9e5c-4c91ae7e011d",
    "ExecuteTime": {
     "end_time": "2024-05-16T22:51:27.694671Z",
     "start_time": "2024-05-16T22:51:27.683512Z"
    }
   },
   "source": [
    "# Пусть претенденты на отчисление те, у кого меньше 50 баллов\n",
    "average_scores_2 = df_2.groupby('stud_kod')['ball_numeric'].mean()\n",
    "average_scores_2[average_scores_2 < 50]"
   ],
   "outputs": [
    {
     "data": {
      "text/plain": [
       "stud_kod\n",
       "8       21.322347\n",
       "9       20.133600\n",
       "21      18.537643\n",
       "55      16.510554\n",
       "70      18.049667\n",
       "          ...    \n",
       "2633    21.443063\n",
       "2642    23.023891\n",
       "2653    14.355080\n",
       "2663    19.482314\n",
       "2682    16.209921\n",
       "Name: ball_numeric, Length: 285, dtype: float64"
      ]
     },
     "execution_count": 10,
     "metadata": {},
     "output_type": "execute_result"
    }
   ],
   "execution_count": 10
  },
  {
   "cell_type": "markdown",
   "metadata": {
    "id": "gWH4pae8-Wx0"
   },
   "source": [
    "**Задача 8**: определите семестр, наиболее сложный для отдельных (выбранных) студентов."
   ]
  },
  {
   "cell_type": "code",
   "metadata": {
    "id": "9KAGI5WI-Wx0",
    "colab": {
     "base_uri": "https://localhost:8080/",
     "height": 423
    },
    "executionInfo": {
     "status": "ok",
     "timestamp": 1715331216491,
     "user_tz": -180,
     "elapsed": 716,
     "user": {
      "displayName": "Денис Н",
      "userId": "05703602284528533401"
     }
    },
    "outputId": "bfafe837-3f71-43ca-8480-65aa1b88405e",
    "ExecuteTime": {
     "end_time": "2024-05-16T22:51:27.740274Z",
     "start_time": "2024-05-16T22:51:27.697159Z"
    }
   },
   "source": [
    "average_scores_by_semester = df_2.groupby(['stud_kod', 'semestr'])['ball_numeric'].mean().reset_index()\n",
    "average_scores_by_semester.loc[average_scores_by_semester.groupby('stud_kod')['ball_numeric'].idxmin()]"
   ],
   "outputs": [
    {
     "data": {
      "text/plain": [
       "      stud_kod  semestr  ball_numeric\n",
       "5            8        6     18.178571\n",
       "12           9        5     17.612903\n",
       "17          21        2     15.109730\n",
       "29          55        6     13.907407\n",
       "37          70        6     15.081481\n",
       "...        ...      ...           ...\n",
       "2200      2633        2     18.794324\n",
       "2208      2642        2     19.689459\n",
       "2219      2653        5      4.400000\n",
       "2225      2663        6     15.478571\n",
       "2229      2682        2     15.133056\n",
       "\n",
       "[285 rows x 3 columns]"
      ],
      "text/html": [
       "<div>\n",
       "<style scoped>\n",
       "    .dataframe tbody tr th:only-of-type {\n",
       "        vertical-align: middle;\n",
       "    }\n",
       "\n",
       "    .dataframe tbody tr th {\n",
       "        vertical-align: top;\n",
       "    }\n",
       "\n",
       "    .dataframe thead th {\n",
       "        text-align: right;\n",
       "    }\n",
       "</style>\n",
       "<table border=\"1\" class=\"dataframe\">\n",
       "  <thead>\n",
       "    <tr style=\"text-align: right;\">\n",
       "      <th></th>\n",
       "      <th>stud_kod</th>\n",
       "      <th>semestr</th>\n",
       "      <th>ball_numeric</th>\n",
       "    </tr>\n",
       "  </thead>\n",
       "  <tbody>\n",
       "    <tr>\n",
       "      <th>5</th>\n",
       "      <td>8</td>\n",
       "      <td>6</td>\n",
       "      <td>18.178571</td>\n",
       "    </tr>\n",
       "    <tr>\n",
       "      <th>12</th>\n",
       "      <td>9</td>\n",
       "      <td>5</td>\n",
       "      <td>17.612903</td>\n",
       "    </tr>\n",
       "    <tr>\n",
       "      <th>17</th>\n",
       "      <td>21</td>\n",
       "      <td>2</td>\n",
       "      <td>15.109730</td>\n",
       "    </tr>\n",
       "    <tr>\n",
       "      <th>29</th>\n",
       "      <td>55</td>\n",
       "      <td>6</td>\n",
       "      <td>13.907407</td>\n",
       "    </tr>\n",
       "    <tr>\n",
       "      <th>37</th>\n",
       "      <td>70</td>\n",
       "      <td>6</td>\n",
       "      <td>15.081481</td>\n",
       "    </tr>\n",
       "    <tr>\n",
       "      <th>...</th>\n",
       "      <td>...</td>\n",
       "      <td>...</td>\n",
       "      <td>...</td>\n",
       "    </tr>\n",
       "    <tr>\n",
       "      <th>2200</th>\n",
       "      <td>2633</td>\n",
       "      <td>2</td>\n",
       "      <td>18.794324</td>\n",
       "    </tr>\n",
       "    <tr>\n",
       "      <th>2208</th>\n",
       "      <td>2642</td>\n",
       "      <td>2</td>\n",
       "      <td>19.689459</td>\n",
       "    </tr>\n",
       "    <tr>\n",
       "      <th>2219</th>\n",
       "      <td>2653</td>\n",
       "      <td>5</td>\n",
       "      <td>4.400000</td>\n",
       "    </tr>\n",
       "    <tr>\n",
       "      <th>2225</th>\n",
       "      <td>2663</td>\n",
       "      <td>6</td>\n",
       "      <td>15.478571</td>\n",
       "    </tr>\n",
       "    <tr>\n",
       "      <th>2229</th>\n",
       "      <td>2682</td>\n",
       "      <td>2</td>\n",
       "      <td>15.133056</td>\n",
       "    </tr>\n",
       "  </tbody>\n",
       "</table>\n",
       "<p>285 rows × 3 columns</p>\n",
       "</div>"
      ]
     },
     "execution_count": 11,
     "metadata": {},
     "output_type": "execute_result"
    }
   ],
   "execution_count": 11
  }
 ]
}
