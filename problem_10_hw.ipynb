{
 "nbformat": 4,
 "nbformat_minor": 0,
 "metadata": {
  "colab": {
   "provenance": [
    {
     "file_id": "17o3tHTljzERPJuMUh9Qv4ay3pz5CjRoD",
     "timestamp": 1702645213784
    },
    {
     "file_id": "1m2bxnGZ2edrWN6UeV4UbM-ajZsVkV2CZ",
     "timestamp": 1702139281462
    },
    {
     "file_id": "1O-hJuicdJTiKUrIO9ucXBIpDZB2S9xXD",
     "timestamp": 1699968008993
    }
   ]
  },
  "kernelspec": {
   "name": "python3",
   "language": "python",
   "display_name": "Python 3 (ipykernel)"
  },
  "language_info": {
   "name": "python"
  }
 },
 "cells": [
  {
   "cell_type": "code",
   "execution_count": 55,
   "metadata": {
    "id": "6qzWuqT5mwq_",
    "ExecuteTime": {
     "end_time": "2023-12-21T12:40:04.170032Z",
     "start_time": "2023-12-21T12:40:04.043953Z"
    }
   },
   "outputs": [],
   "source": [
    "import numpy as np\n",
    "import pandas as pd\n",
    "import sklearn.linear_model as slm\n",
    "import sklearn.model_selection as sms\n",
    "from numpy import set_printoptions"
   ]
  },
  {
   "cell_type": "code",
   "source": [
    "filename = 'data/pima-indians-diabetes.data.csv'\n",
    "names = ['preg', 'plas', 'pres', 'skin', 'test', 'mass', 'pedi', 'age', 'class']\n",
    "data = pd.read_csv(filename, names = names)\n",
    "data.head()\n",
    "pd.set_option('display.precision',3)\n",
    "print(data.head(10))\n",
    "set_printoptions(precision = 3)"
   ],
   "metadata": {
    "colab": {
     "base_uri": "https://localhost:8080/"
    },
    "id": "256Z0pXon1y0",
    "executionInfo": {
     "status": "ok",
     "timestamp": 1702488548473,
     "user_tz": -180,
     "elapsed": 746,
     "user": {
      "displayName": "Софья Тарасова",
      "userId": "10876662613223961281"
     }
    },
    "outputId": "03083053-875b-4b8e-9030-6735e1933a23",
    "ExecuteTime": {
     "end_time": "2023-12-21T12:40:04.260624Z",
     "start_time": "2023-12-21T12:40:04.176394Z"
    }
   },
   "execution_count": 56,
   "outputs": [
    {
     "name": "stdout",
     "output_type": "stream",
     "text": [
      "   preg  plas  pres  skin  test  mass   pedi  age  class\n",
      "0     6   148    72    35     0  33.6  0.627   50      1\n",
      "1     1    85    66    29     0  26.6  0.351   31      0\n",
      "2     8   183    64     0     0  23.3  0.672   32      1\n",
      "3     1    89    66    23    94  28.1  0.167   21      0\n",
      "4     0   137    40    35   168  43.1  2.288   33      1\n",
      "5     5   116    74     0     0  25.6  0.201   30      0\n",
      "6     3    78    50    32    88  31.0  0.248   26      1\n",
      "7    10   115     0     0     0  35.3  0.134   29      0\n",
      "8     2   197    70    45   543  30.5  0.158   53      1\n",
      "9     8   125    96     0     0   0.0  0.232   54      1\n"
     ]
    }
   ]
  },
  {
   "cell_type": "markdown",
   "source": [
    "3.\tСохраните в переменную array значения признаков, обратившись к атрибуту values."
   ],
   "metadata": {
    "id": "-5yXa92CLzfW"
   }
  },
  {
   "cell_type": "code",
   "source": [
    "array = data.values"
   ],
   "metadata": {
    "id": "E0BuiNVXwHcy",
    "ExecuteTime": {
     "end_time": "2023-12-21T12:40:04.264223Z",
     "start_time": "2023-12-21T12:40:04.195275Z"
    }
   },
   "execution_count": 57,
   "outputs": []
  },
  {
   "cell_type": "markdown",
   "source": [
    "Выделите в переменной array часть, которая относится к факторным признакам, назовите ее X, и часть, которая относится к результативному признаку, - Y. Прокомментируйте содержимое переменных X и Y."
   ],
   "metadata": {
    "id": "31WKQX_Bwnfg"
   }
  },
  {
   "cell_type": "code",
   "source": [
    "X = array[:, 1:]\n",
    "Y = array[:, 0]\n",
    "\n",
    "print(\"X:\", X.shape)\n",
    "print(\"Y:\", Y.shape)"
   ],
   "metadata": {
    "id": "FihywUyQn-wZ",
    "colab": {
     "base_uri": "https://localhost:8080/"
    },
    "executionInfo": {
     "status": "ok",
     "timestamp": 1702488549457,
     "user_tz": -180,
     "elapsed": 2,
     "user": {
      "displayName": "Софья Тарасова",
      "userId": "10876662613223961281"
     }
    },
    "outputId": "f911ad59-08e5-419a-fcbb-fed6c6f59663",
    "ExecuteTime": {
     "end_time": "2023-12-21T12:40:04.324158Z",
     "start_time": "2023-12-21T12:40:04.220309Z"
    }
   },
   "execution_count": 58,
   "outputs": [
    {
     "name": "stdout",
     "output_type": "stream",
     "text": [
      "X: (768, 8)\n",
      "Y: (768,)\n"
     ]
    }
   ]
  },
  {
   "cell_type": "markdown",
   "source": [
    "В качестве Y результативного фактора был выбран диагноз (1 столбец), а Х оставшиеся признаки в качестве факторныхх признаков"
   ],
   "metadata": {
    "id": "F5gSzbKxHghP"
   }
  },
  {
   "cell_type": "markdown",
   "source": [
    "5.\tЗадайте разбиение на фолды с помощью функции KFold(n_splits= n_splits, random_state = random_state, shuffle=True) из модуля sklearn.model_selection. Результат запишите в переменную kfold. На вход данной функции подайте следующую информацию: 1) количество частей, на которые должна разбиваться выборка (n_splits), - пусть 10; 2) счетчик случайных чисел (random_state) – пусть 7; 3) необходимость перемешивания данных выборки, задав параметр shuffle=True."
   ],
   "metadata": {
    "id": "MWwsnArNfrEU"
   }
  },
  {
   "cell_type": "code",
   "source": [
    "kfold = sms.KFold(n_splits=10, random_state=7, shuffle=True)"
   ],
   "metadata": {
    "id": "zUZcHx3fg-cZ",
    "ExecuteTime": {
     "end_time": "2023-12-21T12:40:04.392353Z",
     "start_time": "2023-12-21T12:40:04.294779Z"
    }
   },
   "execution_count": 59,
   "outputs": []
  },
  {
   "cell_type": "markdown",
   "source": [
    "6.\tВ переменную scoring запишите название метрики качества, которую Вы будете использовать для оценки качества моделей. Пусть это будет средняя квадратичная оценка, взятая с отрицательным знаком, - 'neg_mean_squared_error'."
   ],
   "metadata": {
    "id": "nXeauL-wfyCZ"
   }
  },
  {
   "cell_type": "code",
   "source": [
    "scoring = 'neg_mean_squared_error'"
   ],
   "metadata": {
    "id": "vvnLwYvPiER7",
    "ExecuteTime": {
     "end_time": "2023-12-21T12:40:04.429177Z",
     "start_time": "2023-12-21T12:40:04.395963Z"
    }
   },
   "execution_count": 60,
   "outputs": []
  },
  {
   "cell_type": "markdown",
   "source": [
    "7.\tПостройте модель линейной регрессии, воспользовавшись функцией LinearRegression() из модуля sklearn.linear_model. Результат запишите в переменную model."
   ],
   "metadata": {
    "id": "KAPnWq7tf1VG"
   }
  },
  {
   "cell_type": "code",
   "source": [
    "LinR_model = slm.LinearRegression()"
   ],
   "metadata": {
    "id": "JrFpgwNFhFly",
    "ExecuteTime": {
     "end_time": "2023-12-21T12:40:04.445398Z",
     "start_time": "2023-12-21T12:40:04.419358Z"
    }
   },
   "execution_count": 61,
   "outputs": []
  },
  {
   "cell_type": "markdown",
   "source": [
    "8.\tПроведите кросс-валидацию, воспользовавшись функцией cross_val_score(model, X, Y, cv=kfold, scoring=scoring) из модуля sklearn.model_selection. Результат запишите в переменную results.  "
   ],
   "metadata": {
    "id": "EvmHCp1Af4KH"
   }
  },
  {
   "cell_type": "code",
   "source": [
    "LinR_results = sms.cross_val_score(LinR_model, X, Y, cv=kfold, scoring=scoring)"
   ],
   "metadata": {
    "id": "uOpLg1Z3g5Yx",
    "ExecuteTime": {
     "end_time": "2023-12-21T12:40:04.504683Z",
     "start_time": "2023-12-21T12:40:04.451189Z"
    }
   },
   "execution_count": 62,
   "outputs": []
  },
  {
   "cell_type": "markdown",
   "source": [
    "9.\tВыведите на экран среднюю величину средней квадратичной ошибки (MSE), взятую с отрицательным знаком, и стандартное отклонение полученных оценок, воспользовавшись, соответственно, функциями mean() и std(). Прокомментируйте полученный результат."
   ],
   "metadata": {
    "id": "aqEoT-tnf5sQ"
   }
  },
  {
   "cell_type": "code",
   "source": [
    "print (\"Среднее\", np.mean(-LinR_results))\n",
    "print (\"Стандартное отклоение\", np.std(LinR_results))"
   ],
   "metadata": {
    "colab": {
     "base_uri": "https://localhost:8080/"
    },
    "id": "_er3ni5gg0BN",
    "executionInfo": {
     "status": "ok",
     "timestamp": 1702141701067,
     "user_tz": -180,
     "elapsed": 3,
     "user": {
      "displayName": "Софья Тарасова",
      "userId": "10876662613223961281"
     }
    },
    "outputId": "cff3f248-e772-4414-b43f-8b1467e9e9fa",
    "ExecuteTime": {
     "end_time": "2023-12-21T12:40:04.506465Z",
     "start_time": "2023-12-21T12:40:04.482921Z"
    }
   },
   "execution_count": 63,
   "outputs": [
    {
     "name": "stdout",
     "output_type": "stream",
     "text": [
      "Среднее 7.939163188094737\n",
      "Стандартное отклоение 1.576475862181222\n"
     ]
    }
   ]
  },
  {
   "cell_type": "markdown",
   "source": [
    "10.\tПостройте модель гребневой регрессии, воспользовавшись функцией Ridge() из модуля sklearn.linear_model. Результат запишите в переменную model."
   ],
   "metadata": {
    "id": "LAfrE1CXf7hL"
   }
  },
  {
   "cell_type": "code",
   "source": [
    "Ridge_model = slm.Ridge()"
   ],
   "metadata": {
    "id": "0VwWQ5ddhGRQ",
    "ExecuteTime": {
     "end_time": "2023-12-21T12:40:04.507778Z",
     "start_time": "2023-12-21T12:40:04.489905Z"
    }
   },
   "execution_count": 64,
   "outputs": []
  },
  {
   "cell_type": "markdown",
   "source": [
    "11.\tПроведите кросс-валидацию, воспользовавшись функцией cross_val_score(model, X, Y, cv=kfold, scoring=scoring) из модуля sklearn.model_selection. Результат запишите в переменную results.  "
   ],
   "metadata": {
    "id": "aK_nBzMLf8vJ"
   }
  },
  {
   "cell_type": "code",
   "source": [
    "Ridge_results = sms.cross_val_score(Ridge_model, X, Y, cv=kfold, scoring=scoring)"
   ],
   "metadata": {
    "id": "Q1YEqhY2g4dV",
    "ExecuteTime": {
     "end_time": "2023-12-21T12:40:04.586620Z",
     "start_time": "2023-12-21T12:40:04.513503Z"
    }
   },
   "execution_count": 65,
   "outputs": []
  },
  {
   "cell_type": "markdown",
   "source": [
    "12.\tВыведите на экран среднюю величину средней квадратичной ошибки (MSE), взятую с отрицательным знаком, и стандартное отклонение полученных оценок, воспользовавшись, соответственно, функциями mean() и std(). Прокомментируйте полученный результат."
   ],
   "metadata": {
    "id": "r7awEgPQf92j"
   }
  },
  {
   "cell_type": "code",
   "source": [
    "print (\"Среднее\", np.mean(-Ridge_results))\n",
    "print (\"Стандартное отклоение\", np.std(Ridge_results))"
   ],
   "metadata": {
    "colab": {
     "base_uri": "https://localhost:8080/"
    },
    "id": "k-j_qr3TgzBN",
    "executionInfo": {
     "status": "ok",
     "timestamp": 1702141710346,
     "user_tz": -180,
     "elapsed": 2,
     "user": {
      "displayName": "Софья Тарасова",
      "userId": "10876662613223961281"
     }
    },
    "outputId": "e4d62f8b-8ace-40c7-af00-f09d98c83fc7",
    "ExecuteTime": {
     "end_time": "2023-12-21T12:40:04.602798Z",
     "start_time": "2023-12-21T12:40:04.574942Z"
    }
   },
   "execution_count": 66,
   "outputs": [
    {
     "name": "stdout",
     "output_type": "stream",
     "text": [
      "Среднее 7.9388152473202975\n",
      "Стандартное отклоение 1.5761975389075644\n"
     ]
    }
   ]
  },
  {
   "cell_type": "markdown",
   "source": [
    "13.\tПостройте модель лассо регрессии, воспользовавшись функцией Lasso() из модуля sklearn.linear_model. Результат запишите в переменную model."
   ],
   "metadata": {
    "id": "4TndYOhXgAQL"
   }
  },
  {
   "cell_type": "code",
   "source": [
    "Lasso_model = slm.Lasso()"
   ],
   "metadata": {
    "id": "9Lo3H68LhGze",
    "ExecuteTime": {
     "end_time": "2023-12-21T12:40:04.619904Z",
     "start_time": "2023-12-21T12:40:04.595678Z"
    }
   },
   "execution_count": 67,
   "outputs": []
  },
  {
   "cell_type": "markdown",
   "source": [
    "14.\tПроведите кросс-валидацию, воспользовавшись функцией cross_val_score(model, X, Y, cv=kfold, scoring=scoring) из модуля sklearn.model_selection. Результат запишите в переменную results.  "
   ],
   "metadata": {
    "id": "voLzn6zygDnL"
   }
  },
  {
   "cell_type": "code",
   "source": [
    "Lasso_results = sms.cross_val_score(Lasso_model, X, Y, cv=kfold, scoring=scoring)"
   ],
   "metadata": {
    "id": "Q5WyNSHJgZ51",
    "ExecuteTime": {
     "end_time": "2023-12-21T12:40:04.697299Z",
     "start_time": "2023-12-21T12:40:04.625033Z"
    }
   },
   "execution_count": 68,
   "outputs": []
  },
  {
   "cell_type": "markdown",
   "source": [
    "15.\tВыведите на экран среднюю величину средней квадратичной ошибки (MSE), взятую с отрицательным знаком, и стандартное отклонение полученных оценок, воспользовавшись, соответственно, функциями mean() и std(). Прокомментируйте полученный результат."
   ],
   "metadata": {
    "id": "bFCPmxlDgFJE"
   }
  },
  {
   "cell_type": "code",
   "source": [
    "print (\"Среднее\", np.mean(-Lasso_results))\n",
    "print (\"Стандартное отклоение\", np.std(Lasso_results))"
   ],
   "metadata": {
    "colab": {
     "base_uri": "https://localhost:8080/"
    },
    "id": "V8U6Pz-kgx0R",
    "executionInfo": {
     "status": "ok",
     "timestamp": 1702488562741,
     "user_tz": -180,
     "elapsed": 2,
     "user": {
      "displayName": "Софья Тарасова",
      "userId": "10876662613223961281"
     }
    },
    "outputId": "6b6a9a9e-76ff-4d4e-b328-70d881606676",
    "ExecuteTime": {
     "end_time": "2023-12-21T12:40:04.725264Z",
     "start_time": "2023-12-21T12:40:04.661447Z"
    }
   },
   "execution_count": 69,
   "outputs": [
    {
     "name": "stdout",
     "output_type": "stream",
     "text": [
      "Среднее 8.034223742985745\n",
      "Стандартное отклоение 1.5860109644561335\n"
     ]
    }
   ]
  },
  {
   "cell_type": "markdown",
   "source": [
    "16.\tПостройте модель эластичной сети, воспользовавшись функцией ElasticNet() из модуля sklearn.linear_model. Результат запишите в переменную model."
   ],
   "metadata": {
    "id": "hn4rV59ggIUn"
   }
  },
  {
   "cell_type": "code",
   "source": [
    "Elastic_model = slm.ElasticNet()"
   ],
   "metadata": {
    "id": "u6Th8urIhHPa",
    "ExecuteTime": {
     "end_time": "2023-12-21T12:40:04.788970Z",
     "start_time": "2023-12-21T12:40:04.681095Z"
    }
   },
   "execution_count": 70,
   "outputs": []
  },
  {
   "cell_type": "markdown",
   "source": [
    "17.\tПроведите кросс-валидацию, воспользовавшись функцией cross_val_score(model, X, Y, cv=kfold, scoring=scoring) из модуля sklearn.model_selection. Результат запишите в переменную results"
   ],
   "metadata": {
    "id": "s4wJNqiegJiJ"
   }
  },
  {
   "cell_type": "code",
   "source": [
    "Elastic_results = sms.cross_val_score(Elastic_model, X, Y, cv=kfold, scoring=scoring)"
   ],
   "metadata": {
    "id": "V4wBu_lJg2ci",
    "ExecuteTime": {
     "end_time": "2023-12-21T12:40:04.823315Z",
     "start_time": "2023-12-21T12:40:04.705945Z"
    }
   },
   "execution_count": 71,
   "outputs": []
  },
  {
   "cell_type": "markdown",
   "source": [
    "18.\tВыведите на экран среднюю величину средней квадратичной ошибки (MSE), взятую с отрицательным знаком, и стандартное отклонение полученных оценок, воспользовавшись, соответственно, функциями mean() и std(). Прокомментируйте полученный результат."
   ],
   "metadata": {
    "id": "pR5MH44fgLTz"
   }
  },
  {
   "cell_type": "code",
   "source": [
    "print (\"Среднее\", np.mean(-Elastic_results))\n",
    "print (\"Стандартное отклоение\", np.std(Elastic_results))"
   ],
   "metadata": {
    "colab": {
     "base_uri": "https://localhost:8080/"
    },
    "id": "MaHfFfhNgwWJ",
    "executionInfo": {
     "status": "ok",
     "timestamp": 1702141774064,
     "user_tz": -180,
     "elapsed": 2,
     "user": {
      "displayName": "Софья Тарасова",
      "userId": "10876662613223961281"
     }
    },
    "outputId": "70735e20-767c-49f3-9ea0-141e245cf070",
    "ExecuteTime": {
     "end_time": "2023-12-21T12:40:04.846203Z",
     "start_time": "2023-12-21T12:40:04.798753Z"
    }
   },
   "execution_count": 72,
   "outputs": [
    {
     "name": "stdout",
     "output_type": "stream",
     "text": [
      "Среднее 8.049723481718946\n",
      "Стандартное отклоение 1.5768282057912955\n"
     ]
    }
   ]
  }
 ]
}
