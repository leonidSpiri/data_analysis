{
 "nbformat": 4,
 "nbformat_minor": 0,
 "metadata": {
  "colab": {
   "provenance": []
  },
  "kernelspec": {
   "name": "python3",
   "display_name": "Python 3 (ipykernel)",
   "language": "python"
  },
  "language_info": {
   "name": "python"
  }
 },
 "cells": [
  {
   "cell_type": "code",
   "metadata": {
    "colab": {
     "base_uri": "https://localhost:8080/",
     "height": 424
    },
    "id": "LZNwejp4wwf5",
    "outputId": "2bd30b27-1cbb-4a9d-a5ad-ea14c33d0071",
    "ExecuteTime": {
     "end_time": "2024-05-10T10:22:23.047797Z",
     "start_time": "2024-05-10T10:22:21.363349Z"
    }
   },
   "source": [
    "\n",
    "import pandas as pd\n",
    "\n",
    "taxi = pd.read_csv(\"https://raw.githubusercontent.com/dm-fedorov/pandas_basic/master/data/taxi.csv\")\n",
    "taxi"
   ],
   "outputs": [
    {
     "data": {
      "text/plain": [
       "                 pickup_dt pickup_month        borough  pickups hday  spd  \\\n",
       "0      2015-01-01 01:00:00          Jan          Bronx      152    Y  5.0   \n",
       "1      2015-01-01 01:00:00          Jan       Brooklyn     1519    Y  5.0   \n",
       "2      2015-01-01 01:00:00          Jan            EWR        0    Y  5.0   \n",
       "3      2015-01-01 01:00:00          Jan      Manhattan     5258    Y  5.0   \n",
       "4      2015-01-01 01:00:00          Jan         Queens      405    Y  5.0   \n",
       "...                    ...          ...            ...      ...  ...  ...   \n",
       "29096  2015-06-30 23:00:00          Jun            EWR        0    N  7.0   \n",
       "29097  2015-06-30 23:00:00          Jun      Manhattan     3828    N  7.0   \n",
       "29098  2015-06-30 23:00:00          Jun         Queens      580    N  7.0   \n",
       "29099  2015-06-30 23:00:00          Jun  Staten Island        0    N  7.0   \n",
       "29100  2015-06-30 23:00:00          Jun            NaN        3    N  7.0   \n",
       "\n",
       "        vsb  temp  dewp     slp  pcp 01  pcp 06  pcp 24   sd  \n",
       "0      10.0  30.0   7.0  1023.5     0.0     0.0     0.0  0.0  \n",
       "1      10.0  30.0   7.0  1023.5     0.0     0.0     0.0  0.0  \n",
       "2      10.0  30.0   7.0  1023.5     0.0     0.0     0.0  0.0  \n",
       "3      10.0  30.0   7.0  1023.5     0.0     0.0     0.0  0.0  \n",
       "4      10.0  30.0   7.0  1023.5     0.0     0.0     0.0  0.0  \n",
       "...     ...   ...   ...     ...     ...     ...     ...  ...  \n",
       "29096  10.0  75.0  65.0  1011.8     0.0     0.0     0.0  0.0  \n",
       "29097  10.0  75.0  65.0  1011.8     0.0     0.0     0.0  0.0  \n",
       "29098  10.0  75.0  65.0  1011.8     0.0     0.0     0.0  0.0  \n",
       "29099  10.0  75.0  65.0  1011.8     0.0     0.0     0.0  0.0  \n",
       "29100  10.0  75.0  65.0  1011.8     0.0     0.0     0.0  0.0  \n",
       "\n",
       "[29101 rows x 14 columns]"
      ],
      "text/html": [
       "<div>\n",
       "<style scoped>\n",
       "    .dataframe tbody tr th:only-of-type {\n",
       "        vertical-align: middle;\n",
       "    }\n",
       "\n",
       "    .dataframe tbody tr th {\n",
       "        vertical-align: top;\n",
       "    }\n",
       "\n",
       "    .dataframe thead th {\n",
       "        text-align: right;\n",
       "    }\n",
       "</style>\n",
       "<table border=\"1\" class=\"dataframe\">\n",
       "  <thead>\n",
       "    <tr style=\"text-align: right;\">\n",
       "      <th></th>\n",
       "      <th>pickup_dt</th>\n",
       "      <th>pickup_month</th>\n",
       "      <th>borough</th>\n",
       "      <th>pickups</th>\n",
       "      <th>hday</th>\n",
       "      <th>spd</th>\n",
       "      <th>vsb</th>\n",
       "      <th>temp</th>\n",
       "      <th>dewp</th>\n",
       "      <th>slp</th>\n",
       "      <th>pcp 01</th>\n",
       "      <th>pcp 06</th>\n",
       "      <th>pcp 24</th>\n",
       "      <th>sd</th>\n",
       "    </tr>\n",
       "  </thead>\n",
       "  <tbody>\n",
       "    <tr>\n",
       "      <th>0</th>\n",
       "      <td>2015-01-01 01:00:00</td>\n",
       "      <td>Jan</td>\n",
       "      <td>Bronx</td>\n",
       "      <td>152</td>\n",
       "      <td>Y</td>\n",
       "      <td>5.0</td>\n",
       "      <td>10.0</td>\n",
       "      <td>30.0</td>\n",
       "      <td>7.0</td>\n",
       "      <td>1023.5</td>\n",
       "      <td>0.0</td>\n",
       "      <td>0.0</td>\n",
       "      <td>0.0</td>\n",
       "      <td>0.0</td>\n",
       "    </tr>\n",
       "    <tr>\n",
       "      <th>1</th>\n",
       "      <td>2015-01-01 01:00:00</td>\n",
       "      <td>Jan</td>\n",
       "      <td>Brooklyn</td>\n",
       "      <td>1519</td>\n",
       "      <td>Y</td>\n",
       "      <td>5.0</td>\n",
       "      <td>10.0</td>\n",
       "      <td>30.0</td>\n",
       "      <td>7.0</td>\n",
       "      <td>1023.5</td>\n",
       "      <td>0.0</td>\n",
       "      <td>0.0</td>\n",
       "      <td>0.0</td>\n",
       "      <td>0.0</td>\n",
       "    </tr>\n",
       "    <tr>\n",
       "      <th>2</th>\n",
       "      <td>2015-01-01 01:00:00</td>\n",
       "      <td>Jan</td>\n",
       "      <td>EWR</td>\n",
       "      <td>0</td>\n",
       "      <td>Y</td>\n",
       "      <td>5.0</td>\n",
       "      <td>10.0</td>\n",
       "      <td>30.0</td>\n",
       "      <td>7.0</td>\n",
       "      <td>1023.5</td>\n",
       "      <td>0.0</td>\n",
       "      <td>0.0</td>\n",
       "      <td>0.0</td>\n",
       "      <td>0.0</td>\n",
       "    </tr>\n",
       "    <tr>\n",
       "      <th>3</th>\n",
       "      <td>2015-01-01 01:00:00</td>\n",
       "      <td>Jan</td>\n",
       "      <td>Manhattan</td>\n",
       "      <td>5258</td>\n",
       "      <td>Y</td>\n",
       "      <td>5.0</td>\n",
       "      <td>10.0</td>\n",
       "      <td>30.0</td>\n",
       "      <td>7.0</td>\n",
       "      <td>1023.5</td>\n",
       "      <td>0.0</td>\n",
       "      <td>0.0</td>\n",
       "      <td>0.0</td>\n",
       "      <td>0.0</td>\n",
       "    </tr>\n",
       "    <tr>\n",
       "      <th>4</th>\n",
       "      <td>2015-01-01 01:00:00</td>\n",
       "      <td>Jan</td>\n",
       "      <td>Queens</td>\n",
       "      <td>405</td>\n",
       "      <td>Y</td>\n",
       "      <td>5.0</td>\n",
       "      <td>10.0</td>\n",
       "      <td>30.0</td>\n",
       "      <td>7.0</td>\n",
       "      <td>1023.5</td>\n",
       "      <td>0.0</td>\n",
       "      <td>0.0</td>\n",
       "      <td>0.0</td>\n",
       "      <td>0.0</td>\n",
       "    </tr>\n",
       "    <tr>\n",
       "      <th>...</th>\n",
       "      <td>...</td>\n",
       "      <td>...</td>\n",
       "      <td>...</td>\n",
       "      <td>...</td>\n",
       "      <td>...</td>\n",
       "      <td>...</td>\n",
       "      <td>...</td>\n",
       "      <td>...</td>\n",
       "      <td>...</td>\n",
       "      <td>...</td>\n",
       "      <td>...</td>\n",
       "      <td>...</td>\n",
       "      <td>...</td>\n",
       "      <td>...</td>\n",
       "    </tr>\n",
       "    <tr>\n",
       "      <th>29096</th>\n",
       "      <td>2015-06-30 23:00:00</td>\n",
       "      <td>Jun</td>\n",
       "      <td>EWR</td>\n",
       "      <td>0</td>\n",
       "      <td>N</td>\n",
       "      <td>7.0</td>\n",
       "      <td>10.0</td>\n",
       "      <td>75.0</td>\n",
       "      <td>65.0</td>\n",
       "      <td>1011.8</td>\n",
       "      <td>0.0</td>\n",
       "      <td>0.0</td>\n",
       "      <td>0.0</td>\n",
       "      <td>0.0</td>\n",
       "    </tr>\n",
       "    <tr>\n",
       "      <th>29097</th>\n",
       "      <td>2015-06-30 23:00:00</td>\n",
       "      <td>Jun</td>\n",
       "      <td>Manhattan</td>\n",
       "      <td>3828</td>\n",
       "      <td>N</td>\n",
       "      <td>7.0</td>\n",
       "      <td>10.0</td>\n",
       "      <td>75.0</td>\n",
       "      <td>65.0</td>\n",
       "      <td>1011.8</td>\n",
       "      <td>0.0</td>\n",
       "      <td>0.0</td>\n",
       "      <td>0.0</td>\n",
       "      <td>0.0</td>\n",
       "    </tr>\n",
       "    <tr>\n",
       "      <th>29098</th>\n",
       "      <td>2015-06-30 23:00:00</td>\n",
       "      <td>Jun</td>\n",
       "      <td>Queens</td>\n",
       "      <td>580</td>\n",
       "      <td>N</td>\n",
       "      <td>7.0</td>\n",
       "      <td>10.0</td>\n",
       "      <td>75.0</td>\n",
       "      <td>65.0</td>\n",
       "      <td>1011.8</td>\n",
       "      <td>0.0</td>\n",
       "      <td>0.0</td>\n",
       "      <td>0.0</td>\n",
       "      <td>0.0</td>\n",
       "    </tr>\n",
       "    <tr>\n",
       "      <th>29099</th>\n",
       "      <td>2015-06-30 23:00:00</td>\n",
       "      <td>Jun</td>\n",
       "      <td>Staten Island</td>\n",
       "      <td>0</td>\n",
       "      <td>N</td>\n",
       "      <td>7.0</td>\n",
       "      <td>10.0</td>\n",
       "      <td>75.0</td>\n",
       "      <td>65.0</td>\n",
       "      <td>1011.8</td>\n",
       "      <td>0.0</td>\n",
       "      <td>0.0</td>\n",
       "      <td>0.0</td>\n",
       "      <td>0.0</td>\n",
       "    </tr>\n",
       "    <tr>\n",
       "      <th>29100</th>\n",
       "      <td>2015-06-30 23:00:00</td>\n",
       "      <td>Jun</td>\n",
       "      <td>NaN</td>\n",
       "      <td>3</td>\n",
       "      <td>N</td>\n",
       "      <td>7.0</td>\n",
       "      <td>10.0</td>\n",
       "      <td>75.0</td>\n",
       "      <td>65.0</td>\n",
       "      <td>1011.8</td>\n",
       "      <td>0.0</td>\n",
       "      <td>0.0</td>\n",
       "      <td>0.0</td>\n",
       "      <td>0.0</td>\n",
       "    </tr>\n",
       "  </tbody>\n",
       "</table>\n",
       "<p>29101 rows × 14 columns</p>\n",
       "</div>"
      ]
     },
     "execution_count": 1,
     "metadata": {},
     "output_type": "execute_result"
    }
   ],
   "execution_count": 1
  },
  {
   "cell_type": "code",
   "source": [
    "\n",
    "rows, columns = taxi.shape\n",
    "print(\"Количество строк:\", rows)\n",
    "print(\"Количество столбцов:\", columns)"
   ],
   "metadata": {
    "colab": {
     "base_uri": "https://localhost:8080/"
    },
    "id": "F7QL8Bytxkg2",
    "outputId": "f346891d-7c79-4574-f475-d379e04314cc",
    "ExecuteTime": {
     "end_time": "2024-05-10T10:22:23.057526Z",
     "start_time": "2024-05-10T10:22:23.052495Z"
    }
   },
   "outputs": [
    {
     "name": "stdout",
     "output_type": "stream",
     "text": [
      "Количество строк: 29101\n",
      "Количество столбцов: 14\n"
     ]
    }
   ],
   "execution_count": 2
  },
  {
   "cell_type": "code",
   "source": [
    "\n",
    "column_types = taxi.dtypes\n",
    "print(column_types)\n"
   ],
   "metadata": {
    "colab": {
     "base_uri": "https://localhost:8080/"
    },
    "id": "NA8S9ct1xr5R",
    "outputId": "80426918-2555-4bec-a535-9df3be43f321",
    "ExecuteTime": {
     "end_time": "2024-05-10T10:22:23.065Z",
     "start_time": "2024-05-10T10:22:23.059557Z"
    }
   },
   "outputs": [
    {
     "name": "stdout",
     "output_type": "stream",
     "text": [
      "pickup_dt        object\n",
      "pickup_month     object\n",
      "borough          object\n",
      "pickups           int64\n",
      "hday             object\n",
      "spd             float64\n",
      "vsb             float64\n",
      "temp            float64\n",
      "dewp            float64\n",
      "slp             float64\n",
      "pcp 01          float64\n",
      "pcp 06          float64\n",
      "pcp 24          float64\n",
      "sd              float64\n",
      "dtype: object\n"
     ]
    }
   ],
   "execution_count": 3
  },
  {
   "cell_type": "markdown",
   "source": [
    "Основной тип данных в наборе данных - строковый (object), который используется для представления текстовой информации. Из списка столбцов pickup_dt, pickup_month, borough и hday кажется, что они содержат текстовые данные, что соответствует типу данных object. Эти столбцы, вероятно, содержат даты, названия месяцев, районы и информацию о праздниках.\n",
    "\n",
    "По остальным столбцам (pickups, spd, vsb, temp, dewp, slp, pcp_01, pcp_06, pcp_24, sd) можно сказать, что они содержат числовые значения, такие как количество поездок, скорость ветра, видимость, температура и т.д. Однако, если они были идентифицированы как тип object, возможно, что у pandas возникли затруднения с определением их как числовых значений из-за определенных причин."
   ],
   "metadata": {
    "id": "H0Jd4Yj4yC5b"
   }
  },
  {
   "cell_type": "code",
   "source": [
    "\n",
    "taxi.rename(columns=lambda x: x.replace(' ', '_'), inplace=True)\n",
    "print(taxi.head())\n"
   ],
   "metadata": {
    "colab": {
     "base_uri": "https://localhost:8080/"
    },
    "id": "TjWRYo4ByYkm",
    "outputId": "cdf990b6-58c3-4ef9-defb-1415cca8edf9",
    "ExecuteTime": {
     "end_time": "2024-05-10T10:22:23.082803Z",
     "start_time": "2024-05-10T10:22:23.067317Z"
    }
   },
   "outputs": [
    {
     "name": "stdout",
     "output_type": "stream",
     "text": [
      "             pickup_dt pickup_month    borough  pickups hday  spd   vsb  temp  \\\n",
      "0  2015-01-01 01:00:00          Jan      Bronx      152    Y  5.0  10.0  30.0   \n",
      "1  2015-01-01 01:00:00          Jan   Brooklyn     1519    Y  5.0  10.0  30.0   \n",
      "2  2015-01-01 01:00:00          Jan        EWR        0    Y  5.0  10.0  30.0   \n",
      "3  2015-01-01 01:00:00          Jan  Manhattan     5258    Y  5.0  10.0  30.0   \n",
      "4  2015-01-01 01:00:00          Jan     Queens      405    Y  5.0  10.0  30.0   \n",
      "\n",
      "   dewp     slp  pcp_01  pcp_06  pcp_24   sd  \n",
      "0   7.0  1023.5     0.0     0.0     0.0  0.0  \n",
      "1   7.0  1023.5     0.0     0.0     0.0  0.0  \n",
      "2   7.0  1023.5     0.0     0.0     0.0  0.0  \n",
      "3   7.0  1023.5     0.0     0.0     0.0  0.0  \n",
      "4   7.0  1023.5     0.0     0.0     0.0  0.0  \n"
     ]
    }
   ],
   "execution_count": 4
  },
  {
   "cell_type": "code",
   "source": [
    "\n",
    "manhattan_count = taxi[taxi['borough'] == 'Manhattan'].shape[0]\n",
    "print(\"Количество записей, относящихся к Манхэттену:\", manhattan_count)\n"
   ],
   "metadata": {
    "colab": {
     "base_uri": "https://localhost:8080/"
    },
    "id": "kxjAMuJ1y138",
    "outputId": "de7478f9-63e7-498b-e205-cb0889db34d6",
    "ExecuteTime": {
     "end_time": "2024-05-10T10:22:23.104536Z",
     "start_time": "2024-05-10T10:22:23.089804Z"
    }
   },
   "outputs": [
    {
     "name": "stdout",
     "output_type": "stream",
     "text": [
      "Количество записей, относящихся к Манхэттену: 4343\n"
     ]
    }
   ],
   "execution_count": 5
  },
  {
   "cell_type": "code",
   "source": [
    "\n",
    "borough_counts = taxi['borough'].value_counts()\n",
    "print(\"Частота встречаемости каждого района:\")\n",
    "print(borough_counts)\n",
    "brooklyn_count = borough_counts.get('Brooklyn', 0)\n",
    "print(\"Количество записей, относящихся к Бруклину:\", brooklyn_count)"
   ],
   "metadata": {
    "colab": {
     "base_uri": "https://localhost:8080/"
    },
    "id": "8hB3HRMJzAwR",
    "outputId": "04921bc0-2b98-428d-d1b5-434e60cbaa72",
    "ExecuteTime": {
     "end_time": "2024-05-10T10:22:23.116768Z",
     "start_time": "2024-05-10T10:22:23.107567Z"
    }
   },
   "outputs": [
    {
     "name": "stdout",
     "output_type": "stream",
     "text": [
      "Частота встречаемости каждого района:\n",
      "borough\n",
      "Bronx            4343\n",
      "Brooklyn         4343\n",
      "EWR              4343\n",
      "Manhattan        4343\n",
      "Queens           4343\n",
      "Staten Island    4343\n",
      "Name: count, dtype: int64\n",
      "Количество записей, относящихся к Бруклину: 4343\n"
     ]
    }
   ],
   "execution_count": 6
  },
  {
   "cell_type": "code",
   "source": [
    "\n",
    "borough_pickups = taxi.groupby('borough')['pickups'].sum()\n",
    "max_pickups_borough = borough_pickups.idxmax()\n",
    "max_pickups_count = borough_pickups.max()\n",
    "print(\"Район с наибольшим количеством поездок:\", max_pickups_borough)\n",
    "print(\"Количество поездок из этого района:\", max_pickups_count)"
   ],
   "metadata": {
    "colab": {
     "base_uri": "https://localhost:8080/"
    },
    "id": "XQGtbMcxzgQ_",
    "outputId": "0ffab8f8-ed49-433f-d610-1dffb16dde99",
    "ExecuteTime": {
     "end_time": "2024-05-10T10:22:23.129052Z",
     "start_time": "2024-05-10T10:22:23.119410Z"
    }
   },
   "outputs": [
    {
     "name": "stdout",
     "output_type": "stream",
     "text": [
      "Район с наибольшим количеством поездок: Manhattan\n",
      "Количество поездок из этого района: 10367841\n"
     ]
    }
   ],
   "execution_count": 7
  },
  {
   "cell_type": "code",
   "source": [
    "\n",
    "min_pickups = taxi.groupby('borough')['pickups'].sum().idxmin()\n",
    "print(\"Район с наименьшим числом поездок:\", min_pickups)"
   ],
   "metadata": {
    "colab": {
     "base_uri": "https://localhost:8080/"
    },
    "id": "vFK3JfCSzrjA",
    "outputId": "2202b809-be6b-4adb-ba00-affa35703c64",
    "ExecuteTime": {
     "end_time": "2024-05-10T10:22:23.139550Z",
     "start_time": "2024-05-10T10:22:23.130793Z"
    }
   },
   "outputs": [
    {
     "name": "stdout",
     "output_type": "stream",
     "text": [
      "Район с наименьшим числом поездок: EWR\n"
     ]
    }
   ],
   "execution_count": 8
  },
  {
   "cell_type": "code",
   "source": [
    "\n",
    "avg_pickups_by_borough_hday = taxi.groupby(['borough', 'hday'])['pickups'].mean().unstack()\n",
    "boroughs_with_more_pickups_on_holidays = avg_pickups_by_borough_hday[avg_pickups_by_borough_hday['Y'] > avg_pickups_by_borough_hday['N']]\n",
    "print(\"Районы, из которых по выходным в среднем поступает больше заказов, чем в обычные дни:\")\n",
    "print(boroughs_with_more_pickups_on_holidays)"
   ],
   "metadata": {
    "colab": {
     "base_uri": "https://localhost:8080/"
    },
    "id": "EcxNRFGoz1O7",
    "outputId": "d2bb11af-9783-4f4d-c485-d03fd96ff068",
    "ExecuteTime": {
     "end_time": "2024-05-10T10:22:23.163854Z",
     "start_time": "2024-05-10T10:22:23.144870Z"
    }
   },
   "outputs": [
    {
     "name": "stdout",
     "output_type": "stream",
     "text": [
      "Районы, из которых по выходным в среднем поступает больше заказов, чем в обычные дни:\n",
      "hday              N           Y\n",
      "borough                        \n",
      "EWR        0.023467    0.041916\n",
      "Queens   308.899904  320.730539\n"
     ]
    }
   ],
   "execution_count": 9
  },
  {
   "cell_type": "code",
   "source": [
    "\n",
    "pickups_by_month_borough = taxi.groupby(['borough', 'pickup_month'])['pickups'].sum().reset_index()\n",
    "pickups_by_month_borough.rename(columns={'pickups': 'pickups'}, inplace=True)\n",
    "pickups_by_mon_bor = pickups_by_month_borough.sort_values(by=['pickups'], ascending=False)\n",
    "print(pickups_by_mon_bor.head())"
   ],
   "metadata": {
    "colab": {
     "base_uri": "https://localhost:8080/"
    },
    "id": "ccfiZSEM0Yy6",
    "outputId": "210beac8-6b03-441b-df3b-c7d95642cf39",
    "ExecuteTime": {
     "end_time": "2024-05-10T10:22:23.179994Z",
     "start_time": "2024-05-10T10:22:23.165532Z"
    }
   },
   "outputs": [
    {
     "name": "stdout",
     "output_type": "stream",
     "text": [
      "      borough pickup_month  pickups\n",
      "21  Manhattan          Jun  1995388\n",
      "23  Manhattan          May  1888800\n",
      "19  Manhattan          Feb  1718571\n",
      "22  Manhattan          Mar  1661261\n",
      "18  Manhattan          Apr  1648278\n"
     ]
    }
   ],
   "execution_count": 10
  },
  {
   "cell_type": "code",
   "source": [
    "\n",
    "def temp_to_celsius(temp_f):\n",
    "\n",
    "    temp_c = ((temp_f - 32) * 5.0) / 9.0\n",
    "    return temp_c\n",
    "\n",
    "\n",
    "taxi['temp_celsius'] = temp_to_celsius(taxi['temp'])\n",
    "\n",
    "print(taxi[['temp', 'temp_celsius']].head())\n"
   ],
   "metadata": {
    "colab": {
     "base_uri": "https://localhost:8080/"
    },
    "id": "dGg8a2KT1dtc",
    "outputId": "b357a84d-783b-4e0c-8cba-5c171c54b9fd",
    "ExecuteTime": {
     "end_time": "2024-05-10T10:22:23.201459Z",
     "start_time": "2024-05-10T10:22:23.182508Z"
    }
   },
   "outputs": [
    {
     "name": "stdout",
     "output_type": "stream",
     "text": [
      "   temp  temp_celsius\n",
      "0  30.0     -1.111111\n",
      "1  30.0     -1.111111\n",
      "2  30.0     -1.111111\n",
      "3  30.0     -1.111111\n",
      "4  30.0     -1.111111\n"
     ]
    }
   ],
   "execution_count": 11
  }
 ]
}
