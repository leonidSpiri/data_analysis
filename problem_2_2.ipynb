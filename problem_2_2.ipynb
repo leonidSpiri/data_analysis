{
 "nbformat": 4,
 "nbformat_minor": 0,
 "metadata": {
  "kernelspec": {
   "display_name": "Python 3",
   "language": "python",
   "name": "python3"
  },
  "language_info": {
   "codemirror_mode": {
    "name": "ipython",
    "version": 3
   },
   "file_extension": ".py",
   "mimetype": "text/x-python",
   "name": "python",
   "nbconvert_exporter": "python",
   "pygments_lexer": "ipython3",
   "version": "3.8.3"
  },
  "colab": {
   "provenance": []
  }
 },
 "cells": [
  {
   "cell_type": "markdown",
   "source": [
    "Теория:\n",
    "\n",
    "5.Series:\n",
    "https://docs.google.com/presentation/d/1v106Xm0YkQKV7FSm9UPMlMDnwZLnwFJujDitCnvtIYA/edit#slide=id.ge50f063c5b_0_0\n",
    "\n",
    "6.DataFrame:\n",
    "https://docs.google.com/presentation/d/1gHoqP0cvaQp7G-6A42_yYEMABm0GOS4JWHEqUojXaiA/edit#slide=id.ge21ea809d3_0_240\n",
    "\n",
    "7.Вычисление описательных статистик:\n",
    "https://docs.google.com/presentation/d/11jZcO_BakFZyfa_6VC-LvzdWK9gYPLd-J8ZFnnnaenM/edit#slide=id.ge226d84994_0_95\n",
    "\n",
    "\n"
   ],
   "metadata": {
    "id": "WAh4Ufuj9aMn"
   }
  },
  {
   "cell_type": "markdown",
   "source": [
    "# Задание 2. Футболисты"
   ],
   "metadata": {
    "id": "TC4srhrrBtFB"
   }
  },
  {
   "cell_type": "markdown",
   "metadata": {
    "id": "2GlgEEBEz51l"
   },
   "source": [
    "В [датасете](https://raw.githubusercontent.com/dm-fedorov/pandas_basic/master/data/football.csv) присутствуют различные данные о футболистах, среди которых:\n",
    "\n",
    "- Имя (Name),\n",
    "- Возраст (Age),\n",
    "- Национальность (Nationality),\n",
    "- Клуб, за который они играют (Club),\n",
    "- Стоимость (Value),\n",
    "- Годовая заработная плата (Wage),\n",
    "- Позиция, на которой они играют (Position),\n",
    "- Различные игровые характеристики (Crossing, Finishing, HeadingAccuracy, ShortPassing, Volleys, Dribbling, Curve, FKAccuracy, LongPassing, BallControl, Acceleration, SprintSpeed, Agility, Reactions, Balance, ShotPower, Jumping, Stamina, Strength, LongShots, Aggression, Interceptions, Positioning, Vision, Penalties, Composure, Marking, StandingTackle, SlidingTackle, GKDiving, GKHandling, GKKicking, GKPositioning, GKReflexes),\n",
    "- Также присутствует системная колонка с номером строки.\n",
    "\n",
    "Полное описание всех полей находится в файле по [ссылке](https://github.com/dm-fedorov/pandas_basic/blob/master/data/football_about.txt).\n",
    "\n",
    "Данные содержат в себе информацию о 12897 футболистах и их характеристиках."
   ]
  },
  {
   "cell_type": "code",
   "source": [],
   "metadata": {
    "id": "_gX8Pi0yX3jn",
    "ExecuteTime": {
     "end_time": "2024-05-10T10:20:34.343943Z",
     "start_time": "2024-05-10T10:20:34.339317Z"
    }
   },
   "outputs": [],
   "execution_count": 4
  },
  {
   "cell_type": "markdown",
   "metadata": {
    "id": "tjZdbQ_Wz51m"
   },
   "source": [
    "```Python\n",
    "pd.read_csv('Полный_путь_к_файлу/название_файла.csv')\n",
    "```\n",
    "\n",
    "Функция возвращает `DataFrame` (таблицу), однако затем принимает ещё много важных параметров, среди которых:\n",
    "\n",
    "- `sep` — разделитель данных, по умолчанию `','`;\n",
    "- `decimal` — разделитель числа на целую и дробную часть, по умолчанию `'.'`;\n",
    "- `names` — список с названиями колонок, не обязательный параметр;\n",
    "- `skiprows` — если файл содержит системную информацию, можно просто её пропустить.\n",
    "\n",
    "Дополнительные параметры можно посмотреть в [официальной документации](https://pandas.pydata.org/pandas-docs/stable/reference/api/pandas.read_csv.html)."
   ]
  },
  {
   "cell_type": "markdown",
   "metadata": {
    "id": "ssN297I_z51n"
   },
   "source": [
    "Часто после чтения данных с помощью `read_csv()` хочется убедиться в правильности чтения или, к примеру, посмотреть, что лежит в наборе данных.\n",
    "\n",
    "Для этого используются методы `.head()` или `.tail()`, которые показывают первые или последние 5 строк таблицы. Количество строк можно менять параметром `n`, передаваемым в функцию.\n",
    "\n",
    "Посмотрим, как они работают, на примере уже запомнившегося нам набора данных о футболистах:"
   ]
  },
  {
   "cell_type": "code",
   "metadata": {
    "id": "jv3owsguz51o",
    "colab": {
     "base_uri": "https://localhost:8080/",
     "height": 360
    },
    "outputId": "a2672629-4425-4ace-d4e9-526ba227e666",
    "ExecuteTime": {
     "end_time": "2024-05-10T10:20:35.252999Z",
     "start_time": "2024-05-10T10:20:34.834126Z"
    }
   },
   "source": [
    "import pandas as pd\n",
    "\n",
    "url = \"https://raw.githubusercontent.com/dm-fedorov/pandas_basic/master/data/football.csv\"\n",
    "\n",
    "football = pd.read_csv(url)\n",
    "football.head()"
   ],
   "outputs": [
    {
     "data": {
      "text/plain": [
       "   Unnamed: 0               Name  Age Nationality                 Club  \\\n",
       "0           0           L. Messi   31   Argentina         FC Barcelona   \n",
       "1           1  Cristiano Ronaldo   33    Portugal             Juventus   \n",
       "2           2          Neymar Jr   26      Brazil  Paris Saint-Germain   \n",
       "3           3             De Gea   27       Spain    Manchester United   \n",
       "4           4       K. De Bruyne   27     Belgium      Manchester City   \n",
       "\n",
       "       Value    Wage Position  Crossing  Finishing  ...  Penalties  Composure  \\\n",
       "0  110500000  565000       RF        84         95  ...         75         96   \n",
       "1   77000000  405000       ST        84         94  ...         85         95   \n",
       "2  118500000  290000       LW        79         87  ...         81         94   \n",
       "3   72000000  260000       GK        17         13  ...         40         68   \n",
       "4  102000000  355000      RCM        93         82  ...         79         88   \n",
       "\n",
       "   Marking  StandingTackle  SlidingTackle  GKDiving  GKHandling  GKKicking  \\\n",
       "0       33              28             26         6          11         15   \n",
       "1       28              31             23         7          11         15   \n",
       "2       27              24             33         9           9         15   \n",
       "3       15              21             13        90          85         87   \n",
       "4       68              58             51        15          13          5   \n",
       "\n",
       "   GKPositioning  GKReflexes  \n",
       "0             14           8  \n",
       "1             14          11  \n",
       "2             15          11  \n",
       "3             88          94  \n",
       "4             10          13  \n",
       "\n",
       "[5 rows x 42 columns]"
      ],
      "text/html": [
       "<div>\n",
       "<style scoped>\n",
       "    .dataframe tbody tr th:only-of-type {\n",
       "        vertical-align: middle;\n",
       "    }\n",
       "\n",
       "    .dataframe tbody tr th {\n",
       "        vertical-align: top;\n",
       "    }\n",
       "\n",
       "    .dataframe thead th {\n",
       "        text-align: right;\n",
       "    }\n",
       "</style>\n",
       "<table border=\"1\" class=\"dataframe\">\n",
       "  <thead>\n",
       "    <tr style=\"text-align: right;\">\n",
       "      <th></th>\n",
       "      <th>Unnamed: 0</th>\n",
       "      <th>Name</th>\n",
       "      <th>Age</th>\n",
       "      <th>Nationality</th>\n",
       "      <th>Club</th>\n",
       "      <th>Value</th>\n",
       "      <th>Wage</th>\n",
       "      <th>Position</th>\n",
       "      <th>Crossing</th>\n",
       "      <th>Finishing</th>\n",
       "      <th>...</th>\n",
       "      <th>Penalties</th>\n",
       "      <th>Composure</th>\n",
       "      <th>Marking</th>\n",
       "      <th>StandingTackle</th>\n",
       "      <th>SlidingTackle</th>\n",
       "      <th>GKDiving</th>\n",
       "      <th>GKHandling</th>\n",
       "      <th>GKKicking</th>\n",
       "      <th>GKPositioning</th>\n",
       "      <th>GKReflexes</th>\n",
       "    </tr>\n",
       "  </thead>\n",
       "  <tbody>\n",
       "    <tr>\n",
       "      <th>0</th>\n",
       "      <td>0</td>\n",
       "      <td>L. Messi</td>\n",
       "      <td>31</td>\n",
       "      <td>Argentina</td>\n",
       "      <td>FC Barcelona</td>\n",
       "      <td>110500000</td>\n",
       "      <td>565000</td>\n",
       "      <td>RF</td>\n",
       "      <td>84</td>\n",
       "      <td>95</td>\n",
       "      <td>...</td>\n",
       "      <td>75</td>\n",
       "      <td>96</td>\n",
       "      <td>33</td>\n",
       "      <td>28</td>\n",
       "      <td>26</td>\n",
       "      <td>6</td>\n",
       "      <td>11</td>\n",
       "      <td>15</td>\n",
       "      <td>14</td>\n",
       "      <td>8</td>\n",
       "    </tr>\n",
       "    <tr>\n",
       "      <th>1</th>\n",
       "      <td>1</td>\n",
       "      <td>Cristiano Ronaldo</td>\n",
       "      <td>33</td>\n",
       "      <td>Portugal</td>\n",
       "      <td>Juventus</td>\n",
       "      <td>77000000</td>\n",
       "      <td>405000</td>\n",
       "      <td>ST</td>\n",
       "      <td>84</td>\n",
       "      <td>94</td>\n",
       "      <td>...</td>\n",
       "      <td>85</td>\n",
       "      <td>95</td>\n",
       "      <td>28</td>\n",
       "      <td>31</td>\n",
       "      <td>23</td>\n",
       "      <td>7</td>\n",
       "      <td>11</td>\n",
       "      <td>15</td>\n",
       "      <td>14</td>\n",
       "      <td>11</td>\n",
       "    </tr>\n",
       "    <tr>\n",
       "      <th>2</th>\n",
       "      <td>2</td>\n",
       "      <td>Neymar Jr</td>\n",
       "      <td>26</td>\n",
       "      <td>Brazil</td>\n",
       "      <td>Paris Saint-Germain</td>\n",
       "      <td>118500000</td>\n",
       "      <td>290000</td>\n",
       "      <td>LW</td>\n",
       "      <td>79</td>\n",
       "      <td>87</td>\n",
       "      <td>...</td>\n",
       "      <td>81</td>\n",
       "      <td>94</td>\n",
       "      <td>27</td>\n",
       "      <td>24</td>\n",
       "      <td>33</td>\n",
       "      <td>9</td>\n",
       "      <td>9</td>\n",
       "      <td>15</td>\n",
       "      <td>15</td>\n",
       "      <td>11</td>\n",
       "    </tr>\n",
       "    <tr>\n",
       "      <th>3</th>\n",
       "      <td>3</td>\n",
       "      <td>De Gea</td>\n",
       "      <td>27</td>\n",
       "      <td>Spain</td>\n",
       "      <td>Manchester United</td>\n",
       "      <td>72000000</td>\n",
       "      <td>260000</td>\n",
       "      <td>GK</td>\n",
       "      <td>17</td>\n",
       "      <td>13</td>\n",
       "      <td>...</td>\n",
       "      <td>40</td>\n",
       "      <td>68</td>\n",
       "      <td>15</td>\n",
       "      <td>21</td>\n",
       "      <td>13</td>\n",
       "      <td>90</td>\n",
       "      <td>85</td>\n",
       "      <td>87</td>\n",
       "      <td>88</td>\n",
       "      <td>94</td>\n",
       "    </tr>\n",
       "    <tr>\n",
       "      <th>4</th>\n",
       "      <td>4</td>\n",
       "      <td>K. De Bruyne</td>\n",
       "      <td>27</td>\n",
       "      <td>Belgium</td>\n",
       "      <td>Manchester City</td>\n",
       "      <td>102000000</td>\n",
       "      <td>355000</td>\n",
       "      <td>RCM</td>\n",
       "      <td>93</td>\n",
       "      <td>82</td>\n",
       "      <td>...</td>\n",
       "      <td>79</td>\n",
       "      <td>88</td>\n",
       "      <td>68</td>\n",
       "      <td>58</td>\n",
       "      <td>51</td>\n",
       "      <td>15</td>\n",
       "      <td>13</td>\n",
       "      <td>5</td>\n",
       "      <td>10</td>\n",
       "      <td>13</td>\n",
       "    </tr>\n",
       "  </tbody>\n",
       "</table>\n",
       "<p>5 rows × 42 columns</p>\n",
       "</div>"
      ]
     },
     "execution_count": 5,
     "metadata": {},
     "output_type": "execute_result"
    }
   ],
   "execution_count": 5
  },
  {
   "cell_type": "code",
   "metadata": {
    "id": "psHG7n9-z51p",
    "colab": {
     "base_uri": "https://localhost:8080/"
    },
    "outputId": "6e7487de-2ddc-4fa2-a28a-af377eef134c",
    "ExecuteTime": {
     "end_time": "2024-05-10T10:20:35.275784Z",
     "start_time": "2024-05-10T10:20:35.256166Z"
    }
   },
   "source": [
    "football.info()"
   ],
   "outputs": [
    {
     "name": "stdout",
     "output_type": "stream",
     "text": [
      "<class 'pandas.core.frame.DataFrame'>\n",
      "RangeIndex: 12897 entries, 0 to 12896\n",
      "Data columns (total 42 columns):\n",
      " #   Column           Non-Null Count  Dtype \n",
      "---  ------           --------------  ----- \n",
      " 0   Unnamed: 0       12897 non-null  int64 \n",
      " 1   Name             12897 non-null  object\n",
      " 2   Age              12897 non-null  int64 \n",
      " 3   Nationality      12897 non-null  object\n",
      " 4   Club             12897 non-null  object\n",
      " 5   Value            12897 non-null  int64 \n",
      " 6   Wage             12897 non-null  int64 \n",
      " 7   Position         12897 non-null  object\n",
      " 8   Crossing         12897 non-null  int64 \n",
      " 9   Finishing        12897 non-null  int64 \n",
      " 10  HeadingAccuracy  12897 non-null  int64 \n",
      " 11  ShortPassing     12897 non-null  int64 \n",
      " 12  Volleys          12897 non-null  int64 \n",
      " 13  Dribbling        12897 non-null  int64 \n",
      " 14  Curve            12897 non-null  int64 \n",
      " 15  FKAccuracy       12897 non-null  int64 \n",
      " 16  LongPassing      12897 non-null  int64 \n",
      " 17  BallControl      12897 non-null  int64 \n",
      " 18  Acceleration     12897 non-null  int64 \n",
      " 19  SprintSpeed      12897 non-null  int64 \n",
      " 20  Agility          12897 non-null  int64 \n",
      " 21  Reactions        12897 non-null  int64 \n",
      " 22  Balance          12897 non-null  int64 \n",
      " 23  ShotPower        12897 non-null  int64 \n",
      " 24  Jumping          12897 non-null  int64 \n",
      " 25  Stamina          12897 non-null  int64 \n",
      " 26  Strength         12897 non-null  int64 \n",
      " 27  LongShots        12897 non-null  int64 \n",
      " 28  Aggression       12897 non-null  int64 \n",
      " 29  Interceptions    12897 non-null  int64 \n",
      " 30  Positioning      12897 non-null  int64 \n",
      " 31  Vision           12897 non-null  int64 \n",
      " 32  Penalties        12897 non-null  int64 \n",
      " 33  Composure        12897 non-null  int64 \n",
      " 34  Marking          12897 non-null  int64 \n",
      " 35  StandingTackle   12897 non-null  int64 \n",
      " 36  SlidingTackle    12897 non-null  int64 \n",
      " 37  GKDiving         12897 non-null  int64 \n",
      " 38  GKHandling       12897 non-null  int64 \n",
      " 39  GKKicking        12897 non-null  int64 \n",
      " 40  GKPositioning    12897 non-null  int64 \n",
      " 41  GKReflexes       12897 non-null  int64 \n",
      "dtypes: int64(38), object(4)\n",
      "memory usage: 4.1+ MB\n"
     ]
    }
   ],
   "execution_count": 6
  },
  {
   "cell_type": "markdown",
   "metadata": {
    "id": "wzvnJ_x0z51q"
   },
   "source": [
    "Метод `describe` показывает основные статистические характеристики данных по каждому числовому признаку (типы `int64` и `float64`): число непропущенных значений, среднее, стандартное отклонение, диапазон, медиану, `0.25` и `0.75` квантили."
   ]
  },
  {
   "cell_type": "code",
   "metadata": {
    "id": "xuvJXXb1z51r",
    "colab": {
     "base_uri": "https://localhost:8080/",
     "height": 350
    },
    "outputId": "34e25434-6a52-4126-ff7a-e8979f83abe2",
    "ExecuteTime": {
     "end_time": "2024-05-10T10:20:35.420018Z",
     "start_time": "2024-05-10T10:20:35.278014Z"
    }
   },
   "source": [
    "football.describe()"
   ],
   "outputs": [
    {
     "data": {
      "text/plain": [
       "         Unnamed: 0           Age         Value           Wage      Crossing  \\\n",
       "count  12897.000000  12897.000000  1.289700e+04   12897.000000  12897.000000   \n",
       "mean    6605.040862     24.795379  2.112449e+06    7517.562224     47.076374   \n",
       "std     3782.545526      4.872212  6.498424e+06   23061.985387     18.043470   \n",
       "min        0.000000     16.000000  0.000000e+00    1000.000000      5.000000   \n",
       "25%     3357.000000     21.000000  2.500000e+05    1000.000000     35.000000   \n",
       "50%     6622.000000     24.000000  5.000000e+05    2000.000000     51.000000   \n",
       "75%     9876.000000     28.000000  8.500000e+05    4000.000000     61.000000   \n",
       "max    13125.000000     45.000000  1.185000e+08  565000.000000     93.000000   \n",
       "\n",
       "          Finishing  HeadingAccuracy  ShortPassing       Volleys  \\\n",
       "count  12897.000000     12897.000000  12897.000000  12897.000000   \n",
       "mean      42.876328        50.202528     56.026983     40.295030   \n",
       "std       19.096935        17.281593     14.740436     17.080687   \n",
       "min        2.000000         4.000000      7.000000      4.000000   \n",
       "25%       28.000000        43.000000     50.000000     28.000000   \n",
       "50%       45.000000        54.000000     60.000000     41.000000   \n",
       "75%       59.000000        62.000000     65.000000     53.000000   \n",
       "max       95.000000        94.000000     93.000000     90.000000   \n",
       "\n",
       "          Dribbling  ...     Penalties     Composure       Marking  \\\n",
       "count  12897.000000  ...  12897.000000  12897.000000  12897.000000   \n",
       "mean      52.461735  ...     46.459874     55.942932     45.655811   \n",
       "std       18.871643  ...     15.479313     11.280631     19.456346   \n",
       "min        4.000000  ...      5.000000     12.000000      3.000000   \n",
       "25%       45.000000  ...     37.000000     49.000000     29.000000   \n",
       "50%       58.000000  ...     47.000000     56.000000     51.000000   \n",
       "75%       65.000000  ...     58.000000     63.000000     62.000000   \n",
       "max       97.000000  ...     91.000000     96.000000     93.000000   \n",
       "\n",
       "       StandingTackle  SlidingTackle      GKDiving    GKHandling  \\\n",
       "count    12897.000000   12897.000000  12897.000000  12897.000000   \n",
       "mean        46.186710      44.386679     17.218345     16.962317   \n",
       "std         21.172586      20.726546     18.085618     17.349624   \n",
       "min          2.000000       3.000000      1.000000      1.000000   \n",
       "25%         25.000000      23.000000      8.000000      8.000000   \n",
       "50%         54.000000      51.000000     11.000000     11.000000   \n",
       "75%         64.000000      62.000000     14.000000     14.000000   \n",
       "max         93.000000      91.000000     90.000000     92.000000   \n",
       "\n",
       "          GKKicking  GKPositioning    GKReflexes  \n",
       "count  12897.000000   12897.000000  12897.000000  \n",
       "mean      16.797938      16.950221     17.315965  \n",
       "std       16.971411      17.369297     18.335817  \n",
       "min        1.000000       1.000000      1.000000  \n",
       "25%        8.000000       8.000000      8.000000  \n",
       "50%       11.000000      11.000000     11.000000  \n",
       "75%       14.000000      14.000000     14.000000  \n",
       "max       91.000000      90.000000     94.000000  \n",
       "\n",
       "[8 rows x 38 columns]"
      ],
      "text/html": [
       "<div>\n",
       "<style scoped>\n",
       "    .dataframe tbody tr th:only-of-type {\n",
       "        vertical-align: middle;\n",
       "    }\n",
       "\n",
       "    .dataframe tbody tr th {\n",
       "        vertical-align: top;\n",
       "    }\n",
       "\n",
       "    .dataframe thead th {\n",
       "        text-align: right;\n",
       "    }\n",
       "</style>\n",
       "<table border=\"1\" class=\"dataframe\">\n",
       "  <thead>\n",
       "    <tr style=\"text-align: right;\">\n",
       "      <th></th>\n",
       "      <th>Unnamed: 0</th>\n",
       "      <th>Age</th>\n",
       "      <th>Value</th>\n",
       "      <th>Wage</th>\n",
       "      <th>Crossing</th>\n",
       "      <th>Finishing</th>\n",
       "      <th>HeadingAccuracy</th>\n",
       "      <th>ShortPassing</th>\n",
       "      <th>Volleys</th>\n",
       "      <th>Dribbling</th>\n",
       "      <th>...</th>\n",
       "      <th>Penalties</th>\n",
       "      <th>Composure</th>\n",
       "      <th>Marking</th>\n",
       "      <th>StandingTackle</th>\n",
       "      <th>SlidingTackle</th>\n",
       "      <th>GKDiving</th>\n",
       "      <th>GKHandling</th>\n",
       "      <th>GKKicking</th>\n",
       "      <th>GKPositioning</th>\n",
       "      <th>GKReflexes</th>\n",
       "    </tr>\n",
       "  </thead>\n",
       "  <tbody>\n",
       "    <tr>\n",
       "      <th>count</th>\n",
       "      <td>12897.000000</td>\n",
       "      <td>12897.000000</td>\n",
       "      <td>1.289700e+04</td>\n",
       "      <td>12897.000000</td>\n",
       "      <td>12897.000000</td>\n",
       "      <td>12897.000000</td>\n",
       "      <td>12897.000000</td>\n",
       "      <td>12897.000000</td>\n",
       "      <td>12897.000000</td>\n",
       "      <td>12897.000000</td>\n",
       "      <td>...</td>\n",
       "      <td>12897.000000</td>\n",
       "      <td>12897.000000</td>\n",
       "      <td>12897.000000</td>\n",
       "      <td>12897.000000</td>\n",
       "      <td>12897.000000</td>\n",
       "      <td>12897.000000</td>\n",
       "      <td>12897.000000</td>\n",
       "      <td>12897.000000</td>\n",
       "      <td>12897.000000</td>\n",
       "      <td>12897.000000</td>\n",
       "    </tr>\n",
       "    <tr>\n",
       "      <th>mean</th>\n",
       "      <td>6605.040862</td>\n",
       "      <td>24.795379</td>\n",
       "      <td>2.112449e+06</td>\n",
       "      <td>7517.562224</td>\n",
       "      <td>47.076374</td>\n",
       "      <td>42.876328</td>\n",
       "      <td>50.202528</td>\n",
       "      <td>56.026983</td>\n",
       "      <td>40.295030</td>\n",
       "      <td>52.461735</td>\n",
       "      <td>...</td>\n",
       "      <td>46.459874</td>\n",
       "      <td>55.942932</td>\n",
       "      <td>45.655811</td>\n",
       "      <td>46.186710</td>\n",
       "      <td>44.386679</td>\n",
       "      <td>17.218345</td>\n",
       "      <td>16.962317</td>\n",
       "      <td>16.797938</td>\n",
       "      <td>16.950221</td>\n",
       "      <td>17.315965</td>\n",
       "    </tr>\n",
       "    <tr>\n",
       "      <th>std</th>\n",
       "      <td>3782.545526</td>\n",
       "      <td>4.872212</td>\n",
       "      <td>6.498424e+06</td>\n",
       "      <td>23061.985387</td>\n",
       "      <td>18.043470</td>\n",
       "      <td>19.096935</td>\n",
       "      <td>17.281593</td>\n",
       "      <td>14.740436</td>\n",
       "      <td>17.080687</td>\n",
       "      <td>18.871643</td>\n",
       "      <td>...</td>\n",
       "      <td>15.479313</td>\n",
       "      <td>11.280631</td>\n",
       "      <td>19.456346</td>\n",
       "      <td>21.172586</td>\n",
       "      <td>20.726546</td>\n",
       "      <td>18.085618</td>\n",
       "      <td>17.349624</td>\n",
       "      <td>16.971411</td>\n",
       "      <td>17.369297</td>\n",
       "      <td>18.335817</td>\n",
       "    </tr>\n",
       "    <tr>\n",
       "      <th>min</th>\n",
       "      <td>0.000000</td>\n",
       "      <td>16.000000</td>\n",
       "      <td>0.000000e+00</td>\n",
       "      <td>1000.000000</td>\n",
       "      <td>5.000000</td>\n",
       "      <td>2.000000</td>\n",
       "      <td>4.000000</td>\n",
       "      <td>7.000000</td>\n",
       "      <td>4.000000</td>\n",
       "      <td>4.000000</td>\n",
       "      <td>...</td>\n",
       "      <td>5.000000</td>\n",
       "      <td>12.000000</td>\n",
       "      <td>3.000000</td>\n",
       "      <td>2.000000</td>\n",
       "      <td>3.000000</td>\n",
       "      <td>1.000000</td>\n",
       "      <td>1.000000</td>\n",
       "      <td>1.000000</td>\n",
       "      <td>1.000000</td>\n",
       "      <td>1.000000</td>\n",
       "    </tr>\n",
       "    <tr>\n",
       "      <th>25%</th>\n",
       "      <td>3357.000000</td>\n",
       "      <td>21.000000</td>\n",
       "      <td>2.500000e+05</td>\n",
       "      <td>1000.000000</td>\n",
       "      <td>35.000000</td>\n",
       "      <td>28.000000</td>\n",
       "      <td>43.000000</td>\n",
       "      <td>50.000000</td>\n",
       "      <td>28.000000</td>\n",
       "      <td>45.000000</td>\n",
       "      <td>...</td>\n",
       "      <td>37.000000</td>\n",
       "      <td>49.000000</td>\n",
       "      <td>29.000000</td>\n",
       "      <td>25.000000</td>\n",
       "      <td>23.000000</td>\n",
       "      <td>8.000000</td>\n",
       "      <td>8.000000</td>\n",
       "      <td>8.000000</td>\n",
       "      <td>8.000000</td>\n",
       "      <td>8.000000</td>\n",
       "    </tr>\n",
       "    <tr>\n",
       "      <th>50%</th>\n",
       "      <td>6622.000000</td>\n",
       "      <td>24.000000</td>\n",
       "      <td>5.000000e+05</td>\n",
       "      <td>2000.000000</td>\n",
       "      <td>51.000000</td>\n",
       "      <td>45.000000</td>\n",
       "      <td>54.000000</td>\n",
       "      <td>60.000000</td>\n",
       "      <td>41.000000</td>\n",
       "      <td>58.000000</td>\n",
       "      <td>...</td>\n",
       "      <td>47.000000</td>\n",
       "      <td>56.000000</td>\n",
       "      <td>51.000000</td>\n",
       "      <td>54.000000</td>\n",
       "      <td>51.000000</td>\n",
       "      <td>11.000000</td>\n",
       "      <td>11.000000</td>\n",
       "      <td>11.000000</td>\n",
       "      <td>11.000000</td>\n",
       "      <td>11.000000</td>\n",
       "    </tr>\n",
       "    <tr>\n",
       "      <th>75%</th>\n",
       "      <td>9876.000000</td>\n",
       "      <td>28.000000</td>\n",
       "      <td>8.500000e+05</td>\n",
       "      <td>4000.000000</td>\n",
       "      <td>61.000000</td>\n",
       "      <td>59.000000</td>\n",
       "      <td>62.000000</td>\n",
       "      <td>65.000000</td>\n",
       "      <td>53.000000</td>\n",
       "      <td>65.000000</td>\n",
       "      <td>...</td>\n",
       "      <td>58.000000</td>\n",
       "      <td>63.000000</td>\n",
       "      <td>62.000000</td>\n",
       "      <td>64.000000</td>\n",
       "      <td>62.000000</td>\n",
       "      <td>14.000000</td>\n",
       "      <td>14.000000</td>\n",
       "      <td>14.000000</td>\n",
       "      <td>14.000000</td>\n",
       "      <td>14.000000</td>\n",
       "    </tr>\n",
       "    <tr>\n",
       "      <th>max</th>\n",
       "      <td>13125.000000</td>\n",
       "      <td>45.000000</td>\n",
       "      <td>1.185000e+08</td>\n",
       "      <td>565000.000000</td>\n",
       "      <td>93.000000</td>\n",
       "      <td>95.000000</td>\n",
       "      <td>94.000000</td>\n",
       "      <td>93.000000</td>\n",
       "      <td>90.000000</td>\n",
       "      <td>97.000000</td>\n",
       "      <td>...</td>\n",
       "      <td>91.000000</td>\n",
       "      <td>96.000000</td>\n",
       "      <td>93.000000</td>\n",
       "      <td>93.000000</td>\n",
       "      <td>91.000000</td>\n",
       "      <td>90.000000</td>\n",
       "      <td>92.000000</td>\n",
       "      <td>91.000000</td>\n",
       "      <td>90.000000</td>\n",
       "      <td>94.000000</td>\n",
       "    </tr>\n",
       "  </tbody>\n",
       "</table>\n",
       "<p>8 rows × 38 columns</p>\n",
       "</div>"
      ]
     },
     "execution_count": 7,
     "metadata": {},
     "output_type": "execute_result"
    }
   ],
   "execution_count": 7
  },
  {
   "cell_type": "markdown",
   "metadata": {
    "id": "uencChPkz51r"
   },
   "source": [
    "Здесь для каждого числового (`int64`) столбца показано число непустых значений (`count`), среднее (`mean`), стандартное отклонение (`std`), минимум и максимум (`min` и `max`), `25%` и `75%` квантили и медиана (`50%`).\n",
    "\n",
    "Чтобы посмотреть статистику по нечисловым признакам (например, по строчным (`object`) или булевым (`bool`) данным), нужно явно указать интересующие нас типы в параметре `include` метода `describe`:"
   ]
  },
  {
   "cell_type": "code",
   "metadata": {
    "id": "EqanAjOkz51s",
    "colab": {
     "base_uri": "https://localhost:8080/",
     "height": 175
    },
    "outputId": "ef4eaca5-68fb-4a07-a01b-73912b8dc19a",
    "ExecuteTime": {
     "end_time": "2024-05-10T10:20:35.450127Z",
     "start_time": "2024-05-10T10:20:35.423733Z"
    }
   },
   "source": [
    "football.describe(include=['object'])"
   ],
   "outputs": [
    {
     "data": {
      "text/plain": [
       "                Name Nationality              Club Position\n",
       "count          12897       12897             12897    12897\n",
       "unique         12326         156               650       27\n",
       "top     J. Rodríguez     England  V-Varen Nagasaki       GK\n",
       "freq               9        1368                30     1641"
      ],
      "text/html": [
       "<div>\n",
       "<style scoped>\n",
       "    .dataframe tbody tr th:only-of-type {\n",
       "        vertical-align: middle;\n",
       "    }\n",
       "\n",
       "    .dataframe tbody tr th {\n",
       "        vertical-align: top;\n",
       "    }\n",
       "\n",
       "    .dataframe thead th {\n",
       "        text-align: right;\n",
       "    }\n",
       "</style>\n",
       "<table border=\"1\" class=\"dataframe\">\n",
       "  <thead>\n",
       "    <tr style=\"text-align: right;\">\n",
       "      <th></th>\n",
       "      <th>Name</th>\n",
       "      <th>Nationality</th>\n",
       "      <th>Club</th>\n",
       "      <th>Position</th>\n",
       "    </tr>\n",
       "  </thead>\n",
       "  <tbody>\n",
       "    <tr>\n",
       "      <th>count</th>\n",
       "      <td>12897</td>\n",
       "      <td>12897</td>\n",
       "      <td>12897</td>\n",
       "      <td>12897</td>\n",
       "    </tr>\n",
       "    <tr>\n",
       "      <th>unique</th>\n",
       "      <td>12326</td>\n",
       "      <td>156</td>\n",
       "      <td>650</td>\n",
       "      <td>27</td>\n",
       "    </tr>\n",
       "    <tr>\n",
       "      <th>top</th>\n",
       "      <td>J. Rodríguez</td>\n",
       "      <td>England</td>\n",
       "      <td>V-Varen Nagasaki</td>\n",
       "      <td>GK</td>\n",
       "    </tr>\n",
       "    <tr>\n",
       "      <th>freq</th>\n",
       "      <td>9</td>\n",
       "      <td>1368</td>\n",
       "      <td>30</td>\n",
       "      <td>1641</td>\n",
       "    </tr>\n",
       "  </tbody>\n",
       "</table>\n",
       "</div>"
      ]
     },
     "execution_count": 8,
     "metadata": {},
     "output_type": "execute_result"
    }
   ],
   "execution_count": 8
  },
  {
   "cell_type": "markdown",
   "metadata": {
    "id": "K8hqKuDSz51t"
   },
   "source": [
    "Здесь для каждой колонки с типом `object` (строчные данные) выводится количество непустых строк (count), уникальных значений (unique), самое частое значение (`top`) и частота этого значения (`freq`)."
   ]
  },
  {
   "cell_type": "markdown",
   "metadata": {
    "id": "nL9VfLzqz51t"
   },
   "source": [
    "Для вычисления отдельных статистических параметров `DataFrame` можно использовать не только метод `.describe()`, но и отдельные методы для каждого параметра:"
   ]
  },
  {
   "cell_type": "markdown",
   "metadata": {
    "id": "ULebrwnGz51t"
   },
   "source": [
    "|Метод   | Статистический параметр  |\n",
    "|---|---|\n",
    "|.max()|Максимум  |\n",
    "|.min()|Минимум   |\n",
    "|.mean()|Среднее значение   |\n",
    "|.sum()| Сумма  |\n",
    "|.count()|Количество непустых элементов   |\n",
    "|.std()|Стандартное отклонение   |\n"
   ]
  },
  {
   "cell_type": "markdown",
   "metadata": {
    "id": "3U3S-cV_z51u"
   },
   "source": [
    "Если один из этих методов применить ко всему `DataFrame`, то в результате его работы будет получен объект типа `Series`. В случае применения метода к отдельному столбцу, результатом вычислений станет число (среднее значение элементов столбца, минимум, максимум и т.п.).\n",
    "\n",
    "В каждый метод можно передать некоторые параметры, среди которых:\n",
    "\n",
    "- `axis` — определяет, подсчитывать максимум по строкам (1) или по столбцам (0) (по умолчанию 0);\n",
    "- `numeric_only` — определяет, вычислять параметры только по числовым столбцам/строкам или нет (`True/False`). Если передать `False` в методы `.mean()` или `.std()`, компилятор выдаст ошибку.\n",
    "\n",
    "Пример применения:"
   ]
  },
  {
   "cell_type": "code",
   "metadata": {
    "id": "9cWBTcDqz51u",
    "colab": {
     "base_uri": "https://localhost:8080/",
     "height": 363
    },
    "outputId": "cf46e6c2-ce6d-404f-9666-58c53b1e0b14",
    "ExecuteTime": {
     "end_time": "2024-05-10T10:20:35.469345Z",
     "start_time": "2024-05-10T10:20:35.451588Z"
    }
   },
   "source": [
    "df = pd.DataFrame([[i, i + 1.2, i + 2, 'hi'] for i in range(10)],\n",
    "                  columns=['foo', 'bar', 'baz', 'foobar'])\n",
    "df"
   ],
   "outputs": [
    {
     "data": {
      "text/plain": [
       "   foo   bar  baz foobar\n",
       "0    0   1.2    2     hi\n",
       "1    1   2.2    3     hi\n",
       "2    2   3.2    4     hi\n",
       "3    3   4.2    5     hi\n",
       "4    4   5.2    6     hi\n",
       "5    5   6.2    7     hi\n",
       "6    6   7.2    8     hi\n",
       "7    7   8.2    9     hi\n",
       "8    8   9.2   10     hi\n",
       "9    9  10.2   11     hi"
      ],
      "text/html": [
       "<div>\n",
       "<style scoped>\n",
       "    .dataframe tbody tr th:only-of-type {\n",
       "        vertical-align: middle;\n",
       "    }\n",
       "\n",
       "    .dataframe tbody tr th {\n",
       "        vertical-align: top;\n",
       "    }\n",
       "\n",
       "    .dataframe thead th {\n",
       "        text-align: right;\n",
       "    }\n",
       "</style>\n",
       "<table border=\"1\" class=\"dataframe\">\n",
       "  <thead>\n",
       "    <tr style=\"text-align: right;\">\n",
       "      <th></th>\n",
       "      <th>foo</th>\n",
       "      <th>bar</th>\n",
       "      <th>baz</th>\n",
       "      <th>foobar</th>\n",
       "    </tr>\n",
       "  </thead>\n",
       "  <tbody>\n",
       "    <tr>\n",
       "      <th>0</th>\n",
       "      <td>0</td>\n",
       "      <td>1.2</td>\n",
       "      <td>2</td>\n",
       "      <td>hi</td>\n",
       "    </tr>\n",
       "    <tr>\n",
       "      <th>1</th>\n",
       "      <td>1</td>\n",
       "      <td>2.2</td>\n",
       "      <td>3</td>\n",
       "      <td>hi</td>\n",
       "    </tr>\n",
       "    <tr>\n",
       "      <th>2</th>\n",
       "      <td>2</td>\n",
       "      <td>3.2</td>\n",
       "      <td>4</td>\n",
       "      <td>hi</td>\n",
       "    </tr>\n",
       "    <tr>\n",
       "      <th>3</th>\n",
       "      <td>3</td>\n",
       "      <td>4.2</td>\n",
       "      <td>5</td>\n",
       "      <td>hi</td>\n",
       "    </tr>\n",
       "    <tr>\n",
       "      <th>4</th>\n",
       "      <td>4</td>\n",
       "      <td>5.2</td>\n",
       "      <td>6</td>\n",
       "      <td>hi</td>\n",
       "    </tr>\n",
       "    <tr>\n",
       "      <th>5</th>\n",
       "      <td>5</td>\n",
       "      <td>6.2</td>\n",
       "      <td>7</td>\n",
       "      <td>hi</td>\n",
       "    </tr>\n",
       "    <tr>\n",
       "      <th>6</th>\n",
       "      <td>6</td>\n",
       "      <td>7.2</td>\n",
       "      <td>8</td>\n",
       "      <td>hi</td>\n",
       "    </tr>\n",
       "    <tr>\n",
       "      <th>7</th>\n",
       "      <td>7</td>\n",
       "      <td>8.2</td>\n",
       "      <td>9</td>\n",
       "      <td>hi</td>\n",
       "    </tr>\n",
       "    <tr>\n",
       "      <th>8</th>\n",
       "      <td>8</td>\n",
       "      <td>9.2</td>\n",
       "      <td>10</td>\n",
       "      <td>hi</td>\n",
       "    </tr>\n",
       "    <tr>\n",
       "      <th>9</th>\n",
       "      <td>9</td>\n",
       "      <td>10.2</td>\n",
       "      <td>11</td>\n",
       "      <td>hi</td>\n",
       "    </tr>\n",
       "  </tbody>\n",
       "</table>\n",
       "</div>"
      ]
     },
     "execution_count": 9,
     "metadata": {},
     "output_type": "execute_result"
    }
   ],
   "execution_count": 9
  },
  {
   "cell_type": "code",
   "metadata": {
    "id": "wll_f1vMz51v",
    "colab": {
     "base_uri": "https://localhost:8080/"
    },
    "outputId": "1eb65524-7703-4a0d-cb45-4b23344d1387",
    "ExecuteTime": {
     "end_time": "2024-05-10T10:20:35.479601Z",
     "start_time": "2024-05-10T10:20:35.471670Z"
    }
   },
   "source": [
    "df.foo"
   ],
   "outputs": [
    {
     "data": {
      "text/plain": [
       "0    0\n",
       "1    1\n",
       "2    2\n",
       "3    3\n",
       "4    4\n",
       "5    5\n",
       "6    6\n",
       "7    7\n",
       "8    8\n",
       "9    9\n",
       "Name: foo, dtype: int64"
      ]
     },
     "execution_count": 10,
     "metadata": {},
     "output_type": "execute_result"
    }
   ],
   "execution_count": 10
  },
  {
   "cell_type": "code",
   "source": [
    "df['foo']"
   ],
   "metadata": {
    "colab": {
     "base_uri": "https://localhost:8080/"
    },
    "id": "M87PUhzzyhml",
    "outputId": "20134582-4ed8-4f35-996a-a1491636d054",
    "ExecuteTime": {
     "end_time": "2024-05-10T10:20:35.489820Z",
     "start_time": "2024-05-10T10:20:35.482276Z"
    }
   },
   "outputs": [
    {
     "data": {
      "text/plain": [
       "0    0\n",
       "1    1\n",
       "2    2\n",
       "3    3\n",
       "4    4\n",
       "5    5\n",
       "6    6\n",
       "7    7\n",
       "8    8\n",
       "9    9\n",
       "Name: foo, dtype: int64"
      ]
     },
     "execution_count": 11,
     "metadata": {},
     "output_type": "execute_result"
    }
   ],
   "execution_count": 11
  },
  {
   "cell_type": "markdown",
   "metadata": {
    "id": "DASJg59Az51v"
   },
   "source": [
    "Как мы помним, колонки в `DataFrame` представляют собой `Series`, поэтому к ним можно применять методы `.max()`, `.std()` и другие."
   ]
  },
  {
   "cell_type": "code",
   "metadata": {
    "id": "Neh8E76Qz51w",
    "colab": {
     "base_uri": "https://localhost:8080/"
    },
    "outputId": "a5973c65-9726-4791-8515-5785d36dea0a",
    "ExecuteTime": {
     "end_time": "2024-05-10T10:20:35.501890Z",
     "start_time": "2024-05-10T10:20:35.495612Z"
    }
   },
   "source": [
    "df.bar.mean()"
   ],
   "outputs": [
    {
     "data": {
      "text/plain": [
       "5.7"
      ]
     },
     "execution_count": 12,
     "metadata": {},
     "output_type": "execute_result"
    }
   ],
   "execution_count": 12
  },
  {
   "cell_type": "markdown",
   "metadata": {
    "id": "ohH7dkOzz51w"
   },
   "source": [
    "Для следующего блока задач потребуется открыть уже известный набор данных о футболистах.\n",
    "\n",
    "### Задача 1\n",
    "\n",
    "Чему равен средний возраст (`Age`), футболистов в наборе данных, округлённый до целого?"
   ]
  },
  {
   "cell_type": "code",
   "metadata": {
    "id": "qqt7v21fz51w",
    "outputId": "25a374ec-fe49-4ff9-f18c-cfb533a404a7",
    "colab": {
     "base_uri": "https://localhost:8080/"
    },
    "ExecuteTime": {
     "end_time": "2024-05-10T10:20:35.905269Z",
     "start_time": "2024-05-10T10:20:35.504758Z"
    }
   },
   "source": [
    "\n",
    "url = \"https://raw.githubusercontent.com/dm-fedorov/pandas_basic/master/data/football.csv\"\n",
    "football = pd.read_csv(url)\n",
    "\n",
    "average_age = round(football['Age'].mean())\n",
    "print(\"Средний возраст футболистов:\", average_age)\n"
   ],
   "outputs": [
    {
     "name": "stdout",
     "output_type": "stream",
     "text": [
      "Средний возраст футболистов: 25\n"
     ]
    }
   ],
   "execution_count": 13
  },
  {
   "cell_type": "markdown",
   "metadata": {
    "id": "GHIxuKfgz51w"
   },
   "source": [
    "### Задача 2\n",
    "\n",
    "Каково количество непустых строк в колонке `Composure` (Хладнокровие) набора данных о футболистах?\n"
   ]
  },
  {
   "cell_type": "code",
   "metadata": {
    "id": "KlwU8dwZz51w",
    "outputId": "e6162e7b-1f8e-457c-e142-07f4e61e5655",
    "colab": {
     "base_uri": "https://localhost:8080/"
    },
    "ExecuteTime": {
     "end_time": "2024-05-10T10:20:35.916750Z",
     "start_time": "2024-05-10T10:20:35.911912Z"
    }
   },
   "source": [
    "\n",
    "composure_count = football['Composure'].count()\n",
    "print(\"Количество непустых строк в колонке 'Composure':\", composure_count)\n"
   ],
   "outputs": [
    {
     "name": "stdout",
     "output_type": "stream",
     "text": [
      "Количество непустых строк в колонке 'Composure': 12897\n"
     ]
    }
   ],
   "execution_count": 14
  },
  {
   "cell_type": "markdown",
   "metadata": {
    "id": "erkk4LVxz51w"
   },
   "source": [
    "### Задача 3\n",
    "\n",
    "Каково в наборе данных о футболистах стандартное отклонение параметра коротких пасов (`ShortPassing`), округлённое до второго знака после запятой?"
   ]
  },
  {
   "cell_type": "code",
   "metadata": {
    "id": "aUQ-AVEBz51x",
    "outputId": "63178c5e-9149-437e-85da-dc1e926b3982",
    "colab": {
     "base_uri": "https://localhost:8080/"
    },
    "ExecuteTime": {
     "end_time": "2024-05-10T10:20:35.926340Z",
     "start_time": "2024-05-10T10:20:35.919672Z"
    }
   },
   "source": [
    "short_passing_std = round(football['ShortPassing'].std(), 2)\n",
    "print(\"Стандартное отклонение параметра коротких пасов (ShortPassing):\", short_passing_std)\n"
   ],
   "outputs": [
    {
     "name": "stdout",
     "output_type": "stream",
     "text": [
      "Стандартное отклонение параметра коротких пасов (ShortPassing): 14.74\n"
     ]
    }
   ],
   "execution_count": 15
  },
  {
   "cell_type": "markdown",
   "metadata": {
    "id": "dVICeH0zz51x"
   },
   "source": [
    "### Задача 4\n",
    "\n",
    "Какова сумма заработных плат за год (`Wage`) в наборе данных о футболистах?"
   ]
  },
  {
   "cell_type": "code",
   "metadata": {
    "id": "Kya4nu52z51x",
    "outputId": "22533caf-0e22-442f-aa89-aaf25c87e9cb",
    "colab": {
     "base_uri": "https://localhost:8080/"
    },
    "ExecuteTime": {
     "end_time": "2024-05-10T10:20:35.939294Z",
     "start_time": "2024-05-10T10:20:35.929340Z"
    }
   },
   "source": [
    "total_wage = football['Wage'].sum()\n",
    "print(\"Сумма заработных плат за год (Wage):\", total_wage)\n"
   ],
   "outputs": [
    {
     "name": "stdout",
     "output_type": "stream",
     "text": [
      "Сумма заработных плат за год (Wage): 96954000\n"
     ]
    }
   ],
   "execution_count": 16
  },
  {
   "cell_type": "markdown",
   "metadata": {
    "id": "Fg9Ej-Odz51x"
   },
   "source": [
    "### Задача 5\n",
    "\n",
    "Какова минимальная стоимость футболиста (`Value`) в наборе данных о футболистах?"
   ]
  },
  {
   "cell_type": "code",
   "metadata": {
    "id": "Fk8LPkDBz51x",
    "outputId": "8366486d-b213-4860-a649-fd3eefc30c0b",
    "colab": {
     "base_uri": "https://localhost:8080/"
    },
    "ExecuteTime": {
     "end_time": "2024-05-10T10:20:36.778504Z",
     "start_time": "2024-05-10T10:20:36.369041Z"
    }
   },
   "source": [
    "import pandas as pd\n",
    "\n",
    "url = \"https://raw.githubusercontent.com/dm-fedorov/pandas_basic/master/data/football.csv\"\n",
    "football = pd.read_csv(url)\n",
    "\n",
    "min_value = football['Value'].min()\n",
    "print(\"Минимальная стоимость футболиста (Value):\", min_value)\n"
   ],
   "outputs": [
    {
     "name": "stdout",
     "output_type": "stream",
     "text": [
      "Минимальная стоимость футболиста (Value): 0\n"
     ]
    }
   ],
   "execution_count": 17
  },
  {
   "cell_type": "markdown",
   "source": [
    "Далее выведу значения Value, чтобы проверить, что есть минимальная стоимость размером 0."
   ],
   "metadata": {
    "id": "lYsTvwf2vh8x"
   }
  },
  {
   "cell_type": "code",
   "source": [
    "import pandas as pd\n",
    "\n",
    "url = \"https://raw.githubusercontent.com/dm-fedorov/pandas_basic/master/data/football.csv\"\n",
    "football = pd.read_csv(url)\n",
    "\n",
    "unique_values = football['Value'].unique()\n",
    "print(\"Уникальные значения стоимости футболистов (Value):\\n\", unique_values)\n"
   ],
   "metadata": {
    "id": "hGQZthvEvZyk",
    "outputId": "7de4834d-54d6-4ed8-e93c-67b09823862c",
    "colab": {
     "base_uri": "https://localhost:8080/"
    },
    "ExecuteTime": {
     "end_time": "2024-05-10T10:20:37.177571Z",
     "start_time": "2024-05-10T10:20:36.781021Z"
    }
   },
   "outputs": [
    {
     "name": "stdout",
     "output_type": "stream",
     "text": [
      "Уникальные значения стоимости футболистов (Value):\n",
      " [110500000  77000000 118500000  72000000 102000000  93000000  67000000\n",
      "  80000000  51000000  68000000  76500000  44000000  60000000  63000000\n",
      "  89000000  83500000  78000000  58000000  53500000  51500000  38000000\n",
      "  64500000  27000000  81000000  69500000  59500000  62000000  73500000\n",
      "  59000000  46000000  43000000  36000000  57000000  24000000  30000000\n",
      "   4000000  64000000  30500000  62500000  52000000  45000000  34000000\n",
      "  46500000  61000000  41500000  44500000  56500000  53000000  50000000\n",
      "  55000000  36500000  45500000  43500000  35000000  39000000  18000000\n",
      "  21500000  50500000  54000000  40500000  37500000  28500000  37000000\n",
      "  32000000  26000000  33000000  38500000  35500000   9000000  15500000\n",
      "  22000000  14000000  42500000  42000000  25000000  31000000  29000000\n",
      "  23000000  19000000  40000000  41000000  28000000  34500000  32500000\n",
      "  20000000  21000000  13000000   8000000   6000000  17000000  15000000\n",
      "   3000000  16000000  10000000  11000000   7000000  12000000  20500000\n",
      "   2000000   1000000   5000000   9500000         0    600000  22500000\n",
      "   8500000  17500000    525000    900000  10500000    450000   5500000\n",
      "   7500000    775000    650000    750000    375000    270000    950000\n",
      "   3200000    550000    975000    725000    425000    210000    875000\n",
      "    675000   2100000    325000    800000    850000    160000   3300000\n",
      "   1300000    120000    825000    925000    625000    240000    500000\n",
      "    575000   1900000    200000   1700000    250000    700000    350000\n",
      "    475000    300000     70000    140000    230000   1800000   2500000\n",
      "   2200000   4200000    400000  13500000   4100000   1200000   3900000\n",
      "   3600000     60000   1400000    260000   6500000  29500000   1100000\n",
      "  24500000   1600000   1500000    180000    100000    220000     50000\n",
      "   2900000   2400000   2300000    290000     90000   4300000    150000\n",
      "   3500000     40000  14500000   2700000  11500000   2600000   3700000\n",
      "    280000   4900000    130000   3100000  18500000    190000    170000\n",
      "   4700000   4800000    110000     30000     80000   4400000   2800000\n",
      "     20000   3400000   3800000   4600000     10000  25500000   4500000]\n"
     ]
    }
   ],
   "execution_count": 18
  },
  {
   "cell_type": "markdown",
   "metadata": {
    "id": "hvlbRKyRz51x"
   },
   "source": [
    "Часто возникает необходимость выбрать данные из `DataFrame` по определённому условию. Например, если в уже известном нам наборе данных о футболистах мы хотим выбрать только тех, у кого возраст больше 20 лет, используется следующий код:"
   ]
  },
  {
   "cell_type": "code",
   "metadata": {
    "id": "6mnIh3Vvz51x",
    "ExecuteTime": {
     "end_time": "2024-05-10T10:20:37.847147Z",
     "start_time": "2024-05-10T10:20:37.449409Z"
    }
   },
   "source": [
    "import pandas as pd\n",
    "\n",
    "url = \"https://raw.githubusercontent.com/dm-fedorov/pandas_basic/master/data/football.csv\"\n",
    "football = pd.read_csv(url)"
   ],
   "outputs": [],
   "execution_count": 19
  },
  {
   "cell_type": "code",
   "metadata": {
    "id": "b63-vNRUz51x",
    "colab": {
     "base_uri": "https://localhost:8080/",
     "height": 669
    },
    "outputId": "336a4ca9-2dc3-4eba-b14c-f9afd2c26c5f",
    "ExecuteTime": {
     "end_time": "2024-05-10T10:20:37.891905Z",
     "start_time": "2024-05-10T10:20:37.850407Z"
    }
   },
   "source": [
    "football[football.Age > 20]"
   ],
   "outputs": [
    {
     "data": {
      "text/plain": [
       "       Unnamed: 0               Name  Age Nationality  \\\n",
       "0               0           L. Messi   31   Argentina   \n",
       "1               1  Cristiano Ronaldo   33    Portugal   \n",
       "2               2          Neymar Jr   26      Brazil   \n",
       "3               3             De Gea   27       Spain   \n",
       "4               4       K. De Bruyne   27     Belgium   \n",
       "...           ...                ...  ...         ...   \n",
       "12838       13067          D. Mackay   21    Scotland   \n",
       "12857       13086             Wu Lei   21    China PR   \n",
       "12861       13090        Y. Uchimura   33       Japan   \n",
       "12870       13099           M. Hurst   22    Scotland   \n",
       "12873       13102      K. Pilkington   44     England   \n",
       "\n",
       "                             Club      Value    Wage Position  Crossing  \\\n",
       "0                    FC Barcelona  110500000  565000       RF        84   \n",
       "1                        Juventus   77000000  405000       ST        84   \n",
       "2             Paris Saint-Germain  118500000  290000       LW        79   \n",
       "3               Manchester United   72000000  260000       GK        17   \n",
       "4                 Manchester City  102000000  355000      RCM        93   \n",
       "...                           ...        ...     ...      ...       ...   \n",
       "12838                  Kilmarnock      30000    1000       GK        14   \n",
       "12857         Tianjin Quanjian FC    9000000    2000      LDM        52   \n",
       "12861  Hokkaido Consadole Sapporo      20000    1000      CAM        51   \n",
       "12870            St. Johnstone FC      40000    1000       GK        19   \n",
       "12873            Cambridge United          0    1000       GK        11   \n",
       "\n",
       "       Finishing  ...  Penalties  Composure  Marking  StandingTackle  \\\n",
       "0             95  ...         75         96       33              28   \n",
       "1             94  ...         85         95       28              31   \n",
       "2             87  ...         81         94       27              24   \n",
       "3             13  ...         40         68       15              21   \n",
       "4             82  ...         79         88       68              58   \n",
       "...          ...  ...        ...        ...      ...             ...   \n",
       "12838         20  ...         24         30       12              18   \n",
       "12857         29  ...         46         39       52              40   \n",
       "12861         31  ...         33         62       45              48   \n",
       "12870         15  ...         29         28       12              15   \n",
       "12873         12  ...         22         56       15              15   \n",
       "\n",
       "       SlidingTackle  GKDiving  GKHandling  GKKicking  GKPositioning  \\\n",
       "0                 26         6          11         15             14   \n",
       "1                 23         7          11         15             14   \n",
       "2                 33         9           9         15             15   \n",
       "3                 13        90          85         87             88   \n",
       "4                 51        15          13          5             10   \n",
       "...              ...       ...         ...        ...            ...   \n",
       "12838             18        48          50         47             48   \n",
       "12857             49         8          15         11              8   \n",
       "12861             42        13          15          7             15   \n",
       "12870             16        45          49         50             50   \n",
       "12873             13        45          48         44             49   \n",
       "\n",
       "       GKReflexes  \n",
       "0               8  \n",
       "1              11  \n",
       "2              11  \n",
       "3              94  \n",
       "4              13  \n",
       "...           ...  \n",
       "12838          48  \n",
       "12857           5  \n",
       "12861          15  \n",
       "12870          45  \n",
       "12873          46  \n",
       "\n",
       "[10025 rows x 42 columns]"
      ],
      "text/html": [
       "<div>\n",
       "<style scoped>\n",
       "    .dataframe tbody tr th:only-of-type {\n",
       "        vertical-align: middle;\n",
       "    }\n",
       "\n",
       "    .dataframe tbody tr th {\n",
       "        vertical-align: top;\n",
       "    }\n",
       "\n",
       "    .dataframe thead th {\n",
       "        text-align: right;\n",
       "    }\n",
       "</style>\n",
       "<table border=\"1\" class=\"dataframe\">\n",
       "  <thead>\n",
       "    <tr style=\"text-align: right;\">\n",
       "      <th></th>\n",
       "      <th>Unnamed: 0</th>\n",
       "      <th>Name</th>\n",
       "      <th>Age</th>\n",
       "      <th>Nationality</th>\n",
       "      <th>Club</th>\n",
       "      <th>Value</th>\n",
       "      <th>Wage</th>\n",
       "      <th>Position</th>\n",
       "      <th>Crossing</th>\n",
       "      <th>Finishing</th>\n",
       "      <th>...</th>\n",
       "      <th>Penalties</th>\n",
       "      <th>Composure</th>\n",
       "      <th>Marking</th>\n",
       "      <th>StandingTackle</th>\n",
       "      <th>SlidingTackle</th>\n",
       "      <th>GKDiving</th>\n",
       "      <th>GKHandling</th>\n",
       "      <th>GKKicking</th>\n",
       "      <th>GKPositioning</th>\n",
       "      <th>GKReflexes</th>\n",
       "    </tr>\n",
       "  </thead>\n",
       "  <tbody>\n",
       "    <tr>\n",
       "      <th>0</th>\n",
       "      <td>0</td>\n",
       "      <td>L. Messi</td>\n",
       "      <td>31</td>\n",
       "      <td>Argentina</td>\n",
       "      <td>FC Barcelona</td>\n",
       "      <td>110500000</td>\n",
       "      <td>565000</td>\n",
       "      <td>RF</td>\n",
       "      <td>84</td>\n",
       "      <td>95</td>\n",
       "      <td>...</td>\n",
       "      <td>75</td>\n",
       "      <td>96</td>\n",
       "      <td>33</td>\n",
       "      <td>28</td>\n",
       "      <td>26</td>\n",
       "      <td>6</td>\n",
       "      <td>11</td>\n",
       "      <td>15</td>\n",
       "      <td>14</td>\n",
       "      <td>8</td>\n",
       "    </tr>\n",
       "    <tr>\n",
       "      <th>1</th>\n",
       "      <td>1</td>\n",
       "      <td>Cristiano Ronaldo</td>\n",
       "      <td>33</td>\n",
       "      <td>Portugal</td>\n",
       "      <td>Juventus</td>\n",
       "      <td>77000000</td>\n",
       "      <td>405000</td>\n",
       "      <td>ST</td>\n",
       "      <td>84</td>\n",
       "      <td>94</td>\n",
       "      <td>...</td>\n",
       "      <td>85</td>\n",
       "      <td>95</td>\n",
       "      <td>28</td>\n",
       "      <td>31</td>\n",
       "      <td>23</td>\n",
       "      <td>7</td>\n",
       "      <td>11</td>\n",
       "      <td>15</td>\n",
       "      <td>14</td>\n",
       "      <td>11</td>\n",
       "    </tr>\n",
       "    <tr>\n",
       "      <th>2</th>\n",
       "      <td>2</td>\n",
       "      <td>Neymar Jr</td>\n",
       "      <td>26</td>\n",
       "      <td>Brazil</td>\n",
       "      <td>Paris Saint-Germain</td>\n",
       "      <td>118500000</td>\n",
       "      <td>290000</td>\n",
       "      <td>LW</td>\n",
       "      <td>79</td>\n",
       "      <td>87</td>\n",
       "      <td>...</td>\n",
       "      <td>81</td>\n",
       "      <td>94</td>\n",
       "      <td>27</td>\n",
       "      <td>24</td>\n",
       "      <td>33</td>\n",
       "      <td>9</td>\n",
       "      <td>9</td>\n",
       "      <td>15</td>\n",
       "      <td>15</td>\n",
       "      <td>11</td>\n",
       "    </tr>\n",
       "    <tr>\n",
       "      <th>3</th>\n",
       "      <td>3</td>\n",
       "      <td>De Gea</td>\n",
       "      <td>27</td>\n",
       "      <td>Spain</td>\n",
       "      <td>Manchester United</td>\n",
       "      <td>72000000</td>\n",
       "      <td>260000</td>\n",
       "      <td>GK</td>\n",
       "      <td>17</td>\n",
       "      <td>13</td>\n",
       "      <td>...</td>\n",
       "      <td>40</td>\n",
       "      <td>68</td>\n",
       "      <td>15</td>\n",
       "      <td>21</td>\n",
       "      <td>13</td>\n",
       "      <td>90</td>\n",
       "      <td>85</td>\n",
       "      <td>87</td>\n",
       "      <td>88</td>\n",
       "      <td>94</td>\n",
       "    </tr>\n",
       "    <tr>\n",
       "      <th>4</th>\n",
       "      <td>4</td>\n",
       "      <td>K. De Bruyne</td>\n",
       "      <td>27</td>\n",
       "      <td>Belgium</td>\n",
       "      <td>Manchester City</td>\n",
       "      <td>102000000</td>\n",
       "      <td>355000</td>\n",
       "      <td>RCM</td>\n",
       "      <td>93</td>\n",
       "      <td>82</td>\n",
       "      <td>...</td>\n",
       "      <td>79</td>\n",
       "      <td>88</td>\n",
       "      <td>68</td>\n",
       "      <td>58</td>\n",
       "      <td>51</td>\n",
       "      <td>15</td>\n",
       "      <td>13</td>\n",
       "      <td>5</td>\n",
       "      <td>10</td>\n",
       "      <td>13</td>\n",
       "    </tr>\n",
       "    <tr>\n",
       "      <th>...</th>\n",
       "      <td>...</td>\n",
       "      <td>...</td>\n",
       "      <td>...</td>\n",
       "      <td>...</td>\n",
       "      <td>...</td>\n",
       "      <td>...</td>\n",
       "      <td>...</td>\n",
       "      <td>...</td>\n",
       "      <td>...</td>\n",
       "      <td>...</td>\n",
       "      <td>...</td>\n",
       "      <td>...</td>\n",
       "      <td>...</td>\n",
       "      <td>...</td>\n",
       "      <td>...</td>\n",
       "      <td>...</td>\n",
       "      <td>...</td>\n",
       "      <td>...</td>\n",
       "      <td>...</td>\n",
       "      <td>...</td>\n",
       "      <td>...</td>\n",
       "    </tr>\n",
       "    <tr>\n",
       "      <th>12838</th>\n",
       "      <td>13067</td>\n",
       "      <td>D. Mackay</td>\n",
       "      <td>21</td>\n",
       "      <td>Scotland</td>\n",
       "      <td>Kilmarnock</td>\n",
       "      <td>30000</td>\n",
       "      <td>1000</td>\n",
       "      <td>GK</td>\n",
       "      <td>14</td>\n",
       "      <td>20</td>\n",
       "      <td>...</td>\n",
       "      <td>24</td>\n",
       "      <td>30</td>\n",
       "      <td>12</td>\n",
       "      <td>18</td>\n",
       "      <td>18</td>\n",
       "      <td>48</td>\n",
       "      <td>50</td>\n",
       "      <td>47</td>\n",
       "      <td>48</td>\n",
       "      <td>48</td>\n",
       "    </tr>\n",
       "    <tr>\n",
       "      <th>12857</th>\n",
       "      <td>13086</td>\n",
       "      <td>Wu Lei</td>\n",
       "      <td>21</td>\n",
       "      <td>China PR</td>\n",
       "      <td>Tianjin Quanjian FC</td>\n",
       "      <td>9000000</td>\n",
       "      <td>2000</td>\n",
       "      <td>LDM</td>\n",
       "      <td>52</td>\n",
       "      <td>29</td>\n",
       "      <td>...</td>\n",
       "      <td>46</td>\n",
       "      <td>39</td>\n",
       "      <td>52</td>\n",
       "      <td>40</td>\n",
       "      <td>49</td>\n",
       "      <td>8</td>\n",
       "      <td>15</td>\n",
       "      <td>11</td>\n",
       "      <td>8</td>\n",
       "      <td>5</td>\n",
       "    </tr>\n",
       "    <tr>\n",
       "      <th>12861</th>\n",
       "      <td>13090</td>\n",
       "      <td>Y. Uchimura</td>\n",
       "      <td>33</td>\n",
       "      <td>Japan</td>\n",
       "      <td>Hokkaido Consadole Sapporo</td>\n",
       "      <td>20000</td>\n",
       "      <td>1000</td>\n",
       "      <td>CAM</td>\n",
       "      <td>51</td>\n",
       "      <td>31</td>\n",
       "      <td>...</td>\n",
       "      <td>33</td>\n",
       "      <td>62</td>\n",
       "      <td>45</td>\n",
       "      <td>48</td>\n",
       "      <td>42</td>\n",
       "      <td>13</td>\n",
       "      <td>15</td>\n",
       "      <td>7</td>\n",
       "      <td>15</td>\n",
       "      <td>15</td>\n",
       "    </tr>\n",
       "    <tr>\n",
       "      <th>12870</th>\n",
       "      <td>13099</td>\n",
       "      <td>M. Hurst</td>\n",
       "      <td>22</td>\n",
       "      <td>Scotland</td>\n",
       "      <td>St. Johnstone FC</td>\n",
       "      <td>40000</td>\n",
       "      <td>1000</td>\n",
       "      <td>GK</td>\n",
       "      <td>19</td>\n",
       "      <td>15</td>\n",
       "      <td>...</td>\n",
       "      <td>29</td>\n",
       "      <td>28</td>\n",
       "      <td>12</td>\n",
       "      <td>15</td>\n",
       "      <td>16</td>\n",
       "      <td>45</td>\n",
       "      <td>49</td>\n",
       "      <td>50</td>\n",
       "      <td>50</td>\n",
       "      <td>45</td>\n",
       "    </tr>\n",
       "    <tr>\n",
       "      <th>12873</th>\n",
       "      <td>13102</td>\n",
       "      <td>K. Pilkington</td>\n",
       "      <td>44</td>\n",
       "      <td>England</td>\n",
       "      <td>Cambridge United</td>\n",
       "      <td>0</td>\n",
       "      <td>1000</td>\n",
       "      <td>GK</td>\n",
       "      <td>11</td>\n",
       "      <td>12</td>\n",
       "      <td>...</td>\n",
       "      <td>22</td>\n",
       "      <td>56</td>\n",
       "      <td>15</td>\n",
       "      <td>15</td>\n",
       "      <td>13</td>\n",
       "      <td>45</td>\n",
       "      <td>48</td>\n",
       "      <td>44</td>\n",
       "      <td>49</td>\n",
       "      <td>46</td>\n",
       "    </tr>\n",
       "  </tbody>\n",
       "</table>\n",
       "<p>10025 rows × 42 columns</p>\n",
       "</div>"
      ]
     },
     "execution_count": 20,
     "metadata": {},
     "output_type": "execute_result"
    }
   ],
   "execution_count": 20
  },
  {
   "cell_type": "markdown",
   "metadata": {
    "id": "Z4dYE0-Hz51x"
   },
   "source": [
    "Синтаксис этой конструкции достаточно прост. Внутри квадратных скобок передается список из `True` или `False`, который показывает, какие строки `DataFrame` нужно оставить, а какие убрать. Этот список генерируется сравнением `Series` `football.Age` с 20.\n",
    "\n",
    "Можно для фильтрации использовать и методы получения статистических параметров. Например, если нам нужны только те футболисты, возраст которых больше среднего возраста футболистов, можно использовать следующую конструкцию:"
   ]
  },
  {
   "cell_type": "code",
   "metadata": {
    "id": "GnqBv0uGz51y",
    "colab": {
     "base_uri": "https://localhost:8080/",
     "height": 652
    },
    "outputId": "155dbc7e-8253-46a2-8160-e9a1383dde49",
    "ExecuteTime": {
     "end_time": "2024-05-10T10:20:37.991593Z",
     "start_time": "2024-05-10T10:20:37.958545Z"
    }
   },
   "source": [
    "football[football.Age > football.Age.mean()]"
   ],
   "outputs": [
    {
     "data": {
      "text/plain": [
       "       Unnamed: 0               Name  Age   Nationality  \\\n",
       "0               0           L. Messi   31     Argentina   \n",
       "1               1  Cristiano Ronaldo   33      Portugal   \n",
       "2               2          Neymar Jr   26        Brazil   \n",
       "3               3             De Gea   27         Spain   \n",
       "4               4       K. De Bruyne   27       Belgium   \n",
       "...           ...                ...  ...           ...   \n",
       "12746       12975      Teng Shangkun   27      China PR   \n",
       "12749       12978         M. Mansour   26  Saudi Arabia   \n",
       "12767       12996          Sun Qibin   26      China PR   \n",
       "12861       13090        Y. Uchimura   33         Japan   \n",
       "12873       13102      K. Pilkington   44       England   \n",
       "\n",
       "                             Club      Value    Wage Position  Crossing  \\\n",
       "0                    FC Barcelona  110500000  565000       RF        84   \n",
       "1                        Juventus   77000000  405000       ST        84   \n",
       "2             Paris Saint-Germain  118500000  290000       LW        79   \n",
       "3               Manchester United   72000000  260000       GK        17   \n",
       "4                 Manchester City  102000000  355000      RCM        93   \n",
       "...                           ...        ...     ...      ...       ...   \n",
       "12746             Tianjin TEDA FC      20000    1000       GK        10   \n",
       "12749                    Al Batin      30000    2000       LB        36   \n",
       "12767         Tianjin Quanjian FC      20000    2000       GK        14   \n",
       "12861  Hokkaido Consadole Sapporo      20000    1000      CAM        51   \n",
       "12873            Cambridge United          0    1000       GK        11   \n",
       "\n",
       "       Finishing  ...  Penalties  Composure  Marking  StandingTackle  \\\n",
       "0             95  ...         75         96       33              28   \n",
       "1             94  ...         85         95       28              31   \n",
       "2             87  ...         81         94       27              24   \n",
       "3             13  ...         40         68       15              21   \n",
       "4             82  ...         79         88       68              58   \n",
       "...          ...  ...        ...        ...      ...             ...   \n",
       "12746          8  ...         17         58       28              10   \n",
       "12749         18  ...         33         37       45              54   \n",
       "12767          7  ...         12         30       46              11   \n",
       "12861         31  ...         33         62       45              48   \n",
       "12873         12  ...         22         56       15              15   \n",
       "\n",
       "       SlidingTackle  GKDiving  GKHandling  GKKicking  GKPositioning  \\\n",
       "0                 26         6          11         15             14   \n",
       "1                 23         7          11         15             14   \n",
       "2                 33         9           9         15             15   \n",
       "3                 13        90          85         87             88   \n",
       "4                 51        15          13          5             10   \n",
       "...              ...       ...         ...        ...            ...   \n",
       "12746             13        46          56         55             45   \n",
       "12749             54        10           8          6             13   \n",
       "12767             10        50          46         51             48   \n",
       "12861             42        13          15          7             15   \n",
       "12873             13        45          48         44             49   \n",
       "\n",
       "       GKReflexes  \n",
       "0               8  \n",
       "1              11  \n",
       "2              11  \n",
       "3              94  \n",
       "4              13  \n",
       "...           ...  \n",
       "12746          53  \n",
       "12749          13  \n",
       "12767          50  \n",
       "12861          15  \n",
       "12873          46  \n",
       "\n",
       "[6191 rows x 42 columns]"
      ],
      "text/html": [
       "<div>\n",
       "<style scoped>\n",
       "    .dataframe tbody tr th:only-of-type {\n",
       "        vertical-align: middle;\n",
       "    }\n",
       "\n",
       "    .dataframe tbody tr th {\n",
       "        vertical-align: top;\n",
       "    }\n",
       "\n",
       "    .dataframe thead th {\n",
       "        text-align: right;\n",
       "    }\n",
       "</style>\n",
       "<table border=\"1\" class=\"dataframe\">\n",
       "  <thead>\n",
       "    <tr style=\"text-align: right;\">\n",
       "      <th></th>\n",
       "      <th>Unnamed: 0</th>\n",
       "      <th>Name</th>\n",
       "      <th>Age</th>\n",
       "      <th>Nationality</th>\n",
       "      <th>Club</th>\n",
       "      <th>Value</th>\n",
       "      <th>Wage</th>\n",
       "      <th>Position</th>\n",
       "      <th>Crossing</th>\n",
       "      <th>Finishing</th>\n",
       "      <th>...</th>\n",
       "      <th>Penalties</th>\n",
       "      <th>Composure</th>\n",
       "      <th>Marking</th>\n",
       "      <th>StandingTackle</th>\n",
       "      <th>SlidingTackle</th>\n",
       "      <th>GKDiving</th>\n",
       "      <th>GKHandling</th>\n",
       "      <th>GKKicking</th>\n",
       "      <th>GKPositioning</th>\n",
       "      <th>GKReflexes</th>\n",
       "    </tr>\n",
       "  </thead>\n",
       "  <tbody>\n",
       "    <tr>\n",
       "      <th>0</th>\n",
       "      <td>0</td>\n",
       "      <td>L. Messi</td>\n",
       "      <td>31</td>\n",
       "      <td>Argentina</td>\n",
       "      <td>FC Barcelona</td>\n",
       "      <td>110500000</td>\n",
       "      <td>565000</td>\n",
       "      <td>RF</td>\n",
       "      <td>84</td>\n",
       "      <td>95</td>\n",
       "      <td>...</td>\n",
       "      <td>75</td>\n",
       "      <td>96</td>\n",
       "      <td>33</td>\n",
       "      <td>28</td>\n",
       "      <td>26</td>\n",
       "      <td>6</td>\n",
       "      <td>11</td>\n",
       "      <td>15</td>\n",
       "      <td>14</td>\n",
       "      <td>8</td>\n",
       "    </tr>\n",
       "    <tr>\n",
       "      <th>1</th>\n",
       "      <td>1</td>\n",
       "      <td>Cristiano Ronaldo</td>\n",
       "      <td>33</td>\n",
       "      <td>Portugal</td>\n",
       "      <td>Juventus</td>\n",
       "      <td>77000000</td>\n",
       "      <td>405000</td>\n",
       "      <td>ST</td>\n",
       "      <td>84</td>\n",
       "      <td>94</td>\n",
       "      <td>...</td>\n",
       "      <td>85</td>\n",
       "      <td>95</td>\n",
       "      <td>28</td>\n",
       "      <td>31</td>\n",
       "      <td>23</td>\n",
       "      <td>7</td>\n",
       "      <td>11</td>\n",
       "      <td>15</td>\n",
       "      <td>14</td>\n",
       "      <td>11</td>\n",
       "    </tr>\n",
       "    <tr>\n",
       "      <th>2</th>\n",
       "      <td>2</td>\n",
       "      <td>Neymar Jr</td>\n",
       "      <td>26</td>\n",
       "      <td>Brazil</td>\n",
       "      <td>Paris Saint-Germain</td>\n",
       "      <td>118500000</td>\n",
       "      <td>290000</td>\n",
       "      <td>LW</td>\n",
       "      <td>79</td>\n",
       "      <td>87</td>\n",
       "      <td>...</td>\n",
       "      <td>81</td>\n",
       "      <td>94</td>\n",
       "      <td>27</td>\n",
       "      <td>24</td>\n",
       "      <td>33</td>\n",
       "      <td>9</td>\n",
       "      <td>9</td>\n",
       "      <td>15</td>\n",
       "      <td>15</td>\n",
       "      <td>11</td>\n",
       "    </tr>\n",
       "    <tr>\n",
       "      <th>3</th>\n",
       "      <td>3</td>\n",
       "      <td>De Gea</td>\n",
       "      <td>27</td>\n",
       "      <td>Spain</td>\n",
       "      <td>Manchester United</td>\n",
       "      <td>72000000</td>\n",
       "      <td>260000</td>\n",
       "      <td>GK</td>\n",
       "      <td>17</td>\n",
       "      <td>13</td>\n",
       "      <td>...</td>\n",
       "      <td>40</td>\n",
       "      <td>68</td>\n",
       "      <td>15</td>\n",
       "      <td>21</td>\n",
       "      <td>13</td>\n",
       "      <td>90</td>\n",
       "      <td>85</td>\n",
       "      <td>87</td>\n",
       "      <td>88</td>\n",
       "      <td>94</td>\n",
       "    </tr>\n",
       "    <tr>\n",
       "      <th>4</th>\n",
       "      <td>4</td>\n",
       "      <td>K. De Bruyne</td>\n",
       "      <td>27</td>\n",
       "      <td>Belgium</td>\n",
       "      <td>Manchester City</td>\n",
       "      <td>102000000</td>\n",
       "      <td>355000</td>\n",
       "      <td>RCM</td>\n",
       "      <td>93</td>\n",
       "      <td>82</td>\n",
       "      <td>...</td>\n",
       "      <td>79</td>\n",
       "      <td>88</td>\n",
       "      <td>68</td>\n",
       "      <td>58</td>\n",
       "      <td>51</td>\n",
       "      <td>15</td>\n",
       "      <td>13</td>\n",
       "      <td>5</td>\n",
       "      <td>10</td>\n",
       "      <td>13</td>\n",
       "    </tr>\n",
       "    <tr>\n",
       "      <th>...</th>\n",
       "      <td>...</td>\n",
       "      <td>...</td>\n",
       "      <td>...</td>\n",
       "      <td>...</td>\n",
       "      <td>...</td>\n",
       "      <td>...</td>\n",
       "      <td>...</td>\n",
       "      <td>...</td>\n",
       "      <td>...</td>\n",
       "      <td>...</td>\n",
       "      <td>...</td>\n",
       "      <td>...</td>\n",
       "      <td>...</td>\n",
       "      <td>...</td>\n",
       "      <td>...</td>\n",
       "      <td>...</td>\n",
       "      <td>...</td>\n",
       "      <td>...</td>\n",
       "      <td>...</td>\n",
       "      <td>...</td>\n",
       "      <td>...</td>\n",
       "    </tr>\n",
       "    <tr>\n",
       "      <th>12746</th>\n",
       "      <td>12975</td>\n",
       "      <td>Teng Shangkun</td>\n",
       "      <td>27</td>\n",
       "      <td>China PR</td>\n",
       "      <td>Tianjin TEDA FC</td>\n",
       "      <td>20000</td>\n",
       "      <td>1000</td>\n",
       "      <td>GK</td>\n",
       "      <td>10</td>\n",
       "      <td>8</td>\n",
       "      <td>...</td>\n",
       "      <td>17</td>\n",
       "      <td>58</td>\n",
       "      <td>28</td>\n",
       "      <td>10</td>\n",
       "      <td>13</td>\n",
       "      <td>46</td>\n",
       "      <td>56</td>\n",
       "      <td>55</td>\n",
       "      <td>45</td>\n",
       "      <td>53</td>\n",
       "    </tr>\n",
       "    <tr>\n",
       "      <th>12749</th>\n",
       "      <td>12978</td>\n",
       "      <td>M. Mansour</td>\n",
       "      <td>26</td>\n",
       "      <td>Saudi Arabia</td>\n",
       "      <td>Al Batin</td>\n",
       "      <td>30000</td>\n",
       "      <td>2000</td>\n",
       "      <td>LB</td>\n",
       "      <td>36</td>\n",
       "      <td>18</td>\n",
       "      <td>...</td>\n",
       "      <td>33</td>\n",
       "      <td>37</td>\n",
       "      <td>45</td>\n",
       "      <td>54</td>\n",
       "      <td>54</td>\n",
       "      <td>10</td>\n",
       "      <td>8</td>\n",
       "      <td>6</td>\n",
       "      <td>13</td>\n",
       "      <td>13</td>\n",
       "    </tr>\n",
       "    <tr>\n",
       "      <th>12767</th>\n",
       "      <td>12996</td>\n",
       "      <td>Sun Qibin</td>\n",
       "      <td>26</td>\n",
       "      <td>China PR</td>\n",
       "      <td>Tianjin Quanjian FC</td>\n",
       "      <td>20000</td>\n",
       "      <td>2000</td>\n",
       "      <td>GK</td>\n",
       "      <td>14</td>\n",
       "      <td>7</td>\n",
       "      <td>...</td>\n",
       "      <td>12</td>\n",
       "      <td>30</td>\n",
       "      <td>46</td>\n",
       "      <td>11</td>\n",
       "      <td>10</td>\n",
       "      <td>50</td>\n",
       "      <td>46</td>\n",
       "      <td>51</td>\n",
       "      <td>48</td>\n",
       "      <td>50</td>\n",
       "    </tr>\n",
       "    <tr>\n",
       "      <th>12861</th>\n",
       "      <td>13090</td>\n",
       "      <td>Y. Uchimura</td>\n",
       "      <td>33</td>\n",
       "      <td>Japan</td>\n",
       "      <td>Hokkaido Consadole Sapporo</td>\n",
       "      <td>20000</td>\n",
       "      <td>1000</td>\n",
       "      <td>CAM</td>\n",
       "      <td>51</td>\n",
       "      <td>31</td>\n",
       "      <td>...</td>\n",
       "      <td>33</td>\n",
       "      <td>62</td>\n",
       "      <td>45</td>\n",
       "      <td>48</td>\n",
       "      <td>42</td>\n",
       "      <td>13</td>\n",
       "      <td>15</td>\n",
       "      <td>7</td>\n",
       "      <td>15</td>\n",
       "      <td>15</td>\n",
       "    </tr>\n",
       "    <tr>\n",
       "      <th>12873</th>\n",
       "      <td>13102</td>\n",
       "      <td>K. Pilkington</td>\n",
       "      <td>44</td>\n",
       "      <td>England</td>\n",
       "      <td>Cambridge United</td>\n",
       "      <td>0</td>\n",
       "      <td>1000</td>\n",
       "      <td>GK</td>\n",
       "      <td>11</td>\n",
       "      <td>12</td>\n",
       "      <td>...</td>\n",
       "      <td>22</td>\n",
       "      <td>56</td>\n",
       "      <td>15</td>\n",
       "      <td>15</td>\n",
       "      <td>13</td>\n",
       "      <td>45</td>\n",
       "      <td>48</td>\n",
       "      <td>44</td>\n",
       "      <td>49</td>\n",
       "      <td>46</td>\n",
       "    </tr>\n",
       "  </tbody>\n",
       "</table>\n",
       "<p>6191 rows × 42 columns</p>\n",
       "</div>"
      ]
     },
     "execution_count": 21,
     "metadata": {},
     "output_type": "execute_result"
    }
   ],
   "execution_count": 21
  },
  {
   "cell_type": "markdown",
   "metadata": {
    "id": "2EAh4aZNz51y"
   },
   "source": [
    "Условия можно и комбинировать, используя операторы `&` (логическое и) и `|` (логическое или). Условия при этом заключаются в скобки. Например, если мы хотим получить только тех футболистов, у которых возраст меньше среднего, или игроков `'FC Barcelona'`:"
   ]
  },
  {
   "cell_type": "code",
   "metadata": {
    "id": "FoOUzBUQz51y",
    "colab": {
     "base_uri": "https://localhost:8080/",
     "height": 617
    },
    "outputId": "004cd127-cdd2-4821-fea1-780d0e7a49a2",
    "ExecuteTime": {
     "end_time": "2024-05-10T10:20:38.281373Z",
     "start_time": "2024-05-10T10:20:38.242276Z"
    }
   },
   "source": [
    "football[(football.Age < football.Age.mean())|\n",
    "         (football.Club == 'FC Barcelona')]"
   ],
   "outputs": [
    {
     "data": {
      "text/plain": [
       "       Unnamed: 0                Name  Age Nationality               Club  \\\n",
       "0               0            L. Messi   31   Argentina       FC Barcelona   \n",
       "7               7           L. Suárez   31     Uruguay       FC Barcelona   \n",
       "15             15           P. Dybala   24   Argentina           Juventus   \n",
       "16             16             H. Kane   24     England  Tottenham Hotspur   \n",
       "18             18       M. ter Stegen   26     Germany       FC Barcelona   \n",
       "...           ...                 ...  ...         ...                ...   \n",
       "12892       13121        J. Lundstram   19     England    Crewe Alexandra   \n",
       "12893       13122  N. Christoffersson   19      Sweden     Trelleborgs FF   \n",
       "12894       13123           B. Worman   16     England   Cambridge United   \n",
       "12895       13124      D. Walker-Rice   17     England    Tranmere Rovers   \n",
       "12896       13125           G. Nugent   16     England    Tranmere Rovers   \n",
       "\n",
       "           Value    Wage Position  Crossing  Finishing  ...  Penalties  \\\n",
       "0      110500000  565000       RF        84         95  ...         75   \n",
       "7       80000000  455000       RS        77         93  ...         85   \n",
       "15      89000000  205000       LF        82         84  ...         86   \n",
       "16      83500000  205000       ST        75         94  ...         90   \n",
       "18      58000000  240000       GK        15         14  ...         25   \n",
       "...          ...     ...      ...       ...        ...  ...        ...   \n",
       "12892    1100000    1000       CM        34         38  ...         43   \n",
       "12893      60000    1000       ST        23         52  ...         43   \n",
       "12894      60000    1000       ST        25         40  ...         55   \n",
       "12895      60000    1000       RW        44         50  ...         50   \n",
       "12896      60000    1000       CM        41         34  ...         33   \n",
       "\n",
       "       Composure  Marking  StandingTackle  SlidingTackle  GKDiving  \\\n",
       "0             96       33              28             26         6   \n",
       "7             85       62              45             38        27   \n",
       "15            84       23              20             20         5   \n",
       "16            89       56              36             38         8   \n",
       "18            69       25              13             10        87   \n",
       "...          ...      ...             ...            ...       ...   \n",
       "12892         45       40              48             47        10   \n",
       "12893         42       22              15             19        10   \n",
       "12894         41       32              13             11         6   \n",
       "12895         46       20              25             27        14   \n",
       "12896         43       40              43             50        10   \n",
       "\n",
       "       GKHandling  GKKicking  GKPositioning  GKReflexes  \n",
       "0              11         15             14           8  \n",
       "7              25         31             33          37  \n",
       "15              4          4              5           8  \n",
       "16             10         11             14          11  \n",
       "18             85         88             85          90  \n",
       "...           ...        ...            ...         ...  \n",
       "12892          13          7              8           9  \n",
       "12893           9          9              5          12  \n",
       "12894           5         10              6          13  \n",
       "12895           6         14              8           9  \n",
       "12896          15          9             12           9  \n",
       "\n",
       "[6717 rows x 42 columns]"
      ],
      "text/html": [
       "<div>\n",
       "<style scoped>\n",
       "    .dataframe tbody tr th:only-of-type {\n",
       "        vertical-align: middle;\n",
       "    }\n",
       "\n",
       "    .dataframe tbody tr th {\n",
       "        vertical-align: top;\n",
       "    }\n",
       "\n",
       "    .dataframe thead th {\n",
       "        text-align: right;\n",
       "    }\n",
       "</style>\n",
       "<table border=\"1\" class=\"dataframe\">\n",
       "  <thead>\n",
       "    <tr style=\"text-align: right;\">\n",
       "      <th></th>\n",
       "      <th>Unnamed: 0</th>\n",
       "      <th>Name</th>\n",
       "      <th>Age</th>\n",
       "      <th>Nationality</th>\n",
       "      <th>Club</th>\n",
       "      <th>Value</th>\n",
       "      <th>Wage</th>\n",
       "      <th>Position</th>\n",
       "      <th>Crossing</th>\n",
       "      <th>Finishing</th>\n",
       "      <th>...</th>\n",
       "      <th>Penalties</th>\n",
       "      <th>Composure</th>\n",
       "      <th>Marking</th>\n",
       "      <th>StandingTackle</th>\n",
       "      <th>SlidingTackle</th>\n",
       "      <th>GKDiving</th>\n",
       "      <th>GKHandling</th>\n",
       "      <th>GKKicking</th>\n",
       "      <th>GKPositioning</th>\n",
       "      <th>GKReflexes</th>\n",
       "    </tr>\n",
       "  </thead>\n",
       "  <tbody>\n",
       "    <tr>\n",
       "      <th>0</th>\n",
       "      <td>0</td>\n",
       "      <td>L. Messi</td>\n",
       "      <td>31</td>\n",
       "      <td>Argentina</td>\n",
       "      <td>FC Barcelona</td>\n",
       "      <td>110500000</td>\n",
       "      <td>565000</td>\n",
       "      <td>RF</td>\n",
       "      <td>84</td>\n",
       "      <td>95</td>\n",
       "      <td>...</td>\n",
       "      <td>75</td>\n",
       "      <td>96</td>\n",
       "      <td>33</td>\n",
       "      <td>28</td>\n",
       "      <td>26</td>\n",
       "      <td>6</td>\n",
       "      <td>11</td>\n",
       "      <td>15</td>\n",
       "      <td>14</td>\n",
       "      <td>8</td>\n",
       "    </tr>\n",
       "    <tr>\n",
       "      <th>7</th>\n",
       "      <td>7</td>\n",
       "      <td>L. Suárez</td>\n",
       "      <td>31</td>\n",
       "      <td>Uruguay</td>\n",
       "      <td>FC Barcelona</td>\n",
       "      <td>80000000</td>\n",
       "      <td>455000</td>\n",
       "      <td>RS</td>\n",
       "      <td>77</td>\n",
       "      <td>93</td>\n",
       "      <td>...</td>\n",
       "      <td>85</td>\n",
       "      <td>85</td>\n",
       "      <td>62</td>\n",
       "      <td>45</td>\n",
       "      <td>38</td>\n",
       "      <td>27</td>\n",
       "      <td>25</td>\n",
       "      <td>31</td>\n",
       "      <td>33</td>\n",
       "      <td>37</td>\n",
       "    </tr>\n",
       "    <tr>\n",
       "      <th>15</th>\n",
       "      <td>15</td>\n",
       "      <td>P. Dybala</td>\n",
       "      <td>24</td>\n",
       "      <td>Argentina</td>\n",
       "      <td>Juventus</td>\n",
       "      <td>89000000</td>\n",
       "      <td>205000</td>\n",
       "      <td>LF</td>\n",
       "      <td>82</td>\n",
       "      <td>84</td>\n",
       "      <td>...</td>\n",
       "      <td>86</td>\n",
       "      <td>84</td>\n",
       "      <td>23</td>\n",
       "      <td>20</td>\n",
       "      <td>20</td>\n",
       "      <td>5</td>\n",
       "      <td>4</td>\n",
       "      <td>4</td>\n",
       "      <td>5</td>\n",
       "      <td>8</td>\n",
       "    </tr>\n",
       "    <tr>\n",
       "      <th>16</th>\n",
       "      <td>16</td>\n",
       "      <td>H. Kane</td>\n",
       "      <td>24</td>\n",
       "      <td>England</td>\n",
       "      <td>Tottenham Hotspur</td>\n",
       "      <td>83500000</td>\n",
       "      <td>205000</td>\n",
       "      <td>ST</td>\n",
       "      <td>75</td>\n",
       "      <td>94</td>\n",
       "      <td>...</td>\n",
       "      <td>90</td>\n",
       "      <td>89</td>\n",
       "      <td>56</td>\n",
       "      <td>36</td>\n",
       "      <td>38</td>\n",
       "      <td>8</td>\n",
       "      <td>10</td>\n",
       "      <td>11</td>\n",
       "      <td>14</td>\n",
       "      <td>11</td>\n",
       "    </tr>\n",
       "    <tr>\n",
       "      <th>18</th>\n",
       "      <td>18</td>\n",
       "      <td>M. ter Stegen</td>\n",
       "      <td>26</td>\n",
       "      <td>Germany</td>\n",
       "      <td>FC Barcelona</td>\n",
       "      <td>58000000</td>\n",
       "      <td>240000</td>\n",
       "      <td>GK</td>\n",
       "      <td>15</td>\n",
       "      <td>14</td>\n",
       "      <td>...</td>\n",
       "      <td>25</td>\n",
       "      <td>69</td>\n",
       "      <td>25</td>\n",
       "      <td>13</td>\n",
       "      <td>10</td>\n",
       "      <td>87</td>\n",
       "      <td>85</td>\n",
       "      <td>88</td>\n",
       "      <td>85</td>\n",
       "      <td>90</td>\n",
       "    </tr>\n",
       "    <tr>\n",
       "      <th>...</th>\n",
       "      <td>...</td>\n",
       "      <td>...</td>\n",
       "      <td>...</td>\n",
       "      <td>...</td>\n",
       "      <td>...</td>\n",
       "      <td>...</td>\n",
       "      <td>...</td>\n",
       "      <td>...</td>\n",
       "      <td>...</td>\n",
       "      <td>...</td>\n",
       "      <td>...</td>\n",
       "      <td>...</td>\n",
       "      <td>...</td>\n",
       "      <td>...</td>\n",
       "      <td>...</td>\n",
       "      <td>...</td>\n",
       "      <td>...</td>\n",
       "      <td>...</td>\n",
       "      <td>...</td>\n",
       "      <td>...</td>\n",
       "      <td>...</td>\n",
       "    </tr>\n",
       "    <tr>\n",
       "      <th>12892</th>\n",
       "      <td>13121</td>\n",
       "      <td>J. Lundstram</td>\n",
       "      <td>19</td>\n",
       "      <td>England</td>\n",
       "      <td>Crewe Alexandra</td>\n",
       "      <td>1100000</td>\n",
       "      <td>1000</td>\n",
       "      <td>CM</td>\n",
       "      <td>34</td>\n",
       "      <td>38</td>\n",
       "      <td>...</td>\n",
       "      <td>43</td>\n",
       "      <td>45</td>\n",
       "      <td>40</td>\n",
       "      <td>48</td>\n",
       "      <td>47</td>\n",
       "      <td>10</td>\n",
       "      <td>13</td>\n",
       "      <td>7</td>\n",
       "      <td>8</td>\n",
       "      <td>9</td>\n",
       "    </tr>\n",
       "    <tr>\n",
       "      <th>12893</th>\n",
       "      <td>13122</td>\n",
       "      <td>N. Christoffersson</td>\n",
       "      <td>19</td>\n",
       "      <td>Sweden</td>\n",
       "      <td>Trelleborgs FF</td>\n",
       "      <td>60000</td>\n",
       "      <td>1000</td>\n",
       "      <td>ST</td>\n",
       "      <td>23</td>\n",
       "      <td>52</td>\n",
       "      <td>...</td>\n",
       "      <td>43</td>\n",
       "      <td>42</td>\n",
       "      <td>22</td>\n",
       "      <td>15</td>\n",
       "      <td>19</td>\n",
       "      <td>10</td>\n",
       "      <td>9</td>\n",
       "      <td>9</td>\n",
       "      <td>5</td>\n",
       "      <td>12</td>\n",
       "    </tr>\n",
       "    <tr>\n",
       "      <th>12894</th>\n",
       "      <td>13123</td>\n",
       "      <td>B. Worman</td>\n",
       "      <td>16</td>\n",
       "      <td>England</td>\n",
       "      <td>Cambridge United</td>\n",
       "      <td>60000</td>\n",
       "      <td>1000</td>\n",
       "      <td>ST</td>\n",
       "      <td>25</td>\n",
       "      <td>40</td>\n",
       "      <td>...</td>\n",
       "      <td>55</td>\n",
       "      <td>41</td>\n",
       "      <td>32</td>\n",
       "      <td>13</td>\n",
       "      <td>11</td>\n",
       "      <td>6</td>\n",
       "      <td>5</td>\n",
       "      <td>10</td>\n",
       "      <td>6</td>\n",
       "      <td>13</td>\n",
       "    </tr>\n",
       "    <tr>\n",
       "      <th>12895</th>\n",
       "      <td>13124</td>\n",
       "      <td>D. Walker-Rice</td>\n",
       "      <td>17</td>\n",
       "      <td>England</td>\n",
       "      <td>Tranmere Rovers</td>\n",
       "      <td>60000</td>\n",
       "      <td>1000</td>\n",
       "      <td>RW</td>\n",
       "      <td>44</td>\n",
       "      <td>50</td>\n",
       "      <td>...</td>\n",
       "      <td>50</td>\n",
       "      <td>46</td>\n",
       "      <td>20</td>\n",
       "      <td>25</td>\n",
       "      <td>27</td>\n",
       "      <td>14</td>\n",
       "      <td>6</td>\n",
       "      <td>14</td>\n",
       "      <td>8</td>\n",
       "      <td>9</td>\n",
       "    </tr>\n",
       "    <tr>\n",
       "      <th>12896</th>\n",
       "      <td>13125</td>\n",
       "      <td>G. Nugent</td>\n",
       "      <td>16</td>\n",
       "      <td>England</td>\n",
       "      <td>Tranmere Rovers</td>\n",
       "      <td>60000</td>\n",
       "      <td>1000</td>\n",
       "      <td>CM</td>\n",
       "      <td>41</td>\n",
       "      <td>34</td>\n",
       "      <td>...</td>\n",
       "      <td>33</td>\n",
       "      <td>43</td>\n",
       "      <td>40</td>\n",
       "      <td>43</td>\n",
       "      <td>50</td>\n",
       "      <td>10</td>\n",
       "      <td>15</td>\n",
       "      <td>9</td>\n",
       "      <td>12</td>\n",
       "      <td>9</td>\n",
       "    </tr>\n",
       "  </tbody>\n",
       "</table>\n",
       "<p>6717 rows × 42 columns</p>\n",
       "</div>"
      ]
     },
     "execution_count": 22,
     "metadata": {},
     "output_type": "execute_result"
    }
   ],
   "execution_count": 22
  },
  {
   "cell_type": "markdown",
   "metadata": {
    "id": "N3Qk27zFz51y"
   },
   "source": [
    "Статистические параметры можно посчитать и по отфильтрованному `DataFrame`, например среднюю заработную плату футболистов с возрастом меньше среднего и из `'FC Barcelona'`:"
   ]
  },
  {
   "cell_type": "code",
   "metadata": {
    "id": "SHgPwZzjz51y",
    "colab": {
     "base_uri": "https://localhost:8080/"
    },
    "outputId": "e5c8015d-dd05-4ae1-a48e-734330f7eeac",
    "ExecuteTime": {
     "end_time": "2024-05-10T10:20:38.573612Z",
     "start_time": "2024-05-10T10:20:38.562300Z"
    }
   },
   "source": [
    "football[(football.Age < football.Age.mean())&\n",
    "         (football.Club == 'FC Barcelona')].Wage.mean()"
   ],
   "outputs": [
    {
     "data": {
      "text/plain": [
       "77454.54545454546"
      ]
     },
     "execution_count": 23,
     "metadata": {},
     "output_type": "execute_result"
    }
   ],
   "execution_count": 23
  },
  {
   "cell_type": "markdown",
   "metadata": {
    "id": "0R6CQ0V_z51y"
   },
   "source": [
    "Здесь мы получили среднюю заработную плату за год футболистов с возрастом ниже среднего или из клуба FC Barcelona."
   ]
  },
  {
   "cell_type": "markdown",
   "metadata": {
    "id": "A1nir-Ddz51y"
   },
   "source": [
    "### Задача 6\n",
    "Какова средняя скорость (`SprintSpeed`) футболистов, зарплата (`Wage`) которых выше среднего? Ответ округлите до сотых."
   ]
  },
  {
   "cell_type": "code",
   "metadata": {
    "id": "Rfx5eUJQz51z",
    "outputId": "d7311fd9-03a9-423e-bde3-7da70868b001",
    "colab": {
     "base_uri": "https://localhost:8080/"
    },
    "ExecuteTime": {
     "end_time": "2024-05-10T10:20:39.023437Z",
     "start_time": "2024-05-10T10:20:39.014116Z"
    }
   },
   "source": [
    "# Найти среднюю зарплату футболистов\n",
    "average_wage = football['Wage'].mean()\n",
    "\n",
    "# Отфильтровать футболистов с зарплатой выше среднего\n",
    "above_average_wage_players = football[football['Wage'] > average_wage]\n",
    "\n",
    "# Для отфильтрованных футболистов вычислить среднюю скорость\n",
    "average_sprint_speed = above_average_wage_players['SprintSpeed'].mean()\n",
    "\n",
    "print(\"Средняя скорость футболистов с зарплатой выше среднего:\", round(average_sprint_speed, 2))\n"
   ],
   "outputs": [
    {
     "name": "stdout",
     "output_type": "stream",
     "text": [
      "Средняя скорость футболистов с зарплатой выше среднего: 67.57\n"
     ]
    }
   ],
   "execution_count": 24
  },
  {
   "cell_type": "markdown",
   "metadata": {
    "id": "ZcI4iASPz51z"
   },
   "source": [
    "### Задача 7\n",
    "\n",
    "Какова средняя скорость (`SprintSpeed`) футболистов, зарплата (`Wage`) которых ниже среднего? Ответ округлите до сотых."
   ]
  },
  {
   "cell_type": "code",
   "metadata": {
    "id": "LTh6W-7ez51z",
    "outputId": "b2e2ba67-f39f-4136-f939-d2e03a7f2c49",
    "colab": {
     "base_uri": "https://localhost:8080/"
    },
    "ExecuteTime": {
     "end_time": "2024-05-10T10:20:39.801796Z",
     "start_time": "2024-05-10T10:20:39.791298Z"
    }
   },
   "source": [
    "\n",
    "# Найти среднюю зарплату футболистов\n",
    "average_wage = football['Wage'].mean()\n",
    "\n",
    "# Отфильтровать футболистов с зарплатой ниже среднего\n",
    "below_average_wage_players = football[football['Wage'] < average_wage]\n",
    "\n",
    "# Для отфильтрованных футболистов вычислить среднюю скорость\n",
    "average_sprint_speed = below_average_wage_players['SprintSpeed'].mean()\n",
    "\n",
    "print(\"Средняя скорость футболистов с зарплатой ниже среднего:\", round(average_sprint_speed, 2))\n"
   ],
   "outputs": [
    {
     "name": "stdout",
     "output_type": "stream",
     "text": [
      "Средняя скорость футболистов с зарплатой ниже среднего: 62.41\n"
     ]
    }
   ],
   "execution_count": 25
  },
  {
   "cell_type": "markdown",
   "metadata": {
    "id": "nPnX70gEz51z"
   },
   "source": [
    "### Задача 8\n",
    "\n",
    "Какую позицию (`Position`) занимает футболист с самой высокой зарплатой (`Wage`)?"
   ]
  },
  {
   "cell_type": "code",
   "metadata": {
    "id": "TRK1AJhFz51z",
    "outputId": "00003a71-308a-48f8-98ed-1854fd4ddb74",
    "colab": {
     "base_uri": "https://localhost:8080/"
    },
    "ExecuteTime": {
     "end_time": "2024-05-10T10:20:40.593173Z",
     "start_time": "2024-05-10T10:20:40.586988Z"
    }
   },
   "source": [
    "# Найти индекс строки с максимальной зарплатой\n",
    "max_wage_index = football['Wage'].idxmax()\n",
    "\n",
    "# Получить позицию футболиста с самой высокой зарплатой\n",
    "position_highest_wage = football.loc[max_wage_index, 'Position']\n",
    "\n",
    "print(\"Позиция футболиста с самой высокой зарплатой:\", position_highest_wage)\n"
   ],
   "outputs": [
    {
     "name": "stdout",
     "output_type": "stream",
     "text": [
      "Позиция футболиста с самой высокой зарплатой: RF\n"
     ]
    }
   ],
   "execution_count": 26
  },
  {
   "cell_type": "markdown",
   "metadata": {
    "id": "ry0FYpqQz51z"
   },
   "source": [
    "### Задача 9\n",
    "\n",
    "Сколько пенальти (`Penalties`) забили бразильские (`Nationality, Brazil`) футболисты за период, данные о котором представлены в датасете?"
   ]
  },
  {
   "cell_type": "code",
   "metadata": {
    "id": "LiP4yNEqz51z",
    "outputId": "22280adb-872b-48f7-efd2-724a57e2109e",
    "colab": {
     "base_uri": "https://localhost:8080/"
    },
    "ExecuteTime": {
     "end_time": "2024-05-10T10:20:40.829353Z",
     "start_time": "2024-05-10T10:20:40.822346Z"
    }
   },
   "source": [
    "# Отфильтровать данные для бразильских футболистов\n",
    "brazilian_players = football[football['Nationality'] == 'Brazil']\n",
    "\n",
    "# Посчитать сумму значений в столбце \"Penalties\" для отфильтрованных данных\n",
    "penalties_scored_by_brazilian_players = brazilian_players['Penalties'].sum()\n",
    "\n",
    "print(\"Количество пенальти, забитых бразильскими футболистами:\", penalties_scored_by_brazilian_players)\n"
   ],
   "outputs": [
    {
     "name": "stdout",
     "output_type": "stream",
     "text": [
      "Количество пенальти, забитых бразильскими футболистами: 22789\n"
     ]
    }
   ],
   "execution_count": 27
  },
  {
   "cell_type": "markdown",
   "metadata": {
    "id": "FsMpk3Hpz51z"
   },
   "source": [
    "### Задача 10\n",
    "\n",
    "Укажите средний возраст (`Age`) игроков, у которых точность удара головой `(HeadingAccuracy) > 50`. Ответ округлите до сотых."
   ]
  },
  {
   "cell_type": "code",
   "metadata": {
    "id": "lJ4ITnHPz51z",
    "outputId": "8dad4e20-2a11-4741-cc3d-50235ac5595f",
    "colab": {
     "base_uri": "https://localhost:8080/"
    },
    "ExecuteTime": {
     "end_time": "2024-05-10T10:20:41.046319Z",
     "start_time": "2024-05-10T10:20:41.038143Z"
    }
   },
   "source": [
    "players_heading_accuracy_above_50 = football[football['HeadingAccuracy'] > 50]\n",
    "average_age_heading_accuracy_above_50 = players_heading_accuracy_above_50['Age'].mean()\n",
    "\n",
    "print(\"Средний возраст игроков с точностью удара головой > 50:\", round(average_age_heading_accuracy_above_50, 2))\n"
   ],
   "outputs": [
    {
     "name": "stdout",
     "output_type": "stream",
     "text": [
      "Средний возраст игроков с точностью удара головой > 50: 25.59\n"
     ]
    }
   ],
   "execution_count": 28
  },
  {
   "cell_type": "markdown",
   "metadata": {
    "id": "lWqv-Klcz510"
   },
   "source": [
    "### Задача 11\n",
    "\n",
    "Укажите возраст (`Age`) самого молодого игрока, у которого хладнокровие (`Composure`) и реакция (`Reactions`) превышают 90% от максимального значения, представленного в датасете."
   ]
  },
  {
   "cell_type": "code",
   "metadata": {
    "id": "QI6ixQknz510",
    "outputId": "7d20685a-f61b-4757-b7bb-ff3c76b11646",
    "colab": {
     "base_uri": "https://localhost:8080/"
    },
    "ExecuteTime": {
     "end_time": "2024-05-10T10:20:41.219643Z",
     "start_time": "2024-05-10T10:20:41.207164Z"
    }
   },
   "source": [
    "max_composure = football['Composure'].max()\n",
    "max_reactions = football['Reactions'].max()\n",
    "\n",
    "# Найти 90% от максимальных значений \"Composure\" и \"Reactions\"\n",
    "threshold_composure = max_composure * 0.9\n",
    "threshold_reactions = max_reactions * 0.9\n",
    "\n",
    "# Отфильтровать игроков, у которых хладнокровие и реакция превышают найденные пороговые значения\n",
    "filtered_players = football[(football['Composure'] > threshold_composure) & (football['Reactions'] > threshold_reactions)]\n",
    "\n",
    "# Найти самого молодого игрока из отфильтрованных данных\n",
    "youngest_player = filtered_players.loc[filtered_players['Age'].idxmin()]\n",
    "\n",
    "print(\"Возраст самого молодого игрока с хладнокровием и реакцией > 90% максимального значения:\", youngest_player['Age'])\n",
    "\n"
   ],
   "outputs": [
    {
     "name": "stdout",
     "output_type": "stream",
     "text": [
      "Возраст самого молодого игрока с хладнокровием и реакцией > 90% максимального значения: 24\n"
     ]
    }
   ],
   "execution_count": 29
  },
  {
   "cell_type": "markdown",
   "metadata": {
    "id": "_Yl_fhDXz510"
   },
   "source": [
    "### Задача 12\n",
    "\n",
    "Определите, насколько средняя реакция (`Reactions`) самых взрослых игроков (т.е. игроков, чей возраст (`Age`) равен максимальному) больше средней реакции самых молодых игроков. Ответ округлите до сотых."
   ]
  },
  {
   "cell_type": "code",
   "metadata": {
    "id": "RpzerQcxz510",
    "outputId": "7cadb986-69b8-4731-95bf-8cf639f48e1d",
    "colab": {
     "base_uri": "https://localhost:8080/"
    },
    "ExecuteTime": {
     "end_time": "2024-05-10T10:20:41.363845Z",
     "start_time": "2024-05-10T10:20:41.333267Z"
    }
   },
   "source": [
    "# Найти максимальный возраст среди всех игроков\n",
    "max_age = football['Age'].max()\n",
    "\n",
    "oldest_players = football[football['Age'] == max_age]\n",
    "\n",
    "youngest_players = football[football['Age'] == football['Age'].min()]\n",
    "\n",
    "# Вычислить среднюю реакцию для каждой группы игроков\n",
    "average_reactions_oldest = oldest_players['Reactions'].mean()\n",
    "average_reactions_youngest = youngest_players['Reactions'].mean()\n",
    "\n",
    "# Найти разницу между средней реакцией самых взрослых игроков и самых молодых игроков\n",
    "reaction_difference = average_reactions_oldest - average_reactions_youngest\n",
    "\n",
    "print(\"Разница между средней реакцией самых взрослых и самых молодых игроков:\", round(reaction_difference, 2))\n"
   ],
   "outputs": [
    {
     "name": "stdout",
     "output_type": "stream",
     "text": [
      "Разница между средней реакцией самых взрослых и самых молодых игроков: 22.64\n"
     ]
    }
   ],
   "execution_count": 30
  },
  {
   "cell_type": "markdown",
   "metadata": {
    "id": "pMjaWkbBz510"
   },
   "source": [
    "### Задача 13\n",
    "\n",
    "Из какой страны (`Nationality`) происходит больше всего игроков, чья стоимость (`Value`) превышает среднее значение?"
   ]
  },
  {
   "cell_type": "code",
   "metadata": {
    "id": "z8uMHIjNz510",
    "outputId": "ff7a43b7-bfad-42c7-ce62-d95e9100e4aa",
    "colab": {
     "base_uri": "https://localhost:8080/"
    },
    "ExecuteTime": {
     "end_time": "2024-05-10T10:20:41.535741Z",
     "start_time": "2024-05-10T10:20:41.527709Z"
    }
   },
   "source": [
    "# Найти среднее значение стоимости всех игроков\n",
    "average_value = football['Value'].mean()\n",
    "\n",
    "# Отфильтровать игроков, чья стоимость превышает среднее значение\n",
    "high_value_players = football[football['Value'] > average_value]\n",
    "\n",
    "# Посчитать количество игроков из каждой страны в отфильтрованных данных\n",
    "nationality_counts = high_value_players['Nationality'].value_counts()\n",
    "\n",
    "# Определить страну с наибольшим количеством игроков\n",
    "most_players_nationality = nationality_counts.idxmax()\n",
    "\n",
    "print(\"Страна с наибольшим количеством игроков, чья стоимость превышает среднее значение:\", most_players_nationality)\n"
   ],
   "outputs": [
    {
     "name": "stdout",
     "output_type": "stream",
     "text": [
      "Страна с наибольшим количеством игроков, чья стоимость превышает среднее значение: Spain\n"
     ]
    }
   ],
   "execution_count": 31
  },
  {
   "cell_type": "markdown",
   "metadata": {
    "id": "o54AJeOGz510"
   },
   "source": [
    "### Задача 14\n",
    "\n",
    "Определите, во сколько раз средняя зарплата (`Wage`) голкипера (`Position, GK`) с максимальным значением показателя \"Рефлексы\" (`GKReflexes`) выше средней зарплаты голкипера с максимальным значением показателя \"Владение мячом\" (`GKHandling`). Ответ округлите до сотых."
   ]
  },
  {
   "cell_type": "code",
   "metadata": {
    "id": "H8zSh3a6z510",
    "outputId": "7474c4fc-a58a-4f22-c277-7457f81edb7e",
    "colab": {
     "base_uri": "https://localhost:8080/"
    },
    "ExecuteTime": {
     "end_time": "2024-05-10T10:20:41.771887Z",
     "start_time": "2024-05-10T10:20:41.750825Z"
    }
   },
   "source": [
    "# Найти максимальное значение показателя \"Рефлексы\" среди голкиперов\n",
    "max_reflexes_value = football[football['Position'] == 'GK']['GKReflexes'].max()\n",
    "\n",
    "# Найти максимальное значение показателя \"Владение мячом\" среди голкиперов\n",
    "max_handling_value = football[football['Position'] == 'GK']['GKHandling'].max()\n",
    "\n",
    "# Зарплата голкипера с максимальным значением показателя \"Рефлексы\"\n",
    "average_wage_max_reflexes = football[(football['Position'] == 'GK') & (football['GKReflexes'] == max_reflexes_value)]['Wage'].mean()\n",
    "\n",
    "# Определить среднюю зарплату голкипера с максимальным значением показателя \"Владение мячом\"\n",
    "average_wage_max_handling = football[(football['Position'] == 'GK') & (football['GKHandling'] == max_handling_value)]['Wage'].mean()\n",
    "\n",
    "wage_ratio = average_wage_max_reflexes / average_wage_max_handling\n",
    "\n",
    "print(\"Отношение средней зарплаты голкипера с максимальным значением показателя 'Рефлексы' к средней зарплате голкипера с максимальным значением показателя 'Владение мячом':\", round(wage_ratio, 2))\n"
   ],
   "outputs": [
    {
     "name": "stdout",
     "output_type": "stream",
     "text": [
      "Отношение средней зарплаты голкипера с максимальным значением показателя 'Рефлексы' к средней зарплате голкипера с максимальным значением показателя 'Владение мячом': 2.77\n"
     ]
    }
   ],
   "execution_count": 32
  },
  {
   "cell_type": "markdown",
   "metadata": {
    "id": "jq8SGA68z510"
   },
   "source": [
    "### Задача 15\n",
    "\n",
    "Определите, во сколько раз средняя сила удара (`ShotPower`) самых агрессивных игроков (игроков с максимальным значением показателя \"Агрессивность\" (`Aggression`)) выше силы удара игроков с минимальной агрессией. Ответ округлите до сотых."
   ]
  },
  {
   "cell_type": "code",
   "metadata": {
    "id": "55xS_09Az510",
    "outputId": "9620333a-88f9-455e-f3ac-f4fddb51ca3c",
    "colab": {
     "base_uri": "https://localhost:8080/"
    },
    "ExecuteTime": {
     "end_time": "2024-05-10T10:20:41.945229Z",
     "start_time": "2024-05-10T10:20:41.935553Z"
    }
   },
   "source": [
    "\n",
    "max_aggression = football['Aggression'].max()\n",
    "min_aggression = football['Aggression'].min()\n",
    "\n",
    "max_aggression_players = football[football['Aggression'] == max_aggression]\n",
    "min_aggression_players = football[football['Aggression'] == min_aggression]\n",
    "\n",
    "average_shot_power_max_aggression = max_aggression_players['ShotPower'].mean()\n",
    "average_shot_power_min_aggression = min_aggression_players['ShotPower'].mean()\n",
    "\n",
    "# Рассчитать отношение средней силы удара самых агрессивных игроков к средней силе удара самых мирных игроков\n",
    "shot_power_ratio = average_shot_power_max_aggression / average_shot_power_min_aggression\n",
    "\n",
    "print(\"Отношение средней силы удара самых агрессивных игроков к средней силе удара самых мирных игроков:\", round(shot_power_ratio, 2))\n"
   ],
   "outputs": [
    {
     "name": "stdout",
     "output_type": "stream",
     "text": [
      "Отношение средней силы удара самых агрессивных игроков к средней силе удара самых мирных игроков: 2.08\n"
     ]
    }
   ],
   "execution_count": 33
  }
 ]
}
