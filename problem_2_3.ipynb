{
 "cells": [
  {
   "cell_type": "markdown",
   "source": [
    "# Задание 3. Аварийные дома"
   ],
   "metadata": {
    "id": "FpzncCLUdO2g"
   }
  },
  {
   "cell_type": "markdown",
   "source": [
    "* 'formalname_region' - регион,\n",
    "* 'formalname_city' - город,\n",
    "* 'address' - адрес,\n",
    "* 'cadastral_registration_date' - кадастровая дата регистрации,\n",
    "* 'stage' - стадия жизненного цикла,\n",
    "* 'built_year' - год постройки,\n",
    "* 'exploitation_start_year' - год начала эксплуатации,\n",
    "* 'project_type' - тип проекта,\n",
    "* 'house_type' - тип дома,\n",
    "* 'floor_count_max' - максимальное количество этажей,\n",
    "* 'floor_count_min'- минимальное количество этажей,\n",
    "* 'entrance_count'- количество подъездов,\n",
    "* 'residents_count' - количество проживающих, чел.,\n",
    "* 'area_total' - общая площадь дома, всего, кв.м,\n",
    "* 'area_residential' - общая площадь жилых помещений, кв.м,\n",
    "* 'area_non_residential' - нежилая площадь, кв.м,\n",
    "* 'area_common_property' - площадь помещений, входящих в состав общего имущества, кв.м,\n",
    "* 'area_land' - площадь земельного участка, входящего в состав общего имущества в многоквартирном доме, кв.м,\n",
    "* 'monument_status' - наличие статуса памятника архитектуры,\n",
    "* 'monument_document_date' - дата документа о признании дома памятником архитектуры,\n",
    "* 'monument_document_number' - номер документа о признании дома памятником архитектуры,\n",
    "* 'deterioration_total' - общая степень износа здания,\n",
    "* 'determined_date' - дата, на которую установлен износ здания,\n",
    "* 'floor_type' - тип перекрытий,\n",
    "* 'wall_material' - материал стен,\n",
    "* 'alarm_reason' - причина признания дома аварийным,\n",
    "* 'alarm_reason_other' - причина признания дома аварийным (другое),\n",
    "* 'alarm_document_number' - номер решения органа местного самоуправления/органа исполнительной власти субъекта РФ о признании многоквартирного дома аварийным,\n",
    "* 'alarm_has_file' - файл решения,\n",
    "* 'exp_name' - наименование специализированной организации, проводившей обследование многоквартирного дома,\n",
    "* 'exp_document_number' - номер экспертного заключения, проведенного специализированной организацией,\n",
    "* 'exp_document_date' - дата экспертного заключения,\n",
    "* 'exp_has_file' - файл экспертного заключения,\n",
    "* 'commission_document_number' - номер заключения межведомственной комиссии,\n",
    "* 'commission_document_date' - дата заключения межведомственной комиссии,\n",
    "* 'commission_has_file' - файл заключения,\n",
    "* 'further_use' - дальнейшее использование,\n",
    "* 'decision_deadline_date' - срок для принятия собственниками помещений дома решения о сносе или реконструкции,\n",
    "* 'planned_resettlement_date' - планируемая дата завершения расселения,\n",
    "* 'actual_resettlement_date' - фактическая дата завершения расселения,\n",
    "* 'planned_rooms_count' - количество помещений, подлежащих расселению, ед.,\n",
    "* 'planned_rooms_square' - площадь помещений, подлежащих расселению, кв.м,\n",
    "* 'planned_ppl_count' - количество граждан, подлежащих расселению, чел.,\n",
    "* 'planned_demolition_date' - планируемая дата сноса,\n",
    "* 'resettled_rooms_count' - количество расселенных помещений, ед.,\n",
    "* 'resettled_rooms_square' - площадь расселенных помещений, кв.м,\n",
    "* 'resettled_ppl_count' - количество постоянно проживающих членов семьи в расселенных помещениях, чел.,\n",
    "* 'empty_rooms_count' - количество пустующих помещений, ед.,\n",
    "* 'empty_rooms_square' - площадь пустующих помещений, кв.м,\n",
    "* 'redemption_amount' - общая сумма необходимого финансирования, тыс.руб.,\n",
    "* 'planned_providing_area_square' - площадь помещений, планируемая для предоставления, кв.м,\n",
    "* 'alarm_document_date' - дата решения,\n",
    "* 'year_alarm_document' - год документа о признании дома аварийным,\n",
    "* 'date_alarm' - дата аварии."
   ],
   "metadata": {
    "id": "7TtC3PHP3aey"
   }
  },
  {
   "cell_type": "code",
   "source": [],
   "metadata": {
    "id": "nTgfB4zO9djY",
    "ExecuteTime": {
     "end_time": "2024-05-10T10:20:59.018064Z",
     "start_time": "2024-05-10T10:20:59.015424Z"
    }
   },
   "outputs": [],
   "execution_count": null
  },
  {
   "cell_type": "code",
   "metadata": {
    "id": "v7nsR3-eE1Gu",
    "colab": {
     "base_uri": "https://localhost:8080/",
     "height": 366
    },
    "outputId": "999f6e67-eba1-488b-fae7-42f6bbe42a10",
    "ExecuteTime": {
     "end_time": "2024-05-10T10:21:00.415029Z",
     "start_time": "2024-05-10T10:20:59.020934Z"
    }
   },
   "source": [
    "import pandas as pd\n",
    "\n",
    "url = \"https://raw.githubusercontent.com/dm-fedorov/pandas_basic/master/data/houses.csv\"\n",
    "df = pd.read_csv(url)\n",
    "df.head(3)"
   ],
   "outputs": [
    {
     "data": {
      "text/plain": [
       "  formalname_region formalname_city  \\\n",
       "0              Коми         Воркута   \n",
       "1              Коми         Воркута   \n",
       "2              Коми         Воркута   \n",
       "\n",
       "                                          address cadastral_registration_date  \\\n",
       "0  Респ. Коми, г. Воркута, пер. Больничный, д. 1А                  31.10.2005   \n",
       "1      Респ. Коми, г. Воркута, ул. Волынова, д. 3                  24.10.2005   \n",
       "2      Респ. Коми, г. Воркута, ул. Волынова, д. 5                  24.10.2005   \n",
       "\n",
       "                        stage  built_year  exploitation_start_year  \\\n",
       "0  Выведенный из эксплуатации      1959.0                   1959.0   \n",
       "1             Эксплуатируемый      1964.0                   1964.0   \n",
       "2             Эксплуатируемый      1964.0                   1964.0   \n",
       "\n",
       "             project_type           house_type  floor_count_max  ...  \\\n",
       "0       Б8-50М, кирпичный  Многоквартирный дом              2.0  ...   \n",
       "1                 1р-447С  Многоквартирный дом              4.0  ...   \n",
       "2  1-335, крупнопанельный  Многоквартирный дом              5.0  ...   \n",
       "\n",
       "   resettled_rooms_count  resettled_rooms_square  resettled_ppl_count  \\\n",
       "0                    NaN                     NaN                  NaN   \n",
       "1                    NaN                     NaN                  NaN   \n",
       "2                    NaN                     NaN                  NaN   \n",
       "\n",
       "  empty_rooms_count empty_rooms_square redemption_amount  \\\n",
       "0              14.0              348,8               NaN   \n",
       "1              44.0             1005,2               NaN   \n",
       "2              74.0             1706,7               NaN   \n",
       "\n",
       "  planned_providing_area_square alarm_document_date year_alarm_document  \\\n",
       "0                           NaN          06.03.2019                2019   \n",
       "1                           NaN          11.11.2019                2019   \n",
       "2                           NaN          11.11.2019                2019   \n",
       "\n",
       "  date_alarm  \n",
       "0       60.0  \n",
       "1       55.0  \n",
       "2       55.0  \n",
       "\n",
       "[3 rows x 54 columns]"
      ],
      "text/html": [
       "<div>\n",
       "<style scoped>\n",
       "    .dataframe tbody tr th:only-of-type {\n",
       "        vertical-align: middle;\n",
       "    }\n",
       "\n",
       "    .dataframe tbody tr th {\n",
       "        vertical-align: top;\n",
       "    }\n",
       "\n",
       "    .dataframe thead th {\n",
       "        text-align: right;\n",
       "    }\n",
       "</style>\n",
       "<table border=\"1\" class=\"dataframe\">\n",
       "  <thead>\n",
       "    <tr style=\"text-align: right;\">\n",
       "      <th></th>\n",
       "      <th>formalname_region</th>\n",
       "      <th>formalname_city</th>\n",
       "      <th>address</th>\n",
       "      <th>cadastral_registration_date</th>\n",
       "      <th>stage</th>\n",
       "      <th>built_year</th>\n",
       "      <th>exploitation_start_year</th>\n",
       "      <th>project_type</th>\n",
       "      <th>house_type</th>\n",
       "      <th>floor_count_max</th>\n",
       "      <th>...</th>\n",
       "      <th>resettled_rooms_count</th>\n",
       "      <th>resettled_rooms_square</th>\n",
       "      <th>resettled_ppl_count</th>\n",
       "      <th>empty_rooms_count</th>\n",
       "      <th>empty_rooms_square</th>\n",
       "      <th>redemption_amount</th>\n",
       "      <th>planned_providing_area_square</th>\n",
       "      <th>alarm_document_date</th>\n",
       "      <th>year_alarm_document</th>\n",
       "      <th>date_alarm</th>\n",
       "    </tr>\n",
       "  </thead>\n",
       "  <tbody>\n",
       "    <tr>\n",
       "      <th>0</th>\n",
       "      <td>Коми</td>\n",
       "      <td>Воркута</td>\n",
       "      <td>Респ. Коми, г. Воркута, пер. Больничный, д. 1А</td>\n",
       "      <td>31.10.2005</td>\n",
       "      <td>Выведенный из эксплуатации</td>\n",
       "      <td>1959.0</td>\n",
       "      <td>1959.0</td>\n",
       "      <td>Б8-50М, кирпичный</td>\n",
       "      <td>Многоквартирный дом</td>\n",
       "      <td>2.0</td>\n",
       "      <td>...</td>\n",
       "      <td>NaN</td>\n",
       "      <td>NaN</td>\n",
       "      <td>NaN</td>\n",
       "      <td>14.0</td>\n",
       "      <td>348,8</td>\n",
       "      <td>NaN</td>\n",
       "      <td>NaN</td>\n",
       "      <td>06.03.2019</td>\n",
       "      <td>2019</td>\n",
       "      <td>60.0</td>\n",
       "    </tr>\n",
       "    <tr>\n",
       "      <th>1</th>\n",
       "      <td>Коми</td>\n",
       "      <td>Воркута</td>\n",
       "      <td>Респ. Коми, г. Воркута, ул. Волынова, д. 3</td>\n",
       "      <td>24.10.2005</td>\n",
       "      <td>Эксплуатируемый</td>\n",
       "      <td>1964.0</td>\n",
       "      <td>1964.0</td>\n",
       "      <td>1р-447С</td>\n",
       "      <td>Многоквартирный дом</td>\n",
       "      <td>4.0</td>\n",
       "      <td>...</td>\n",
       "      <td>NaN</td>\n",
       "      <td>NaN</td>\n",
       "      <td>NaN</td>\n",
       "      <td>44.0</td>\n",
       "      <td>1005,2</td>\n",
       "      <td>NaN</td>\n",
       "      <td>NaN</td>\n",
       "      <td>11.11.2019</td>\n",
       "      <td>2019</td>\n",
       "      <td>55.0</td>\n",
       "    </tr>\n",
       "    <tr>\n",
       "      <th>2</th>\n",
       "      <td>Коми</td>\n",
       "      <td>Воркута</td>\n",
       "      <td>Респ. Коми, г. Воркута, ул. Волынова, д. 5</td>\n",
       "      <td>24.10.2005</td>\n",
       "      <td>Эксплуатируемый</td>\n",
       "      <td>1964.0</td>\n",
       "      <td>1964.0</td>\n",
       "      <td>1-335, крупнопанельный</td>\n",
       "      <td>Многоквартирный дом</td>\n",
       "      <td>5.0</td>\n",
       "      <td>...</td>\n",
       "      <td>NaN</td>\n",
       "      <td>NaN</td>\n",
       "      <td>NaN</td>\n",
       "      <td>74.0</td>\n",
       "      <td>1706,7</td>\n",
       "      <td>NaN</td>\n",
       "      <td>NaN</td>\n",
       "      <td>11.11.2019</td>\n",
       "      <td>2019</td>\n",
       "      <td>55.0</td>\n",
       "    </tr>\n",
       "  </tbody>\n",
       "</table>\n",
       "<p>3 rows × 54 columns</p>\n",
       "</div>"
      ]
     },
     "execution_count": 1,
     "metadata": {},
     "output_type": "execute_result"
    }
   ],
   "execution_count": 1
  },
  {
   "cell_type": "markdown",
   "metadata": {
    "id": "fyPCNWquE1Gv"
   },
   "source": [
    "### Задача 1\n",
    "\n",
    "Сколько домов признано аварийными по регионам?"
   ]
  },
  {
   "cell_type": "code",
   "metadata": {
    "id": "FfuPjjzSE1Gw",
    "outputId": "817a0b8f-44fa-43a3-eb40-5f421f6eeee0",
    "colab": {
     "base_uri": "https://localhost:8080/"
    },
    "ExecuteTime": {
     "end_time": "2024-05-10T10:21:00.426544Z",
     "start_time": "2024-05-10T10:21:00.417499Z"
    }
   },
   "source": [
    "# Подсчет количества аварийных домов по регионам\n",
    "avariynye_doma_po_regionam = df[df['stage'] == 'Выведенный из эксплуатации'].groupby('formalname_region').size()\n",
    "\n",
    "print(avariynye_doma_po_regionam)\n",
    "\n"
   ],
   "outputs": [
    {
     "name": "stdout",
     "output_type": "stream",
     "text": [
      "formalname_region\n",
      "Вологодская       77\n",
      "Забайкальский     14\n",
      "Коми             100\n",
      "dtype: int64\n"
     ]
    }
   ],
   "execution_count": 2
  },
  {
   "cell_type": "markdown",
   "source": [
    "Данный результат представляет собой серию, в которой регионы (formalname_region) выступают в качестве индексов, а количество аварийных домов в каждом регионе — в качестве значений.\n",
    "\n",
    "Таким образом, в регионе \"Вологодская\" было найдено 77 аварийных домов, в регионе \"Забайкальский\" - 14, а в регионе \"Коми\" - 100."
   ],
   "metadata": {
    "id": "UhK2NaOf3ylA"
   }
  },
  {
   "cell_type": "markdown",
   "metadata": {
    "id": "BK4t9t5nE1Gw"
   },
   "source": [
    "### Задача 2\n",
    "\n",
    "Сколько домов с 2010 года признано аварийными по городам?"
   ]
  },
  {
   "cell_type": "code",
   "metadata": {
    "id": "jAML7lROE1Gx",
    "outputId": "c71dec3e-e317-4882-dec5-df2ec9a694c8",
    "colab": {
     "base_uri": "https://localhost:8080/"
    },
    "ExecuteTime": {
     "end_time": "2024-05-10T10:21:00.448003Z",
     "start_time": "2024-05-10T10:21:00.433167Z"
    }
   },
   "source": [
    "# Фильтруем данные для домов, признанных аварийными после 2010 года, и группируем по городам\n",
    "avariynye_doma_posle_2010_po_gorodam = df[(df['stage'] == 'Выведенный из эксплуатации') & (df['year_alarm_document'] >= 2010)].groupby('formalname_city').size()\n",
    "\n",
    "print(avariynye_doma_posle_2010_po_gorodam)"
   ],
   "outputs": [
    {
     "name": "stdout",
     "output_type": "stream",
     "text": [
      "formalname_city\n",
      "Абаканово                            1\n",
      "База                                 5\n",
      "Балей                                1\n",
      "Бонга                                1\n",
      "Великий Устюг                        2\n",
      "Верхняя Инта                         2\n",
      "Войвож                               1\n",
      "Воргашор                            12\n",
      "Воркута                             25\n",
      "Воскресенское (Воскресенское МО)     1\n",
      "Елецкий                              3\n",
      "Изъяю                                1\n",
      "Ильинское (Майское МО)               1\n",
      "Инта                                 8\n",
      "Каджером                             1\n",
      "Кадниковский                         1\n",
      "Калангуй                             3\n",
      "Кебанъёль                            3\n",
      "Кедровый Шор                         2\n",
      "Керчомъя                             1\n",
      "Кириллов                             6\n",
      "Коварзино                            1\n",
      "Кожва                                7\n",
      "Комсомольский                        1\n",
      "Коротецкая                           2\n",
      "Красный Яг                           1\n",
      "Кривец                               2\n",
      "Куанда                               5\n",
      "Лопъювад                             1\n",
      "Мирный                               2\n",
      "Молочная                             1\n",
      "Нестеровское                         2\n",
      "Новая Чара                           1\n",
      "Печора                               9\n",
      "Причал                               1\n",
      "Северный                             2\n",
      "Семигородняя                         1\n",
      "Сивомаскинский                       2\n",
      "Сосногорск                           1\n",
      "Суда                                 2\n",
      "Тотьма                               2\n",
      "Троицко-Печорск                      2\n",
      "Усинск                               1\n",
      "Усть-Кулом                           1\n",
      "Усть-Нем                             1\n",
      "Хемалда                              1\n",
      "Чарозеро                             2\n",
      "Чекшино                              1\n",
      "Шексна                               1\n",
      "dtype: int64\n"
     ]
    }
   ],
   "execution_count": 3
  },
  {
   "cell_type": "markdown",
   "metadata": {
    "id": "RCzdFlmwE1Gx"
   },
   "source": [
    "### Задача 3\n",
    "\n",
    "Какая доля домов признана аварийными из-за пожара?"
   ]
  },
  {
   "cell_type": "code",
   "metadata": {
    "id": "Dq0pW4C7E1Gy",
    "outputId": "2f15ed15-f212-4ad0-8324-a4b4216283ff",
    "colab": {
     "base_uri": "https://localhost:8080/"
    },
    "ExecuteTime": {
     "end_time": "2024-05-10T10:21:00.464640Z",
     "start_time": "2024-05-10T10:21:00.454588Z"
    }
   },
   "source": [
    "# Какая доля домов признана аварийными из-за пожара?\n",
    "total_houses = len(df)\n",
    "fire_damaged_houses = len(df[df['alarm_reason']=='Пожар'])\n",
    "fraction_fire_damaged = fire_damaged_houses / total_houses\n",
    "\n",
    "print(\"Доля домов, признанных аварийными из-за пожара:\", fraction_fire_damaged)"
   ],
   "outputs": [
    {
     "name": "stdout",
     "output_type": "stream",
     "text": [
      "Доля домов, признанных аварийными из-за пожара: 0.03050058207217695\n"
     ]
    }
   ],
   "execution_count": 4
  },
  {
   "cell_type": "markdown",
   "metadata": {
    "id": "HHUeb9l-E1Gy"
   },
   "source": [
    "### Задача 4\n",
    "\n",
    "Сколько домов признавалось аварийными по годам?"
   ]
  },
  {
   "cell_type": "code",
   "metadata": {
    "id": "Xq_hPI4XE1Gy",
    "outputId": "e73046fb-eb8c-46fe-a537-c222bf98ece3",
    "colab": {
     "base_uri": "https://localhost:8080/"
    },
    "ExecuteTime": {
     "end_time": "2024-05-10T10:21:00.484611Z",
     "start_time": "2024-05-10T10:21:00.467987Z"
    }
   },
   "source": [
    "# Подсчитываем количество домов, признанных аварийными по годам\n",
    "avariynye_doma_po_godam = df[df['stage'] == 'Выведенный из эксплуатации'].groupby('year_alarm_document').size()\n",
    "\n",
    "print(avariynye_doma_po_godam)"
   ],
   "outputs": [
    {
     "name": "stdout",
     "output_type": "stream",
     "text": [
      "year_alarm_document\n",
      "2000     2\n",
      "2002     8\n",
      "2006    20\n",
      "2007     6\n",
      "2008    14\n",
      "2009     4\n",
      "2010    11\n",
      "2011     4\n",
      "2012    16\n",
      "2013    28\n",
      "2014     8\n",
      "2015    10\n",
      "2016    15\n",
      "2017    25\n",
      "2018    16\n",
      "2019     4\n",
      "dtype: int64\n"
     ]
    }
   ],
   "execution_count": 5
  }
 ],
 "metadata": {
  "kernelspec": {
   "display_name": "Python 3",
   "language": "python",
   "name": "python3"
  },
  "language_info": {
   "codemirror_mode": {
    "name": "ipython",
    "version": 3
   },
   "file_extension": ".py",
   "mimetype": "text/x-python",
   "name": "python",
   "nbconvert_exporter": "python",
   "pygments_lexer": "ipython3",
   "version": "3.7.3"
  },
  "colab": {
   "provenance": []
  }
 },
 "nbformat": 4,
 "nbformat_minor": 0
}
