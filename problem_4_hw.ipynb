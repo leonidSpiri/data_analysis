{
 "nbformat": 4,
 "nbformat_minor": 0,
 "metadata": {
  "colab": {
   "provenance": [],
   "mount_file_id": "1NqmJkamErewd3FwamyMz17HhgrsNmMvr",
   "authorship_tag": "ABX9TyNIbLb1gI1XyuwKOM3FhaHB"
  },
  "kernelspec": {
   "name": "python3",
   "language": "python",
   "display_name": "Python 3 (ipykernel)"
  },
  "language_info": {
   "name": "python"
  }
 },
 "cells": [
  {
   "cell_type": "code",
   "execution_count": 2,
   "metadata": {
    "id": "2nLnNj4NA1jN",
    "executionInfo": {
     "status": "ok",
     "timestamp": 1699012123643,
     "user_tz": -180,
     "elapsed": 11,
     "user": {
      "displayName": "Mr Shot",
      "userId": "05703602284528533401"
     }
    },
    "ExecuteTime": {
     "end_time": "2023-12-01T11:58:44.491270Z",
     "start_time": "2023-12-01T11:58:44.054304Z"
    }
   },
   "outputs": [],
   "source": [
    "import pandas as pd\n",
    "from pandas.plotting import scatter_matrix\n",
    "from sklearn import preprocessing\n",
    "from sklearn.decomposition import PCA\n",
    "from factor_analyzer import FactorAnalyzer\n",
    "from factor_analyzer.factor_analyzer import calculate_bartlett_sphericity\n",
    "from factor_analyzer.factor_analyzer import calculate_kmo\n",
    "import matplotlib.pyplot as plt"
   ]
  },
  {
   "cell_type": "code",
   "source": [
    "df = pd.read_csv('data/stickleback.csv', sep=';', decimal=',')\n",
    "df.head()"
   ],
   "metadata": {
    "colab": {
     "base_uri": "https://localhost:8080/",
     "height": 223
    },
    "id": "q8hWyLNpBcv0",
    "executionInfo": {
     "status": "ok",
     "timestamp": 1699012124194,
     "user_tz": -180,
     "elapsed": 561,
     "user": {
      "displayName": "Mr Shot",
      "userId": "05703602284528533401"
     }
    },
    "outputId": "de8cb898-b965-4682-e5d5-636972b6b7b1",
    "ExecuteTime": {
     "end_time": "2023-12-01T11:58:44.912856Z",
     "start_time": "2023-12-01T11:58:44.068227Z"
    }
   },
   "execution_count": 3,
   "outputs": [
    {
     "data": {
      "text/plain": "   LUNGES  BITES  ZIGZAGS  NEST  SPINES  DNEST   BOUT  Unnamed: 7  Unnamed: 8  \\\n0    79.0   25.0      0.0   0.0    15.0    0.0   45.0         NaN         NaN   \n1   136.0   58.0      6.0   0.0    15.0    0.0  148.0         NaN         NaN   \n2   115.0   30.0      2.0   1.0     9.0    5.0   29.0         NaN         NaN   \n3   129.0  139.0     16.0   0.0    22.0    0.0   69.0         NaN         NaN   \n4   120.0   58.0     15.0  15.0    14.0   82.0    9.0         NaN         NaN   \n\n   Unnamed: 9  Unnamed: 10  Unnamed: 11  Unnamed: 12  Unnamed: 13  \\\n0         NaN          NaN          NaN          NaN          NaN   \n1         NaN          NaN          NaN          NaN          NaN   \n2         NaN          NaN          NaN          NaN          NaN   \n3         NaN          NaN          NaN          NaN          NaN   \n4         NaN          NaN          NaN          NaN          NaN   \n\n   Unnamed: 14  Unnamed: 15  Unnamed: 16  Unnamed: 17  Unnamed: 18  \n0          NaN          NaN          NaN          NaN          NaN  \n1          NaN          NaN          NaN          NaN          NaN  \n2          NaN          NaN          NaN          NaN          NaN  \n3          NaN          NaN          NaN          NaN          NaN  \n4          NaN          NaN          NaN          NaN          NaN  ",
      "text/html": "<div>\n<style scoped>\n    .dataframe tbody tr th:only-of-type {\n        vertical-align: middle;\n    }\n\n    .dataframe tbody tr th {\n        vertical-align: top;\n    }\n\n    .dataframe thead th {\n        text-align: right;\n    }\n</style>\n<table border=\"1\" class=\"dataframe\">\n  <thead>\n    <tr style=\"text-align: right;\">\n      <th></th>\n      <th>LUNGES</th>\n      <th>BITES</th>\n      <th>ZIGZAGS</th>\n      <th>NEST</th>\n      <th>SPINES</th>\n      <th>DNEST</th>\n      <th>BOUT</th>\n      <th>Unnamed: 7</th>\n      <th>Unnamed: 8</th>\n      <th>Unnamed: 9</th>\n      <th>Unnamed: 10</th>\n      <th>Unnamed: 11</th>\n      <th>Unnamed: 12</th>\n      <th>Unnamed: 13</th>\n      <th>Unnamed: 14</th>\n      <th>Unnamed: 15</th>\n      <th>Unnamed: 16</th>\n      <th>Unnamed: 17</th>\n      <th>Unnamed: 18</th>\n    </tr>\n  </thead>\n  <tbody>\n    <tr>\n      <th>0</th>\n      <td>79.0</td>\n      <td>25.0</td>\n      <td>0.0</td>\n      <td>0.0</td>\n      <td>15.0</td>\n      <td>0.0</td>\n      <td>45.0</td>\n      <td>NaN</td>\n      <td>NaN</td>\n      <td>NaN</td>\n      <td>NaN</td>\n      <td>NaN</td>\n      <td>NaN</td>\n      <td>NaN</td>\n      <td>NaN</td>\n      <td>NaN</td>\n      <td>NaN</td>\n      <td>NaN</td>\n      <td>NaN</td>\n    </tr>\n    <tr>\n      <th>1</th>\n      <td>136.0</td>\n      <td>58.0</td>\n      <td>6.0</td>\n      <td>0.0</td>\n      <td>15.0</td>\n      <td>0.0</td>\n      <td>148.0</td>\n      <td>NaN</td>\n      <td>NaN</td>\n      <td>NaN</td>\n      <td>NaN</td>\n      <td>NaN</td>\n      <td>NaN</td>\n      <td>NaN</td>\n      <td>NaN</td>\n      <td>NaN</td>\n      <td>NaN</td>\n      <td>NaN</td>\n      <td>NaN</td>\n    </tr>\n    <tr>\n      <th>2</th>\n      <td>115.0</td>\n      <td>30.0</td>\n      <td>2.0</td>\n      <td>1.0</td>\n      <td>9.0</td>\n      <td>5.0</td>\n      <td>29.0</td>\n      <td>NaN</td>\n      <td>NaN</td>\n      <td>NaN</td>\n      <td>NaN</td>\n      <td>NaN</td>\n      <td>NaN</td>\n      <td>NaN</td>\n      <td>NaN</td>\n      <td>NaN</td>\n      <td>NaN</td>\n      <td>NaN</td>\n      <td>NaN</td>\n    </tr>\n    <tr>\n      <th>3</th>\n      <td>129.0</td>\n      <td>139.0</td>\n      <td>16.0</td>\n      <td>0.0</td>\n      <td>22.0</td>\n      <td>0.0</td>\n      <td>69.0</td>\n      <td>NaN</td>\n      <td>NaN</td>\n      <td>NaN</td>\n      <td>NaN</td>\n      <td>NaN</td>\n      <td>NaN</td>\n      <td>NaN</td>\n      <td>NaN</td>\n      <td>NaN</td>\n      <td>NaN</td>\n      <td>NaN</td>\n      <td>NaN</td>\n    </tr>\n    <tr>\n      <th>4</th>\n      <td>120.0</td>\n      <td>58.0</td>\n      <td>15.0</td>\n      <td>15.0</td>\n      <td>14.0</td>\n      <td>82.0</td>\n      <td>9.0</td>\n      <td>NaN</td>\n      <td>NaN</td>\n      <td>NaN</td>\n      <td>NaN</td>\n      <td>NaN</td>\n      <td>NaN</td>\n      <td>NaN</td>\n      <td>NaN</td>\n      <td>NaN</td>\n      <td>NaN</td>\n      <td>NaN</td>\n      <td>NaN</td>\n    </tr>\n  </tbody>\n</table>\n</div>"
     },
     "execution_count": 3,
     "metadata": {},
     "output_type": "execute_result"
    }
   ]
  },
  {
   "cell_type": "code",
   "source": [
    "df = df.filter(regex='^(?!.*Unnamed).*$')\n",
    "df.head()"
   ],
   "metadata": {
    "colab": {
     "base_uri": "https://localhost:8080/",
     "height": 206
    },
    "id": "FbFLqUVYC3Lv",
    "executionInfo": {
     "status": "ok",
     "timestamp": 1699012124195,
     "user_tz": -180,
     "elapsed": 38,
     "user": {
      "displayName": "Mr Shot",
      "userId": "05703602284528533401"
     }
    },
    "outputId": "66f4d8dc-eaea-4900-e060-32de12f54231",
    "ExecuteTime": {
     "end_time": "2023-12-01T11:58:44.960343Z",
     "start_time": "2023-12-01T11:58:44.126259Z"
    }
   },
   "execution_count": 4,
   "outputs": [
    {
     "data": {
      "text/plain": "   LUNGES  BITES  ZIGZAGS  NEST  SPINES  DNEST   BOUT\n0    79.0   25.0      0.0   0.0    15.0    0.0   45.0\n1   136.0   58.0      6.0   0.0    15.0    0.0  148.0\n2   115.0   30.0      2.0   1.0     9.0    5.0   29.0\n3   129.0  139.0     16.0   0.0    22.0    0.0   69.0\n4   120.0   58.0     15.0  15.0    14.0   82.0    9.0",
      "text/html": "<div>\n<style scoped>\n    .dataframe tbody tr th:only-of-type {\n        vertical-align: middle;\n    }\n\n    .dataframe tbody tr th {\n        vertical-align: top;\n    }\n\n    .dataframe thead th {\n        text-align: right;\n    }\n</style>\n<table border=\"1\" class=\"dataframe\">\n  <thead>\n    <tr style=\"text-align: right;\">\n      <th></th>\n      <th>LUNGES</th>\n      <th>BITES</th>\n      <th>ZIGZAGS</th>\n      <th>NEST</th>\n      <th>SPINES</th>\n      <th>DNEST</th>\n      <th>BOUT</th>\n    </tr>\n  </thead>\n  <tbody>\n    <tr>\n      <th>0</th>\n      <td>79.0</td>\n      <td>25.0</td>\n      <td>0.0</td>\n      <td>0.0</td>\n      <td>15.0</td>\n      <td>0.0</td>\n      <td>45.0</td>\n    </tr>\n    <tr>\n      <th>1</th>\n      <td>136.0</td>\n      <td>58.0</td>\n      <td>6.0</td>\n      <td>0.0</td>\n      <td>15.0</td>\n      <td>0.0</td>\n      <td>148.0</td>\n    </tr>\n    <tr>\n      <th>2</th>\n      <td>115.0</td>\n      <td>30.0</td>\n      <td>2.0</td>\n      <td>1.0</td>\n      <td>9.0</td>\n      <td>5.0</td>\n      <td>29.0</td>\n    </tr>\n    <tr>\n      <th>3</th>\n      <td>129.0</td>\n      <td>139.0</td>\n      <td>16.0</td>\n      <td>0.0</td>\n      <td>22.0</td>\n      <td>0.0</td>\n      <td>69.0</td>\n    </tr>\n    <tr>\n      <th>4</th>\n      <td>120.0</td>\n      <td>58.0</td>\n      <td>15.0</td>\n      <td>15.0</td>\n      <td>14.0</td>\n      <td>82.0</td>\n      <td>9.0</td>\n    </tr>\n  </tbody>\n</table>\n</div>"
     },
     "execution_count": 4,
     "metadata": {},
     "output_type": "execute_result"
    }
   ]
  },
  {
   "cell_type": "markdown",
   "source": [
    "Убираем пустые данные с помощью фильтрации"
   ],
   "metadata": {
    "id": "rYMewNLkCWa1"
   }
  },
  {
   "cell_type": "code",
   "source": [
    "df.describe()"
   ],
   "metadata": {
    "colab": {
     "base_uri": "https://localhost:8080/",
     "height": 300
    },
    "id": "X5aIzDfHDlmi",
    "executionInfo": {
     "status": "ok",
     "timestamp": 1699012124195,
     "user_tz": -180,
     "elapsed": 35,
     "user": {
      "displayName": "Mr Shot",
      "userId": "05703602284528533401"
     }
    },
    "outputId": "30361741-d8e5-48fd-cc44-a77900584e10",
    "ExecuteTime": {
     "end_time": "2023-12-01T11:58:45.073877Z",
     "start_time": "2023-12-01T11:58:44.153381Z"
    }
   },
   "execution_count": 5,
   "outputs": [
    {
     "data": {
      "text/plain": "           LUNGES       BITES    ZIGZAGS       NEST     SPINES       DNEST  \\\ncount   54.000000   54.000000  54.000000  54.000000  54.000000   54.000000   \nmean   131.185185   69.055556   7.277778   1.425926  18.425926   34.259259   \nstd     50.771064   43.428283   6.693891   3.000641   8.712606   56.491170   \nmin     41.000000    3.000000   0.000000   0.000000   5.000000    0.000000   \n25%     99.000000   34.250000   2.250000   0.000000  14.000000    0.000000   \n50%    127.000000   60.000000   5.000000   0.000000  16.000000    0.000000   \n75%    156.750000   84.250000  10.750000   1.000000  24.750000   73.000000   \nmax    277.000000  175.000000  26.000000  15.000000  46.000000  199.000000   \n\n             BOUT  \ncount   54.000000  \nmean    89.314815  \nstd     98.679742  \nmin      6.000000  \n25%     23.500000  \n50%     45.000000  \n75%    125.000000  \nmax    306.000000  ",
      "text/html": "<div>\n<style scoped>\n    .dataframe tbody tr th:only-of-type {\n        vertical-align: middle;\n    }\n\n    .dataframe tbody tr th {\n        vertical-align: top;\n    }\n\n    .dataframe thead th {\n        text-align: right;\n    }\n</style>\n<table border=\"1\" class=\"dataframe\">\n  <thead>\n    <tr style=\"text-align: right;\">\n      <th></th>\n      <th>LUNGES</th>\n      <th>BITES</th>\n      <th>ZIGZAGS</th>\n      <th>NEST</th>\n      <th>SPINES</th>\n      <th>DNEST</th>\n      <th>BOUT</th>\n    </tr>\n  </thead>\n  <tbody>\n    <tr>\n      <th>count</th>\n      <td>54.000000</td>\n      <td>54.000000</td>\n      <td>54.000000</td>\n      <td>54.000000</td>\n      <td>54.000000</td>\n      <td>54.000000</td>\n      <td>54.000000</td>\n    </tr>\n    <tr>\n      <th>mean</th>\n      <td>131.185185</td>\n      <td>69.055556</td>\n      <td>7.277778</td>\n      <td>1.425926</td>\n      <td>18.425926</td>\n      <td>34.259259</td>\n      <td>89.314815</td>\n    </tr>\n    <tr>\n      <th>std</th>\n      <td>50.771064</td>\n      <td>43.428283</td>\n      <td>6.693891</td>\n      <td>3.000641</td>\n      <td>8.712606</td>\n      <td>56.491170</td>\n      <td>98.679742</td>\n    </tr>\n    <tr>\n      <th>min</th>\n      <td>41.000000</td>\n      <td>3.000000</td>\n      <td>0.000000</td>\n      <td>0.000000</td>\n      <td>5.000000</td>\n      <td>0.000000</td>\n      <td>6.000000</td>\n    </tr>\n    <tr>\n      <th>25%</th>\n      <td>99.000000</td>\n      <td>34.250000</td>\n      <td>2.250000</td>\n      <td>0.000000</td>\n      <td>14.000000</td>\n      <td>0.000000</td>\n      <td>23.500000</td>\n    </tr>\n    <tr>\n      <th>50%</th>\n      <td>127.000000</td>\n      <td>60.000000</td>\n      <td>5.000000</td>\n      <td>0.000000</td>\n      <td>16.000000</td>\n      <td>0.000000</td>\n      <td>45.000000</td>\n    </tr>\n    <tr>\n      <th>75%</th>\n      <td>156.750000</td>\n      <td>84.250000</td>\n      <td>10.750000</td>\n      <td>1.000000</td>\n      <td>24.750000</td>\n      <td>73.000000</td>\n      <td>125.000000</td>\n    </tr>\n    <tr>\n      <th>max</th>\n      <td>277.000000</td>\n      <td>175.000000</td>\n      <td>26.000000</td>\n      <td>15.000000</td>\n      <td>46.000000</td>\n      <td>199.000000</td>\n      <td>306.000000</td>\n    </tr>\n  </tbody>\n</table>\n</div>"
     },
     "execution_count": 5,
     "metadata": {},
     "output_type": "execute_result"
    }
   ]
  },
  {
   "cell_type": "markdown",
   "source": [
    "Выводим количество, среднее, квартили и т.д. для каждой переменной. Из данных можно понять, что в выборке есть данные о хищных и не хищных рыбах (минимальное и максимальное значения укусов (bites) сильно отличаются)"
   ],
   "metadata": {
    "id": "IEHHu27s9AH8"
   }
  },
  {
   "cell_type": "code",
   "source": [
    "df.corr()"
   ],
   "metadata": {
    "colab": {
     "base_uri": "https://localhost:8080/",
     "height": 269
    },
    "id": "MN_fCymJDqFh",
    "executionInfo": {
     "status": "ok",
     "timestamp": 1699012124196,
     "user_tz": -180,
     "elapsed": 34,
     "user": {
      "displayName": "Mr Shot",
      "userId": "05703602284528533401"
     }
    },
    "outputId": "f8b4ef01-612f-40db-bab1-c030662949ac",
    "ExecuteTime": {
     "end_time": "2023-12-01T11:58:45.109945Z",
     "start_time": "2023-12-01T11:58:44.214716Z"
    }
   },
   "execution_count": 6,
   "outputs": [
    {
     "data": {
      "text/plain": "           LUNGES     BITES   ZIGZAGS      NEST    SPINES     DNEST      BOUT\nLUNGES   1.000000  0.688077 -0.139336 -0.164133  0.055567 -0.228568  0.233314\nBITES    0.688077  1.000000 -0.042761 -0.148884  0.373382 -0.217563  0.117316\nZIGZAGS -0.139336 -0.042761  1.000000  0.351894  0.067813  0.091315 -0.160693\nNEST    -0.164133 -0.148884  0.351894  1.000000 -0.052538  0.514028 -0.305876\nSPINES   0.055567  0.373382  0.067813 -0.052538  1.000000 -0.051099 -0.041483\nDNEST   -0.228568 -0.217563  0.091315  0.514028 -0.051099  1.000000 -0.242177\nBOUT     0.233314  0.117316 -0.160693 -0.305876 -0.041483 -0.242177  1.000000",
      "text/html": "<div>\n<style scoped>\n    .dataframe tbody tr th:only-of-type {\n        vertical-align: middle;\n    }\n\n    .dataframe tbody tr th {\n        vertical-align: top;\n    }\n\n    .dataframe thead th {\n        text-align: right;\n    }\n</style>\n<table border=\"1\" class=\"dataframe\">\n  <thead>\n    <tr style=\"text-align: right;\">\n      <th></th>\n      <th>LUNGES</th>\n      <th>BITES</th>\n      <th>ZIGZAGS</th>\n      <th>NEST</th>\n      <th>SPINES</th>\n      <th>DNEST</th>\n      <th>BOUT</th>\n    </tr>\n  </thead>\n  <tbody>\n    <tr>\n      <th>LUNGES</th>\n      <td>1.000000</td>\n      <td>0.688077</td>\n      <td>-0.139336</td>\n      <td>-0.164133</td>\n      <td>0.055567</td>\n      <td>-0.228568</td>\n      <td>0.233314</td>\n    </tr>\n    <tr>\n      <th>BITES</th>\n      <td>0.688077</td>\n      <td>1.000000</td>\n      <td>-0.042761</td>\n      <td>-0.148884</td>\n      <td>0.373382</td>\n      <td>-0.217563</td>\n      <td>0.117316</td>\n    </tr>\n    <tr>\n      <th>ZIGZAGS</th>\n      <td>-0.139336</td>\n      <td>-0.042761</td>\n      <td>1.000000</td>\n      <td>0.351894</td>\n      <td>0.067813</td>\n      <td>0.091315</td>\n      <td>-0.160693</td>\n    </tr>\n    <tr>\n      <th>NEST</th>\n      <td>-0.164133</td>\n      <td>-0.148884</td>\n      <td>0.351894</td>\n      <td>1.000000</td>\n      <td>-0.052538</td>\n      <td>0.514028</td>\n      <td>-0.305876</td>\n    </tr>\n    <tr>\n      <th>SPINES</th>\n      <td>0.055567</td>\n      <td>0.373382</td>\n      <td>0.067813</td>\n      <td>-0.052538</td>\n      <td>1.000000</td>\n      <td>-0.051099</td>\n      <td>-0.041483</td>\n    </tr>\n    <tr>\n      <th>DNEST</th>\n      <td>-0.228568</td>\n      <td>-0.217563</td>\n      <td>0.091315</td>\n      <td>0.514028</td>\n      <td>-0.051099</td>\n      <td>1.000000</td>\n      <td>-0.242177</td>\n    </tr>\n    <tr>\n      <th>BOUT</th>\n      <td>0.233314</td>\n      <td>0.117316</td>\n      <td>-0.160693</td>\n      <td>-0.305876</td>\n      <td>-0.041483</td>\n      <td>-0.242177</td>\n      <td>1.000000</td>\n    </tr>\n  </tbody>\n</table>\n</div>"
     },
     "execution_count": 6,
     "metadata": {},
     "output_type": "execute_result"
    }
   ]
  },
  {
   "cell_type": "markdown",
   "source": [
    "Выводим корелляции. Можно выделить несколько сильных связей: Lunges и Bites, Dnest и Nest, Bout и Lunges, Zigzags и Nest и др."
   ],
   "metadata": {
    "id": "hBIEam9k9Ebr"
   }
  },
  {
   "cell_type": "code",
   "source": [
    "scatter_matrix(df)\n",
    "plt.show()"
   ],
   "metadata": {
    "colab": {
     "base_uri": "https://localhost:8080/",
     "height": 457
    },
    "id": "a2MOqN9-DuH0",
    "executionInfo": {
     "status": "ok",
     "timestamp": 1699012126561,
     "user_tz": -180,
     "elapsed": 2396,
     "user": {
      "displayName": "Mr Shot",
      "userId": "05703602284528533401"
     }
    },
    "outputId": "03d41614-ef25-4fca-ce51-60f1b9fdebf4",
    "ExecuteTime": {
     "end_time": "2023-12-01T11:58:47.637869Z",
     "start_time": "2023-12-01T11:58:44.229310Z"
    }
   },
   "execution_count": 7,
   "outputs": [
    {
     "data": {
      "text/plain": "<Figure size 640x480 with 49 Axes>",
      "image/png": "[encoded data removed]"
     },
     "metadata": {},
     "output_type": "display_data"
    }
   ]
  },
  {
   "cell_type": "markdown",
   "source": [
    "Визуализируем корелляции (чем гуще облако, тем сильнее связь) и выводим распределение каждого из столбцов. Нормальным распределением обладают столбцы Lunges (также есть выброс) и Bites. У столбцов Zigzags и Bout распределение скошено вправо"
   ],
   "metadata": {
    "id": "MA3fyD9x9G00"
   }
  },
  {
   "cell_type": "code",
   "source": [
    "calculate_bartlett_sphericity(df)"
   ],
   "metadata": {
    "colab": {
     "base_uri": "https://localhost:8080/"
    },
    "id": "dgTuiNYmEDy2",
    "executionInfo": {
     "status": "ok",
     "timestamp": 1699012126562,
     "user_tz": -180,
     "elapsed": 58,
     "user": {
      "displayName": "Mr Shot",
      "userId": "05703602284528533401"
     }
    },
    "outputId": "144cbc91-56e7-4cf1-a39b-998f16cd9cf2",
    "ExecuteTime": {
     "end_time": "2023-12-01T11:58:47.704327Z",
     "start_time": "2023-12-01T11:58:47.634055Z"
    }
   },
   "execution_count": 8,
   "outputs": [
    {
     "data": {
      "text/plain": "(78.65570932525837, 1.3528985212723955e-08)"
     },
     "execution_count": 8,
     "metadata": {},
     "output_type": "execute_result"
    }
   ]
  },
  {
   "cell_type": "markdown",
   "source": [
    "p-value меньше альфа, 0-ая гипотеза отвергается, корреляционная матрица отличается от единичной, вне главной диагонали есть числа, отличные от 0"
   ],
   "metadata": {
    "id": "-lf6AyNz9I7P"
   }
  },
  {
   "cell_type": "code",
   "source": [
    "kmo_all, kmo_model = calculate_kmo(df)\n",
    "kmo_all"
   ],
   "metadata": {
    "colab": {
     "base_uri": "https://localhost:8080/"
    },
    "id": "L-vBolMuEah8",
    "executionInfo": {
     "status": "ok",
     "timestamp": 1699012126564,
     "user_tz": -180,
     "elapsed": 54,
     "user": {
      "displayName": "Mr Shot",
      "userId": "05703602284528533401"
     }
    },
    "outputId": "ffafd626-1e0f-4809-c493-827c68cc95ba",
    "ExecuteTime": {
     "end_time": "2023-12-01T11:58:47.794799Z",
     "start_time": "2023-12-01T11:58:47.652623Z"
    }
   },
   "execution_count": 9,
   "outputs": [
    {
     "data": {
      "text/plain": "array([0.5045225 , 0.49499775, 0.54613696, 0.5818407 , 0.3460975 ,\n       0.62519322, 0.76803628])"
     },
     "execution_count": 9,
     "metadata": {},
     "output_type": "execute_result"
    }
   ]
  },
  {
   "cell_type": "markdown",
   "source": [
    "Есть предпосылки для проведения факторного анализа"
   ],
   "metadata": {
    "id": "a8-rbdqqB5Xt"
   }
  },
  {
   "cell_type": "code",
   "source": [
    "kmo_model"
   ],
   "metadata": {
    "colab": {
     "base_uri": "https://localhost:8080/"
    },
    "id": "i38HpNgfJLsf",
    "executionInfo": {
     "status": "ok",
     "timestamp": 1699012126564,
     "user_tz": -180,
     "elapsed": 51,
     "user": {
      "displayName": "Mr Shot",
      "userId": "05703602284528533401"
     }
    },
    "outputId": "fb20033c-764f-4b46-d157-ac8683d4c13a",
    "ExecuteTime": {
     "end_time": "2023-12-01T11:58:47.795896Z",
     "start_time": "2023-12-01T11:58:47.680497Z"
    }
   },
   "execution_count": 10,
   "outputs": [
    {
     "data": {
      "text/plain": "0.536090482930058"
     },
     "execution_count": 10,
     "metadata": {},
     "output_type": "execute_result"
    }
   ]
  },
  {
   "cell_type": "markdown",
   "source": [
    "Значение больше 0,5; данные подходят для факторного анализа"
   ],
   "metadata": {
    "id": "64UCYnUz9LUP"
   }
  },
  {
   "cell_type": "code",
   "source": [
    "df_scaled = preprocessing.scale(df)\n",
    "pca = PCA(n_components=7)\n",
    "pca.fit(df_scaled)"
   ],
   "metadata": {
    "colab": {
     "base_uri": "https://localhost:8080/",
     "height": 74
    },
    "id": "nl7FZUOfFhAp",
    "executionInfo": {
     "status": "ok",
     "timestamp": 1699012126564,
     "user_tz": -180,
     "elapsed": 48,
     "user": {
      "displayName": "Mr Shot",
      "userId": "05703602284528533401"
     }
    },
    "outputId": "6677ab6a-ec0e-4e00-f051-dd40345838ed",
    "ExecuteTime": {
     "end_time": "2023-12-01T11:58:47.837239Z",
     "start_time": "2023-12-01T11:58:47.709320Z"
    }
   },
   "execution_count": 11,
   "outputs": [
    {
     "data": {
      "text/plain": "PCA(n_components=7)",
      "text/html": "<style>#sk-container-id-1 {color: black;}#sk-container-id-1 pre{padding: 0;}#sk-container-id-1 div.sk-toggleable {background-color: white;}#sk-container-id-1 label.sk-toggleable__label {cursor: pointer;display: block;width: 100%;margin-bottom: 0;padding: 0.3em;box-sizing: border-box;text-align: center;}#sk-container-id-1 label.sk-toggleable__label-arrow:before {content: \"▸\";float: left;margin-right: 0.25em;color: #696969;}#sk-container-id-1 label.sk-toggleable__label-arrow:hover:before {color: black;}#sk-container-id-1 div.sk-estimator:hover label.sk-toggleable__label-arrow:before {color: black;}#sk-container-id-1 div.sk-toggleable__content {max-height: 0;max-width: 0;overflow: hidden;text-align: left;background-color: #f0f8ff;}#sk-container-id-1 div.sk-toggleable__content pre {margin: 0.2em;color: black;border-radius: 0.25em;background-color: #f0f8ff;}#sk-container-id-1 input.sk-toggleable__control:checked~div.sk-toggleable__content {max-height: 200px;max-width: 100%;overflow: auto;}#sk-container-id-1 input.sk-toggleable__control:checked~label.sk-toggleable__label-arrow:before {content: \"▾\";}#sk-container-id-1 div.sk-estimator input.sk-toggleable__control:checked~label.sk-toggleable__label {background-color: #d4ebff;}#sk-container-id-1 div.sk-label input.sk-toggleable__control:checked~label.sk-toggleable__label {background-color: #d4ebff;}#sk-container-id-1 input.sk-hidden--visually {border: 0;clip: rect(1px 1px 1px 1px);clip: rect(1px, 1px, 1px, 1px);height: 1px;margin: -1px;overflow: hidden;padding: 0;position: absolute;width: 1px;}#sk-container-id-1 div.sk-estimator {font-family: monospace;background-color: #f0f8ff;border: 1px dotted black;border-radius: 0.25em;box-sizing: border-box;margin-bottom: 0.5em;}#sk-container-id-1 div.sk-estimator:hover {background-color: #d4ebff;}#sk-container-id-1 div.sk-parallel-item::after {content: \"\";width: 100%;border-bottom: 1px solid gray;flex-grow: 1;}#sk-container-id-1 div.sk-label:hover label.sk-toggleable__label {background-color: #d4ebff;}#sk-container-id-1 div.sk-serial::before {content: \"\";position: absolute;border-left: 1px solid gray;box-sizing: border-box;top: 0;bottom: 0;left: 50%;z-index: 0;}#sk-container-id-1 div.sk-serial {display: flex;flex-direction: column;align-items: center;background-color: white;padding-right: 0.2em;padding-left: 0.2em;position: relative;}#sk-container-id-1 div.sk-item {position: relative;z-index: 1;}#sk-container-id-1 div.sk-parallel {display: flex;align-items: stretch;justify-content: center;background-color: white;position: relative;}#sk-container-id-1 div.sk-item::before, #sk-container-id-1 div.sk-parallel-item::before {content: \"\";position: absolute;border-left: 1px solid gray;box-sizing: border-box;top: 0;bottom: 0;left: 50%;z-index: -1;}#sk-container-id-1 div.sk-parallel-item {display: flex;flex-direction: column;z-index: 1;position: relative;background-color: white;}#sk-container-id-1 div.sk-parallel-item:first-child::after {align-self: flex-end;width: 50%;}#sk-container-id-1 div.sk-parallel-item:last-child::after {align-self: flex-start;width: 50%;}#sk-container-id-1 div.sk-parallel-item:only-child::after {width: 0;}#sk-container-id-1 div.sk-dashed-wrapped {border: 1px dashed gray;margin: 0 0.4em 0.5em 0.4em;box-sizing: border-box;padding-bottom: 0.4em;background-color: white;}#sk-container-id-1 div.sk-label label {font-family: monospace;font-weight: bold;display: inline-block;line-height: 1.2em;}#sk-container-id-1 div.sk-label-container {text-align: center;}#sk-container-id-1 div.sk-container {/* jupyter's `normalize.less` sets `[hidden] { display: none; }` but bootstrap.min.css set `[hidden] { display: none !important; }` so we also need the `!important` here to be able to override the default hidden behavior on the sphinx rendered scikit-learn.org. See: https://github.com/scikit-learn/scikit-learn/issues/21755 */display: inline-block !important;position: relative;}#sk-container-id-1 div.sk-text-repr-fallback {display: none;}</style><div id=\"sk-container-id-1\" class=\"sk-top-container\"><div class=\"sk-text-repr-fallback\"><pre>PCA(n_components=7)</pre><b>In a Jupyter environment, please rerun this cell to show the HTML representation or trust the notebook. <br />On GitHub, the HTML representation is unable to render, please try loading this page with nbviewer.org.</b></div><div class=\"sk-container\" hidden><div class=\"sk-item\"><div class=\"sk-estimator sk-toggleable\"><input class=\"sk-toggleable__control sk-hidden--visually\" id=\"sk-estimator-id-1\" type=\"checkbox\" checked><label for=\"sk-estimator-id-1\" class=\"sk-toggleable__label sk-toggleable__label-arrow\">PCA</label><div class=\"sk-toggleable__content\"><pre>PCA(n_components=7)</pre></div></div></div></div></div>"
     },
     "execution_count": 11,
     "metadata": {},
     "output_type": "execute_result"
    }
   ]
  },
  {
   "cell_type": "code",
   "source": [
    "pca.explained_variance_"
   ],
   "metadata": {
    "colab": {
     "base_uri": "https://localhost:8080/"
    },
    "id": "o3IR92sbF8eF",
    "executionInfo": {
     "status": "ok",
     "timestamp": 1699012126564,
     "user_tz": -180,
     "elapsed": 47,
     "user": {
      "displayName": "Mr Shot",
      "userId": "05703602284528533401"
     }
    },
    "outputId": "5b16c521-4c53-473d-a31a-cc952b8f3abf",
    "ExecuteTime": {
     "end_time": "2023-12-01T11:58:47.871967Z",
     "start_time": "2023-12-01T11:58:47.726803Z"
    }
   },
   "execution_count": 12,
   "outputs": [
    {
     "data": {
      "text/plain": "array([2.33131423, 1.48167964, 0.99758804, 0.90279779, 0.76745194,\n       0.41244602, 0.2387978 ])"
     },
     "execution_count": 12,
     "metadata": {},
     "output_type": "execute_result"
    }
   ]
  },
  {
   "cell_type": "markdown",
   "source": [
    "По критерию Кайзера для факторного анализа подходят первые два компонента, т.к. они больше среднего значения по данным из массива"
   ],
   "metadata": {
    "id": "pXtWv6Me9Sya"
   }
  },
  {
   "cell_type": "code",
   "source": [
    "v = 0\n",
    "for i in pca.explained_variance_ratio_:\n",
    "  v += i\n",
    "  print(v)"
   ],
   "metadata": {
    "colab": {
     "base_uri": "https://localhost:8080/"
    },
    "id": "j6iIAp5rGVKT",
    "executionInfo": {
     "status": "ok",
     "timestamp": 1699012126565,
     "user_tz": -180,
     "elapsed": 46,
     "user": {
      "displayName": "Mr Shot",
      "userId": "05703602284528533401"
     }
    },
    "outputId": "df0d2d39-edc6-418b-93c4-01268308d6df",
    "ExecuteTime": {
     "end_time": "2023-12-01T11:58:47.874817Z",
     "start_time": "2023-12-01T11:58:47.739695Z"
    }
   },
   "execution_count": 13,
   "outputs": [
    {
     "name": "stdout",
     "output_type": "stream",
     "text": [
      "0.3268773917679257\n",
      "0.5346261250218028\n",
      "0.6744995808365255\n",
      "0.8010823391610432\n",
      "0.9086880347421142\n",
      "0.9665177682091353\n",
      "0.9999999999999999\n"
     ]
    }
   ]
  },
  {
   "cell_type": "markdown",
   "source": [
    "Берем 3 фактора для анализа как среднее между количеством полученных факторов после критерия Кайзера (2) и определенной суммарной доли объясненной дисперсиисии (4)"
   ],
   "metadata": {
    "id": "lYMCq_vB9ZLB"
   }
  },
  {
   "cell_type": "code",
   "source": [
    "fa = FactorAnalyzer()\n",
    "fa.fit(df_scaled)"
   ],
   "metadata": {
    "colab": {
     "base_uri": "https://localhost:8080/",
     "height": 74
    },
    "id": "Vr_2ak80JsQ1",
    "executionInfo": {
     "status": "ok",
     "timestamp": 1699012126565,
     "user_tz": -180,
     "elapsed": 44,
     "user": {
      "displayName": "Mr Shot",
      "userId": "05703602284528533401"
     }
    },
    "outputId": "fbebd267-bc43-45e8-bbf5-eb5a968d3c58",
    "ExecuteTime": {
     "end_time": "2023-12-01T11:58:48.034764Z",
     "start_time": "2023-12-01T11:58:47.756599Z"
    }
   },
   "execution_count": 14,
   "outputs": [
    {
     "data": {
      "text/plain": "FactorAnalyzer(rotation_kwargs={})",
      "text/html": "<style>#sk-container-id-2 {color: black;}#sk-container-id-2 pre{padding: 0;}#sk-container-id-2 div.sk-toggleable {background-color: white;}#sk-container-id-2 label.sk-toggleable__label {cursor: pointer;display: block;width: 100%;margin-bottom: 0;padding: 0.3em;box-sizing: border-box;text-align: center;}#sk-container-id-2 label.sk-toggleable__label-arrow:before {content: \"▸\";float: left;margin-right: 0.25em;color: #696969;}#sk-container-id-2 label.sk-toggleable__label-arrow:hover:before {color: black;}#sk-container-id-2 div.sk-estimator:hover label.sk-toggleable__label-arrow:before {color: black;}#sk-container-id-2 div.sk-toggleable__content {max-height: 0;max-width: 0;overflow: hidden;text-align: left;background-color: #f0f8ff;}#sk-container-id-2 div.sk-toggleable__content pre {margin: 0.2em;color: black;border-radius: 0.25em;background-color: #f0f8ff;}#sk-container-id-2 input.sk-toggleable__control:checked~div.sk-toggleable__content {max-height: 200px;max-width: 100%;overflow: auto;}#sk-container-id-2 input.sk-toggleable__control:checked~label.sk-toggleable__label-arrow:before {content: \"▾\";}#sk-container-id-2 div.sk-estimator input.sk-toggleable__control:checked~label.sk-toggleable__label {background-color: #d4ebff;}#sk-container-id-2 div.sk-label input.sk-toggleable__control:checked~label.sk-toggleable__label {background-color: #d4ebff;}#sk-container-id-2 input.sk-hidden--visually {border: 0;clip: rect(1px 1px 1px 1px);clip: rect(1px, 1px, 1px, 1px);height: 1px;margin: -1px;overflow: hidden;padding: 0;position: absolute;width: 1px;}#sk-container-id-2 div.sk-estimator {font-family: monospace;background-color: #f0f8ff;border: 1px dotted black;border-radius: 0.25em;box-sizing: border-box;margin-bottom: 0.5em;}#sk-container-id-2 div.sk-estimator:hover {background-color: #d4ebff;}#sk-container-id-2 div.sk-parallel-item::after {content: \"\";width: 100%;border-bottom: 1px solid gray;flex-grow: 1;}#sk-container-id-2 div.sk-label:hover label.sk-toggleable__label {background-color: #d4ebff;}#sk-container-id-2 div.sk-serial::before {content: \"\";position: absolute;border-left: 1px solid gray;box-sizing: border-box;top: 0;bottom: 0;left: 50%;z-index: 0;}#sk-container-id-2 div.sk-serial {display: flex;flex-direction: column;align-items: center;background-color: white;padding-right: 0.2em;padding-left: 0.2em;position: relative;}#sk-container-id-2 div.sk-item {position: relative;z-index: 1;}#sk-container-id-2 div.sk-parallel {display: flex;align-items: stretch;justify-content: center;background-color: white;position: relative;}#sk-container-id-2 div.sk-item::before, #sk-container-id-2 div.sk-parallel-item::before {content: \"\";position: absolute;border-left: 1px solid gray;box-sizing: border-box;top: 0;bottom: 0;left: 50%;z-index: -1;}#sk-container-id-2 div.sk-parallel-item {display: flex;flex-direction: column;z-index: 1;position: relative;background-color: white;}#sk-container-id-2 div.sk-parallel-item:first-child::after {align-self: flex-end;width: 50%;}#sk-container-id-2 div.sk-parallel-item:last-child::after {align-self: flex-start;width: 50%;}#sk-container-id-2 div.sk-parallel-item:only-child::after {width: 0;}#sk-container-id-2 div.sk-dashed-wrapped {border: 1px dashed gray;margin: 0 0.4em 0.5em 0.4em;box-sizing: border-box;padding-bottom: 0.4em;background-color: white;}#sk-container-id-2 div.sk-label label {font-family: monospace;font-weight: bold;display: inline-block;line-height: 1.2em;}#sk-container-id-2 div.sk-label-container {text-align: center;}#sk-container-id-2 div.sk-container {/* jupyter's `normalize.less` sets `[hidden] { display: none; }` but bootstrap.min.css set `[hidden] { display: none !important; }` so we also need the `!important` here to be able to override the default hidden behavior on the sphinx rendered scikit-learn.org. See: https://github.com/scikit-learn/scikit-learn/issues/21755 */display: inline-block !important;position: relative;}#sk-container-id-2 div.sk-text-repr-fallback {display: none;}</style><div id=\"sk-container-id-2\" class=\"sk-top-container\"><div class=\"sk-text-repr-fallback\"><pre>FactorAnalyzer(rotation_kwargs={})</pre><b>In a Jupyter environment, please rerun this cell to show the HTML representation or trust the notebook. <br />On GitHub, the HTML representation is unable to render, please try loading this page with nbviewer.org.</b></div><div class=\"sk-container\" hidden><div class=\"sk-item\"><div class=\"sk-estimator sk-toggleable\"><input class=\"sk-toggleable__control sk-hidden--visually\" id=\"sk-estimator-id-2\" type=\"checkbox\" checked><label for=\"sk-estimator-id-2\" class=\"sk-toggleable__label sk-toggleable__label-arrow\">FactorAnalyzer</label><div class=\"sk-toggleable__content\"><pre>FactorAnalyzer(rotation_kwargs={})</pre></div></div></div></div></div>"
     },
     "execution_count": 14,
     "metadata": {},
     "output_type": "execute_result"
    }
   ]
  },
  {
   "cell_type": "markdown",
   "source": [
    "Создаем модель для проведения факторного анализа"
   ],
   "metadata": {
    "id": "jPCGn1T6BtZk"
   }
  },
  {
   "cell_type": "code",
   "source": [
    "eigen_values, vectors = fa.get_eigenvalues()"
   ],
   "metadata": {
    "id": "2vqIg6kqHCoo",
    "executionInfo": {
     "status": "ok",
     "timestamp": 1699012126565,
     "user_tz": -180,
     "elapsed": 42,
     "user": {
      "displayName": "Mr Shot",
      "userId": "05703602284528533401"
     }
    },
    "ExecuteTime": {
     "end_time": "2023-12-01T11:58:48.035648Z",
     "start_time": "2023-12-01T11:58:47.824116Z"
    }
   },
   "execution_count": 15,
   "outputs": []
  },
  {
   "cell_type": "code",
   "source": [
    "eigen_values"
   ],
   "metadata": {
    "colab": {
     "base_uri": "https://localhost:8080/"
    },
    "id": "49rg16aCHrgW",
    "executionInfo": {
     "status": "ok",
     "timestamp": 1699012126565,
     "user_tz": -180,
     "elapsed": 42,
     "user": {
      "displayName": "Mr Shot",
      "userId": "05703602284528533401"
     }
    },
    "outputId": "61da70d7-4a72-46b6-aa84-45a2b32823b8",
    "ExecuteTime": {
     "end_time": "2023-12-01T11:58:48.101369Z",
     "start_time": "2023-12-01T11:58:47.832758Z"
    }
   },
   "execution_count": 16,
   "outputs": [
    {
     "data": {
      "text/plain": "array([2.28814174, 1.45424113, 0.97911419, 0.88607931, 0.75323987,\n       0.40480813, 0.23437562])"
     },
     "execution_count": 16,
     "metadata": {},
     "output_type": "execute_result"
    }
   ]
  },
  {
   "cell_type": "markdown",
   "source": [
    "Для факторного анализа можно выбрать 2 фактора, так как их значения больше 1"
   ],
   "metadata": {
    "id": "8hknHXnn9fxD"
   }
  },
  {
   "cell_type": "code",
   "source": [
    "plt.scatter(range(1,df_scaled.shape[1]+1),eigen_values)\n",
    "plt.plot(range(1,df_scaled.shape[1]+1),eigen_values)\n",
    "plt.title('Scree Plot')\n",
    "plt.xlabel('Factors')\n",
    "plt.ylabel('Eigenvalue')\n",
    "plt.grid()\n",
    "plt.show()"
   ],
   "metadata": {
    "colab": {
     "base_uri": "https://localhost:8080/",
     "height": 472
    },
    "id": "onzd6M3CIOeW",
    "executionInfo": {
     "status": "ok",
     "timestamp": 1699012126977,
     "user_tz": -180,
     "elapsed": 449,
     "user": {
      "displayName": "Mr Shot",
      "userId": "05703602284528533401"
     }
    },
    "outputId": "e613f412-53cd-4f74-e8ab-a2269ffff0bf",
    "ExecuteTime": {
     "end_time": "2023-12-01T11:58:48.351734Z",
     "start_time": "2023-12-01T11:58:47.860042Z"
    }
   },
   "execution_count": 17,
   "outputs": [
    {
     "data": {
      "text/plain": "<Figure size 640x480 with 1 Axes>",
      "image/png": "[encoded data removed]"
     },
     "metadata": {},
     "output_type": "display_data"
    }
   ]
  },
  {
   "cell_type": "markdown",
   "source": [
    "Значимыми являются первые 3 фактора, т.к. после 3 фактора происходит плавный спад, в сравнении с началом"
   ],
   "metadata": {
    "id": "sJURzcAU9h9O"
   }
  },
  {
   "cell_type": "code",
   "source": [
    "n_factors = 3\n",
    "fa.set_params(n_factors= n_factors, rotation='varimax')"
   ],
   "metadata": {
    "colab": {
     "base_uri": "https://localhost:8080/",
     "height": 74
    },
    "id": "AhatBOgWI2Re",
    "executionInfo": {
     "status": "ok",
     "timestamp": 1699012126978,
     "user_tz": -180,
     "elapsed": 67,
     "user": {
      "displayName": "Mr Shot",
      "userId": "05703602284528533401"
     }
    },
    "outputId": "9f830840-d4fd-41df-a77d-4b066bdfa41f",
    "ExecuteTime": {
     "end_time": "2023-12-01T11:58:48.357904Z",
     "start_time": "2023-12-01T11:58:48.152641Z"
    }
   },
   "execution_count": 18,
   "outputs": [
    {
     "data": {
      "text/plain": "FactorAnalyzer(rotation='varimax', rotation_kwargs={})",
      "text/html": "<style>#sk-container-id-3 {color: black;}#sk-container-id-3 pre{padding: 0;}#sk-container-id-3 div.sk-toggleable {background-color: white;}#sk-container-id-3 label.sk-toggleable__label {cursor: pointer;display: block;width: 100%;margin-bottom: 0;padding: 0.3em;box-sizing: border-box;text-align: center;}#sk-container-id-3 label.sk-toggleable__label-arrow:before {content: \"▸\";float: left;margin-right: 0.25em;color: #696969;}#sk-container-id-3 label.sk-toggleable__label-arrow:hover:before {color: black;}#sk-container-id-3 div.sk-estimator:hover label.sk-toggleable__label-arrow:before {color: black;}#sk-container-id-3 div.sk-toggleable__content {max-height: 0;max-width: 0;overflow: hidden;text-align: left;background-color: #f0f8ff;}#sk-container-id-3 div.sk-toggleable__content pre {margin: 0.2em;color: black;border-radius: 0.25em;background-color: #f0f8ff;}#sk-container-id-3 input.sk-toggleable__control:checked~div.sk-toggleable__content {max-height: 200px;max-width: 100%;overflow: auto;}#sk-container-id-3 input.sk-toggleable__control:checked~label.sk-toggleable__label-arrow:before {content: \"▾\";}#sk-container-id-3 div.sk-estimator input.sk-toggleable__control:checked~label.sk-toggleable__label {background-color: #d4ebff;}#sk-container-id-3 div.sk-label input.sk-toggleable__control:checked~label.sk-toggleable__label {background-color: #d4ebff;}#sk-container-id-3 input.sk-hidden--visually {border: 0;clip: rect(1px 1px 1px 1px);clip: rect(1px, 1px, 1px, 1px);height: 1px;margin: -1px;overflow: hidden;padding: 0;position: absolute;width: 1px;}#sk-container-id-3 div.sk-estimator {font-family: monospace;background-color: #f0f8ff;border: 1px dotted black;border-radius: 0.25em;box-sizing: border-box;margin-bottom: 0.5em;}#sk-container-id-3 div.sk-estimator:hover {background-color: #d4ebff;}#sk-container-id-3 div.sk-parallel-item::after {content: \"\";width: 100%;border-bottom: 1px solid gray;flex-grow: 1;}#sk-container-id-3 div.sk-label:hover label.sk-toggleable__label {background-color: #d4ebff;}#sk-container-id-3 div.sk-serial::before {content: \"\";position: absolute;border-left: 1px solid gray;box-sizing: border-box;top: 0;bottom: 0;left: 50%;z-index: 0;}#sk-container-id-3 div.sk-serial {display: flex;flex-direction: column;align-items: center;background-color: white;padding-right: 0.2em;padding-left: 0.2em;position: relative;}#sk-container-id-3 div.sk-item {position: relative;z-index: 1;}#sk-container-id-3 div.sk-parallel {display: flex;align-items: stretch;justify-content: center;background-color: white;position: relative;}#sk-container-id-3 div.sk-item::before, #sk-container-id-3 div.sk-parallel-item::before {content: \"\";position: absolute;border-left: 1px solid gray;box-sizing: border-box;top: 0;bottom: 0;left: 50%;z-index: -1;}#sk-container-id-3 div.sk-parallel-item {display: flex;flex-direction: column;z-index: 1;position: relative;background-color: white;}#sk-container-id-3 div.sk-parallel-item:first-child::after {align-self: flex-end;width: 50%;}#sk-container-id-3 div.sk-parallel-item:last-child::after {align-self: flex-start;width: 50%;}#sk-container-id-3 div.sk-parallel-item:only-child::after {width: 0;}#sk-container-id-3 div.sk-dashed-wrapped {border: 1px dashed gray;margin: 0 0.4em 0.5em 0.4em;box-sizing: border-box;padding-bottom: 0.4em;background-color: white;}#sk-container-id-3 div.sk-label label {font-family: monospace;font-weight: bold;display: inline-block;line-height: 1.2em;}#sk-container-id-3 div.sk-label-container {text-align: center;}#sk-container-id-3 div.sk-container {/* jupyter's `normalize.less` sets `[hidden] { display: none; }` but bootstrap.min.css set `[hidden] { display: none !important; }` so we also need the `!important` here to be able to override the default hidden behavior on the sphinx rendered scikit-learn.org. See: https://github.com/scikit-learn/scikit-learn/issues/21755 */display: inline-block !important;position: relative;}#sk-container-id-3 div.sk-text-repr-fallback {display: none;}</style><div id=\"sk-container-id-3\" class=\"sk-top-container\"><div class=\"sk-text-repr-fallback\"><pre>FactorAnalyzer(rotation=&#x27;varimax&#x27;, rotation_kwargs={})</pre><b>In a Jupyter environment, please rerun this cell to show the HTML representation or trust the notebook. <br />On GitHub, the HTML representation is unable to render, please try loading this page with nbviewer.org.</b></div><div class=\"sk-container\" hidden><div class=\"sk-item\"><div class=\"sk-estimator sk-toggleable\"><input class=\"sk-toggleable__control sk-hidden--visually\" id=\"sk-estimator-id-3\" type=\"checkbox\" checked><label for=\"sk-estimator-id-3\" class=\"sk-toggleable__label sk-toggleable__label-arrow\">FactorAnalyzer</label><div class=\"sk-toggleable__content\"><pre>FactorAnalyzer(rotation=&#x27;varimax&#x27;, rotation_kwargs={})</pre></div></div></div></div></div>"
     },
     "execution_count": 18,
     "metadata": {},
     "output_type": "execute_result"
    }
   ]
  },
  {
   "cell_type": "code",
   "source": [
    "fa.fit(df_scaled)"
   ],
   "metadata": {
    "colab": {
     "base_uri": "https://localhost:8080/",
     "height": 74
    },
    "id": "Bel6YLkvI3YX",
    "executionInfo": {
     "status": "ok",
     "timestamp": 1699012126978,
     "user_tz": -180,
     "elapsed": 66,
     "user": {
      "displayName": "Mr Shot",
      "userId": "05703602284528533401"
     }
    },
    "outputId": "afc17743-d35f-4795-f17b-d0d41234cce9",
    "ExecuteTime": {
     "end_time": "2023-12-01T11:58:48.411082Z",
     "start_time": "2023-12-01T11:58:48.167279Z"
    }
   },
   "execution_count": 19,
   "outputs": [
    {
     "data": {
      "text/plain": "FactorAnalyzer(rotation='varimax', rotation_kwargs={})",
      "text/html": "<style>#sk-container-id-4 {color: black;}#sk-container-id-4 pre{padding: 0;}#sk-container-id-4 div.sk-toggleable {background-color: white;}#sk-container-id-4 label.sk-toggleable__label {cursor: pointer;display: block;width: 100%;margin-bottom: 0;padding: 0.3em;box-sizing: border-box;text-align: center;}#sk-container-id-4 label.sk-toggleable__label-arrow:before {content: \"▸\";float: left;margin-right: 0.25em;color: #696969;}#sk-container-id-4 label.sk-toggleable__label-arrow:hover:before {color: black;}#sk-container-id-4 div.sk-estimator:hover label.sk-toggleable__label-arrow:before {color: black;}#sk-container-id-4 div.sk-toggleable__content {max-height: 0;max-width: 0;overflow: hidden;text-align: left;background-color: #f0f8ff;}#sk-container-id-4 div.sk-toggleable__content pre {margin: 0.2em;color: black;border-radius: 0.25em;background-color: #f0f8ff;}#sk-container-id-4 input.sk-toggleable__control:checked~div.sk-toggleable__content {max-height: 200px;max-width: 100%;overflow: auto;}#sk-container-id-4 input.sk-toggleable__control:checked~label.sk-toggleable__label-arrow:before {content: \"▾\";}#sk-container-id-4 div.sk-estimator input.sk-toggleable__control:checked~label.sk-toggleable__label {background-color: #d4ebff;}#sk-container-id-4 div.sk-label input.sk-toggleable__control:checked~label.sk-toggleable__label {background-color: #d4ebff;}#sk-container-id-4 input.sk-hidden--visually {border: 0;clip: rect(1px 1px 1px 1px);clip: rect(1px, 1px, 1px, 1px);height: 1px;margin: -1px;overflow: hidden;padding: 0;position: absolute;width: 1px;}#sk-container-id-4 div.sk-estimator {font-family: monospace;background-color: #f0f8ff;border: 1px dotted black;border-radius: 0.25em;box-sizing: border-box;margin-bottom: 0.5em;}#sk-container-id-4 div.sk-estimator:hover {background-color: #d4ebff;}#sk-container-id-4 div.sk-parallel-item::after {content: \"\";width: 100%;border-bottom: 1px solid gray;flex-grow: 1;}#sk-container-id-4 div.sk-label:hover label.sk-toggleable__label {background-color: #d4ebff;}#sk-container-id-4 div.sk-serial::before {content: \"\";position: absolute;border-left: 1px solid gray;box-sizing: border-box;top: 0;bottom: 0;left: 50%;z-index: 0;}#sk-container-id-4 div.sk-serial {display: flex;flex-direction: column;align-items: center;background-color: white;padding-right: 0.2em;padding-left: 0.2em;position: relative;}#sk-container-id-4 div.sk-item {position: relative;z-index: 1;}#sk-container-id-4 div.sk-parallel {display: flex;align-items: stretch;justify-content: center;background-color: white;position: relative;}#sk-container-id-4 div.sk-item::before, #sk-container-id-4 div.sk-parallel-item::before {content: \"\";position: absolute;border-left: 1px solid gray;box-sizing: border-box;top: 0;bottom: 0;left: 50%;z-index: -1;}#sk-container-id-4 div.sk-parallel-item {display: flex;flex-direction: column;z-index: 1;position: relative;background-color: white;}#sk-container-id-4 div.sk-parallel-item:first-child::after {align-self: flex-end;width: 50%;}#sk-container-id-4 div.sk-parallel-item:last-child::after {align-self: flex-start;width: 50%;}#sk-container-id-4 div.sk-parallel-item:only-child::after {width: 0;}#sk-container-id-4 div.sk-dashed-wrapped {border: 1px dashed gray;margin: 0 0.4em 0.5em 0.4em;box-sizing: border-box;padding-bottom: 0.4em;background-color: white;}#sk-container-id-4 div.sk-label label {font-family: monospace;font-weight: bold;display: inline-block;line-height: 1.2em;}#sk-container-id-4 div.sk-label-container {text-align: center;}#sk-container-id-4 div.sk-container {/* jupyter's `normalize.less` sets `[hidden] { display: none; }` but bootstrap.min.css set `[hidden] { display: none !important; }` so we also need the `!important` here to be able to override the default hidden behavior on the sphinx rendered scikit-learn.org. See: https://github.com/scikit-learn/scikit-learn/issues/21755 */display: inline-block !important;position: relative;}#sk-container-id-4 div.sk-text-repr-fallback {display: none;}</style><div id=\"sk-container-id-4\" class=\"sk-top-container\"><div class=\"sk-text-repr-fallback\"><pre>FactorAnalyzer(rotation=&#x27;varimax&#x27;, rotation_kwargs={})</pre><b>In a Jupyter environment, please rerun this cell to show the HTML representation or trust the notebook. <br />On GitHub, the HTML representation is unable to render, please try loading this page with nbviewer.org.</b></div><div class=\"sk-container\" hidden><div class=\"sk-item\"><div class=\"sk-estimator sk-toggleable\"><input class=\"sk-toggleable__control sk-hidden--visually\" id=\"sk-estimator-id-4\" type=\"checkbox\" checked><label for=\"sk-estimator-id-4\" class=\"sk-toggleable__label sk-toggleable__label-arrow\">FactorAnalyzer</label><div class=\"sk-toggleable__content\"><pre>FactorAnalyzer(rotation=&#x27;varimax&#x27;, rotation_kwargs={})</pre></div></div></div></div></div>"
     },
     "execution_count": 19,
     "metadata": {},
     "output_type": "execute_result"
    }
   ]
  },
  {
   "cell_type": "code",
   "source": [
    "loadings = pd.DataFrame(fa.loadings_,\n",
    "                        columns = ['factor_1','factor_2','factor_3'],\n",
    "                        index = df.columns)\n",
    "loadings"
   ],
   "metadata": {
    "colab": {
     "base_uri": "https://localhost:8080/",
     "height": 269
    },
    "id": "5OdL7tPaKJD6",
    "executionInfo": {
     "status": "ok",
     "timestamp": 1699012126979,
     "user_tz": -180,
     "elapsed": 65,
     "user": {
      "displayName": "Mr Shot",
      "userId": "05703602284528533401"
     }
    },
    "outputId": "1dd540ed-696d-4c65-9e08-4f007d5a2948",
    "ExecuteTime": {
     "end_time": "2023-12-01T11:58:48.467068Z",
     "start_time": "2023-12-01T11:58:48.242641Z"
    }
   },
   "execution_count": 20,
   "outputs": [
    {
     "data": {
      "text/plain": "         factor_1  factor_2  factor_3\nLUNGES  -0.213815  0.876088  0.022384\nBITES   -0.110001  0.742419  0.588652\nZIGZAGS  0.342123 -0.076383  0.107402\nNEST     0.989281  0.058242 -0.141253\nSPINES   0.025750  0.057196  0.564226\nDNEST    0.501341 -0.134760 -0.111540\nBOUT    -0.359746  0.185878 -0.089865",
      "text/html": "<div>\n<style scoped>\n    .dataframe tbody tr th:only-of-type {\n        vertical-align: middle;\n    }\n\n    .dataframe tbody tr th {\n        vertical-align: top;\n    }\n\n    .dataframe thead th {\n        text-align: right;\n    }\n</style>\n<table border=\"1\" class=\"dataframe\">\n  <thead>\n    <tr style=\"text-align: right;\">\n      <th></th>\n      <th>factor_1</th>\n      <th>factor_2</th>\n      <th>factor_3</th>\n    </tr>\n  </thead>\n  <tbody>\n    <tr>\n      <th>LUNGES</th>\n      <td>-0.213815</td>\n      <td>0.876088</td>\n      <td>0.022384</td>\n    </tr>\n    <tr>\n      <th>BITES</th>\n      <td>-0.110001</td>\n      <td>0.742419</td>\n      <td>0.588652</td>\n    </tr>\n    <tr>\n      <th>ZIGZAGS</th>\n      <td>0.342123</td>\n      <td>-0.076383</td>\n      <td>0.107402</td>\n    </tr>\n    <tr>\n      <th>NEST</th>\n      <td>0.989281</td>\n      <td>0.058242</td>\n      <td>-0.141253</td>\n    </tr>\n    <tr>\n      <th>SPINES</th>\n      <td>0.025750</td>\n      <td>0.057196</td>\n      <td>0.564226</td>\n    </tr>\n    <tr>\n      <th>DNEST</th>\n      <td>0.501341</td>\n      <td>-0.134760</td>\n      <td>-0.111540</td>\n    </tr>\n    <tr>\n      <th>BOUT</th>\n      <td>-0.359746</td>\n      <td>0.185878</td>\n      <td>-0.089865</td>\n    </tr>\n  </tbody>\n</table>\n</div>"
     },
     "execution_count": 20,
     "metadata": {},
     "output_type": "execute_result"
    }
   ]
  },
  {
   "cell_type": "markdown",
   "source": [
    "На основе 2х из 3х можно сделать вывод, что по первому фактору выделяются домовитые рыбы, по второму - агрессивность (хищники). Третий фактор говорит нам почти о том, же, что и второй - об агрессивности рыбы"
   ],
   "metadata": {
    "id": "oD9GVrgGKsbN"
   }
  },
  {
   "cell_type": "code",
   "source": [
    "n_factors = 2\n",
    "fa.set_params(n_factors= n_factors, rotation='varimax')"
   ],
   "metadata": {
    "colab": {
     "base_uri": "https://localhost:8080/",
     "height": 74
    },
    "id": "wPPBr5ne-O-u",
    "executionInfo": {
     "status": "ok",
     "timestamp": 1699012126979,
     "user_tz": -180,
     "elapsed": 63,
     "user": {
      "displayName": "Mr Shot",
      "userId": "05703602284528533401"
     }
    },
    "outputId": "ddb6def9-9d02-4031-c96e-c45785f6b3bc",
    "ExecuteTime": {
     "end_time": "2023-12-01T11:58:48.471576Z",
     "start_time": "2023-12-01T11:58:48.262450Z"
    }
   },
   "execution_count": 21,
   "outputs": [
    {
     "data": {
      "text/plain": "FactorAnalyzer(n_factors=2, rotation='varimax', rotation_kwargs={})",
      "text/html": "<style>#sk-container-id-5 {color: black;}#sk-container-id-5 pre{padding: 0;}#sk-container-id-5 div.sk-toggleable {background-color: white;}#sk-container-id-5 label.sk-toggleable__label {cursor: pointer;display: block;width: 100%;margin-bottom: 0;padding: 0.3em;box-sizing: border-box;text-align: center;}#sk-container-id-5 label.sk-toggleable__label-arrow:before {content: \"▸\";float: left;margin-right: 0.25em;color: #696969;}#sk-container-id-5 label.sk-toggleable__label-arrow:hover:before {color: black;}#sk-container-id-5 div.sk-estimator:hover label.sk-toggleable__label-arrow:before {color: black;}#sk-container-id-5 div.sk-toggleable__content {max-height: 0;max-width: 0;overflow: hidden;text-align: left;background-color: #f0f8ff;}#sk-container-id-5 div.sk-toggleable__content pre {margin: 0.2em;color: black;border-radius: 0.25em;background-color: #f0f8ff;}#sk-container-id-5 input.sk-toggleable__control:checked~div.sk-toggleable__content {max-height: 200px;max-width: 100%;overflow: auto;}#sk-container-id-5 input.sk-toggleable__control:checked~label.sk-toggleable__label-arrow:before {content: \"▾\";}#sk-container-id-5 div.sk-estimator input.sk-toggleable__control:checked~label.sk-toggleable__label {background-color: #d4ebff;}#sk-container-id-5 div.sk-label input.sk-toggleable__control:checked~label.sk-toggleable__label {background-color: #d4ebff;}#sk-container-id-5 input.sk-hidden--visually {border: 0;clip: rect(1px 1px 1px 1px);clip: rect(1px, 1px, 1px, 1px);height: 1px;margin: -1px;overflow: hidden;padding: 0;position: absolute;width: 1px;}#sk-container-id-5 div.sk-estimator {font-family: monospace;background-color: #f0f8ff;border: 1px dotted black;border-radius: 0.25em;box-sizing: border-box;margin-bottom: 0.5em;}#sk-container-id-5 div.sk-estimator:hover {background-color: #d4ebff;}#sk-container-id-5 div.sk-parallel-item::after {content: \"\";width: 100%;border-bottom: 1px solid gray;flex-grow: 1;}#sk-container-id-5 div.sk-label:hover label.sk-toggleable__label {background-color: #d4ebff;}#sk-container-id-5 div.sk-serial::before {content: \"\";position: absolute;border-left: 1px solid gray;box-sizing: border-box;top: 0;bottom: 0;left: 50%;z-index: 0;}#sk-container-id-5 div.sk-serial {display: flex;flex-direction: column;align-items: center;background-color: white;padding-right: 0.2em;padding-left: 0.2em;position: relative;}#sk-container-id-5 div.sk-item {position: relative;z-index: 1;}#sk-container-id-5 div.sk-parallel {display: flex;align-items: stretch;justify-content: center;background-color: white;position: relative;}#sk-container-id-5 div.sk-item::before, #sk-container-id-5 div.sk-parallel-item::before {content: \"\";position: absolute;border-left: 1px solid gray;box-sizing: border-box;top: 0;bottom: 0;left: 50%;z-index: -1;}#sk-container-id-5 div.sk-parallel-item {display: flex;flex-direction: column;z-index: 1;position: relative;background-color: white;}#sk-container-id-5 div.sk-parallel-item:first-child::after {align-self: flex-end;width: 50%;}#sk-container-id-5 div.sk-parallel-item:last-child::after {align-self: flex-start;width: 50%;}#sk-container-id-5 div.sk-parallel-item:only-child::after {width: 0;}#sk-container-id-5 div.sk-dashed-wrapped {border: 1px dashed gray;margin: 0 0.4em 0.5em 0.4em;box-sizing: border-box;padding-bottom: 0.4em;background-color: white;}#sk-container-id-5 div.sk-label label {font-family: monospace;font-weight: bold;display: inline-block;line-height: 1.2em;}#sk-container-id-5 div.sk-label-container {text-align: center;}#sk-container-id-5 div.sk-container {/* jupyter's `normalize.less` sets `[hidden] { display: none; }` but bootstrap.min.css set `[hidden] { display: none !important; }` so we also need the `!important` here to be able to override the default hidden behavior on the sphinx rendered scikit-learn.org. See: https://github.com/scikit-learn/scikit-learn/issues/21755 */display: inline-block !important;position: relative;}#sk-container-id-5 div.sk-text-repr-fallback {display: none;}</style><div id=\"sk-container-id-5\" class=\"sk-top-container\"><div class=\"sk-text-repr-fallback\"><pre>FactorAnalyzer(n_factors=2, rotation=&#x27;varimax&#x27;, rotation_kwargs={})</pre><b>In a Jupyter environment, please rerun this cell to show the HTML representation or trust the notebook. <br />On GitHub, the HTML representation is unable to render, please try loading this page with nbviewer.org.</b></div><div class=\"sk-container\" hidden><div class=\"sk-item\"><div class=\"sk-estimator sk-toggleable\"><input class=\"sk-toggleable__control sk-hidden--visually\" id=\"sk-estimator-id-5\" type=\"checkbox\" checked><label for=\"sk-estimator-id-5\" class=\"sk-toggleable__label sk-toggleable__label-arrow\">FactorAnalyzer</label><div class=\"sk-toggleable__content\"><pre>FactorAnalyzer(n_factors=2, rotation=&#x27;varimax&#x27;, rotation_kwargs={})</pre></div></div></div></div></div>"
     },
     "execution_count": 21,
     "metadata": {},
     "output_type": "execute_result"
    }
   ]
  },
  {
   "cell_type": "code",
   "source": [
    "fa.fit(df_scaled)"
   ],
   "metadata": {
    "colab": {
     "base_uri": "https://localhost:8080/",
     "height": 74
    },
    "id": "-8XYABed-Pmu",
    "executionInfo": {
     "status": "ok",
     "timestamp": 1699012126979,
     "user_tz": -180,
     "elapsed": 62,
     "user": {
      "displayName": "Mr Shot",
      "userId": "05703602284528533401"
     }
    },
    "outputId": "5c04c759-0eaa-47ce-e55e-595abadb31f8",
    "ExecuteTime": {
     "end_time": "2023-12-01T11:58:48.514010Z",
     "start_time": "2023-12-01T11:58:48.276916Z"
    }
   },
   "execution_count": 22,
   "outputs": [
    {
     "data": {
      "text/plain": "FactorAnalyzer(n_factors=2, rotation='varimax', rotation_kwargs={})",
      "text/html": "<style>#sk-container-id-6 {color: black;}#sk-container-id-6 pre{padding: 0;}#sk-container-id-6 div.sk-toggleable {background-color: white;}#sk-container-id-6 label.sk-toggleable__label {cursor: pointer;display: block;width: 100%;margin-bottom: 0;padding: 0.3em;box-sizing: border-box;text-align: center;}#sk-container-id-6 label.sk-toggleable__label-arrow:before {content: \"▸\";float: left;margin-right: 0.25em;color: #696969;}#sk-container-id-6 label.sk-toggleable__label-arrow:hover:before {color: black;}#sk-container-id-6 div.sk-estimator:hover label.sk-toggleable__label-arrow:before {color: black;}#sk-container-id-6 div.sk-toggleable__content {max-height: 0;max-width: 0;overflow: hidden;text-align: left;background-color: #f0f8ff;}#sk-container-id-6 div.sk-toggleable__content pre {margin: 0.2em;color: black;border-radius: 0.25em;background-color: #f0f8ff;}#sk-container-id-6 input.sk-toggleable__control:checked~div.sk-toggleable__content {max-height: 200px;max-width: 100%;overflow: auto;}#sk-container-id-6 input.sk-toggleable__control:checked~label.sk-toggleable__label-arrow:before {content: \"▾\";}#sk-container-id-6 div.sk-estimator input.sk-toggleable__control:checked~label.sk-toggleable__label {background-color: #d4ebff;}#sk-container-id-6 div.sk-label input.sk-toggleable__control:checked~label.sk-toggleable__label {background-color: #d4ebff;}#sk-container-id-6 input.sk-hidden--visually {border: 0;clip: rect(1px 1px 1px 1px);clip: rect(1px, 1px, 1px, 1px);height: 1px;margin: -1px;overflow: hidden;padding: 0;position: absolute;width: 1px;}#sk-container-id-6 div.sk-estimator {font-family: monospace;background-color: #f0f8ff;border: 1px dotted black;border-radius: 0.25em;box-sizing: border-box;margin-bottom: 0.5em;}#sk-container-id-6 div.sk-estimator:hover {background-color: #d4ebff;}#sk-container-id-6 div.sk-parallel-item::after {content: \"\";width: 100%;border-bottom: 1px solid gray;flex-grow: 1;}#sk-container-id-6 div.sk-label:hover label.sk-toggleable__label {background-color: #d4ebff;}#sk-container-id-6 div.sk-serial::before {content: \"\";position: absolute;border-left: 1px solid gray;box-sizing: border-box;top: 0;bottom: 0;left: 50%;z-index: 0;}#sk-container-id-6 div.sk-serial {display: flex;flex-direction: column;align-items: center;background-color: white;padding-right: 0.2em;padding-left: 0.2em;position: relative;}#sk-container-id-6 div.sk-item {position: relative;z-index: 1;}#sk-container-id-6 div.sk-parallel {display: flex;align-items: stretch;justify-content: center;background-color: white;position: relative;}#sk-container-id-6 div.sk-item::before, #sk-container-id-6 div.sk-parallel-item::before {content: \"\";position: absolute;border-left: 1px solid gray;box-sizing: border-box;top: 0;bottom: 0;left: 50%;z-index: -1;}#sk-container-id-6 div.sk-parallel-item {display: flex;flex-direction: column;z-index: 1;position: relative;background-color: white;}#sk-container-id-6 div.sk-parallel-item:first-child::after {align-self: flex-end;width: 50%;}#sk-container-id-6 div.sk-parallel-item:last-child::after {align-self: flex-start;width: 50%;}#sk-container-id-6 div.sk-parallel-item:only-child::after {width: 0;}#sk-container-id-6 div.sk-dashed-wrapped {border: 1px dashed gray;margin: 0 0.4em 0.5em 0.4em;box-sizing: border-box;padding-bottom: 0.4em;background-color: white;}#sk-container-id-6 div.sk-label label {font-family: monospace;font-weight: bold;display: inline-block;line-height: 1.2em;}#sk-container-id-6 div.sk-label-container {text-align: center;}#sk-container-id-6 div.sk-container {/* jupyter's `normalize.less` sets `[hidden] { display: none; }` but bootstrap.min.css set `[hidden] { display: none !important; }` so we also need the `!important` here to be able to override the default hidden behavior on the sphinx rendered scikit-learn.org. See: https://github.com/scikit-learn/scikit-learn/issues/21755 */display: inline-block !important;position: relative;}#sk-container-id-6 div.sk-text-repr-fallback {display: none;}</style><div id=\"sk-container-id-6\" class=\"sk-top-container\"><div class=\"sk-text-repr-fallback\"><pre>FactorAnalyzer(n_factors=2, rotation=&#x27;varimax&#x27;, rotation_kwargs={})</pre><b>In a Jupyter environment, please rerun this cell to show the HTML representation or trust the notebook. <br />On GitHub, the HTML representation is unable to render, please try loading this page with nbviewer.org.</b></div><div class=\"sk-container\" hidden><div class=\"sk-item\"><div class=\"sk-estimator sk-toggleable\"><input class=\"sk-toggleable__control sk-hidden--visually\" id=\"sk-estimator-id-6\" type=\"checkbox\" checked><label for=\"sk-estimator-id-6\" class=\"sk-toggleable__label sk-toggleable__label-arrow\">FactorAnalyzer</label><div class=\"sk-toggleable__content\"><pre>FactorAnalyzer(n_factors=2, rotation=&#x27;varimax&#x27;, rotation_kwargs={})</pre></div></div></div></div></div>"
     },
     "execution_count": 22,
     "metadata": {},
     "output_type": "execute_result"
    }
   ]
  },
  {
   "cell_type": "code",
   "source": [
    "loadings = pd.DataFrame(fa.loadings_,\n",
    "                        columns = ['factor_1','factor_2'],\n",
    "                        index = df.columns)\n",
    "loadings"
   ],
   "metadata": {
    "colab": {
     "base_uri": "https://localhost:8080/",
     "height": 269
    },
    "id": "-0tpu59n-Txe",
    "executionInfo": {
     "status": "ok",
     "timestamp": 1699012126979,
     "user_tz": -180,
     "elapsed": 60,
     "user": {
      "displayName": "Mr Shot",
      "userId": "05703602284528533401"
     }
    },
    "outputId": "619771e8-9424-4efc-adc7-08225d534298",
    "ExecuteTime": {
     "end_time": "2023-12-01T11:58:48.515975Z",
     "start_time": "2023-12-01T11:58:48.321968Z"
    }
   },
   "execution_count": 23,
   "outputs": [
    {
     "data": {
      "text/plain": "         factor_1  factor_2\nLUNGES   0.623123 -0.242540\nBITES    1.007741 -0.128163\nZIGZAGS  0.000196  0.355506\nNEST    -0.015454  0.894196\nSPINES   0.294315  0.018574\nDNEST   -0.155512  0.536576\nBOUT     0.099458 -0.384636",
      "text/html": "<div>\n<style scoped>\n    .dataframe tbody tr th:only-of-type {\n        vertical-align: middle;\n    }\n\n    .dataframe tbody tr th {\n        vertical-align: top;\n    }\n\n    .dataframe thead th {\n        text-align: right;\n    }\n</style>\n<table border=\"1\" class=\"dataframe\">\n  <thead>\n    <tr style=\"text-align: right;\">\n      <th></th>\n      <th>factor_1</th>\n      <th>factor_2</th>\n    </tr>\n  </thead>\n  <tbody>\n    <tr>\n      <th>LUNGES</th>\n      <td>0.623123</td>\n      <td>-0.242540</td>\n    </tr>\n    <tr>\n      <th>BITES</th>\n      <td>1.007741</td>\n      <td>-0.128163</td>\n    </tr>\n    <tr>\n      <th>ZIGZAGS</th>\n      <td>0.000196</td>\n      <td>0.355506</td>\n    </tr>\n    <tr>\n      <th>NEST</th>\n      <td>-0.015454</td>\n      <td>0.894196</td>\n    </tr>\n    <tr>\n      <th>SPINES</th>\n      <td>0.294315</td>\n      <td>0.018574</td>\n    </tr>\n    <tr>\n      <th>DNEST</th>\n      <td>-0.155512</td>\n      <td>0.536576</td>\n    </tr>\n    <tr>\n      <th>BOUT</th>\n      <td>0.099458</td>\n      <td>-0.384636</td>\n    </tr>\n  </tbody>\n</table>\n</div>"
     },
     "execution_count": 23,
     "metadata": {},
     "output_type": "execute_result"
    }
   ]
  },
  {
   "cell_type": "markdown",
   "source": [
    "Имеются различия в значениях полученных на основе 3х факторов. Первый фактор говорит об агрессивности, второй - о домовитости"
   ],
   "metadata": {
    "id": "6SGRlEBG_LKo"
   }
  },
  {
   "cell_type": "code",
   "source": [
    "fa.get_communalities()"
   ],
   "metadata": {
    "colab": {
     "base_uri": "https://localhost:8080/"
    },
    "id": "17aI4MKFKpI2",
    "executionInfo": {
     "status": "ok",
     "timestamp": 1699015170418,
     "user_tz": -180,
     "elapsed": 277,
     "user": {
      "displayName": "Mr Shot",
      "userId": "05703602284528533401"
     }
    },
    "outputId": "fec7f677-5265-495c-a3cc-47e276f5d01c",
    "ExecuteTime": {
     "end_time": "2023-12-01T11:58:48.657998Z",
     "start_time": "2023-12-01T11:58:48.350697Z"
    }
   },
   "execution_count": 24,
   "outputs": [
    {
     "data": {
      "text/plain": "array([0.4471078 , 1.03196785, 0.1263845 , 0.79982592, 0.08696602,\n       0.31209807, 0.15783688])"
     },
     "execution_count": 24,
     "metadata": {},
     "output_type": "execute_result"
    }
   ]
  },
  {
   "cell_type": "markdown",
   "source": [
    "Значения близкие к 1 указывают, что переменная хорошо объясняется факторами в модели. В данном массиве хорошо объясняются факторами переменные 2 и 4"
   ],
   "metadata": {
    "id": "ROFBmBPE_Nn-"
   }
  },
  {
   "cell_type": "code",
   "source": [
    "fa.get_uniquenesses()"
   ],
   "metadata": {
    "colab": {
     "base_uri": "https://localhost:8080/"
    },
    "id": "qZXX7ZosKxbV",
    "executionInfo": {
     "status": "ok",
     "timestamp": 1699012126980,
     "user_tz": -180,
     "elapsed": 55,
     "user": {
      "displayName": "Mr Shot",
      "userId": "05703602284528533401"
     }
    },
    "outputId": "8bde0e4d-115a-4896-d8d8-fe66961e9ddf",
    "ExecuteTime": {
     "end_time": "2023-12-01T11:58:48.763690Z",
     "start_time": "2023-12-01T11:58:48.368537Z"
    }
   },
   "execution_count": 25,
   "outputs": [
    {
     "data": {
      "text/plain": "array([ 0.5528922 , -0.03196785,  0.8736155 ,  0.20017408,  0.91303398,\n        0.68790193,  0.84216312])"
     },
     "execution_count": 25,
     "metadata": {},
     "output_type": "execute_result"
    }
   ]
  },
  {
   "cell_type": "markdown",
   "source": [
    "Значения близкие к 1 указывают, что переменные плохо объясняются выбранными факторами и имеют большую уникальность. В данном массиве плохо объясняются переменные 5 и 7"
   ],
   "metadata": {
    "id": "M9ZaZ1JbBF7t"
   }
  },
  {
   "cell_type": "code",
   "source": [
    "fa.get_communalities() + fa.get_uniquenesses()"
   ],
   "metadata": {
    "colab": {
     "base_uri": "https://localhost:8080/"
    },
    "id": "NebZ31AdNSIv",
    "executionInfo": {
     "status": "ok",
     "timestamp": 1699012126980,
     "user_tz": -180,
     "elapsed": 53,
     "user": {
      "displayName": "Mr Shot",
      "userId": "05703602284528533401"
     }
    },
    "outputId": "7e8d22f3-0786-4a76-f3ce-311ede2b38c9",
    "ExecuteTime": {
     "end_time": "2023-12-01T11:58:48.764558Z",
     "start_time": "2023-12-01T11:58:48.381613Z"
    }
   },
   "execution_count": 26,
   "outputs": [
    {
     "data": {
      "text/plain": "array([1., 1., 1., 1., 1., 1., 1.])"
     },
     "execution_count": 26,
     "metadata": {},
     "output_type": "execute_result"
    }
   ]
  },
  {
   "cell_type": "code",
   "source": [
    "var = pd.DataFrame(fa.get_factor_variance(),\n",
    "                   columns = ['factor_1', 'factor_2'],\n",
    "                   index = ['SS Loadings', 'Proportion Var', 'Cumulative Var'])\n",
    "var"
   ],
   "metadata": {
    "colab": {
     "base_uri": "https://localhost:8080/",
     "height": 143
    },
    "id": "z8EwHV4lK0wE",
    "executionInfo": {
     "status": "ok",
     "timestamp": 1699012126980,
     "user_tz": -180,
     "elapsed": 51,
     "user": {
      "displayName": "Mr Shot",
      "userId": "05703602284528533401"
     }
    },
    "outputId": "50356e92-5abb-4819-b079-910c11c466fd",
    "ExecuteTime": {
     "end_time": "2023-12-01T11:58:48.765579Z",
     "start_time": "2023-12-01T11:58:48.401352Z"
    }
   },
   "execution_count": 27,
   "outputs": [
    {
     "data": {
      "text/plain": "                factor_1  factor_2\nSS Loadings     1.524760  1.437427\nProportion Var  0.217823  0.205347\nCumulative Var  0.217823  0.423170",
      "text/html": "<div>\n<style scoped>\n    .dataframe tbody tr th:only-of-type {\n        vertical-align: middle;\n    }\n\n    .dataframe tbody tr th {\n        vertical-align: top;\n    }\n\n    .dataframe thead th {\n        text-align: right;\n    }\n</style>\n<table border=\"1\" class=\"dataframe\">\n  <thead>\n    <tr style=\"text-align: right;\">\n      <th></th>\n      <th>factor_1</th>\n      <th>factor_2</th>\n    </tr>\n  </thead>\n  <tbody>\n    <tr>\n      <th>SS Loadings</th>\n      <td>1.524760</td>\n      <td>1.437427</td>\n    </tr>\n    <tr>\n      <th>Proportion Var</th>\n      <td>0.217823</td>\n      <td>0.205347</td>\n    </tr>\n    <tr>\n      <th>Cumulative Var</th>\n      <td>0.217823</td>\n      <td>0.423170</td>\n    </tr>\n  </tbody>\n</table>\n</div>"
     },
     "execution_count": 27,
     "metadata": {},
     "output_type": "execute_result"
    }
   ]
  },
  {
   "cell_type": "markdown",
   "source": [
    "Первый показатель указывает на долю общей дисперсии, объясненной каждым фактором. Высокие значения указывают, что факторы объясняют большую часть дисперсии в данных"
   ],
   "metadata": {
    "id": "hpcBw-yaBOec"
   }
  },
  {
   "cell_type": "code",
   "source": [
    "scores = pd.DataFrame(fa.fit_transform(df_scaled),\n",
    "                      columns = ['factor_1', 'factor_2'])\n",
    "scores.head()"
   ],
   "metadata": {
    "colab": {
     "base_uri": "https://localhost:8080/",
     "height": 206
    },
    "id": "cTmfa3hfMI2O",
    "executionInfo": {
     "status": "ok",
     "timestamp": 1699012126980,
     "user_tz": -180,
     "elapsed": 48,
     "user": {
      "displayName": "Mr Shot",
      "userId": "05703602284528533401"
     }
    },
    "outputId": "8bc032de-3a4d-4fec-9985-547682ca9882",
    "ExecuteTime": {
     "end_time": "2023-12-01T11:58:48.844315Z",
     "start_time": "2023-12-01T11:58:48.415984Z"
    }
   },
   "execution_count": 28,
   "outputs": [
    {
     "data": {
      "text/plain": "   factor_1  factor_2\n0 -1.056267 -0.414067\n1 -0.312892 -0.554501\n2 -0.914928 -0.217825\n3  1.815168 -0.179745\n4  0.413355  3.843151",
      "text/html": "<div>\n<style scoped>\n    .dataframe tbody tr th:only-of-type {\n        vertical-align: middle;\n    }\n\n    .dataframe tbody tr th {\n        vertical-align: top;\n    }\n\n    .dataframe thead th {\n        text-align: right;\n    }\n</style>\n<table border=\"1\" class=\"dataframe\">\n  <thead>\n    <tr style=\"text-align: right;\">\n      <th></th>\n      <th>factor_1</th>\n      <th>factor_2</th>\n    </tr>\n  </thead>\n  <tbody>\n    <tr>\n      <th>0</th>\n      <td>-1.056267</td>\n      <td>-0.414067</td>\n    </tr>\n    <tr>\n      <th>1</th>\n      <td>-0.312892</td>\n      <td>-0.554501</td>\n    </tr>\n    <tr>\n      <th>2</th>\n      <td>-0.914928</td>\n      <td>-0.217825</td>\n    </tr>\n    <tr>\n      <th>3</th>\n      <td>1.815168</td>\n      <td>-0.179745</td>\n    </tr>\n    <tr>\n      <th>4</th>\n      <td>0.413355</td>\n      <td>3.843151</td>\n    </tr>\n  </tbody>\n</table>\n</div>"
     },
     "execution_count": 28,
     "metadata": {},
     "output_type": "execute_result"
    }
   ]
  },
  {
   "cell_type": "code",
   "source": [
    "scores.corr()"
   ],
   "metadata": {
    "colab": {
     "base_uri": "https://localhost:8080/",
     "height": 112
    },
    "id": "IbXTFUOJMoOb",
    "executionInfo": {
     "status": "ok",
     "timestamp": 1699012126980,
     "user_tz": -180,
     "elapsed": 46,
     "user": {
      "displayName": "Mr Shot",
      "userId": "05703602284528533401"
     }
    },
    "outputId": "bac026ff-f833-49f6-e78b-7d0e22c37435",
    "ExecuteTime": {
     "end_time": "2023-12-01T11:58:48.957732Z",
     "start_time": "2023-12-01T11:58:48.468044Z"
    }
   },
   "execution_count": 29,
   "outputs": [
    {
     "data": {
      "text/plain": "          factor_1  factor_2\nfactor_1  1.000000 -0.004571\nfactor_2 -0.004571  1.000000",
      "text/html": "<div>\n<style scoped>\n    .dataframe tbody tr th:only-of-type {\n        vertical-align: middle;\n    }\n\n    .dataframe tbody tr th {\n        vertical-align: top;\n    }\n\n    .dataframe thead th {\n        text-align: right;\n    }\n</style>\n<table border=\"1\" class=\"dataframe\">\n  <thead>\n    <tr style=\"text-align: right;\">\n      <th></th>\n      <th>factor_1</th>\n      <th>factor_2</th>\n    </tr>\n  </thead>\n  <tbody>\n    <tr>\n      <th>factor_1</th>\n      <td>1.000000</td>\n      <td>-0.004571</td>\n    </tr>\n    <tr>\n      <th>factor_2</th>\n      <td>-0.004571</td>\n      <td>1.000000</td>\n    </tr>\n  </tbody>\n</table>\n</div>"
     },
     "execution_count": 29,
     "metadata": {},
     "output_type": "execute_result"
    }
   ]
  },
  {
   "cell_type": "markdown",
   "source": [
    "Значения корреляции между факторами ближе к 0. Факторы между собой не связаны"
   ],
   "metadata": {
    "id": "n90Fu2kEBSI8"
   }
  }
 ]
}
