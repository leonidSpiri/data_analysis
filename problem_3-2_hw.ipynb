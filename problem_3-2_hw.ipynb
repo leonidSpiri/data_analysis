{
 "nbformat": 4,
 "nbformat_minor": 0,
 "metadata": {
  "colab": {
   "provenance": [],
   "collapsed_sections": [
    "s4eXwpCXrv1k"
   ],
   "toc_visible": true
  },
  "kernelspec": {
   "name": "python3",
   "language": "python",
   "display_name": "Python 3 (ipykernel)"
  },
  "language_info": {
   "name": "python"
  }
 },
 "cells": [
  {
   "cell_type": "markdown",
   "source": [
    "# ЗАДАНИЕ 3. ПРЕДВАРИТЕЛЬНАЯ ОБРАБОТКА ДАННЫХ И ОТБОР ПРИЗНАКОВ"
   ],
   "metadata": {
    "id": "1Kxhc6UjrtUY"
   }
  },
  {
   "cell_type": "code",
   "execution_count": 18,
   "metadata": {
    "id": "CQ-2qAfPrjwO",
    "ExecuteTime": {
     "end_time": "2023-10-27T12:03:25.663197Z",
     "start_time": "2023-10-27T12:03:25.632360Z"
    }
   },
   "outputs": [],
   "source": [
    "import matplotlib.pyplot as plt\n",
    "from numpy import set_printoptions\n",
    "import numpy as np\n",
    "from pandas import read_csv\n",
    "from sklearn.decomposition import PCA\n",
    "from sklearn.ensemble import ExtraTreesClassifier\n",
    "from sklearn.feature_selection import RFE\n",
    "from sklearn.feature_selection import SelectKBest\n",
    "from sklearn.feature_selection import f_classif\n",
    "from sklearn.linear_model import LogisticRegression\n",
    "from sklearn.preprocessing import Binarizer\n",
    "from sklearn.preprocessing import MinMaxScaler\n",
    "from sklearn.preprocessing import Normalizer\n",
    "from sklearn.preprocessing import StandardScaler"
   ]
  },
  {
   "cell_type": "code",
   "source": [
    "filename = 'data/tripadvisor_review.csv'\n",
    "namesArray = ['User ID', 'Category 1', 'Category 2', 'Category 3', 'Category 4', 'Category 5', 'Category 6',\n",
    "              'Category 7', 'Category 8', 'Category 9', 'Category 10']\n",
    "data = read_csv(filename, names=namesArray)\n",
    "\n",
    "data[\"User ID\"] = data[\"User ID\"].replace({\"User \": \"\"}, regex=True)\n",
    "data[\"User ID\"] = data[\"User ID\"].astype(int)\n",
    "data.head(15)"
   ],
   "metadata": {
    "id": "GuYX3Z03r1tT",
    "colab": {
     "base_uri": "https://localhost:8080/",
     "height": 206
    },
    "outputId": "af2275ae-e5f6-4b93-9a5a-25ecb42ddf80",
    "ExecuteTime": {
     "end_time": "2023-10-27T11:58:08.027401Z",
     "start_time": "2023-10-27T11:58:07.994411Z"
    }
   },
   "execution_count": 9,
   "outputs": [
    {
     "data": {
      "text/plain": "    User ID  Category 1  Category 2  Category 3  Category 4  Category 5  \\\n0         1        0.93        1.80        2.29        0.62        0.80   \n1         2        1.02        2.20        2.66        0.64        1.42   \n2         3        1.22        0.80        0.54        0.53        0.24   \n3         4        0.45        1.80        0.29        0.57        0.46   \n4         5        0.51        1.20        1.18        0.57        1.54   \n5         6        0.99        1.28        0.72        0.27        0.74   \n6         7        0.90        1.36        0.26        0.32        0.86   \n7         8        0.74        1.40        0.22        0.41        0.82   \n8         9        1.12        1.76        1.04        0.64        0.82   \n9        10        0.70        1.36        0.22        0.26        1.50   \n10       11        1.47        1.00        0.70        0.75        1.66   \n11       12        0.96        2.96        0.29        0.38        0.88   \n12       13        0.74        1.44        2.75        0.45        0.98   \n13       14        0.58        1.64        2.27        0.45        1.26   \n14       15        0.96        1.68        2.29        0.51        1.20   \n\n    Category 6  Category 7  Category 8  Category 9  Category 10  \n0         2.42        3.19        2.79        1.82         2.42  \n1         3.18        3.21        2.63        1.86         2.32  \n2         1.54        3.18        2.80        1.31         2.50  \n3         1.52        3.18        2.96        1.57         2.86  \n4         2.02        3.18        2.78        1.18         2.54  \n5         1.26        3.17        2.89        1.66         3.66  \n6         1.58        3.17        2.66        1.22         3.22  \n7         1.50        3.17        2.81        1.54         2.88  \n8         2.14        3.18        2.79        1.41         2.54  \n9         1.54        3.17        2.82        2.24         3.12  \n10        2.76        3.18        2.89        1.66         2.62  \n11        2.08        3.17        2.93        1.66         3.42  \n12        1.74        3.20        2.87        1.38         2.34  \n13        1.72        3.19        2.91        2.30         2.74  \n14        2.84        3.20        2.82        2.02         2.46  ",
      "text/html": "<div>\n<style scoped>\n    .dataframe tbody tr th:only-of-type {\n        vertical-align: middle;\n    }\n\n    .dataframe tbody tr th {\n        vertical-align: top;\n    }\n\n    .dataframe thead th {\n        text-align: right;\n    }\n</style>\n<table border=\"1\" class=\"dataframe\">\n  <thead>\n    <tr style=\"text-align: right;\">\n      <th></th>\n      <th>User ID</th>\n      <th>Category 1</th>\n      <th>Category 2</th>\n      <th>Category 3</th>\n      <th>Category 4</th>\n      <th>Category 5</th>\n      <th>Category 6</th>\n      <th>Category 7</th>\n      <th>Category 8</th>\n      <th>Category 9</th>\n      <th>Category 10</th>\n    </tr>\n  </thead>\n  <tbody>\n    <tr>\n      <th>0</th>\n      <td>1</td>\n      <td>0.93</td>\n      <td>1.80</td>\n      <td>2.29</td>\n      <td>0.62</td>\n      <td>0.80</td>\n      <td>2.42</td>\n      <td>3.19</td>\n      <td>2.79</td>\n      <td>1.82</td>\n      <td>2.42</td>\n    </tr>\n    <tr>\n      <th>1</th>\n      <td>2</td>\n      <td>1.02</td>\n      <td>2.20</td>\n      <td>2.66</td>\n      <td>0.64</td>\n      <td>1.42</td>\n      <td>3.18</td>\n      <td>3.21</td>\n      <td>2.63</td>\n      <td>1.86</td>\n      <td>2.32</td>\n    </tr>\n    <tr>\n      <th>2</th>\n      <td>3</td>\n      <td>1.22</td>\n      <td>0.80</td>\n      <td>0.54</td>\n      <td>0.53</td>\n      <td>0.24</td>\n      <td>1.54</td>\n      <td>3.18</td>\n      <td>2.80</td>\n      <td>1.31</td>\n      <td>2.50</td>\n    </tr>\n    <tr>\n      <th>3</th>\n      <td>4</td>\n      <td>0.45</td>\n      <td>1.80</td>\n      <td>0.29</td>\n      <td>0.57</td>\n      <td>0.46</td>\n      <td>1.52</td>\n      <td>3.18</td>\n      <td>2.96</td>\n      <td>1.57</td>\n      <td>2.86</td>\n    </tr>\n    <tr>\n      <th>4</th>\n      <td>5</td>\n      <td>0.51</td>\n      <td>1.20</td>\n      <td>1.18</td>\n      <td>0.57</td>\n      <td>1.54</td>\n      <td>2.02</td>\n      <td>3.18</td>\n      <td>2.78</td>\n      <td>1.18</td>\n      <td>2.54</td>\n    </tr>\n    <tr>\n      <th>5</th>\n      <td>6</td>\n      <td>0.99</td>\n      <td>1.28</td>\n      <td>0.72</td>\n      <td>0.27</td>\n      <td>0.74</td>\n      <td>1.26</td>\n      <td>3.17</td>\n      <td>2.89</td>\n      <td>1.66</td>\n      <td>3.66</td>\n    </tr>\n    <tr>\n      <th>6</th>\n      <td>7</td>\n      <td>0.90</td>\n      <td>1.36</td>\n      <td>0.26</td>\n      <td>0.32</td>\n      <td>0.86</td>\n      <td>1.58</td>\n      <td>3.17</td>\n      <td>2.66</td>\n      <td>1.22</td>\n      <td>3.22</td>\n    </tr>\n    <tr>\n      <th>7</th>\n      <td>8</td>\n      <td>0.74</td>\n      <td>1.40</td>\n      <td>0.22</td>\n      <td>0.41</td>\n      <td>0.82</td>\n      <td>1.50</td>\n      <td>3.17</td>\n      <td>2.81</td>\n      <td>1.54</td>\n      <td>2.88</td>\n    </tr>\n    <tr>\n      <th>8</th>\n      <td>9</td>\n      <td>1.12</td>\n      <td>1.76</td>\n      <td>1.04</td>\n      <td>0.64</td>\n      <td>0.82</td>\n      <td>2.14</td>\n      <td>3.18</td>\n      <td>2.79</td>\n      <td>1.41</td>\n      <td>2.54</td>\n    </tr>\n    <tr>\n      <th>9</th>\n      <td>10</td>\n      <td>0.70</td>\n      <td>1.36</td>\n      <td>0.22</td>\n      <td>0.26</td>\n      <td>1.50</td>\n      <td>1.54</td>\n      <td>3.17</td>\n      <td>2.82</td>\n      <td>2.24</td>\n      <td>3.12</td>\n    </tr>\n    <tr>\n      <th>10</th>\n      <td>11</td>\n      <td>1.47</td>\n      <td>1.00</td>\n      <td>0.70</td>\n      <td>0.75</td>\n      <td>1.66</td>\n      <td>2.76</td>\n      <td>3.18</td>\n      <td>2.89</td>\n      <td>1.66</td>\n      <td>2.62</td>\n    </tr>\n    <tr>\n      <th>11</th>\n      <td>12</td>\n      <td>0.96</td>\n      <td>2.96</td>\n      <td>0.29</td>\n      <td>0.38</td>\n      <td>0.88</td>\n      <td>2.08</td>\n      <td>3.17</td>\n      <td>2.93</td>\n      <td>1.66</td>\n      <td>3.42</td>\n    </tr>\n    <tr>\n      <th>12</th>\n      <td>13</td>\n      <td>0.74</td>\n      <td>1.44</td>\n      <td>2.75</td>\n      <td>0.45</td>\n      <td>0.98</td>\n      <td>1.74</td>\n      <td>3.20</td>\n      <td>2.87</td>\n      <td>1.38</td>\n      <td>2.34</td>\n    </tr>\n    <tr>\n      <th>13</th>\n      <td>14</td>\n      <td>0.58</td>\n      <td>1.64</td>\n      <td>2.27</td>\n      <td>0.45</td>\n      <td>1.26</td>\n      <td>1.72</td>\n      <td>3.19</td>\n      <td>2.91</td>\n      <td>2.30</td>\n      <td>2.74</td>\n    </tr>\n    <tr>\n      <th>14</th>\n      <td>15</td>\n      <td>0.96</td>\n      <td>1.68</td>\n      <td>2.29</td>\n      <td>0.51</td>\n      <td>1.20</td>\n      <td>2.84</td>\n      <td>3.20</td>\n      <td>2.82</td>\n      <td>2.02</td>\n      <td>2.46</td>\n    </tr>\n  </tbody>\n</table>\n</div>"
     },
     "execution_count": 9,
     "metadata": {},
     "output_type": "execute_result"
    }
   ]
  },
  {
   "cell_type": "code",
   "source": [
    "# 3.\tСохраните в переменную array значения признаков, обратившись к атрибуту values\n",
    "array = data.values\n",
    "\n",
    "# 4.\n",
    "X = array[:, 0:10]  # Факторные признаки\n",
    "Y = array[:, 10]    # Результативный признак\n",
    "print(f\"X: \\n{X[0:2,:8]}\")\n",
    "print(f\"Y: \\n{Y[0:2]}\")"
   ],
   "metadata": {
    "colab": {
     "base_uri": "https://localhost:8080/"
    },
    "id": "ZgHuCfvl0nJQ",
    "outputId": "7d80a3cd-9a50-4c0c-edd4-8d7113467804",
    "ExecuteTime": {
     "end_time": "2023-10-27T11:57:18.989283Z",
     "start_time": "2023-10-27T11:57:18.975599Z"
    }
   },
   "execution_count": 8,
   "outputs": [
    {
     "name": "stdout",
     "output_type": "stream",
     "text": [
      "X: \n",
      "[[1.   0.93 1.8  2.29 0.62 0.8  2.42 3.19]\n",
      " [2.   1.02 2.2  2.66 0.64 1.42 3.18 3.21]]\n",
      "Y: \n",
      "[2.42 2.32]\n"
     ]
    }
   ]
  },
  {
   "cell_type": "code",
   "source": [
    "# 5. cоздать объект с помощью функции MinMaxScaler()\n",
    "scaler = MinMaxScaler(feature_range=(0,1))\n",
    "\n",
    "# 6. обучить его на факторных признаках и преобразовать данные с помощью функции fit_transform()\n",
    "X_MinMaxScaler = scaler.fit_transform(X)\n",
    "\n",
    "# 7. формат представления данных вида 3 знака после запятой\n",
    "set_printoptions(precision=3)\n",
    "\n",
    "# 8. первые 5 строк преобразованных данных\n",
    "print(X_MinMaxScaler[0:5,:8])"
   ],
   "metadata": {
    "colab": {
     "base_uri": "https://localhost:8080/"
    },
    "id": "ROBuwb362FKI",
    "outputId": "1d81ea80-5bba-42df-b3ca-eb68feb14a2b",
    "ExecuteTime": {
     "end_time": "2023-10-27T11:59:05.032540Z",
     "start_time": "2023-10-27T11:59:05.012656Z"
    }
   },
   "execution_count": 10,
   "outputs": [
    {
     "name": "stdout",
     "output_type": "stream",
     "text": [
      "[[0.    0.205 0.495 0.619 0.143 0.228 0.63  0.6  ]\n",
      " [0.001 0.236 0.604 0.725 0.149 0.42  0.84  1.   ]\n",
      " [0.002 0.306 0.22  0.117 0.116 0.056 0.387 0.4  ]\n",
      " [0.003 0.038 0.495 0.046 0.128 0.123 0.381 0.4  ]\n",
      " [0.004 0.059 0.33  0.301 0.128 0.457 0.519 0.4  ]]\n"
     ]
    }
   ]
  },
  {
   "cell_type": "code",
   "execution_count": 12,
   "outputs": [],
   "source": [
    "def show_hist_diff(data_1, title_1, xlabel_1, data_2, title_2, xlabel_2):\n",
    "  # Строим два графика в одной строке\n",
    "  plt.figure(figsize=(10, 3))\n",
    "\n",
    "  plt.subplot(1, 2, 1)\n",
    "  plt.grid(True)\n",
    "  plt.hist(data_1, bins=10, edgecolor='k', color='#9042f5', alpha=0.7)\n",
    "  plt.title(title_1)\n",
    "  plt.xlabel(xlabel_1)\n",
    "  plt.ylabel(\"Частота\")\n",
    "\n",
    "\n",
    "  plt.subplot(1, 2, 2)\n",
    "  plt.hist(data_2, bins=10, edgecolor='k', color='#f5a442', alpha=0.7)\n",
    "  plt.title(title_2)\n",
    "  plt.xlabel(xlabel_2)\n",
    "  plt.ylabel(\"Частота\")\n",
    "  plt.grid(True)\n",
    "\n",
    "  plt.tight_layout()\n",
    "  plt.show()"
   ],
   "metadata": {
    "collapsed": false,
    "ExecuteTime": {
     "end_time": "2023-10-27T12:01:24.092434Z",
     "start_time": "2023-10-27T12:01:24.077829Z"
    }
   }
  },
  {
   "cell_type": "code",
   "source": [
    "X_source_row = [row[0] for row in X]\n",
    "X_MinMaxScaler_row = [row[0] for row in X_MinMaxScaler]\n",
    "\n",
    "show_hist_diff(X_source_row, \"Исходные данные\",\"\",\n",
    "               X_MinMaxScaler_row, \"После применения MinMaxScaler\", \"\" )"
   ],
   "metadata": {
    "colab": {
     "base_uri": "https://localhost:8080/",
     "height": 307
    },
    "id": "IlX_RyTnEf4m",
    "outputId": "7a0f93ca-29c3-45e2-d000-6c511216f9c6",
    "ExecuteTime": {
     "end_time": "2023-10-27T12:01:26.685023Z",
     "start_time": "2023-10-27T12:01:25.733400Z"
    }
   },
   "execution_count": 13,
   "outputs": [
    {
     "data": {
      "text/plain": "<Figure size 1000x300 with 2 Axes>",
      "image/png": "[encoded data removed]"
     },
     "metadata": {},
     "output_type": "display_data"
    }
   ]
  },
  {
   "cell_type": "code",
   "source": [
    "scaler = StandardScaler()\n",
    "scaler.fit(X)\n",
    "X_standardized = scaler.transform(X)\n",
    "print(X_standardized[0:5,:8])"
   ],
   "metadata": {
    "colab": {
     "base_uri": "https://localhost:8080/"
    },
    "id": "LZ4v3RaJB3tx",
    "outputId": "96b8b358-5388-4b98-eb89-3300c9e7e592",
    "ExecuteTime": {
     "end_time": "2023-10-27T12:02:39.752627Z",
     "start_time": "2023-10-27T12:02:39.732331Z"
    }
   },
   "execution_count": 14,
   "outputs": [
    {
     "name": "stdout",
     "output_type": "stream",
     "text": [
      "[[-1.73   0.113  0.936  1.62   0.313 -0.32   1.07   1.159]\n",
      " [-1.727  0.388  1.773  2.089  0.384  1.098  2.48   3.716]\n",
      " [-1.723  1.    -1.156 -0.6   -0.009 -1.6   -0.562 -0.12 ]\n",
      " [-1.72  -1.356  0.936 -0.918  0.134 -1.097 -0.599 -0.12 ]\n",
      " [-1.716 -1.173 -0.319  0.211  0.134  1.373  0.328 -0.12 ]]\n"
     ]
    }
   ]
  },
  {
   "cell_type": "code",
   "source": [
    "X_standardized_row = [row[0] for row in X_standardized]\n",
    "\n",
    "show_hist_diff(X_source_row, \"Исходные данные\", \"\",\n",
    "               X_standardized_row, \"После применения StandardScaler\", \"\")"
   ],
   "metadata": {
    "colab": {
     "base_uri": "https://localhost:8080/",
     "height": 307
    },
    "id": "0hiOutENC4mX",
    "outputId": "00344203-56af-4da1-cd45-30e94f40ae99",
    "ExecuteTime": {
     "end_time": "2023-10-27T12:02:52.413073Z",
     "start_time": "2023-10-27T12:02:51.921348Z"
    }
   },
   "execution_count": 15,
   "outputs": [
    {
     "data": {
      "text/plain": "<Figure size 1000x300 with 2 Axes>",
      "image/png": "[encoded data removed]"
     },
     "metadata": {},
     "output_type": "display_data"
    }
   ]
  },
  {
   "cell_type": "code",
   "source": [
    "normaler = Normalizer().fit(X)\n",
    "X_Normalizer = normaler.fit_transform(X)\n",
    "print(X_Normalizer[0:1,:])"
   ],
   "metadata": {
    "colab": {
     "base_uri": "https://localhost:8080/"
    },
    "id": "U9m3-TZXLNVi",
    "outputId": "37db36cc-3f5f-43a2-8135-8078c63e1ce2",
    "ExecuteTime": {
     "end_time": "2023-10-27T12:03:08.051058Z",
     "start_time": "2023-10-27T12:03:07.936470Z"
    }
   },
   "execution_count": 16,
   "outputs": [
    {
     "name": "stdout",
     "output_type": "stream",
     "text": [
      "[[0.161 0.15  0.29  0.369 0.1   0.129 0.39  0.514 0.45  0.293]]\n"
     ]
    }
   ]
  },
  {
   "cell_type": "code",
   "source": [
    "X_Normalizer_row = [row[0] for row in X_Normalizer]\n",
    "show_hist_diff(X_source_row, \"Исходные данные\", \"Age of the patient\",\n",
    "               X_Normalizer_row, \"После применения Normalizer\", \"Age of the patient (Normalizer)\")"
   ],
   "metadata": {
    "colab": {
     "base_uri": "https://localhost:8080/",
     "height": 307
    },
    "id": "YrpginrFOnRe",
    "outputId": "8ab7cdd1-9b03-4035-b884-3d5fc5bb5a31",
    "ExecuteTime": {
     "end_time": "2023-10-27T12:03:11.381944Z",
     "start_time": "2023-10-27T12:03:10.647394Z"
    }
   },
   "execution_count": 17,
   "outputs": [
    {
     "data": {
      "text/plain": "<Figure size 1000x300 with 2 Axes>",
      "image/png": "[encoded data removed]"
     },
     "metadata": {},
     "output_type": "display_data"
    }
   ]
  },
  {
   "cell_type": "code",
   "source": [
    "X_np = np.array(X_Normalizer)\n",
    "\n",
    "column_index = 3\n",
    "column_sum = np.sum(X_np[1, :])\n",
    "column_sum"
   ],
   "metadata": {
    "colab": {
     "base_uri": "https://localhost:8080/"
    },
    "id": "itu2HnVoqJb8",
    "outputId": "29e14f54-6237-4cbc-92c9-7249309d2a92",
    "ExecuteTime": {
     "end_time": "2023-10-27T12:03:41.279165Z",
     "start_time": "2023-10-27T12:03:41.263905Z"
    }
   },
   "execution_count": 20,
   "outputs": [
    {
     "data": {
      "text/plain": "2.939253436220129"
     },
     "execution_count": 20,
     "metadata": {},
     "output_type": "execute_result"
    }
   ]
  },
  {
   "cell_type": "code",
   "source": [
    "binarizer = Binarizer(threshold=0.0).fit(X)\n",
    "rescaledX = binarizer.fit_transform(X)\n",
    "print(rescaledX[0:5,:])"
   ],
   "metadata": {
    "colab": {
     "base_uri": "https://localhost:8080/"
    },
    "id": "AU8IthDttFC4",
    "outputId": "3c13371c-ffd8-4dc6-f541-9556bcbd9cd9",
    "ExecuteTime": {
     "end_time": "2023-10-27T12:03:59.464461Z",
     "start_time": "2023-10-27T12:03:59.448389Z"
    }
   },
   "execution_count": 21,
   "outputs": [
    {
     "name": "stdout",
     "output_type": "stream",
     "text": [
      "[[1. 1. 1. 1. 1. 1. 1. 1. 1. 1.]\n",
      " [1. 1. 1. 1. 1. 1. 1. 1. 1. 1.]\n",
      " [1. 1. 1. 1. 1. 1. 1. 1. 1. 1.]\n",
      " [1. 1. 1. 1. 1. 1. 1. 1. 1. 1.]\n",
      " [1. 1. 1. 1. 1. 1. 1. 1. 1. 1.]]\n"
     ]
    }
   ]
  },
  {
   "cell_type": "code",
   "source": [
    "test = SelectKBest(score_func=f_classif, k=4)\n",
    "fit = test.fit(X,Y)\n",
    "print(fit.scores_)"
   ],
   "metadata": {
    "colab": {
     "base_uri": "https://localhost:8080/"
    },
    "id": "jIz3rI_KtsZ_",
    "outputId": "538851a8-7df1-4a5b-ceeb-f876d2d47e1b",
    "ExecuteTime": {
     "end_time": "2023-10-27T12:04:15.095769Z",
     "start_time": "2023-10-27T12:04:14.894933Z"
    }
   },
   "execution_count": 22,
   "outputs": [
    {
     "name": "stdout",
     "output_type": "stream",
     "text": [
      "[ 1.046  2.083  1.066  7.295  3.8    2.379  5.521 21.234  1.541  1.536]\n"
     ]
    }
   ]
  },
  {
   "cell_type": "code",
   "source": [
    "X_selected = fit.transform(X)\n",
    "print(X_selected[0:5, :])"
   ],
   "metadata": {
    "colab": {
     "base_uri": "https://localhost:8080/"
    },
    "id": "1HCbOyAxt49j",
    "outputId": "266abd17-435d-48ae-b54e-df21f358c09d",
    "ExecuteTime": {
     "end_time": "2023-10-27T12:04:29.264964Z",
     "start_time": "2023-10-27T12:04:29.235528Z"
    }
   },
   "execution_count": 25,
   "outputs": [
    {
     "name": "stdout",
     "output_type": "stream",
     "text": [
      "[[2.29 0.62 2.42 3.19]\n",
      " [2.66 0.64 3.18 3.21]\n",
      " [0.54 0.53 1.54 3.18]\n",
      " [0.29 0.57 1.52 3.18]\n",
      " [1.18 0.57 2.02 3.18]]\n"
     ]
    }
   ]
  },
  {
   "cell_type": "code",
   "source": [
    "# 13\n",
    "model = LogisticRegression()\n",
    "\n",
    "# 14\n",
    "rfe = RFE(model, n_features_to_select=3)\n",
    "\n",
    "# 15\n",
    "fit = rfe.fit(X, Y)"
   ],
   "metadata": {
    "colab": {
     "base_uri": "https://localhost:8080/"
    },
    "id": "4gxokfN_uUbT",
    "outputId": "50a4a6f5-05ae-4e86-c92b-79dad7d4d4f1",
    "ExecuteTime": {
     "end_time": "2023-10-27T12:04:42.410513Z",
     "start_time": "2023-10-27T12:04:42.297775Z"
    }
   },
   "execution_count": 26,
   "outputs": [
    {
     "ename": "ValueError",
     "evalue": "Unknown label type: continuous. Maybe you are trying to fit a classifier, which expects discrete classes on a regression target with continuous values.",
     "output_type": "error",
     "traceback": [
      "\u001B[0;31m---------------------------------------------------------------------------\u001B[0m",
      "\u001B[0;31mValueError\u001B[0m                                Traceback (most recent call last)",
      "Cell \u001B[0;32mIn[26], line 8\u001B[0m\n\u001B[1;32m      5\u001B[0m rfe \u001B[38;5;241m=\u001B[39m RFE(model, n_features_to_select\u001B[38;5;241m=\u001B[39m\u001B[38;5;241m3\u001B[39m)\n\u001B[1;32m      7\u001B[0m \u001B[38;5;66;03m# 15\u001B[39;00m\n\u001B[0;32m----> 8\u001B[0m fit \u001B[38;5;241m=\u001B[39m \u001B[43mrfe\u001B[49m\u001B[38;5;241;43m.\u001B[39;49m\u001B[43mfit\u001B[49m\u001B[43m(\u001B[49m\u001B[43mX\u001B[49m\u001B[43m,\u001B[49m\u001B[43m \u001B[49m\u001B[43mY\u001B[49m\u001B[43m)\u001B[49m\n",
      "File \u001B[0;32m~/PycharmProjects/data_analysis/venv/lib/python3.11/site-packages/sklearn/base.py:1152\u001B[0m, in \u001B[0;36m_fit_context.<locals>.decorator.<locals>.wrapper\u001B[0;34m(estimator, *args, **kwargs)\u001B[0m\n\u001B[1;32m   1145\u001B[0m     estimator\u001B[38;5;241m.\u001B[39m_validate_params()\n\u001B[1;32m   1147\u001B[0m \u001B[38;5;28;01mwith\u001B[39;00m config_context(\n\u001B[1;32m   1148\u001B[0m     skip_parameter_validation\u001B[38;5;241m=\u001B[39m(\n\u001B[1;32m   1149\u001B[0m         prefer_skip_nested_validation \u001B[38;5;129;01mor\u001B[39;00m global_skip_validation\n\u001B[1;32m   1150\u001B[0m     )\n\u001B[1;32m   1151\u001B[0m ):\n\u001B[0;32m-> 1152\u001B[0m     \u001B[38;5;28;01mreturn\u001B[39;00m \u001B[43mfit_method\u001B[49m\u001B[43m(\u001B[49m\u001B[43mestimator\u001B[49m\u001B[43m,\u001B[49m\u001B[43m \u001B[49m\u001B[38;5;241;43m*\u001B[39;49m\u001B[43margs\u001B[49m\u001B[43m,\u001B[49m\u001B[43m \u001B[49m\u001B[38;5;241;43m*\u001B[39;49m\u001B[38;5;241;43m*\u001B[39;49m\u001B[43mkwargs\u001B[49m\u001B[43m)\u001B[49m\n",
      "File \u001B[0;32m~/PycharmProjects/data_analysis/venv/lib/python3.11/site-packages/sklearn/feature_selection/_rfe.py:249\u001B[0m, in \u001B[0;36mRFE.fit\u001B[0;34m(self, X, y, **fit_params)\u001B[0m\n\u001B[1;32m    225\u001B[0m \u001B[38;5;129m@_fit_context\u001B[39m(\n\u001B[1;32m    226\u001B[0m     \u001B[38;5;66;03m# RFE.estimator is not validated yet\u001B[39;00m\n\u001B[1;32m    227\u001B[0m     prefer_skip_nested_validation\u001B[38;5;241m=\u001B[39m\u001B[38;5;28;01mFalse\u001B[39;00m\n\u001B[1;32m    228\u001B[0m )\n\u001B[1;32m    229\u001B[0m \u001B[38;5;28;01mdef\u001B[39;00m \u001B[38;5;21mfit\u001B[39m(\u001B[38;5;28mself\u001B[39m, X, y, \u001B[38;5;241m*\u001B[39m\u001B[38;5;241m*\u001B[39mfit_params):\n\u001B[1;32m    230\u001B[0m \u001B[38;5;250m    \u001B[39m\u001B[38;5;124;03m\"\"\"Fit the RFE model and then the underlying estimator on the selected features.\u001B[39;00m\n\u001B[1;32m    231\u001B[0m \n\u001B[1;32m    232\u001B[0m \u001B[38;5;124;03m    Parameters\u001B[39;00m\n\u001B[0;32m   (...)\u001B[0m\n\u001B[1;32m    247\u001B[0m \u001B[38;5;124;03m        Fitted estimator.\u001B[39;00m\n\u001B[1;32m    248\u001B[0m \u001B[38;5;124;03m    \"\"\"\u001B[39;00m\n\u001B[0;32m--> 249\u001B[0m     \u001B[38;5;28;01mreturn\u001B[39;00m \u001B[38;5;28;43mself\u001B[39;49m\u001B[38;5;241;43m.\u001B[39;49m\u001B[43m_fit\u001B[49m\u001B[43m(\u001B[49m\u001B[43mX\u001B[49m\u001B[43m,\u001B[49m\u001B[43m \u001B[49m\u001B[43my\u001B[49m\u001B[43m,\u001B[49m\u001B[43m \u001B[49m\u001B[38;5;241;43m*\u001B[39;49m\u001B[38;5;241;43m*\u001B[39;49m\u001B[43mfit_params\u001B[49m\u001B[43m)\u001B[49m\n",
      "File \u001B[0;32m~/PycharmProjects/data_analysis/venv/lib/python3.11/site-packages/sklearn/feature_selection/_rfe.py:297\u001B[0m, in \u001B[0;36mRFE._fit\u001B[0;34m(self, X, y, step_score, **fit_params)\u001B[0m\n\u001B[1;32m    294\u001B[0m \u001B[38;5;28;01mif\u001B[39;00m \u001B[38;5;28mself\u001B[39m\u001B[38;5;241m.\u001B[39mverbose \u001B[38;5;241m>\u001B[39m \u001B[38;5;241m0\u001B[39m:\n\u001B[1;32m    295\u001B[0m     \u001B[38;5;28mprint\u001B[39m(\u001B[38;5;124m\"\u001B[39m\u001B[38;5;124mFitting estimator with \u001B[39m\u001B[38;5;132;01m%d\u001B[39;00m\u001B[38;5;124m features.\u001B[39m\u001B[38;5;124m\"\u001B[39m \u001B[38;5;241m%\u001B[39m np\u001B[38;5;241m.\u001B[39msum(support_))\n\u001B[0;32m--> 297\u001B[0m \u001B[43mestimator\u001B[49m\u001B[38;5;241;43m.\u001B[39;49m\u001B[43mfit\u001B[49m\u001B[43m(\u001B[49m\u001B[43mX\u001B[49m\u001B[43m[\u001B[49m\u001B[43m:\u001B[49m\u001B[43m,\u001B[49m\u001B[43m \u001B[49m\u001B[43mfeatures\u001B[49m\u001B[43m]\u001B[49m\u001B[43m,\u001B[49m\u001B[43m \u001B[49m\u001B[43my\u001B[49m\u001B[43m,\u001B[49m\u001B[43m \u001B[49m\u001B[38;5;241;43m*\u001B[39;49m\u001B[38;5;241;43m*\u001B[39;49m\u001B[43mfit_params\u001B[49m\u001B[43m)\u001B[49m\n\u001B[1;32m    299\u001B[0m \u001B[38;5;66;03m# Get importance and rank them\u001B[39;00m\n\u001B[1;32m    300\u001B[0m importances \u001B[38;5;241m=\u001B[39m _get_feature_importances(\n\u001B[1;32m    301\u001B[0m     estimator,\n\u001B[1;32m    302\u001B[0m     \u001B[38;5;28mself\u001B[39m\u001B[38;5;241m.\u001B[39mimportance_getter,\n\u001B[1;32m    303\u001B[0m     transform_func\u001B[38;5;241m=\u001B[39m\u001B[38;5;124m\"\u001B[39m\u001B[38;5;124msquare\u001B[39m\u001B[38;5;124m\"\u001B[39m,\n\u001B[1;32m    304\u001B[0m )\n",
      "File \u001B[0;32m~/PycharmProjects/data_analysis/venv/lib/python3.11/site-packages/sklearn/base.py:1152\u001B[0m, in \u001B[0;36m_fit_context.<locals>.decorator.<locals>.wrapper\u001B[0;34m(estimator, *args, **kwargs)\u001B[0m\n\u001B[1;32m   1145\u001B[0m     estimator\u001B[38;5;241m.\u001B[39m_validate_params()\n\u001B[1;32m   1147\u001B[0m \u001B[38;5;28;01mwith\u001B[39;00m config_context(\n\u001B[1;32m   1148\u001B[0m     skip_parameter_validation\u001B[38;5;241m=\u001B[39m(\n\u001B[1;32m   1149\u001B[0m         prefer_skip_nested_validation \u001B[38;5;129;01mor\u001B[39;00m global_skip_validation\n\u001B[1;32m   1150\u001B[0m     )\n\u001B[1;32m   1151\u001B[0m ):\n\u001B[0;32m-> 1152\u001B[0m     \u001B[38;5;28;01mreturn\u001B[39;00m \u001B[43mfit_method\u001B[49m\u001B[43m(\u001B[49m\u001B[43mestimator\u001B[49m\u001B[43m,\u001B[49m\u001B[43m \u001B[49m\u001B[38;5;241;43m*\u001B[39;49m\u001B[43margs\u001B[49m\u001B[43m,\u001B[49m\u001B[43m \u001B[49m\u001B[38;5;241;43m*\u001B[39;49m\u001B[38;5;241;43m*\u001B[39;49m\u001B[43mkwargs\u001B[49m\u001B[43m)\u001B[49m\n",
      "File \u001B[0;32m~/PycharmProjects/data_analysis/venv/lib/python3.11/site-packages/sklearn/linear_model/_logistic.py:1216\u001B[0m, in \u001B[0;36mLogisticRegression.fit\u001B[0;34m(self, X, y, sample_weight)\u001B[0m\n\u001B[1;32m   1206\u001B[0m     _dtype \u001B[38;5;241m=\u001B[39m [np\u001B[38;5;241m.\u001B[39mfloat64, np\u001B[38;5;241m.\u001B[39mfloat32]\n\u001B[1;32m   1208\u001B[0m X, y \u001B[38;5;241m=\u001B[39m \u001B[38;5;28mself\u001B[39m\u001B[38;5;241m.\u001B[39m_validate_data(\n\u001B[1;32m   1209\u001B[0m     X,\n\u001B[1;32m   1210\u001B[0m     y,\n\u001B[0;32m   (...)\u001B[0m\n\u001B[1;32m   1214\u001B[0m     accept_large_sparse\u001B[38;5;241m=\u001B[39msolver \u001B[38;5;129;01mnot\u001B[39;00m \u001B[38;5;129;01min\u001B[39;00m [\u001B[38;5;124m\"\u001B[39m\u001B[38;5;124mliblinear\u001B[39m\u001B[38;5;124m\"\u001B[39m, \u001B[38;5;124m\"\u001B[39m\u001B[38;5;124msag\u001B[39m\u001B[38;5;124m\"\u001B[39m, \u001B[38;5;124m\"\u001B[39m\u001B[38;5;124msaga\u001B[39m\u001B[38;5;124m\"\u001B[39m],\n\u001B[1;32m   1215\u001B[0m )\n\u001B[0;32m-> 1216\u001B[0m \u001B[43mcheck_classification_targets\u001B[49m\u001B[43m(\u001B[49m\u001B[43my\u001B[49m\u001B[43m)\u001B[49m\n\u001B[1;32m   1217\u001B[0m \u001B[38;5;28mself\u001B[39m\u001B[38;5;241m.\u001B[39mclasses_ \u001B[38;5;241m=\u001B[39m np\u001B[38;5;241m.\u001B[39munique(y)\n\u001B[1;32m   1219\u001B[0m multi_class \u001B[38;5;241m=\u001B[39m _check_multi_class(\u001B[38;5;28mself\u001B[39m\u001B[38;5;241m.\u001B[39mmulti_class, solver, \u001B[38;5;28mlen\u001B[39m(\u001B[38;5;28mself\u001B[39m\u001B[38;5;241m.\u001B[39mclasses_))\n",
      "File \u001B[0;32m~/PycharmProjects/data_analysis/venv/lib/python3.11/site-packages/sklearn/utils/multiclass.py:216\u001B[0m, in \u001B[0;36mcheck_classification_targets\u001B[0;34m(y)\u001B[0m\n\u001B[1;32m    208\u001B[0m y_type \u001B[38;5;241m=\u001B[39m type_of_target(y, input_name\u001B[38;5;241m=\u001B[39m\u001B[38;5;124m\"\u001B[39m\u001B[38;5;124my\u001B[39m\u001B[38;5;124m\"\u001B[39m)\n\u001B[1;32m    209\u001B[0m \u001B[38;5;28;01mif\u001B[39;00m y_type \u001B[38;5;129;01mnot\u001B[39;00m \u001B[38;5;129;01min\u001B[39;00m [\n\u001B[1;32m    210\u001B[0m     \u001B[38;5;124m\"\u001B[39m\u001B[38;5;124mbinary\u001B[39m\u001B[38;5;124m\"\u001B[39m,\n\u001B[1;32m    211\u001B[0m     \u001B[38;5;124m\"\u001B[39m\u001B[38;5;124mmulticlass\u001B[39m\u001B[38;5;124m\"\u001B[39m,\n\u001B[0;32m   (...)\u001B[0m\n\u001B[1;32m    214\u001B[0m     \u001B[38;5;124m\"\u001B[39m\u001B[38;5;124mmultilabel-sequences\u001B[39m\u001B[38;5;124m\"\u001B[39m,\n\u001B[1;32m    215\u001B[0m ]:\n\u001B[0;32m--> 216\u001B[0m     \u001B[38;5;28;01mraise\u001B[39;00m \u001B[38;5;167;01mValueError\u001B[39;00m(\n\u001B[1;32m    217\u001B[0m         \u001B[38;5;124mf\u001B[39m\u001B[38;5;124m\"\u001B[39m\u001B[38;5;124mUnknown label type: \u001B[39m\u001B[38;5;132;01m{\u001B[39;00my_type\u001B[38;5;132;01m}\u001B[39;00m\u001B[38;5;124m. Maybe you are trying to fit a \u001B[39m\u001B[38;5;124m\"\u001B[39m\n\u001B[1;32m    218\u001B[0m         \u001B[38;5;124m\"\u001B[39m\u001B[38;5;124mclassifier, which expects discrete classes on a \u001B[39m\u001B[38;5;124m\"\u001B[39m\n\u001B[1;32m    219\u001B[0m         \u001B[38;5;124m\"\u001B[39m\u001B[38;5;124mregression target with continuous values.\u001B[39m\u001B[38;5;124m\"\u001B[39m\n\u001B[1;32m    220\u001B[0m     )\n",
      "\u001B[0;31mValueError\u001B[0m: Unknown label type: continuous. Maybe you are trying to fit a classifier, which expects discrete classes on a regression target with continuous values."
     ]
    }
   ]
  },
  {
   "cell_type": "code",
   "source": [
    "# 16\n",
    "print(\"Число отобранных признаков:\", fit.n_features_)\n",
    "\n",
    "# 17\n",
    "print(\"Отобранные признаки:\", fit.support_)\n",
    "\n",
    "# 18\n",
    "print(\"Ранги признаков:\", fit.ranking_)"
   ],
   "metadata": {
    "colab": {
     "base_uri": "https://localhost:8080/"
    },
    "id": "oWn-dElZxcvP",
    "outputId": "5d4478c9-0c20-4192-cc31-0ba586995ae7",
    "ExecuteTime": {
     "end_time": "2023-10-27T12:05:03.144944Z",
     "start_time": "2023-10-27T12:05:03.056965Z"
    }
   },
   "execution_count": 27,
   "outputs": [
    {
     "ename": "AttributeError",
     "evalue": "'SelectKBest' object has no attribute 'n_features_'",
     "output_type": "error",
     "traceback": [
      "\u001B[0;31m---------------------------------------------------------------------------\u001B[0m",
      "\u001B[0;31mAttributeError\u001B[0m                            Traceback (most recent call last)",
      "Cell \u001B[0;32mIn[27], line 2\u001B[0m\n\u001B[1;32m      1\u001B[0m \u001B[38;5;66;03m# 16\u001B[39;00m\n\u001B[0;32m----> 2\u001B[0m \u001B[38;5;28mprint\u001B[39m(\u001B[38;5;124m\"\u001B[39m\u001B[38;5;124mЧисло отобранных признаков:\u001B[39m\u001B[38;5;124m\"\u001B[39m, \u001B[43mfit\u001B[49m\u001B[38;5;241;43m.\u001B[39;49m\u001B[43mn_features_\u001B[49m)\n\u001B[1;32m      4\u001B[0m \u001B[38;5;66;03m# 17\u001B[39;00m\n\u001B[1;32m      5\u001B[0m \u001B[38;5;28mprint\u001B[39m(\u001B[38;5;124m\"\u001B[39m\u001B[38;5;124mОтобранные признаки:\u001B[39m\u001B[38;5;124m\"\u001B[39m, fit\u001B[38;5;241m.\u001B[39msupport_)\n",
      "\u001B[0;31mAttributeError\u001B[0m: 'SelectKBest' object has no attribute 'n_features_'"
     ]
    }
   ]
  },
  {
   "cell_type": "markdown",
   "source": [
    "## 19"
   ],
   "metadata": {
    "id": "66SjRXjrz-Sz"
   }
  },
  {
   "cell_type": "code",
   "source": [
    "# 19\n",
    "X_rfe = rfe.transform(X)\n",
    "print(X_rfe[:5])"
   ],
   "metadata": {
    "colab": {
     "base_uri": "https://localhost:8080/"
    },
    "id": "2EOBizN-xcmG",
    "outputId": "910df174-6b98-46b3-f15d-5e802f65b8a3",
    "ExecuteTime": {
     "end_time": "2023-10-27T12:05:20.936502Z",
     "start_time": "2023-10-27T12:05:20.794851Z"
    }
   },
   "execution_count": 28,
   "outputs": [
    {
     "ename": "AttributeError",
     "evalue": "'RFE' object has no attribute 'support_'",
     "output_type": "error",
     "traceback": [
      "\u001B[0;31m---------------------------------------------------------------------------\u001B[0m",
      "\u001B[0;31mAttributeError\u001B[0m                            Traceback (most recent call last)",
      "Cell \u001B[0;32mIn[28], line 2\u001B[0m\n\u001B[1;32m      1\u001B[0m \u001B[38;5;66;03m# 19\u001B[39;00m\n\u001B[0;32m----> 2\u001B[0m X_rfe \u001B[38;5;241m=\u001B[39m \u001B[43mrfe\u001B[49m\u001B[38;5;241;43m.\u001B[39;49m\u001B[43mtransform\u001B[49m\u001B[43m(\u001B[49m\u001B[43mX\u001B[49m\u001B[43m)\u001B[49m\n\u001B[1;32m      3\u001B[0m \u001B[38;5;28mprint\u001B[39m(X_rfe[:\u001B[38;5;241m5\u001B[39m])\n",
      "File \u001B[0;32m~/PycharmProjects/data_analysis/venv/lib/python3.11/site-packages/sklearn/utils/_set_output.py:157\u001B[0m, in \u001B[0;36m_wrap_method_output.<locals>.wrapped\u001B[0;34m(self, X, *args, **kwargs)\u001B[0m\n\u001B[1;32m    155\u001B[0m \u001B[38;5;129m@wraps\u001B[39m(f)\n\u001B[1;32m    156\u001B[0m \u001B[38;5;28;01mdef\u001B[39;00m \u001B[38;5;21mwrapped\u001B[39m(\u001B[38;5;28mself\u001B[39m, X, \u001B[38;5;241m*\u001B[39margs, \u001B[38;5;241m*\u001B[39m\u001B[38;5;241m*\u001B[39mkwargs):\n\u001B[0;32m--> 157\u001B[0m     data_to_wrap \u001B[38;5;241m=\u001B[39m \u001B[43mf\u001B[49m\u001B[43m(\u001B[49m\u001B[38;5;28;43mself\u001B[39;49m\u001B[43m,\u001B[49m\u001B[43m \u001B[49m\u001B[43mX\u001B[49m\u001B[43m,\u001B[49m\u001B[43m \u001B[49m\u001B[38;5;241;43m*\u001B[39;49m\u001B[43margs\u001B[49m\u001B[43m,\u001B[49m\u001B[43m \u001B[49m\u001B[38;5;241;43m*\u001B[39;49m\u001B[38;5;241;43m*\u001B[39;49m\u001B[43mkwargs\u001B[49m\u001B[43m)\u001B[49m\n\u001B[1;32m    158\u001B[0m     \u001B[38;5;28;01mif\u001B[39;00m \u001B[38;5;28misinstance\u001B[39m(data_to_wrap, \u001B[38;5;28mtuple\u001B[39m):\n\u001B[1;32m    159\u001B[0m         \u001B[38;5;66;03m# only wrap the first output for cross decomposition\u001B[39;00m\n\u001B[1;32m    160\u001B[0m         return_tuple \u001B[38;5;241m=\u001B[39m (\n\u001B[1;32m    161\u001B[0m             _wrap_data_with_container(method, data_to_wrap[\u001B[38;5;241m0\u001B[39m], X, \u001B[38;5;28mself\u001B[39m),\n\u001B[1;32m    162\u001B[0m             \u001B[38;5;241m*\u001B[39mdata_to_wrap[\u001B[38;5;241m1\u001B[39m:],\n\u001B[1;32m    163\u001B[0m         )\n",
      "File \u001B[0;32m~/PycharmProjects/data_analysis/venv/lib/python3.11/site-packages/sklearn/feature_selection/_base.py:96\u001B[0m, in \u001B[0;36mSelectorMixin.transform\u001B[0;34m(self, X)\u001B[0m\n\u001B[1;32m     86\u001B[0m \u001B[38;5;66;03m# note: we use _safe_tags instead of _get_tags because this is a\u001B[39;00m\n\u001B[1;32m     87\u001B[0m \u001B[38;5;66;03m# public Mixin.\u001B[39;00m\n\u001B[1;32m     88\u001B[0m X \u001B[38;5;241m=\u001B[39m \u001B[38;5;28mself\u001B[39m\u001B[38;5;241m.\u001B[39m_validate_data(\n\u001B[1;32m     89\u001B[0m     X,\n\u001B[1;32m     90\u001B[0m     dtype\u001B[38;5;241m=\u001B[39m\u001B[38;5;28;01mNone\u001B[39;00m,\n\u001B[0;32m   (...)\u001B[0m\n\u001B[1;32m     94\u001B[0m     reset\u001B[38;5;241m=\u001B[39m\u001B[38;5;28;01mFalse\u001B[39;00m,\n\u001B[1;32m     95\u001B[0m )\n\u001B[0;32m---> 96\u001B[0m \u001B[38;5;28;01mreturn\u001B[39;00m \u001B[38;5;28;43mself\u001B[39;49m\u001B[38;5;241;43m.\u001B[39;49m\u001B[43m_transform\u001B[49m\u001B[43m(\u001B[49m\u001B[43mX\u001B[49m\u001B[43m)\u001B[49m\n",
      "File \u001B[0;32m~/PycharmProjects/data_analysis/venv/lib/python3.11/site-packages/sklearn/feature_selection/_base.py:100\u001B[0m, in \u001B[0;36mSelectorMixin._transform\u001B[0;34m(self, X)\u001B[0m\n\u001B[1;32m     98\u001B[0m \u001B[38;5;28;01mdef\u001B[39;00m \u001B[38;5;21m_transform\u001B[39m(\u001B[38;5;28mself\u001B[39m, X):\n\u001B[1;32m     99\u001B[0m \u001B[38;5;250m    \u001B[39m\u001B[38;5;124;03m\"\"\"Reduce X to the selected features.\"\"\"\u001B[39;00m\n\u001B[0;32m--> 100\u001B[0m     mask \u001B[38;5;241m=\u001B[39m \u001B[38;5;28;43mself\u001B[39;49m\u001B[38;5;241;43m.\u001B[39;49m\u001B[43mget_support\u001B[49m\u001B[43m(\u001B[49m\u001B[43m)\u001B[49m\n\u001B[1;32m    101\u001B[0m     \u001B[38;5;28;01mif\u001B[39;00m \u001B[38;5;129;01mnot\u001B[39;00m mask\u001B[38;5;241m.\u001B[39many():\n\u001B[1;32m    102\u001B[0m         warnings\u001B[38;5;241m.\u001B[39mwarn(\n\u001B[1;32m    103\u001B[0m             (\n\u001B[1;32m    104\u001B[0m                 \u001B[38;5;124m\"\u001B[39m\u001B[38;5;124mNo features were selected: either the data is\u001B[39m\u001B[38;5;124m\"\u001B[39m\n\u001B[0;32m   (...)\u001B[0m\n\u001B[1;32m    107\u001B[0m             \u001B[38;5;167;01mUserWarning\u001B[39;00m,\n\u001B[1;32m    108\u001B[0m         )\n",
      "File \u001B[0;32m~/PycharmProjects/data_analysis/venv/lib/python3.11/site-packages/sklearn/feature_selection/_base.py:53\u001B[0m, in \u001B[0;36mSelectorMixin.get_support\u001B[0;34m(self, indices)\u001B[0m\n\u001B[1;32m     33\u001B[0m \u001B[38;5;28;01mdef\u001B[39;00m \u001B[38;5;21mget_support\u001B[39m(\u001B[38;5;28mself\u001B[39m, indices\u001B[38;5;241m=\u001B[39m\u001B[38;5;28;01mFalse\u001B[39;00m):\n\u001B[1;32m     34\u001B[0m \u001B[38;5;250m    \u001B[39m\u001B[38;5;124;03m\"\"\"\u001B[39;00m\n\u001B[1;32m     35\u001B[0m \u001B[38;5;124;03m    Get a mask, or integer index, of the features selected.\u001B[39;00m\n\u001B[1;32m     36\u001B[0m \n\u001B[0;32m   (...)\u001B[0m\n\u001B[1;32m     51\u001B[0m \u001B[38;5;124;03m        values are indices into the input feature vector.\u001B[39;00m\n\u001B[1;32m     52\u001B[0m \u001B[38;5;124;03m    \"\"\"\u001B[39;00m\n\u001B[0;32m---> 53\u001B[0m     mask \u001B[38;5;241m=\u001B[39m \u001B[38;5;28;43mself\u001B[39;49m\u001B[38;5;241;43m.\u001B[39;49m\u001B[43m_get_support_mask\u001B[49m\u001B[43m(\u001B[49m\u001B[43m)\u001B[49m\n\u001B[1;32m     54\u001B[0m     \u001B[38;5;28;01mreturn\u001B[39;00m mask \u001B[38;5;28;01mif\u001B[39;00m \u001B[38;5;129;01mnot\u001B[39;00m indices \u001B[38;5;28;01melse\u001B[39;00m np\u001B[38;5;241m.\u001B[39mwhere(mask)[\u001B[38;5;241m0\u001B[39m]\n",
      "File \u001B[0;32m~/PycharmProjects/data_analysis/venv/lib/python3.11/site-packages/sklearn/feature_selection/_rfe.py:381\u001B[0m, in \u001B[0;36mRFE._get_support_mask\u001B[0;34m(self)\u001B[0m\n\u001B[1;32m    379\u001B[0m \u001B[38;5;28;01mdef\u001B[39;00m \u001B[38;5;21m_get_support_mask\u001B[39m(\u001B[38;5;28mself\u001B[39m):\n\u001B[1;32m    380\u001B[0m     check_is_fitted(\u001B[38;5;28mself\u001B[39m)\n\u001B[0;32m--> 381\u001B[0m     \u001B[38;5;28;01mreturn\u001B[39;00m \u001B[38;5;28;43mself\u001B[39;49m\u001B[38;5;241;43m.\u001B[39;49m\u001B[43msupport_\u001B[49m\n",
      "\u001B[0;31mAttributeError\u001B[0m: 'RFE' object has no attribute 'support_'"
     ]
    }
   ]
  },
  {
   "cell_type": "code",
   "source": [
    "pca = PCA(n_components=3)\n",
    "pca.fit(X)\n",
    "explained_variance = pca.explained_variance_ratio_\n",
    "print(\"Доля дисперсии:\", explained_variance)"
   ],
   "metadata": {
    "colab": {
     "base_uri": "https://localhost:8080/"
    },
    "id": "tMS9jQTRuuaj",
    "outputId": "c2b23b1c-6148-476f-d90c-380d7d973149",
    "ExecuteTime": {
     "end_time": "2023-10-27T12:05:24.940319Z",
     "start_time": "2023-10-27T12:05:24.916692Z"
    }
   },
   "execution_count": 29,
   "outputs": [
    {
     "name": "stdout",
     "output_type": "stream",
     "text": [
      "Доля объясненной дисперсии: [1.000e+00 9.039e-06 3.902e-06]\n"
     ]
    }
   ]
  },
  {
   "cell_type": "code",
   "source": [
    "np.set_printoptions(suppress=True)\n",
    "components = pca.components_\n",
    "print(\"Компонентные нагрузки:\\n\", components)"
   ],
   "metadata": {
    "colab": {
     "base_uri": "https://localhost:8080/"
    },
    "id": "gR1pj7T12Sy5",
    "outputId": "11fabaca-b90f-445b-ff00-5715634f63c8",
    "ExecuteTime": {
     "end_time": "2023-10-27T12:05:47.413033Z",
     "start_time": "2023-10-27T12:05:47.387669Z"
    }
   },
   "execution_count": 30,
   "outputs": [
    {
     "name": "stdout",
     "output_type": "stream",
     "text": [
      "Компонентные нагрузки:\n",
      " [[-1.     0.     0.     0.    -0.     0.    -0.    -0.    -0.    -0.   ]\n",
      " [ 0.     0.005  0.075  0.872  0.046  0.266  0.399  0.007 -0.025 -0.019]\n",
      " [-0.    -0.043  0.393 -0.457  0.114  0.447  0.624 -0.001  0.017  0.177]]\n"
     ]
    }
   ]
  },
  {
   "cell_type": "code",
   "source": [
    "model = ExtraTreesClassifier(n_estimators=100)\n",
    "model.fit(X, Y)\n",
    "feature_importance = model.feature_importances_\n",
    "print(\"Значения критерия информативности:\", feature_importance)"
   ],
   "metadata": {
    "colab": {
     "base_uri": "https://localhost:8080/"
    },
    "id": "jx-dNCOTuxTd",
    "outputId": "c2f55e34-eea3-4362-93c4-1bbe0e6983d5",
    "ExecuteTime": {
     "end_time": "2023-10-27T12:05:57.087854Z",
     "start_time": "2023-10-27T12:05:56.945445Z"
    }
   },
   "execution_count": 31,
   "outputs": [
    {
     "ename": "ValueError",
     "evalue": "Unknown label type: continuous. Maybe you are trying to fit a classifier, which expects discrete classes on a regression target with continuous values.",
     "output_type": "error",
     "traceback": [
      "\u001B[0;31m---------------------------------------------------------------------------\u001B[0m",
      "\u001B[0;31mValueError\u001B[0m                                Traceback (most recent call last)",
      "Cell \u001B[0;32mIn[31], line 2\u001B[0m\n\u001B[1;32m      1\u001B[0m model \u001B[38;5;241m=\u001B[39m ExtraTreesClassifier(n_estimators\u001B[38;5;241m=\u001B[39m\u001B[38;5;241m100\u001B[39m)\n\u001B[0;32m----> 2\u001B[0m \u001B[43mmodel\u001B[49m\u001B[38;5;241;43m.\u001B[39;49m\u001B[43mfit\u001B[49m\u001B[43m(\u001B[49m\u001B[43mX\u001B[49m\u001B[43m,\u001B[49m\u001B[43m \u001B[49m\u001B[43mY\u001B[49m\u001B[43m)\u001B[49m\n\u001B[1;32m      3\u001B[0m feature_importance \u001B[38;5;241m=\u001B[39m model\u001B[38;5;241m.\u001B[39mfeature_importances_\n\u001B[1;32m      4\u001B[0m \u001B[38;5;28mprint\u001B[39m(\u001B[38;5;124m\"\u001B[39m\u001B[38;5;124mЗначения критерия информативности:\u001B[39m\u001B[38;5;124m\"\u001B[39m, feature_importance)\n",
      "File \u001B[0;32m~/PycharmProjects/data_analysis/venv/lib/python3.11/site-packages/sklearn/base.py:1152\u001B[0m, in \u001B[0;36m_fit_context.<locals>.decorator.<locals>.wrapper\u001B[0;34m(estimator, *args, **kwargs)\u001B[0m\n\u001B[1;32m   1145\u001B[0m     estimator\u001B[38;5;241m.\u001B[39m_validate_params()\n\u001B[1;32m   1147\u001B[0m \u001B[38;5;28;01mwith\u001B[39;00m config_context(\n\u001B[1;32m   1148\u001B[0m     skip_parameter_validation\u001B[38;5;241m=\u001B[39m(\n\u001B[1;32m   1149\u001B[0m         prefer_skip_nested_validation \u001B[38;5;129;01mor\u001B[39;00m global_skip_validation\n\u001B[1;32m   1150\u001B[0m     )\n\u001B[1;32m   1151\u001B[0m ):\n\u001B[0;32m-> 1152\u001B[0m     \u001B[38;5;28;01mreturn\u001B[39;00m \u001B[43mfit_method\u001B[49m\u001B[43m(\u001B[49m\u001B[43mestimator\u001B[49m\u001B[43m,\u001B[49m\u001B[43m \u001B[49m\u001B[38;5;241;43m*\u001B[39;49m\u001B[43margs\u001B[49m\u001B[43m,\u001B[49m\u001B[43m \u001B[49m\u001B[38;5;241;43m*\u001B[39;49m\u001B[38;5;241;43m*\u001B[39;49m\u001B[43mkwargs\u001B[49m\u001B[43m)\u001B[49m\n",
      "File \u001B[0;32m~/PycharmProjects/data_analysis/venv/lib/python3.11/site-packages/sklearn/ensemble/_forest.py:390\u001B[0m, in \u001B[0;36mBaseForest.fit\u001B[0;34m(self, X, y, sample_weight)\u001B[0m\n\u001B[1;32m    383\u001B[0m         \u001B[38;5;28;01mraise\u001B[39;00m \u001B[38;5;167;01mValueError\u001B[39;00m(\n\u001B[1;32m    384\u001B[0m             \u001B[38;5;124m\"\u001B[39m\u001B[38;5;124mSum of y is not strictly positive which \u001B[39m\u001B[38;5;124m\"\u001B[39m\n\u001B[1;32m    385\u001B[0m             \u001B[38;5;124m\"\u001B[39m\u001B[38;5;124mis necessary for Poisson regression.\u001B[39m\u001B[38;5;124m\"\u001B[39m\n\u001B[1;32m    386\u001B[0m         )\n\u001B[1;32m    388\u001B[0m \u001B[38;5;28mself\u001B[39m\u001B[38;5;241m.\u001B[39mn_outputs_ \u001B[38;5;241m=\u001B[39m y\u001B[38;5;241m.\u001B[39mshape[\u001B[38;5;241m1\u001B[39m]\n\u001B[0;32m--> 390\u001B[0m y, expanded_class_weight \u001B[38;5;241m=\u001B[39m \u001B[38;5;28;43mself\u001B[39;49m\u001B[38;5;241;43m.\u001B[39;49m\u001B[43m_validate_y_class_weight\u001B[49m\u001B[43m(\u001B[49m\u001B[43my\u001B[49m\u001B[43m)\u001B[49m\n\u001B[1;32m    392\u001B[0m \u001B[38;5;28;01mif\u001B[39;00m \u001B[38;5;28mgetattr\u001B[39m(y, \u001B[38;5;124m\"\u001B[39m\u001B[38;5;124mdtype\u001B[39m\u001B[38;5;124m\"\u001B[39m, \u001B[38;5;28;01mNone\u001B[39;00m) \u001B[38;5;241m!=\u001B[39m DOUBLE \u001B[38;5;129;01mor\u001B[39;00m \u001B[38;5;129;01mnot\u001B[39;00m y\u001B[38;5;241m.\u001B[39mflags\u001B[38;5;241m.\u001B[39mcontiguous:\n\u001B[1;32m    393\u001B[0m     y \u001B[38;5;241m=\u001B[39m np\u001B[38;5;241m.\u001B[39mascontiguousarray(y, dtype\u001B[38;5;241m=\u001B[39mDOUBLE)\n",
      "File \u001B[0;32m~/PycharmProjects/data_analysis/venv/lib/python3.11/site-packages/sklearn/ensemble/_forest.py:749\u001B[0m, in \u001B[0;36mForestClassifier._validate_y_class_weight\u001B[0;34m(self, y)\u001B[0m\n\u001B[1;32m    748\u001B[0m \u001B[38;5;28;01mdef\u001B[39;00m \u001B[38;5;21m_validate_y_class_weight\u001B[39m(\u001B[38;5;28mself\u001B[39m, y):\n\u001B[0;32m--> 749\u001B[0m     \u001B[43mcheck_classification_targets\u001B[49m\u001B[43m(\u001B[49m\u001B[43my\u001B[49m\u001B[43m)\u001B[49m\n\u001B[1;32m    751\u001B[0m     y \u001B[38;5;241m=\u001B[39m np\u001B[38;5;241m.\u001B[39mcopy(y)\n\u001B[1;32m    752\u001B[0m     expanded_class_weight \u001B[38;5;241m=\u001B[39m \u001B[38;5;28;01mNone\u001B[39;00m\n",
      "File \u001B[0;32m~/PycharmProjects/data_analysis/venv/lib/python3.11/site-packages/sklearn/utils/multiclass.py:216\u001B[0m, in \u001B[0;36mcheck_classification_targets\u001B[0;34m(y)\u001B[0m\n\u001B[1;32m    208\u001B[0m y_type \u001B[38;5;241m=\u001B[39m type_of_target(y, input_name\u001B[38;5;241m=\u001B[39m\u001B[38;5;124m\"\u001B[39m\u001B[38;5;124my\u001B[39m\u001B[38;5;124m\"\u001B[39m)\n\u001B[1;32m    209\u001B[0m \u001B[38;5;28;01mif\u001B[39;00m y_type \u001B[38;5;129;01mnot\u001B[39;00m \u001B[38;5;129;01min\u001B[39;00m [\n\u001B[1;32m    210\u001B[0m     \u001B[38;5;124m\"\u001B[39m\u001B[38;5;124mbinary\u001B[39m\u001B[38;5;124m\"\u001B[39m,\n\u001B[1;32m    211\u001B[0m     \u001B[38;5;124m\"\u001B[39m\u001B[38;5;124mmulticlass\u001B[39m\u001B[38;5;124m\"\u001B[39m,\n\u001B[0;32m   (...)\u001B[0m\n\u001B[1;32m    214\u001B[0m     \u001B[38;5;124m\"\u001B[39m\u001B[38;5;124mmultilabel-sequences\u001B[39m\u001B[38;5;124m\"\u001B[39m,\n\u001B[1;32m    215\u001B[0m ]:\n\u001B[0;32m--> 216\u001B[0m     \u001B[38;5;28;01mraise\u001B[39;00m \u001B[38;5;167;01mValueError\u001B[39;00m(\n\u001B[1;32m    217\u001B[0m         \u001B[38;5;124mf\u001B[39m\u001B[38;5;124m\"\u001B[39m\u001B[38;5;124mUnknown label type: \u001B[39m\u001B[38;5;132;01m{\u001B[39;00my_type\u001B[38;5;132;01m}\u001B[39;00m\u001B[38;5;124m. Maybe you are trying to fit a \u001B[39m\u001B[38;5;124m\"\u001B[39m\n\u001B[1;32m    218\u001B[0m         \u001B[38;5;124m\"\u001B[39m\u001B[38;5;124mclassifier, which expects discrete classes on a \u001B[39m\u001B[38;5;124m\"\u001B[39m\n\u001B[1;32m    219\u001B[0m         \u001B[38;5;124m\"\u001B[39m\u001B[38;5;124mregression target with continuous values.\u001B[39m\u001B[38;5;124m\"\u001B[39m\n\u001B[1;32m    220\u001B[0m     )\n",
      "\u001B[0;31mValueError\u001B[0m: Unknown label type: continuous. Maybe you are trying to fit a classifier, which expects discrete classes on a regression target with continuous values."
     ]
    }
   ]
  }
 ]
}
