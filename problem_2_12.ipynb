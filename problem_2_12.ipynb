{
 "nbformat": 4,
 "nbformat_minor": 0,
 "metadata": {
  "colab": {
   "provenance": []
  },
  "kernelspec": {
   "name": "python3",
   "display_name": "Python 3 (ipykernel)",
   "language": "python"
  },
  "language_info": {
   "name": "python"
  }
 },
 "cells": [
  {
   "cell_type": "markdown",
   "source": [
    "Теория:\n",
    "\n",
    "15.Временные ряды:\n",
    "https://docs.google.com/presentation/d/11GPbdiDbNtaPtQNmMrb460Fa2Qf6D4sGCDPhsGUyeqw/edit#slide=id.ga143ff96a3_0_71\n"
   ],
   "metadata": {
    "id": "aqNL-3kVE32f"
   }
  },
  {
   "cell_type": "markdown",
   "source": [
    "# Задание 12. Про депутатов"
   ],
   "metadata": {
    "id": "6gZ41cP-TSx3"
   }
  },
  {
   "cell_type": "code",
   "metadata": {
    "id": "C-Jhb1yGF42Z",
    "colab": {
     "base_uri": "https://localhost:8080/",
     "height": 423
    },
    "outputId": "53c50095-432e-41d5-e493-197c24832688",
    "ExecuteTime": {
     "end_time": "2024-05-17T09:50:51.739854Z",
     "start_time": "2024-05-17T09:50:51.264434Z"
    }
   },
   "source": [
    "import pandas as pd\n",
    "\n",
    "url = \"https://raw.githubusercontent.com/dm-fedorov/pandas_basic/master/data/deputat.csv\"\n",
    "df = pd.read_csv(url)\n",
    "df"
   ],
   "outputs": [
    {
     "data": {
      "text/plain": [
       "          name   lastname     otchestvo gender   birthdate       start  end  \\\n",
       "0       Ефимов    Виталий     Борисович      м  04.04.1940  18.09.2016  NaN   \n",
       "1    Максимова    Надежда     Сергеевна      ж  13.01.1942  18.09.2016  NaN   \n",
       "2    Мищеряков       Юрий    Николаевич      м  01.01.1945  18.09.2016  NaN   \n",
       "3       Борцов    Николай      Иванович      м  08.09.1945  18.09.2016  NaN   \n",
       "4       Гончар    Николай    Николаевич      м  18.10.1946  18.09.2016  NaN   \n",
       "..         ...        ...           ...    ...         ...         ...  ...   \n",
       "206     Федяев      Павел    Михайлович      м  31.07.1982  18.09.2016  NaN   \n",
       "207    Романов     Михаил  Валентинович      м  03.11.1984  18.09.2016  NaN   \n",
       "208     Грибов  Александр     Сергеевич      м  22.05.1986  18.09.2016  NaN   \n",
       "209  Прокопьев  Александр     Сергеевич      м  05.08.1986  18.09.2016  NaN   \n",
       "210    Шипулин      Антон  Владимирович      м  21.08.1987  08.09.2019  NaN   \n",
       "\n",
       "          district  \n",
       "0       Мордовский  \n",
       "1        Хакасский  \n",
       "2     Оренбургский  \n",
       "3         Липецкий  \n",
       "4      Центральный  \n",
       "..             ...  \n",
       "206      Заводский  \n",
       "207  Юго-Восточный  \n",
       "208    Ярославский  \n",
       "209        Бийский  \n",
       "210      Серовский  \n",
       "\n",
       "[211 rows x 8 columns]"
      ],
      "text/html": [
       "<div>\n",
       "<style scoped>\n",
       "    .dataframe tbody tr th:only-of-type {\n",
       "        vertical-align: middle;\n",
       "    }\n",
       "\n",
       "    .dataframe tbody tr th {\n",
       "        vertical-align: top;\n",
       "    }\n",
       "\n",
       "    .dataframe thead th {\n",
       "        text-align: right;\n",
       "    }\n",
       "</style>\n",
       "<table border=\"1\" class=\"dataframe\">\n",
       "  <thead>\n",
       "    <tr style=\"text-align: right;\">\n",
       "      <th></th>\n",
       "      <th>name</th>\n",
       "      <th>lastname</th>\n",
       "      <th>otchestvo</th>\n",
       "      <th>gender</th>\n",
       "      <th>birthdate</th>\n",
       "      <th>start</th>\n",
       "      <th>end</th>\n",
       "      <th>district</th>\n",
       "    </tr>\n",
       "  </thead>\n",
       "  <tbody>\n",
       "    <tr>\n",
       "      <th>0</th>\n",
       "      <td>Ефимов</td>\n",
       "      <td>Виталий</td>\n",
       "      <td>Борисович</td>\n",
       "      <td>м</td>\n",
       "      <td>04.04.1940</td>\n",
       "      <td>18.09.2016</td>\n",
       "      <td>NaN</td>\n",
       "      <td>Мордовский</td>\n",
       "    </tr>\n",
       "    <tr>\n",
       "      <th>1</th>\n",
       "      <td>Максимова</td>\n",
       "      <td>Надежда</td>\n",
       "      <td>Сергеевна</td>\n",
       "      <td>ж</td>\n",
       "      <td>13.01.1942</td>\n",
       "      <td>18.09.2016</td>\n",
       "      <td>NaN</td>\n",
       "      <td>Хакасский</td>\n",
       "    </tr>\n",
       "    <tr>\n",
       "      <th>2</th>\n",
       "      <td>Мищеряков</td>\n",
       "      <td>Юрий</td>\n",
       "      <td>Николаевич</td>\n",
       "      <td>м</td>\n",
       "      <td>01.01.1945</td>\n",
       "      <td>18.09.2016</td>\n",
       "      <td>NaN</td>\n",
       "      <td>Оренбургский</td>\n",
       "    </tr>\n",
       "    <tr>\n",
       "      <th>3</th>\n",
       "      <td>Борцов</td>\n",
       "      <td>Николай</td>\n",
       "      <td>Иванович</td>\n",
       "      <td>м</td>\n",
       "      <td>08.09.1945</td>\n",
       "      <td>18.09.2016</td>\n",
       "      <td>NaN</td>\n",
       "      <td>Липецкий</td>\n",
       "    </tr>\n",
       "    <tr>\n",
       "      <th>4</th>\n",
       "      <td>Гончар</td>\n",
       "      <td>Николай</td>\n",
       "      <td>Николаевич</td>\n",
       "      <td>м</td>\n",
       "      <td>18.10.1946</td>\n",
       "      <td>18.09.2016</td>\n",
       "      <td>NaN</td>\n",
       "      <td>Центральный</td>\n",
       "    </tr>\n",
       "    <tr>\n",
       "      <th>...</th>\n",
       "      <td>...</td>\n",
       "      <td>...</td>\n",
       "      <td>...</td>\n",
       "      <td>...</td>\n",
       "      <td>...</td>\n",
       "      <td>...</td>\n",
       "      <td>...</td>\n",
       "      <td>...</td>\n",
       "    </tr>\n",
       "    <tr>\n",
       "      <th>206</th>\n",
       "      <td>Федяев</td>\n",
       "      <td>Павел</td>\n",
       "      <td>Михайлович</td>\n",
       "      <td>м</td>\n",
       "      <td>31.07.1982</td>\n",
       "      <td>18.09.2016</td>\n",
       "      <td>NaN</td>\n",
       "      <td>Заводский</td>\n",
       "    </tr>\n",
       "    <tr>\n",
       "      <th>207</th>\n",
       "      <td>Романов</td>\n",
       "      <td>Михаил</td>\n",
       "      <td>Валентинович</td>\n",
       "      <td>м</td>\n",
       "      <td>03.11.1984</td>\n",
       "      <td>18.09.2016</td>\n",
       "      <td>NaN</td>\n",
       "      <td>Юго-Восточный</td>\n",
       "    </tr>\n",
       "    <tr>\n",
       "      <th>208</th>\n",
       "      <td>Грибов</td>\n",
       "      <td>Александр</td>\n",
       "      <td>Сергеевич</td>\n",
       "      <td>м</td>\n",
       "      <td>22.05.1986</td>\n",
       "      <td>18.09.2016</td>\n",
       "      <td>NaN</td>\n",
       "      <td>Ярославский</td>\n",
       "    </tr>\n",
       "    <tr>\n",
       "      <th>209</th>\n",
       "      <td>Прокопьев</td>\n",
       "      <td>Александр</td>\n",
       "      <td>Сергеевич</td>\n",
       "      <td>м</td>\n",
       "      <td>05.08.1986</td>\n",
       "      <td>18.09.2016</td>\n",
       "      <td>NaN</td>\n",
       "      <td>Бийский</td>\n",
       "    </tr>\n",
       "    <tr>\n",
       "      <th>210</th>\n",
       "      <td>Шипулин</td>\n",
       "      <td>Антон</td>\n",
       "      <td>Владимирович</td>\n",
       "      <td>м</td>\n",
       "      <td>21.08.1987</td>\n",
       "      <td>08.09.2019</td>\n",
       "      <td>NaN</td>\n",
       "      <td>Серовский</td>\n",
       "    </tr>\n",
       "  </tbody>\n",
       "</table>\n",
       "<p>211 rows × 8 columns</p>\n",
       "</div>"
      ]
     },
     "execution_count": 1,
     "metadata": {},
     "output_type": "execute_result"
    }
   ],
   "execution_count": 1
  },
  {
   "cell_type": "markdown",
   "metadata": {
    "id": "La7A6SoeF42b"
   },
   "source": [
    "### Задача 1"
   ]
  },
  {
   "cell_type": "markdown",
   "metadata": {
    "id": "3wsKSRpLF42c"
   },
   "source": [
    "Определите средний возраст депутатов."
   ]
  },
  {
   "cell_type": "code",
   "source": [
    "from datetime import datetime\n",
    "\n",
    "df['birthdate'] = pd.to_datetime(df['birthdate'], format='%d.%m.%Y')\n",
    "current_date = datetime.now()\n",
    "df['age'] = df['birthdate'].apply(\n",
    "    lambda x: current_date.year - x.year - ((current_date.month, current_date.day) < (x.month, x.day)))\n",
    "round(df['age'].mean(), 1)"
   ],
   "metadata": {
    "id": "pJaea1HW7T3A",
    "colab": {
     "base_uri": "https://localhost:8080/"
    },
    "outputId": "03d170de-279d-4559-e70a-75d001e6ca2b",
    "ExecuteTime": {
     "end_time": "2024-05-17T09:50:51.765529Z",
     "start_time": "2024-05-17T09:50:51.742545Z"
    }
   },
   "outputs": [
    {
     "data": {
      "text/plain": [
       "59.6"
      ]
     },
     "execution_count": 2,
     "metadata": {},
     "output_type": "execute_result"
    }
   ],
   "execution_count": 2
  },
  {
   "cell_type": "markdown",
   "source": [
    "### Задача 2"
   ],
   "metadata": {
    "id": "s-Bps5tWTvB0"
   }
  },
  {
   "cell_type": "markdown",
   "metadata": {
    "id": "D32msAyFF42d"
   },
   "source": [
    "Определите гендерное процентное соотношение состава депутатов"
   ]
  },
  {
   "cell_type": "code",
   "source": [
    "df['gender'].value_counts(normalize=True) * 100"
   ],
   "metadata": {
    "id": "JFtQrXQq7GiP",
    "colab": {
     "base_uri": "https://localhost:8080/"
    },
    "outputId": "0862319c-8577-49a6-d6ac-d3b6c8485f4c",
    "ExecuteTime": {
     "end_time": "2024-05-17T09:50:51.787204Z",
     "start_time": "2024-05-17T09:50:51.771703Z"
    }
   },
   "outputs": [
    {
     "data": {
      "text/plain": [
       "gender\n",
       "м    84.834123\n",
       "ж    15.165877\n",
       "Name: proportion, dtype: float64"
      ]
     },
     "execution_count": 3,
     "metadata": {},
     "output_type": "execute_result"
    }
   ],
   "execution_count": 3
  }
 ]
}
