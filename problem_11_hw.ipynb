{
 "nbformat": 4,
 "nbformat_minor": 0,
 "metadata": {
  "colab": {
   "provenance": [
    {
     "file_id": "1xf4Sdry65fW5FFlmZEelMqNDJdKNuH2S",
     "timestamp": 1702645196388
    },
    {
     "file_id": "17o3tHTljzERPJuMUh9Qv4ay3pz5CjRoD",
     "timestamp": 1702480496545
    },
    {
     "file_id": "1m2bxnGZ2edrWN6UeV4UbM-ajZsVkV2CZ",
     "timestamp": 1702139281462
    },
    {
     "file_id": "1O-hJuicdJTiKUrIO9ucXBIpDZB2S9xXD",
     "timestamp": 1699968008993
    }
   ]
  },
  "kernelspec": {
   "name": "python3",
   "language": "python",
   "display_name": "Python 3 (ipykernel)"
  },
  "language_info": {
   "name": "python"
  }
 },
 "cells": [
  {
   "cell_type": "code",
   "execution_count": 38,
   "metadata": {
    "id": "6qzWuqT5mwq_",
    "ExecuteTime": {
     "end_time": "2023-12-21T12:42:15.271151Z",
     "start_time": "2023-12-21T12:42:14.949995Z"
    }
   },
   "outputs": [],
   "source": [
    "import matplotlib.pyplot as plt\n",
    "import numpy as np\n",
    "import pandas as pd\n",
    "import sklearn.linear_model as slm\n",
    "import sklearn.model_selection as sms\n",
    "import sklearn.svm as svm\n",
    "from numpy import set_printoptions\n",
    "from sklearn.decomposition import PCA\n",
    "from sklearn.feature_selection import SelectKBest\n",
    "from sklearn.neighbors import KNeighborsRegressor\n",
    "from sklearn.pipeline import FeatureUnion\n",
    "from sklearn.pipeline import Pipeline\n",
    "from sklearn.preprocessing import StandardScaler\n",
    "from sklearn.tree import DecisionTreeRegressor"
   ]
  },
  {
   "cell_type": "code",
   "source": [
    "filename = 'data/pima-indians-diabetes.data.csv'\n",
    "names = ['preg', 'plas', 'pres', 'skin', 'test', 'mass', 'pedi', 'age', 'class']\n",
    "data = pd.read_csv(filename, names = names)\n",
    "data.head()\n",
    "pd.set_option('display.precision',3)\n",
    "print(data.head(10))\n",
    "set_printoptions(precision = 3)"
   ],
   "metadata": {
    "colab": {
     "base_uri": "https://localhost:8080/"
    },
    "id": "256Z0pXon1y0",
    "executionInfo": {
     "status": "ok",
     "timestamp": 1702487809331,
     "user_tz": -180,
     "elapsed": 306,
     "user": {
      "displayName": "Софья Тарасова",
      "userId": "10876662613223961281"
     }
    },
    "outputId": "9b7f26da-849e-46c1-dc88-9e105c36b037",
    "ExecuteTime": {
     "end_time": "2023-12-21T12:42:15.345151Z",
     "start_time": "2023-12-21T12:42:15.277262Z"
    }
   },
   "execution_count": 39,
   "outputs": [
    {
     "name": "stdout",
     "output_type": "stream",
     "text": [
      "   preg  plas  pres  skin  test  mass   pedi  age  class\n",
      "0     6   148    72    35     0  33.6  0.627   50      1\n",
      "1     1    85    66    29     0  26.6  0.351   31      0\n",
      "2     8   183    64     0     0  23.3  0.672   32      1\n",
      "3     1    89    66    23    94  28.1  0.167   21      0\n",
      "4     0   137    40    35   168  43.1  2.288   33      1\n",
      "5     5   116    74     0     0  25.6  0.201   30      0\n",
      "6     3    78    50    32    88  31.0  0.248   26      1\n",
      "7    10   115     0     0     0  35.3  0.134   29      0\n",
      "8     2   197    70    45   543  30.5  0.158   53      1\n",
      "9     8   125    96     0     0   0.0  0.232   54      1\n"
     ]
    }
   ]
  },
  {
   "cell_type": "markdown",
   "source": [
    "3.\tСохраните в переменную array значения признаков, обратившись к атрибуту values."
   ],
   "metadata": {
    "id": "-5yXa92CLzfW"
   }
  },
  {
   "cell_type": "code",
   "source": [
    "array = data.values"
   ],
   "metadata": {
    "id": "E0BuiNVXwHcy",
    "ExecuteTime": {
     "end_time": "2023-12-21T12:42:15.368407Z",
     "start_time": "2023-12-21T12:42:15.321759Z"
    }
   },
   "execution_count": 40,
   "outputs": []
  },
  {
   "cell_type": "markdown",
   "source": [
    "Выделите в переменной array часть, которая относится к факторным признакам, назовите ее X, и часть, которая относится к результативному признаку, - Y. Прокомментируйте содержимое переменных X и Y."
   ],
   "metadata": {
    "id": "31WKQX_Bwnfg"
   }
  },
  {
   "cell_type": "code",
   "source": [
    "X = array[:, 1:]\n",
    "Y = array[:, 0]\n",
    "\n",
    "print(\"X:\", X.shape)\n",
    "print(\"Y:\", Y.shape)"
   ],
   "metadata": {
    "id": "FihywUyQn-wZ",
    "colab": {
     "base_uri": "https://localhost:8080/"
    },
    "executionInfo": {
     "status": "ok",
     "timestamp": 1702487816078,
     "user_tz": -180,
     "elapsed": 2,
     "user": {
      "displayName": "Софья Тарасова",
      "userId": "10876662613223961281"
     }
    },
    "outputId": "2c0a34e2-9821-45da-e4ba-169a7a6de956",
    "ExecuteTime": {
     "end_time": "2023-12-21T12:42:15.394116Z",
     "start_time": "2023-12-21T12:42:15.357756Z"
    }
   },
   "execution_count": 41,
   "outputs": [
    {
     "name": "stdout",
     "output_type": "stream",
     "text": [
      "X: (768, 8)\n",
      "Y: (768,)\n"
     ]
    }
   ]
  },
  {
   "cell_type": "markdown",
   "source": [
    "В качестве Y результативного фактора был выбран диагноз (1 столбец), а Х оставшиеся признаки в качестве факторныхх признаков"
   ],
   "metadata": {
    "id": "F5gSzbKxHghP"
   }
  },
  {
   "cell_type": "markdown",
   "source": [
    "5.\tЗадайте разбиение на фолды с помощью функции KFold(n_splits= n_splits, random_state = random_state, shuffle=True) из модуля sklearn.model_selection. Результат запишите в переменную kfold. На вход данной функции подайте следующую информацию: 1) количество частей, на которые должна разбиваться выборка (n_splits), - пусть 10; 2) счетчик случайных чисел (random_state) – пусть 7; 3) необходимость перемешивания данных выборки, задав параметр shuffle=True."
   ],
   "metadata": {
    "id": "MWwsnArNfrEU"
   }
  },
  {
   "cell_type": "code",
   "source": [
    "kfold = sms.KFold(n_splits=10, random_state=7, shuffle=True)"
   ],
   "metadata": {
    "id": "zUZcHx3fg-cZ",
    "ExecuteTime": {
     "end_time": "2023-12-21T12:42:15.482860Z",
     "start_time": "2023-12-21T12:42:15.398750Z"
    }
   },
   "execution_count": 42,
   "outputs": []
  },
  {
   "cell_type": "markdown",
   "source": [
    "6.\tВ переменную scoring запишите название метрики качества, которую Вы будете использовать для оценки качества моделей. Пусть это будет средняя квадратичная оценка, взятая с отрицательным знаком, - 'neg_mean_squared_error'."
   ],
   "metadata": {
    "id": "nXeauL-wfyCZ"
   }
  },
  {
   "cell_type": "code",
   "source": [
    "scoring = 'neg_mean_squared_error'"
   ],
   "metadata": {
    "id": "vvnLwYvPiER7",
    "ExecuteTime": {
     "end_time": "2023-12-21T12:42:15.535194Z",
     "start_time": "2023-12-21T12:42:15.460438Z"
    }
   },
   "execution_count": 43,
   "outputs": []
  },
  {
   "cell_type": "markdown",
   "source": [
    "7.\tПостройте модель ближайшего соседа, воспользовавшись функцией KNeighborsRegressor() из модуля sklearn.neighbors. Результат запишите в переменную model."
   ],
   "metadata": {
    "id": "KAPnWq7tf1VG"
   }
  },
  {
   "cell_type": "code",
   "source": [
    "NeigborsRegressor_model = KNeighborsRegressor()"
   ],
   "metadata": {
    "id": "JrFpgwNFhFly",
    "ExecuteTime": {
     "end_time": "2023-12-21T12:42:15.588730Z",
     "start_time": "2023-12-21T12:42:15.539125Z"
    }
   },
   "execution_count": 44,
   "outputs": []
  },
  {
   "cell_type": "markdown",
   "source": [
    "8.\tПроведите кросс-валидацию, воспользовавшись функцией cross_val_score(model, X, Y, cv=kfold, scoring=scoring) из модуля sklearn.model_selection. Результат запишите в переменную results.  "
   ],
   "metadata": {
    "id": "EvmHCp1Af4KH"
   }
  },
  {
   "cell_type": "code",
   "source": [
    "NR_results = sms.cross_val_score(NeigborsRegressor_model, X, Y, cv=kfold, scoring=scoring)"
   ],
   "metadata": {
    "id": "uOpLg1Z3g5Yx",
    "ExecuteTime": {
     "end_time": "2023-12-21T12:42:15.655782Z",
     "start_time": "2023-12-21T12:42:15.565047Z"
    }
   },
   "execution_count": 45,
   "outputs": []
  },
  {
   "cell_type": "markdown",
   "source": [
    "9.\tВыведите на экран среднюю величину средней квадратичной ошибки (MSE), взятую с отрицательным знаком, и стандартное отклонение полученных оценок, воспользовавшись, соответственно, функциями mean() и std(). Прокомментируйте полученный результат."
   ],
   "metadata": {
    "id": "aqEoT-tnf5sQ"
   }
  },
  {
   "cell_type": "code",
   "source": [
    "print (\"Среднее\", np.mean(-NR_results))\n",
    "print (\"Стандартное отклоение\", np.std(NR_results))"
   ],
   "metadata": {
    "colab": {
     "base_uri": "https://localhost:8080/"
    },
    "id": "_er3ni5gg0BN",
    "executionInfo": {
     "status": "ok",
     "timestamp": 1702488169415,
     "user_tz": -180,
     "elapsed": 291,
     "user": {
      "displayName": "Софья Тарасова",
      "userId": "10876662613223961281"
     }
    },
    "outputId": "04b1dd5b-8419-4eb9-ed1b-62f699910efd",
    "ExecuteTime": {
     "end_time": "2023-12-21T12:42:15.672263Z",
     "start_time": "2023-12-21T12:42:15.641871Z"
    }
   },
   "execution_count": 46,
   "outputs": [
    {
     "name": "stdout",
     "output_type": "stream",
     "text": [
      "Среднее 9.229837320574163\n",
      "Стандартное отклоение 2.1915621512778807\n"
     ]
    }
   ]
  },
  {
   "cell_type": "markdown",
   "source": [
    "10.\tПостройте модель решающего дерева, воспользовавшись функцией DecisionTreeRegressor() из модуля sklearn.tree. Результат запишите в переменную model."
   ],
   "metadata": {
    "id": "LAfrE1CXf7hL"
   }
  },
  {
   "cell_type": "code",
   "source": [
    "Tree_model = DecisionTreeRegressor()"
   ],
   "metadata": {
    "id": "0VwWQ5ddhGRQ",
    "ExecuteTime": {
     "end_time": "2023-12-21T12:42:15.740458Z",
     "start_time": "2023-12-21T12:42:15.674674Z"
    }
   },
   "execution_count": 47,
   "outputs": []
  },
  {
   "cell_type": "markdown",
   "source": [
    "11.\tПроведите кросс-валидацию, воспользовавшись функцией cross_val_score(model, X, Y, cv=kfold, scoring=scoring) из модуля sklearn.model_selection. Результат запишите в переменную results.  "
   ],
   "metadata": {
    "id": "aK_nBzMLf8vJ"
   }
  },
  {
   "cell_type": "code",
   "source": [
    "Tree_results = sms.cross_val_score(Tree_model, X, Y, cv=kfold, scoring=scoring)"
   ],
   "metadata": {
    "id": "Q1YEqhY2g4dV",
    "ExecuteTime": {
     "end_time": "2023-12-21T12:42:15.820063Z",
     "start_time": "2023-12-21T12:42:15.729360Z"
    }
   },
   "execution_count": 48,
   "outputs": []
  },
  {
   "cell_type": "markdown",
   "source": [
    "12.\tВыведите на экран среднюю величину средней квадратичной ошибки (MSE), взятую с отрицательным знаком, и стандартное отклонение полученных оценок, воспользовавшись, соответственно, функциями mean() и std(). Прокомментируйте полученный результат."
   ],
   "metadata": {
    "id": "r7awEgPQf92j"
   }
  },
  {
   "cell_type": "code",
   "source": [
    "print (\"Среднее\", np.mean(-Tree_results))\n",
    "print (\"Стандартное отклоение\", np.std(Tree_results))"
   ],
   "metadata": {
    "colab": {
     "base_uri": "https://localhost:8080/"
    },
    "id": "k-j_qr3TgzBN",
    "executionInfo": {
     "status": "ok",
     "timestamp": 1702488242952,
     "user_tz": -180,
     "elapsed": 3,
     "user": {
      "displayName": "Софья Тарасова",
      "userId": "10876662613223961281"
     }
    },
    "outputId": "e592c8ba-5fe2-4682-bde6-87a7c7ac3e94",
    "ExecuteTime": {
     "end_time": "2023-12-21T12:42:15.823706Z",
     "start_time": "2023-12-21T12:42:15.807054Z"
    }
   },
   "execution_count": 49,
   "outputs": [
    {
     "name": "stdout",
     "output_type": "stream",
     "text": [
      "Среднее 14.43238209159262\n",
      "Стандартное отклоение 3.969017496350916\n"
     ]
    }
   ]
  },
  {
   "cell_type": "markdown",
   "source": [
    "13.\tПостройте модель опорных векторов, воспользовавшись функцией SVR(gamma='auto') из модуля sklearn.svm. Результат запишите в переменную model."
   ],
   "metadata": {
    "id": "4TndYOhXgAQL"
   }
  },
  {
   "cell_type": "code",
   "source": [
    "SVR_model = svm.SVR()"
   ],
   "metadata": {
    "id": "9Lo3H68LhGze",
    "ExecuteTime": {
     "end_time": "2023-12-21T12:42:15.894511Z",
     "start_time": "2023-12-21T12:42:15.816649Z"
    }
   },
   "execution_count": 50,
   "outputs": []
  },
  {
   "cell_type": "markdown",
   "source": [
    "14.\tПроведите кросс-валидацию, воспользовавшись функцией cross_val_score(model, X, Y, cv=kfold, scoring=scoring) из модуля sklearn.model_selection. Результат запишите в переменную results.  "
   ],
   "metadata": {
    "id": "voLzn6zygDnL"
   }
  },
  {
   "cell_type": "code",
   "source": [
    "SVR_results = sms.cross_val_score(SVR_model, X, Y, cv=kfold, scoring=scoring)"
   ],
   "metadata": {
    "id": "Q5WyNSHJgZ51",
    "ExecuteTime": {
     "end_time": "2023-12-21T12:42:16.178414Z",
     "start_time": "2023-12-21T12:42:15.828069Z"
    }
   },
   "execution_count": 51,
   "outputs": []
  },
  {
   "cell_type": "markdown",
   "source": [
    "15.\tВыведите на экран среднюю величину средней квадратичной ошибки (MSE), взятую с отрицательным знаком, и стандартное отклонение полученных оценок, воспользовавшись, соответственно, функциями mean() и std(). Прокомментируйте полученный результат."
   ],
   "metadata": {
    "id": "bFCPmxlDgFJE"
   }
  },
  {
   "cell_type": "code",
   "source": [
    "print (\"Среднее\", np.mean(-SVR_results))\n",
    "print (\"Стандартное отклоение\", np.std(SVR_results))"
   ],
   "metadata": {
    "colab": {
     "base_uri": "https://localhost:8080/"
    },
    "id": "wLh7mHisNYH2",
    "executionInfo": {
     "status": "ok",
     "timestamp": 1702488282977,
     "user_tz": -180,
     "elapsed": 3,
     "user": {
      "displayName": "Софья Тарасова",
      "userId": "10876662613223961281"
     }
    },
    "outputId": "1c3052cd-9390-4490-823f-8693474dea06",
    "ExecuteTime": {
     "end_time": "2023-12-21T12:42:16.235077Z",
     "start_time": "2023-12-21T12:42:16.165872Z"
    }
   },
   "execution_count": 52,
   "outputs": [
    {
     "name": "stdout",
     "output_type": "stream",
     "text": [
      "Среднее 9.011101055301463\n",
      "Стандартное отклоение 1.9981505909445634\n"
     ]
    }
   ]
  },
  {
   "cell_type": "markdown",
   "source": [
    "16.\tСоздайте пустой список и запишите его в переменную models."
   ],
   "metadata": {
    "id": "1PeHgRb5MJpX"
   }
  },
  {
   "cell_type": "code",
   "source": [
    "models = []"
   ],
   "metadata": {
    "id": "j5IeKe6bNbSw",
    "ExecuteTime": {
     "end_time": "2023-12-21T12:42:16.251805Z",
     "start_time": "2023-12-21T12:42:16.171726Z"
    }
   },
   "execution_count": 53,
   "outputs": []
  },
  {
   "cell_type": "markdown",
   "source": [
    "17.\tДобавьте с помощью функции append() в список models набор из кортежей, первый элемент которого содержит название модели, а второй – функцию для создания соответствующей модели. Включите все линейные и нелинейные модели для регрессии, рассмотренные в заданиях 10 и 11. Можно при этом воспользоваться следующими сокращениями:"
   ],
   "metadata": {
    "id": "tHleEDdsMKVo"
   }
  },
  {
   "cell_type": "code",
   "source": [
    "models.append(('LinRegr', slm.LinearRegression()))\n",
    "models.append(('Ridge', slm.Ridge()))\n",
    "models.append(('Lasso', slm.Lasso()))\n",
    "models.append(('ElasticNet', slm.ElasticNet()))\n",
    "models.append(('KNN',KNeighborsRegressor()))\n",
    "models.append(('DTree', DecisionTreeRegressor()))\n",
    "models.append(('SVM', svm.SVR()))"
   ],
   "metadata": {
    "id": "paM0t21jNjpL",
    "ExecuteTime": {
     "end_time": "2023-12-21T12:42:16.272280Z",
     "start_time": "2023-12-21T12:42:16.184403Z"
    }
   },
   "execution_count": 54,
   "outputs": []
  },
  {
   "cell_type": "markdown",
   "source": [
    "18.\tСоздайте пустые списки results и names."
   ],
   "metadata": {
    "id": "cE57SptMMMH4"
   }
  },
  {
   "cell_type": "code",
   "source": [
    "results = []\n",
    "names = []"
   ],
   "metadata": {
    "id": "JYvpBIQJOm1f",
    "ExecuteTime": {
     "end_time": "2023-12-21T12:42:16.274191Z",
     "start_time": "2023-12-21T12:42:16.189242Z"
    }
   },
   "execution_count": 55,
   "outputs": []
  },
  {
   "cell_type": "markdown",
   "source": [
    "19.\tЗадайте критерий оценки качества моделей регрессии в переменной scoring. Пусть – средняя квадратичная оценка, взятая с отрицательным знаком, - 'neg_mean_squared_error'."
   ],
   "metadata": {
    "id": "9geZd5AKMNoT"
   }
  },
  {
   "cell_type": "markdown",
   "source": [
    "20.\tС помощью функции for, обращаясь к имени и объекту модели, которые содержатся в кортежах списка models, выполните следующее:"
   ],
   "metadata": {
    "id": "p6NAoiNZMQM5"
   }
  },
  {
   "cell_type": "code",
   "source": [
    "for name, model in models:\n",
    "    kfold = sms.KFold(n_splits=10, random_state=7, shuffle=True)\n",
    "    cv_results = sms.cross_val_score(model, X, Y, cv=kfold, scoring=scoring)\n",
    "    results.append(cv_results)\n",
    "    names.append(name)\n",
    "    print(f\"Модель: {name}, MSE: {-cv_results.mean()}, Стандартное отклонение: {cv_results.std()}\")"
   ],
   "metadata": {
    "colab": {
     "base_uri": "https://localhost:8080/"
    },
    "id": "BJcPOdfROpzi",
    "executionInfo": {
     "status": "ok",
     "timestamp": 1702488768982,
     "user_tz": -180,
     "elapsed": 456,
     "user": {
      "displayName": "Софья Тарасова",
      "userId": "10876662613223961281"
     }
    },
    "outputId": "7588be9a-7bd7-47a1-9391-70c4f2ff588c",
    "ExecuteTime": {
     "end_time": "2023-12-21T12:42:16.675889Z",
     "start_time": "2023-12-21T12:42:16.199270Z"
    }
   },
   "execution_count": 56,
   "outputs": [
    {
     "name": "stdout",
     "output_type": "stream",
     "text": [
      "Модель: LinRegr, MSE: 7.939163188094737, Стандартное отклонение: 1.576475862181222\n",
      "Модель: Ridge, MSE: 7.9388152473202975, Стандартное отклонение: 1.5761975389075644\n",
      "Модель: Lasso, MSE: 8.034223742985745, Стандартное отклонение: 1.5860109644561335\n",
      "Модель: ElasticNet, MSE: 8.049723481718946, Стандартное отклонение: 1.5768282057912955\n",
      "Модель: KNN, MSE: 9.229837320574163, Стандартное отклонение: 2.1915621512778807\n",
      "Модель: DTree, MSE: 13.953332194121668, Стандартное отклонение: 3.463071995499233\n",
      "Модель: SVM, MSE: 9.011101055301463, Стандартное отклонение: 1.9981505909445634\n"
     ]
    }
   ]
  },
  {
   "cell_type": "markdown",
   "source": [
    "21.\tИзобразите результаты предыдущих расчетов в виде ящика с усами, воспользовавшись следующими функциями из модуля matplotlib.pyplot: figure(), suptitle(), add_subplot(111), boxplot(), set_xticklabels(), show()."
   ],
   "metadata": {
    "id": "GIg2eIm-MSWV"
   }
  },
  {
   "cell_type": "code",
   "source": [
    "fig = plt.figure()\n",
    "fig.suptitle('Сравнение моделей')\n",
    "ax = fig.add_subplot(111)\n",
    "plt.boxplot(results)\n",
    "ax.set_xticklabels(names)\n",
    "plt.show()"
   ],
   "metadata": {
    "colab": {
     "base_uri": "https://localhost:8080/",
     "height": 478
    },
    "id": "M2-y_atZO4i1",
    "executionInfo": {
     "status": "ok",
     "timestamp": 1702488770688,
     "user_tz": -180,
     "elapsed": 545,
     "user": {
      "displayName": "Софья Тарасова",
      "userId": "10876662613223961281"
     }
    },
    "outputId": "a873a3b4-89ff-4945-dfbe-5722282e9627",
    "ExecuteTime": {
     "end_time": "2023-12-21T12:42:16.871431Z",
     "start_time": "2023-12-21T12:42:16.679653Z"
    }
   },
   "execution_count": 57,
   "outputs": [
    {
     "data": {
      "text/plain": "<Figure size 640x480 with 1 Axes>",
      "image/png": "[encoded data removed]"
     },
     "metadata": {},
     "output_type": "display_data"
    }
   ]
  },
  {
   "cell_type": "markdown",
   "source": [
    "Выберите лучшую модель. Обоснуйте свой выбор"
   ],
   "metadata": {
    "id": "GJ9huvKsMVJD"
   }
  },
  {
   "cell_type": "markdown",
   "source": [
    "Я бы выбирала между стандартной линейной регрессией и гребневой, но у гребневой есть выбросы, так что лучше не надо. А у всех остальных больше вероятность ошибки."
   ],
   "metadata": {
    "id": "gK_CxgDNO77c"
   }
  },
  {
   "cell_type": "markdown",
   "source": [
    "23.\tСоздайте пустой список в переменной estimators"
   ],
   "metadata": {
    "id": "1CmiaYWkMWyP"
   }
  },
  {
   "cell_type": "code",
   "source": [
    "estimators = []"
   ],
   "metadata": {
    "id": "nYL5hpZrPbSZ",
    "ExecuteTime": {
     "end_time": "2023-12-21T12:42:16.877098Z",
     "start_time": "2023-12-21T12:42:16.872857Z"
    }
   },
   "execution_count": 58,
   "outputs": []
  },
  {
   "cell_type": "markdown",
   "source": [
    "24.\tДобавьте в него кортеж, в котором содержится название операции подготовки данных, пусть стандартизация ('standardize'), и соответствующая функция StandardScaler() из модуля sklearn.preprocessing"
   ],
   "metadata": {
    "id": "TheQuBP6MX2E"
   }
  },
  {
   "cell_type": "code",
   "source": [
    "estimators.append(('standardize', StandardScaler()))"
   ],
   "metadata": {
    "id": "hIUVkRy5PmyT",
    "ExecuteTime": {
     "end_time": "2023-12-21T12:42:16.893113Z",
     "start_time": "2023-12-21T12:42:16.876739Z"
    }
   },
   "execution_count": 59,
   "outputs": []
  },
  {
   "cell_type": "markdown",
   "source": [
    "25.\tТакже добавьте в список кортеж с названием лучшей модели для регрессии, выбранной в п. 20, и соответствующую ей функцию."
   ],
   "metadata": {
    "id": "xDBwAqXMMZBx"
   }
  },
  {
   "cell_type": "code",
   "source": [
    "estimators.append(('LinRegr', slm.LinearRegression()))"
   ],
   "metadata": {
    "id": "f2yBKcuMPuKa",
    "ExecuteTime": {
     "end_time": "2023-12-21T12:42:16.945978Z",
     "start_time": "2023-12-21T12:42:16.889710Z"
    }
   },
   "execution_count": 60,
   "outputs": []
  },
  {
   "cell_type": "markdown",
   "source": [
    "26.\tНа основе созданного списка создайте программный конвеер с помощью функции Pipeline() из модуля sklearn.pipeline. Результат запишите в переменную model."
   ],
   "metadata": {
    "id": "xb12snn5MgPS"
   }
  },
  {
   "cell_type": "code",
   "source": [
    "model_Pipeline = Pipeline(estimators)"
   ],
   "metadata": {
    "id": "u6F2GhgtQDEw",
    "ExecuteTime": {
     "end_time": "2023-12-21T12:42:17.001462Z",
     "start_time": "2023-12-21T12:42:16.896110Z"
    }
   },
   "execution_count": 61,
   "outputs": []
  },
  {
   "cell_type": "markdown",
   "source": [
    "27.\tЗадайте разбиение на фолды с помощью функции KFold(n_splits = n_splits, random_state = random_state, shuffle = True) из модуля sklearn.model_selection. Результат запишите в переменную kfold. На вход данной функции подайте следующую информацию: 1) количество частей, на которые должна разбиваться выборка (n_splits), - пусть 10; 2) счетчик случайных чисел (random_state) – пусть 7; 3) необходимость перемешивания данных выборки, задав параметр shuffle=True."
   ],
   "metadata": {
    "id": "1aNVOzLtMhhv"
   }
  },
  {
   "cell_type": "code",
   "source": [
    "kfold = sms.KFold(n_splits=10, random_state=7, shuffle=True)"
   ],
   "metadata": {
    "id": "-DLow_RYQCrj",
    "ExecuteTime": {
     "end_time": "2023-12-21T12:42:17.003771Z",
     "start_time": "2023-12-21T12:42:16.902265Z"
    }
   },
   "execution_count": 62,
   "outputs": []
  },
  {
   "cell_type": "markdown",
   "source": [
    "28.\tПроведите кросс-валидацию, воспользовавшись функцией cross_val_score(model, X, Y, cv=kfold, scoring=scoring) из модуля sklearn.model_selection. На вход подайте созданный программный конвеер. Результат запишите в переменную results."
   ],
   "metadata": {
    "id": "7pr1xqGaMinw"
   }
  },
  {
   "cell_type": "code",
   "source": [
    "Pipeline_results = sms.cross_val_score(model_Pipeline, X, Y, cv=kfold, scoring=scoring)"
   ],
   "metadata": {
    "id": "h_k84ubmQUkX",
    "ExecuteTime": {
     "end_time": "2023-12-21T12:42:17.106854Z",
     "start_time": "2023-12-21T12:42:16.911451Z"
    }
   },
   "execution_count": 63,
   "outputs": []
  },
  {
   "cell_type": "markdown",
   "source": [
    "29.\tВыведите на экран среднюю величину средней квадратичной ошибки (MSE), взятую с отрицательным знаком, и стандартное отклонение полученных оценок, воспользовавшись, соответственно, функциями mean() и std(). Прокомментируйте полученный результат."
   ],
   "metadata": {
    "id": "bQSIDmB_MjfV"
   }
  },
  {
   "cell_type": "code",
   "source": [
    "print (\"Среднее\", np.mean(-Pipeline_results))\n",
    "print (\"Стандартное отклоение\", np.std(Pipeline_results))"
   ],
   "metadata": {
    "colab": {
     "base_uri": "https://localhost:8080/"
    },
    "id": "UY9WhHuQQU36",
    "executionInfo": {
     "status": "ok",
     "timestamp": 1702489087938,
     "user_tz": -180,
     "elapsed": 299,
     "user": {
      "displayName": "Софья Тарасова",
      "userId": "10876662613223961281"
     }
    },
    "outputId": "6117773e-8f42-4bd9-ffc2-79c980764b77",
    "ExecuteTime": {
     "end_time": "2023-12-21T12:42:17.111253Z",
     "start_time": "2023-12-21T12:42:16.948148Z"
    }
   },
   "execution_count": 64,
   "outputs": [
    {
     "name": "stdout",
     "output_type": "stream",
     "text": [
      "Среднее 7.939163188094739\n",
      "Стандартное отклоение 1.5764758621812205\n"
     ]
    }
   ]
  },
  {
   "cell_type": "markdown",
   "source": [
    "30.\tСделайте вывод о целесообразности создания программного конвеера."
   ],
   "metadata": {
    "id": "8nUEbTS7Mkxi"
   }
  },
  {
   "cell_type": "markdown",
   "source": [
    "Либо я ошиблась либо смысла 0. Результаты для линейной регресии без программного контейнера идентичные"
   ],
   "metadata": {
    "id": "BmBcAQ8fSpdj"
   }
  },
  {
   "cell_type": "markdown",
   "source": [
    "31.\tСоздайте пустой список в переменной features. В нем в дальнейшем будут содержаться отобранные признаки."
   ],
   "metadata": {
    "id": "FFmvxJmqMlwn"
   }
  },
  {
   "cell_type": "code",
   "source": [
    "features = []"
   ],
   "metadata": {
    "id": "FdETxN4NQgAr",
    "ExecuteTime": {
     "end_time": "2023-12-21T12:42:17.127570Z",
     "start_time": "2023-12-21T12:42:16.954389Z"
    }
   },
   "execution_count": 65,
   "outputs": []
  },
  {
   "cell_type": "markdown",
   "source": [
    "32.\tС помощью функции append() добавьте в него кортеж, в котором содержится название метода главных компонент ('pca') и соответствующая функция PCA(n_components=4) из модуля sklearn.decomposition."
   ],
   "metadata": {
    "id": "IC3lyPPUMmwd"
   }
  },
  {
   "cell_type": "code",
   "source": [
    "features.append(('pca', PCA(n_components=4)))"
   ],
   "metadata": {
    "id": "mIqRrwy9QoeE",
    "ExecuteTime": {
     "end_time": "2023-12-21T12:42:17.129469Z",
     "start_time": "2023-12-21T12:42:16.962189Z"
    }
   },
   "execution_count": 66,
   "outputs": []
  },
  {
   "cell_type": "markdown",
   "source": [
    "33.\tТакже добавьте в список кортеж с названием 'select_best' и соответствующую ей функцию SelectKBest(k=6) из модуля sklearn.feature_selection для отбора 6 лучших признаков."
   ],
   "metadata": {
    "id": "Vij6iufxMnps"
   }
  },
  {
   "cell_type": "code",
   "source": [
    "features.append(('select_best', SelectKBest(k=6)))"
   ],
   "metadata": {
    "id": "BPER0zv9Q3ap",
    "ExecuteTime": {
     "end_time": "2023-12-21T12:42:17.131333Z",
     "start_time": "2023-12-21T12:42:16.968934Z"
    }
   },
   "execution_count": 67,
   "outputs": []
  },
  {
   "cell_type": "markdown",
   "source": [
    "34.\tНа основе созданного списка создайте программный конвеер для отбора признаков с помощью функции FeatureUnion() из модуля sklearn.pipeline. Результат запишите в переменную feature_union."
   ],
   "metadata": {
    "id": "gnjIPT2JMono"
   }
  },
  {
   "cell_type": "code",
   "source": [
    "feature_union = FeatureUnion(features)"
   ],
   "metadata": {
    "id": "N25gWU5HRMV7",
    "ExecuteTime": {
     "end_time": "2023-12-21T12:42:17.133083Z",
     "start_time": "2023-12-21T12:42:16.975089Z"
    }
   },
   "execution_count": 68,
   "outputs": []
  },
  {
   "cell_type": "markdown",
   "source": [
    "35.\tСоздайте пустой список в переменной estimators."
   ],
   "metadata": {
    "id": "8mfSbr-3Mpkc"
   }
  },
  {
   "cell_type": "code",
   "source": [
    "estimators_2 = []"
   ],
   "metadata": {
    "id": "Tky2eFzTRVKj",
    "ExecuteTime": {
     "end_time": "2023-12-21T12:42:17.140449Z",
     "start_time": "2023-12-21T12:42:16.980792Z"
    }
   },
   "execution_count": 69,
   "outputs": []
  },
  {
   "cell_type": "markdown",
   "source": [
    "36.\tС помощью функции append() добавьте в него кортеж, в котором содержится название 'feature_union' и созданный ранее конвеер для отбора признаков."
   ],
   "metadata": {
    "id": "UnIRVoyUMqbH"
   }
  },
  {
   "cell_type": "code",
   "source": [
    "estimators_2.append(('feature_union', feature_union))"
   ],
   "metadata": {
    "id": "a0vfvO9xRZEm",
    "ExecuteTime": {
     "end_time": "2023-12-21T12:42:17.142384Z",
     "start_time": "2023-12-21T12:42:16.986851Z"
    }
   },
   "execution_count": 70,
   "outputs": []
  },
  {
   "cell_type": "markdown",
   "source": [
    "37.\tТакже добавьте в список кортеж с названием линейной регрессии ('LinRegr') и соответствующую ей функцию LinearRegression()."
   ],
   "metadata": {
    "id": "h1e5tWi6MrjY"
   }
  },
  {
   "cell_type": "code",
   "source": [
    "estimators_2.append(('LinRegr', slm.LinearRegression()))"
   ],
   "metadata": {
    "id": "cYQ0jKHsRleI",
    "ExecuteTime": {
     "end_time": "2023-12-21T12:42:17.144293Z",
     "start_time": "2023-12-21T12:42:16.992870Z"
    }
   },
   "execution_count": 71,
   "outputs": []
  },
  {
   "cell_type": "markdown",
   "source": [
    "38.\tНа основе созданного списка создайте программный конвеер с помощью функции Pipeline() из модуля sklearn.pipeline. Результат запишите в переменную model."
   ],
   "metadata": {
    "id": "spyfb77IMsvr"
   }
  },
  {
   "cell_type": "code",
   "source": [
    "model_Pipeline_2 = Pipeline(estimators_2)"
   ],
   "metadata": {
    "id": "BiJnxXoQRsNf",
    "ExecuteTime": {
     "end_time": "2023-12-21T12:42:17.147490Z",
     "start_time": "2023-12-21T12:42:16.999441Z"
    }
   },
   "execution_count": 72,
   "outputs": []
  },
  {
   "cell_type": "markdown",
   "source": [
    "40.\tПроведите кросс-валидацию, воспользовавшись функцией cross_val_score(model, X, Y, cv = kfold, scoring = scoring)  из модуля sklearn.model_selection. На вход подайте созданный программный конвеер. Результат запишите в переменную results."
   ],
   "metadata": {
    "id": "lXlk_8zmMvEa"
   }
  },
  {
   "cell_type": "code",
   "source": [
    "Pipeline_results_2 = sms.cross_val_score(model_Pipeline_2, X, Y, cv=kfold, scoring=scoring)"
   ],
   "metadata": {
    "id": "husDX2_RRxkT",
    "ExecuteTime": {
     "end_time": "2023-12-21T12:42:17.263093Z",
     "start_time": "2023-12-21T12:42:17.010396Z"
    }
   },
   "execution_count": 73,
   "outputs": []
  },
  {
   "cell_type": "markdown",
   "source": [
    "41.\tВыведите на экран среднюю величину средней квадратичной ошибки (MSE), взятую с отрицательным знаком, и стандартное отклонение полученных оценок, воспользовавшись, соответственно, функциями mean() и std(). Прокомментируйте полученный результат."
   ],
   "metadata": {
    "id": "oJgz1OCVMwAT"
   }
  },
  {
   "cell_type": "code",
   "source": [
    "print (\"Среднее\", np.mean(-Pipeline_results_2))\n",
    "print (\"Стандартное отклоение\", np.std(Pipeline_results_2))"
   ],
   "metadata": {
    "colab": {
     "base_uri": "https://localhost:8080/"
    },
    "id": "TVzLStj-RyJH",
    "executionInfo": {
     "status": "ok",
     "timestamp": 1702489474352,
     "user_tz": -180,
     "elapsed": 2,
     "user": {
      "displayName": "Софья Тарасова",
      "userId": "10876662613223961281"
     }
    },
    "outputId": "ead0fcc8-4c12-4758-e3eb-5ee1b9c7d533",
    "ExecuteTime": {
     "end_time": "2023-12-21T12:42:17.264922Z",
     "start_time": "2023-12-21T12:42:17.083610Z"
    }
   },
   "execution_count": 74,
   "outputs": [
    {
     "name": "stdout",
     "output_type": "stream",
     "text": [
      "Среднее 7.939163188094605\n",
      "Стандартное отклоение 1.5764758621821158\n"
     ]
    }
   ]
  }
 ]
}
