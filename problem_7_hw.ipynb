{
 "nbformat": 4,
 "nbformat_minor": 0,
 "metadata": {
  "colab": {
   "provenance": []
  },
  "kernelspec": {
   "name": "python3",
   "language": "python",
   "display_name": "Python 3 (ipykernel)"
  },
  "language_info": {
   "name": "python"
  }
 },
 "cells": [
  {
   "cell_type": "markdown",
   "source": [
    "# Классная работа 7"
   ],
   "metadata": {
    "id": "fdjJw9YEloXL"
   }
  },
  {
   "cell_type": "markdown",
   "source": [
    "## Раздел 1\n",
    "\n",
    "Пункты 1-2"
   ],
   "metadata": {
    "id": "qWrmRf19hIOD"
   }
  },
  {
   "cell_type": "code",
   "execution_count": 18,
   "metadata": {
    "id": "hBwt6OvghEE8",
    "colab": {
     "base_uri": "https://localhost:8080/",
     "height": 206
    },
    "outputId": "ab766254-ac24-4ff4-e6a4-30a5e946ced8",
    "ExecuteTime": {
     "end_time": "2023-12-01T07:24:02.345901Z",
     "start_time": "2023-12-01T07:24:02.322397Z"
    }
   },
   "outputs": [
    {
     "data": {
      "text/plain": "   preg  plas  pres  skin  test  mass   pedi  age  class\n0     6   148    72    35     0  33.6  0.627   50      1\n1     1    85    66    29     0  26.6  0.351   31      0\n2     8   183    64     0     0  23.3  0.672   32      1\n3     1    89    66    23    94  28.1  0.167   21      0\n4     0   137    40    35   168  43.1  2.288   33      1",
      "text/html": "<div>\n<style scoped>\n    .dataframe tbody tr th:only-of-type {\n        vertical-align: middle;\n    }\n\n    .dataframe tbody tr th {\n        vertical-align: top;\n    }\n\n    .dataframe thead th {\n        text-align: right;\n    }\n</style>\n<table border=\"1\" class=\"dataframe\">\n  <thead>\n    <tr style=\"text-align: right;\">\n      <th></th>\n      <th>preg</th>\n      <th>plas</th>\n      <th>pres</th>\n      <th>skin</th>\n      <th>test</th>\n      <th>mass</th>\n      <th>pedi</th>\n      <th>age</th>\n      <th>class</th>\n    </tr>\n  </thead>\n  <tbody>\n    <tr>\n      <th>0</th>\n      <td>6</td>\n      <td>148</td>\n      <td>72</td>\n      <td>35</td>\n      <td>0</td>\n      <td>33.6</td>\n      <td>0.627</td>\n      <td>50</td>\n      <td>1</td>\n    </tr>\n    <tr>\n      <th>1</th>\n      <td>1</td>\n      <td>85</td>\n      <td>66</td>\n      <td>29</td>\n      <td>0</td>\n      <td>26.6</td>\n      <td>0.351</td>\n      <td>31</td>\n      <td>0</td>\n    </tr>\n    <tr>\n      <th>2</th>\n      <td>8</td>\n      <td>183</td>\n      <td>64</td>\n      <td>0</td>\n      <td>0</td>\n      <td>23.3</td>\n      <td>0.672</td>\n      <td>32</td>\n      <td>1</td>\n    </tr>\n    <tr>\n      <th>3</th>\n      <td>1</td>\n      <td>89</td>\n      <td>66</td>\n      <td>23</td>\n      <td>94</td>\n      <td>28.1</td>\n      <td>0.167</td>\n      <td>21</td>\n      <td>0</td>\n    </tr>\n    <tr>\n      <th>4</th>\n      <td>0</td>\n      <td>137</td>\n      <td>40</td>\n      <td>35</td>\n      <td>168</td>\n      <td>43.1</td>\n      <td>2.288</td>\n      <td>33</td>\n      <td>1</td>\n    </tr>\n  </tbody>\n</table>\n</div>"
     },
     "execution_count": 18,
     "metadata": {},
     "output_type": "execute_result"
    }
   ],
   "source": [
    "import pandas as pd\n",
    "import numpy as np\n",
    "import sklearn.model_selection as skms\n",
    "import sklearn.linear_model as sklm\n",
    "import sklearn.svm as sksv\n",
    "import sklearn.discriminant_analysis as skda\n",
    "import pingouin as pg\n",
    "\n",
    "filename = 'data/pima-indians-diabetes.data.csv'\n",
    "names = ['preg', 'plas', 'pres', 'skin', 'test', 'mass', 'pedi', 'age', 'class']\n",
    "data = pd.read_csv(filename, names = names)\n",
    "data.head()"
   ]
  },
  {
   "cell_type": "markdown",
   "source": [
    "Пункты 3-4"
   ],
   "metadata": {
    "id": "UyPvGZohkL_U"
   }
  },
  {
   "cell_type": "code",
   "source": [
    "array = data.values\n",
    "x = array[:, :-1]\n",
    "y = array[:, -1]"
   ],
   "metadata": {
    "id": "zsr0tv7BkNk4",
    "ExecuteTime": {
     "end_time": "2023-12-01T07:24:02.346705Z",
     "start_time": "2023-12-01T07:24:02.343122Z"
    }
   },
   "execution_count": 19,
   "outputs": []
  },
  {
   "cell_type": "markdown",
   "source": [
    "X - признаки, предположительно влияющие на статус диабета\n",
    "\n",
    "Y - статус диабета"
   ],
   "metadata": {
    "id": "XyvKY_JqkZSF"
   }
  },
  {
   "cell_type": "markdown",
   "source": [
    "Пункты 5-8"
   ],
   "metadata": {
    "id": "aJyq8UVVkZ7V"
   }
  },
  {
   "cell_type": "code",
   "source": [
    "kfold = skms.KFold(n_splits = 10, random_state = 7, shuffle=True)\n",
    "model1 = sklm.LogisticRegression(solver='liblinear')\n",
    "result_cv1 = skms.cross_val_score(model1, x, y, cv=kfold)\n",
    "print(result_cv1.mean(), result_cv1.std())"
   ],
   "metadata": {
    "id": "T9QAk8bNkcAZ",
    "colab": {
     "base_uri": "https://localhost:8080/"
    },
    "outputId": "68acbca9-41d2-4b97-ffc1-4de9d5a97e85",
    "ExecuteTime": {
     "end_time": "2023-12-01T07:24:02.488206Z",
     "start_time": "2023-12-01T07:24:02.354064Z"
    }
   },
   "execution_count": 20,
   "outputs": [
    {
     "name": "stdout",
     "output_type": "stream",
     "text": [
      "0.7708646616541353 0.05090500786917546\n"
     ]
    }
   ]
  },
  {
   "cell_type": "markdown",
   "source": [
    "Пункты 9-10"
   ],
   "metadata": {
    "id": "xj9DTh2vflwU"
   }
  },
  {
   "cell_type": "code",
   "source": [
    "model1.fit(x, y)\n",
    "print(model1.intercept_)\n",
    "print(model1.coef_)"
   ],
   "metadata": {
    "colab": {
     "base_uri": "https://localhost:8080/"
    },
    "id": "a7fHf_BMh9V4",
    "outputId": "10dc648e-75ec-42cb-aa76-4c60814d8a6e",
    "ExecuteTime": {
     "end_time": "2023-12-01T07:24:02.491051Z",
     "start_time": "2023-12-01T07:24:02.431406Z"
    }
   },
   "execution_count": 21,
   "outputs": [
    {
     "name": "stdout",
     "output_type": "stream",
     "text": [
      "[-5.89086481]\n",
      "[[ 1.17048205e-01  2.83845957e-02 -1.68888600e-02  7.55799415e-04\n",
      "  -6.42571814e-04  5.97485192e-02  6.77694300e-01  7.23791433e-03]]\n"
     ]
    }
   ]
  },
  {
   "cell_type": "markdown",
   "source": [
    "УР для preg: y = 1.17061865e-01 * x + (-5.89249766)\n",
    "\n",
    "plas: y = 2.83893855e-02 * x + (-5.89249766)\n",
    "\n",
    "и т.д. с заменой коэффициента на соответствующий признаку"
   ],
   "metadata": {
    "id": "n-2rv49AjKlZ"
   }
  },
  {
   "cell_type": "markdown",
   "source": [
    "Пункты 11-13"
   ],
   "metadata": {
    "id": "tIKsKnrBjMWN"
   }
  },
  {
   "cell_type": "code",
   "source": [
    "x_new = np.array([[0,136,42,34,136,43,2,32],[0,137,40,35,168,43.1,2.288,33]])\n",
    "print(model1.predict(x_new))\n",
    "print(model1.predict_proba(x_new))"
   ],
   "metadata": {
    "colab": {
     "base_uri": "https://localhost:8080/"
    },
    "id": "LkaSAsdWiHHv",
    "outputId": "19841eaa-ec28-447e-91fc-44ed545270fc",
    "ExecuteTime": {
     "end_time": "2023-12-01T07:24:02.563339Z",
     "start_time": "2023-12-01T07:24:02.448258Z"
    }
   },
   "execution_count": 22,
   "outputs": [
    {
     "name": "stdout",
     "output_type": "stream",
     "text": [
      "[1. 1.]\n",
      "[[0.20511875 0.79488125]\n",
      " [0.16723545 0.83276455]]\n"
     ]
    }
   ]
  },
  {
   "cell_type": "markdown",
   "source": [
    "## Раздел 2\n",
    "\n",
    "Пункты 14-16"
   ],
   "metadata": {
    "id": "1CKAhW01le1x"
   }
  },
  {
   "cell_type": "code",
   "source": [
    "model2 = sksv.SVC(kernel='linear')\n",
    "result_cv2 = skms.cross_val_score(model2, x, y, cv=kfold)\n",
    "print(result_cv2.mean(), result_cv2.std())"
   ],
   "metadata": {
    "colab": {
     "base_uri": "https://localhost:8080/"
    },
    "id": "cgM0LTGql1Ny",
    "outputId": "7683ada5-16c2-4ce1-d0e3-83d3071b44b3",
    "ExecuteTime": {
     "end_time": "2023-12-01T07:24:42.972384Z",
     "start_time": "2023-12-01T07:24:02.453198Z"
    }
   },
   "execution_count": 23,
   "outputs": [
    {
     "name": "stdout",
     "output_type": "stream",
     "text": [
      "0.7708133971291866 0.03832392703883875\n"
     ]
    }
   ]
  },
  {
   "cell_type": "markdown",
   "source": [
    "Пункты 17-19"
   ],
   "metadata": {
    "id": "oR0b_S8jm1u6"
   }
  },
  {
   "cell_type": "code",
   "source": [
    "model2.fit(x, y)\n",
    "print(model2.intercept_)\n",
    "print(model2.coef_)\n",
    "print(model2.predict(x_new))"
   ],
   "metadata": {
    "colab": {
     "base_uri": "https://localhost:8080/"
    },
    "id": "Jhx9OmUEm5OG",
    "outputId": "fb802695-c052-4073-abf9-0b608b396dee",
    "ExecuteTime": {
     "end_time": "2023-12-01T07:24:48.098454Z",
     "start_time": "2023-12-01T07:24:42.968400Z"
    }
   },
   "execution_count": 24,
   "outputs": [
    {
     "name": "stdout",
     "output_type": "stream",
     "text": [
      "[-6.74057169]\n",
      "[[ 9.14678567e-02  3.00464508e-02 -1.09048360e-02 -4.81644395e-03\n",
      "  -4.21237445e-04  7.33942693e-02  7.15044864e-01  7.26113767e-03]]\n",
      "[1. 1.]\n"
     ]
    }
   ]
  },
  {
   "cell_type": "markdown",
   "source": [
    "Пункт 20"
   ],
   "metadata": {
    "id": "5VCHbAWonYjw"
   }
  },
  {
   "cell_type": "code",
   "source": [
    "model22 = sksv.SVC(kernel='rbf')\n",
    "model22.fit(x, y)\n",
    "print(model22.predict(x_new))"
   ],
   "metadata": {
    "colab": {
     "base_uri": "https://localhost:8080/"
    },
    "id": "uvMKeqbHnoVr",
    "outputId": "e061c1ad-c60c-4e13-ec68-369d4031f059",
    "ExecuteTime": {
     "end_time": "2023-12-01T07:24:48.175785Z",
     "start_time": "2023-12-01T07:24:48.094074Z"
    }
   },
   "execution_count": 25,
   "outputs": [
    {
     "name": "stdout",
     "output_type": "stream",
     "text": [
      "[0. 0.]\n"
     ]
    }
   ]
  },
  {
   "cell_type": "markdown",
   "source": [
    "## Раздел 3\n",
    "\n",
    "Пункт 21"
   ],
   "metadata": {
    "id": "MsP1VnNzoBt5"
   }
  },
  {
   "cell_type": "code",
   "source": [
    "pg.multivariate_normality(x, alpha=.05)"
   ],
   "metadata": {
    "colab": {
     "base_uri": "https://localhost:8080/"
    },
    "id": "_WqYQI-ooH3h",
    "outputId": "b3a81fab-95e8-4657-8ee7-98c9019a4335",
    "ExecuteTime": {
     "end_time": "2023-12-01T07:24:48.195096Z",
     "start_time": "2023-12-01T07:24:48.130766Z"
    }
   },
   "execution_count": 26,
   "outputs": [
    {
     "data": {
      "text/plain": "HZResults(hz=4.18048602737756, pval=0.0, normal=False)"
     },
     "execution_count": 26,
     "metadata": {},
     "output_type": "execute_result"
    }
   ]
  },
  {
   "cell_type": "markdown",
   "source": [
    "H0: дискиминативные переменные распределены нормально\n",
    "\n",
    "&alpha; = 0.05\n",
    "\n",
    "pval < &alpha; -> отвергаем H0, переменные не распределены нормально"
   ],
   "metadata": {
    "id": "w0hL1P8pomoi"
   }
  },
  {
   "cell_type": "markdown",
   "source": [
    "Пункт 22"
   ],
   "metadata": {
    "id": "a3_KVyn0oo_J"
   }
  },
  {
   "cell_type": "code",
   "source": [
    "pg.normality(data)"
   ],
   "metadata": {
    "colab": {
     "base_uri": "https://localhost:8080/",
     "height": 332
    },
    "id": "JyPnjFoZotXH",
    "outputId": "14287db0-e315-4f16-bac8-9d624a93d662",
    "ExecuteTime": {
     "end_time": "2023-12-01T07:24:48.282790Z",
     "start_time": "2023-12-01T07:24:48.180511Z"
    }
   },
   "execution_count": 27,
   "outputs": [
    {
     "data": {
      "text/plain": "              W          pval  normal\npreg   0.904283  1.610010e-21   False\nplas   0.970105  1.987465e-11   False\npres   0.818923  1.584494e-28   False\nskin   0.904628  1.751800e-21   False\ntest   0.722021  7.915340e-34   False\nmass   0.949989  1.840759e-15   False\npedi   0.836519  2.477799e-27   False\nage    0.874766  2.401830e-24   False\nclass  0.602510  1.292262e-38   False",
      "text/html": "<div>\n<style scoped>\n    .dataframe tbody tr th:only-of-type {\n        vertical-align: middle;\n    }\n\n    .dataframe tbody tr th {\n        vertical-align: top;\n    }\n\n    .dataframe thead th {\n        text-align: right;\n    }\n</style>\n<table border=\"1\" class=\"dataframe\">\n  <thead>\n    <tr style=\"text-align: right;\">\n      <th></th>\n      <th>W</th>\n      <th>pval</th>\n      <th>normal</th>\n    </tr>\n  </thead>\n  <tbody>\n    <tr>\n      <th>preg</th>\n      <td>0.904283</td>\n      <td>1.610010e-21</td>\n      <td>False</td>\n    </tr>\n    <tr>\n      <th>plas</th>\n      <td>0.970105</td>\n      <td>1.987465e-11</td>\n      <td>False</td>\n    </tr>\n    <tr>\n      <th>pres</th>\n      <td>0.818923</td>\n      <td>1.584494e-28</td>\n      <td>False</td>\n    </tr>\n    <tr>\n      <th>skin</th>\n      <td>0.904628</td>\n      <td>1.751800e-21</td>\n      <td>False</td>\n    </tr>\n    <tr>\n      <th>test</th>\n      <td>0.722021</td>\n      <td>7.915340e-34</td>\n      <td>False</td>\n    </tr>\n    <tr>\n      <th>mass</th>\n      <td>0.949989</td>\n      <td>1.840759e-15</td>\n      <td>False</td>\n    </tr>\n    <tr>\n      <th>pedi</th>\n      <td>0.836519</td>\n      <td>2.477799e-27</td>\n      <td>False</td>\n    </tr>\n    <tr>\n      <th>age</th>\n      <td>0.874766</td>\n      <td>2.401830e-24</td>\n      <td>False</td>\n    </tr>\n    <tr>\n      <th>class</th>\n      <td>0.602510</td>\n      <td>1.292262e-38</td>\n      <td>False</td>\n    </tr>\n  </tbody>\n</table>\n</div>"
     },
     "execution_count": 27,
     "metadata": {},
     "output_type": "execute_result"
    }
   ]
  },
  {
   "cell_type": "markdown",
   "source": [
    " W - численное значение, которое тест Шапиро-Уилка использует для оценки отклонения данных от нормального распределения. Чем ближе значение W к 1, тем больше шансов, что данные были взяты из нормального распределения.\n",
    "\n",
    " Однако шансы себя не оправдали, pval каждого из признаков намного меньше заданного нами &alpha; = 0.05, следовательно, все признаки не имеют нормального распределения.\n",
    "\n",
    " В данных условиях добиться многомерной нормальности распределения дискриминантных переменных будет трудно."
   ],
   "metadata": {
    "id": "O0WVH6dSo2-h"
   }
  },
  {
   "cell_type": "markdown",
   "source": [
    "Пункт 23"
   ],
   "metadata": {
    "id": "r2R1qitQo5ix"
   }
  },
  {
   "cell_type": "code",
   "source": [
    "pg.box_m(data, dvs=['preg', 'plas', 'pres', 'skin', 'test', 'mass', 'pedi', 'age'], group='class')"
   ],
   "metadata": {
    "colab": {
     "base_uri": "https://localhost:8080/",
     "height": 81
    },
    "id": "efPmxe1Ko8ZO",
    "outputId": "d312155e-af7f-4cb6-b1a1-2173be853948",
    "ExecuteTime": {
     "end_time": "2023-12-01T07:24:48.285256Z",
     "start_time": "2023-12-01T07:24:48.210072Z"
    }
   },
   "execution_count": 28,
   "outputs": [
    {
     "data": {
      "text/plain": "           Chi2    df          pval  equal_cov\nbox  226.706491  36.0  1.642145e-29      False",
      "text/html": "<div>\n<style scoped>\n    .dataframe tbody tr th:only-of-type {\n        vertical-align: middle;\n    }\n\n    .dataframe tbody tr th {\n        vertical-align: top;\n    }\n\n    .dataframe thead th {\n        text-align: right;\n    }\n</style>\n<table border=\"1\" class=\"dataframe\">\n  <thead>\n    <tr style=\"text-align: right;\">\n      <th></th>\n      <th>Chi2</th>\n      <th>df</th>\n      <th>pval</th>\n      <th>equal_cov</th>\n    </tr>\n  </thead>\n  <tbody>\n    <tr>\n      <th>box</th>\n      <td>226.706491</td>\n      <td>36.0</td>\n      <td>1.642145e-29</td>\n      <td>False</td>\n    </tr>\n  </tbody>\n</table>\n</div>"
     },
     "execution_count": 28,
     "metadata": {},
     "output_type": "execute_result"
    }
   ]
  },
  {
   "cell_type": "markdown",
   "source": [
    "H0: Ковариационные матрицы приблизительно равны для каждого класса\n",
    "\n",
    "&alpha; = 0.05\n",
    "\n",
    "pval < &alpha; -> отвергаем H0, матрицы не равны.\n"
   ],
   "metadata": {
    "id": "AE-KY0iDpDqZ"
   }
  },
  {
   "cell_type": "markdown",
   "source": [
    "Пункт 24"
   ],
   "metadata": {
    "id": "njd5CQhlpG7T"
   }
  },
  {
   "cell_type": "code",
   "source": [
    "pg.pairwise_corr(data, columns=['preg', 'plas', 'pres', 'skin', 'test', 'mass', 'pedi', 'age'], method='pearson')"
   ],
   "metadata": {
    "colab": {
     "base_uri": "https://localhost:8080/",
     "height": 927
    },
    "id": "osjWddtspGM-",
    "outputId": "b20313a5-8304-4d9f-f7ac-eae410fbb5ba",
    "ExecuteTime": {
     "end_time": "2023-12-01T07:24:48.579919Z",
     "start_time": "2023-12-01T07:24:48.231458Z"
    }
   },
   "execution_count": 29,
   "outputs": [
    {
     "data": {
      "text/plain": "       X     Y   method alternative    n         r           CI95%  \\\n0   preg  plas  pearson   two-sided  768  0.129459     [0.06, 0.2]   \n1   preg  pres  pearson   two-sided  768  0.141282    [0.07, 0.21]   \n2   preg  skin  pearson   two-sided  768 -0.081672  [-0.15, -0.01]   \n3   preg  test  pearson   two-sided  768 -0.073535   [-0.14, -0.0]   \n4   preg  mass  pearson   two-sided  768  0.017683   [-0.05, 0.09]   \n5   preg  pedi  pearson   two-sided  768 -0.033523    [-0.1, 0.04]   \n6   preg   age  pearson   two-sided  768  0.544341    [0.49, 0.59]   \n7   plas  pres  pearson   two-sided  768  0.152590    [0.08, 0.22]   \n8   plas  skin  pearson   two-sided  768  0.057328   [-0.01, 0.13]   \n9   plas  test  pearson   two-sided  768  0.331357    [0.27, 0.39]   \n10  plas  mass  pearson   two-sided  768  0.221071    [0.15, 0.29]   \n11  plas  pedi  pearson   two-sided  768  0.137337    [0.07, 0.21]   \n12  plas   age  pearson   two-sided  768  0.263514     [0.2, 0.33]   \n13  pres  skin  pearson   two-sided  768  0.207371    [0.14, 0.27]   \n14  pres  test  pearson   two-sided  768  0.088933    [0.02, 0.16]   \n15  pres  mass  pearson   two-sided  768  0.281805    [0.22, 0.35]   \n16  pres  pedi  pearson   two-sided  768  0.041265   [-0.03, 0.11]   \n17  pres   age  pearson   two-sided  768  0.239528    [0.17, 0.31]   \n18  skin  test  pearson   two-sided  768  0.436783    [0.38, 0.49]   \n19  skin  mass  pearson   two-sided  768  0.392573    [0.33, 0.45]   \n20  skin  pedi  pearson   two-sided  768  0.183928    [0.11, 0.25]   \n21  skin   age  pearson   two-sided  768 -0.113970  [-0.18, -0.04]   \n22  test  mass  pearson   two-sided  768  0.197859    [0.13, 0.26]   \n23  test  pedi  pearson   two-sided  768  0.185071    [0.12, 0.25]   \n24  test   age  pearson   two-sided  768 -0.042163   [-0.11, 0.03]   \n25  mass  pedi  pearson   two-sided  768  0.140647    [0.07, 0.21]   \n26  mass   age  pearson   two-sided  768  0.036242   [-0.03, 0.11]   \n27  pedi   age  pearson   two-sided  768  0.033561    [-0.04, 0.1]   \n\n           p-unc       BF10     power  \n0   3.219491e-04     28.791  0.949814  \n1   8.541846e-05    100.059  0.975945  \n2   2.360795e-02      0.583  0.619944  \n3   4.162094e-02      0.359  0.531407  \n4   6.246376e-01      0.051  0.077839  \n5   3.535346e-01      0.069  0.152973  \n6   1.862813e-60   9.03e+56  1.000000  \n7   2.169507e-05    366.214  0.989169  \n8   1.124141e-01      0.159  0.355230  \n9   3.882624e-21  8.929e+17  1.000000  \n10  5.891413e-10  9.293e+06  0.999990  \n11  1.345878e-04     65.209  0.968913  \n12  1.150112e-13  3.936e+10  1.000000  \n13  6.606687e-09   8.86e+05  0.999944  \n14  1.368350e-02      0.939  0.694191  \n15  1.737888e-15  2.415e+12  1.000000  \n16  2.533744e-01      0.087  0.207803  \n17  1.752051e-11  2.869e+08  0.999999  \n18  4.043577e-37  5.944e+33  1.000000  \n19  1.054876e-29  2.645e+26  1.000000  \n20  2.856179e-07  2.316e+04  0.999286  \n21  1.558278e-03      6.673  0.886463  \n22  3.219695e-08  1.908e+05  0.999834  \n23  2.402264e-07  2.737e+04  0.999363  \n24  2.431822e-01      0.089  0.214909  \n25  9.197970e-05     93.315  0.974912  \n26  3.158330e-01      0.075  0.170892  \n27  3.529797e-01       0.07  0.153217  ",
      "text/html": "<div>\n<style scoped>\n    .dataframe tbody tr th:only-of-type {\n        vertical-align: middle;\n    }\n\n    .dataframe tbody tr th {\n        vertical-align: top;\n    }\n\n    .dataframe thead th {\n        text-align: right;\n    }\n</style>\n<table border=\"1\" class=\"dataframe\">\n  <thead>\n    <tr style=\"text-align: right;\">\n      <th></th>\n      <th>X</th>\n      <th>Y</th>\n      <th>method</th>\n      <th>alternative</th>\n      <th>n</th>\n      <th>r</th>\n      <th>CI95%</th>\n      <th>p-unc</th>\n      <th>BF10</th>\n      <th>power</th>\n    </tr>\n  </thead>\n  <tbody>\n    <tr>\n      <th>0</th>\n      <td>preg</td>\n      <td>plas</td>\n      <td>pearson</td>\n      <td>two-sided</td>\n      <td>768</td>\n      <td>0.129459</td>\n      <td>[0.06, 0.2]</td>\n      <td>3.219491e-04</td>\n      <td>28.791</td>\n      <td>0.949814</td>\n    </tr>\n    <tr>\n      <th>1</th>\n      <td>preg</td>\n      <td>pres</td>\n      <td>pearson</td>\n      <td>two-sided</td>\n      <td>768</td>\n      <td>0.141282</td>\n      <td>[0.07, 0.21]</td>\n      <td>8.541846e-05</td>\n      <td>100.059</td>\n      <td>0.975945</td>\n    </tr>\n    <tr>\n      <th>2</th>\n      <td>preg</td>\n      <td>skin</td>\n      <td>pearson</td>\n      <td>two-sided</td>\n      <td>768</td>\n      <td>-0.081672</td>\n      <td>[-0.15, -0.01]</td>\n      <td>2.360795e-02</td>\n      <td>0.583</td>\n      <td>0.619944</td>\n    </tr>\n    <tr>\n      <th>3</th>\n      <td>preg</td>\n      <td>test</td>\n      <td>pearson</td>\n      <td>two-sided</td>\n      <td>768</td>\n      <td>-0.073535</td>\n      <td>[-0.14, -0.0]</td>\n      <td>4.162094e-02</td>\n      <td>0.359</td>\n      <td>0.531407</td>\n    </tr>\n    <tr>\n      <th>4</th>\n      <td>preg</td>\n      <td>mass</td>\n      <td>pearson</td>\n      <td>two-sided</td>\n      <td>768</td>\n      <td>0.017683</td>\n      <td>[-0.05, 0.09]</td>\n      <td>6.246376e-01</td>\n      <td>0.051</td>\n      <td>0.077839</td>\n    </tr>\n    <tr>\n      <th>5</th>\n      <td>preg</td>\n      <td>pedi</td>\n      <td>pearson</td>\n      <td>two-sided</td>\n      <td>768</td>\n      <td>-0.033523</td>\n      <td>[-0.1, 0.04]</td>\n      <td>3.535346e-01</td>\n      <td>0.069</td>\n      <td>0.152973</td>\n    </tr>\n    <tr>\n      <th>6</th>\n      <td>preg</td>\n      <td>age</td>\n      <td>pearson</td>\n      <td>two-sided</td>\n      <td>768</td>\n      <td>0.544341</td>\n      <td>[0.49, 0.59]</td>\n      <td>1.862813e-60</td>\n      <td>9.03e+56</td>\n      <td>1.000000</td>\n    </tr>\n    <tr>\n      <th>7</th>\n      <td>plas</td>\n      <td>pres</td>\n      <td>pearson</td>\n      <td>two-sided</td>\n      <td>768</td>\n      <td>0.152590</td>\n      <td>[0.08, 0.22]</td>\n      <td>2.169507e-05</td>\n      <td>366.214</td>\n      <td>0.989169</td>\n    </tr>\n    <tr>\n      <th>8</th>\n      <td>plas</td>\n      <td>skin</td>\n      <td>pearson</td>\n      <td>two-sided</td>\n      <td>768</td>\n      <td>0.057328</td>\n      <td>[-0.01, 0.13]</td>\n      <td>1.124141e-01</td>\n      <td>0.159</td>\n      <td>0.355230</td>\n    </tr>\n    <tr>\n      <th>9</th>\n      <td>plas</td>\n      <td>test</td>\n      <td>pearson</td>\n      <td>two-sided</td>\n      <td>768</td>\n      <td>0.331357</td>\n      <td>[0.27, 0.39]</td>\n      <td>3.882624e-21</td>\n      <td>8.929e+17</td>\n      <td>1.000000</td>\n    </tr>\n    <tr>\n      <th>10</th>\n      <td>plas</td>\n      <td>mass</td>\n      <td>pearson</td>\n      <td>two-sided</td>\n      <td>768</td>\n      <td>0.221071</td>\n      <td>[0.15, 0.29]</td>\n      <td>5.891413e-10</td>\n      <td>9.293e+06</td>\n      <td>0.999990</td>\n    </tr>\n    <tr>\n      <th>11</th>\n      <td>plas</td>\n      <td>pedi</td>\n      <td>pearson</td>\n      <td>two-sided</td>\n      <td>768</td>\n      <td>0.137337</td>\n      <td>[0.07, 0.21]</td>\n      <td>1.345878e-04</td>\n      <td>65.209</td>\n      <td>0.968913</td>\n    </tr>\n    <tr>\n      <th>12</th>\n      <td>plas</td>\n      <td>age</td>\n      <td>pearson</td>\n      <td>two-sided</td>\n      <td>768</td>\n      <td>0.263514</td>\n      <td>[0.2, 0.33]</td>\n      <td>1.150112e-13</td>\n      <td>3.936e+10</td>\n      <td>1.000000</td>\n    </tr>\n    <tr>\n      <th>13</th>\n      <td>pres</td>\n      <td>skin</td>\n      <td>pearson</td>\n      <td>two-sided</td>\n      <td>768</td>\n      <td>0.207371</td>\n      <td>[0.14, 0.27]</td>\n      <td>6.606687e-09</td>\n      <td>8.86e+05</td>\n      <td>0.999944</td>\n    </tr>\n    <tr>\n      <th>14</th>\n      <td>pres</td>\n      <td>test</td>\n      <td>pearson</td>\n      <td>two-sided</td>\n      <td>768</td>\n      <td>0.088933</td>\n      <td>[0.02, 0.16]</td>\n      <td>1.368350e-02</td>\n      <td>0.939</td>\n      <td>0.694191</td>\n    </tr>\n    <tr>\n      <th>15</th>\n      <td>pres</td>\n      <td>mass</td>\n      <td>pearson</td>\n      <td>two-sided</td>\n      <td>768</td>\n      <td>0.281805</td>\n      <td>[0.22, 0.35]</td>\n      <td>1.737888e-15</td>\n      <td>2.415e+12</td>\n      <td>1.000000</td>\n    </tr>\n    <tr>\n      <th>16</th>\n      <td>pres</td>\n      <td>pedi</td>\n      <td>pearson</td>\n      <td>two-sided</td>\n      <td>768</td>\n      <td>0.041265</td>\n      <td>[-0.03, 0.11]</td>\n      <td>2.533744e-01</td>\n      <td>0.087</td>\n      <td>0.207803</td>\n    </tr>\n    <tr>\n      <th>17</th>\n      <td>pres</td>\n      <td>age</td>\n      <td>pearson</td>\n      <td>two-sided</td>\n      <td>768</td>\n      <td>0.239528</td>\n      <td>[0.17, 0.31]</td>\n      <td>1.752051e-11</td>\n      <td>2.869e+08</td>\n      <td>0.999999</td>\n    </tr>\n    <tr>\n      <th>18</th>\n      <td>skin</td>\n      <td>test</td>\n      <td>pearson</td>\n      <td>two-sided</td>\n      <td>768</td>\n      <td>0.436783</td>\n      <td>[0.38, 0.49]</td>\n      <td>4.043577e-37</td>\n      <td>5.944e+33</td>\n      <td>1.000000</td>\n    </tr>\n    <tr>\n      <th>19</th>\n      <td>skin</td>\n      <td>mass</td>\n      <td>pearson</td>\n      <td>two-sided</td>\n      <td>768</td>\n      <td>0.392573</td>\n      <td>[0.33, 0.45]</td>\n      <td>1.054876e-29</td>\n      <td>2.645e+26</td>\n      <td>1.000000</td>\n    </tr>\n    <tr>\n      <th>20</th>\n      <td>skin</td>\n      <td>pedi</td>\n      <td>pearson</td>\n      <td>two-sided</td>\n      <td>768</td>\n      <td>0.183928</td>\n      <td>[0.11, 0.25]</td>\n      <td>2.856179e-07</td>\n      <td>2.316e+04</td>\n      <td>0.999286</td>\n    </tr>\n    <tr>\n      <th>21</th>\n      <td>skin</td>\n      <td>age</td>\n      <td>pearson</td>\n      <td>two-sided</td>\n      <td>768</td>\n      <td>-0.113970</td>\n      <td>[-0.18, -0.04]</td>\n      <td>1.558278e-03</td>\n      <td>6.673</td>\n      <td>0.886463</td>\n    </tr>\n    <tr>\n      <th>22</th>\n      <td>test</td>\n      <td>mass</td>\n      <td>pearson</td>\n      <td>two-sided</td>\n      <td>768</td>\n      <td>0.197859</td>\n      <td>[0.13, 0.26]</td>\n      <td>3.219695e-08</td>\n      <td>1.908e+05</td>\n      <td>0.999834</td>\n    </tr>\n    <tr>\n      <th>23</th>\n      <td>test</td>\n      <td>pedi</td>\n      <td>pearson</td>\n      <td>two-sided</td>\n      <td>768</td>\n      <td>0.185071</td>\n      <td>[0.12, 0.25]</td>\n      <td>2.402264e-07</td>\n      <td>2.737e+04</td>\n      <td>0.999363</td>\n    </tr>\n    <tr>\n      <th>24</th>\n      <td>test</td>\n      <td>age</td>\n      <td>pearson</td>\n      <td>two-sided</td>\n      <td>768</td>\n      <td>-0.042163</td>\n      <td>[-0.11, 0.03]</td>\n      <td>2.431822e-01</td>\n      <td>0.089</td>\n      <td>0.214909</td>\n    </tr>\n    <tr>\n      <th>25</th>\n      <td>mass</td>\n      <td>pedi</td>\n      <td>pearson</td>\n      <td>two-sided</td>\n      <td>768</td>\n      <td>0.140647</td>\n      <td>[0.07, 0.21]</td>\n      <td>9.197970e-05</td>\n      <td>93.315</td>\n      <td>0.974912</td>\n    </tr>\n    <tr>\n      <th>26</th>\n      <td>mass</td>\n      <td>age</td>\n      <td>pearson</td>\n      <td>two-sided</td>\n      <td>768</td>\n      <td>0.036242</td>\n      <td>[-0.03, 0.11]</td>\n      <td>3.158330e-01</td>\n      <td>0.075</td>\n      <td>0.170892</td>\n    </tr>\n    <tr>\n      <th>27</th>\n      <td>pedi</td>\n      <td>age</td>\n      <td>pearson</td>\n      <td>two-sided</td>\n      <td>768</td>\n      <td>0.033561</td>\n      <td>[-0.04, 0.1]</td>\n      <td>3.529797e-01</td>\n      <td>0.07</td>\n      <td>0.153217</td>\n    </tr>\n  </tbody>\n</table>\n</div>"
     },
     "execution_count": 29,
     "metadata": {},
     "output_type": "execute_result"
    }
   ]
  },
  {
   "cell_type": "markdown",
   "source": [
    "pval > 0.05 в следующих парах: 4, 5, 8, 16, 24, 26, 27. Следовательно, в этих парах можно наблюдать линейную независимость (H0 подтверждается), в остальных случаях будет присутствовать линейная зависимость (H0 отвергается)\n"
   ],
   "metadata": {
    "id": "0Ew65x8HpSaq"
   }
  },
  {
   "cell_type": "markdown",
   "source": [
    "Пункт 25\n",
    "\n",
    "Дискриминантный анализ не представляется возможным, из-за отсутствия нормального распределения каждого класса, а также наличия линейно зависимых пар."
   ],
   "metadata": {
    "id": "MhK1qgo9pVz1"
   }
  },
  {
   "cell_type": "markdown",
   "source": [
    "Пункты 26-28"
   ],
   "metadata": {
    "id": "FOet8kD4peYz"
   }
  },
  {
   "cell_type": "code",
   "source": [
    "model3 = skda.LinearDiscriminantAnalysis()\n",
    "result_cv3 = skms.cross_val_score(model3, x, y, cv=kfold)\n",
    "print(result_cv3.mean(), result_cv3.std())"
   ],
   "metadata": {
    "colab": {
     "base_uri": "https://localhost:8080/"
    },
    "id": "jju1kX6IpH4_",
    "outputId": "9466b5a3-adaf-4a33-ae53-194a6c1fd2e2",
    "ExecuteTime": {
     "end_time": "2023-12-01T07:24:48.649359Z",
     "start_time": "2023-12-01T07:24:48.465397Z"
    }
   },
   "execution_count": 30,
   "outputs": [
    {
     "name": "stdout",
     "output_type": "stream",
     "text": [
      "0.7669685577580315 0.04796563054016723\n"
     ]
    }
   ]
  },
  {
   "cell_type": "markdown",
   "source": [
    "Пункты 29-31"
   ],
   "metadata": {
    "id": "MPP2gmBUwWpP"
   }
  },
  {
   "cell_type": "code",
   "source": [
    "model3.fit(x, y)\n",
    "print(model3.predict(x_new))\n",
    "print(model3.predict_proba(x_new))"
   ],
   "metadata": {
    "colab": {
     "base_uri": "https://localhost:8080/"
    },
    "id": "1oagms_HwY8n",
    "outputId": "d25bcecc-84cc-4425-8a6b-dc1036c1a810",
    "ExecuteTime": {
     "end_time": "2023-12-01T07:24:48.650748Z",
     "start_time": "2023-12-01T07:24:48.519548Z"
    }
   },
   "execution_count": 31,
   "outputs": [
    {
     "name": "stdout",
     "output_type": "stream",
     "text": [
      "[1. 1.]\n",
      "[[0.13996295 0.86003705]\n",
      " [0.10537183 0.89462817]]\n"
     ]
    }
   ]
  },
  {
   "cell_type": "markdown",
   "source": [
    "Пункт 32"
   ],
   "metadata": {
    "id": "G0Yn3vT2xRnw"
   }
  },
  {
   "cell_type": "code",
   "source": [
    "print(model3.transform(x)[:5])"
   ],
   "metadata": {
    "colab": {
     "base_uri": "https://localhost:8080/"
    },
    "id": "JxDekY8_xPh5",
    "outputId": "d7f40039-c620-4edf-dd8e-5dfa5b5b2ade",
    "ExecuteTime": {
     "end_time": "2023-12-01T07:24:48.651429Z",
     "start_time": "2023-12-01T07:24:48.529916Z"
    }
   },
   "execution_count": 32,
   "outputs": [
    {
     "name": "stdout",
     "output_type": "stream",
     "text": [
      "[[ 1.38024702]\n",
      " [-1.56452399]\n",
      " [ 1.76618515]\n",
      " [-1.69058752]\n",
      " [ 2.20726804]]\n"
     ]
    }
   ]
  },
  {
   "cell_type": "markdown",
   "source": [
    "Пункт 33"
   ],
   "metadata": {
    "id": "ahU0koufxTMv"
   }
  },
  {
   "cell_type": "code",
   "source": [
    "print(model3.fit_transform(x, y)[:5])"
   ],
   "metadata": {
    "colab": {
     "base_uri": "https://localhost:8080/"
    },
    "id": "vIeLwgg2xUIH",
    "outputId": "5de7ae8c-1c94-4cc9-b8a7-b256706bcbb9",
    "ExecuteTime": {
     "end_time": "2023-12-01T07:24:48.652043Z",
     "start_time": "2023-12-01T07:24:48.540870Z"
    }
   },
   "execution_count": 33,
   "outputs": [
    {
     "name": "stdout",
     "output_type": "stream",
     "text": [
      "[[ 1.38024702]\n",
      " [-1.56452399]\n",
      " [ 1.76618515]\n",
      " [-1.69058752]\n",
      " [ 2.20726804]]\n"
     ]
    }
   ]
  }
 ]
}
