{
 "nbformat": 4,
 "nbformat_minor": 0,
 "metadata": {
  "colab": {
   "provenance": []
  },
  "kernelspec": {
   "name": "python3",
   "display_name": "Python 3 (ipykernel)",
   "language": "python"
  },
  "language_info": {
   "name": "python"
  }
 },
 "cells": [
  {
   "cell_type": "markdown",
   "source": [
    "**1**"
   ],
   "metadata": {
    "id": "lisxUkSEZMir"
   }
  },
  {
   "cell_type": "code",
   "metadata": {
    "colab": {
     "base_uri": "https://localhost:8080/"
    },
    "id": "P4YPvf_zZD1B",
    "outputId": "c062217b-a705-4422-d797-67380157c275",
    "ExecuteTime": {
     "end_time": "2024-05-17T09:50:34.693593Z",
     "start_time": "2024-05-17T09:50:34.685168Z"
    }
   },
   "source": [
    "import pandas as pd\n",
    "\n",
    "df = pd.DataFrame({\n",
    "    'client_id': [1, 10, 12, 43, 100],\n",
    "    'sex': [0, 1, 0, 0, 1],\n",
    "    'wealth': ['medium', 'high', 'low', 'medium', 'high'],\n",
    "    'age': [36, 43, 56, 23, 30]\n",
    "})\n",
    "\n",
    "medium_35 = df[(df['wealth'] == 'medium') & (df['age'] > 35)]\n",
    "print(medium_35)"
   ],
   "outputs": [
    {
     "name": "stdout",
     "output_type": "stream",
     "text": [
      "   client_id  sex  wealth  age\n",
      "0          1    0  medium   36\n"
     ]
    }
   ],
   "execution_count": 11
  },
  {
   "cell_type": "markdown",
   "source": [
    "**2**"
   ],
   "metadata": {
    "id": "_fx0Ts3hZXd0"
   }
  },
  {
   "cell_type": "code",
   "source": [
    "df['older_than_30'] = df['age'] > 30"
   ],
   "metadata": {
    "id": "p4Qc2htWZYfT",
    "ExecuteTime": {
     "end_time": "2024-05-17T09:50:34.740349Z",
     "start_time": "2024-05-17T09:50:34.734525Z"
    }
   },
   "outputs": [],
   "execution_count": 12
  },
  {
   "cell_type": "markdown",
   "source": [
    "**3**"
   ],
   "metadata": {
    "id": "tbfrvfbPZk4L"
   }
  },
  {
   "cell_type": "code",
   "source": [
    "df.nunique()"
   ],
   "metadata": {
    "colab": {
     "base_uri": "https://localhost:8080/"
    },
    "id": "tlm2BWmJZl6t",
    "outputId": "11a4196d-525b-4631-d76e-c86b24a37139",
    "ExecuteTime": {
     "end_time": "2024-05-17T09:50:34.768186Z",
     "start_time": "2024-05-17T09:50:34.758129Z"
    }
   },
   "outputs": [
    {
     "data": {
      "text/plain": [
       "client_id        5\n",
       "sex              2\n",
       "wealth           3\n",
       "age              5\n",
       "older_than_30    2\n",
       "dtype: int64"
      ]
     },
     "execution_count": 13,
     "metadata": {},
     "output_type": "execute_result"
    }
   ],
   "execution_count": 13
  },
  {
   "cell_type": "markdown",
   "source": [
    "**4**"
   ],
   "metadata": {
    "id": "oUFyNCG9Zt86"
   }
  },
  {
   "cell_type": "code",
   "source": [
    "data = pd.DataFrame({\n",
    "    'client_id': [1, 5, 10],\n",
    "    'amount': [100, 300, 9000],\n",
    "    'date': [37527274725475, 3284284682364, 2342864826482]\n",
    "})\n",
    "\n",
    "new_data = df.merge(data, on='client_id', how='inner')\n",
    "print(new_data)"
   ],
   "metadata": {
    "colab": {
     "base_uri": "https://localhost:8080/"
    },
    "id": "nSkkizSjZu9a",
    "outputId": "56e51c37-5731-40e6-d9b1-bf18489c6ff5",
    "ExecuteTime": {
     "end_time": "2024-05-17T09:50:34.831512Z",
     "start_time": "2024-05-17T09:50:34.817305Z"
    }
   },
   "outputs": [
    {
     "name": "stdout",
     "output_type": "stream",
     "text": [
      "   client_id  sex  wealth  age  older_than_30  amount            date\n",
      "0          1    0  medium   36           True     100  37527274725475\n",
      "1         10    1    high   43           True    9000   2342864826482\n"
     ]
    }
   ],
   "execution_count": 14
  },
  {
   "cell_type": "markdown",
   "source": [
    "**5**"
   ],
   "metadata": {
    "id": "Q07tCHwraArw"
   }
  },
  {
   "cell_type": "code",
   "source": [
    "def read_n_agg(url):\n",
    "    df = pd.read_csv(url, sep=';', compression=\"zip\")\n",
    "    result = df.groupby('company')['income'].mean()\n",
    "    return result\n",
    "\n",
    "\n",
    "url = \"https://github.com/dm-fedorov/pandas_basic/blob/master/data/companies.csv.zip?raw=True\"\n",
    "print(read_n_agg(url))"
   ],
   "metadata": {
    "colab": {
     "base_uri": "https://localhost:8080/"
    },
    "id": "VFEw428caBo6",
    "outputId": "628a3790-6831-47c6-9bb7-b59654c33fda",
    "ExecuteTime": {
     "end_time": "2024-05-17T09:50:35.326986Z",
     "start_time": "2024-05-17T09:50:34.885417Z"
    }
   },
   "outputs": [
    {
     "name": "stdout",
     "output_type": "stream",
     "text": [
      "company\n",
      "En +                                        9.962187e+10\n",
      "АО «Александрова, Савельев и Мельникова»    7.206782e+10\n",
      "АО «Андреев-Анисимов»                       6.931948e+09\n",
      "АО «Андреев-Макарова»                       8.934380e+10\n",
      "АО «Большаков Кошелева»                     7.860861e+10\n",
      "                                                ...     \n",
      "Щекиноазот                                  4.309092e+10\n",
      "Щукин Лимитед                               6.703036e+10\n",
      "Эйвон Бьюти Продактс Компани (Avon)         2.503657e+10\n",
      "Яковлева Инкорпорэйтед                      3.523436e+10\n",
      "Якушев Лимитед                              3.876468e+10\n",
      "Name: income, Length: 289, dtype: float64\n"
     ]
    }
   ],
   "execution_count": 15
  },
  {
   "cell_type": "markdown",
   "source": [
    "**6**"
   ],
   "metadata": {
    "id": "muCVHN79ablq"
   }
  },
  {
   "cell_type": "code",
   "source": [
    "url = \"https://github.com/dm-fedorov/pandas_basic/blob/master/data/taxi_peru.csv.zip?raw=True\"\n",
    "taxi = pd.read_csv(url, sep=';', parse_dates=['start_at', 'end_at', 'arrived_at'], compression='zip')\n",
    "#taxi"
   ],
   "metadata": {
    "id": "GhaXK-BhadLp",
    "ExecuteTime": {
     "end_time": "2024-05-17T09:50:36.217664Z",
     "start_time": "2024-05-17T09:50:35.330438Z"
    }
   },
   "outputs": [],
   "execution_count": 16
  },
  {
   "cell_type": "markdown",
   "source": [
    "**7**"
   ],
   "metadata": {
    "id": "5SHR1lnBa2d1"
   }
  },
  {
   "cell_type": "code",
   "source": [
    "taxi['source'].value_counts().idxmax()"
   ],
   "metadata": {
    "colab": {
     "base_uri": "https://localhost:8080/",
     "height": 36
    },
    "id": "PPqqlzA7a3gO",
    "outputId": "c0e440e7-d349-4344-9d38-0616f3755b41",
    "ExecuteTime": {
     "end_time": "2024-05-17T09:50:36.228671Z",
     "start_time": "2024-05-17T09:50:36.219638Z"
    }
   },
   "outputs": [
    {
     "data": {
      "text/plain": [
       "'iPhone'"
      ]
     },
     "execution_count": 17,
     "metadata": {},
     "output_type": "execute_result"
    }
   ],
   "execution_count": 17
  },
  {
   "cell_type": "markdown",
   "source": [
    "**8**"
   ],
   "metadata": {
    "id": "SLUb5dZ_a8dp"
   }
  },
  {
   "cell_type": "code",
   "source": [
    "driver_score_counts = taxi['driver_score'].value_counts(normalize=True).mul(100).round(2).reset_index()\n",
    "driver_score_counts.columns = ['driver_score', 'percentage']\n",
    "driver_score_counts = driver_score_counts.sort_values('driver_score')\n",
    "print(driver_score_counts)"
   ],
   "metadata": {
    "colab": {
     "base_uri": "https://localhost:8080/"
    },
    "id": "xSqvuzzobDDq",
    "outputId": "c8afe0e3-57e2-4f9e-ca0e-34a157e55596",
    "ExecuteTime": {
     "end_time": "2024-05-17T09:50:36.247936Z",
     "start_time": "2024-05-17T09:50:36.236027Z"
    }
   },
   "outputs": [
    {
     "name": "stdout",
     "output_type": "stream",
     "text": [
      "   driver_score  percentage\n",
      "2           0.0       14.30\n",
      "4           1.0        1.23\n",
      "5           2.0        0.81\n",
      "3           3.0        2.97\n",
      "1           4.0       21.88\n",
      "0           5.0       58.81\n"
     ]
    }
   ],
   "execution_count": 18
  },
  {
   "cell_type": "markdown",
   "source": [
    "**9**"
   ],
   "metadata": {
    "id": "GMNOOv2AbEWY"
   }
  },
  {
   "cell_type": "code",
   "source": [
    "import seaborn as sns\n",
    "import matplotlib.pyplot as plt\n",
    "\n",
    "ax = sns.barplot(x='driver_score', y='percentage', data=driver_score_counts, color='blue', alpha=0.5)\n",
    "ax.set(xlabel='Driver score', ylabel='Percentage')\n",
    "sns.despine()  # убрать часть рамки графика\n",
    "plt.show()"
   ],
   "metadata": {
    "colab": {
     "base_uri": "https://localhost:8080/",
     "height": 449
    },
    "id": "A6tHraBIbHHG",
    "outputId": "1847d060-3160-4b4c-d6a6-6d5af2c2a44f",
    "ExecuteTime": {
     "end_time": "2024-05-17T09:50:36.500615Z",
     "start_time": "2024-05-17T09:50:36.249970Z"
    }
   },
   "outputs": [
    {
     "name": "stderr",
     "output_type": "stream",
     "text": [
      "/Users/admin/PycharmProjects/data_analysis/venv/lib/python3.11/site-packages/seaborn/_oldcore.py:1498: FutureWarning: is_categorical_dtype is deprecated and will be removed in a future version. Use isinstance(dtype, CategoricalDtype) instead\n",
      "  if pd.api.types.is_categorical_dtype(vector):\n",
      "/Users/admin/PycharmProjects/data_analysis/venv/lib/python3.11/site-packages/seaborn/_oldcore.py:1498: FutureWarning: is_categorical_dtype is deprecated and will be removed in a future version. Use isinstance(dtype, CategoricalDtype) instead\n",
      "  if pd.api.types.is_categorical_dtype(vector):\n",
      "/Users/admin/PycharmProjects/data_analysis/venv/lib/python3.11/site-packages/seaborn/_oldcore.py:1498: FutureWarning: is_categorical_dtype is deprecated and will be removed in a future version. Use isinstance(dtype, CategoricalDtype) instead\n",
      "  if pd.api.types.is_categorical_dtype(vector):\n"
     ]
    },
    {
     "data": {
      "text/plain": [
       "<Figure size 640x480 with 1 Axes>"
      ],
      "image/png": "[encoded data removed]"
     },
     "metadata": {},
     "output_type": "display_data"
    }
   ],
   "execution_count": 19
  },
  {
   "cell_type": "markdown",
   "source": [
    "**10**"
   ],
   "metadata": {
    "id": "Q2GAkRSNbVm7"
   }
  },
  {
   "cell_type": "code",
   "source": [
    "rider_score_counts = taxi['rider_score'].value_counts(normalize=True).mul(100).round(2).reset_index()\n",
    "rider_score_counts.columns = ['rider_score', 'percentage']\n",
    "rider_score_counts = rider_score_counts.sort_values('rider_score')\n",
    "print(rider_score_counts)\n",
    "\n",
    "ax = sns.barplot(x='rider_score', y='percentage', data=rider_score_counts, color='red', alpha=0.5)\n",
    "ax.set(xlabel='Rider score', ylabel='Percentage')\n",
    "sns.despine()  # убрать часть рамки графика\n",
    "plt.show()"
   ],
   "metadata": {
    "colab": {
     "base_uri": "https://localhost:8080/",
     "height": 570
    },
    "id": "SjLsLiIobU5o",
    "outputId": "0ce747c2-5710-42b2-aa7d-479fa063c446",
    "ExecuteTime": {
     "end_time": "2024-05-17T09:50:36.716287Z",
     "start_time": "2024-05-17T09:50:36.502433Z"
    }
   },
   "outputs": [
    {
     "name": "stdout",
     "output_type": "stream",
     "text": [
      "   rider_score  percentage\n",
      "2          0.0        2.29\n",
      "4          1.0        0.21\n",
      "5          2.0        0.19\n",
      "3          3.0        1.38\n",
      "1          4.0        8.83\n",
      "0          5.0       87.10\n"
     ]
    },
    {
     "name": "stderr",
     "output_type": "stream",
     "text": [
      "/Users/admin/PycharmProjects/data_analysis/venv/lib/python3.11/site-packages/seaborn/_oldcore.py:1498: FutureWarning: is_categorical_dtype is deprecated and will be removed in a future version. Use isinstance(dtype, CategoricalDtype) instead\n",
      "  if pd.api.types.is_categorical_dtype(vector):\n",
      "/Users/admin/PycharmProjects/data_analysis/venv/lib/python3.11/site-packages/seaborn/_oldcore.py:1498: FutureWarning: is_categorical_dtype is deprecated and will be removed in a future version. Use isinstance(dtype, CategoricalDtype) instead\n",
      "  if pd.api.types.is_categorical_dtype(vector):\n",
      "/Users/admin/PycharmProjects/data_analysis/venv/lib/python3.11/site-packages/seaborn/_oldcore.py:1498: FutureWarning: is_categorical_dtype is deprecated and will be removed in a future version. Use isinstance(dtype, CategoricalDtype) instead\n",
      "  if pd.api.types.is_categorical_dtype(vector):\n"
     ]
    },
    {
     "data": {
      "text/plain": [
       "<Figure size 640x480 with 1 Axes>"
      ],
      "image/png": "[encoded data removed]"
     },
     "metadata": {},
     "output_type": "display_data"
    }
   ],
   "execution_count": 20
  }
 ]
}
