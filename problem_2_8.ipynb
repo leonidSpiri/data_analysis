{
 "nbformat": 4,
 "nbformat_minor": 0,
 "metadata": {
  "colab": {
   "provenance": []
  },
  "kernelspec": {
   "name": "python3",
   "display_name": "Python 3 (ipykernel)",
   "language": "python"
  },
  "language_info": {
   "name": "python"
  }
 },
 "cells": [
  {
   "cell_type": "markdown",
   "source": [
    "# Задание 8. Про вина"
   ],
   "metadata": {
    "id": "wFGY7keZGk4j"
   }
  },
  {
   "cell_type": "code",
   "metadata": {
    "colab": {
     "base_uri": "https://localhost:8080/",
     "height": 206
    },
    "id": "hfOdqsVjA5pO",
    "outputId": "14381c3f-2ad7-4240-d81a-10b2209a1194",
    "ExecuteTime": {
     "end_time": "2024-05-10T10:22:35.722426Z",
     "start_time": "2024-05-10T10:22:33.286829Z"
    }
   },
   "source": [
    "import pandas as pd\n",
    "\n",
    "df = pd.read_csv(\"https://raw.githubusercontent.com/dm-fedorov/pandas_basic/master/data/wine.csv\")\n",
    "df.head()"
   ],
   "outputs": [
    {
     "data": {
      "text/plain": [
       "  country                                        description designation  \\\n",
       "0      US  With a delicate, silky mouthfeel and bright ac...         NaN   \n",
       "1   Italy  D'Alceo is a drop dead gorgeous wine that ooze...     D'Alceo   \n",
       "2  France  The great dominance of Cabernet Sauvignon in t...         NaN   \n",
       "3   Italy  The modest cherry, dark berry and black tea no...         NaN   \n",
       "4      US  Exceedingly light in color, scent and flavor, ...         NaN   \n",
       "\n",
       "   points    price    province          region_1         region_2  \\\n",
       "0      86   € 23,0  California     Central Coast    Central Coast   \n",
       "1      96  € 275,0     Tuscany           Toscana              NaN   \n",
       "2      91   € 40,0    Bordeaux        Haut-Médoc              NaN   \n",
       "3      81   € 15,0     Tuscany  Chianti Classico              NaN   \n",
       "4      83   € 25,0      Oregon      Rogue Valley  Southern Oregon   \n",
       "\n",
       "                    variety                 winery  \n",
       "0                Pinot Noir        MacMurray Ranch  \n",
       "1                 Red Blend  Castello dei Rampolla  \n",
       "2  Bordeaux-style Red Blend     Château Bernadotte  \n",
       "3                Sangiovese                Valiano  \n",
       "4                Pinot Noir             Deer Creek  "
      ],
      "text/html": [
       "<div>\n",
       "<style scoped>\n",
       "    .dataframe tbody tr th:only-of-type {\n",
       "        vertical-align: middle;\n",
       "    }\n",
       "\n",
       "    .dataframe tbody tr th {\n",
       "        vertical-align: top;\n",
       "    }\n",
       "\n",
       "    .dataframe thead th {\n",
       "        text-align: right;\n",
       "    }\n",
       "</style>\n",
       "<table border=\"1\" class=\"dataframe\">\n",
       "  <thead>\n",
       "    <tr style=\"text-align: right;\">\n",
       "      <th></th>\n",
       "      <th>country</th>\n",
       "      <th>description</th>\n",
       "      <th>designation</th>\n",
       "      <th>points</th>\n",
       "      <th>price</th>\n",
       "      <th>province</th>\n",
       "      <th>region_1</th>\n",
       "      <th>region_2</th>\n",
       "      <th>variety</th>\n",
       "      <th>winery</th>\n",
       "    </tr>\n",
       "  </thead>\n",
       "  <tbody>\n",
       "    <tr>\n",
       "      <th>0</th>\n",
       "      <td>US</td>\n",
       "      <td>With a delicate, silky mouthfeel and bright ac...</td>\n",
       "      <td>NaN</td>\n",
       "      <td>86</td>\n",
       "      <td>€ 23,0</td>\n",
       "      <td>California</td>\n",
       "      <td>Central Coast</td>\n",
       "      <td>Central Coast</td>\n",
       "      <td>Pinot Noir</td>\n",
       "      <td>MacMurray Ranch</td>\n",
       "    </tr>\n",
       "    <tr>\n",
       "      <th>1</th>\n",
       "      <td>Italy</td>\n",
       "      <td>D'Alceo is a drop dead gorgeous wine that ooze...</td>\n",
       "      <td>D'Alceo</td>\n",
       "      <td>96</td>\n",
       "      <td>€ 275,0</td>\n",
       "      <td>Tuscany</td>\n",
       "      <td>Toscana</td>\n",
       "      <td>NaN</td>\n",
       "      <td>Red Blend</td>\n",
       "      <td>Castello dei Rampolla</td>\n",
       "    </tr>\n",
       "    <tr>\n",
       "      <th>2</th>\n",
       "      <td>France</td>\n",
       "      <td>The great dominance of Cabernet Sauvignon in t...</td>\n",
       "      <td>NaN</td>\n",
       "      <td>91</td>\n",
       "      <td>€ 40,0</td>\n",
       "      <td>Bordeaux</td>\n",
       "      <td>Haut-Médoc</td>\n",
       "      <td>NaN</td>\n",
       "      <td>Bordeaux-style Red Blend</td>\n",
       "      <td>Château Bernadotte</td>\n",
       "    </tr>\n",
       "    <tr>\n",
       "      <th>3</th>\n",
       "      <td>Italy</td>\n",
       "      <td>The modest cherry, dark berry and black tea no...</td>\n",
       "      <td>NaN</td>\n",
       "      <td>81</td>\n",
       "      <td>€ 15,0</td>\n",
       "      <td>Tuscany</td>\n",
       "      <td>Chianti Classico</td>\n",
       "      <td>NaN</td>\n",
       "      <td>Sangiovese</td>\n",
       "      <td>Valiano</td>\n",
       "    </tr>\n",
       "    <tr>\n",
       "      <th>4</th>\n",
       "      <td>US</td>\n",
       "      <td>Exceedingly light in color, scent and flavor, ...</td>\n",
       "      <td>NaN</td>\n",
       "      <td>83</td>\n",
       "      <td>€ 25,0</td>\n",
       "      <td>Oregon</td>\n",
       "      <td>Rogue Valley</td>\n",
       "      <td>Southern Oregon</td>\n",
       "      <td>Pinot Noir</td>\n",
       "      <td>Deer Creek</td>\n",
       "    </tr>\n",
       "  </tbody>\n",
       "</table>\n",
       "</div>"
      ]
     },
     "execution_count": 1,
     "metadata": {},
     "output_type": "execute_result"
    }
   ],
   "execution_count": 1
  },
  {
   "cell_type": "markdown",
   "metadata": {
    "id": "7H-9ySfuBmAM"
   },
   "source": [
    "## Задача 1\n",
    "\n",
    "Вина какой области (province) получают наилучшие рейтинги (points)?\n",
    "\n"
   ]
  },
  {
   "cell_type": "code",
   "metadata": {
    "id": "3gSuGrsaBphN",
    "colab": {
     "base_uri": "https://localhost:8080/"
    },
    "outputId": "0f911091-cc99-4f9a-8997-2efb6aa9643d",
    "ExecuteTime": {
     "end_time": "2024-05-10T10:22:36.760042Z",
     "start_time": "2024-05-10T10:22:35.727888Z"
    }
   },
   "source": [
    "# Загружаем датасет о винах\n",
    "wine_df = pd.read_csv(\"https://raw.githubusercontent.com/dm-fedorov/pandas_basic/master/data/wine.csv\")\n",
    "\n",
    "# Находим область (province) с наилучшими рейтингами\n",
    "best_province = wine_df.groupby('province')['points'].mean().idxmax()\n",
    "\n",
    "print(\"Область с наилучшими рейтингами:\", best_province)"
   ],
   "outputs": [
    {
     "name": "stdout",
     "output_type": "stream",
     "text": [
      "Область с наилучшими рейтингами: Martinborough Terrace\n"
     ]
    }
   ],
   "execution_count": 2
  },
  {
   "cell_type": "markdown",
   "metadata": {
    "id": "8cvMPFgDBwX9"
   },
   "source": [
    "## Задача 2\n",
    "\n",
    "На основе словаря `color` (`{\"variety\":  \"color\"}`) создайте столбец, в котором закодирован цвет вина."
   ]
  },
  {
   "cell_type": "code",
   "metadata": {
    "id": "FZwIo1rlBAqh",
    "ExecuteTime": {
     "end_time": "2024-05-10T10:22:36.768012Z",
     "start_time": "2024-05-10T10:22:36.762112Z"
    }
   },
   "source": [
    "color = {\n",
    "    \"Chardonnay\": \"white\",\n",
    "    \"Pinot Noir\": \"red\",\n",
    "    \"Cabernet Sauvignon\": \"red\",\n",
    "    \"Red Blend\": \"red\",\n",
    "    \"Bordeaux-style Red Blend\": \"red\",\n",
    "    \"Sauvignon Blanc\": \"white\",\n",
    "    \"Syrah\": \"red\",\n",
    "    \"Riesling\": \"white\",\n",
    "    \"Merlot\": \"red\",\n",
    "    \"Zinfandel\": \"red\",\n",
    "    \"Sangiovese\": \"red\",\n",
    "    \"Malbec\": \"red\",\n",
    "    \"White Blend\": \"white\",\n",
    "    \"Rosé\": \"other\",\n",
    "    \"Tempranillo\": \"red\",\n",
    "    \"Nebbiolo\": \"red\",\n",
    "    \"Portuguese Red\": \"red\",\n",
    "    \"Sparkling Blend\": \"other\",\n",
    "    \"Shiraz\": \"red\",\n",
    "    \"Corvina, Rondinella, Molinara\": \"red\",\n",
    "    \"Rhône-style Red Blend\": \"red\",\n",
    "    \"Barbera\": \"red\",\n",
    "    \"Pinot Gris\": \"white\",\n",
    "    \"Viognier\": \"white\",\n",
    "    \"Bordeaux-style White Blend\": \"white\",\n",
    "    \"Champagne Blend\": \"other\",\n",
    "    \"Port\": \"red\",\n",
    "    \"Grüner Veltliner\": \"white\",\n",
    "    \"Gewürztraminer\": \"white\",\n",
    "    \"Portuguese White\": \"white\",\n",
    "    \"Petite Sirah\": \"red\",\n",
    "    \"Carmenère\": \"red\"\n",
    "}"
   ],
   "outputs": [],
   "execution_count": 3
  },
  {
   "cell_type": "code",
   "metadata": {
    "id": "YqkUEdv4Bj_s",
    "colab": {
     "base_uri": "https://localhost:8080/"
    },
    "outputId": "034a8e91-03e9-4b68-a336-7e0f55ee77ca",
    "ExecuteTime": {
     "end_time": "2024-05-10T10:22:36.787503Z",
     "start_time": "2024-05-10T10:22:36.770882Z"
    }
   },
   "source": [
    "df['wine_color'] = df['variety'].map(color)\n",
    "\n",
    "# Выводим первые строки датасета с новым столбцом\n",
    "print(df.head())"
   ],
   "outputs": [
    {
     "name": "stdout",
     "output_type": "stream",
     "text": [
      "  country                                        description designation  \\\n",
      "0      US  With a delicate, silky mouthfeel and bright ac...         NaN   \n",
      "1   Italy  D'Alceo is a drop dead gorgeous wine that ooze...     D'Alceo   \n",
      "2  France  The great dominance of Cabernet Sauvignon in t...         NaN   \n",
      "3   Italy  The modest cherry, dark berry and black tea no...         NaN   \n",
      "4      US  Exceedingly light in color, scent and flavor, ...         NaN   \n",
      "\n",
      "   points    price    province          region_1         region_2  \\\n",
      "0      86   € 23,0  California     Central Coast    Central Coast   \n",
      "1      96  € 275,0     Tuscany           Toscana              NaN   \n",
      "2      91   € 40,0    Bordeaux        Haut-Médoc              NaN   \n",
      "3      81   € 15,0     Tuscany  Chianti Classico              NaN   \n",
      "4      83   € 25,0      Oregon      Rogue Valley  Southern Oregon   \n",
      "\n",
      "                    variety                 winery wine_color  \n",
      "0                Pinot Noir        MacMurray Ranch        red  \n",
      "1                 Red Blend  Castello dei Rampolla        red  \n",
      "2  Bordeaux-style Red Blend     Château Bernadotte        red  \n",
      "3                Sangiovese                Valiano        red  \n",
      "4                Pinot Noir             Deer Creek        red  \n"
     ]
    }
   ],
   "execution_count": 4
  }
 ]
}
