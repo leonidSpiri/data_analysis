{
 "nbformat": 4,
 "nbformat_minor": 0,
 "metadata": {
  "kernelspec": {
   "display_name": "Python 3",
   "language": "python",
   "name": "python3"
  },
  "language_info": {
   "codemirror_mode": {
    "name": "ipython",
    "version": 3
   },
   "file_extension": ".py",
   "mimetype": "text/x-python",
   "name": "python",
   "nbconvert_exporter": "python",
   "pygments_lexer": "ipython3",
   "version": "3.8.3"
  },
  "colab": {
   "provenance": []
  }
 },
 "cells": [
  {
   "cell_type": "markdown",
   "source": [
    "Теория:\n",
    "\n",
    "8.Категориальные данные и расчет количества их значений:\n",
    "https://docs.google.com/presentation/d/1EjSMPiCt8gC1Ihm_-nyv6n-djVlmgw3cCkxJoOyEWaI/edit#slide=id.ge223911f22_0_175\n",
    "\n"
   ],
   "metadata": {
    "id": "gXHku8H_BjE0"
   }
  },
  {
   "cell_type": "markdown",
   "source": [
    "# Задание 4. Группировка Футболистов"
   ],
   "metadata": {
    "id": "p8S2f5UUCC0T"
   }
  },
  {
   "cell_type": "markdown",
   "metadata": {
    "id": "0L0C5i-E0K8Q"
   },
   "source": [
    "Возьмем по `5 футболистов` трех различных национальностей, а затем посчитаем средний возраст внутри каждой из национальностей."
   ]
  },
  {
   "cell_type": "markdown",
   "metadata": {
    "id": "BsDPgjCj0K8R"
   },
   "source": [
    "<img src=\"https://raw.githubusercontent.com/dm-fedorov/pandas_basic/master/pic/split_apply_combine.png\">"
   ]
  },
  {
   "cell_type": "markdown",
   "metadata": {
    "id": "QkVzE7R70K8S"
   },
   "source": [
    "Мы видим, что средний возраст приблизительно одинаков между всеми тремя группами."
   ]
  },
  {
   "cell_type": "code",
   "metadata": {
    "id": "gzVvPjhR0K8T",
    "colab": {
     "base_uri": "https://localhost:8080/",
     "height": 360
    },
    "outputId": "850d9151-1c4b-4b18-87a7-2f1a7af6c9d8",
    "ExecuteTime": {
     "end_time": "2024-05-10T10:21:19.068156Z",
     "start_time": "2024-05-10T10:21:17.769612Z"
    }
   },
   "source": [
    "import pandas as pd\n",
    "\n",
    "url = \"https://raw.githubusercontent.com/dm-fedorov/pandas_basic/master/data/football.csv\"\n",
    "\n",
    "football = pd.read_csv(url)\n",
    "football.head()"
   ],
   "outputs": [
    {
     "data": {
      "text/plain": [
       "   Unnamed: 0               Name  Age Nationality                 Club  \\\n",
       "0           0           L. Messi   31   Argentina         FC Barcelona   \n",
       "1           1  Cristiano Ronaldo   33    Portugal             Juventus   \n",
       "2           2          Neymar Jr   26      Brazil  Paris Saint-Germain   \n",
       "3           3             De Gea   27       Spain    Manchester United   \n",
       "4           4       K. De Bruyne   27     Belgium      Manchester City   \n",
       "\n",
       "       Value    Wage Position  Crossing  Finishing  ...  Penalties  Composure  \\\n",
       "0  110500000  565000       RF        84         95  ...         75         96   \n",
       "1   77000000  405000       ST        84         94  ...         85         95   \n",
       "2  118500000  290000       LW        79         87  ...         81         94   \n",
       "3   72000000  260000       GK        17         13  ...         40         68   \n",
       "4  102000000  355000      RCM        93         82  ...         79         88   \n",
       "\n",
       "   Marking  StandingTackle  SlidingTackle  GKDiving  GKHandling  GKKicking  \\\n",
       "0       33              28             26         6          11         15   \n",
       "1       28              31             23         7          11         15   \n",
       "2       27              24             33         9           9         15   \n",
       "3       15              21             13        90          85         87   \n",
       "4       68              58             51        15          13          5   \n",
       "\n",
       "   GKPositioning  GKReflexes  \n",
       "0             14           8  \n",
       "1             14          11  \n",
       "2             15          11  \n",
       "3             88          94  \n",
       "4             10          13  \n",
       "\n",
       "[5 rows x 42 columns]"
      ],
      "text/html": [
       "<div>\n",
       "<style scoped>\n",
       "    .dataframe tbody tr th:only-of-type {\n",
       "        vertical-align: middle;\n",
       "    }\n",
       "\n",
       "    .dataframe tbody tr th {\n",
       "        vertical-align: top;\n",
       "    }\n",
       "\n",
       "    .dataframe thead th {\n",
       "        text-align: right;\n",
       "    }\n",
       "</style>\n",
       "<table border=\"1\" class=\"dataframe\">\n",
       "  <thead>\n",
       "    <tr style=\"text-align: right;\">\n",
       "      <th></th>\n",
       "      <th>Unnamed: 0</th>\n",
       "      <th>Name</th>\n",
       "      <th>Age</th>\n",
       "      <th>Nationality</th>\n",
       "      <th>Club</th>\n",
       "      <th>Value</th>\n",
       "      <th>Wage</th>\n",
       "      <th>Position</th>\n",
       "      <th>Crossing</th>\n",
       "      <th>Finishing</th>\n",
       "      <th>...</th>\n",
       "      <th>Penalties</th>\n",
       "      <th>Composure</th>\n",
       "      <th>Marking</th>\n",
       "      <th>StandingTackle</th>\n",
       "      <th>SlidingTackle</th>\n",
       "      <th>GKDiving</th>\n",
       "      <th>GKHandling</th>\n",
       "      <th>GKKicking</th>\n",
       "      <th>GKPositioning</th>\n",
       "      <th>GKReflexes</th>\n",
       "    </tr>\n",
       "  </thead>\n",
       "  <tbody>\n",
       "    <tr>\n",
       "      <th>0</th>\n",
       "      <td>0</td>\n",
       "      <td>L. Messi</td>\n",
       "      <td>31</td>\n",
       "      <td>Argentina</td>\n",
       "      <td>FC Barcelona</td>\n",
       "      <td>110500000</td>\n",
       "      <td>565000</td>\n",
       "      <td>RF</td>\n",
       "      <td>84</td>\n",
       "      <td>95</td>\n",
       "      <td>...</td>\n",
       "      <td>75</td>\n",
       "      <td>96</td>\n",
       "      <td>33</td>\n",
       "      <td>28</td>\n",
       "      <td>26</td>\n",
       "      <td>6</td>\n",
       "      <td>11</td>\n",
       "      <td>15</td>\n",
       "      <td>14</td>\n",
       "      <td>8</td>\n",
       "    </tr>\n",
       "    <tr>\n",
       "      <th>1</th>\n",
       "      <td>1</td>\n",
       "      <td>Cristiano Ronaldo</td>\n",
       "      <td>33</td>\n",
       "      <td>Portugal</td>\n",
       "      <td>Juventus</td>\n",
       "      <td>77000000</td>\n",
       "      <td>405000</td>\n",
       "      <td>ST</td>\n",
       "      <td>84</td>\n",
       "      <td>94</td>\n",
       "      <td>...</td>\n",
       "      <td>85</td>\n",
       "      <td>95</td>\n",
       "      <td>28</td>\n",
       "      <td>31</td>\n",
       "      <td>23</td>\n",
       "      <td>7</td>\n",
       "      <td>11</td>\n",
       "      <td>15</td>\n",
       "      <td>14</td>\n",
       "      <td>11</td>\n",
       "    </tr>\n",
       "    <tr>\n",
       "      <th>2</th>\n",
       "      <td>2</td>\n",
       "      <td>Neymar Jr</td>\n",
       "      <td>26</td>\n",
       "      <td>Brazil</td>\n",
       "      <td>Paris Saint-Germain</td>\n",
       "      <td>118500000</td>\n",
       "      <td>290000</td>\n",
       "      <td>LW</td>\n",
       "      <td>79</td>\n",
       "      <td>87</td>\n",
       "      <td>...</td>\n",
       "      <td>81</td>\n",
       "      <td>94</td>\n",
       "      <td>27</td>\n",
       "      <td>24</td>\n",
       "      <td>33</td>\n",
       "      <td>9</td>\n",
       "      <td>9</td>\n",
       "      <td>15</td>\n",
       "      <td>15</td>\n",
       "      <td>11</td>\n",
       "    </tr>\n",
       "    <tr>\n",
       "      <th>3</th>\n",
       "      <td>3</td>\n",
       "      <td>De Gea</td>\n",
       "      <td>27</td>\n",
       "      <td>Spain</td>\n",
       "      <td>Manchester United</td>\n",
       "      <td>72000000</td>\n",
       "      <td>260000</td>\n",
       "      <td>GK</td>\n",
       "      <td>17</td>\n",
       "      <td>13</td>\n",
       "      <td>...</td>\n",
       "      <td>40</td>\n",
       "      <td>68</td>\n",
       "      <td>15</td>\n",
       "      <td>21</td>\n",
       "      <td>13</td>\n",
       "      <td>90</td>\n",
       "      <td>85</td>\n",
       "      <td>87</td>\n",
       "      <td>88</td>\n",
       "      <td>94</td>\n",
       "    </tr>\n",
       "    <tr>\n",
       "      <th>4</th>\n",
       "      <td>4</td>\n",
       "      <td>K. De Bruyne</td>\n",
       "      <td>27</td>\n",
       "      <td>Belgium</td>\n",
       "      <td>Manchester City</td>\n",
       "      <td>102000000</td>\n",
       "      <td>355000</td>\n",
       "      <td>RCM</td>\n",
       "      <td>93</td>\n",
       "      <td>82</td>\n",
       "      <td>...</td>\n",
       "      <td>79</td>\n",
       "      <td>88</td>\n",
       "      <td>68</td>\n",
       "      <td>58</td>\n",
       "      <td>51</td>\n",
       "      <td>15</td>\n",
       "      <td>13</td>\n",
       "      <td>5</td>\n",
       "      <td>10</td>\n",
       "      <td>13</td>\n",
       "    </tr>\n",
       "  </tbody>\n",
       "</table>\n",
       "<p>5 rows × 42 columns</p>\n",
       "</div>"
      ]
     },
     "execution_count": 1,
     "metadata": {},
     "output_type": "execute_result"
    }
   ],
   "execution_count": 1
  },
  {
   "cell_type": "code",
   "metadata": {
    "id": "7V4xDZkc0K8U",
    "colab": {
     "base_uri": "https://localhost:8080/",
     "height": 833
    },
    "outputId": "08a43286-0a75-4722-9fb6-3a573cc758e6",
    "ExecuteTime": {
     "end_time": "2024-05-10T10:21:19.085915Z",
     "start_time": "2024-05-10T10:21:19.073433Z"
    }
   },
   "source": [
    "small_football = football[football.columns[1:8]].head(25)\n",
    "small_football"
   ],
   "outputs": [
    {
     "data": {
      "text/plain": [
       "                 Name  Age Nationality                 Club      Value  \\\n",
       "0            L. Messi   31   Argentina         FC Barcelona  110500000   \n",
       "1   Cristiano Ronaldo   33    Portugal             Juventus   77000000   \n",
       "2           Neymar Jr   26      Brazil  Paris Saint-Germain  118500000   \n",
       "3              De Gea   27       Spain    Manchester United   72000000   \n",
       "4        K. De Bruyne   27     Belgium      Manchester City  102000000   \n",
       "5           E. Hazard   27     Belgium              Chelsea   93000000   \n",
       "6           L. Modrić   32     Croatia          Real Madrid   67000000   \n",
       "7           L. Suárez   31     Uruguay         FC Barcelona   80000000   \n",
       "8        Sergio Ramos   32       Spain          Real Madrid   51000000   \n",
       "9            J. Oblak   25    Slovenia      Atlético Madrid   68000000   \n",
       "10     R. Lewandowski   29      Poland    FC Bayern München   77000000   \n",
       "11           T. Kroos   28     Germany          Real Madrid   76500000   \n",
       "12           D. Godín   32     Uruguay      Atlético Madrid   44000000   \n",
       "13        David Silva   32       Spain      Manchester City   60000000   \n",
       "14           N. Kanté   27      France              Chelsea   63000000   \n",
       "15          P. Dybala   24   Argentina             Juventus   89000000   \n",
       "16            H. Kane   24     England    Tottenham Hotspur   83500000   \n",
       "17       A. Griezmann   27      France      Atlético Madrid   78000000   \n",
       "18      M. ter Stegen   26     Germany         FC Barcelona   58000000   \n",
       "19        T. Courtois   26     Belgium          Real Madrid   53500000   \n",
       "20    Sergio Busquets   29       Spain         FC Barcelona   51500000   \n",
       "21          E. Cavani   31     Uruguay  Paris Saint-Germain   60000000   \n",
       "22           M. Neuer   32     Germany    FC Bayern München   38000000   \n",
       "23          S. Agüero   30   Argentina      Manchester City   64500000   \n",
       "24       G. Chiellini   33       Italy             Juventus   27000000   \n",
       "\n",
       "      Wage Position  \n",
       "0   565000       RF  \n",
       "1   405000       ST  \n",
       "2   290000       LW  \n",
       "3   260000       GK  \n",
       "4   355000      RCM  \n",
       "5   340000       LF  \n",
       "6   420000      RCM  \n",
       "7   455000       RS  \n",
       "8   380000      RCB  \n",
       "9    94000       GK  \n",
       "10  205000       ST  \n",
       "11  355000      LCM  \n",
       "12  125000       CB  \n",
       "13  285000      LCM  \n",
       "14  225000      LDM  \n",
       "15  205000       LF  \n",
       "16  205000       ST  \n",
       "17  145000      CAM  \n",
       "18  240000       GK  \n",
       "19  240000       GK  \n",
       "20  315000      CDM  \n",
       "21  200000       LS  \n",
       "22  130000       GK  \n",
       "23  300000       ST  \n",
       "24  215000      LCB  "
      ],
      "text/html": [
       "<div>\n",
       "<style scoped>\n",
       "    .dataframe tbody tr th:only-of-type {\n",
       "        vertical-align: middle;\n",
       "    }\n",
       "\n",
       "    .dataframe tbody tr th {\n",
       "        vertical-align: top;\n",
       "    }\n",
       "\n",
       "    .dataframe thead th {\n",
       "        text-align: right;\n",
       "    }\n",
       "</style>\n",
       "<table border=\"1\" class=\"dataframe\">\n",
       "  <thead>\n",
       "    <tr style=\"text-align: right;\">\n",
       "      <th></th>\n",
       "      <th>Name</th>\n",
       "      <th>Age</th>\n",
       "      <th>Nationality</th>\n",
       "      <th>Club</th>\n",
       "      <th>Value</th>\n",
       "      <th>Wage</th>\n",
       "      <th>Position</th>\n",
       "    </tr>\n",
       "  </thead>\n",
       "  <tbody>\n",
       "    <tr>\n",
       "      <th>0</th>\n",
       "      <td>L. Messi</td>\n",
       "      <td>31</td>\n",
       "      <td>Argentina</td>\n",
       "      <td>FC Barcelona</td>\n",
       "      <td>110500000</td>\n",
       "      <td>565000</td>\n",
       "      <td>RF</td>\n",
       "    </tr>\n",
       "    <tr>\n",
       "      <th>1</th>\n",
       "      <td>Cristiano Ronaldo</td>\n",
       "      <td>33</td>\n",
       "      <td>Portugal</td>\n",
       "      <td>Juventus</td>\n",
       "      <td>77000000</td>\n",
       "      <td>405000</td>\n",
       "      <td>ST</td>\n",
       "    </tr>\n",
       "    <tr>\n",
       "      <th>2</th>\n",
       "      <td>Neymar Jr</td>\n",
       "      <td>26</td>\n",
       "      <td>Brazil</td>\n",
       "      <td>Paris Saint-Germain</td>\n",
       "      <td>118500000</td>\n",
       "      <td>290000</td>\n",
       "      <td>LW</td>\n",
       "    </tr>\n",
       "    <tr>\n",
       "      <th>3</th>\n",
       "      <td>De Gea</td>\n",
       "      <td>27</td>\n",
       "      <td>Spain</td>\n",
       "      <td>Manchester United</td>\n",
       "      <td>72000000</td>\n",
       "      <td>260000</td>\n",
       "      <td>GK</td>\n",
       "    </tr>\n",
       "    <tr>\n",
       "      <th>4</th>\n",
       "      <td>K. De Bruyne</td>\n",
       "      <td>27</td>\n",
       "      <td>Belgium</td>\n",
       "      <td>Manchester City</td>\n",
       "      <td>102000000</td>\n",
       "      <td>355000</td>\n",
       "      <td>RCM</td>\n",
       "    </tr>\n",
       "    <tr>\n",
       "      <th>5</th>\n",
       "      <td>E. Hazard</td>\n",
       "      <td>27</td>\n",
       "      <td>Belgium</td>\n",
       "      <td>Chelsea</td>\n",
       "      <td>93000000</td>\n",
       "      <td>340000</td>\n",
       "      <td>LF</td>\n",
       "    </tr>\n",
       "    <tr>\n",
       "      <th>6</th>\n",
       "      <td>L. Modrić</td>\n",
       "      <td>32</td>\n",
       "      <td>Croatia</td>\n",
       "      <td>Real Madrid</td>\n",
       "      <td>67000000</td>\n",
       "      <td>420000</td>\n",
       "      <td>RCM</td>\n",
       "    </tr>\n",
       "    <tr>\n",
       "      <th>7</th>\n",
       "      <td>L. Suárez</td>\n",
       "      <td>31</td>\n",
       "      <td>Uruguay</td>\n",
       "      <td>FC Barcelona</td>\n",
       "      <td>80000000</td>\n",
       "      <td>455000</td>\n",
       "      <td>RS</td>\n",
       "    </tr>\n",
       "    <tr>\n",
       "      <th>8</th>\n",
       "      <td>Sergio Ramos</td>\n",
       "      <td>32</td>\n",
       "      <td>Spain</td>\n",
       "      <td>Real Madrid</td>\n",
       "      <td>51000000</td>\n",
       "      <td>380000</td>\n",
       "      <td>RCB</td>\n",
       "    </tr>\n",
       "    <tr>\n",
       "      <th>9</th>\n",
       "      <td>J. Oblak</td>\n",
       "      <td>25</td>\n",
       "      <td>Slovenia</td>\n",
       "      <td>Atlético Madrid</td>\n",
       "      <td>68000000</td>\n",
       "      <td>94000</td>\n",
       "      <td>GK</td>\n",
       "    </tr>\n",
       "    <tr>\n",
       "      <th>10</th>\n",
       "      <td>R. Lewandowski</td>\n",
       "      <td>29</td>\n",
       "      <td>Poland</td>\n",
       "      <td>FC Bayern München</td>\n",
       "      <td>77000000</td>\n",
       "      <td>205000</td>\n",
       "      <td>ST</td>\n",
       "    </tr>\n",
       "    <tr>\n",
       "      <th>11</th>\n",
       "      <td>T. Kroos</td>\n",
       "      <td>28</td>\n",
       "      <td>Germany</td>\n",
       "      <td>Real Madrid</td>\n",
       "      <td>76500000</td>\n",
       "      <td>355000</td>\n",
       "      <td>LCM</td>\n",
       "    </tr>\n",
       "    <tr>\n",
       "      <th>12</th>\n",
       "      <td>D. Godín</td>\n",
       "      <td>32</td>\n",
       "      <td>Uruguay</td>\n",
       "      <td>Atlético Madrid</td>\n",
       "      <td>44000000</td>\n",
       "      <td>125000</td>\n",
       "      <td>CB</td>\n",
       "    </tr>\n",
       "    <tr>\n",
       "      <th>13</th>\n",
       "      <td>David Silva</td>\n",
       "      <td>32</td>\n",
       "      <td>Spain</td>\n",
       "      <td>Manchester City</td>\n",
       "      <td>60000000</td>\n",
       "      <td>285000</td>\n",
       "      <td>LCM</td>\n",
       "    </tr>\n",
       "    <tr>\n",
       "      <th>14</th>\n",
       "      <td>N. Kanté</td>\n",
       "      <td>27</td>\n",
       "      <td>France</td>\n",
       "      <td>Chelsea</td>\n",
       "      <td>63000000</td>\n",
       "      <td>225000</td>\n",
       "      <td>LDM</td>\n",
       "    </tr>\n",
       "    <tr>\n",
       "      <th>15</th>\n",
       "      <td>P. Dybala</td>\n",
       "      <td>24</td>\n",
       "      <td>Argentina</td>\n",
       "      <td>Juventus</td>\n",
       "      <td>89000000</td>\n",
       "      <td>205000</td>\n",
       "      <td>LF</td>\n",
       "    </tr>\n",
       "    <tr>\n",
       "      <th>16</th>\n",
       "      <td>H. Kane</td>\n",
       "      <td>24</td>\n",
       "      <td>England</td>\n",
       "      <td>Tottenham Hotspur</td>\n",
       "      <td>83500000</td>\n",
       "      <td>205000</td>\n",
       "      <td>ST</td>\n",
       "    </tr>\n",
       "    <tr>\n",
       "      <th>17</th>\n",
       "      <td>A. Griezmann</td>\n",
       "      <td>27</td>\n",
       "      <td>France</td>\n",
       "      <td>Atlético Madrid</td>\n",
       "      <td>78000000</td>\n",
       "      <td>145000</td>\n",
       "      <td>CAM</td>\n",
       "    </tr>\n",
       "    <tr>\n",
       "      <th>18</th>\n",
       "      <td>M. ter Stegen</td>\n",
       "      <td>26</td>\n",
       "      <td>Germany</td>\n",
       "      <td>FC Barcelona</td>\n",
       "      <td>58000000</td>\n",
       "      <td>240000</td>\n",
       "      <td>GK</td>\n",
       "    </tr>\n",
       "    <tr>\n",
       "      <th>19</th>\n",
       "      <td>T. Courtois</td>\n",
       "      <td>26</td>\n",
       "      <td>Belgium</td>\n",
       "      <td>Real Madrid</td>\n",
       "      <td>53500000</td>\n",
       "      <td>240000</td>\n",
       "      <td>GK</td>\n",
       "    </tr>\n",
       "    <tr>\n",
       "      <th>20</th>\n",
       "      <td>Sergio Busquets</td>\n",
       "      <td>29</td>\n",
       "      <td>Spain</td>\n",
       "      <td>FC Barcelona</td>\n",
       "      <td>51500000</td>\n",
       "      <td>315000</td>\n",
       "      <td>CDM</td>\n",
       "    </tr>\n",
       "    <tr>\n",
       "      <th>21</th>\n",
       "      <td>E. Cavani</td>\n",
       "      <td>31</td>\n",
       "      <td>Uruguay</td>\n",
       "      <td>Paris Saint-Germain</td>\n",
       "      <td>60000000</td>\n",
       "      <td>200000</td>\n",
       "      <td>LS</td>\n",
       "    </tr>\n",
       "    <tr>\n",
       "      <th>22</th>\n",
       "      <td>M. Neuer</td>\n",
       "      <td>32</td>\n",
       "      <td>Germany</td>\n",
       "      <td>FC Bayern München</td>\n",
       "      <td>38000000</td>\n",
       "      <td>130000</td>\n",
       "      <td>GK</td>\n",
       "    </tr>\n",
       "    <tr>\n",
       "      <th>23</th>\n",
       "      <td>S. Agüero</td>\n",
       "      <td>30</td>\n",
       "      <td>Argentina</td>\n",
       "      <td>Manchester City</td>\n",
       "      <td>64500000</td>\n",
       "      <td>300000</td>\n",
       "      <td>ST</td>\n",
       "    </tr>\n",
       "    <tr>\n",
       "      <th>24</th>\n",
       "      <td>G. Chiellini</td>\n",
       "      <td>33</td>\n",
       "      <td>Italy</td>\n",
       "      <td>Juventus</td>\n",
       "      <td>27000000</td>\n",
       "      <td>215000</td>\n",
       "      <td>LCB</td>\n",
       "    </tr>\n",
       "  </tbody>\n",
       "</table>\n",
       "</div>"
      ]
     },
     "execution_count": 2,
     "metadata": {},
     "output_type": "execute_result"
    }
   ],
   "execution_count": 2
  },
  {
   "cell_type": "markdown",
   "metadata": {
    "id": "jPPHk6Cn0K8V"
   },
   "source": [
    "Предположим, что перед нами стоит задача быстро оценить, сколько футболистов относится к каждой из представленных национальностей."
   ]
  },
  {
   "cell_type": "markdown",
   "metadata": {
    "id": "pKYMtxKz0K8V"
   },
   "source": [
    "Так как каждая строка датафрейма содержит информацию об отдельно взятом футболисте, то достаточно посчитать, сколько раз каждая из национальностей встречается в столбце (в серии) `Nationality`:"
   ]
  },
  {
   "cell_type": "code",
   "metadata": {
    "id": "-BZrppYN0K8W",
    "colab": {
     "base_uri": "https://localhost:8080/"
    },
    "outputId": "3d96b8f0-55fe-4577-939e-449d655a8046",
    "ExecuteTime": {
     "end_time": "2024-05-10T10:21:19.097728Z",
     "start_time": "2024-05-10T10:21:19.087721Z"
    }
   },
   "source": [
    "s = small_football['Nationality'].value_counts()\n",
    "s"
   ],
   "outputs": [
    {
     "data": {
      "text/plain": [
       "Nationality\n",
       "Spain        4\n",
       "Argentina    3\n",
       "Belgium      3\n",
       "Uruguay      3\n",
       "Germany      3\n",
       "France       2\n",
       "Portugal     1\n",
       "Brazil       1\n",
       "Croatia      1\n",
       "Slovenia     1\n",
       "Poland       1\n",
       "England      1\n",
       "Italy        1\n",
       "Name: count, dtype: int64"
      ]
     },
     "execution_count": 3,
     "metadata": {},
     "output_type": "execute_result"
    }
   ],
   "execution_count": 3
  },
  {
   "cell_type": "markdown",
   "metadata": {
    "id": "IHQXASA00K8W"
   },
   "source": [
    "Таким образом, функция `value_counts` подсчитывает для каждого значения в серии количество раз, которое это значение встречается.\n",
    "\n",
    "Индекс серии `s` — это уникальные значения, встречающиеся в исходной серии `small_df['Nationality']`:"
   ]
  },
  {
   "cell_type": "code",
   "metadata": {
    "id": "PZMsMw3I0K8X",
    "colab": {
     "base_uri": "https://localhost:8080/"
    },
    "outputId": "ca1f53a2-dcc2-44ba-f47b-636829e0c1e0",
    "ExecuteTime": {
     "end_time": "2024-05-10T10:21:19.107985Z",
     "start_time": "2024-05-10T10:21:19.099267Z"
    }
   },
   "source": [
    "s.index"
   ],
   "outputs": [
    {
     "data": {
      "text/plain": [
       "Index(['Spain', 'Argentina', 'Belgium', 'Uruguay', 'Germany', 'France',\n",
       "       'Portugal', 'Brazil', 'Croatia', 'Slovenia', 'Poland', 'England',\n",
       "       'Italy'],\n",
       "      dtype='object', name='Nationality')"
      ]
     },
     "execution_count": 4,
     "metadata": {},
     "output_type": "execute_result"
    }
   ],
   "execution_count": 4
  },
  {
   "cell_type": "markdown",
   "metadata": {
    "id": "B4yXr4ty0K8X"
   },
   "source": [
    "Обратите внимание, что в индексе названия сборных идут так же, как в серии, то есть по убыванию числа футболистов. Значит, вызвав первый элемент индекса, мы получим название сборной, у которой больше всего футболистов в рамках датафрейма:"
   ]
  },
  {
   "cell_type": "code",
   "metadata": {
    "id": "KhIEE_3y0K8Y",
    "colab": {
     "base_uri": "https://localhost:8080/",
     "height": 35
    },
    "outputId": "1af76bf6-7d5e-48e9-eb84-0d4978947b2d",
    "ExecuteTime": {
     "end_time": "2024-05-10T10:21:19.117103Z",
     "start_time": "2024-05-10T10:21:19.111662Z"
    }
   },
   "source": [
    "s.index[0]"
   ],
   "outputs": [
    {
     "data": {
      "text/plain": [
       "'Spain'"
      ]
     },
     "execution_count": 5,
     "metadata": {},
     "output_type": "execute_result"
    }
   ],
   "execution_count": 5
  },
  {
   "cell_type": "markdown",
   "metadata": {
    "id": "2zjn8g9J0K8Y"
   },
   "source": [
    "Если вызовем функцию `len` для серии `s`, то получим количество уникальных значений исходной серии, то есть количество национальностей, которые встречаются в датафрейме `small_football`:"
   ]
  },
  {
   "cell_type": "code",
   "metadata": {
    "id": "dOemjc7z0K8Y",
    "colab": {
     "base_uri": "https://localhost:8080/"
    },
    "outputId": "7097d9f3-cc9f-44d2-988a-06437567b9e8",
    "ExecuteTime": {
     "end_time": "2024-05-10T10:21:19.123105Z",
     "start_time": "2024-05-10T10:21:19.118840Z"
    }
   },
   "source": [
    "len(s.index)"
   ],
   "outputs": [
    {
     "data": {
      "text/plain": [
       "13"
      ]
     },
     "execution_count": 6,
     "metadata": {},
     "output_type": "execute_result"
    }
   ],
   "execution_count": 6
  },
  {
   "cell_type": "markdown",
   "metadata": {
    "id": "7TaDbg9o0K8Y"
   },
   "source": [
    "Если хотим определить количество футболистов в `small_football`, которые относятся к определенной национальности, то достаточно обратиться по нужному индексу к элементу серии:"
   ]
  },
  {
   "cell_type": "code",
   "metadata": {
    "id": "snt0oBRG0K8Z",
    "colab": {
     "base_uri": "https://localhost:8080/"
    },
    "outputId": "d1cddf82-628d-4e66-cc6f-28c9dca804e2",
    "ExecuteTime": {
     "end_time": "2024-05-10T10:21:19.130371Z",
     "start_time": "2024-05-10T10:21:19.124482Z"
    }
   },
   "source": [
    "s['Germany']"
   ],
   "outputs": [
    {
     "data": {
      "text/plain": [
       "3"
      ]
     },
     "execution_count": 7,
     "metadata": {},
     "output_type": "execute_result"
    }
   ],
   "execution_count": 7
  },
  {
   "cell_type": "markdown",
   "metadata": {
    "id": "GCRI_hMa0K8Z"
   },
   "source": [
    "Получившуюся серию s можно отфильтровать по определенному значению. Например, оставить только такие сборные, в которых больше 1 футболиста:"
   ]
  },
  {
   "cell_type": "code",
   "source": [
    "s[s > 1]"
   ],
   "metadata": {
    "colab": {
     "base_uri": "https://localhost:8080/"
    },
    "id": "B6JykRq8Brhc",
    "outputId": "6087aecc-ce4e-46c7-bba1-4987fc9d21ed",
    "ExecuteTime": {
     "end_time": "2024-05-10T10:21:19.139091Z",
     "start_time": "2024-05-10T10:21:19.131876Z"
    }
   },
   "outputs": [
    {
     "data": {
      "text/plain": [
       "Nationality\n",
       "Spain        4\n",
       "Argentina    3\n",
       "Belgium      3\n",
       "Uruguay      3\n",
       "Germany      3\n",
       "France       2\n",
       "Name: count, dtype: int64"
      ]
     },
     "execution_count": 8,
     "metadata": {},
     "output_type": "execute_result"
    }
   ],
   "execution_count": 8
  },
  {
   "cell_type": "markdown",
   "metadata": {
    "id": "o6pNksgO0K8Z"
   },
   "source": [
    "### Сколько футбольных клубов представлено в датасете?"
   ]
  },
  {
   "cell_type": "code",
   "metadata": {
    "id": "v20qFFUg0K8a",
    "colab": {
     "base_uri": "https://localhost:8080/"
    },
    "outputId": "18ceae19-6839-4e74-f555-6f99be7069e3",
    "ExecuteTime": {
     "end_time": "2024-05-10T10:21:19.177922Z",
     "start_time": "2024-05-10T10:21:19.171610Z"
    }
   },
   "source": [
    "len(small_football)"
   ],
   "outputs": [
    {
     "data": {
      "text/plain": [
       "25"
      ]
     },
     "execution_count": 9,
     "metadata": {},
     "output_type": "execute_result"
    }
   ],
   "execution_count": 9
  },
  {
   "cell_type": "markdown",
   "metadata": {
    "id": "LxtZcfbs0K8a"
   },
   "source": [
    "### Как называется футбольный клуб, представленный наименьшим количеством игроков в датасете?"
   ]
  },
  {
   "cell_type": "code",
   "metadata": {
    "id": "nzZKK5fs0K8a",
    "colab": {
     "base_uri": "https://localhost:8080/",
     "height": 35
    },
    "outputId": "45bedf1c-5c36-4dae-8e6f-a108fbab564f",
    "ExecuteTime": {
     "end_time": "2024-05-10T10:21:19.185023Z",
     "start_time": "2024-05-10T10:21:19.179360Z"
    }
   },
   "source": [
    "small_football['Club'].value_counts().index[-1]"
   ],
   "outputs": [
    {
     "data": {
      "text/plain": [
       "'Tottenham Hotspur'"
      ]
     },
     "execution_count": 10,
     "metadata": {},
     "output_type": "execute_result"
    }
   ],
   "execution_count": 10
  },
  {
   "cell_type": "code",
   "source": [
    "small_football['Club'].value_counts().idxmin()"
   ],
   "metadata": {
    "colab": {
     "base_uri": "https://localhost:8080/",
     "height": 35
    },
    "id": "T9Ng8TaLeGI6",
    "outputId": "e1483abb-a6f8-4cdd-92d4-d7b7f810e4fc",
    "ExecuteTime": {
     "end_time": "2024-05-10T10:21:19.193507Z",
     "start_time": "2024-05-10T10:21:19.187454Z"
    }
   },
   "outputs": [
    {
     "data": {
      "text/plain": [
       "'Manchester United'"
      ]
     },
     "execution_count": 11,
     "metadata": {},
     "output_type": "execute_result"
    }
   ],
   "execution_count": 11
  },
  {
   "cell_type": "code",
   "source": [
    "result_club_vc = small_football['Club'].value_counts()\n",
    "result_club_vc"
   ],
   "metadata": {
    "colab": {
     "base_uri": "https://localhost:8080/"
    },
    "id": "3PqP902SfjAf",
    "outputId": "5b01d9ca-3999-4db8-d83f-3afd63f30beb",
    "ExecuteTime": {
     "end_time": "2024-05-10T10:21:19.208851Z",
     "start_time": "2024-05-10T10:21:19.196659Z"
    }
   },
   "outputs": [
    {
     "data": {
      "text/plain": [
       "Club\n",
       "FC Barcelona           4\n",
       "Real Madrid            4\n",
       "Juventus               3\n",
       "Manchester City        3\n",
       "Atlético Madrid        3\n",
       "Paris Saint-Germain    2\n",
       "Chelsea                2\n",
       "FC Bayern München      2\n",
       "Manchester United      1\n",
       "Tottenham Hotspur      1\n",
       "Name: count, dtype: int64"
      ]
     },
     "execution_count": 12,
     "metadata": {},
     "output_type": "execute_result"
    }
   ],
   "execution_count": 12
  },
  {
   "cell_type": "code",
   "source": [
    "result_club_vc.min()"
   ],
   "metadata": {
    "colab": {
     "base_uri": "https://localhost:8080/"
    },
    "id": "vQPyisz_feas",
    "outputId": "2da83159-1ba6-4a2b-c9c4-3bdcc13e85d0",
    "ExecuteTime": {
     "end_time": "2024-05-10T10:21:19.218716Z",
     "start_time": "2024-05-10T10:21:19.211497Z"
    }
   },
   "outputs": [
    {
     "data": {
      "text/plain": [
       "1"
      ]
     },
     "execution_count": 13,
     "metadata": {},
     "output_type": "execute_result"
    }
   ],
   "execution_count": 13
  },
  {
   "cell_type": "code",
   "source": [
    "result_club_vc[result_club_vc == result_club_vc.min()]"
   ],
   "metadata": {
    "colab": {
     "base_uri": "https://localhost:8080/"
    },
    "id": "FndopxiSCfcQ",
    "outputId": "42ad8dc0-d95e-4991-952c-9d562d4e5535",
    "ExecuteTime": {
     "end_time": "2024-05-10T10:21:19.233071Z",
     "start_time": "2024-05-10T10:21:19.225431Z"
    }
   },
   "outputs": [
    {
     "data": {
      "text/plain": [
       "Club\n",
       "Manchester United    1\n",
       "Tottenham Hotspur    1\n",
       "Name: count, dtype: int64"
      ]
     },
     "execution_count": 14,
     "metadata": {},
     "output_type": "execute_result"
    }
   ],
   "execution_count": 14
  },
  {
   "cell_type": "markdown",
   "metadata": {
    "id": "xxdSces_0K8a"
   },
   "source": [
    "Можно посчитать количество футболистов не в абсолютных числах, а в процентах от общего числа в датасете. Для этого надо вызвать функцию `value_counts()` с параметром `normalize=True`:"
   ]
  },
  {
   "cell_type": "code",
   "metadata": {
    "id": "lxFhw92s0K8a",
    "colab": {
     "base_uri": "https://localhost:8080/"
    },
    "outputId": "fc4f38c8-7843-459e-be2a-ada413c4dda0",
    "ExecuteTime": {
     "end_time": "2024-05-10T10:21:19.242485Z",
     "start_time": "2024-05-10T10:21:19.234956Z"
    }
   },
   "source": [
    "s = small_football['Nationality'].value_counts(normalize=True)\n",
    "s"
   ],
   "outputs": [
    {
     "data": {
      "text/plain": [
       "Nationality\n",
       "Spain        0.16\n",
       "Argentina    0.12\n",
       "Belgium      0.12\n",
       "Uruguay      0.12\n",
       "Germany      0.12\n",
       "France       0.08\n",
       "Portugal     0.04\n",
       "Brazil       0.04\n",
       "Croatia      0.04\n",
       "Slovenia     0.04\n",
       "Poland       0.04\n",
       "England      0.04\n",
       "Italy        0.04\n",
       "Name: proportion, dtype: float64"
      ]
     },
     "execution_count": 15,
     "metadata": {},
     "output_type": "execute_result"
    }
   ],
   "execution_count": 15
  },
  {
   "cell_type": "markdown",
   "metadata": {
    "id": "fne9P3G-0K8b"
   },
   "source": [
    "Таким образом, мы можем быстро определить характеристики распределения футболистов между национальностями в нашем наборе данных. Например, мы узнали, что испанцы составляют 16% от общего числа футболистов, которые были взяты нами для выборки `small_football`."
   ]
  },
  {
   "cell_type": "markdown",
   "metadata": {
    "id": "Ceta8qCb0K8b"
   },
   "source": [
    "### Данные об игроках каких позиций (Position) занимают более 10% датасета?"
   ]
  },
  {
   "cell_type": "code",
   "source": [
    "small_football.columns"
   ],
   "metadata": {
    "colab": {
     "base_uri": "https://localhost:8080/"
    },
    "id": "QBQMExvuhYK1",
    "outputId": "edfa9106-9fba-4b2b-85c5-371e6f1de3ae",
    "ExecuteTime": {
     "end_time": "2024-05-10T10:21:19.254041Z",
     "start_time": "2024-05-10T10:21:19.244847Z"
    }
   },
   "outputs": [
    {
     "data": {
      "text/plain": [
       "Index(['Name', 'Age', 'Nationality', 'Club', 'Value', 'Wage', 'Position'], dtype='object')"
      ]
     },
     "execution_count": 16,
     "metadata": {},
     "output_type": "execute_result"
    }
   ],
   "execution_count": 16
  },
  {
   "cell_type": "code",
   "metadata": {
    "id": "mSRJJMxw0K8b",
    "colab": {
     "base_uri": "https://localhost:8080/"
    },
    "outputId": "34f2e09d-8a7b-4b18-8476-49544330da5f",
    "ExecuteTime": {
     "end_time": "2024-05-10T10:21:19.264361Z",
     "start_time": "2024-05-10T10:21:19.256416Z"
    }
   },
   "source": [
    "result_pos_vc = small_football[\"Position\"].value_counts(normalize=True)\n",
    "result_pos_vc"
   ],
   "outputs": [
    {
     "data": {
      "text/plain": [
       "Position\n",
       "GK     0.20\n",
       "ST     0.16\n",
       "RCM    0.08\n",
       "LF     0.08\n",
       "LCM    0.08\n",
       "RF     0.04\n",
       "LW     0.04\n",
       "RS     0.04\n",
       "RCB    0.04\n",
       "CB     0.04\n",
       "LDM    0.04\n",
       "CAM    0.04\n",
       "CDM    0.04\n",
       "LS     0.04\n",
       "LCB    0.04\n",
       "Name: proportion, dtype: float64"
      ]
     },
     "execution_count": 17,
     "metadata": {},
     "output_type": "execute_result"
    }
   ],
   "execution_count": 17
  },
  {
   "cell_type": "code",
   "source": [
    "list(result_pos_vc[result_pos_vc > 0.1].index)"
   ],
   "metadata": {
    "colab": {
     "base_uri": "https://localhost:8080/"
    },
    "id": "ylE02VH0h2tP",
    "outputId": "f822a6f2-41c0-49fc-d77a-1a56b4755a2e",
    "ExecuteTime": {
     "end_time": "2024-05-10T10:21:19.271428Z",
     "start_time": "2024-05-10T10:21:19.266534Z"
    }
   },
   "outputs": [
    {
     "data": {
      "text/plain": [
       "['GK', 'ST']"
      ]
     },
     "execution_count": 18,
     "metadata": {},
     "output_type": "execute_result"
    }
   ],
   "execution_count": 18
  },
  {
   "cell_type": "markdown",
   "metadata": {
    "id": "LZLWGY530K8b"
   },
   "source": [
    "Ещё один параметр, который можно передать в функцию `value_counts`, — это параметр `bins`. Этот параметр удобно передавать, когда мы хотим сгруппировать данные не по категориальному признаку (каким, например, является национальность), а по численному признаку (например, по возрасту).\n",
    "\n",
    "Сначала сгруппируем данные по численному признаку без параметра `bins`:"
   ]
  },
  {
   "cell_type": "code",
   "metadata": {
    "id": "2p4qT1dt0K8b",
    "colab": {
     "base_uri": "https://localhost:8080/"
    },
    "outputId": "941e66d7-3347-40f6-f636-14a0480d09cf",
    "ExecuteTime": {
     "end_time": "2024-05-10T10:21:19.282210Z",
     "start_time": "2024-05-10T10:21:19.273216Z"
    }
   },
   "source": [
    "s = small_football['Age'].value_counts()\n",
    "s"
   ],
   "outputs": [
    {
     "data": {
      "text/plain": [
       "Age\n",
       "27    5\n",
       "32    5\n",
       "31    3\n",
       "26    3\n",
       "33    2\n",
       "29    2\n",
       "24    2\n",
       "25    1\n",
       "28    1\n",
       "30    1\n",
       "Name: count, dtype: int64"
      ]
     },
     "execution_count": 19,
     "metadata": {},
     "output_type": "execute_result"
    }
   ],
   "execution_count": 19
  },
  {
   "cell_type": "markdown",
   "metadata": {
    "id": "yftCWP930K8c"
   },
   "source": [
    "Как видно, мы просто сгруппировали футболистов по возрасту и посчитали количество футболистов внутри каждой возрастной группы. Разброс возрастов не слишком большой, поэтому воспринимается эта информация достаточно легко. Например, мы узнали, что больше всего футболистов в двух группах: `27 лет` и `32 года`.\n",
    "\n",
    "Другая ситуация складывается, когда мы попытаемся сгруппировать футболистов по их заработной плате:"
   ]
  },
  {
   "cell_type": "code",
   "metadata": {
    "id": "t-xxfQcx0K8c",
    "colab": {
     "base_uri": "https://localhost:8080/"
    },
    "outputId": "5c9eccbd-6914-448a-c363-c8b53f76e3ad",
    "ExecuteTime": {
     "end_time": "2024-05-10T10:21:19.292566Z",
     "start_time": "2024-05-10T10:21:19.283624Z"
    }
   },
   "source": [
    "s = small_football['Wage'].value_counts()\n",
    "s"
   ],
   "outputs": [
    {
     "data": {
      "text/plain": [
       "Wage\n",
       "205000    3\n",
       "355000    2\n",
       "240000    2\n",
       "125000    1\n",
       "300000    1\n",
       "130000    1\n",
       "200000    1\n",
       "315000    1\n",
       "145000    1\n",
       "225000    1\n",
       "285000    1\n",
       "565000    1\n",
       "405000    1\n",
       "94000     1\n",
       "380000    1\n",
       "455000    1\n",
       "420000    1\n",
       "340000    1\n",
       "260000    1\n",
       "290000    1\n",
       "215000    1\n",
       "Name: count, dtype: int64"
      ]
     },
     "execution_count": 20,
     "metadata": {},
     "output_type": "execute_result"
    }
   ],
   "execution_count": 20
  },
  {
   "cell_type": "markdown",
   "metadata": {
    "id": "ag596ICX0K8c"
   },
   "source": [
    "Из-за того, что цифры зарплат повторяются не часто , трудно сделать какие-то выводы. Но всё будет более наглядно, если мы разобьем весь возможный диапазон зарплат на 4 равных промежутка и подсчитаем количество футболистов, попадающих в каждый из промежутков. Именно для этого нужен параметр `bins`:"
   ]
  },
  {
   "cell_type": "code",
   "metadata": {
    "id": "XI72AEnf0K8c",
    "colab": {
     "base_uri": "https://localhost:8080/"
    },
    "outputId": "1bd12584-f16a-4079-9be8-81eb13ed261d",
    "ExecuteTime": {
     "end_time": "2024-05-10T10:21:19.307956Z",
     "start_time": "2024-05-10T10:21:19.294545Z"
    }
   },
   "source": [
    "s = small_football['Wage'].value_counts(bins=4)\n",
    "s"
   ],
   "outputs": [
    {
     "data": {
      "text/plain": [
       "Wage\n",
       "(211750.0, 329500.0]     9\n",
       "(93528.999, 211750.0]    8\n",
       "(329500.0, 447250.0]     6\n",
       "(447250.0, 565000.0]     2\n",
       "Name: count, dtype: int64"
      ]
     },
     "execution_count": 21,
     "metadata": {},
     "output_type": "execute_result"
    }
   ],
   "execution_count": 21
  },
  {
   "cell_type": "markdown",
   "metadata": {
    "id": "EwfA0bO40K8c"
   },
   "source": [
    "Теперь видно, что распределение неравномерное и только 2 футболиста из 25 получают сверхвысокую зарплату.\n",
    "\n",
    "Давайте посмотрим, что это за футболисты:"
   ]
  },
  {
   "cell_type": "code",
   "source": [
    "small_football[(small_football['Wage'] > s.index[3].left) &\n",
    "               (small_football['Wage'] <= s.index[3].right)]"
   ],
   "metadata": {
    "colab": {
     "base_uri": "https://localhost:8080/",
     "height": 112
    },
    "id": "JzZSvvG6DSNw",
    "outputId": "5044b87e-7d05-411c-b259-a1d2d5671f72",
    "ExecuteTime": {
     "end_time": "2024-05-10T10:21:19.322060Z",
     "start_time": "2024-05-10T10:21:19.312480Z"
    }
   },
   "outputs": [
    {
     "data": {
      "text/plain": [
       "        Name  Age Nationality          Club      Value    Wage Position\n",
       "0   L. Messi   31   Argentina  FC Barcelona  110500000  565000       RF\n",
       "7  L. Suárez   31     Uruguay  FC Barcelona   80000000  455000       RS"
      ],
      "text/html": [
       "<div>\n",
       "<style scoped>\n",
       "    .dataframe tbody tr th:only-of-type {\n",
       "        vertical-align: middle;\n",
       "    }\n",
       "\n",
       "    .dataframe tbody tr th {\n",
       "        vertical-align: top;\n",
       "    }\n",
       "\n",
       "    .dataframe thead th {\n",
       "        text-align: right;\n",
       "    }\n",
       "</style>\n",
       "<table border=\"1\" class=\"dataframe\">\n",
       "  <thead>\n",
       "    <tr style=\"text-align: right;\">\n",
       "      <th></th>\n",
       "      <th>Name</th>\n",
       "      <th>Age</th>\n",
       "      <th>Nationality</th>\n",
       "      <th>Club</th>\n",
       "      <th>Value</th>\n",
       "      <th>Wage</th>\n",
       "      <th>Position</th>\n",
       "    </tr>\n",
       "  </thead>\n",
       "  <tbody>\n",
       "    <tr>\n",
       "      <th>0</th>\n",
       "      <td>L. Messi</td>\n",
       "      <td>31</td>\n",
       "      <td>Argentina</td>\n",
       "      <td>FC Barcelona</td>\n",
       "      <td>110500000</td>\n",
       "      <td>565000</td>\n",
       "      <td>RF</td>\n",
       "    </tr>\n",
       "    <tr>\n",
       "      <th>7</th>\n",
       "      <td>L. Suárez</td>\n",
       "      <td>31</td>\n",
       "      <td>Uruguay</td>\n",
       "      <td>FC Barcelona</td>\n",
       "      <td>80000000</td>\n",
       "      <td>455000</td>\n",
       "      <td>RS</td>\n",
       "    </tr>\n",
       "  </tbody>\n",
       "</table>\n",
       "</div>"
      ]
     },
     "execution_count": 22,
     "metadata": {},
     "output_type": "execute_result"
    }
   ],
   "execution_count": 22
  },
  {
   "cell_type": "markdown",
   "metadata": {
    "id": "eVls5quK0K8d"
   },
   "source": [
    "Попробуйте самостоятельно разобраться в том, как работает приведенный выше код, поэтапно вызвав несколько команд и наблюдая за результатом вывода:"
   ]
  },
  {
   "cell_type": "code",
   "metadata": {
    "id": "oLXGVbSY0K8d",
    "ExecuteTime": {
     "end_time": "2024-05-10T10:21:19.793463Z",
     "start_time": "2024-05-10T10:21:19.787935Z"
    }
   },
   "source": [
    "small_football = football[football.columns[0:7]].head(25)"
   ],
   "outputs": [],
   "execution_count": 23
  },
  {
   "cell_type": "code",
   "metadata": {
    "id": "_NO0AKSy0K8d",
    "ExecuteTime": {
     "end_time": "2024-05-10T10:21:20.727730Z",
     "start_time": "2024-05-10T10:21:20.716427Z"
    }
   },
   "source": [
    "s = small_football['Wage'].value_counts(bins=4)"
   ],
   "outputs": [],
   "execution_count": 24
  },
  {
   "cell_type": "code",
   "metadata": {
    "id": "4q6aKJe00K8d",
    "colab": {
     "base_uri": "https://localhost:8080/"
    },
    "outputId": "b4b2b0cd-51b9-44e3-febd-2f4599c8859a",
    "ExecuteTime": {
     "end_time": "2024-05-10T10:21:20.956206Z",
     "start_time": "2024-05-10T10:21:20.946427Z"
    }
   },
   "source": [
    "s"
   ],
   "outputs": [
    {
     "data": {
      "text/plain": [
       "Wage\n",
       "(211750.0, 329500.0]     9\n",
       "(93528.999, 211750.0]    8\n",
       "(329500.0, 447250.0]     6\n",
       "(447250.0, 565000.0]     2\n",
       "Name: count, dtype: int64"
      ]
     },
     "execution_count": 25,
     "metadata": {},
     "output_type": "execute_result"
    }
   ],
   "execution_count": 25
  },
  {
   "cell_type": "code",
   "metadata": {
    "id": "1NhctnBW0K8d",
    "colab": {
     "base_uri": "https://localhost:8080/"
    },
    "outputId": "85bc2f04-11a2-485d-bcb0-f5345a5033cd",
    "ExecuteTime": {
     "end_time": "2024-05-10T10:21:21.184340Z",
     "start_time": "2024-05-10T10:21:21.178122Z"
    }
   },
   "source": [
    "s.index"
   ],
   "outputs": [
    {
     "data": {
      "text/plain": [
       "IntervalIndex([(211750.0, 329500.0], (93528.999, 211750.0], (329500.0, 447250.0], (447250.0, 565000.0]], dtype='interval[float64, right]', name='Wage')"
      ]
     },
     "execution_count": 26,
     "metadata": {},
     "output_type": "execute_result"
    }
   ],
   "execution_count": 26
  },
  {
   "cell_type": "code",
   "metadata": {
    "id": "NzgKZgB20K8d",
    "colab": {
     "base_uri": "https://localhost:8080/"
    },
    "outputId": "a43c6317-94df-4d7e-bc4d-9614a34adf50",
    "ExecuteTime": {
     "end_time": "2024-05-10T10:21:21.289353Z",
     "start_time": "2024-05-10T10:21:21.282996Z"
    }
   },
   "source": [
    "s.index[3]"
   ],
   "outputs": [
    {
     "data": {
      "text/plain": [
       "Interval(447250.0, 565000.0, closed='right')"
      ]
     },
     "execution_count": 27,
     "metadata": {},
     "output_type": "execute_result"
    }
   ],
   "execution_count": 27
  },
  {
   "cell_type": "code",
   "metadata": {
    "id": "DRMHHYTt0K8e",
    "colab": {
     "base_uri": "https://localhost:8080/"
    },
    "outputId": "676b7588-d382-490f-d931-3fdeeac7bab2",
    "ExecuteTime": {
     "end_time": "2024-05-10T10:21:21.464893Z",
     "start_time": "2024-05-10T10:21:21.457204Z"
    }
   },
   "source": [
    "s.index[3].left"
   ],
   "outputs": [
    {
     "data": {
      "text/plain": [
       "447250.0"
      ]
     },
     "execution_count": 28,
     "metadata": {},
     "output_type": "execute_result"
    }
   ],
   "execution_count": 28
  },
  {
   "cell_type": "code",
   "metadata": {
    "id": "eBImRdNf0K8e",
    "colab": {
     "base_uri": "https://localhost:8080/"
    },
    "outputId": "8ae2e588-798c-41fa-aeb0-b7b64a1412b6",
    "ExecuteTime": {
     "end_time": "2024-05-10T10:21:21.608904Z",
     "start_time": "2024-05-10T10:21:21.600395Z"
    }
   },
   "source": [
    "s.index[3].right"
   ],
   "outputs": [
    {
     "data": {
      "text/plain": [
       "565000.0"
      ]
     },
     "execution_count": 29,
     "metadata": {},
     "output_type": "execute_result"
    }
   ],
   "execution_count": 29
  },
  {
   "cell_type": "code",
   "metadata": {
    "id": "zcbqn1kH0K8e",
    "colab": {
     "base_uri": "https://localhost:8080/"
    },
    "outputId": "8688a37f-5d2c-4d66-e237-564ab56ae42d",
    "ExecuteTime": {
     "end_time": "2024-05-10T10:21:21.814235Z",
     "start_time": "2024-05-10T10:21:21.805576Z"
    }
   },
   "source": [
    "small_football['Wage'] > s.index[3].left"
   ],
   "outputs": [
    {
     "data": {
      "text/plain": [
       "0      True\n",
       "1     False\n",
       "2     False\n",
       "3     False\n",
       "4     False\n",
       "5     False\n",
       "6     False\n",
       "7      True\n",
       "8     False\n",
       "9     False\n",
       "10    False\n",
       "11    False\n",
       "12    False\n",
       "13    False\n",
       "14    False\n",
       "15    False\n",
       "16    False\n",
       "17    False\n",
       "18    False\n",
       "19    False\n",
       "20    False\n",
       "21    False\n",
       "22    False\n",
       "23    False\n",
       "24    False\n",
       "Name: Wage, dtype: bool"
      ]
     },
     "execution_count": 30,
     "metadata": {},
     "output_type": "execute_result"
    }
   ],
   "execution_count": 30
  },
  {
   "cell_type": "markdown",
   "metadata": {
    "id": "ryZlVNrR0K8e"
   },
   "source": [
    "### В каких пределах находятся худшие 20% показателей точности ударов ногой (FKAccuracy)?"
   ]
  },
  {
   "cell_type": "code",
   "metadata": {
    "id": "eBchJ9OS0K8e",
    "colab": {
     "base_uri": "https://localhost:8080/"
    },
    "outputId": "e422f9c6-cb29-4620-81aa-bcd69387acc1",
    "ExecuteTime": {
     "end_time": "2024-05-10T10:21:21.915745Z",
     "start_time": "2024-05-10T10:21:21.902Z"
    }
   },
   "source": [
    "foo = football['FKAccuracy'].value_counts(bins=5)\n",
    "foo"
   ],
   "outputs": [
    {
     "data": {
      "text/plain": [
       "FKAccuracy\n",
       "(21.2, 39.4]     4859\n",
       "(39.4, 57.6]     3957\n",
       "(57.6, 75.8]     2108\n",
       "(2.908, 21.2]    1760\n",
       "(75.8, 94.0]      213\n",
       "Name: count, dtype: int64"
      ]
     },
     "execution_count": 31,
     "metadata": {},
     "output_type": "execute_result"
    }
   ],
   "execution_count": 31
  },
  {
   "cell_type": "code",
   "source": [
    "foo.index.right.min()"
   ],
   "metadata": {
    "colab": {
     "base_uri": "https://localhost:8080/"
    },
    "id": "lTHtKG3B7HS4",
    "outputId": "c88ef374-2094-4802-c9d5-7303e758da0d",
    "ExecuteTime": {
     "end_time": "2024-05-10T10:21:22.051441Z",
     "start_time": "2024-05-10T10:21:22.043020Z"
    }
   },
   "outputs": [
    {
     "data": {
      "text/plain": [
       "21.2"
      ]
     },
     "execution_count": 32,
     "metadata": {},
     "output_type": "execute_result"
    }
   ],
   "execution_count": 32
  },
  {
   "cell_type": "code",
   "source": [
    "foo.index.left.min()"
   ],
   "metadata": {
    "colab": {
     "base_uri": "https://localhost:8080/"
    },
    "id": "kkvDbZnUl7yP",
    "outputId": "d686b73e-7b8c-4f6e-c4b0-55903cd12a5a",
    "ExecuteTime": {
     "end_time": "2024-05-10T10:21:22.134071Z",
     "start_time": "2024-05-10T10:21:22.124934Z"
    }
   },
   "outputs": [
    {
     "data": {
      "text/plain": [
       "2.908"
      ]
     },
     "execution_count": 33,
     "metadata": {},
     "output_type": "execute_result"
    }
   ],
   "execution_count": 33
  },
  {
   "cell_type": "markdown",
   "metadata": {
    "id": "GT1MdHuU0K8e"
   },
   "source": [
    "### Какие показатели точности ударов ногой демонстрирует большинство футболистов?"
   ]
  },
  {
   "cell_type": "code",
   "source": [
    "football.FKAccuracy.value_counts()"
   ],
   "metadata": {
    "colab": {
     "base_uri": "https://localhost:8080/"
    },
    "id": "E0wmGRv8nMoD",
    "outputId": "8497f24c-c29d-4eac-d80a-10c74874567a",
    "ExecuteTime": {
     "end_time": "2024-05-10T10:21:22.294949Z",
     "start_time": "2024-05-10T10:21:22.285882Z"
    }
   },
   "outputs": [
    {
     "data": {
      "text/plain": [
       "FKAccuracy\n",
       "32    382\n",
       "35    361\n",
       "42    355\n",
       "40    353\n",
       "39    343\n",
       "     ... \n",
       "94      1\n",
       "93      1\n",
       "90      1\n",
       "92      1\n",
       "3       1\n",
       "Name: count, Length: 89, dtype: int64"
      ]
     },
     "execution_count": 34,
     "metadata": {},
     "output_type": "execute_result"
    }
   ],
   "execution_count": 34
  },
  {
   "cell_type": "code",
   "metadata": {
    "id": "8X3-0Dpe0K8e",
    "colab": {
     "base_uri": "https://localhost:8080/"
    },
    "outputId": "c7c93cad-bdf0-4d5b-93c0-bbdf26bbe2a8",
    "ExecuteTime": {
     "end_time": "2024-05-10T10:21:22.405655Z",
     "start_time": "2024-05-10T10:21:22.395882Z"
    }
   },
   "source": [
    "football.FKAccuracy.value_counts().index[0]"
   ],
   "outputs": [
    {
     "data": {
      "text/plain": [
       "32"
      ]
     },
     "execution_count": 35,
     "metadata": {},
     "output_type": "execute_result"
    }
   ],
   "execution_count": 35
  },
  {
   "cell_type": "code",
   "source": [
    "football.FKAccuracy.value_counts().idxmax()"
   ],
   "metadata": {
    "colab": {
     "base_uri": "https://localhost:8080/"
    },
    "id": "QZ6jM-yTnBkI",
    "outputId": "e8d21c69-30fc-4bac-d2ef-7bf92e627d16",
    "ExecuteTime": {
     "end_time": "2024-05-10T10:21:22.556802Z",
     "start_time": "2024-05-10T10:21:22.550700Z"
    }
   },
   "outputs": [
    {
     "data": {
      "text/plain": [
       "32"
      ]
     },
     "execution_count": 36,
     "metadata": {},
     "output_type": "execute_result"
    }
   ],
   "execution_count": 36
  },
  {
   "cell_type": "markdown",
   "metadata": {
    "id": "fqryMITQ0K8e"
   },
   "source": [
    "В одном из предыдущих примеров мы подсчитывали количество уникальных национальностей с помощью следующего кода:"
   ]
  },
  {
   "cell_type": "code",
   "metadata": {
    "id": "7tibf_wm0K8f",
    "colab": {
     "base_uri": "https://localhost:8080/"
    },
    "outputId": "fad1e2e1-350d-4937-cd8b-7223c55bc93d",
    "ExecuteTime": {
     "end_time": "2024-05-10T10:21:22.633719Z",
     "start_time": "2024-05-10T10:21:22.624662Z"
    }
   },
   "source": [
    "s = small_football['Nationality'].value_counts()\n",
    "s.index"
   ],
   "outputs": [
    {
     "data": {
      "text/plain": [
       "Index(['Spain', 'Argentina', 'Belgium', 'Uruguay', 'Germany', 'France',\n",
       "       'Portugal', 'Brazil', 'Croatia', 'Slovenia', 'Poland', 'England',\n",
       "       'Italy'],\n",
       "      dtype='object', name='Nationality')"
      ]
     },
     "execution_count": 37,
     "metadata": {},
     "output_type": "execute_result"
    }
   ],
   "execution_count": 37
  },
  {
   "cell_type": "code",
   "metadata": {
    "id": "IMFvFbqP0K8f",
    "colab": {
     "base_uri": "https://localhost:8080/"
    },
    "outputId": "35019cdc-c9a8-424b-e5df-b335b4a588e6",
    "ExecuteTime": {
     "end_time": "2024-05-10T10:21:22.797303Z",
     "start_time": "2024-05-10T10:21:22.791120Z"
    }
   },
   "source": [
    "len(s.index)"
   ],
   "outputs": [
    {
     "data": {
      "text/plain": [
       "13"
      ]
     },
     "execution_count": 38,
     "metadata": {},
     "output_type": "execute_result"
    }
   ],
   "execution_count": 38
  },
  {
   "cell_type": "markdown",
   "metadata": {
    "id": "VXzOwRcJ0K8f"
   },
   "source": [
    "s.index в данном случае выводит уникальные значения, а `len(s.index)` подсчитывает количество этих значений. На самом деле, сделать это можно было проще, при помощи функции `unique`:"
   ]
  },
  {
   "cell_type": "code",
   "metadata": {
    "id": "Bx9gGFG90K8f",
    "colab": {
     "base_uri": "https://localhost:8080/"
    },
    "outputId": "a117ee56-f83a-4e7e-de03-0d455e3193f2",
    "ExecuteTime": {
     "end_time": "2024-05-10T10:21:22.911212Z",
     "start_time": "2024-05-10T10:21:22.903798Z"
    }
   },
   "source": [
    "small_football['Nationality'].unique()"
   ],
   "outputs": [
    {
     "data": {
      "text/plain": [
       "array(['Argentina', 'Portugal', 'Brazil', 'Spain', 'Belgium', 'Croatia',\n",
       "       'Uruguay', 'Slovenia', 'Poland', 'Germany', 'France', 'England',\n",
       "       'Italy'], dtype=object)"
      ]
     },
     "execution_count": 39,
     "metadata": {},
     "output_type": "execute_result"
    }
   ],
   "execution_count": 39
  },
  {
   "cell_type": "markdown",
   "metadata": {
    "id": "4ayALteO0K8f"
   },
   "source": [
    "Функция unique возвращает список уникальных элементов из серии.\n",
    "\n",
    "Передав получившийся список в функцию `len`, мы можем подсчитать количество уникальных значений в серии:"
   ]
  },
  {
   "cell_type": "code",
   "metadata": {
    "id": "R5OJg2Us0K8f",
    "colab": {
     "base_uri": "https://localhost:8080/"
    },
    "outputId": "d0145893-f78e-4998-df84-3803f1431a4f",
    "ExecuteTime": {
     "end_time": "2024-05-10T10:21:23.009814Z",
     "start_time": "2024-05-10T10:21:23.004292Z"
    }
   },
   "source": [
    "len(small_football['Nationality'].unique())"
   ],
   "outputs": [
    {
     "data": {
      "text/plain": [
       "13"
      ]
     },
     "execution_count": 40,
     "metadata": {},
     "output_type": "execute_result"
    }
   ],
   "execution_count": 40
  },
  {
   "cell_type": "markdown",
   "metadata": {
    "id": "kiuHVrnM0K8g"
   },
   "source": [
    "Но если наша конечная цель - получить количество уникальных значений в серии, то мы можем поступить ещё проще, вызвав функцию nunique:"
   ]
  },
  {
   "cell_type": "code",
   "metadata": {
    "id": "P6HjjLcp0K8g",
    "colab": {
     "base_uri": "https://localhost:8080/"
    },
    "outputId": "10ad002b-a309-46f4-91af-4a08267fe70d",
    "ExecuteTime": {
     "end_time": "2024-05-10T10:21:23.086917Z",
     "start_time": "2024-05-10T10:21:23.079257Z"
    }
   },
   "source": [
    "small_football['Nationality'].nunique()"
   ],
   "outputs": [
    {
     "data": {
      "text/plain": [
       "13"
      ]
     },
     "execution_count": 41,
     "metadata": {},
     "output_type": "execute_result"
    }
   ],
   "execution_count": 41
  },
  {
   "cell_type": "markdown",
   "metadata": {
    "id": "4_0Dejtx0K8g"
   },
   "source": [
    "Иногда бывает полезно преобразовать серию, получившуюся в результате работы функции `value_counts`, в датафрейм. Для этого нужно к получившейся серии применить функцию `reset_index`. Эта операция может пригодиться вам в ходе дальнейшего решения задач."
   ]
  },
  {
   "cell_type": "code",
   "metadata": {
    "id": "KjEC2fnL0K8g",
    "colab": {
     "base_uri": "https://localhost:8080/",
     "height": 457
    },
    "outputId": "b1b19d0c-a685-430c-e2c1-7625a327945e",
    "ExecuteTime": {
     "end_time": "2024-05-10T10:21:23.261594Z",
     "start_time": "2024-05-10T10:21:23.251957Z"
    }
   },
   "source": [
    "s = small_football['Nationality'].value_counts()\n",
    "s_df = s.reset_index()\n",
    "s_df"
   ],
   "outputs": [
    {
     "data": {
      "text/plain": [
       "   Nationality  count\n",
       "0        Spain      4\n",
       "1    Argentina      3\n",
       "2      Belgium      3\n",
       "3      Uruguay      3\n",
       "4      Germany      3\n",
       "5       France      2\n",
       "6     Portugal      1\n",
       "7       Brazil      1\n",
       "8      Croatia      1\n",
       "9     Slovenia      1\n",
       "10      Poland      1\n",
       "11     England      1\n",
       "12       Italy      1"
      ],
      "text/html": [
       "<div>\n",
       "<style scoped>\n",
       "    .dataframe tbody tr th:only-of-type {\n",
       "        vertical-align: middle;\n",
       "    }\n",
       "\n",
       "    .dataframe tbody tr th {\n",
       "        vertical-align: top;\n",
       "    }\n",
       "\n",
       "    .dataframe thead th {\n",
       "        text-align: right;\n",
       "    }\n",
       "</style>\n",
       "<table border=\"1\" class=\"dataframe\">\n",
       "  <thead>\n",
       "    <tr style=\"text-align: right;\">\n",
       "      <th></th>\n",
       "      <th>Nationality</th>\n",
       "      <th>count</th>\n",
       "    </tr>\n",
       "  </thead>\n",
       "  <tbody>\n",
       "    <tr>\n",
       "      <th>0</th>\n",
       "      <td>Spain</td>\n",
       "      <td>4</td>\n",
       "    </tr>\n",
       "    <tr>\n",
       "      <th>1</th>\n",
       "      <td>Argentina</td>\n",
       "      <td>3</td>\n",
       "    </tr>\n",
       "    <tr>\n",
       "      <th>2</th>\n",
       "      <td>Belgium</td>\n",
       "      <td>3</td>\n",
       "    </tr>\n",
       "    <tr>\n",
       "      <th>3</th>\n",
       "      <td>Uruguay</td>\n",
       "      <td>3</td>\n",
       "    </tr>\n",
       "    <tr>\n",
       "      <th>4</th>\n",
       "      <td>Germany</td>\n",
       "      <td>3</td>\n",
       "    </tr>\n",
       "    <tr>\n",
       "      <th>5</th>\n",
       "      <td>France</td>\n",
       "      <td>2</td>\n",
       "    </tr>\n",
       "    <tr>\n",
       "      <th>6</th>\n",
       "      <td>Portugal</td>\n",
       "      <td>1</td>\n",
       "    </tr>\n",
       "    <tr>\n",
       "      <th>7</th>\n",
       "      <td>Brazil</td>\n",
       "      <td>1</td>\n",
       "    </tr>\n",
       "    <tr>\n",
       "      <th>8</th>\n",
       "      <td>Croatia</td>\n",
       "      <td>1</td>\n",
       "    </tr>\n",
       "    <tr>\n",
       "      <th>9</th>\n",
       "      <td>Slovenia</td>\n",
       "      <td>1</td>\n",
       "    </tr>\n",
       "    <tr>\n",
       "      <th>10</th>\n",
       "      <td>Poland</td>\n",
       "      <td>1</td>\n",
       "    </tr>\n",
       "    <tr>\n",
       "      <th>11</th>\n",
       "      <td>England</td>\n",
       "      <td>1</td>\n",
       "    </tr>\n",
       "    <tr>\n",
       "      <th>12</th>\n",
       "      <td>Italy</td>\n",
       "      <td>1</td>\n",
       "    </tr>\n",
       "  </tbody>\n",
       "</table>\n",
       "</div>"
      ]
     },
     "execution_count": 42,
     "metadata": {},
     "output_type": "execute_result"
    }
   ],
   "execution_count": 42
  },
  {
   "cell_type": "markdown",
   "metadata": {
    "id": "4oGS0AEX0K8g"
   },
   "source": [
    "Ну и чтобы всё выглядело красиво и правильно, переименуем столбцы получившегося датафрейма в соответствии с тем, что в них хранится:"
   ]
  },
  {
   "cell_type": "code",
   "metadata": {
    "id": "UqG5mRno0K8g",
    "colab": {
     "base_uri": "https://localhost:8080/",
     "height": 457
    },
    "outputId": "37cbb7aa-340e-4272-f530-ceba494624cc",
    "ExecuteTime": {
     "end_time": "2024-05-10T10:21:23.304882Z",
     "start_time": "2024-05-10T10:21:23.292501Z"
    }
   },
   "source": [
    "s_df.columns = ['Nationality','Players Count']\n",
    "s_df"
   ],
   "outputs": [
    {
     "data": {
      "text/plain": [
       "   Nationality  Players Count\n",
       "0        Spain              4\n",
       "1    Argentina              3\n",
       "2      Belgium              3\n",
       "3      Uruguay              3\n",
       "4      Germany              3\n",
       "5       France              2\n",
       "6     Portugal              1\n",
       "7       Brazil              1\n",
       "8      Croatia              1\n",
       "9     Slovenia              1\n",
       "10      Poland              1\n",
       "11     England              1\n",
       "12       Italy              1"
      ],
      "text/html": [
       "<div>\n",
       "<style scoped>\n",
       "    .dataframe tbody tr th:only-of-type {\n",
       "        vertical-align: middle;\n",
       "    }\n",
       "\n",
       "    .dataframe tbody tr th {\n",
       "        vertical-align: top;\n",
       "    }\n",
       "\n",
       "    .dataframe thead th {\n",
       "        text-align: right;\n",
       "    }\n",
       "</style>\n",
       "<table border=\"1\" class=\"dataframe\">\n",
       "  <thead>\n",
       "    <tr style=\"text-align: right;\">\n",
       "      <th></th>\n",
       "      <th>Nationality</th>\n",
       "      <th>Players Count</th>\n",
       "    </tr>\n",
       "  </thead>\n",
       "  <tbody>\n",
       "    <tr>\n",
       "      <th>0</th>\n",
       "      <td>Spain</td>\n",
       "      <td>4</td>\n",
       "    </tr>\n",
       "    <tr>\n",
       "      <th>1</th>\n",
       "      <td>Argentina</td>\n",
       "      <td>3</td>\n",
       "    </tr>\n",
       "    <tr>\n",
       "      <th>2</th>\n",
       "      <td>Belgium</td>\n",
       "      <td>3</td>\n",
       "    </tr>\n",
       "    <tr>\n",
       "      <th>3</th>\n",
       "      <td>Uruguay</td>\n",
       "      <td>3</td>\n",
       "    </tr>\n",
       "    <tr>\n",
       "      <th>4</th>\n",
       "      <td>Germany</td>\n",
       "      <td>3</td>\n",
       "    </tr>\n",
       "    <tr>\n",
       "      <th>5</th>\n",
       "      <td>France</td>\n",
       "      <td>2</td>\n",
       "    </tr>\n",
       "    <tr>\n",
       "      <th>6</th>\n",
       "      <td>Portugal</td>\n",
       "      <td>1</td>\n",
       "    </tr>\n",
       "    <tr>\n",
       "      <th>7</th>\n",
       "      <td>Brazil</td>\n",
       "      <td>1</td>\n",
       "    </tr>\n",
       "    <tr>\n",
       "      <th>8</th>\n",
       "      <td>Croatia</td>\n",
       "      <td>1</td>\n",
       "    </tr>\n",
       "    <tr>\n",
       "      <th>9</th>\n",
       "      <td>Slovenia</td>\n",
       "      <td>1</td>\n",
       "    </tr>\n",
       "    <tr>\n",
       "      <th>10</th>\n",
       "      <td>Poland</td>\n",
       "      <td>1</td>\n",
       "    </tr>\n",
       "    <tr>\n",
       "      <th>11</th>\n",
       "      <td>England</td>\n",
       "      <td>1</td>\n",
       "    </tr>\n",
       "    <tr>\n",
       "      <th>12</th>\n",
       "      <td>Italy</td>\n",
       "      <td>1</td>\n",
       "    </tr>\n",
       "  </tbody>\n",
       "</table>\n",
       "</div>"
      ]
     },
     "execution_count": 43,
     "metadata": {},
     "output_type": "execute_result"
    }
   ],
   "execution_count": 43
  },
  {
   "cell_type": "markdown",
   "metadata": {
    "id": "vIZ4ew6d0K8g"
   },
   "source": [
    "### Задача 1\n",
    "\n",
    "У какого процента испанских специалистов (`Nationality = 'Spain'`) зарплата (`Wage`) находится в пределах 25% минимума от наблюдаемого уровня зарплат? Ответ в виде целого числа (округлите полученный результат) без знака %.\n",
    "\n",
    "Подсказка: Для решения задачи используйте `value_counts()` с параметром `bins = 4`."
   ]
  },
  {
   "cell_type": "code",
   "source": [
    "spanish_players = football[football['Nationality'] == 'Spain']\n",
    "\n",
    "wage_bins = spanish_players['Wage'].value_counts(bins=4)\n",
    "\n",
    "spanish_in_first_bin = wage_bins.iloc[0]\n",
    "\n",
    "total_spanish_players = len(spanish_players)\n",
    "\n",
    "# Вычислить процент испанских специалистов с зарплатой в пределах 25% минимума\n",
    "percentage = (spanish_in_first_bin / total_spanish_players) * 100\n",
    "\n",
    "result = round(percentage)\n",
    "print(\"Процент испанских специалистов с зарплатой в пределах 25% минимума:\", result)"
   ],
   "metadata": {
    "id": "fl0G6lSb-7B5",
    "outputId": "bd58546a-bf9f-4a42-94a9-d0c074cd6975",
    "colab": {
     "base_uri": "https://localhost:8080/"
    },
    "ExecuteTime": {
     "end_time": "2024-05-10T10:21:23.512776Z",
     "start_time": "2024-05-10T10:21:23.494890Z"
    }
   },
   "outputs": [
    {
     "name": "stdout",
     "output_type": "stream",
     "text": [
      "Процент испанских специалистов с зарплатой в пределах 25% минимума: 97\n"
     ]
    }
   ],
   "execution_count": 44
  },
  {
   "cell_type": "markdown",
   "metadata": {
    "id": "or0kXIv90K8h"
   },
   "source": [
    "### Задача 2\n",
    "\n",
    "Укажите количество уникальных сборных (`Nationality`), к которым относятся футболисты, выступающие за клуб (`Club`) `\"Manchester United\"`."
   ]
  },
  {
   "cell_type": "code",
   "source": [
    "man_united_players = football[football['Club'] == 'Manchester United']\n",
    "\n",
    "# Подсчет количества уникальных национальностей\n",
    "unique_nationalities = man_united_players['Nationality'].nunique()\n",
    "\n",
    "print(\"Количество уникальных сборных, к которым относятся футболисты, выступающие за Manchester United: \", unique_nationalities)"
   ],
   "metadata": {
    "id": "ve-eCWE4-8iX",
    "outputId": "3c80bc18-ab17-4a92-b90c-1eb5a2fbe139",
    "colab": {
     "base_uri": "https://localhost:8080/"
    },
    "ExecuteTime": {
     "end_time": "2024-05-10T10:21:23.667568Z",
     "start_time": "2024-05-10T10:21:23.660200Z"
    }
   },
   "outputs": [
    {
     "name": "stdout",
     "output_type": "stream",
     "text": [
      "Количество уникальных сборных, к которым относятся футболисты, выступающие за Manchester United:  13\n"
     ]
    }
   ],
   "execution_count": 45
  },
  {
   "cell_type": "markdown",
   "metadata": {
    "id": "RfsyJ88R0K8h"
   },
   "source": [
    "### Задача 3\n",
    "\n",
    "С помощью функции unique определите двух футболистов из Бразилии (`Nationality = 'Brazil'`), выступающих за клуб (`Club`) `'Juventus'`. Перечислите их имена (`Name`, как в датафрейме) через запятую в алфавитном порядке."
   ]
  },
  {
   "cell_type": "code",
   "source": [
    "# Фильтрация данных по условиям национальности и клуба\n",
    "brazilian_juventus_players = football[(football['Nationality'] == 'Brazil') & (football['Club'] == 'Juventus')]\n",
    "\n",
    "# Получение уникальных имен футболистов\n",
    "unique_names = brazilian_juventus_players['Name'].unique()\n",
    "\n",
    "sorted_names = sorted(unique_names)\n",
    "\n",
    "names_str = ', '.join(sorted_names)\n",
    "\n",
    "print(\"Имена футболистов из Бразилии, выступающих за Juventus:\", names_str)"
   ],
   "metadata": {
    "id": "6PuT0w2J--S7",
    "outputId": "e1c0d72f-6f76-4719-c55e-1f9873210268",
    "colab": {
     "base_uri": "https://localhost:8080/"
    },
    "ExecuteTime": {
     "end_time": "2024-05-10T10:21:23.921709Z",
     "start_time": "2024-05-10T10:21:23.911835Z"
    }
   },
   "outputs": [
    {
     "name": "stdout",
     "output_type": "stream",
     "text": [
      "Имена футболистов из Бразилии, выступающих за Juventus: Alex Sandro, Douglas Costa\n"
     ]
    }
   ],
   "execution_count": 46
  },
  {
   "cell_type": "markdown",
   "metadata": {
    "id": "lxO8x9W00K8h"
   },
   "source": [
    "### Задача 4\n",
    "\n",
    "Укажите, какой из клубов (`Club`) насчитывает наибольшее количество футболистов возраста (`Age`) `старше 35 лет`."
   ]
  },
  {
   "cell_type": "code",
   "source": [
    "older_than_35 = football[football['Age'] > 35]\n",
    "\n",
    "club_counts = older_than_35['Club'].value_counts()\n",
    "\n",
    "club_with_most_players = club_counts.idxmax()\n",
    "\n",
    "print(\"Клуб с наибольшим количеством футболистов возраста старше 35 лет:\", club_with_most_players)\n"
   ],
   "metadata": {
    "id": "8_mhitNX_EBI",
    "outputId": "12cd5d77-829a-4c0d-f8a5-9a5fef8a02dd",
    "colab": {
     "base_uri": "https://localhost:8080/"
    },
    "ExecuteTime": {
     "end_time": "2024-05-10T10:21:24.257654Z",
     "start_time": "2024-05-10T10:21:24.250807Z"
    }
   },
   "outputs": [
    {
     "name": "stdout",
     "output_type": "stream",
     "text": [
      "Клуб с наибольшим количеством футболистов возраста старше 35 лет: Hokkaido Consadole Sapporo\n"
     ]
    }
   ],
   "execution_count": 47
  },
  {
   "cell_type": "markdown",
   "metadata": {
    "id": "JN186tgr0K8h"
   },
   "source": [
    "### Задача 5\n",
    "\n",
    "С помощью функции `value_counts` с параметром `bins` разбейте всех футболистов сборной (`Nationality`) Аргентины (`'Argentina'`) на 4 равные группы. Укажите, сколько футболистов в возрасте от `34.75 до 41 года` в сборной `Аргентины`."
   ]
  },
  {
   "cell_type": "code",
   "source": [
    "argentina_players = football[football['Nationality'] == 'Argentina']\n",
    "\n",
    "age_bins = argentina_players['Age'].value_counts(bins=4)\n",
    "\n",
    "players_in_range = age_bins.loc[slice(34.75, 41)]\n",
    "\n",
    "# Вывести результат\n",
    "print(\"Количество футболистов в возрасте от 34.75 до 41 года в сборной Аргентины:\", players_in_range)\n",
    "\n"
   ],
   "metadata": {
    "id": "ZCvA7njE_Gjo",
    "outputId": "6b252ec8-deca-47bf-f826-a27daeb8c5ab",
    "colab": {
     "base_uri": "https://localhost:8080/"
    },
    "ExecuteTime": {
     "end_time": "2024-05-10T10:21:24.426544Z",
     "start_time": "2024-05-10T10:21:24.408735Z"
    }
   },
   "outputs": [
    {
     "name": "stdout",
     "output_type": "stream",
     "text": [
      "Количество футболистов в возрасте от 34.75 до 41 года в сборной Аргентины: Age\n",
      "(28.5, 34.75]    128\n",
      "(34.75, 41.0]     49\n",
      "Name: count, dtype: int64\n"
     ]
    }
   ],
   "execution_count": 48
  },
  {
   "cell_type": "markdown",
   "metadata": {
    "id": "psGcE-nM0K8h"
   },
   "source": [
    "### Задача 6\n",
    "\n",
    "Сколько процентов футболистов из Испании (`Nationality = 'Spain'`) имеют возраст (`Age`) `21 год`? Введите с точностью до 2 знаков после запятой без указания знака % (например, 12.35)."
   ]
  },
  {
   "cell_type": "code",
   "source": [
    "spain_players_21 = football[(football['Nationality'] == 'Spain') & (football['Age'] == 21)]\n",
    "\n",
    "count_spain_players_21 = len(spain_players_21)\n",
    "\n",
    "total_spain_players = len(football[football['Nationality'] == 'Spain'])\n",
    "\n",
    "# Вычисление процента футболистов из Испании с возрастом 21 год\n",
    "percentage = (count_spain_players_21 / total_spain_players) * 100\n",
    "\n",
    "print(\"Процент футболистов из Испании с возрастом 21 год:\", round(percentage, 2))"
   ],
   "metadata": {
    "id": "GThotxAgvycd",
    "outputId": "163f4df4-7d6e-4512-e6e1-dea91af785b7",
    "colab": {
     "base_uri": "https://localhost:8080/"
    },
    "ExecuteTime": {
     "end_time": "2024-05-10T10:21:24.611148Z",
     "start_time": "2024-05-10T10:21:24.599651Z"
    }
   },
   "outputs": [
    {
     "name": "stdout",
     "output_type": "stream",
     "text": [
      "Процент футболистов из Испании с возрастом 21 год: 11.77\n"
     ]
    }
   ],
   "execution_count": 49
  }
 ]
}
