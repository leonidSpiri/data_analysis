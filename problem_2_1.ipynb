{
 "cells": [
  {
   "metadata": {
    "ExecuteTime": {
     "end_time": "2024-05-10T10:17:45.718646Z",
     "start_time": "2024-05-10T10:17:45.699782Z"
    }
   },
   "cell_type": "code",
   "source": [
    "import numpy as np\n",
    "arr = np.arange(10)\n",
    "print(\"2)\", arr)\n",
    "\n",
    "logical_arr = np.full((3, 3), True, dtype=bool)\n",
    "print(\"3)\", logical_arr)\n",
    "\n",
    "odd_nums = arr[arr % 2 != 0]\n",
    "print(\"4)\", odd_nums)\n",
    "\n",
    "arr[arr % 2 != 0] = -1\n",
    "print(\"5)\", arr)\n",
    "\n",
    "arr = np.arange(10)\n",
    "out = np.where(arr % 2 != 0, -1, arr)\n",
    "print(\"6) out\\n\", out)\n",
    "print(\"6) arr\\n\", arr)\n",
    "\n",
    "arr_2d = np.arange(10).reshape(2, -1)\n",
    "print(\"7)\", arr_2d)\n",
    "\n",
    "a = np.arange(10).reshape(2, -1)\n",
    "b = np.repeat(1, 10).reshape(2, -1)\n",
    "result = np.vstack([a, b])\n",
    "print(\"8)\", result)\n",
    "\n",
    "a = np.arange(10).reshape(2,-1)\n",
    "b = np.repeat(1, 10).reshape(2,-1)\n",
    "horizontal_stack = np.hstack([a, b])\n",
    "print(\"9)\", horizontal_stack)\n",
    "\n",
    "a = np.array([2, 6, 1, 9, 10, 3, 27])\n",
    "desired_result = np.where((a >= 5) & (a <= 10))\n",
    "print(\"14)\", a[desired_result])\n",
    "\n",
    "arr = np.arange(9).reshape(3,3)\n",
    "arr[:, [1, 2]] = arr[:, [2, 1]]\n",
    "print(\"16)\", arr)\n",
    "\n",
    "arr = np.arange(9).reshape(3,3)\n",
    "arr[[1, 2], :] = arr[[2, 1], :]\n",
    "print(\"17)\", arr)\n",
    "\n",
    "arr = np.arange(9).reshape(3,3)\n",
    "arr[[0, -1], :] = arr[[-1, 0], :]\n",
    "print(\"18)\", arr)\n",
    "\n",
    "arr = np.arange(9).reshape(3,3)\n",
    "arr[:, [0, -1]] = arr[:, [-1, 0]]\n",
    "print(\"19)\", arr)\n",
    "\n",
    "random_decimal_array = np.random.uniform(5, 10, size=(5, 3))\n",
    "print(\"20)\", random_decimal_array)\n"
   ],
   "id": "fb440b82895f2755",
   "outputs": [
    {
     "name": "stdout",
     "output_type": "stream",
     "text": [
      "2) [0 1 2 3 4 5 6 7 8 9]\n",
      "3) [[ True  True  True]\n",
      " [ True  True  True]\n",
      " [ True  True  True]]\n",
      "4) [1 3 5 7 9]\n",
      "5) [ 0 -1  2 -1  4 -1  6 -1  8 -1]\n",
      "6) out\n",
      " [ 0 -1  2 -1  4 -1  6 -1  8 -1]\n",
      "6) arr\n",
      " [0 1 2 3 4 5 6 7 8 9]\n",
      "7) [[0 1 2 3 4]\n",
      " [5 6 7 8 9]]\n",
      "8) [[0 1 2 3 4]\n",
      " [5 6 7 8 9]\n",
      " [1 1 1 1 1]\n",
      " [1 1 1 1 1]]\n",
      "9) [[0 1 2 3 4 1 1 1 1 1]\n",
      " [5 6 7 8 9 1 1 1 1 1]]\n",
      "14) [ 6  9 10]\n",
      "16) [[0 2 1]\n",
      " [3 5 4]\n",
      " [6 8 7]]\n",
      "17) [[0 1 2]\n",
      " [6 7 8]\n",
      " [3 4 5]]\n",
      "18) [[6 7 8]\n",
      " [3 4 5]\n",
      " [0 1 2]]\n",
      "19) [[2 1 0]\n",
      " [5 4 3]\n",
      " [8 7 6]]\n",
      "20) [[9.97898224 7.90061923 8.24020678]\n",
      " [6.31348259 9.81722952 5.65443188]\n",
      " [5.28822974 5.46813794 7.67576522]\n",
      " [6.42747467 5.49884378 7.34344096]\n",
      " [9.1810529  8.0096024  9.15548989]]\n"
     ]
    }
   ],
   "execution_count": 2
  }
 ],
 "metadata": {
  "kernelspec": {
   "display_name": "Python 3",
   "language": "python",
   "name": "python3"
  },
  "language_info": {
   "codemirror_mode": {
    "name": "ipython",
    "version": 2
   },
   "file_extension": ".py",
   "mimetype": "text/x-python",
   "name": "python",
   "nbconvert_exporter": "python",
   "pygments_lexer": "ipython2",
   "version": "2.7.6"
  }
 },
 "nbformat": 4,
 "nbformat_minor": 5
}
