{
 "cells": [
  {
   "cell_type": "markdown",
   "metadata": {},
   "source": [
    "# Классная работа 5"
   ]
  },
  {
   "cell_type": "markdown",
   "metadata": {},
   "source": [
    "**Пункты 1-2**"
   ]
  },
  {
   "cell_type": "code",
   "execution_count": 18,
   "metadata": {
    "ExecuteTime": {
     "end_time": "2023-12-01T06:57:36.769016Z",
     "start_time": "2023-12-01T06:57:36.493838Z"
    }
   },
   "outputs": [
    {
     "data": {
      "text/plain": "   numb.obs  COKE  D_COKE  D_PEPSI  D_7UP  PEPSI  SPRITE  TAB  SEVENUP\n0         1     1       0        0      0      1       1    0        1\n1         2     1       0        0      0      1       0    0        0\n2         3     1       0        0      0      1       0    0        0\n3         4     0       1        0      1      0       0    1        0\n4         5     1       0        0      0      1       0    0        0",
      "text/html": "<div>\n<style scoped>\n    .dataframe tbody tr th:only-of-type {\n        vertical-align: middle;\n    }\n\n    .dataframe tbody tr th {\n        vertical-align: top;\n    }\n\n    .dataframe thead th {\n        text-align: right;\n    }\n</style>\n<table border=\"1\" class=\"dataframe\">\n  <thead>\n    <tr style=\"text-align: right;\">\n      <th></th>\n      <th>numb.obs</th>\n      <th>COKE</th>\n      <th>D_COKE</th>\n      <th>D_PEPSI</th>\n      <th>D_7UP</th>\n      <th>PEPSI</th>\n      <th>SPRITE</th>\n      <th>TAB</th>\n      <th>SEVENUP</th>\n    </tr>\n  </thead>\n  <tbody>\n    <tr>\n      <th>0</th>\n      <td>1</td>\n      <td>1</td>\n      <td>0</td>\n      <td>0</td>\n      <td>0</td>\n      <td>1</td>\n      <td>1</td>\n      <td>0</td>\n      <td>1</td>\n    </tr>\n    <tr>\n      <th>1</th>\n      <td>2</td>\n      <td>1</td>\n      <td>0</td>\n      <td>0</td>\n      <td>0</td>\n      <td>1</td>\n      <td>0</td>\n      <td>0</td>\n      <td>0</td>\n    </tr>\n    <tr>\n      <th>2</th>\n      <td>3</td>\n      <td>1</td>\n      <td>0</td>\n      <td>0</td>\n      <td>0</td>\n      <td>1</td>\n      <td>0</td>\n      <td>0</td>\n      <td>0</td>\n    </tr>\n    <tr>\n      <th>3</th>\n      <td>4</td>\n      <td>0</td>\n      <td>1</td>\n      <td>0</td>\n      <td>1</td>\n      <td>0</td>\n      <td>0</td>\n      <td>1</td>\n      <td>0</td>\n    </tr>\n    <tr>\n      <th>4</th>\n      <td>5</td>\n      <td>1</td>\n      <td>0</td>\n      <td>0</td>\n      <td>0</td>\n      <td>1</td>\n      <td>0</td>\n      <td>0</td>\n      <td>0</td>\n    </tr>\n  </tbody>\n</table>\n</div>"
     },
     "execution_count": 18,
     "metadata": {},
     "output_type": "execute_result"
    }
   ],
   "source": [
    "from pandas import read_csv\n",
    "import pandas as pd\n",
    "import sklearn.cluster as skcl\n",
    "import scipy\n",
    "import matplotlib.pyplot as plt\n",
    "\n",
    "filename = 'data/beverage_r.csv'\n",
    "data = read_csv(filename, sep=\";\")\n",
    "\n",
    "data.head()"
   ]
  },
  {
   "cell_type": "markdown",
   "metadata": {},
   "source": [
    "**Пункт 3**"
   ]
  },
  {
   "cell_type": "code",
   "execution_count": 19,
   "metadata": {
    "ExecuteTime": {
     "end_time": "2023-12-01T06:57:36.901Z",
     "start_time": "2023-12-01T06:57:36.514176Z"
    }
   },
   "outputs": [
    {
     "name": "stdout",
     "output_type": "stream",
     "text": [
      "[[ 1.          2.          1.          2.        ]\n",
      " [20.         21.          1.          2.        ]\n",
      " [ 4.          5.          1.41421356  2.        ]\n",
      " [25.         26.          1.41421356  2.        ]\n",
      " [27.         28.          1.41421356  2.        ]]\n"
     ]
    }
   ],
   "source": [
    "linkage = scipy.cluster.hierarchy.linkage(data, method='ward', metric='euclidean')\n",
    "print(linkage[:5])"
   ]
  },
  {
   "cell_type": "markdown",
   "metadata": {},
   "source": [
    "**Пункт 4**"
   ]
  },
  {
   "cell_type": "code",
   "execution_count": 20,
   "metadata": {
    "ExecuteTime": {
     "end_time": "2023-12-01T06:57:37.148002Z",
     "start_time": "2023-12-01T06:57:36.589558Z"
    }
   },
   "outputs": [
    {
     "data": {
      "text/plain": "<Figure size 640x480 with 1 Axes>",
      "image/png": "[encoded data removed]"
     },
     "metadata": {},
     "output_type": "display_data"
    }
   ],
   "source": [
    "scipy.cluster.hierarchy.dendrogram(linkage)\n",
    "plt.show()"
   ]
  },
  {
   "cell_type": "markdown",
   "metadata": {},
   "source": [
    "Программа предлагает выделить 2 кластера, но скорее правильным решением будет остановиться на 3, т.к. между двумя зелеными ветвями (после первого деления) видно сильное различие в группировке."
   ]
  },
  {
   "cell_type": "markdown",
   "metadata": {},
   "source": [
    "**Пункты 5-6**"
   ]
  },
  {
   "cell_type": "code",
   "execution_count": 21,
   "metadata": {
    "ExecuteTime": {
     "end_time": "2023-12-01T06:57:37.254622Z",
     "start_time": "2023-12-01T06:57:37.128333Z"
    }
   },
   "outputs": [
    {
     "name": "stdout",
     "output_type": "stream",
     "text": [
      "         numb.obs      COKE    D_COKE   D_PEPSI     D_7UP     PEPSI    SPRITE  \\\n",
      "CLUSTER                                                                         \n",
      "1            26.0  0.588235  0.588235  0.294118  0.235294  0.411765  0.117647   \n",
      "2             9.0  0.588235  0.411765  0.176471  0.176471  0.529412  0.529412   \n",
      "\n",
      "              TAB   SEVENUP  \n",
      "CLUSTER                      \n",
      "1        0.352941  0.235294  \n",
      "2        0.294118  0.294118  \n"
     ]
    }
   ],
   "source": [
    "data1 = data.copy()\n",
    "data1['CLUSTER'] = scipy.cluster.hierarchy.fcluster(linkage, 2, criterion='maxclust')\n",
    "data1_gr = data1.groupby('CLUSTER')\n",
    "data1_mean = data1_gr.mean()\n",
    "print(data1_mean)"
   ]
  },
  {
   "cell_type": "markdown",
   "metadata": {},
   "source": [
    "Кластер 1: Участники фокус-группы, ответы которых вошли в данный кластер, склонны к выбору D_COKE, D_PEPSI и TAB.\n",
    "\n",
    "Кластер 2: Участники фокус-группы предпочитают COKE, PEPSI и SPRITE другим напиткам.\n",
    "\n",
    "Результаты кластеризации выглядят правдободобно: люди, предпочитающие диетические (D_COKE, D_PEPSI, TAB) напитки не будут выбирать продукты из других категорий, но будут держаться внутри рамок напитков с пониженным содержанием сахара и наоборот."
   ]
  },
  {
   "cell_type": "markdown",
   "metadata": {},
   "source": [
    "**Пункты 7-8**"
   ]
  },
  {
   "cell_type": "code",
   "execution_count": 22,
   "metadata": {
    "ExecuteTime": {
     "end_time": "2023-12-01T06:57:37.264829Z",
     "start_time": "2023-12-01T06:57:37.149778Z"
    }
   },
   "outputs": [
    {
     "name": "stdout",
     "output_type": "stream",
     "text": [
      "         numb.obs      COKE    D_COKE   D_PEPSI     D_7UP     PEPSI    SPRITE  \\\n",
      "CLUSTER                                                                         \n",
      "1            28.5  1.000000  0.000000  0.000000  0.000000  0.000000  1.000000   \n",
      "2            32.0  1.000000  0.000000  0.000000  0.000000  1.000000  0.000000   \n",
      "3            31.0  0.000000  1.000000  1.000000  0.000000  0.000000  0.000000   \n",
      "4            34.0  0.000000  1.000000  1.000000  1.000000  0.000000  0.000000   \n",
      "5            21.5  1.000000  0.000000  0.000000  0.000000  1.000000  0.000000   \n",
      "6            19.0  1.000000  0.666667  0.333333  0.000000  0.666667  0.000000   \n",
      "7            26.5  0.000000  1.000000  0.000000  0.500000  0.000000  0.000000   \n",
      "8            24.0  0.333333  1.000000  0.333333  0.666667  0.333333  0.000000   \n",
      "9            16.0  0.000000  0.666667  0.333333  0.000000  0.333333  0.666667   \n",
      "10           10.5  1.000000  0.000000  0.000000  0.000000  1.000000  0.500000   \n",
      "11           13.0  0.333333  0.333333  0.333333  0.333333  0.000000  0.666667   \n",
      "12            8.5  1.000000  1.000000  0.000000  0.000000  0.500000  1.000000   \n",
      "13            7.0  0.000000  1.000000  1.000000  1.000000  0.000000  0.000000   \n",
      "14            2.0  1.000000  0.000000  0.000000  0.000000  1.000000  0.333333   \n",
      "15            5.5  1.000000  0.000000  0.000000  0.000000  1.000000  0.500000   \n",
      "16            4.0  0.000000  1.000000  0.000000  1.000000  0.000000  0.000000   \n",
      "\n",
      "              TAB   SEVENUP  \n",
      "CLUSTER                      \n",
      "1        0.000000  0.500000  \n",
      "2        0.000000  1.000000  \n",
      "3        1.000000  0.000000  \n",
      "4        1.000000  0.000000  \n",
      "5        0.000000  0.000000  \n",
      "6        0.000000  0.333333  \n",
      "7        1.000000  0.000000  \n",
      "8        0.333333  0.000000  \n",
      "9        0.333333  0.000000  \n",
      "10       0.000000  0.500000  \n",
      "11       0.333333  0.333333  \n",
      "12       0.500000  1.000000  \n",
      "13       1.000000  0.000000  \n",
      "14       0.000000  0.333333  \n",
      "15       0.000000  0.000000  \n",
      "16       1.000000  0.000000  \n"
     ]
    }
   ],
   "source": [
    "data2 = data.copy()\n",
    "data2['CLUSTER'] = scipy.cluster.hierarchy.fcluster(linkage, 3, criterion='distance')\n",
    "data2_gr = data2.groupby('CLUSTER')\n",
    "data2_mean = data2_gr.mean()\n",
    "print(data2_mean)"
   ]
  },
  {
   "cell_type": "markdown",
   "metadata": {},
   "source": [
    "**Пункт 10**"
   ]
  },
  {
   "cell_type": "code",
   "execution_count": 23,
   "metadata": {
    "ExecuteTime": {
     "end_time": "2023-12-01T06:57:37.413988Z",
     "start_time": "2023-12-01T06:57:37.162482Z"
    }
   },
   "outputs": [
    {
     "name": "stdout",
     "output_type": "stream",
     "text": [
      "CLUSTER\n",
      "1     2\n",
      "2     2\n",
      "3     2\n",
      "4     1\n",
      "5     2\n",
      "6     3\n",
      "7     2\n",
      "8     3\n",
      "9     3\n",
      "10    2\n",
      "11    3\n",
      "12    2\n",
      "13    1\n",
      "14    3\n",
      "15    2\n",
      "16    1\n",
      "dtype: int64\n"
     ]
    }
   ],
   "source": [
    "print(data2_gr.size())"
   ]
  },
  {
   "cell_type": "markdown",
   "metadata": {},
   "source": [
    "**Пункт 11**\n",
    "\n",
    "1. NUM_MEM - Память на числа\n",
    "2. MATH_SK - Умение решать математические задачи\n",
    "3. STR_DIA - Находчивость при прямом диалоге\n",
    "4. ALG_SKL - Умение составлять алгоритмы\n",
    "5. SP_CONF - Уверенность во время выступления\n",
    "6. TEAM_SR - Командный дух\n",
    "7. INVENTS - Находчивость\n",
    "8. COOPRTN - Сотрудничество\n",
    "9. COL_ACC - Признание в коллективе\n",
    "10. PER_STR - Сила убеждения"
   ]
  },
  {
   "cell_type": "code",
   "execution_count": 24,
   "metadata": {
    "ExecuteTime": {
     "end_time": "2023-12-01T06:57:37.417421Z",
     "start_time": "2023-12-01T06:57:37.173730Z"
    }
   },
   "outputs": [
    {
     "data": {
      "text/plain": "   NUM_MEM  MATH_SK  STR_DIA  ALG_SKL  SP_CONF  TEAM_SR  INVENTS  COOPRTN  \\\n1       10       10        9       10       10       10        9       10   \n2       10       10        4       10        5        5        4        5   \n3        5        4       10        5       10        4       10        5   \n4       10       10        9       10       10       10        9       10   \n5        4        3        5        4        3       10        4       10   \n\n   COL_ACC  PER_STR  \n1       10        9  \n2        4        3  \n3        3       10  \n4       10        9  \n5       10        5  ",
      "text/html": "<div>\n<style scoped>\n    .dataframe tbody tr th:only-of-type {\n        vertical-align: middle;\n    }\n\n    .dataframe tbody tr th {\n        vertical-align: top;\n    }\n\n    .dataframe thead th {\n        text-align: right;\n    }\n</style>\n<table border=\"1\" class=\"dataframe\">\n  <thead>\n    <tr style=\"text-align: right;\">\n      <th></th>\n      <th>NUM_MEM</th>\n      <th>MATH_SK</th>\n      <th>STR_DIA</th>\n      <th>ALG_SKL</th>\n      <th>SP_CONF</th>\n      <th>TEAM_SR</th>\n      <th>INVENTS</th>\n      <th>COOPRTN</th>\n      <th>COL_ACC</th>\n      <th>PER_STR</th>\n    </tr>\n  </thead>\n  <tbody>\n    <tr>\n      <th>1</th>\n      <td>10</td>\n      <td>10</td>\n      <td>9</td>\n      <td>10</td>\n      <td>10</td>\n      <td>10</td>\n      <td>9</td>\n      <td>10</td>\n      <td>10</td>\n      <td>9</td>\n    </tr>\n    <tr>\n      <th>2</th>\n      <td>10</td>\n      <td>10</td>\n      <td>4</td>\n      <td>10</td>\n      <td>5</td>\n      <td>5</td>\n      <td>4</td>\n      <td>5</td>\n      <td>4</td>\n      <td>3</td>\n    </tr>\n    <tr>\n      <th>3</th>\n      <td>5</td>\n      <td>4</td>\n      <td>10</td>\n      <td>5</td>\n      <td>10</td>\n      <td>4</td>\n      <td>10</td>\n      <td>5</td>\n      <td>3</td>\n      <td>10</td>\n    </tr>\n    <tr>\n      <th>4</th>\n      <td>10</td>\n      <td>10</td>\n      <td>9</td>\n      <td>10</td>\n      <td>10</td>\n      <td>10</td>\n      <td>9</td>\n      <td>10</td>\n      <td>10</td>\n      <td>9</td>\n    </tr>\n    <tr>\n      <th>5</th>\n      <td>4</td>\n      <td>3</td>\n      <td>5</td>\n      <td>4</td>\n      <td>3</td>\n      <td>10</td>\n      <td>4</td>\n      <td>10</td>\n      <td>10</td>\n      <td>5</td>\n    </tr>\n  </tbody>\n</table>\n</div>"
     },
     "execution_count": 24,
     "metadata": {},
     "output_type": "execute_result"
    }
   ],
   "source": [
    "titles = ['№', 'NAME', 'NUM_MEM', 'MATH_SK', 'STR_DIA', 'ALG_SKL', 'SP_CONF', 'TEAM_SR', 'INVENTS', 'COOPRTN', 'COL_ACC', 'PER_STR']\n",
    "data_assess = pd.read_csv('data/assess.dat', sep='\\t', names = titles)\n",
    "data_assess = data_assess.drop(0).drop(columns=['NAME', '№'])\n",
    "data_assess = data_assess.apply(pd.to_numeric, errors='coerce').astype('Int64')\n",
    "data_assess.head()"
   ]
  },
  {
   "cell_type": "code",
   "execution_count": 25,
   "metadata": {
    "ExecuteTime": {
     "end_time": "2023-12-01T06:57:37.812161Z",
     "start_time": "2023-12-01T06:57:37.256504Z"
    }
   },
   "outputs": [
    {
     "data": {
      "text/plain": "<Figure size 640x480 with 1 Axes>",
      "image/png": "[encoded data removed]"
     },
     "metadata": {},
     "output_type": "display_data"
    }
   ],
   "source": [
    "linkage2 = scipy.cluster.hierarchy.linkage(data_assess, method='ward', metric='euclidean')\n",
    "scipy.cluster.hierarchy.dendrogram(linkage2)\n",
    "plt.show()"
   ]
  },
  {
   "cell_type": "markdown",
   "metadata": {},
   "source": [
    "На дендограмме видно четкое разделение на 4 кластера."
   ]
  },
  {
   "cell_type": "code",
   "execution_count": 26,
   "metadata": {
    "ExecuteTime": {
     "end_time": "2023-12-01T06:57:37.813503Z",
     "start_time": "2023-12-01T06:57:37.698786Z"
    }
   },
   "outputs": [
    {
     "name": "stdout",
     "output_type": "stream",
     "text": [
      "         NUM_MEM  MATH_SK  STR_DIA  ALG_SKL  SP_CONF  TEAM_SR  INVENTS  \\\n",
      "CLUSTER                                                                  \n",
      "1            4.2      4.8     10.0      4.4     10.0      4.4     10.0   \n",
      "2            4.8      4.4      4.0      4.0      4.2     10.0      4.4   \n",
      "3           10.0     10.0      9.0     10.0     10.0      9.5     9.25   \n",
      "4           10.0     10.0     4.25     10.0     4.75      4.5     3.75   \n",
      "\n",
      "         COOPRTN  COL_ACC  PER_STR  \n",
      "CLUSTER                             \n",
      "1            4.0      3.8     10.0  \n",
      "2           10.0     10.0      5.0  \n",
      "3           9.75     10.0      9.5  \n",
      "4           4.25     4.25     4.25  \n"
     ]
    }
   ],
   "source": [
    "data3 = data_assess.copy()\n",
    "data3['CLUSTER'] = scipy.cluster.hierarchy.fcluster(linkage2, 4, criterion='maxclust')\n",
    "data3_gr = data3.groupby('CLUSTER')\n",
    "data3_mean = data3_gr.mean()\n",
    "print(data3_mean)"
   ]
  },
  {
   "cell_type": "markdown",
   "metadata": {},
   "source": [
    "Кластер 1: \"Харизматики\", предрасположены к коммуникации и публичным выступлениям. (STR_DIA, SP_CONF, INVENTS, PER_STR)\n",
    "\n",
    "Кластер 2: \"Командные игроки\", обладают развитыми навыками работы в команде. (TEAM_SR, COOPRTN, COL_ACC)\n",
    "\n",
    "Кластер 3: \"Таланты\", самые способные работники, оценка по каждому из тестов не ниже 9.0.\n",
    "\n",
    "Кластер 4: \"Математики\", предпочитают заниматься математическими расчетами. (NUM_MEM, MATH_SK, ALG_SKL)"
   ]
  },
  {
   "cell_type": "code",
   "execution_count": 27,
   "metadata": {
    "ExecuteTime": {
     "end_time": "2023-12-01T06:57:37.876654Z",
     "start_time": "2023-12-01T06:57:37.716541Z"
    }
   },
   "outputs": [
    {
     "name": "stdout",
     "output_type": "stream",
     "text": [
      "CLUSTER\n",
      "1    5\n",
      "2    5\n",
      "3    4\n",
      "4    4\n",
      "dtype: int64\n"
     ]
    }
   ],
   "source": [
    "print(data3_gr.size())"
   ]
  },
  {
   "cell_type": "markdown",
   "metadata": {},
   "source": [
    "## Раздел 2"
   ]
  },
  {
   "cell_type": "markdown",
   "metadata": {},
   "source": [
    "**Пункты 12-15**"
   ]
  },
  {
   "cell_type": "code",
   "execution_count": 28,
   "metadata": {
    "ExecuteTime": {
     "end_time": "2023-12-01T06:57:37.891149Z",
     "start_time": "2023-12-01T06:57:37.735401Z"
    }
   },
   "outputs": [
    {
     "name": "stdout",
     "output_type": "stream",
     "text": [
      "[1 1 1 1 1 1 1 1 1 1 1 1 1 1 1 1 1 0 0 0 0 0 0 0 0 0 0 0 0 0 0 0 0 0]\n"
     ]
    },
    {
     "name": "stderr",
     "output_type": "stream",
     "text": [
      "/Users/admin/PycharmProjects/data_analysis/venv/lib/python3.11/site-packages/sklearn/cluster/_kmeans.py:1416: FutureWarning: The default value of `n_init` will change from 10 to 'auto' in 1.4. Set the value of `n_init` explicitly to suppress the warning\n",
      "  super()._check_params_vs_input(X, default_n_init=10)\n",
      "/Users/admin/PycharmProjects/data_analysis/venv/lib/python3.11/site-packages/sklearn/cluster/_kmeans.py:1416: FutureWarning: The default value of `n_init` will change from 10 to 'auto' in 1.4. Set the value of `n_init` explicitly to suppress the warning\n",
      "  super()._check_params_vs_input(X, default_n_init=10)\n"
     ]
    }
   ],
   "source": [
    "data4 = data.copy()\n",
    "kMModel = skcl.KMeans(2)\n",
    "kMModel.fit(data4)\n",
    "cluster_labels4 = kMModel.fit_predict(data4)\n",
    "print(cluster_labels4)"
   ]
  },
  {
   "cell_type": "markdown",
   "metadata": {},
   "source": [
    "**Пункт 16**"
   ]
  },
  {
   "cell_type": "code",
   "execution_count": 29,
   "metadata": {
    "ExecuteTime": {
     "end_time": "2023-12-01T06:57:37.894105Z",
     "start_time": "2023-12-01T06:57:37.805449Z"
    }
   },
   "outputs": [
    {
     "name": "stdout",
     "output_type": "stream",
     "text": [
      "[[26.          0.58823529  0.58823529  0.29411765  0.23529412  0.41176471\n",
      "   0.11764706  0.35294118  0.23529412]\n",
      " [ 9.          0.58823529  0.41176471  0.17647059  0.17647059  0.52941176\n",
      "   0.52941176  0.29411765  0.29411765]]\n"
     ]
    }
   ],
   "source": [
    "cluster_center = kMModel.cluster_centers_\n",
    "print(cluster_center)"
   ]
  },
  {
   "cell_type": "markdown",
   "metadata": {},
   "source": [
    "Первое наблюдение будет принадлежать ко второму кластеру, и наоборот, второе - к первому."
   ]
  },
  {
   "cell_type": "markdown",
   "metadata": {},
   "source": [
    "**Пункты 19-20**"
   ]
  },
  {
   "cell_type": "code",
   "execution_count": 30,
   "metadata": {
    "ExecuteTime": {
     "end_time": "2023-12-01T06:57:38.067619Z",
     "start_time": "2023-12-01T06:57:37.832794Z"
    }
   },
   "outputs": [
    {
     "data": {
      "text/plain": "         numb.obs      COKE    D_COKE   D_PEPSI     D_7UP     PEPSI    SPRITE  \\\nCLUSTER                                                                         \n0            26.0  0.588235  0.588235  0.294118  0.235294  0.411765  0.117647   \n1             9.0  0.588235  0.411765  0.176471  0.176471  0.529412  0.529412   \n\n              TAB   SEVENUP  \nCLUSTER                      \n0        0.352941  0.235294  \n1        0.294118  0.294118  ",
      "text/html": "<div>\n<style scoped>\n    .dataframe tbody tr th:only-of-type {\n        vertical-align: middle;\n    }\n\n    .dataframe tbody tr th {\n        vertical-align: top;\n    }\n\n    .dataframe thead th {\n        text-align: right;\n    }\n</style>\n<table border=\"1\" class=\"dataframe\">\n  <thead>\n    <tr style=\"text-align: right;\">\n      <th></th>\n      <th>numb.obs</th>\n      <th>COKE</th>\n      <th>D_COKE</th>\n      <th>D_PEPSI</th>\n      <th>D_7UP</th>\n      <th>PEPSI</th>\n      <th>SPRITE</th>\n      <th>TAB</th>\n      <th>SEVENUP</th>\n    </tr>\n    <tr>\n      <th>CLUSTER</th>\n      <th></th>\n      <th></th>\n      <th></th>\n      <th></th>\n      <th></th>\n      <th></th>\n      <th></th>\n      <th></th>\n      <th></th>\n    </tr>\n  </thead>\n  <tbody>\n    <tr>\n      <th>0</th>\n      <td>26.0</td>\n      <td>0.588235</td>\n      <td>0.588235</td>\n      <td>0.294118</td>\n      <td>0.235294</td>\n      <td>0.411765</td>\n      <td>0.117647</td>\n      <td>0.352941</td>\n      <td>0.235294</td>\n    </tr>\n    <tr>\n      <th>1</th>\n      <td>9.0</td>\n      <td>0.588235</td>\n      <td>0.411765</td>\n      <td>0.176471</td>\n      <td>0.176471</td>\n      <td>0.529412</td>\n      <td>0.529412</td>\n      <td>0.294118</td>\n      <td>0.294118</td>\n    </tr>\n  </tbody>\n</table>\n</div>"
     },
     "execution_count": 30,
     "metadata": {},
     "output_type": "execute_result"
    }
   ],
   "source": [
    "data4['CLUSTER'] = cluster_labels4\n",
    "data4_gr = data4.groupby('CLUSTER')\n",
    "data4_mean = data4_gr.mean()\n",
    "data4_mean.head()"
   ]
  },
  {
   "cell_type": "markdown",
   "metadata": {},
   "source": [
    "Результат деления тот же самый. Первый кластер (0) предпочитает напитки с обычным содержанием сахара, второй (1) - с пониженным (изменился только порядок кластеров)."
   ]
  },
  {
   "cell_type": "markdown",
   "metadata": {},
   "source": [
    "**Пункт 21**"
   ]
  },
  {
   "cell_type": "code",
   "execution_count": 31,
   "metadata": {
    "ExecuteTime": {
     "end_time": "2023-12-01T06:57:38.068281Z",
     "start_time": "2023-12-01T06:57:37.845752Z"
    }
   },
   "outputs": [
    {
     "data": {
      "text/plain": "CLUSTER\n0    17\n1    17\ndtype: int64"
     },
     "execution_count": 31,
     "metadata": {},
     "output_type": "execute_result"
    }
   ],
   "source": [
    "data4_gr.size()"
   ]
  },
  {
   "cell_type": "markdown",
   "metadata": {},
   "source": [
    "**Пункт 22**"
   ]
  },
  {
   "cell_type": "code",
   "execution_count": 34,
   "metadata": {
    "ExecuteTime": {
     "end_time": "2023-12-01T07:18:41.985165Z",
     "start_time": "2023-12-01T07:18:41.862237Z"
    }
   },
   "outputs": [
    {
     "name": "stderr",
     "output_type": "stream",
     "text": [
      "/Users/admin/PycharmProjects/data_analysis/venv/lib/python3.11/site-packages/sklearn/cluster/_kmeans.py:1416: FutureWarning: The default value of `n_init` will change from 10 to 'auto' in 1.4. Set the value of `n_init` explicitly to suppress the warning\n",
      "  super()._check_params_vs_input(X, default_n_init=10)\n",
      "/Users/admin/PycharmProjects/data_analysis/venv/lib/python3.11/site-packages/sklearn/cluster/_kmeans.py:1416: FutureWarning: The default value of `n_init` will change from 10 to 'auto' in 1.4. Set the value of `n_init` explicitly to suppress the warning\n",
      "  super()._check_params_vs_input(X, default_n_init=10)\n"
     ]
    },
    {
     "data": {
      "text/plain": "         NUM_MEM  MATH_SK  STR_DIA  ALG_SKL  SP_CONF  TEAM_SR  INVENTS  \\\nCLUSTER                                                                  \n0            4.8      4.4      4.0      4.0      4.2     10.0      4.4   \n1            4.2      4.8     10.0      4.4     10.0      4.4     10.0   \n2           10.0     10.0     4.25     10.0     4.75      4.5     3.75   \n3           10.0     10.0      9.0     10.0     10.0      9.5     9.25   \n\n         COOPRTN  COL_ACC  PER_STR  \nCLUSTER                             \n0           10.0     10.0      5.0  \n1            4.0      3.8     10.0  \n2           4.25     4.25     4.25  \n3           9.75     10.0      9.5  ",
      "text/html": "<div>\n<style scoped>\n    .dataframe tbody tr th:only-of-type {\n        vertical-align: middle;\n    }\n\n    .dataframe tbody tr th {\n        vertical-align: top;\n    }\n\n    .dataframe thead th {\n        text-align: right;\n    }\n</style>\n<table border=\"1\" class=\"dataframe\">\n  <thead>\n    <tr style=\"text-align: right;\">\n      <th></th>\n      <th>NUM_MEM</th>\n      <th>MATH_SK</th>\n      <th>STR_DIA</th>\n      <th>ALG_SKL</th>\n      <th>SP_CONF</th>\n      <th>TEAM_SR</th>\n      <th>INVENTS</th>\n      <th>COOPRTN</th>\n      <th>COL_ACC</th>\n      <th>PER_STR</th>\n    </tr>\n    <tr>\n      <th>CLUSTER</th>\n      <th></th>\n      <th></th>\n      <th></th>\n      <th></th>\n      <th></th>\n      <th></th>\n      <th></th>\n      <th></th>\n      <th></th>\n      <th></th>\n    </tr>\n  </thead>\n  <tbody>\n    <tr>\n      <th>0</th>\n      <td>4.8</td>\n      <td>4.4</td>\n      <td>4.0</td>\n      <td>4.0</td>\n      <td>4.2</td>\n      <td>10.0</td>\n      <td>4.4</td>\n      <td>10.0</td>\n      <td>10.0</td>\n      <td>5.0</td>\n    </tr>\n    <tr>\n      <th>1</th>\n      <td>4.2</td>\n      <td>4.8</td>\n      <td>10.0</td>\n      <td>4.4</td>\n      <td>10.0</td>\n      <td>4.4</td>\n      <td>10.0</td>\n      <td>4.0</td>\n      <td>3.8</td>\n      <td>10.0</td>\n    </tr>\n    <tr>\n      <th>2</th>\n      <td>10.0</td>\n      <td>10.0</td>\n      <td>4.25</td>\n      <td>10.0</td>\n      <td>4.75</td>\n      <td>4.5</td>\n      <td>3.75</td>\n      <td>4.25</td>\n      <td>4.25</td>\n      <td>4.25</td>\n    </tr>\n    <tr>\n      <th>3</th>\n      <td>10.0</td>\n      <td>10.0</td>\n      <td>9.0</td>\n      <td>10.0</td>\n      <td>10.0</td>\n      <td>9.5</td>\n      <td>9.25</td>\n      <td>9.75</td>\n      <td>10.0</td>\n      <td>9.5</td>\n    </tr>\n  </tbody>\n</table>\n</div>"
     },
     "execution_count": 34,
     "metadata": {},
     "output_type": "execute_result"
    }
   ],
   "source": [
    "data5 = data_assess.copy()\n",
    "kMModel5 = skcl.KMeans(4)\n",
    "kMModel5.fit(data5)\n",
    "cluster_labels5 = kMModel5.fit_predict(data5)\n",
    "data5['CLUSTER'] = cluster_labels5\n",
    "data5_gr = data5.groupby('CLUSTER')\n",
    "data5_mean = data5_gr.mean()\n",
    "data5_mean.head()"
   ]
  },
  {
   "cell_type": "markdown",
   "metadata": {},
   "source": [
    "Все так же выделяется 4 группы (номер из таблицы сверху в скобках): \"Командные игроки\" (0), \"Таланты\" (1), \"Харизматики\" (2), \"Математики\" (3)."
   ]
  },
  {
   "cell_type": "code",
   "execution_count": 33,
   "metadata": {
    "ExecuteTime": {
     "end_time": "2023-12-01T06:57:38.112885Z",
     "start_time": "2023-12-01T06:57:37.942096Z"
    }
   },
   "outputs": [
    {
     "data": {
      "text/plain": "CLUSTER\n0    5\n1    4\n2    5\n3    4\ndtype: int64"
     },
     "execution_count": 33,
     "metadata": {},
     "output_type": "execute_result"
    }
   ],
   "source": [
    "data5_gr.size()"
   ]
  }
 ],
 "metadata": {
  "kernelspec": {
   "display_name": "Python 3",
   "language": "python",
   "name": "python3"
  },
  "language_info": {
   "codemirror_mode": {
    "name": "ipython",
    "version": 3
   },
   "file_extension": ".py",
   "mimetype": "text/x-python",
   "name": "python",
   "nbconvert_exporter": "python",
   "pygments_lexer": "ipython3",
   "version": "3.9.6"
  }
 },
 "nbformat": 4,
 "nbformat_minor": 2
}
