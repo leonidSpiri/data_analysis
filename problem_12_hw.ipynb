{
 "nbformat": 4,
 "nbformat_minor": 0,
 "metadata": {
  "colab": {
   "provenance": []
  },
  "kernelspec": {
   "name": "python3",
   "language": "python",
   "display_name": "Python 3 (ipykernel)"
  },
  "language_info": {
   "name": "python"
  }
 },
 "cells": [
  {
   "cell_type": "code",
   "execution_count": 98,
   "metadata": {
    "id": "y73ydJRw-7Qn",
    "ExecuteTime": {
     "end_time": "2024-04-03T14:05:11.931444Z",
     "start_time": "2024-04-03T14:05:11.927458Z"
    }
   },
   "outputs": [],
   "source": [
    "import numpy as np\n",
    "import pandas as pd\n",
    "import sklearn.ensemble as se\n",
    "import sklearn.linear_model as slm\n",
    "import sklearn.model_selection as sms\n",
    "import xgboost\n",
    "from numpy import set_printoptions\n",
    "from scipy.stats import uniform\n",
    "from sklearn.tree import DecisionTreeClassifier"
   ]
  },
  {
   "cell_type": "code",
   "source": [
    "filename = 'data/pima-indians-diabetes.data.csv'\n",
    "names = ['preg', 'plas', 'pres', 'skin', 'test', 'mass', 'pedi', 'age', 'class']\n",
    "data = pd.read_csv(filename, names=names)\n",
    "pd.set_option('display.precision', 3)\n",
    "\n",
    "print(data.head(10))\n",
    "set_printoptions(precision=3)\n",
    "dataset = data.drop('preg', axis=1)"
   ],
   "metadata": {
    "colab": {
     "base_uri": "https://localhost:8080/"
    },
    "id": "M0D8dUAeE5RS",
    "outputId": "afd7dc99-f48d-485c-d40f-9c816f667bc6",
    "ExecuteTime": {
     "end_time": "2024-04-03T14:05:12.469133Z",
     "start_time": "2024-04-03T14:05:12.452240Z"
    }
   },
   "execution_count": 99,
   "outputs": [
    {
     "name": "stdout",
     "output_type": "stream",
     "text": [
      "   preg  plas  pres  skin  test  mass   pedi  age  class\n",
      "0     6   148    72    35     0  33.6  0.627   50      1\n",
      "1     1    85    66    29     0  26.6  0.351   31      0\n",
      "2     8   183    64     0     0  23.3  0.672   32      1\n",
      "3     1    89    66    23    94  28.1  0.167   21      0\n",
      "4     0   137    40    35   168  43.1  2.288   33      1\n",
      "5     5   116    74     0     0  25.6  0.201   30      0\n",
      "6     3    78    50    32    88  31.0  0.248   26      1\n",
      "7    10   115     0     0     0  35.3  0.134   29      0\n",
      "8     2   197    70    45   543  30.5  0.158   53      1\n",
      "9     8   125    96     0     0   0.0  0.232   54      1\n"
     ]
    }
   ]
  },
  {
   "cell_type": "code",
   "source": [
    "array = dataset.values"
   ],
   "metadata": {
    "id": "KFlQ_sBLE6Ov",
    "ExecuteTime": {
     "end_time": "2024-04-03T14:05:12.522646Z",
     "start_time": "2024-04-03T14:05:12.517983Z"
    }
   },
   "execution_count": 100,
   "outputs": []
  },
  {
   "cell_type": "code",
   "source": [
    "X = array[:, 1:]\n",
    "Y = array[:, 0]\n",
    "\n",
    "print(\"X:\", X.shape)\n",
    "print(\"Y:\", Y.shape)"
   ],
   "metadata": {
    "colab": {
     "base_uri": "https://localhost:8080/"
    },
    "id": "o0yfWwEuE8Zj",
    "outputId": "62b8ed0f-c316-4526-f7b7-6b3f1d2972aa",
    "ExecuteTime": {
     "end_time": "2024-04-03T14:05:12.567383Z",
     "start_time": "2024-04-03T14:05:12.560361Z"
    }
   },
   "execution_count": 101,
   "outputs": [
    {
     "name": "stdout",
     "output_type": "stream",
     "text": [
      "X: (768, 7)\n",
      "Y: (768,)\n"
     ]
    }
   ]
  },
  {
   "cell_type": "code",
   "source": [
    "kfold = sms.KFold(n_splits=10, random_state=7, shuffle=True)"
   ],
   "metadata": {
    "id": "3Lqu3bd9E9yP",
    "ExecuteTime": {
     "end_time": "2024-04-03T14:05:12.653460Z",
     "start_time": "2024-04-03T14:05:12.647508Z"
    }
   },
   "execution_count": 102,
   "outputs": []
  },
  {
   "cell_type": "code",
   "source": [
    "DecisionTreeClassifier_cart = DecisionTreeClassifier()"
   ],
   "metadata": {
    "id": "LVFARJlaFEyF",
    "ExecuteTime": {
     "end_time": "2024-04-03T14:05:12.780354Z",
     "start_time": "2024-04-03T14:05:12.774914Z"
    }
   },
   "execution_count": 103,
   "outputs": []
  },
  {
   "cell_type": "code",
   "source": [
    "model_BaggingClassifier = se.BaggingClassifier(estimator=DecisionTreeClassifier_cart, n_estimators=100, random_state=7)"
   ],
   "metadata": {
    "id": "Yz9_mooHGQDh",
    "ExecuteTime": {
     "end_time": "2024-04-03T14:05:12.886961Z",
     "start_time": "2024-04-03T14:05:12.880063Z"
    }
   },
   "execution_count": 104,
   "outputs": []
  },
  {
   "cell_type": "code",
   "source": [
    "BC_results = sms.cross_val_score(model_BaggingClassifier, X, Y, cv=kfold)"
   ],
   "metadata": {
    "id": "R8C945-EGbUk",
    "ExecuteTime": {
     "end_time": "2024-04-03T14:05:28.202286Z",
     "start_time": "2024-04-03T14:05:12.973408Z"
    }
   },
   "execution_count": 105,
   "outputs": []
  },
  {
   "cell_type": "code",
   "source": [
    "print(\"Среднее\", np.mean(BC_results))\n",
    "print(\"Стандартное отклоение\", np.std(BC_results))"
   ],
   "metadata": {
    "colab": {
     "base_uri": "https://localhost:8080/"
    },
    "id": "AFGRbrlrG8kY",
    "outputId": "4a76ff65-98bd-4173-be5e-fa804e6973df",
    "ExecuteTime": {
     "end_time": "2024-04-03T14:05:28.209605Z",
     "start_time": "2024-04-03T14:05:28.204803Z"
    }
   },
   "execution_count": 106,
   "outputs": [
    {
     "name": "stdout",
     "output_type": "stream",
     "text": [
      "Среднее 0.012987012987012986\n",
      "Стандартное отклоение 0.010059697003136149\n"
     ]
    }
   ]
  },
  {
   "cell_type": "code",
   "source": [
    "model_RandomFores = se.RandomForestClassifier(n_estimators=100, max_features=3)"
   ],
   "metadata": {
    "id": "6ADTICZ8HFrh",
    "ExecuteTime": {
     "end_time": "2024-04-03T14:05:28.219258Z",
     "start_time": "2024-04-03T14:05:28.212120Z"
    }
   },
   "execution_count": 107,
   "outputs": []
  },
  {
   "cell_type": "code",
   "source": [
    "RF_results = sms.cross_val_score(model_RandomFores, X, Y, cv=kfold)"
   ],
   "metadata": {
    "id": "HL09Ud-oH9XD",
    "ExecuteTime": {
     "end_time": "2024-04-03T14:05:35.774138Z",
     "start_time": "2024-04-03T14:05:28.222983Z"
    }
   },
   "execution_count": 108,
   "outputs": []
  },
  {
   "cell_type": "code",
   "source": [
    "print(\"Среднее\", np.mean(RF_results))\n",
    "print(\"Стандартное отклоение\", np.std(RF_results))"
   ],
   "metadata": {
    "colab": {
     "base_uri": "https://localhost:8080/"
    },
    "id": "D8uyNvU2IDE3",
    "outputId": "6715c672-9dbe-4579-8780-1882adbd6647",
    "ExecuteTime": {
     "end_time": "2024-04-03T14:05:35.779950Z",
     "start_time": "2024-04-03T14:05:35.775804Z"
    }
   },
   "execution_count": 109,
   "outputs": [
    {
     "name": "stdout",
     "output_type": "stream",
     "text": [
      "Среднее 0.011688311688311689\n",
      "Стандартное отклоение 0.010787823198594903\n"
     ]
    }
   ]
  },
  {
   "cell_type": "code",
   "source": [
    "model_ExtraTrees = se.ExtraTreesClassifier(n_estimators=100, max_features=7)"
   ],
   "metadata": {
    "id": "bc2mfJSEIKX7",
    "ExecuteTime": {
     "end_time": "2024-04-03T14:05:35.787646Z",
     "start_time": "2024-04-03T14:05:35.782968Z"
    }
   },
   "execution_count": 110,
   "outputs": []
  },
  {
   "cell_type": "code",
   "source": [
    "ET_results = sms.cross_val_score(model_ExtraTrees, X, Y, cv=kfold)"
   ],
   "metadata": {
    "id": "iS47DPHOJC85",
    "ExecuteTime": {
     "end_time": "2024-04-03T14:05:41.690297Z",
     "start_time": "2024-04-03T14:05:35.790450Z"
    }
   },
   "execution_count": 111,
   "outputs": []
  },
  {
   "cell_type": "code",
   "source": [
    "print(\"Среднее\", np.mean(ET_results))\n",
    "print(\"Стандартное отклоение\", np.std(ET_results))"
   ],
   "metadata": {
    "colab": {
     "base_uri": "https://localhost:8080/"
    },
    "id": "OhInzs5aJDrE",
    "outputId": "204f97d0-b388-434a-ea0c-74f8a55866a0",
    "ExecuteTime": {
     "end_time": "2024-04-03T14:05:41.696794Z",
     "start_time": "2024-04-03T14:05:41.692060Z"
    }
   },
   "execution_count": 112,
   "outputs": [
    {
     "name": "stdout",
     "output_type": "stream",
     "text": [
      "Среднее 0.011688311688311689\n",
      "Стандартное отклоение 0.010787823198594903\n"
     ]
    }
   ]
  },
  {
   "cell_type": "code",
   "source": [
    "model_AdaBoost = se.AdaBoostClassifier(n_estimators=100, random_state=3)"
   ],
   "metadata": {
    "id": "_yGYNQvUJHVe",
    "ExecuteTime": {
     "end_time": "2024-04-03T14:05:41.705416Z",
     "start_time": "2024-04-03T14:05:41.698613Z"
    }
   },
   "execution_count": 113,
   "outputs": []
  },
  {
   "cell_type": "code",
   "source": [
    "AB_results = sms.cross_val_score(model_AdaBoost, X, Y, cv=kfold)"
   ],
   "metadata": {
    "id": "y29jiaXoJHke",
    "ExecuteTime": {
     "end_time": "2024-04-03T14:05:46.548815Z",
     "start_time": "2024-04-03T14:05:41.711317Z"
    }
   },
   "execution_count": 114,
   "outputs": []
  },
  {
   "cell_type": "code",
   "source": [
    "print(\"Среднее\", np.mean(AB_results))\n",
    "print(\"Стандартное отклоение\", np.std(AB_results))"
   ],
   "metadata": {
    "colab": {
     "base_uri": "https://localhost:8080/"
    },
    "id": "HM_I8yUGJIWT",
    "outputId": "68a468d8-521c-49b2-df12-d41ece678558",
    "ExecuteTime": {
     "end_time": "2024-04-03T14:05:46.555044Z",
     "start_time": "2024-04-03T14:05:46.550349Z"
    }
   },
   "execution_count": 115,
   "outputs": [
    {
     "name": "stdout",
     "output_type": "stream",
     "text": [
      "Среднее 0.018233082706766917\n",
      "Стандартное отклоение 0.01669612639508073\n"
     ]
    }
   ]
  },
  {
   "cell_type": "code",
   "source": [
    "model_GradientBoosting = se.GradientBoostingClassifier(n_estimators=100, random_state=3)"
   ],
   "metadata": {
    "id": "06h-Rj7tJITe",
    "ExecuteTime": {
     "end_time": "2024-04-03T14:05:46.564785Z",
     "start_time": "2024-04-03T14:05:46.560253Z"
    }
   },
   "execution_count": 116,
   "outputs": []
  },
  {
   "cell_type": "code",
   "source": [
    "GB_results = sms.cross_val_score(model_GradientBoosting, X, Y, cv=kfold)"
   ],
   "metadata": {
    "id": "qi2rnVb9JIOo",
    "ExecuteTime": {
     "end_time": "2024-04-03T14:11:11.342006Z",
     "start_time": "2024-04-03T14:05:46.568439Z"
    }
   },
   "execution_count": 117,
   "outputs": []
  },
  {
   "cell_type": "code",
   "source": [
    "print(\"Среднее\", np.mean(GB_results))\n",
    "print(\"Стандартное отклоение\", np.std(GB_results))"
   ],
   "metadata": {
    "colab": {
     "base_uri": "https://localhost:8080/"
    },
    "id": "HyAfBV5oJIJZ",
    "outputId": "e531379a-b0c9-43c8-f329-129b75a53f2d",
    "ExecuteTime": {
     "end_time": "2024-04-03T14:11:11.350034Z",
     "start_time": "2024-04-03T14:11:11.343597Z"
    }
   },
   "execution_count": 118,
   "outputs": [
    {
     "name": "stdout",
     "output_type": "stream",
     "text": [
      "Среднее 0.01828434723171565\n",
      "Стандартное отклоение 0.013438956077260259\n"
     ]
    }
   ]
  },
  {
   "cell_type": "code",
   "source": [
    "model_XGBoost = xgboost.XGBClassifier(seed=7, n_estimators=100, max_depth=6, learning_rate=0.3)"
   ],
   "metadata": {
    "id": "zYtIHniDJIDv",
    "ExecuteTime": {
     "end_time": "2024-04-03T14:11:11.358972Z",
     "start_time": "2024-04-03T14:11:11.353129Z"
    }
   },
   "execution_count": 119,
   "outputs": []
  },
  {
   "cell_type": "code",
   "source": [
    "estimators = [('XGBoost', xgboost.XGBClassifier(seed=7, n_estimators=100, max_depth=6, learning_rate=0.3)),\n",
    "              ('GradientBoosting', se.GradientBoostingClassifier(n_estimators=100, random_state=3)),\n",
    "              ('AdaBoost', se.AdaBoostClassifier(n_estimators=100, random_state=3)), ('BaggingClassifier',\n",
    "                                                                                      se.BaggingClassifier(\n",
    "                                                                                          estimator=DecisionTreeClassifier_cart,\n",
    "                                                                                          n_estimators=100,\n",
    "                                                                                          random_state=7)),\n",
    "              ('RandomFores', se.RandomForestClassifier(n_estimators=100, max_features=3)),\n",
    "              ('ExtraTrees', se.ExtraTreesClassifier(n_estimators=100, max_features=7))]"
   ],
   "metadata": {
    "id": "cUNoGfVbMTdv",
    "ExecuteTime": {
     "end_time": "2024-04-03T14:11:11.371102Z",
     "start_time": "2024-04-03T14:11:11.362349Z"
    }
   },
   "execution_count": 120,
   "outputs": []
  },
  {
   "cell_type": "code",
   "source": [],
   "metadata": {
    "id": "Eku7fFAFMWuV",
    "ExecuteTime": {
     "end_time": "2024-04-03T14:11:11.378431Z",
     "start_time": "2024-04-03T14:11:11.374862Z"
    }
   },
   "execution_count": 120,
   "outputs": []
  },
  {
   "cell_type": "code",
   "source": [
    "ensemble = se.VotingClassifier(estimators)"
   ],
   "metadata": {
    "id": "wzOQP9QmNn6E",
    "ExecuteTime": {
     "end_time": "2024-04-03T14:11:11.388449Z",
     "start_time": "2024-04-03T14:11:11.383667Z"
    }
   },
   "execution_count": 121,
   "outputs": []
  },
  {
   "cell_type": "code",
   "source": [
    "ensemble_results = sms.cross_val_score(ensemble, X, Y, cv=kfold)"
   ],
   "metadata": {
    "id": "_pOerSU1N_az",
    "ExecuteTime": {
     "end_time": "2024-04-03T14:19:31.371527Z",
     "start_time": "2024-04-03T14:11:11.391892Z"
    }
   },
   "execution_count": 122,
   "outputs": []
  },
  {
   "cell_type": "code",
   "source": [
    "print(\"Среднее\", np.mean(ensemble_results))\n",
    "print(\"Стандартное отклоение\", np.std(ensemble_results))"
   ],
   "metadata": {
    "colab": {
     "base_uri": "https://localhost:8080/"
    },
    "id": "jWIrERYMODoG",
    "outputId": "8df1767b-37cf-4647-9140-c9a84570e7e6",
    "ExecuteTime": {
     "end_time": "2024-04-03T14:19:31.377009Z",
     "start_time": "2024-04-03T14:19:31.373122Z"
    }
   },
   "execution_count": 123,
   "outputs": [
    {
     "name": "stdout",
     "output_type": "stream",
     "text": [
      "Среднее 0.016917293233082702\n",
      "Стандартное отклоение 0.008299999425557876\n"
     ]
    }
   ]
  },
  {
   "cell_type": "code",
   "source": [
    "X_train_test, X_val, Y_train_test, Y_val = sms.train_test_split(X, Y, test_size=0.25, random_state=7, shuffle=True)"
   ],
   "metadata": {
    "id": "39OQvN4xOeo1",
    "ExecuteTime": {
     "end_time": "2024-04-03T14:19:31.385411Z",
     "start_time": "2024-04-03T14:19:31.378805Z"
    }
   },
   "execution_count": 124,
   "outputs": []
  },
  {
   "cell_type": "code",
   "source": [
    "X_train, X_test, Y_train, Y_test = sms.train_test_split(X_train_test, Y_train_test, test_size=0.25, shuffle=True,\n",
    "                                                        random_state=7)"
   ],
   "metadata": {
    "id": "LFkvKNJHOwML",
    "ExecuteTime": {
     "end_time": "2024-04-03T14:19:31.392337Z",
     "start_time": "2024-04-03T14:19:31.387001Z"
    }
   },
   "execution_count": 125,
   "outputs": []
  },
  {
   "cell_type": "code",
   "source": [
    "alphas = [1, 0.1, 0.01, 0.001, 0.0001, 0]"
   ],
   "metadata": {
    "id": "Ht9WoVQ4PBTZ",
    "ExecuteTime": {
     "end_time": "2024-04-03T14:19:31.398219Z",
     "start_time": "2024-04-03T14:19:31.394503Z"
    }
   },
   "execution_count": 126,
   "outputs": []
  },
  {
   "cell_type": "code",
   "source": [
    "param_grid = dict(alpha=alphas)"
   ],
   "metadata": {
    "id": "2YNXZdcgPKu-",
    "ExecuteTime": {
     "end_time": "2024-04-03T14:19:31.404551Z",
     "start_time": "2024-04-03T14:19:31.400779Z"
    }
   },
   "execution_count": 127,
   "outputs": []
  },
  {
   "cell_type": "code",
   "source": [
    "Ridge_model = slm.RidgeClassifier()"
   ],
   "metadata": {
    "id": "no7-BxPTPS6H",
    "ExecuteTime": {
     "end_time": "2024-04-03T14:19:31.409574Z",
     "start_time": "2024-04-03T14:19:31.406499Z"
    }
   },
   "execution_count": 128,
   "outputs": []
  },
  {
   "cell_type": "code",
   "source": [
    "grid_SearchCV = sms.GridSearchCV(estimator=Ridge_model, param_grid=param_grid, cv=3)"
   ],
   "metadata": {
    "id": "otBN0ipIPv_m",
    "ExecuteTime": {
     "end_time": "2024-04-03T14:19:31.415234Z",
     "start_time": "2024-04-03T14:19:31.411759Z"
    }
   },
   "execution_count": 129,
   "outputs": []
  },
  {
   "cell_type": "code",
   "source": [
    "grid_SearchCV.fit(X, Y)"
   ],
   "metadata": {
    "colab": {
     "base_uri": "https://localhost:8080/",
     "height": 141
    },
    "id": "hD4AndzvQYlF",
    "outputId": "6c861e83-ad8e-42ef-d583-272ad4567564",
    "ExecuteTime": {
     "end_time": "2024-04-03T14:19:31.521474Z",
     "start_time": "2024-04-03T14:19:31.417302Z"
    }
   },
   "execution_count": 130,
   "outputs": [
    {
     "name": "stderr",
     "output_type": "stream",
     "text": [
      "/Users/admin/PycharmProjects/data_analysis/venv/lib/python3.11/site-packages/sklearn/model_selection/_split.py:737: UserWarning: The least populated class in y has only 1 members, which is less than n_splits=3.\n",
      "  warnings.warn(\n"
     ]
    },
    {
     "data": {
      "text/plain": "GridSearchCV(cv=3, estimator=RidgeClassifier(),\n             param_grid={'alpha': [1, 0.1, 0.01, 0.001, 0.0001, 0]})",
      "text/html": "<style>#sk-container-id-1 {color: black;}#sk-container-id-1 pre{padding: 0;}#sk-container-id-1 div.sk-toggleable {background-color: white;}#sk-container-id-1 label.sk-toggleable__label {cursor: pointer;display: block;width: 100%;margin-bottom: 0;padding: 0.3em;box-sizing: border-box;text-align: center;}#sk-container-id-1 label.sk-toggleable__label-arrow:before {content: \"▸\";float: left;margin-right: 0.25em;color: #696969;}#sk-container-id-1 label.sk-toggleable__label-arrow:hover:before {color: black;}#sk-container-id-1 div.sk-estimator:hover label.sk-toggleable__label-arrow:before {color: black;}#sk-container-id-1 div.sk-toggleable__content {max-height: 0;max-width: 0;overflow: hidden;text-align: left;background-color: #f0f8ff;}#sk-container-id-1 div.sk-toggleable__content pre {margin: 0.2em;color: black;border-radius: 0.25em;background-color: #f0f8ff;}#sk-container-id-1 input.sk-toggleable__control:checked~div.sk-toggleable__content {max-height: 200px;max-width: 100%;overflow: auto;}#sk-container-id-1 input.sk-toggleable__control:checked~label.sk-toggleable__label-arrow:before {content: \"▾\";}#sk-container-id-1 div.sk-estimator input.sk-toggleable__control:checked~label.sk-toggleable__label {background-color: #d4ebff;}#sk-container-id-1 div.sk-label input.sk-toggleable__control:checked~label.sk-toggleable__label {background-color: #d4ebff;}#sk-container-id-1 input.sk-hidden--visually {border: 0;clip: rect(1px 1px 1px 1px);clip: rect(1px, 1px, 1px, 1px);height: 1px;margin: -1px;overflow: hidden;padding: 0;position: absolute;width: 1px;}#sk-container-id-1 div.sk-estimator {font-family: monospace;background-color: #f0f8ff;border: 1px dotted black;border-radius: 0.25em;box-sizing: border-box;margin-bottom: 0.5em;}#sk-container-id-1 div.sk-estimator:hover {background-color: #d4ebff;}#sk-container-id-1 div.sk-parallel-item::after {content: \"\";width: 100%;border-bottom: 1px solid gray;flex-grow: 1;}#sk-container-id-1 div.sk-label:hover label.sk-toggleable__label {background-color: #d4ebff;}#sk-container-id-1 div.sk-serial::before {content: \"\";position: absolute;border-left: 1px solid gray;box-sizing: border-box;top: 0;bottom: 0;left: 50%;z-index: 0;}#sk-container-id-1 div.sk-serial {display: flex;flex-direction: column;align-items: center;background-color: white;padding-right: 0.2em;padding-left: 0.2em;position: relative;}#sk-container-id-1 div.sk-item {position: relative;z-index: 1;}#sk-container-id-1 div.sk-parallel {display: flex;align-items: stretch;justify-content: center;background-color: white;position: relative;}#sk-container-id-1 div.sk-item::before, #sk-container-id-1 div.sk-parallel-item::before {content: \"\";position: absolute;border-left: 1px solid gray;box-sizing: border-box;top: 0;bottom: 0;left: 50%;z-index: -1;}#sk-container-id-1 div.sk-parallel-item {display: flex;flex-direction: column;z-index: 1;position: relative;background-color: white;}#sk-container-id-1 div.sk-parallel-item:first-child::after {align-self: flex-end;width: 50%;}#sk-container-id-1 div.sk-parallel-item:last-child::after {align-self: flex-start;width: 50%;}#sk-container-id-1 div.sk-parallel-item:only-child::after {width: 0;}#sk-container-id-1 div.sk-dashed-wrapped {border: 1px dashed gray;margin: 0 0.4em 0.5em 0.4em;box-sizing: border-box;padding-bottom: 0.4em;background-color: white;}#sk-container-id-1 div.sk-label label {font-family: monospace;font-weight: bold;display: inline-block;line-height: 1.2em;}#sk-container-id-1 div.sk-label-container {text-align: center;}#sk-container-id-1 div.sk-container {/* jupyter's `normalize.less` sets `[hidden] { display: none; }` but bootstrap.min.css set `[hidden] { display: none !important; }` so we also need the `!important` here to be able to override the default hidden behavior on the sphinx rendered scikit-learn.org. See: https://github.com/scikit-learn/scikit-learn/issues/21755 */display: inline-block !important;position: relative;}#sk-container-id-1 div.sk-text-repr-fallback {display: none;}</style><div id=\"sk-container-id-1\" class=\"sk-top-container\"><div class=\"sk-text-repr-fallback\"><pre>GridSearchCV(cv=3, estimator=RidgeClassifier(),\n             param_grid={&#x27;alpha&#x27;: [1, 0.1, 0.01, 0.001, 0.0001, 0]})</pre><b>In a Jupyter environment, please rerun this cell to show the HTML representation or trust the notebook. <br />On GitHub, the HTML representation is unable to render, please try loading this page with nbviewer.org.</b></div><div class=\"sk-container\" hidden><div class=\"sk-item sk-dashed-wrapped\"><div class=\"sk-label-container\"><div class=\"sk-label sk-toggleable\"><input class=\"sk-toggleable__control sk-hidden--visually\" id=\"sk-estimator-id-1\" type=\"checkbox\" ><label for=\"sk-estimator-id-1\" class=\"sk-toggleable__label sk-toggleable__label-arrow\">GridSearchCV</label><div class=\"sk-toggleable__content\"><pre>GridSearchCV(cv=3, estimator=RidgeClassifier(),\n             param_grid={&#x27;alpha&#x27;: [1, 0.1, 0.01, 0.001, 0.0001, 0]})</pre></div></div></div><div class=\"sk-parallel\"><div class=\"sk-parallel-item\"><div class=\"sk-item\"><div class=\"sk-label-container\"><div class=\"sk-label sk-toggleable\"><input class=\"sk-toggleable__control sk-hidden--visually\" id=\"sk-estimator-id-2\" type=\"checkbox\" ><label for=\"sk-estimator-id-2\" class=\"sk-toggleable__label sk-toggleable__label-arrow\">estimator: RidgeClassifier</label><div class=\"sk-toggleable__content\"><pre>RidgeClassifier()</pre></div></div></div><div class=\"sk-serial\"><div class=\"sk-item\"><div class=\"sk-estimator sk-toggleable\"><input class=\"sk-toggleable__control sk-hidden--visually\" id=\"sk-estimator-id-3\" type=\"checkbox\" ><label for=\"sk-estimator-id-3\" class=\"sk-toggleable__label sk-toggleable__label-arrow\">RidgeClassifier</label><div class=\"sk-toggleable__content\"><pre>RidgeClassifier()</pre></div></div></div></div></div></div></div></div></div></div>"
     },
     "execution_count": 130,
     "metadata": {},
     "output_type": "execute_result"
    }
   ]
  },
  {
   "cell_type": "code",
   "source": [
    "print(\"Среднее\", grid_SearchCV.best_score_)"
   ],
   "metadata": {
    "colab": {
     "base_uri": "https://localhost:8080/"
    },
    "id": "n4Tw5NooRfJe",
    "outputId": "2b0bbcc0-3dd3-468f-d73a-16e884bbefcc",
    "ExecuteTime": {
     "end_time": "2024-04-03T14:19:31.533332Z",
     "start_time": "2024-04-03T14:19:31.529837Z"
    }
   },
   "execution_count": 131,
   "outputs": [
    {
     "name": "stdout",
     "output_type": "stream",
     "text": [
      "Среднее 0.01953125\n"
     ]
    }
   ]
  },
  {
   "cell_type": "code",
   "source": [
    "print(\"Среднее\", grid_SearchCV.best_estimator_.alpha)"
   ],
   "metadata": {
    "colab": {
     "base_uri": "https://localhost:8080/"
    },
    "id": "rE9NW6LpRvVZ",
    "outputId": "bca8ac0b-4c53-41ca-e985-6f27735801c2",
    "ExecuteTime": {
     "end_time": "2024-04-03T14:19:31.538238Z",
     "start_time": "2024-04-03T14:19:31.534989Z"
    }
   },
   "execution_count": 132,
   "outputs": [
    {
     "name": "stdout",
     "output_type": "stream",
     "text": [
      "Среднее 0.1\n"
     ]
    }
   ]
  },
  {
   "cell_type": "code",
   "source": [
    "Ridge_model_2 = slm.RidgeClassifier(alpha=grid_SearchCV.best_estimator_.alpha)"
   ],
   "metadata": {
    "id": "I6dB6nMeR1q_",
    "ExecuteTime": {
     "end_time": "2024-04-03T14:19:31.543979Z",
     "start_time": "2024-04-03T14:19:31.540205Z"
    }
   },
   "execution_count": 133,
   "outputs": []
  },
  {
   "cell_type": "code",
   "source": [
    "Ridge_model_2.fit(X, Y)"
   ],
   "metadata": {
    "colab": {
     "base_uri": "https://localhost:8080/",
     "height": 75
    },
    "id": "7eH0YXHGSBOw",
    "outputId": "b7d65c24-be92-4876-cec3-02c7140b1dce",
    "ExecuteTime": {
     "end_time": "2024-04-03T14:19:31.557272Z",
     "start_time": "2024-04-03T14:19:31.546456Z"
    }
   },
   "execution_count": 134,
   "outputs": [
    {
     "data": {
      "text/plain": "RidgeClassifier(alpha=0.1)",
      "text/html": "<style>#sk-container-id-2 {color: black;}#sk-container-id-2 pre{padding: 0;}#sk-container-id-2 div.sk-toggleable {background-color: white;}#sk-container-id-2 label.sk-toggleable__label {cursor: pointer;display: block;width: 100%;margin-bottom: 0;padding: 0.3em;box-sizing: border-box;text-align: center;}#sk-container-id-2 label.sk-toggleable__label-arrow:before {content: \"▸\";float: left;margin-right: 0.25em;color: #696969;}#sk-container-id-2 label.sk-toggleable__label-arrow:hover:before {color: black;}#sk-container-id-2 div.sk-estimator:hover label.sk-toggleable__label-arrow:before {color: black;}#sk-container-id-2 div.sk-toggleable__content {max-height: 0;max-width: 0;overflow: hidden;text-align: left;background-color: #f0f8ff;}#sk-container-id-2 div.sk-toggleable__content pre {margin: 0.2em;color: black;border-radius: 0.25em;background-color: #f0f8ff;}#sk-container-id-2 input.sk-toggleable__control:checked~div.sk-toggleable__content {max-height: 200px;max-width: 100%;overflow: auto;}#sk-container-id-2 input.sk-toggleable__control:checked~label.sk-toggleable__label-arrow:before {content: \"▾\";}#sk-container-id-2 div.sk-estimator input.sk-toggleable__control:checked~label.sk-toggleable__label {background-color: #d4ebff;}#sk-container-id-2 div.sk-label input.sk-toggleable__control:checked~label.sk-toggleable__label {background-color: #d4ebff;}#sk-container-id-2 input.sk-hidden--visually {border: 0;clip: rect(1px 1px 1px 1px);clip: rect(1px, 1px, 1px, 1px);height: 1px;margin: -1px;overflow: hidden;padding: 0;position: absolute;width: 1px;}#sk-container-id-2 div.sk-estimator {font-family: monospace;background-color: #f0f8ff;border: 1px dotted black;border-radius: 0.25em;box-sizing: border-box;margin-bottom: 0.5em;}#sk-container-id-2 div.sk-estimator:hover {background-color: #d4ebff;}#sk-container-id-2 div.sk-parallel-item::after {content: \"\";width: 100%;border-bottom: 1px solid gray;flex-grow: 1;}#sk-container-id-2 div.sk-label:hover label.sk-toggleable__label {background-color: #d4ebff;}#sk-container-id-2 div.sk-serial::before {content: \"\";position: absolute;border-left: 1px solid gray;box-sizing: border-box;top: 0;bottom: 0;left: 50%;z-index: 0;}#sk-container-id-2 div.sk-serial {display: flex;flex-direction: column;align-items: center;background-color: white;padding-right: 0.2em;padding-left: 0.2em;position: relative;}#sk-container-id-2 div.sk-item {position: relative;z-index: 1;}#sk-container-id-2 div.sk-parallel {display: flex;align-items: stretch;justify-content: center;background-color: white;position: relative;}#sk-container-id-2 div.sk-item::before, #sk-container-id-2 div.sk-parallel-item::before {content: \"\";position: absolute;border-left: 1px solid gray;box-sizing: border-box;top: 0;bottom: 0;left: 50%;z-index: -1;}#sk-container-id-2 div.sk-parallel-item {display: flex;flex-direction: column;z-index: 1;position: relative;background-color: white;}#sk-container-id-2 div.sk-parallel-item:first-child::after {align-self: flex-end;width: 50%;}#sk-container-id-2 div.sk-parallel-item:last-child::after {align-self: flex-start;width: 50%;}#sk-container-id-2 div.sk-parallel-item:only-child::after {width: 0;}#sk-container-id-2 div.sk-dashed-wrapped {border: 1px dashed gray;margin: 0 0.4em 0.5em 0.4em;box-sizing: border-box;padding-bottom: 0.4em;background-color: white;}#sk-container-id-2 div.sk-label label {font-family: monospace;font-weight: bold;display: inline-block;line-height: 1.2em;}#sk-container-id-2 div.sk-label-container {text-align: center;}#sk-container-id-2 div.sk-container {/* jupyter's `normalize.less` sets `[hidden] { display: none; }` but bootstrap.min.css set `[hidden] { display: none !important; }` so we also need the `!important` here to be able to override the default hidden behavior on the sphinx rendered scikit-learn.org. See: https://github.com/scikit-learn/scikit-learn/issues/21755 */display: inline-block !important;position: relative;}#sk-container-id-2 div.sk-text-repr-fallback {display: none;}</style><div id=\"sk-container-id-2\" class=\"sk-top-container\"><div class=\"sk-text-repr-fallback\"><pre>RidgeClassifier(alpha=0.1)</pre><b>In a Jupyter environment, please rerun this cell to show the HTML representation or trust the notebook. <br />On GitHub, the HTML representation is unable to render, please try loading this page with nbviewer.org.</b></div><div class=\"sk-container\" hidden><div class=\"sk-item\"><div class=\"sk-estimator sk-toggleable\"><input class=\"sk-toggleable__control sk-hidden--visually\" id=\"sk-estimator-id-4\" type=\"checkbox\" checked><label for=\"sk-estimator-id-4\" class=\"sk-toggleable__label sk-toggleable__label-arrow\">RidgeClassifier</label><div class=\"sk-toggleable__content\"><pre>RidgeClassifier(alpha=0.1)</pre></div></div></div></div></div>"
     },
     "execution_count": 134,
     "metadata": {},
     "output_type": "execute_result"
    }
   ]
  },
  {
   "cell_type": "code",
   "source": [
    "print(\"Среднее\", Ridge_model_2.score(X, Y))"
   ],
   "metadata": {
    "colab": {
     "base_uri": "https://localhost:8080/"
    },
    "id": "4uzI8-klSC4_",
    "outputId": "426ff7d2-a6a3-48e8-9af5-136af526be11",
    "ExecuteTime": {
     "end_time": "2024-04-03T14:19:31.565453Z",
     "start_time": "2024-04-03T14:19:31.559263Z"
    }
   },
   "execution_count": 135,
   "outputs": [
    {
     "name": "stdout",
     "output_type": "stream",
     "text": [
      "Среднее 0.078125\n"
     ]
    }
   ]
  },
  {
   "cell_type": "code",
   "source": [
    "param_grid = {'alpha': uniform()}"
   ],
   "metadata": {
    "id": "IqwY9srcScsO",
    "ExecuteTime": {
     "end_time": "2024-04-03T14:19:31.571704Z",
     "start_time": "2024-04-03T14:19:31.567349Z"
    }
   },
   "execution_count": 136,
   "outputs": []
  },
  {
   "cell_type": "code",
   "source": [
    "X_train_test, X_val, Y_train_test, Y_val = sms.train_test_split(X, Y, test_size=0.25, random_state=7, shuffle=True)"
   ],
   "metadata": {
    "id": "Q3iEJUw8TXkW",
    "ExecuteTime": {
     "end_time": "2024-04-03T14:19:31.577986Z",
     "start_time": "2024-04-03T14:19:31.573445Z"
    }
   },
   "execution_count": 137,
   "outputs": []
  },
  {
   "cell_type": "code",
   "source": [
    "Ridge_model = slm.RidgeClassifier()"
   ],
   "metadata": {
    "id": "YF44REH-TWJ2",
    "ExecuteTime": {
     "end_time": "2024-04-03T14:19:31.582393Z",
     "start_time": "2024-04-03T14:19:31.579749Z"
    }
   },
   "execution_count": 138,
   "outputs": []
  },
  {
   "cell_type": "code",
   "source": [
    "rsearch_SearchCV = sms.RandomizedSearchCV(estimator=Ridge_model, param_distributions=param_grid, n_iter=100, cv=3,\n",
    "                                          random_state=7)"
   ],
   "metadata": {
    "id": "1tsjQ6eZTg-r",
    "ExecuteTime": {
     "end_time": "2024-04-03T14:19:31.586731Z",
     "start_time": "2024-04-03T14:19:31.583983Z"
    }
   },
   "execution_count": 139,
   "outputs": []
  },
  {
   "cell_type": "code",
   "source": [
    "rsearch_SearchCV.fit(X, Y)"
   ],
   "metadata": {
    "colab": {
     "base_uri": "https://localhost:8080/",
     "height": 118
    },
    "id": "pBhE5aMeTxLT",
    "outputId": "65d6dd29-6138-495e-f8bc-e028142cfb4c",
    "ExecuteTime": {
     "end_time": "2024-04-03T14:19:32.550308Z",
     "start_time": "2024-04-03T14:19:31.589084Z"
    }
   },
   "execution_count": 140,
   "outputs": [
    {
     "name": "stderr",
     "output_type": "stream",
     "text": [
      "/Users/admin/PycharmProjects/data_analysis/venv/lib/python3.11/site-packages/sklearn/model_selection/_split.py:737: UserWarning: The least populated class in y has only 1 members, which is less than n_splits=3.\n",
      "  warnings.warn(\n"
     ]
    },
    {
     "data": {
      "text/plain": "RandomizedSearchCV(cv=3, estimator=RidgeClassifier(), n_iter=100,\n                   param_distributions={'alpha': <scipy.stats._distn_infrastructure.rv_continuous_frozen object at 0x127ca9010>},\n                   random_state=7)",
      "text/html": "<style>#sk-container-id-3 {color: black;}#sk-container-id-3 pre{padding: 0;}#sk-container-id-3 div.sk-toggleable {background-color: white;}#sk-container-id-3 label.sk-toggleable__label {cursor: pointer;display: block;width: 100%;margin-bottom: 0;padding: 0.3em;box-sizing: border-box;text-align: center;}#sk-container-id-3 label.sk-toggleable__label-arrow:before {content: \"▸\";float: left;margin-right: 0.25em;color: #696969;}#sk-container-id-3 label.sk-toggleable__label-arrow:hover:before {color: black;}#sk-container-id-3 div.sk-estimator:hover label.sk-toggleable__label-arrow:before {color: black;}#sk-container-id-3 div.sk-toggleable__content {max-height: 0;max-width: 0;overflow: hidden;text-align: left;background-color: #f0f8ff;}#sk-container-id-3 div.sk-toggleable__content pre {margin: 0.2em;color: black;border-radius: 0.25em;background-color: #f0f8ff;}#sk-container-id-3 input.sk-toggleable__control:checked~div.sk-toggleable__content {max-height: 200px;max-width: 100%;overflow: auto;}#sk-container-id-3 input.sk-toggleable__control:checked~label.sk-toggleable__label-arrow:before {content: \"▾\";}#sk-container-id-3 div.sk-estimator input.sk-toggleable__control:checked~label.sk-toggleable__label {background-color: #d4ebff;}#sk-container-id-3 div.sk-label input.sk-toggleable__control:checked~label.sk-toggleable__label {background-color: #d4ebff;}#sk-container-id-3 input.sk-hidden--visually {border: 0;clip: rect(1px 1px 1px 1px);clip: rect(1px, 1px, 1px, 1px);height: 1px;margin: -1px;overflow: hidden;padding: 0;position: absolute;width: 1px;}#sk-container-id-3 div.sk-estimator {font-family: monospace;background-color: #f0f8ff;border: 1px dotted black;border-radius: 0.25em;box-sizing: border-box;margin-bottom: 0.5em;}#sk-container-id-3 div.sk-estimator:hover {background-color: #d4ebff;}#sk-container-id-3 div.sk-parallel-item::after {content: \"\";width: 100%;border-bottom: 1px solid gray;flex-grow: 1;}#sk-container-id-3 div.sk-label:hover label.sk-toggleable__label {background-color: #d4ebff;}#sk-container-id-3 div.sk-serial::before {content: \"\";position: absolute;border-left: 1px solid gray;box-sizing: border-box;top: 0;bottom: 0;left: 50%;z-index: 0;}#sk-container-id-3 div.sk-serial {display: flex;flex-direction: column;align-items: center;background-color: white;padding-right: 0.2em;padding-left: 0.2em;position: relative;}#sk-container-id-3 div.sk-item {position: relative;z-index: 1;}#sk-container-id-3 div.sk-parallel {display: flex;align-items: stretch;justify-content: center;background-color: white;position: relative;}#sk-container-id-3 div.sk-item::before, #sk-container-id-3 div.sk-parallel-item::before {content: \"\";position: absolute;border-left: 1px solid gray;box-sizing: border-box;top: 0;bottom: 0;left: 50%;z-index: -1;}#sk-container-id-3 div.sk-parallel-item {display: flex;flex-direction: column;z-index: 1;position: relative;background-color: white;}#sk-container-id-3 div.sk-parallel-item:first-child::after {align-self: flex-end;width: 50%;}#sk-container-id-3 div.sk-parallel-item:last-child::after {align-self: flex-start;width: 50%;}#sk-container-id-3 div.sk-parallel-item:only-child::after {width: 0;}#sk-container-id-3 div.sk-dashed-wrapped {border: 1px dashed gray;margin: 0 0.4em 0.5em 0.4em;box-sizing: border-box;padding-bottom: 0.4em;background-color: white;}#sk-container-id-3 div.sk-label label {font-family: monospace;font-weight: bold;display: inline-block;line-height: 1.2em;}#sk-container-id-3 div.sk-label-container {text-align: center;}#sk-container-id-3 div.sk-container {/* jupyter's `normalize.less` sets `[hidden] { display: none; }` but bootstrap.min.css set `[hidden] { display: none !important; }` so we also need the `!important` here to be able to override the default hidden behavior on the sphinx rendered scikit-learn.org. See: https://github.com/scikit-learn/scikit-learn/issues/21755 */display: inline-block !important;position: relative;}#sk-container-id-3 div.sk-text-repr-fallback {display: none;}</style><div id=\"sk-container-id-3\" class=\"sk-top-container\"><div class=\"sk-text-repr-fallback\"><pre>RandomizedSearchCV(cv=3, estimator=RidgeClassifier(), n_iter=100,\n                   param_distributions={&#x27;alpha&#x27;: &lt;scipy.stats._distn_infrastructure.rv_continuous_frozen object at 0x127ca9010&gt;},\n                   random_state=7)</pre><b>In a Jupyter environment, please rerun this cell to show the HTML representation or trust the notebook. <br />On GitHub, the HTML representation is unable to render, please try loading this page with nbviewer.org.</b></div><div class=\"sk-container\" hidden><div class=\"sk-item sk-dashed-wrapped\"><div class=\"sk-label-container\"><div class=\"sk-label sk-toggleable\"><input class=\"sk-toggleable__control sk-hidden--visually\" id=\"sk-estimator-id-5\" type=\"checkbox\" ><label for=\"sk-estimator-id-5\" class=\"sk-toggleable__label sk-toggleable__label-arrow\">RandomizedSearchCV</label><div class=\"sk-toggleable__content\"><pre>RandomizedSearchCV(cv=3, estimator=RidgeClassifier(), n_iter=100,\n                   param_distributions={&#x27;alpha&#x27;: &lt;scipy.stats._distn_infrastructure.rv_continuous_frozen object at 0x127ca9010&gt;},\n                   random_state=7)</pre></div></div></div><div class=\"sk-parallel\"><div class=\"sk-parallel-item\"><div class=\"sk-item\"><div class=\"sk-label-container\"><div class=\"sk-label sk-toggleable\"><input class=\"sk-toggleable__control sk-hidden--visually\" id=\"sk-estimator-id-6\" type=\"checkbox\" ><label for=\"sk-estimator-id-6\" class=\"sk-toggleable__label sk-toggleable__label-arrow\">estimator: RidgeClassifier</label><div class=\"sk-toggleable__content\"><pre>RidgeClassifier()</pre></div></div></div><div class=\"sk-serial\"><div class=\"sk-item\"><div class=\"sk-estimator sk-toggleable\"><input class=\"sk-toggleable__control sk-hidden--visually\" id=\"sk-estimator-id-7\" type=\"checkbox\" ><label for=\"sk-estimator-id-7\" class=\"sk-toggleable__label sk-toggleable__label-arrow\">RidgeClassifier</label><div class=\"sk-toggleable__content\"><pre>RidgeClassifier()</pre></div></div></div></div></div></div></div></div></div></div>"
     },
     "execution_count": 140,
     "metadata": {},
     "output_type": "execute_result"
    }
   ]
  },
  {
   "cell_type": "code",
   "source": [
    "print(\"Среднее\", rsearch_SearchCV.best_score_)"
   ],
   "metadata": {
    "colab": {
     "base_uri": "https://localhost:8080/"
    },
    "id": "IdG3w0r5TyPT",
    "outputId": "3bbb2a2c-989b-4d5f-ba8c-09c62881829b",
    "ExecuteTime": {
     "end_time": "2024-04-03T14:19:32.555762Z",
     "start_time": "2024-04-03T14:19:32.551937Z"
    }
   },
   "execution_count": 141,
   "outputs": [
    {
     "name": "stdout",
     "output_type": "stream",
     "text": [
      "Среднее 0.01953125\n"
     ]
    }
   ]
  },
  {
   "cell_type": "code",
   "source": [
    "print(\"Среднее\", rsearch_SearchCV.best_estimator_.alpha)"
   ],
   "metadata": {
    "colab": {
     "base_uri": "https://localhost:8080/"
    },
    "id": "3uUqVwxST4Cc",
    "outputId": "281e2d5e-1493-4cd6-c712-53445d8f80bb",
    "ExecuteTime": {
     "end_time": "2024-04-03T14:19:32.563607Z",
     "start_time": "2024-04-03T14:19:32.557934Z"
    }
   },
   "execution_count": 142,
   "outputs": [
    {
     "name": "stdout",
     "output_type": "stream",
     "text": [
      "Среднее 0.07630828937395717\n"
     ]
    }
   ]
  },
  {
   "cell_type": "code",
   "source": [
    "Ridge_model_2 = slm.RidgeClassifier(alpha=grid_SearchCV.best_estimator_.alpha)"
   ],
   "metadata": {
    "id": "H9o1HxpLT8Xc",
    "ExecuteTime": {
     "end_time": "2024-04-03T14:19:32.569296Z",
     "start_time": "2024-04-03T14:19:32.565796Z"
    }
   },
   "execution_count": 143,
   "outputs": []
  },
  {
   "cell_type": "code",
   "source": [
    "Ridge_model_2_results = sms.cross_val_score(Ridge_model_2, X, Y, cv=kfold)"
   ],
   "metadata": {
    "id": "BFpFoPFaUMMt",
    "ExecuteTime": {
     "end_time": "2024-04-03T14:19:32.614767Z",
     "start_time": "2024-04-03T14:19:32.571261Z"
    }
   },
   "execution_count": 144,
   "outputs": []
  },
  {
   "cell_type": "code",
   "source": [
    "print(\"Среднее\", np.mean(Ridge_model_2_results)) \n",
    "print(\"Стандартное отклоение\", np.std(Ridge_model_2_results))"
   ],
   "metadata": {
    "colab": {
     "base_uri": "https://localhost:8080/"
    },
    "id": "0A57mNAoU5_3",
    "outputId": "c153a809-d9f6-4b17-e580-1721f64b9898",
    "ExecuteTime": {
     "end_time": "2024-04-03T14:19:32.620346Z",
     "start_time": "2024-04-03T14:19:32.616483Z"
    }
   },
   "execution_count": 145,
   "outputs": [
    {
     "name": "stdout",
     "output_type": "stream",
     "text": [
      "Среднее 0.018233082706766917\n",
      "Стандартное отклоение 0.01762685629467407\n"
     ]
    }
   ]
  },
  {
   "cell_type": "code",
   "source": [
    "for train_index, test_index in kfold.split(X_train_test):\n",
    "    X_train, X_test = X_train_test[train_index], X_train_test[test_index]\n",
    "    Y_train, Y_test = Y_train_test[train_index], Y_train_test[test_index]\n",
    "\n",
    "    Ridge_model_2.fit(X_train, Y_train)\n",
    "\n",
    "    train_score = Ridge_model_2.score(X_train, Y_train)\n",
    "    test_score = Ridge_model_2.score(X_test, Y_test)\n",
    "\n",
    "    print(\"Точность обучающей выборки:\", train_score)\n",
    "    print(\"Точность тестовой выборки:\", test_score)"
   ],
   "metadata": {
    "colab": {
     "base_uri": "https://localhost:8080/"
    },
    "id": "CsOKX9Z3U_ao",
    "outputId": "5eb121b7-5e1a-4098-afb1-f7ca0fc6b295",
    "ExecuteTime": {
     "end_time": "2024-04-03T14:19:32.672288Z",
     "start_time": "2024-04-03T14:19:32.622311Z"
    }
   },
   "execution_count": 146,
   "outputs": [
    {
     "name": "stdout",
     "output_type": "stream",
     "text": [
      "Точность обучающей выборки: 0.07722007722007722\n",
      "Точность тестовой выборки: 0.0\n",
      "Точность обучающей выборки: 0.07142857142857142\n",
      "Точность тестовой выборки: 0.034482758620689655\n",
      "Точность обучающей выборки: 0.09073359073359073\n",
      "Точность тестовой выборки: 0.017241379310344827\n",
      "Точность обучающей выборки: 0.07915057915057915\n",
      "Точность тестовой выборки: 0.0\n",
      "Точность обучающей выборки: 0.08494208494208494\n",
      "Точность тестовой выборки: 0.0\n",
      "Точность обучающей выборки: 0.09073359073359073\n",
      "Точность тестовой выборки: 0.017241379310344827\n",
      "Точность обучающей выборки: 0.08670520231213873\n",
      "Точность тестовой выборки: 0.017543859649122806\n",
      "Точность обучающей выборки: 0.08285163776493257\n",
      "Точность тестовой выборки: 0.0\n",
      "Точность обучающей выборки: 0.09441233140655106\n",
      "Точность тестовой выборки: 0.03508771929824561\n",
      "Точность обучающей выборки: 0.08477842003853564\n",
      "Точность тестовой выборки: 0.0\n"
     ]
    }
   ]
  },
  {
   "cell_type": "markdown",
   "source": [
    "Лучим"
   ],
   "metadata": {
    "id": "zroJe8T0Dql4"
   }
  },
  {
   "cell_type": "code",
   "source": [
    "X_train_test, X_val, Y_train_test, Y_val = sms.train_test_split(X, Y, test_size=0.33, random_state=7, shuffle=True)"
   ],
   "metadata": {
    "id": "bPfBJplvVm2Q",
    "ExecuteTime": {
     "end_time": "2024-04-03T14:19:32.677861Z",
     "start_time": "2024-04-03T14:19:32.674112Z"
    }
   },
   "execution_count": 147,
   "outputs": []
  },
  {
   "cell_type": "code",
   "source": [
    "Logistic_model = slm.LogisticRegression(solver='liblinear')"
   ],
   "metadata": {
    "id": "QX71TMM-C5n1",
    "ExecuteTime": {
     "end_time": "2024-04-03T14:19:32.682788Z",
     "start_time": "2024-04-03T14:19:32.679610Z"
    }
   },
   "execution_count": 148,
   "outputs": []
  },
  {
   "cell_type": "code",
   "source": [
    "Logistic_model.fit(X, Y)"
   ],
   "metadata": {
    "colab": {
     "base_uri": "https://localhost:8080/",
     "height": 75
    },
    "id": "hjSukFaFDBTx",
    "outputId": "9925d2a4-f17d-47aa-c926-f7489bce692e",
    "ExecuteTime": {
     "end_time": "2024-04-03T14:19:32.936363Z",
     "start_time": "2024-04-03T14:19:32.684684Z"
    }
   },
   "execution_count": 149,
   "outputs": [
    {
     "data": {
      "text/plain": "LogisticRegression(solver='liblinear')",
      "text/html": "<style>#sk-container-id-4 {color: black;}#sk-container-id-4 pre{padding: 0;}#sk-container-id-4 div.sk-toggleable {background-color: white;}#sk-container-id-4 label.sk-toggleable__label {cursor: pointer;display: block;width: 100%;margin-bottom: 0;padding: 0.3em;box-sizing: border-box;text-align: center;}#sk-container-id-4 label.sk-toggleable__label-arrow:before {content: \"▸\";float: left;margin-right: 0.25em;color: #696969;}#sk-container-id-4 label.sk-toggleable__label-arrow:hover:before {color: black;}#sk-container-id-4 div.sk-estimator:hover label.sk-toggleable__label-arrow:before {color: black;}#sk-container-id-4 div.sk-toggleable__content {max-height: 0;max-width: 0;overflow: hidden;text-align: left;background-color: #f0f8ff;}#sk-container-id-4 div.sk-toggleable__content pre {margin: 0.2em;color: black;border-radius: 0.25em;background-color: #f0f8ff;}#sk-container-id-4 input.sk-toggleable__control:checked~div.sk-toggleable__content {max-height: 200px;max-width: 100%;overflow: auto;}#sk-container-id-4 input.sk-toggleable__control:checked~label.sk-toggleable__label-arrow:before {content: \"▾\";}#sk-container-id-4 div.sk-estimator input.sk-toggleable__control:checked~label.sk-toggleable__label {background-color: #d4ebff;}#sk-container-id-4 div.sk-label input.sk-toggleable__control:checked~label.sk-toggleable__label {background-color: #d4ebff;}#sk-container-id-4 input.sk-hidden--visually {border: 0;clip: rect(1px 1px 1px 1px);clip: rect(1px, 1px, 1px, 1px);height: 1px;margin: -1px;overflow: hidden;padding: 0;position: absolute;width: 1px;}#sk-container-id-4 div.sk-estimator {font-family: monospace;background-color: #f0f8ff;border: 1px dotted black;border-radius: 0.25em;box-sizing: border-box;margin-bottom: 0.5em;}#sk-container-id-4 div.sk-estimator:hover {background-color: #d4ebff;}#sk-container-id-4 div.sk-parallel-item::after {content: \"\";width: 100%;border-bottom: 1px solid gray;flex-grow: 1;}#sk-container-id-4 div.sk-label:hover label.sk-toggleable__label {background-color: #d4ebff;}#sk-container-id-4 div.sk-serial::before {content: \"\";position: absolute;border-left: 1px solid gray;box-sizing: border-box;top: 0;bottom: 0;left: 50%;z-index: 0;}#sk-container-id-4 div.sk-serial {display: flex;flex-direction: column;align-items: center;background-color: white;padding-right: 0.2em;padding-left: 0.2em;position: relative;}#sk-container-id-4 div.sk-item {position: relative;z-index: 1;}#sk-container-id-4 div.sk-parallel {display: flex;align-items: stretch;justify-content: center;background-color: white;position: relative;}#sk-container-id-4 div.sk-item::before, #sk-container-id-4 div.sk-parallel-item::before {content: \"\";position: absolute;border-left: 1px solid gray;box-sizing: border-box;top: 0;bottom: 0;left: 50%;z-index: -1;}#sk-container-id-4 div.sk-parallel-item {display: flex;flex-direction: column;z-index: 1;position: relative;background-color: white;}#sk-container-id-4 div.sk-parallel-item:first-child::after {align-self: flex-end;width: 50%;}#sk-container-id-4 div.sk-parallel-item:last-child::after {align-self: flex-start;width: 50%;}#sk-container-id-4 div.sk-parallel-item:only-child::after {width: 0;}#sk-container-id-4 div.sk-dashed-wrapped {border: 1px dashed gray;margin: 0 0.4em 0.5em 0.4em;box-sizing: border-box;padding-bottom: 0.4em;background-color: white;}#sk-container-id-4 div.sk-label label {font-family: monospace;font-weight: bold;display: inline-block;line-height: 1.2em;}#sk-container-id-4 div.sk-label-container {text-align: center;}#sk-container-id-4 div.sk-container {/* jupyter's `normalize.less` sets `[hidden] { display: none; }` but bootstrap.min.css set `[hidden] { display: none !important; }` so we also need the `!important` here to be able to override the default hidden behavior on the sphinx rendered scikit-learn.org. See: https://github.com/scikit-learn/scikit-learn/issues/21755 */display: inline-block !important;position: relative;}#sk-container-id-4 div.sk-text-repr-fallback {display: none;}</style><div id=\"sk-container-id-4\" class=\"sk-top-container\"><div class=\"sk-text-repr-fallback\"><pre>LogisticRegression(solver=&#x27;liblinear&#x27;)</pre><b>In a Jupyter environment, please rerun this cell to show the HTML representation or trust the notebook. <br />On GitHub, the HTML representation is unable to render, please try loading this page with nbviewer.org.</b></div><div class=\"sk-container\" hidden><div class=\"sk-item\"><div class=\"sk-estimator sk-toggleable\"><input class=\"sk-toggleable__control sk-hidden--visually\" id=\"sk-estimator-id-8\" type=\"checkbox\" checked><label for=\"sk-estimator-id-8\" class=\"sk-toggleable__label sk-toggleable__label-arrow\">LogisticRegression</label><div class=\"sk-toggleable__content\"><pre>LogisticRegression(solver=&#x27;liblinear&#x27;)</pre></div></div></div></div></div>"
     },
     "execution_count": 149,
     "metadata": {},
     "output_type": "execute_result"
    }
   ]
  },
  {
   "cell_type": "code",
   "source": [
    "Logistic_model.score(X, Y)"
   ],
   "metadata": {
    "colab": {
     "base_uri": "https://localhost:8080/"
    },
    "id": "sDSN10MfDIls",
    "outputId": "206cc469-794b-43ee-fb35-a2104e87f8db",
    "ExecuteTime": {
     "end_time": "2024-04-03T14:19:32.944888Z",
     "start_time": "2024-04-03T14:19:32.938558Z"
    }
   },
   "execution_count": 150,
   "outputs": [
    {
     "data": {
      "text/plain": "0.07291666666666667"
     },
     "execution_count": 150,
     "metadata": {},
     "output_type": "execute_result"
    }
   ]
  }
 ]
}
