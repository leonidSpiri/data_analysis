{
 "nbformat": 4,
 "nbformat_minor": 0,
 "metadata": {
  "kernelspec": {
   "display_name": "Python 3",
   "language": "python",
   "name": "python3"
  },
  "language_info": {
   "codemirror_mode": {
    "name": "ipython",
    "version": 3
   },
   "file_extension": ".py",
   "mimetype": "text/x-python",
   "name": "python",
   "nbconvert_exporter": "python",
   "pygments_lexer": "ipython3",
   "version": "3.8.3"
  },
  "colab": {
   "provenance": [
    {
     "file_id": "14dsmY_PzMJpMQmD5gKVhTEP5wW0pLxhu",
     "timestamp": 1715331320157
    },
    {
     "file_id": "1EiPXs64qSOMhoh_BaHeBm2p4JKXhysF6",
     "timestamp": 1714689369471
    },
    {
     "file_id": "1rw9-2VzqGAosANfRVPY8HhXQku23RQNA",
     "timestamp": 1673430187191
    },
    {
     "file_id": "https://github.com/dm-fedorov/pandas_basic/blob/master/%D1%83%D0%BF%D1%80%D0%B0%D0%B6%D0%BD%D0%B5%D0%BD%D0%B8%D1%8F/5.%20%D0%9E%D0%B1%D1%8A%D0%B5%D0%B4%D0%B8%D0%BD%D0%B5%D0%BD%D0%B8%D0%B5%20%D1%82%D0%B0%D0%B1%D0%BB%D0%B8%D1%86.ipynb",
     "timestamp": 1638007062020
    }
   ]
  }
 },
 "cells": [
  {
   "cell_type": "markdown",
   "source": [
    "Теория:\n",
    "\n",
    "12.Удаление строк и столбцов:\n",
    "https://docs.google.com/presentation/d/1zrgHDfK09-R7SK3Bhx4DBE4Bb8L0qWDoIM8KYyvJ3fw/edit#slide=id.ge142345818_0_4\n",
    "\n",
    "13.Объединение наборов данных:\n",
    "https://docs.google.com/presentation/d/1IbjwovfXl_QBwBj_Fs7BFWg1fK0UsRhO72co8EjaDAY/edit#slide=id.g1c8ff3186c1_0_0\n",
    "\n",
    "14.Слияние и присоединение таблиц данных:\n",
    "https://docs.google.com/presentation/d/1g2V6CQrxzqKqqI-Zkp9EA0ssdSQK25KaAHhT0ukxBPg/edit#slide=id.gab2ce8bdc8_0_211\n",
    "\n"
   ],
   "metadata": {
    "id": "sxvgfYqoEaII"
   }
  },
  {
   "cell_type": "markdown",
   "source": [
    "# Задание 10. Объединение таблиц"
   ],
   "metadata": {
    "id": "ROqkCTwIN42m"
   }
  },
  {
   "cell_type": "markdown",
   "metadata": {
    "id": "x-4rkbiJ1Cdk"
   },
   "source": [
    "Будем работать с [логами рекомендательной системы фильмов](https://grouplens.org/datasets/movielens/). Основой данных будут две таблицы. Первая — это данные о выставленных оценках фильмов:"
   ]
  },
  {
   "cell_type": "code",
   "metadata": {
    "id": "P1KI5sBV1Cdk",
    "colab": {
     "base_uri": "https://localhost:8080/",
     "height": 206
    },
    "executionInfo": {
     "status": "ok",
     "timestamp": 1715331361816,
     "user_tz": -180,
     "elapsed": 1582,
     "user": {
      "displayName": "Денис Н",
      "userId": "05703602284528533401"
     }
    },
    "outputId": "71ddbffb-500e-4e5a-da92-a4eab189a939",
    "ExecuteTime": {
     "end_time": "2024-05-16T22:53:46.296775Z",
     "start_time": "2024-05-16T22:53:45.791236Z"
    }
   },
   "source": [
    "import pandas as pd\n",
    "\n",
    "url = \"https://raw.githubusercontent.com/dm-fedorov/pandas_basic/master/data/ratings.csv\"\n",
    "\n",
    "ratings = pd.read_csv(url)\n",
    "ratings.head()"
   ],
   "outputs": [
    {
     "data": {
      "text/plain": [
       "   userId  movieId  rating  timestamp\n",
       "0       1        1     4.0  964982703\n",
       "1       1        3     4.0  964981247\n",
       "2       1        6     4.0  964982224\n",
       "3       1       47     5.0  964983815\n",
       "4       1       50     5.0  964982931"
      ],
      "text/html": [
       "<div>\n",
       "<style scoped>\n",
       "    .dataframe tbody tr th:only-of-type {\n",
       "        vertical-align: middle;\n",
       "    }\n",
       "\n",
       "    .dataframe tbody tr th {\n",
       "        vertical-align: top;\n",
       "    }\n",
       "\n",
       "    .dataframe thead th {\n",
       "        text-align: right;\n",
       "    }\n",
       "</style>\n",
       "<table border=\"1\" class=\"dataframe\">\n",
       "  <thead>\n",
       "    <tr style=\"text-align: right;\">\n",
       "      <th></th>\n",
       "      <th>userId</th>\n",
       "      <th>movieId</th>\n",
       "      <th>rating</th>\n",
       "      <th>timestamp</th>\n",
       "    </tr>\n",
       "  </thead>\n",
       "  <tbody>\n",
       "    <tr>\n",
       "      <th>0</th>\n",
       "      <td>1</td>\n",
       "      <td>1</td>\n",
       "      <td>4.0</td>\n",
       "      <td>964982703</td>\n",
       "    </tr>\n",
       "    <tr>\n",
       "      <th>1</th>\n",
       "      <td>1</td>\n",
       "      <td>3</td>\n",
       "      <td>4.0</td>\n",
       "      <td>964981247</td>\n",
       "    </tr>\n",
       "    <tr>\n",
       "      <th>2</th>\n",
       "      <td>1</td>\n",
       "      <td>6</td>\n",
       "      <td>4.0</td>\n",
       "      <td>964982224</td>\n",
       "    </tr>\n",
       "    <tr>\n",
       "      <th>3</th>\n",
       "      <td>1</td>\n",
       "      <td>47</td>\n",
       "      <td>5.0</td>\n",
       "      <td>964983815</td>\n",
       "    </tr>\n",
       "    <tr>\n",
       "      <th>4</th>\n",
       "      <td>1</td>\n",
       "      <td>50</td>\n",
       "      <td>5.0</td>\n",
       "      <td>964982931</td>\n",
       "    </tr>\n",
       "  </tbody>\n",
       "</table>\n",
       "</div>"
      ]
     },
     "execution_count": 18,
     "metadata": {},
     "output_type": "execute_result"
    }
   ],
   "execution_count": 18
  },
  {
   "cell_type": "markdown",
   "metadata": {
    "id": "sYIwRTQ41Cdn"
   },
   "source": [
    "Состав столбцов:\n",
    "\n",
    "- `userId` — идентификатор пользователя, который поставил фильму оценку\n",
    "- `movieId` — идентификатор фильма\n",
    "- `rating` — выставленная оценка\n",
    "- `timestamp` — время (в формате unix time), когда была выставлена оценка"
   ]
  },
  {
   "cell_type": "markdown",
   "metadata": {
    "id": "Ud8H7KgG1Cdo"
   },
   "source": [
    "Вторая таблица — расшифровка идентификаторов фильмов:"
   ]
  },
  {
   "cell_type": "code",
   "metadata": {
    "id": "YSBsJrKa1Cdo",
    "colab": {
     "base_uri": "https://localhost:8080/",
     "height": 206
    },
    "executionInfo": {
     "status": "ok",
     "timestamp": 1715331362899,
     "user_tz": -180,
     "elapsed": 1091,
     "user": {
      "displayName": "Денис Н",
      "userId": "05703602284528533401"
     }
    },
    "outputId": "1bc74958-0240-4eba-e36c-4be3b2c97da0",
    "ExecuteTime": {
     "end_time": "2024-05-16T22:53:46.574787Z",
     "start_time": "2024-05-16T22:53:46.299769Z"
    }
   },
   "source": [
    "url = \"https://raw.githubusercontent.com/dm-fedorov/pandas_basic/master/data/movies.csv\"\n",
    "\n",
    "movies = pd.read_csv(url)\n",
    "movies.head()"
   ],
   "outputs": [
    {
     "data": {
      "text/plain": [
       "   movieId                               title  \\\n",
       "0        1                    Toy Story (1995)   \n",
       "1        2                      Jumanji (1995)   \n",
       "2        3             Grumpier Old Men (1995)   \n",
       "3        4            Waiting to Exhale (1995)   \n",
       "4        5  Father of the Bride Part II (1995)   \n",
       "\n",
       "                                        genres  \n",
       "0  Adventure|Animation|Children|Comedy|Fantasy  \n",
       "1                   Adventure|Children|Fantasy  \n",
       "2                               Comedy|Romance  \n",
       "3                         Comedy|Drama|Romance  \n",
       "4                                       Comedy  "
      ],
      "text/html": [
       "<div>\n",
       "<style scoped>\n",
       "    .dataframe tbody tr th:only-of-type {\n",
       "        vertical-align: middle;\n",
       "    }\n",
       "\n",
       "    .dataframe tbody tr th {\n",
       "        vertical-align: top;\n",
       "    }\n",
       "\n",
       "    .dataframe thead th {\n",
       "        text-align: right;\n",
       "    }\n",
       "</style>\n",
       "<table border=\"1\" class=\"dataframe\">\n",
       "  <thead>\n",
       "    <tr style=\"text-align: right;\">\n",
       "      <th></th>\n",
       "      <th>movieId</th>\n",
       "      <th>title</th>\n",
       "      <th>genres</th>\n",
       "    </tr>\n",
       "  </thead>\n",
       "  <tbody>\n",
       "    <tr>\n",
       "      <th>0</th>\n",
       "      <td>1</td>\n",
       "      <td>Toy Story (1995)</td>\n",
       "      <td>Adventure|Animation|Children|Comedy|Fantasy</td>\n",
       "    </tr>\n",
       "    <tr>\n",
       "      <th>1</th>\n",
       "      <td>2</td>\n",
       "      <td>Jumanji (1995)</td>\n",
       "      <td>Adventure|Children|Fantasy</td>\n",
       "    </tr>\n",
       "    <tr>\n",
       "      <th>2</th>\n",
       "      <td>3</td>\n",
       "      <td>Grumpier Old Men (1995)</td>\n",
       "      <td>Comedy|Romance</td>\n",
       "    </tr>\n",
       "    <tr>\n",
       "      <th>3</th>\n",
       "      <td>4</td>\n",
       "      <td>Waiting to Exhale (1995)</td>\n",
       "      <td>Comedy|Drama|Romance</td>\n",
       "    </tr>\n",
       "    <tr>\n",
       "      <th>4</th>\n",
       "      <td>5</td>\n",
       "      <td>Father of the Bride Part II (1995)</td>\n",
       "      <td>Comedy</td>\n",
       "    </tr>\n",
       "  </tbody>\n",
       "</table>\n",
       "</div>"
      ]
     },
     "execution_count": 19,
     "metadata": {},
     "output_type": "execute_result"
    }
   ],
   "execution_count": 19
  },
  {
   "cell_type": "markdown",
   "metadata": {
    "id": "9qaI0YCq1Cdp"
   },
   "source": [
    "Состав столбцов:\n",
    "\n",
    "- `movieId` — идентификатор фильма\n",
    "- `title` — название фильма\n",
    "- `genres` — список жанров, к которым относится фильм"
   ]
  },
  {
   "cell_type": "markdown",
   "metadata": {
    "id": "Hd_nBrRr1Cdq"
   },
   "source": [
    "У датафреймов `ratings` и `movies` есть общий столбец `movieId`. Значит, мы можем объединить эти датафреймы в одну таблицу. Используем метод [`merge`](https://pandas.pydata.org/pandas-docs/stable/reference/api/pandas.DataFrame.merge.html):"
   ]
  },
  {
   "cell_type": "code",
   "metadata": {
    "id": "Fjj-CWAs1Cdr",
    "colab": {
     "base_uri": "https://localhost:8080/",
     "height": 206
    },
    "executionInfo": {
     "status": "ok",
     "timestamp": 1715331362900,
     "user_tz": -180,
     "elapsed": 59,
     "user": {
      "displayName": "Денис Н",
      "userId": "05703602284528533401"
     }
    },
    "outputId": "5316dfbd-a650-48f8-c704-8420b31c032b",
    "ExecuteTime": {
     "end_time": "2024-05-16T22:53:46.627827Z",
     "start_time": "2024-05-16T22:53:46.577249Z"
    }
   },
   "source": [
    "joined = ratings.merge(movies,\n",
    "                       on='movieId',\n",
    "                       how='left')\n",
    "joined.head()"
   ],
   "outputs": [
    {
     "data": {
      "text/plain": [
       "   userId  movieId  rating  timestamp                        title  \\\n",
       "0       1        1     4.0  964982703             Toy Story (1995)   \n",
       "1       1        3     4.0  964981247      Grumpier Old Men (1995)   \n",
       "2       1        6     4.0  964982224                  Heat (1995)   \n",
       "3       1       47     5.0  964983815  Seven (a.k.a. Se7en) (1995)   \n",
       "4       1       50     5.0  964982931   Usual Suspects, The (1995)   \n",
       "\n",
       "                                        genres  \n",
       "0  Adventure|Animation|Children|Comedy|Fantasy  \n",
       "1                               Comedy|Romance  \n",
       "2                        Action|Crime|Thriller  \n",
       "3                             Mystery|Thriller  \n",
       "4                       Crime|Mystery|Thriller  "
      ],
      "text/html": [
       "<div>\n",
       "<style scoped>\n",
       "    .dataframe tbody tr th:only-of-type {\n",
       "        vertical-align: middle;\n",
       "    }\n",
       "\n",
       "    .dataframe tbody tr th {\n",
       "        vertical-align: top;\n",
       "    }\n",
       "\n",
       "    .dataframe thead th {\n",
       "        text-align: right;\n",
       "    }\n",
       "</style>\n",
       "<table border=\"1\" class=\"dataframe\">\n",
       "  <thead>\n",
       "    <tr style=\"text-align: right;\">\n",
       "      <th></th>\n",
       "      <th>userId</th>\n",
       "      <th>movieId</th>\n",
       "      <th>rating</th>\n",
       "      <th>timestamp</th>\n",
       "      <th>title</th>\n",
       "      <th>genres</th>\n",
       "    </tr>\n",
       "  </thead>\n",
       "  <tbody>\n",
       "    <tr>\n",
       "      <th>0</th>\n",
       "      <td>1</td>\n",
       "      <td>1</td>\n",
       "      <td>4.0</td>\n",
       "      <td>964982703</td>\n",
       "      <td>Toy Story (1995)</td>\n",
       "      <td>Adventure|Animation|Children|Comedy|Fantasy</td>\n",
       "    </tr>\n",
       "    <tr>\n",
       "      <th>1</th>\n",
       "      <td>1</td>\n",
       "      <td>3</td>\n",
       "      <td>4.0</td>\n",
       "      <td>964981247</td>\n",
       "      <td>Grumpier Old Men (1995)</td>\n",
       "      <td>Comedy|Romance</td>\n",
       "    </tr>\n",
       "    <tr>\n",
       "      <th>2</th>\n",
       "      <td>1</td>\n",
       "      <td>6</td>\n",
       "      <td>4.0</td>\n",
       "      <td>964982224</td>\n",
       "      <td>Heat (1995)</td>\n",
       "      <td>Action|Crime|Thriller</td>\n",
       "    </tr>\n",
       "    <tr>\n",
       "      <th>3</th>\n",
       "      <td>1</td>\n",
       "      <td>47</td>\n",
       "      <td>5.0</td>\n",
       "      <td>964983815</td>\n",
       "      <td>Seven (a.k.a. Se7en) (1995)</td>\n",
       "      <td>Mystery|Thriller</td>\n",
       "    </tr>\n",
       "    <tr>\n",
       "      <th>4</th>\n",
       "      <td>1</td>\n",
       "      <td>50</td>\n",
       "      <td>5.0</td>\n",
       "      <td>964982931</td>\n",
       "      <td>Usual Suspects, The (1995)</td>\n",
       "      <td>Crime|Mystery|Thriller</td>\n",
       "    </tr>\n",
       "  </tbody>\n",
       "</table>\n",
       "</div>"
      ]
     },
     "execution_count": 20,
     "metadata": {},
     "output_type": "execute_result"
    }
   ],
   "execution_count": 20
  },
  {
   "cell_type": "markdown",
   "metadata": {
    "id": "yCmJMqRe1Cdr"
   },
   "source": [
    "Схематично:\n",
    "\n",
    "```Python\n",
    "joined = left_df.merge(right_df, on='', how=''), где\n",
    "```\n",
    "\n",
    "- `left_df` / `right_df` — датафреймы, которые мы объединяем. К \"правому\" датафрейму присоединяем \"левый\" (в нашем примере \"левый\" датафрейм — `ratings`, \"правый\" — `movies`).\n",
    "- `how` — параметр объединения записей. Он может иметь четыре значения: `left`, `right`, `inner` и `outer`. При значении `left` берем все записи (`movieId`) из \"левого\" датафрейма (`ratings`) и ищем их соответствия в \"правом\" (`movies`). В итоговом датафрейме останутся только те значения, которым были найдены соответствия, то есть только значения из `ratings`. Аналогично при параметре `right` остаются только значения из \"правого\" датафрейма. Если совпадений между таблицами нет, то ставим нулевое значение. Значение `inner` оставляет только те записи (`movieId`), которые есть в обоих датафреймах, `outer` объединяет все варианты `movieId` в обоих датафреймах.\n",
    "- `on` определяет, по какому столбцу происходит объединение. Для объединения по нескольким столбцам используйте `on = ['col1', 'col2']` или `left_on` и `right_on`.\n",
    "\n",
    "\n",
    "<img src=\"https://raw.githubusercontent.com/dm-fedorov/pandas_basic/master/%D1%81%D0%BB%D0%BE%D0%B6%D0%BD%D1%8B%D0%B5%20%D1%82%D0%B5%D0%BC%D1%8B%20pandas/pic/merge.png\">\n",
    "\n",
    "\n",
    "\n",
    "После объединения датафреймов лучше проверять, что не возникло дубликатов."
   ]
  },
  {
   "cell_type": "markdown",
   "metadata": {
    "id": "im77B8yD1Cds"
   },
   "source": [
    "Убедимся в том, что число строк объединенного датафрейма совпадает с исходным:"
   ]
  },
  {
   "cell_type": "code",
   "metadata": {
    "id": "DW4V9A0H1Cdt",
    "colab": {
     "base_uri": "https://localhost:8080/"
    },
    "executionInfo": {
     "status": "ok",
     "timestamp": 1715331362900,
     "user_tz": -180,
     "elapsed": 55,
     "user": {
      "displayName": "Денис Н",
      "userId": "05703602284528533401"
     }
    },
    "outputId": "22c3d4f2-406d-4183-90d6-57ad482206fc",
    "ExecuteTime": {
     "end_time": "2024-05-16T22:53:46.641202Z",
     "start_time": "2024-05-16T22:53:46.633954Z"
    }
   },
   "source": [
    "len(ratings) == len(joined)"
   ],
   "outputs": [
    {
     "data": {
      "text/plain": [
       "True"
      ]
     },
     "execution_count": 21,
     "metadata": {},
     "output_type": "execute_result"
    }
   ],
   "execution_count": 21
  },
  {
   "cell_type": "markdown",
   "metadata": {
    "id": "AvgHZ6tG1Cdt"
   },
   "source": [
    "Получаем значение True — значит, число строк совпадает."
   ]
  },
  {
   "cell_type": "markdown",
   "metadata": {
    "id": "HUNrtz_-1Cdt"
   },
   "source": [
    "Объединение датафреймов с помощью метода `merge` имеет особенности, аналогичные [`SQL JOIN`](http://www.skillz.ru/dev/php/article-Obyasnenie_SQL_obedinenii_JOIN_INNER_OUTER.html). Если точнее, есть ситуации, которые приводят к дублированию строк в конечном результате. Разберем эти ситуации более подробно на примере небольших таблиц:"
   ]
  },
  {
   "cell_type": "code",
   "metadata": {
    "id": "UCes6ExO1Cdu",
    "colab": {
     "base_uri": "https://localhost:8080/",
     "height": 81
    },
    "executionInfo": {
     "status": "ok",
     "timestamp": 1715331362901,
     "user_tz": -180,
     "elapsed": 52,
     "user": {
      "displayName": "Денис Н",
      "userId": "05703602284528533401"
     }
    },
    "outputId": "6c832ceb-2011-4926-8a18-e20e6f85dda6",
    "ExecuteTime": {
     "end_time": "2024-05-16T22:53:46.791148Z",
     "start_time": "2024-05-16T22:53:46.643461Z"
    }
   },
   "source": [
    "url = \"https://raw.githubusercontent.com/dm-fedorov/pandas_basic/master/data/ratings_example.txt\"\n",
    "\n",
    "ratings = pd.read_csv(url, sep='\\t')\n",
    "ratings.head()"
   ],
   "outputs": [
    {
     "data": {
      "text/plain": [
       "   userId  movieId  rating   timestamp\n",
       "0       1       31     2.5  1260759144"
      ],
      "text/html": [
       "<div>\n",
       "<style scoped>\n",
       "    .dataframe tbody tr th:only-of-type {\n",
       "        vertical-align: middle;\n",
       "    }\n",
       "\n",
       "    .dataframe tbody tr th {\n",
       "        vertical-align: top;\n",
       "    }\n",
       "\n",
       "    .dataframe thead th {\n",
       "        text-align: right;\n",
       "    }\n",
       "</style>\n",
       "<table border=\"1\" class=\"dataframe\">\n",
       "  <thead>\n",
       "    <tr style=\"text-align: right;\">\n",
       "      <th></th>\n",
       "      <th>userId</th>\n",
       "      <th>movieId</th>\n",
       "      <th>rating</th>\n",
       "      <th>timestamp</th>\n",
       "    </tr>\n",
       "  </thead>\n",
       "  <tbody>\n",
       "    <tr>\n",
       "      <th>0</th>\n",
       "      <td>1</td>\n",
       "      <td>31</td>\n",
       "      <td>2.5</td>\n",
       "      <td>1260759144</td>\n",
       "    </tr>\n",
       "  </tbody>\n",
       "</table>\n",
       "</div>"
      ]
     },
     "execution_count": 22,
     "metadata": {},
     "output_type": "execute_result"
    }
   ],
   "execution_count": 22
  },
  {
   "cell_type": "code",
   "metadata": {
    "id": "4vPCpCD-1Cdu",
    "colab": {
     "base_uri": "https://localhost:8080/",
     "height": 143
    },
    "executionInfo": {
     "status": "ok",
     "timestamp": 1715331362901,
     "user_tz": -180,
     "elapsed": 51,
     "user": {
      "displayName": "Денис Н",
      "userId": "05703602284528533401"
     }
    },
    "outputId": "e485be76-4f61-4e96-efe3-30c48a50804c",
    "ExecuteTime": {
     "end_time": "2024-05-16T22:53:46.943099Z",
     "start_time": "2024-05-16T22:53:46.793876Z"
    }
   },
   "source": [
    "url = \"https://raw.githubusercontent.com/dm-fedorov/pandas_basic/master/data/movies_example.txt\"\n",
    "\n",
    "movies = pd.read_csv(url, sep='\\t')\n",
    "movies.head()"
   ],
   "outputs": [
    {
     "data": {
      "text/plain": [
       "   movieId                                      title                   genres\n",
       "0       31                    Dangerous Minds (1995)                     Drama\n",
       "1       32  Twelve Monkeys (a.k.a. 12 Monkeys) (1995)  Mystery|Sci-Fi|Thriller\n",
       "2       31                    Dangerous Minds (1995)                     Drama"
      ],
      "text/html": [
       "<div>\n",
       "<style scoped>\n",
       "    .dataframe tbody tr th:only-of-type {\n",
       "        vertical-align: middle;\n",
       "    }\n",
       "\n",
       "    .dataframe tbody tr th {\n",
       "        vertical-align: top;\n",
       "    }\n",
       "\n",
       "    .dataframe thead th {\n",
       "        text-align: right;\n",
       "    }\n",
       "</style>\n",
       "<table border=\"1\" class=\"dataframe\">\n",
       "  <thead>\n",
       "    <tr style=\"text-align: right;\">\n",
       "      <th></th>\n",
       "      <th>movieId</th>\n",
       "      <th>title</th>\n",
       "      <th>genres</th>\n",
       "    </tr>\n",
       "  </thead>\n",
       "  <tbody>\n",
       "    <tr>\n",
       "      <th>0</th>\n",
       "      <td>31</td>\n",
       "      <td>Dangerous Minds (1995)</td>\n",
       "      <td>Drama</td>\n",
       "    </tr>\n",
       "    <tr>\n",
       "      <th>1</th>\n",
       "      <td>32</td>\n",
       "      <td>Twelve Monkeys (a.k.a. 12 Monkeys) (1995)</td>\n",
       "      <td>Mystery|Sci-Fi|Thriller</td>\n",
       "    </tr>\n",
       "    <tr>\n",
       "      <th>2</th>\n",
       "      <td>31</td>\n",
       "      <td>Dangerous Minds (1995)</td>\n",
       "      <td>Drama</td>\n",
       "    </tr>\n",
       "  </tbody>\n",
       "</table>\n",
       "</div>"
      ]
     },
     "execution_count": 23,
     "metadata": {},
     "output_type": "execute_result"
    }
   ],
   "execution_count": 23
  },
  {
   "cell_type": "markdown",
   "metadata": {
    "id": "302Uoio_1Cdu"
   },
   "source": [
    "**Дубликаты строк**\n",
    "\n",
    "Итак, в датафрейме `movies` есть две строки с одним `movieId`. То есть теперь для таблицы `ratings` нет однозначного соответствия, с какой строкой она может объединиться с таблицей `movies`. В итоге строка с `movieId = 31` будет дублирована:"
   ]
  },
  {
   "cell_type": "code",
   "metadata": {
    "id": "ehLSldIc1Cdu",
    "colab": {
     "base_uri": "https://localhost:8080/",
     "height": 112
    },
    "executionInfo": {
     "status": "ok",
     "timestamp": 1715331362902,
     "user_tz": -180,
     "elapsed": 50,
     "user": {
      "displayName": "Денис Н",
      "userId": "05703602284528533401"
     }
    },
    "outputId": "1821207e-8a17-489d-b22c-8b013d9d587a",
    "ExecuteTime": {
     "end_time": "2024-05-16T22:53:46.961517Z",
     "start_time": "2024-05-16T22:53:46.945281Z"
    }
   },
   "source": [
    "ratings.merge(movies,\n",
    "              how='left',\n",
    "              on='movieId')"
   ],
   "outputs": [
    {
     "data": {
      "text/plain": [
       "   userId  movieId  rating   timestamp                    title genres\n",
       "0       1       31     2.5  1260759144  Dangerous Minds (1995)   Drama\n",
       "1       1       31     2.5  1260759144  Dangerous Minds (1995)   Drama"
      ],
      "text/html": [
       "<div>\n",
       "<style scoped>\n",
       "    .dataframe tbody tr th:only-of-type {\n",
       "        vertical-align: middle;\n",
       "    }\n",
       "\n",
       "    .dataframe tbody tr th {\n",
       "        vertical-align: top;\n",
       "    }\n",
       "\n",
       "    .dataframe thead th {\n",
       "        text-align: right;\n",
       "    }\n",
       "</style>\n",
       "<table border=\"1\" class=\"dataframe\">\n",
       "  <thead>\n",
       "    <tr style=\"text-align: right;\">\n",
       "      <th></th>\n",
       "      <th>userId</th>\n",
       "      <th>movieId</th>\n",
       "      <th>rating</th>\n",
       "      <th>timestamp</th>\n",
       "      <th>title</th>\n",
       "      <th>genres</th>\n",
       "    </tr>\n",
       "  </thead>\n",
       "  <tbody>\n",
       "    <tr>\n",
       "      <th>0</th>\n",
       "      <td>1</td>\n",
       "      <td>31</td>\n",
       "      <td>2.5</td>\n",
       "      <td>1260759144</td>\n",
       "      <td>Dangerous Minds (1995)</td>\n",
       "      <td>Drama</td>\n",
       "    </tr>\n",
       "    <tr>\n",
       "      <th>1</th>\n",
       "      <td>1</td>\n",
       "      <td>31</td>\n",
       "      <td>2.5</td>\n",
       "      <td>1260759144</td>\n",
       "      <td>Dangerous Minds (1995)</td>\n",
       "      <td>Drama</td>\n",
       "    </tr>\n",
       "  </tbody>\n",
       "</table>\n",
       "</div>"
      ]
     },
     "execution_count": 24,
     "metadata": {},
     "output_type": "execute_result"
    }
   ],
   "execution_count": 24
  },
  {
   "cell_type": "markdown",
   "metadata": {
    "id": "mFHselyx1Cdv"
   },
   "source": [
    "Если вы хотите избежать подобной ситуации, необходимо удалить дубликаты из таблицы `movies`. Для этого подходит метод `drop_duplicates`. В параметре `subset` указываем один или несколько столбцов, по комбинации которых хотим удалить дубликаты.\n",
    "\n",
    "С помощью параметра `keep` указываем, какой из встречающихся дубликатов оставить (например, первый или последний). Параметр `inplace` указывает, что изменения нужно сохранить в датафрейме, к которому применяется метод (в нашем случае — в датафрейме `movies`):"
   ]
  },
  {
   "cell_type": "code",
   "metadata": {
    "id": "x05FDoB41Cdv",
    "colab": {
     "base_uri": "https://localhost:8080/",
     "height": 112
    },
    "executionInfo": {
     "status": "ok",
     "timestamp": 1715331362902,
     "user_tz": -180,
     "elapsed": 48,
     "user": {
      "displayName": "Денис Н",
      "userId": "05703602284528533401"
     }
    },
    "outputId": "43bb9727-0470-464e-e32e-f3cff5da9d95",
    "ExecuteTime": {
     "end_time": "2024-05-16T22:53:46.986957Z",
     "start_time": "2024-05-16T22:53:46.969876Z"
    }
   },
   "source": [
    "movies.drop_duplicates(subset='movieId',\n",
    "                       keep='first',\n",
    "                       inplace=True)\n",
    "movies.head()"
   ],
   "outputs": [
    {
     "data": {
      "text/plain": [
       "   movieId                                      title                   genres\n",
       "0       31                    Dangerous Minds (1995)                     Drama\n",
       "1       32  Twelve Monkeys (a.k.a. 12 Monkeys) (1995)  Mystery|Sci-Fi|Thriller"
      ],
      "text/html": [
       "<div>\n",
       "<style scoped>\n",
       "    .dataframe tbody tr th:only-of-type {\n",
       "        vertical-align: middle;\n",
       "    }\n",
       "\n",
       "    .dataframe tbody tr th {\n",
       "        vertical-align: top;\n",
       "    }\n",
       "\n",
       "    .dataframe thead th {\n",
       "        text-align: right;\n",
       "    }\n",
       "</style>\n",
       "<table border=\"1\" class=\"dataframe\">\n",
       "  <thead>\n",
       "    <tr style=\"text-align: right;\">\n",
       "      <th></th>\n",
       "      <th>movieId</th>\n",
       "      <th>title</th>\n",
       "      <th>genres</th>\n",
       "    </tr>\n",
       "  </thead>\n",
       "  <tbody>\n",
       "    <tr>\n",
       "      <th>0</th>\n",
       "      <td>31</td>\n",
       "      <td>Dangerous Minds (1995)</td>\n",
       "      <td>Drama</td>\n",
       "    </tr>\n",
       "    <tr>\n",
       "      <th>1</th>\n",
       "      <td>32</td>\n",
       "      <td>Twelve Monkeys (a.k.a. 12 Monkeys) (1995)</td>\n",
       "      <td>Mystery|Sci-Fi|Thriller</td>\n",
       "    </tr>\n",
       "  </tbody>\n",
       "</table>\n",
       "</div>"
      ]
     },
     "execution_count": 25,
     "metadata": {},
     "output_type": "execute_result"
    }
   ],
   "execution_count": 25
  },
  {
   "cell_type": "markdown",
   "metadata": {
    "id": "z6FakcDa1Cdv"
   },
   "source": [
    "Теперь объединение таблиц будет корректным:"
   ]
  },
  {
   "cell_type": "code",
   "metadata": {
    "id": "dkd95cm31Cdv",
    "colab": {
     "base_uri": "https://localhost:8080/",
     "height": 81
    },
    "executionInfo": {
     "status": "ok",
     "timestamp": 1715331362902,
     "user_tz": -180,
     "elapsed": 47,
     "user": {
      "displayName": "Денис Н",
      "userId": "05703602284528533401"
     }
    },
    "outputId": "a2dfcbc8-2e3b-4e85-971a-13f9e9b3af3f",
    "ExecuteTime": {
     "end_time": "2024-05-16T22:53:47.099394Z",
     "start_time": "2024-05-16T22:53:47.063539Z"
    }
   },
   "source": [
    "ratings.merge(movies,\n",
    "              how='left',\n",
    "              on='movieId')"
   ],
   "outputs": [
    {
     "data": {
      "text/plain": [
       "   userId  movieId  rating   timestamp                    title genres\n",
       "0       1       31     2.5  1260759144  Dangerous Minds (1995)   Drama"
      ],
      "text/html": [
       "<div>\n",
       "<style scoped>\n",
       "    .dataframe tbody tr th:only-of-type {\n",
       "        vertical-align: middle;\n",
       "    }\n",
       "\n",
       "    .dataframe tbody tr th {\n",
       "        vertical-align: top;\n",
       "    }\n",
       "\n",
       "    .dataframe thead th {\n",
       "        text-align: right;\n",
       "    }\n",
       "</style>\n",
       "<table border=\"1\" class=\"dataframe\">\n",
       "  <thead>\n",
       "    <tr style=\"text-align: right;\">\n",
       "      <th></th>\n",
       "      <th>userId</th>\n",
       "      <th>movieId</th>\n",
       "      <th>rating</th>\n",
       "      <th>timestamp</th>\n",
       "      <th>title</th>\n",
       "      <th>genres</th>\n",
       "    </tr>\n",
       "  </thead>\n",
       "  <tbody>\n",
       "    <tr>\n",
       "      <th>0</th>\n",
       "      <td>1</td>\n",
       "      <td>31</td>\n",
       "      <td>2.5</td>\n",
       "      <td>1260759144</td>\n",
       "      <td>Dangerous Minds (1995)</td>\n",
       "      <td>Drama</td>\n",
       "    </tr>\n",
       "  </tbody>\n",
       "</table>\n",
       "</div>"
      ]
     },
     "execution_count": 26,
     "metadata": {},
     "output_type": "execute_result"
    }
   ],
   "execution_count": 26
  },
  {
   "cell_type": "markdown",
   "metadata": {
    "id": "SqV81rJA1Cdw"
   },
   "source": [
    "### Ситуация\n",
    "\n",
    "Рассмотрим данные о новых поступлениях в интернет-магазин.\n",
    "\n",
    "В словаре `items_dict` содержится информация о наличии товара на складе:"
   ]
  },
  {
   "cell_type": "code",
   "metadata": {
    "id": "UXjYCUBq1Cdw",
    "executionInfo": {
     "status": "ok",
     "timestamp": 1715331363636,
     "user_tz": -180,
     "elapsed": 779,
     "user": {
      "displayName": "Денис Н",
      "userId": "05703602284528533401"
     }
    },
    "ExecuteTime": {
     "end_time": "2024-05-16T22:53:47.417039Z",
     "start_time": "2024-05-16T22:53:47.406844Z"
    }
   },
   "source": [
    "items_dict = {\n",
    "    'item_id': [417283, 849734, 132223, 573943, 19475, 3294095, 382043, 302948, 100132, 312394],\n",
    "    'vendor': ['Samsung', 'LG', 'Apple', 'Apple', 'LG', 'Apple', 'Samsung', 'Samsung', 'LG', 'ZTE'],\n",
    "    'stock_count': [54, 33, 122, 18, 102, 43, 77, 143, 60, 19]\n",
    "}"
   ],
   "outputs": [],
   "execution_count": 27
  },
  {
   "cell_type": "markdown",
   "metadata": {
    "id": "GjcAUAvp1Cdw"
   },
   "source": [
    "А в словаре `purchase_log` — данные о покупках товаров:"
   ]
  },
  {
   "cell_type": "code",
   "metadata": {
    "id": "w8SKek4R1Cdw",
    "executionInfo": {
     "status": "ok",
     "timestamp": 1715331363637,
     "user_tz": -180,
     "elapsed": 19,
     "user": {
      "displayName": "Денис Н",
      "userId": "05703602284528533401"
     }
    },
    "ExecuteTime": {
     "end_time": "2024-05-16T22:53:47.921439Z",
     "start_time": "2024-05-16T22:53:47.913881Z"
    }
   },
   "source": [
    "purchase_log = {\n",
    "    'purchase_id': [101, 101, 101, 112, 121, 145, 145, 145, 145, 221],\n",
    "    'item_id': [417283, 849734, 132223, 573943, 19475, 3294095, 382043, 302948, 103845, 100132],\n",
    "    'price': [13900, 5330, 38200, 49990, 9890, 33000, 67500, 34500, 89900, 11400]\n",
    "}"
   ],
   "outputs": [],
   "execution_count": 28
  },
  {
   "cell_type": "markdown",
   "metadata": {
    "id": "6zxVbq7f1Cdx"
   },
   "source": [
    "Состав столбцов:\n",
    "\n",
    "- `item_id` — идентификатор модели (по этому столбцу будем объединять датафреймы)\n",
    "- `vendor` — производитель модели\n",
    "- `stock_count` — имеющееся на складе количество данных моделей (в штуках)\n",
    "- `purchase_id` — идентификатор покупки\n",
    "- `price` — стоимость модели в покупке"
   ]
  },
  {
   "cell_type": "markdown",
   "metadata": {
    "id": "6E90qGP71Cdx"
   },
   "source": [
    "Переведем сначала эти словари в датафреймы:"
   ]
  },
  {
   "cell_type": "code",
   "metadata": {
    "id": "C7xslDEn1Cdx",
    "executionInfo": {
     "status": "ok",
     "timestamp": 1715331363638,
     "user_tz": -180,
     "elapsed": 20,
     "user": {
      "displayName": "Денис Н",
      "userId": "05703602284528533401"
     }
    },
    "ExecuteTime": {
     "end_time": "2024-05-16T22:53:48.556120Z",
     "start_time": "2024-05-16T22:53:48.548493Z"
    }
   },
   "source": [
    "items_df = pd.DataFrame(items_dict)\n",
    "purchase_df = pd.DataFrame(purchase_log)"
   ],
   "outputs": [],
   "execution_count": 29
  },
  {
   "cell_type": "markdown",
   "metadata": {
    "id": "iDmQtoOV1Cdx"
   },
   "source": [
    "### Задача 1\n",
    "\n",
    "Объедините получившиеся датафреймы по столбцу `item_id` с типом `outer`.\n",
    "\n",
    "Определите, модель с каким `item_id` есть в статистике продаж `purchase_df`, но не учтена на складе (подсказка: подумайте, какой датафрейм должен быть \"левым\", а какой \"правым\", чтобы получить необходимые данные). Ответ в виде целого числа."
   ]
  },
  {
   "cell_type": "code",
   "source": [
    "merged_df = items_df.merge(purchase_df, on='item_id', how='outer')\n",
    "missing_stock_count = merged_df.loc[merged_df['stock_count'].isna() & merged_df['price'].notna(), 'item_id']\n",
    "merged_df\n",
    "#missing_stock_count"
   ],
   "metadata": {
    "id": "zoYTLWEXK6E1",
    "colab": {
     "base_uri": "https://localhost:8080/",
     "height": 394
    },
    "executionInfo": {
     "status": "ok",
     "timestamp": 1715331363638,
     "user_tz": -180,
     "elapsed": 19,
     "user": {
      "displayName": "Денис Н",
      "userId": "05703602284528533401"
     }
    },
    "outputId": "298821e9-0fcc-4452-cf57-8d9945c0f761",
    "ExecuteTime": {
     "end_time": "2024-05-16T22:53:48.977032Z",
     "start_time": "2024-05-16T22:53:48.949169Z"
    }
   },
   "outputs": [
    {
     "data": {
      "text/plain": [
       "    item_id   vendor  stock_count  purchase_id    price\n",
       "0    417283  Samsung         54.0        101.0  13900.0\n",
       "1    849734       LG         33.0        101.0   5330.0\n",
       "2    132223    Apple        122.0        101.0  38200.0\n",
       "3    573943    Apple         18.0        112.0  49990.0\n",
       "4     19475       LG        102.0        121.0   9890.0\n",
       "5   3294095    Apple         43.0        145.0  33000.0\n",
       "6    382043  Samsung         77.0        145.0  67500.0\n",
       "7    302948  Samsung        143.0        145.0  34500.0\n",
       "8    100132       LG         60.0        221.0  11400.0\n",
       "9    312394      ZTE         19.0          NaN      NaN\n",
       "10   103845      NaN          NaN        145.0  89900.0"
      ],
      "text/html": [
       "<div>\n",
       "<style scoped>\n",
       "    .dataframe tbody tr th:only-of-type {\n",
       "        vertical-align: middle;\n",
       "    }\n",
       "\n",
       "    .dataframe tbody tr th {\n",
       "        vertical-align: top;\n",
       "    }\n",
       "\n",
       "    .dataframe thead th {\n",
       "        text-align: right;\n",
       "    }\n",
       "</style>\n",
       "<table border=\"1\" class=\"dataframe\">\n",
       "  <thead>\n",
       "    <tr style=\"text-align: right;\">\n",
       "      <th></th>\n",
       "      <th>item_id</th>\n",
       "      <th>vendor</th>\n",
       "      <th>stock_count</th>\n",
       "      <th>purchase_id</th>\n",
       "      <th>price</th>\n",
       "    </tr>\n",
       "  </thead>\n",
       "  <tbody>\n",
       "    <tr>\n",
       "      <th>0</th>\n",
       "      <td>417283</td>\n",
       "      <td>Samsung</td>\n",
       "      <td>54.0</td>\n",
       "      <td>101.0</td>\n",
       "      <td>13900.0</td>\n",
       "    </tr>\n",
       "    <tr>\n",
       "      <th>1</th>\n",
       "      <td>849734</td>\n",
       "      <td>LG</td>\n",
       "      <td>33.0</td>\n",
       "      <td>101.0</td>\n",
       "      <td>5330.0</td>\n",
       "    </tr>\n",
       "    <tr>\n",
       "      <th>2</th>\n",
       "      <td>132223</td>\n",
       "      <td>Apple</td>\n",
       "      <td>122.0</td>\n",
       "      <td>101.0</td>\n",
       "      <td>38200.0</td>\n",
       "    </tr>\n",
       "    <tr>\n",
       "      <th>3</th>\n",
       "      <td>573943</td>\n",
       "      <td>Apple</td>\n",
       "      <td>18.0</td>\n",
       "      <td>112.0</td>\n",
       "      <td>49990.0</td>\n",
       "    </tr>\n",
       "    <tr>\n",
       "      <th>4</th>\n",
       "      <td>19475</td>\n",
       "      <td>LG</td>\n",
       "      <td>102.0</td>\n",
       "      <td>121.0</td>\n",
       "      <td>9890.0</td>\n",
       "    </tr>\n",
       "    <tr>\n",
       "      <th>5</th>\n",
       "      <td>3294095</td>\n",
       "      <td>Apple</td>\n",
       "      <td>43.0</td>\n",
       "      <td>145.0</td>\n",
       "      <td>33000.0</td>\n",
       "    </tr>\n",
       "    <tr>\n",
       "      <th>6</th>\n",
       "      <td>382043</td>\n",
       "      <td>Samsung</td>\n",
       "      <td>77.0</td>\n",
       "      <td>145.0</td>\n",
       "      <td>67500.0</td>\n",
       "    </tr>\n",
       "    <tr>\n",
       "      <th>7</th>\n",
       "      <td>302948</td>\n",
       "      <td>Samsung</td>\n",
       "      <td>143.0</td>\n",
       "      <td>145.0</td>\n",
       "      <td>34500.0</td>\n",
       "    </tr>\n",
       "    <tr>\n",
       "      <th>8</th>\n",
       "      <td>100132</td>\n",
       "      <td>LG</td>\n",
       "      <td>60.0</td>\n",
       "      <td>221.0</td>\n",
       "      <td>11400.0</td>\n",
       "    </tr>\n",
       "    <tr>\n",
       "      <th>9</th>\n",
       "      <td>312394</td>\n",
       "      <td>ZTE</td>\n",
       "      <td>19.0</td>\n",
       "      <td>NaN</td>\n",
       "      <td>NaN</td>\n",
       "    </tr>\n",
       "    <tr>\n",
       "      <th>10</th>\n",
       "      <td>103845</td>\n",
       "      <td>NaN</td>\n",
       "      <td>NaN</td>\n",
       "      <td>145.0</td>\n",
       "      <td>89900.0</td>\n",
       "    </tr>\n",
       "  </tbody>\n",
       "</table>\n",
       "</div>"
      ]
     },
     "execution_count": 30,
     "metadata": {},
     "output_type": "execute_result"
    }
   ],
   "execution_count": 30
  },
  {
   "cell_type": "markdown",
   "metadata": {
    "id": "ufjH9Chr1Cdx"
   },
   "source": [
    "### Задача 2\n",
    "\n",
    "Решите обратную задачу: модель с каким `item_id` есть на складе, но не имела ни одной продажи? Ответ в виде целого числа."
   ]
  },
  {
   "cell_type": "code",
   "source": [
    "merged_df.loc[merged_df['stock_count'].notna() & merged_df['purchase_id'].isna(), 'item_id']"
   ],
   "metadata": {
    "id": "ZwYv8-jjK7rD",
    "colab": {
     "base_uri": "https://localhost:8080/"
    },
    "executionInfo": {
     "status": "ok",
     "timestamp": 1715331363638,
     "user_tz": -180,
     "elapsed": 17,
     "user": {
      "displayName": "Денис Н",
      "userId": "05703602284528533401"
     }
    },
    "outputId": "3d58fec1-3d7f-4b41-95d9-9d2af649f4ec",
    "ExecuteTime": {
     "end_time": "2024-05-16T22:53:49.296125Z",
     "start_time": "2024-05-16T22:53:49.286211Z"
    }
   },
   "outputs": [
    {
     "data": {
      "text/plain": [
       "9    312394\n",
       "Name: item_id, dtype: int64"
      ]
     },
     "execution_count": 31,
     "metadata": {},
     "output_type": "execute_result"
    }
   ],
   "execution_count": 31
  },
  {
   "cell_type": "markdown",
   "metadata": {
    "id": "DxI4fCvN1Cdx"
   },
   "source": [
    "### Задача 3\n",
    "\n",
    "Сформируйте датафрейм `merged`, в котором в результате объединения `purchase_df` и `items_df` останутся модели, которые учтены на складе и имели продажи. Сколько всего таких моделей?"
   ]
  },
  {
   "cell_type": "code",
   "source": [
    "merged = purchase_df.merge(items_df, on='item_id', how='inner')\n",
    "total_models = merged.shape[0]\n",
    "total_models"
   ],
   "metadata": {
    "id": "CDnowmyRK9JT",
    "colab": {
     "base_uri": "https://localhost:8080/"
    },
    "executionInfo": {
     "status": "ok",
     "timestamp": 1715331363638,
     "user_tz": -180,
     "elapsed": 15,
     "user": {
      "displayName": "Денис Н",
      "userId": "05703602284528533401"
     }
    },
    "outputId": "45e87066-88eb-4652-9f77-15bf591b5692",
    "ExecuteTime": {
     "end_time": "2024-05-16T22:53:49.533164Z",
     "start_time": "2024-05-16T22:53:49.520414Z"
    }
   },
   "outputs": [
    {
     "data": {
      "text/plain": [
       "9"
      ]
     },
     "execution_count": 32,
     "metadata": {},
     "output_type": "execute_result"
    }
   ],
   "execution_count": 32
  },
  {
   "cell_type": "markdown",
   "metadata": {
    "id": "KiVHTTiC1Cdy"
   },
   "source": [
    "### Задача 4\n",
    "\n",
    "Посчитайте объем выручки для каждой модели, которую можно получить, распродав все остатки на складе. Модель с каким `item_id` имеет максимальное значение выручки после распродажи остатков? Ответ в виде целого числа.\n",
    "\n",
    "Примечание: перемножение столбцов датафрейма можно производить разными способами, но самый простой - перемножение \"в лоб\" вида `df['col1'] = df['col2'] * df['col3']`. Для присоединения новых данных к датафрейму тоже можно использовать различные методы, включая функцию `.append()`, которая позволяет присоединять к датафрейму другой датафрейм, серии или словари."
   ]
  },
  {
   "cell_type": "code",
   "source": [
    "merged_df = items_df.merge(purchase_df, on='item_id', how='left')\n",
    "merged_df['revenue'] = merged_df['stock_count'] * merged_df['price']\n",
    "max_revenue_item_id = merged_df.loc[merged_df['revenue'].idxmax(), 'item_id']\n",
    "max_revenue_item_id"
   ],
   "metadata": {
    "id": "T4xR-o9HK_Xb",
    "colab": {
     "base_uri": "https://localhost:8080/"
    },
    "executionInfo": {
     "status": "ok",
     "timestamp": 1715331363638,
     "user_tz": -180,
     "elapsed": 13,
     "user": {
      "displayName": "Денис Н",
      "userId": "05703602284528533401"
     }
    },
    "outputId": "a6e3f1e0-db55-4a6c-c876-431fa9d378cb",
    "ExecuteTime": {
     "end_time": "2024-05-16T22:53:49.699678Z",
     "start_time": "2024-05-16T22:53:49.684520Z"
    }
   },
   "outputs": [
    {
     "data": {
      "text/plain": [
       "382043"
      ]
     },
     "execution_count": 33,
     "metadata": {},
     "output_type": "execute_result"
    }
   ],
   "execution_count": 33
  },
  {
   "cell_type": "markdown",
   "metadata": {
    "id": "FU6RYENW1Cdy"
   },
   "source": [
    "### Задача 5\n",
    "\n",
    "Посчитайте итоговую выручку из прошлого задания по всем моделям. Ответ в виде целого числа."
   ]
  },
  {
   "cell_type": "code",
   "source": [
    "merged_df['revenue'].sum()"
   ],
   "metadata": {
    "id": "sMC7HOUqTINR",
    "colab": {
     "base_uri": "https://localhost:8080/"
    },
    "executionInfo": {
     "status": "ok",
     "timestamp": 1715331363638,
     "user_tz": -180,
     "elapsed": 10,
     "user": {
      "displayName": "Денис Н",
      "userId": "05703602284528533401"
     }
    },
    "outputId": "a4b2eeb3-4aed-43b4-f1e5-ab68e63237e7",
    "ExecuteTime": {
     "end_time": "2024-05-16T22:53:49.849982Z",
     "start_time": "2024-05-16T22:53:49.840371Z"
    }
   },
   "outputs": [
    {
     "data": {
      "text/plain": [
       "19729490.0"
      ]
     },
     "execution_count": 34,
     "metadata": {},
     "output_type": "execute_result"
    }
   ],
   "execution_count": 34
  }
 ]
}
