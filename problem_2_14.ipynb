{
 "nbformat": 4,
 "nbformat_minor": 0,
 "metadata": {
  "kernelspec": {
   "display_name": "Python 3",
   "language": "python",
   "name": "python3"
  },
  "language_info": {
   "codemirror_mode": {
    "name": "ipython",
    "version": 3
   },
   "file_extension": ".py",
   "mimetype": "text/x-python",
   "name": "python",
   "nbconvert_exporter": "python",
   "pygments_lexer": "ipython3",
   "version": "3.8.3"
  },
  "colab": {
   "provenance": []
  }
 },
 "cells": [
  {
   "cell_type": "markdown",
   "source": [
    "# Задание 14. Про маркетинг"
   ],
   "metadata": {
    "id": "8rYpFjDpg4hh"
   }
  },
  {
   "cell_type": "markdown",
   "metadata": {
    "id": "7aWGp1h9Qp6u"
   },
   "source": [
    "Код на чистом Python:\n",
    "\n",
    "```Python\n",
    "with open('file.csv') as f:\n",
    "    content = f.readlines()\n",
    "    content = [x.split(',').replace('\\n','') for x in content]\n",
    "```\n",
    "\n",
    "Код, написанный с помощью pandas:\n",
    "\n",
    "```Python\n",
    "data = pd.read_csv('file.csv')\n",
    "```\n",
    "Pandas добавляет в Python новые структуры данных — серии и датафреймы."
   ]
  },
  {
   "cell_type": "markdown",
   "metadata": {
    "id": "gYGquM0vQp6u"
   },
   "source": [
    "### Структуры данных: серии и датафреймы"
   ]
  },
  {
   "cell_type": "markdown",
   "metadata": {
    "id": "n3oUbk0rQp6v"
   },
   "source": [
    "Серии — одномерные массивы данных. Они очень похожи на списки, но отличаются по поведению — например, операции применяются к списку целиком, а в сериях — поэлементно.\n",
    "\n",
    "То есть, если список умножить на 2, получите тот же список, повторенный 2 раза."
   ]
  },
  {
   "cell_type": "code",
   "metadata": {
    "id": "8fwGItwxQp6v",
    "outputId": "11b09c10-8f16-4e76-b587-3628b404a76f",
    "colab": {
     "base_uri": "https://localhost:8080/"
    },
    "ExecuteTime": {
     "end_time": "2024-05-17T09:51:38.578034Z",
     "start_time": "2024-05-17T09:51:38.569241Z"
    }
   },
   "source": [
    "# чистый Python\n",
    "vector = [1, 2, 3]\n",
    "vector * 2"
   ],
   "outputs": [
    {
     "data": {
      "text/plain": [
       "[1, 2, 3, 1, 2, 3]"
      ]
     },
     "execution_count": 1,
     "metadata": {},
     "output_type": "execute_result"
    }
   ],
   "execution_count": 1
  },
  {
   "cell_type": "markdown",
   "metadata": {
    "id": "bNZ79MP4Qp6y"
   },
   "source": [
    "А если умножить серию, ее длина не изменится, а вот элементы удвоятся."
   ]
  },
  {
   "cell_type": "code",
   "metadata": {
    "id": "88KRw0yGQp6z",
    "colab": {
     "base_uri": "https://localhost:8080/"
    },
    "outputId": "043aef11-84e0-4346-962f-9116279cb84d",
    "ExecuteTime": {
     "end_time": "2024-05-17T09:51:38.590214Z",
     "start_time": "2024-05-17T09:51:38.581777Z"
    }
   },
   "source": [
    "import pandas as pd\n",
    "series = pd.Series([1, 2, 3])\n",
    "series"
   ],
   "outputs": [
    {
     "data": {
      "text/plain": [
       "0    1\n",
       "1    2\n",
       "2    3\n",
       "dtype: int64"
      ]
     },
     "execution_count": 2,
     "metadata": {},
     "output_type": "execute_result"
    }
   ],
   "execution_count": 2
  },
  {
   "cell_type": "code",
   "metadata": {
    "id": "k3_pKy3IQp60",
    "outputId": "e73c0391-1028-4af1-ee42-9d5e635e7204",
    "colab": {
     "base_uri": "https://localhost:8080/"
    },
    "ExecuteTime": {
     "end_time": "2024-05-17T09:51:38.600746Z",
     "start_time": "2024-05-17T09:51:38.592425Z"
    }
   },
   "source": [
    "series * 2"
   ],
   "outputs": [
    {
     "data": {
      "text/plain": [
       "0    2\n",
       "1    4\n",
       "2    6\n",
       "dtype: int64"
      ]
     },
     "execution_count": 3,
     "metadata": {},
     "output_type": "execute_result"
    }
   ],
   "execution_count": 3
  },
  {
   "cell_type": "markdown",
   "metadata": {
    "id": "JsfZN80fQp61"
   },
   "source": [
    "Обратите внимание на первый столбик вывода. Это индекс, в котором хранятся адреса каждого элемента серии. Каждый элемент потом можно получать, обратившись по нужному адресу."
   ]
  },
  {
   "cell_type": "code",
   "metadata": {
    "id": "xviMEmPsQp61",
    "outputId": "3260f47d-c926-4f3f-fe05-012fca4eba78",
    "colab": {
     "base_uri": "https://localhost:8080/"
    },
    "ExecuteTime": {
     "end_time": "2024-05-17T09:51:38.612473Z",
     "start_time": "2024-05-17T09:51:38.602734Z"
    }
   },
   "source": [
    "series = pd.Series(['foo', 'bar'])\n",
    "series"
   ],
   "outputs": [
    {
     "data": {
      "text/plain": [
       "0    foo\n",
       "1    bar\n",
       "dtype: object"
      ]
     },
     "execution_count": 4,
     "metadata": {},
     "output_type": "execute_result"
    }
   ],
   "execution_count": 4
  },
  {
   "cell_type": "code",
   "metadata": {
    "id": "NnQNQnFhQp62",
    "outputId": "c1c3121c-b592-4c18-8954-3cb50cf127d0",
    "colab": {
     "base_uri": "https://localhost:8080/",
     "height": 36
    },
    "ExecuteTime": {
     "end_time": "2024-05-17T09:51:38.621968Z",
     "start_time": "2024-05-17T09:51:38.614310Z"
    }
   },
   "source": [
    "series[0]"
   ],
   "outputs": [
    {
     "data": {
      "text/plain": [
       "'foo'"
      ]
     },
     "execution_count": 5,
     "metadata": {},
     "output_type": "execute_result"
    }
   ],
   "execution_count": 5
  },
  {
   "cell_type": "markdown",
   "metadata": {
    "id": "CyqpaIAVQp62"
   },
   "source": [
    "Еще одно отличие серий от списков — в качестве индексов можно использовать произвольные значения (похоже на словари), это делает данные нагляднее. Представим, что мы анализируем помесячные продажи. Используем в качестве индексов названия месяцев, значениями будет выручка:"
   ]
  },
  {
   "cell_type": "code",
   "metadata": {
    "id": "cNkSXwXwQp63",
    "outputId": "d1b5fee6-1d39-491c-ffdc-ff24d923143c",
    "colab": {
     "base_uri": "https://localhost:8080/"
    },
    "ExecuteTime": {
     "end_time": "2024-05-17T09:51:38.635351Z",
     "start_time": "2024-05-17T09:51:38.624415Z"
    }
   },
   "source": [
    "months = ['jan', 'feb', 'mar', 'apr']\n",
    "sales = [100, 200, 300, 400]\n",
    "\n",
    "data = pd.Series(data=sales, index=months)\n",
    "data"
   ],
   "outputs": [
    {
     "data": {
      "text/plain": [
       "jan    100\n",
       "feb    200\n",
       "mar    300\n",
       "apr    400\n",
       "dtype: int64"
      ]
     },
     "execution_count": 6,
     "metadata": {},
     "output_type": "execute_result"
    }
   ],
   "execution_count": 6
  },
  {
   "cell_type": "markdown",
   "metadata": {
    "id": "RIFjapCpQp63"
   },
   "source": [
    "Теперь можем получать значения каждого месяца:"
   ]
  },
  {
   "cell_type": "code",
   "metadata": {
    "id": "flHNZB9MQp63",
    "outputId": "ee842897-8207-4a1d-e115-5ba2ed77fa53",
    "colab": {
     "base_uri": "https://localhost:8080/"
    },
    "ExecuteTime": {
     "end_time": "2024-05-17T09:51:38.652475Z",
     "start_time": "2024-05-17T09:51:38.644492Z"
    }
   },
   "source": [
    "data['feb']"
   ],
   "outputs": [
    {
     "data": {
      "text/plain": [
       "200"
      ]
     },
     "execution_count": 7,
     "metadata": {},
     "output_type": "execute_result"
    }
   ],
   "execution_count": 7
  },
  {
   "cell_type": "markdown",
   "metadata": {
    "id": "3OhsHmrkQp64"
   },
   "source": [
    "Так как серии — одномерный массив данных, в них удобно хранить измерения по одному. На практике удобнее группировать данные вместе. Например, если мы анализируем помесячные продажи, полезно видеть не только выручку, но и количество проданных товаров, количество новых клиентов и средний чек. Для этого отлично подходят датафреймы.\n",
    "\n",
    "Датафреймы — это таблицы. У них есть строки, колонки и ячейки.\n",
    "\n",
    "Технически, колонки датафреймов — это серии. Поскольку в колонках обычно описывают одни и те же объекты, то все колонки делят один и тот же индекс:"
   ]
  },
  {
   "cell_type": "code",
   "metadata": {
    "id": "3C5VMP58Qp64",
    "outputId": "6a860661-beb2-4d10-cbed-0845209139e6",
    "colab": {
     "base_uri": "https://localhost:8080/",
     "height": 175
    },
    "ExecuteTime": {
     "end_time": "2024-05-17T09:51:38.669597Z",
     "start_time": "2024-05-17T09:51:38.654445Z"
    }
   },
   "source": [
    "months = ['jan', 'feb', 'mar', 'apr']\n",
    "\n",
    "# словарь:\n",
    "sales = {\n",
    "    'revenue':     [100, 200, 300, 400], # выручка\n",
    "    'items_sold':  [23, 43, 55, 65], # количество проданных товаров\n",
    "    'new_clients': [10, 20, 30, 40] # количество новых клиентов\n",
    "}\n",
    "\n",
    "sales_df = pd.DataFrame(data=sales, index=months)\n",
    "sales_df"
   ],
   "outputs": [
    {
     "data": {
      "text/plain": [
       "     revenue  items_sold  new_clients\n",
       "jan      100          23           10\n",
       "feb      200          43           20\n",
       "mar      300          55           30\n",
       "apr      400          65           40"
      ],
      "text/html": [
       "<div>\n",
       "<style scoped>\n",
       "    .dataframe tbody tr th:only-of-type {\n",
       "        vertical-align: middle;\n",
       "    }\n",
       "\n",
       "    .dataframe tbody tr th {\n",
       "        vertical-align: top;\n",
       "    }\n",
       "\n",
       "    .dataframe thead th {\n",
       "        text-align: right;\n",
       "    }\n",
       "</style>\n",
       "<table border=\"1\" class=\"dataframe\">\n",
       "  <thead>\n",
       "    <tr style=\"text-align: right;\">\n",
       "      <th></th>\n",
       "      <th>revenue</th>\n",
       "      <th>items_sold</th>\n",
       "      <th>new_clients</th>\n",
       "    </tr>\n",
       "  </thead>\n",
       "  <tbody>\n",
       "    <tr>\n",
       "      <th>jan</th>\n",
       "      <td>100</td>\n",
       "      <td>23</td>\n",
       "      <td>10</td>\n",
       "    </tr>\n",
       "    <tr>\n",
       "      <th>feb</th>\n",
       "      <td>200</td>\n",
       "      <td>43</td>\n",
       "      <td>20</td>\n",
       "    </tr>\n",
       "    <tr>\n",
       "      <th>mar</th>\n",
       "      <td>300</td>\n",
       "      <td>55</td>\n",
       "      <td>30</td>\n",
       "    </tr>\n",
       "    <tr>\n",
       "      <th>apr</th>\n",
       "      <td>400</td>\n",
       "      <td>65</td>\n",
       "      <td>40</td>\n",
       "    </tr>\n",
       "  </tbody>\n",
       "</table>\n",
       "</div>"
      ]
     },
     "execution_count": 8,
     "metadata": {},
     "output_type": "execute_result"
    }
   ],
   "execution_count": 8
  },
  {
   "cell_type": "markdown",
   "metadata": {
    "id": "yXXikuxrQp65"
   },
   "source": [
    "Бывает, что мы не знаем, что собой представляют данные, и не можем задать структуру заранее. Тогда удобно создать пустой датафрейм и позже наполнить его данными."
   ]
  },
  {
   "cell_type": "code",
   "metadata": {
    "id": "u_wedtNbQp65",
    "ExecuteTime": {
     "end_time": "2024-05-17T09:51:38.680411Z",
     "start_time": "2024-05-17T09:51:38.675394Z"
    }
   },
   "source": [
    "df = pd.DataFrame()"
   ],
   "outputs": [],
   "execution_count": 9
  },
  {
   "cell_type": "markdown",
   "metadata": {
    "id": "9s0UTx7IQp65"
   },
   "source": [
    "А иногда данные уже есть, но хранятся в переменной из стандартного Python, например, в словаре. Чтобы получить датафрейм, эту переменную передаем в ту же команду:"
   ]
  },
  {
   "cell_type": "code",
   "metadata": {
    "id": "-IdWULZ0Qp66",
    "ExecuteTime": {
     "end_time": "2024-05-17T09:51:38.687925Z",
     "start_time": "2024-05-17T09:51:38.683835Z"
    }
   },
   "source": [
    "df = pd.DataFrame(data=sales, index=months)"
   ],
   "outputs": [],
   "execution_count": 10
  },
  {
   "cell_type": "markdown",
   "metadata": {
    "id": "1xJb1qSAQp66"
   },
   "source": [
    "Случается, что в некоторых записях не хватает данных. Например, посмотрите на список `goods_sold` — в нём продажи, разбитые по товарным категориям.\n",
    "\n",
    "За первый месяц мы продали машины, компьютеры и программное обеспечение. Во втором машин нет, зато появились велосипеды, а в третьем снова появились машины, но велосипеды исчезли:"
   ]
  },
  {
   "cell_type": "code",
   "metadata": {
    "id": "OD3CfzBnQp66",
    "ExecuteTime": {
     "end_time": "2024-05-17T09:51:38.695844Z",
     "start_time": "2024-05-17T09:51:38.691377Z"
    }
   },
   "source": [
    "goods_sold = [\n",
    "    {'computers': 10, 'cars': 1, 'soft': 3},\n",
    "    {'computers': 4, 'soft': 5, 'bicycles': 1},\n",
    "    {'computers': 6, 'cars': 2, 'soft': 3}\n",
    "]"
   ],
   "outputs": [],
   "execution_count": 11
  },
  {
   "cell_type": "markdown",
   "metadata": {
    "id": "kd9NfHSvQp67"
   },
   "source": [
    "Если загрузить данные в датафрейм, Pandas создаст колонки для всех товарных категорий и, где это возможно, заполнит их данными:"
   ]
  },
  {
   "cell_type": "code",
   "metadata": {
    "id": "lEHFZZXgQp67",
    "outputId": "f37400c9-8997-48cd-8201-9727a1851452",
    "colab": {
     "base_uri": "https://localhost:8080/",
     "height": 143
    },
    "ExecuteTime": {
     "end_time": "2024-05-17T09:51:38.718280Z",
     "start_time": "2024-05-17T09:51:38.699341Z"
    }
   },
   "source": [
    "pd.DataFrame(goods_sold)"
   ],
   "outputs": [
    {
     "data": {
      "text/plain": [
       "   computers  cars  soft  bicycles\n",
       "0         10   1.0     3       NaN\n",
       "1          4   NaN     5       1.0\n",
       "2          6   2.0     3       NaN"
      ],
      "text/html": [
       "<div>\n",
       "<style scoped>\n",
       "    .dataframe tbody tr th:only-of-type {\n",
       "        vertical-align: middle;\n",
       "    }\n",
       "\n",
       "    .dataframe tbody tr th {\n",
       "        vertical-align: top;\n",
       "    }\n",
       "\n",
       "    .dataframe thead th {\n",
       "        text-align: right;\n",
       "    }\n",
       "</style>\n",
       "<table border=\"1\" class=\"dataframe\">\n",
       "  <thead>\n",
       "    <tr style=\"text-align: right;\">\n",
       "      <th></th>\n",
       "      <th>computers</th>\n",
       "      <th>cars</th>\n",
       "      <th>soft</th>\n",
       "      <th>bicycles</th>\n",
       "    </tr>\n",
       "  </thead>\n",
       "  <tbody>\n",
       "    <tr>\n",
       "      <th>0</th>\n",
       "      <td>10</td>\n",
       "      <td>1.0</td>\n",
       "      <td>3</td>\n",
       "      <td>NaN</td>\n",
       "    </tr>\n",
       "    <tr>\n",
       "      <th>1</th>\n",
       "      <td>4</td>\n",
       "      <td>NaN</td>\n",
       "      <td>5</td>\n",
       "      <td>1.0</td>\n",
       "    </tr>\n",
       "    <tr>\n",
       "      <th>2</th>\n",
       "      <td>6</td>\n",
       "      <td>2.0</td>\n",
       "      <td>3</td>\n",
       "      <td>NaN</td>\n",
       "    </tr>\n",
       "  </tbody>\n",
       "</table>\n",
       "</div>"
      ]
     },
     "execution_count": 12,
     "metadata": {},
     "output_type": "execute_result"
    }
   ],
   "execution_count": 12
  },
  {
   "cell_type": "markdown",
   "metadata": {
    "id": "r1BrH2KSQp67"
   },
   "source": [
    "Обратите внимание, продажи велосипедов в первом и третьем месяце равны `NaN` — расшифровывается как `Not a Number`. Так Pandas помечает отсутствующие значения.\n",
    "\n",
    "Теперь разберем, как загружать данные из файлов. Чаще всего данные хранятся в экселевских таблицах или csv-, tsv- файлах.\n",
    "\n",
    "Экселевские таблицы читаются с помощью команды `pd.read_excel()`. Параметрами нужно передать адрес файла на компьютере и название листа, который нужно прочитать. Команда работает как с xls, так и с xlsx:"
   ]
  },
  {
   "cell_type": "markdown",
   "metadata": {
    "id": "t4g8oJcsQp68"
   },
   "source": [
    "```Python\n",
    "pd.read_excel('file.xlsx', sheet_name='Sheet1')\n",
    "```"
   ]
  },
  {
   "cell_type": "markdown",
   "metadata": {
    "id": "cSwbHN1yQp68"
   },
   "source": [
    "Файлы формата csv и tsv — это текстовые файлы, в которых данные отделены друг от друга запятыми или табуляцией:"
   ]
  },
  {
   "cell_type": "markdown",
   "metadata": {
    "id": "72psJm1qQp68"
   },
   "source": [
    "```\n",
    "# CSV\n",
    "month,customers,sales\n",
    "feb,10,200\n",
    "\n",
    "# TSV\n",
    "month\\tcustomers\\tsales\n",
    "feb\\t10\\t200\n",
    "```"
   ]
  },
  {
   "cell_type": "markdown",
   "metadata": {
    "id": "3gnX6o5HQp68"
   },
   "source": [
    "Оба читаются с помощью команды `.read_csv()`, символ табуляции передается параметром `sep` (от англ. separator — разделитель):\n",
    "\n",
    "```Python\n",
    "pd.read_csv('file.csv')\n",
    "pd.read_csv('file.tsv', sep='\\t')\n",
    "```"
   ]
  },
  {
   "cell_type": "markdown",
   "metadata": {
    "id": "VvzikrP3Qp68"
   },
   "source": [
    "При загрузке можно назначить столбец, который будет индексом. Представьте, что мы загружаем таблицу с заказами. У каждого заказа есть свой уникальный номер, Если назначим этот номер индексом, сможем выгружать данные командой `df[order_id]`. Иначе придется писать фильтр `df[df[\"id\"] == order_id ]`.\n",
    "\n",
    "Чтобы назначить колонку индексом, добавим в команду `read_csv()` параметр `index_col`, равный названию нужной колонки:"
   ]
  },
  {
   "cell_type": "markdown",
   "metadata": {
    "id": "HkwIadV1Qp68"
   },
   "source": [
    "```Python\n",
    "pd.read_csv('file.csv', index_col='id')\n",
    "```"
   ]
  },
  {
   "cell_type": "markdown",
   "metadata": {
    "id": "5WZnDToWQp69"
   },
   "source": [
    "После загрузки данных в датафрейм, хорошо бы их исследовать — особенно, если они вам незнакомы."
   ]
  },
  {
   "cell_type": "markdown",
   "metadata": {
    "id": "ZNXc37hKQp69"
   },
   "source": [
    "### Исследуем загруженные данные"
   ]
  },
  {
   "cell_type": "markdown",
   "metadata": {
    "id": "WdW36UC4Qp69"
   },
   "source": [
    "Представим, что мы анализируем продажи американского интернет-магазина. У нас есть данные о заказах и клиентах. Загрузим файл с продажами интернет-магазина в переменную `orders`. Раз загружаем заказы, укажем, что колонка `id` пойдет в индекс:"
   ]
  },
  {
   "cell_type": "code",
   "metadata": {
    "id": "tVEbnd7gQp69",
    "ExecuteTime": {
     "end_time": "2024-05-17T09:51:39.068998Z",
     "start_time": "2024-05-17T09:51:38.721811Z"
    }
   },
   "source": [
    "url = 'https://raw.githubusercontent.com/dm-fedorov/pandas_basic/master/data/orders.csv'\n",
    "\n",
    "orders = pd.read_csv(url, index_col='id')"
   ],
   "outputs": [],
   "execution_count": 13
  },
  {
   "cell_type": "markdown",
   "metadata": {
    "id": "vovoTxGGQp6-"
   },
   "source": [
    "Расскажу о четырех атрибутах, которые есть у любого датафрейма: `.shape`, `.columns`, `.index` и `.dtypes`.\n",
    "\n",
    "`.shape` показывает, сколько в датафрейме строк и колонок. Он возвращает пару значений `(n_rows, n_columns)`. Сначала идут строки, потом колонки."
   ]
  },
  {
   "cell_type": "code",
   "metadata": {
    "id": "wd-3-vK5Qp6-",
    "colab": {
     "base_uri": "https://localhost:8080/"
    },
    "outputId": "579c0333-94ad-48fe-837c-10e05fbbaf41",
    "ExecuteTime": {
     "end_time": "2024-05-17T09:51:39.076301Z",
     "start_time": "2024-05-17T09:51:39.070903Z"
    }
   },
   "source": [
    "orders.shape"
   ],
   "outputs": [
    {
     "data": {
      "text/plain": [
       "(5009, 4)"
      ]
     },
     "execution_count": 14,
     "metadata": {},
     "output_type": "execute_result"
    }
   ],
   "execution_count": 14
  },
  {
   "cell_type": "markdown",
   "metadata": {
    "id": "77YY1uDVQp6-"
   },
   "source": [
    "В датафрейме 5009 строк и 4 колонки.\n",
    "\n",
    "Окей, масштаб оценили. Теперь посмотрим, какая информация содержится в каждой колонке. С помощью `.columns` узнаем названия колонок:"
   ]
  },
  {
   "cell_type": "code",
   "metadata": {
    "id": "uN3Bu9BWQp6-",
    "colab": {
     "base_uri": "https://localhost:8080/"
    },
    "outputId": "99b3b950-e84c-4cf4-c5fe-acb041a81d85",
    "ExecuteTime": {
     "end_time": "2024-05-17T09:51:39.083712Z",
     "start_time": "2024-05-17T09:51:39.078429Z"
    }
   },
   "source": [
    "orders.columns"
   ],
   "outputs": [
    {
     "data": {
      "text/plain": [
       "Index(['order_date', 'ship_mode', 'customer_id', 'sales'], dtype='object')"
      ]
     },
     "execution_count": 15,
     "metadata": {},
     "output_type": "execute_result"
    }
   ],
   "execution_count": 15
  },
  {
   "cell_type": "markdown",
   "metadata": {
    "id": "G-UM-X-dQp6-"
   },
   "source": [
    "Теперь видим, что в таблице есть дата заказа, метод доставки, номер клиента и выручка.\n",
    "\n",
    "С помощью `.dtypes` узнаем типы данных, находящихся в каждой колонке и поймем, надо ли их обрабатывать. Бывает, что числа загружаются в виде текста. Если мы попробуем сложить две текстовых значения `'1' + '1'`, то получим не число `2`, а строку `'11'`:"
   ]
  },
  {
   "cell_type": "code",
   "metadata": {
    "id": "AkewAMAqQp6-",
    "colab": {
     "base_uri": "https://localhost:8080/"
    },
    "outputId": "d27b0188-0be9-4dc1-d147-3909431c7803",
    "ExecuteTime": {
     "end_time": "2024-05-17T09:51:39.092072Z",
     "start_time": "2024-05-17T09:51:39.086379Z"
    }
   },
   "source": [
    "orders.dtypes"
   ],
   "outputs": [
    {
     "data": {
      "text/plain": [
       "order_date      object\n",
       "ship_mode       object\n",
       "customer_id     object\n",
       "sales          float64\n",
       "dtype: object"
      ]
     },
     "execution_count": 16,
     "metadata": {},
     "output_type": "execute_result"
    }
   ],
   "execution_count": 16
  },
  {
   "cell_type": "markdown",
   "metadata": {
    "id": "Zel5CsWrQp6_"
   },
   "source": [
    "Тип `object` — это текст, `float64` — это дробное число типа `3,14`.\n",
    "\n",
    "C помощью атрибута `.index` посмотрим, как называются строки:"
   ]
  },
  {
   "cell_type": "code",
   "metadata": {
    "id": "OEOdwXKsQp6_",
    "colab": {
     "base_uri": "https://localhost:8080/"
    },
    "outputId": "5b0cf265-a5fb-47c3-fd50-95995284615d",
    "ExecuteTime": {
     "end_time": "2024-05-17T09:51:39.099616Z",
     "start_time": "2024-05-17T09:51:39.094042Z"
    }
   },
   "source": [
    "orders.index"
   ],
   "outputs": [
    {
     "data": {
      "text/plain": [
       "Index([100006, 100090, 100293, 100328, 100363, 100391, 100678, 100706, 100762,\n",
       "       100860,\n",
       "       ...\n",
       "       167570, 167920, 168116, 168613, 168690, 168802, 169320, 169488, 169502,\n",
       "       169551],\n",
       "      dtype='int64', name='id', length=5009)"
      ]
     },
     "execution_count": 17,
     "metadata": {},
     "output_type": "execute_result"
    }
   ],
   "execution_count": 17
  },
  {
   "cell_type": "markdown",
   "metadata": {
    "id": "6cRvkhaKQp6_"
   },
   "source": [
    "Ожидаемо, в индексе датафрейма номера заказов: `100762`, `100860` и так далее.\n",
    "\n",
    "В колонке `sales` хранится стоимость каждого проданного товара. Чтобы узнать разброс значений, среднюю стоимость и медиану, используем метод `.describe()`:"
   ]
  },
  {
   "cell_type": "code",
   "metadata": {
    "id": "PXBhZ8nFQp6_",
    "colab": {
     "base_uri": "https://localhost:8080/",
     "height": 300
    },
    "outputId": "dfe5784a-3926-43e9-f9ab-a9c3f6cdb5dd",
    "ExecuteTime": {
     "end_time": "2024-05-17T09:51:39.113747Z",
     "start_time": "2024-05-17T09:51:39.101764Z"
    }
   },
   "source": [
    "orders.describe()"
   ],
   "outputs": [
    {
     "data": {
      "text/plain": [
       "              sales\n",
       "count   5009.000000\n",
       "mean     458.614666\n",
       "std      954.730953\n",
       "min        0.556000\n",
       "25%       37.630000\n",
       "50%      151.960000\n",
       "75%      512.064000\n",
       "max    23661.228000"
      ],
      "text/html": [
       "<div>\n",
       "<style scoped>\n",
       "    .dataframe tbody tr th:only-of-type {\n",
       "        vertical-align: middle;\n",
       "    }\n",
       "\n",
       "    .dataframe tbody tr th {\n",
       "        vertical-align: top;\n",
       "    }\n",
       "\n",
       "    .dataframe thead th {\n",
       "        text-align: right;\n",
       "    }\n",
       "</style>\n",
       "<table border=\"1\" class=\"dataframe\">\n",
       "  <thead>\n",
       "    <tr style=\"text-align: right;\">\n",
       "      <th></th>\n",
       "      <th>sales</th>\n",
       "    </tr>\n",
       "  </thead>\n",
       "  <tbody>\n",
       "    <tr>\n",
       "      <th>count</th>\n",
       "      <td>5009.000000</td>\n",
       "    </tr>\n",
       "    <tr>\n",
       "      <th>mean</th>\n",
       "      <td>458.614666</td>\n",
       "    </tr>\n",
       "    <tr>\n",
       "      <th>std</th>\n",
       "      <td>954.730953</td>\n",
       "    </tr>\n",
       "    <tr>\n",
       "      <th>min</th>\n",
       "      <td>0.556000</td>\n",
       "    </tr>\n",
       "    <tr>\n",
       "      <th>25%</th>\n",
       "      <td>37.630000</td>\n",
       "    </tr>\n",
       "    <tr>\n",
       "      <th>50%</th>\n",
       "      <td>151.960000</td>\n",
       "    </tr>\n",
       "    <tr>\n",
       "      <th>75%</th>\n",
       "      <td>512.064000</td>\n",
       "    </tr>\n",
       "    <tr>\n",
       "      <th>max</th>\n",
       "      <td>23661.228000</td>\n",
       "    </tr>\n",
       "  </tbody>\n",
       "</table>\n",
       "</div>"
      ]
     },
     "execution_count": 18,
     "metadata": {},
     "output_type": "execute_result"
    }
   ],
   "execution_count": 18
  },
  {
   "cell_type": "markdown",
   "metadata": {
    "id": "b2OLtUQ3Qp6_"
   },
   "source": [
    "Наконец, чтобы посмотреть на несколько примеров записей датафрейма, используем команды `.head()` и `.sample()`. Первая возвращает 5 записей из начала датафрейма. Вторая — 5 случайных записей:"
   ]
  },
  {
   "cell_type": "code",
   "metadata": {
    "id": "C1iSABiPQp6_",
    "colab": {
     "base_uri": "https://localhost:8080/",
     "height": 237
    },
    "outputId": "a06d933d-3f1d-4cea-cd1f-1e38fe64c960",
    "ExecuteTime": {
     "end_time": "2024-05-17T09:51:39.124954Z",
     "start_time": "2024-05-17T09:51:39.115823Z"
    }
   },
   "source": [
    "orders.head()"
   ],
   "outputs": [
    {
     "data": {
      "text/plain": [
       "        order_date ship_mode customer_id    sales\n",
       "id                                               \n",
       "100006  2014-09-07  Standard    DK-13375  377.970\n",
       "100090  2014-07-08  Standard    EB-13705  699.192\n",
       "100293  2014-03-14  Standard    NF-18475   91.056\n",
       "100328  2014-01-28  Standard    JC-15340    3.928\n",
       "100363  2014-04-08  Standard    JM-15655   21.376"
      ],
      "text/html": [
       "<div>\n",
       "<style scoped>\n",
       "    .dataframe tbody tr th:only-of-type {\n",
       "        vertical-align: middle;\n",
       "    }\n",
       "\n",
       "    .dataframe tbody tr th {\n",
       "        vertical-align: top;\n",
       "    }\n",
       "\n",
       "    .dataframe thead th {\n",
       "        text-align: right;\n",
       "    }\n",
       "</style>\n",
       "<table border=\"1\" class=\"dataframe\">\n",
       "  <thead>\n",
       "    <tr style=\"text-align: right;\">\n",
       "      <th></th>\n",
       "      <th>order_date</th>\n",
       "      <th>ship_mode</th>\n",
       "      <th>customer_id</th>\n",
       "      <th>sales</th>\n",
       "    </tr>\n",
       "    <tr>\n",
       "      <th>id</th>\n",
       "      <th></th>\n",
       "      <th></th>\n",
       "      <th></th>\n",
       "      <th></th>\n",
       "    </tr>\n",
       "  </thead>\n",
       "  <tbody>\n",
       "    <tr>\n",
       "      <th>100006</th>\n",
       "      <td>2014-09-07</td>\n",
       "      <td>Standard</td>\n",
       "      <td>DK-13375</td>\n",
       "      <td>377.970</td>\n",
       "    </tr>\n",
       "    <tr>\n",
       "      <th>100090</th>\n",
       "      <td>2014-07-08</td>\n",
       "      <td>Standard</td>\n",
       "      <td>EB-13705</td>\n",
       "      <td>699.192</td>\n",
       "    </tr>\n",
       "    <tr>\n",
       "      <th>100293</th>\n",
       "      <td>2014-03-14</td>\n",
       "      <td>Standard</td>\n",
       "      <td>NF-18475</td>\n",
       "      <td>91.056</td>\n",
       "    </tr>\n",
       "    <tr>\n",
       "      <th>100328</th>\n",
       "      <td>2014-01-28</td>\n",
       "      <td>Standard</td>\n",
       "      <td>JC-15340</td>\n",
       "      <td>3.928</td>\n",
       "    </tr>\n",
       "    <tr>\n",
       "      <th>100363</th>\n",
       "      <td>2014-04-08</td>\n",
       "      <td>Standard</td>\n",
       "      <td>JM-15655</td>\n",
       "      <td>21.376</td>\n",
       "    </tr>\n",
       "  </tbody>\n",
       "</table>\n",
       "</div>"
      ]
     },
     "execution_count": 19,
     "metadata": {},
     "output_type": "execute_result"
    }
   ],
   "execution_count": 19
  },
  {
   "cell_type": "code",
   "metadata": {
    "id": "WT7zyuP2Qp6_",
    "outputId": "acab2e3d-0c24-4724-d35f-c9c95e9194fa",
    "colab": {
     "base_uri": "https://localhost:8080/",
     "height": 237
    },
    "ExecuteTime": {
     "end_time": "2024-05-17T09:51:39.138559Z",
     "start_time": "2024-05-17T09:51:39.127207Z"
    }
   },
   "source": [
    "orders.sample(5)"
   ],
   "outputs": [
    {
     "data": {
      "text/plain": [
       "        order_date ship_mode customer_id    sales\n",
       "id                                               \n",
       "160143  2017-03-31  Standard    HG-14965   29.700\n",
       "160136  2016-11-03  Standard    PJ-18835    9.248\n",
       "129805  2017-12-28  Standard    HM-14860    7.400\n",
       "156335  2015-09-25    Second    PO-19195  183.400\n",
       "112739  2016-09-02    Second    RD-19810  168.168"
      ],
      "text/html": [
       "<div>\n",
       "<style scoped>\n",
       "    .dataframe tbody tr th:only-of-type {\n",
       "        vertical-align: middle;\n",
       "    }\n",
       "\n",
       "    .dataframe tbody tr th {\n",
       "        vertical-align: top;\n",
       "    }\n",
       "\n",
       "    .dataframe thead th {\n",
       "        text-align: right;\n",
       "    }\n",
       "</style>\n",
       "<table border=\"1\" class=\"dataframe\">\n",
       "  <thead>\n",
       "    <tr style=\"text-align: right;\">\n",
       "      <th></th>\n",
       "      <th>order_date</th>\n",
       "      <th>ship_mode</th>\n",
       "      <th>customer_id</th>\n",
       "      <th>sales</th>\n",
       "    </tr>\n",
       "    <tr>\n",
       "      <th>id</th>\n",
       "      <th></th>\n",
       "      <th></th>\n",
       "      <th></th>\n",
       "      <th></th>\n",
       "    </tr>\n",
       "  </thead>\n",
       "  <tbody>\n",
       "    <tr>\n",
       "      <th>160143</th>\n",
       "      <td>2017-03-31</td>\n",
       "      <td>Standard</td>\n",
       "      <td>HG-14965</td>\n",
       "      <td>29.700</td>\n",
       "    </tr>\n",
       "    <tr>\n",
       "      <th>160136</th>\n",
       "      <td>2016-11-03</td>\n",
       "      <td>Standard</td>\n",
       "      <td>PJ-18835</td>\n",
       "      <td>9.248</td>\n",
       "    </tr>\n",
       "    <tr>\n",
       "      <th>129805</th>\n",
       "      <td>2017-12-28</td>\n",
       "      <td>Standard</td>\n",
       "      <td>HM-14860</td>\n",
       "      <td>7.400</td>\n",
       "    </tr>\n",
       "    <tr>\n",
       "      <th>156335</th>\n",
       "      <td>2015-09-25</td>\n",
       "      <td>Second</td>\n",
       "      <td>PO-19195</td>\n",
       "      <td>183.400</td>\n",
       "    </tr>\n",
       "    <tr>\n",
       "      <th>112739</th>\n",
       "      <td>2016-09-02</td>\n",
       "      <td>Second</td>\n",
       "      <td>RD-19810</td>\n",
       "      <td>168.168</td>\n",
       "    </tr>\n",
       "  </tbody>\n",
       "</table>\n",
       "</div>"
      ]
     },
     "execution_count": 20,
     "metadata": {},
     "output_type": "execute_result"
    }
   ],
   "execution_count": 20
  },
  {
   "cell_type": "markdown",
   "metadata": {
    "id": "VhQhfo0XQp7A"
   },
   "source": [
    "Получив первое представление о датафреймах, теперь обсудим, как доставать из него данные."
   ]
  },
  {
   "cell_type": "markdown",
   "metadata": {
    "id": "CaSC6v6KQp7A"
   },
   "source": [
    "### Получаем данные из датафреймов"
   ]
  },
  {
   "cell_type": "markdown",
   "metadata": {
    "id": "WSTMi0m_Qp7A"
   },
   "source": [
    "Данные из датафреймов можно получать по-разному: указав номера колонок и строк, использовав условные операторы или язык запросов."
   ]
  },
  {
   "cell_type": "markdown",
   "metadata": {
    "id": "akZuRC2OQp7A"
   },
   "source": [
    "Продолжаем анализировать продажи интернет-магазина, которые загрузили в предыдущем разделе. Допустим, я хочу вывести столбец `sales`. Для этого название столбца нужно заключить в квадратные скобки и поставить после них названия датафрейма: `orders['sales']`:"
   ]
  },
  {
   "cell_type": "code",
   "metadata": {
    "id": "AT-rGK3OQp7A",
    "outputId": "dba6ab5b-0846-4fcc-eac0-bc564fd60ccf",
    "colab": {
     "base_uri": "https://localhost:8080/"
    },
    "ExecuteTime": {
     "end_time": "2024-05-17T09:51:39.146540Z",
     "start_time": "2024-05-17T09:51:39.140734Z"
    }
   },
   "source": [
    "orders['sales']"
   ],
   "outputs": [
    {
     "data": {
      "text/plain": [
       "id\n",
       "100006     377.970\n",
       "100090     699.192\n",
       "100293      91.056\n",
       "100328       3.928\n",
       "100363      21.376\n",
       "            ...   \n",
       "168802      18.368\n",
       "169320     171.430\n",
       "169488      56.860\n",
       "169502     113.410\n",
       "169551    1344.838\n",
       "Name: sales, Length: 5009, dtype: float64"
      ]
     },
     "execution_count": 21,
     "metadata": {},
     "output_type": "execute_result"
    }
   ],
   "execution_count": 21
  },
  {
   "cell_type": "markdown",
   "metadata": {
    "id": "ydd53X_9Qp7A"
   },
   "source": [
    "Обратите внимание, результат команды — новый датафрейм с таким же индексом.\n",
    "\n",
    "Если нужно вывести несколько столбцов, в квадратные скобки нужно вставить список с их названиями: `orders[['customer_id', 'sales']]`.\n",
    "\n",
    "Будьте внимательны: квадратные скобки стали двойными. Первые — от датафрейма, вторые — от списка:"
   ]
  },
  {
   "cell_type": "code",
   "metadata": {
    "id": "koS6tchRQp7A",
    "outputId": "54ab7310-565d-4c00-f5ad-8ec1e84ca446",
    "colab": {
     "base_uri": "https://localhost:8080/",
     "height": 455
    },
    "ExecuteTime": {
     "end_time": "2024-05-17T09:51:39.164359Z",
     "start_time": "2024-05-17T09:51:39.154120Z"
    }
   },
   "source": [
    "orders[['customer_id', 'sales']]"
   ],
   "outputs": [
    {
     "data": {
      "text/plain": [
       "       customer_id     sales\n",
       "id                          \n",
       "100006    DK-13375   377.970\n",
       "100090    EB-13705   699.192\n",
       "100293    NF-18475    91.056\n",
       "100328    JC-15340     3.928\n",
       "100363    JM-15655    21.376\n",
       "...            ...       ...\n",
       "168802    JO-15145    18.368\n",
       "169320    LH-16900   171.430\n",
       "169488    AA-10375    56.860\n",
       "169502    MG-17650   113.410\n",
       "169551    RL-19615  1344.838\n",
       "\n",
       "[5009 rows x 2 columns]"
      ],
      "text/html": [
       "<div>\n",
       "<style scoped>\n",
       "    .dataframe tbody tr th:only-of-type {\n",
       "        vertical-align: middle;\n",
       "    }\n",
       "\n",
       "    .dataframe tbody tr th {\n",
       "        vertical-align: top;\n",
       "    }\n",
       "\n",
       "    .dataframe thead th {\n",
       "        text-align: right;\n",
       "    }\n",
       "</style>\n",
       "<table border=\"1\" class=\"dataframe\">\n",
       "  <thead>\n",
       "    <tr style=\"text-align: right;\">\n",
       "      <th></th>\n",
       "      <th>customer_id</th>\n",
       "      <th>sales</th>\n",
       "    </tr>\n",
       "    <tr>\n",
       "      <th>id</th>\n",
       "      <th></th>\n",
       "      <th></th>\n",
       "    </tr>\n",
       "  </thead>\n",
       "  <tbody>\n",
       "    <tr>\n",
       "      <th>100006</th>\n",
       "      <td>DK-13375</td>\n",
       "      <td>377.970</td>\n",
       "    </tr>\n",
       "    <tr>\n",
       "      <th>100090</th>\n",
       "      <td>EB-13705</td>\n",
       "      <td>699.192</td>\n",
       "    </tr>\n",
       "    <tr>\n",
       "      <th>100293</th>\n",
       "      <td>NF-18475</td>\n",
       "      <td>91.056</td>\n",
       "    </tr>\n",
       "    <tr>\n",
       "      <th>100328</th>\n",
       "      <td>JC-15340</td>\n",
       "      <td>3.928</td>\n",
       "    </tr>\n",
       "    <tr>\n",
       "      <th>100363</th>\n",
       "      <td>JM-15655</td>\n",
       "      <td>21.376</td>\n",
       "    </tr>\n",
       "    <tr>\n",
       "      <th>...</th>\n",
       "      <td>...</td>\n",
       "      <td>...</td>\n",
       "    </tr>\n",
       "    <tr>\n",
       "      <th>168802</th>\n",
       "      <td>JO-15145</td>\n",
       "      <td>18.368</td>\n",
       "    </tr>\n",
       "    <tr>\n",
       "      <th>169320</th>\n",
       "      <td>LH-16900</td>\n",
       "      <td>171.430</td>\n",
       "    </tr>\n",
       "    <tr>\n",
       "      <th>169488</th>\n",
       "      <td>AA-10375</td>\n",
       "      <td>56.860</td>\n",
       "    </tr>\n",
       "    <tr>\n",
       "      <th>169502</th>\n",
       "      <td>MG-17650</td>\n",
       "      <td>113.410</td>\n",
       "    </tr>\n",
       "    <tr>\n",
       "      <th>169551</th>\n",
       "      <td>RL-19615</td>\n",
       "      <td>1344.838</td>\n",
       "    </tr>\n",
       "  </tbody>\n",
       "</table>\n",
       "<p>5009 rows × 2 columns</p>\n",
       "</div>"
      ]
     },
     "execution_count": 22,
     "metadata": {},
     "output_type": "execute_result"
    }
   ],
   "execution_count": 22
  },
  {
   "cell_type": "markdown",
   "metadata": {
    "id": "OF5AUsvtQp7B"
   },
   "source": [
    "Перейдем к строкам. Их можно фильтровать по индексу и по порядку. Например, мы хотим вывести только заказы `100363`, `100391` и `100706`, для этого есть команда `.loc[]`:"
   ]
  },
  {
   "cell_type": "code",
   "metadata": {
    "id": "vjnkHhPgQp7B",
    "ExecuteTime": {
     "end_time": "2024-05-17T09:51:39.170135Z",
     "start_time": "2024-05-17T09:51:39.166331Z"
    }
   },
   "source": [
    "show_these_orders = [100363, 100363, 100706]"
   ],
   "outputs": [],
   "execution_count": 23
  },
  {
   "cell_type": "code",
   "metadata": {
    "id": "Lrg5oCFDQp7C",
    "outputId": "cbfe8d7d-06ac-4e58-998a-bc8e96460065",
    "colab": {
     "base_uri": "https://localhost:8080/",
     "height": 175
    },
    "ExecuteTime": {
     "end_time": "2024-05-17T09:51:39.186119Z",
     "start_time": "2024-05-17T09:51:39.172842Z"
    }
   },
   "source": [
    "orders.loc[show_these_orders]"
   ],
   "outputs": [
    {
     "data": {
      "text/plain": [
       "        order_date ship_mode customer_id    sales\n",
       "id                                               \n",
       "100363  2014-04-08  Standard    JM-15655   21.376\n",
       "100363  2014-04-08  Standard    JM-15655   21.376\n",
       "100706  2014-12-16    Second    LE-16810  129.440"
      ],
      "text/html": [
       "<div>\n",
       "<style scoped>\n",
       "    .dataframe tbody tr th:only-of-type {\n",
       "        vertical-align: middle;\n",
       "    }\n",
       "\n",
       "    .dataframe tbody tr th {\n",
       "        vertical-align: top;\n",
       "    }\n",
       "\n",
       "    .dataframe thead th {\n",
       "        text-align: right;\n",
       "    }\n",
       "</style>\n",
       "<table border=\"1\" class=\"dataframe\">\n",
       "  <thead>\n",
       "    <tr style=\"text-align: right;\">\n",
       "      <th></th>\n",
       "      <th>order_date</th>\n",
       "      <th>ship_mode</th>\n",
       "      <th>customer_id</th>\n",
       "      <th>sales</th>\n",
       "    </tr>\n",
       "    <tr>\n",
       "      <th>id</th>\n",
       "      <th></th>\n",
       "      <th></th>\n",
       "      <th></th>\n",
       "      <th></th>\n",
       "    </tr>\n",
       "  </thead>\n",
       "  <tbody>\n",
       "    <tr>\n",
       "      <th>100363</th>\n",
       "      <td>2014-04-08</td>\n",
       "      <td>Standard</td>\n",
       "      <td>JM-15655</td>\n",
       "      <td>21.376</td>\n",
       "    </tr>\n",
       "    <tr>\n",
       "      <th>100363</th>\n",
       "      <td>2014-04-08</td>\n",
       "      <td>Standard</td>\n",
       "      <td>JM-15655</td>\n",
       "      <td>21.376</td>\n",
       "    </tr>\n",
       "    <tr>\n",
       "      <th>100706</th>\n",
       "      <td>2014-12-16</td>\n",
       "      <td>Second</td>\n",
       "      <td>LE-16810</td>\n",
       "      <td>129.440</td>\n",
       "    </tr>\n",
       "  </tbody>\n",
       "</table>\n",
       "</div>"
      ]
     },
     "execution_count": 24,
     "metadata": {},
     "output_type": "execute_result"
    }
   ],
   "execution_count": 24
  },
  {
   "cell_type": "markdown",
   "metadata": {
    "id": "n5FB5jdFQp7C"
   },
   "source": [
    "А в другой раз бывает нужно достать просто заказы с `1` по `3` по порядку, вне зависимости от их номеров в таблицемы. Тогда используют команду `.iloc[]`:"
   ]
  },
  {
   "cell_type": "code",
   "metadata": {
    "id": "o7r36ZDfQp7C",
    "outputId": "d3f2a3be-e7de-46d0-9d61-d59f6a7af37a",
    "colab": {
     "base_uri": "https://localhost:8080/",
     "height": 175
    },
    "ExecuteTime": {
     "end_time": "2024-05-17T09:51:39.200321Z",
     "start_time": "2024-05-17T09:51:39.188502Z"
    }
   },
   "source": [
    "show_these_orders = [1, 2, 3]\n",
    "orders.iloc[show_these_orders]"
   ],
   "outputs": [
    {
     "data": {
      "text/plain": [
       "        order_date ship_mode customer_id    sales\n",
       "id                                               \n",
       "100090  2014-07-08  Standard    EB-13705  699.192\n",
       "100293  2014-03-14  Standard    NF-18475   91.056\n",
       "100328  2014-01-28  Standard    JC-15340    3.928"
      ],
      "text/html": [
       "<div>\n",
       "<style scoped>\n",
       "    .dataframe tbody tr th:only-of-type {\n",
       "        vertical-align: middle;\n",
       "    }\n",
       "\n",
       "    .dataframe tbody tr th {\n",
       "        vertical-align: top;\n",
       "    }\n",
       "\n",
       "    .dataframe thead th {\n",
       "        text-align: right;\n",
       "    }\n",
       "</style>\n",
       "<table border=\"1\" class=\"dataframe\">\n",
       "  <thead>\n",
       "    <tr style=\"text-align: right;\">\n",
       "      <th></th>\n",
       "      <th>order_date</th>\n",
       "      <th>ship_mode</th>\n",
       "      <th>customer_id</th>\n",
       "      <th>sales</th>\n",
       "    </tr>\n",
       "    <tr>\n",
       "      <th>id</th>\n",
       "      <th></th>\n",
       "      <th></th>\n",
       "      <th></th>\n",
       "      <th></th>\n",
       "    </tr>\n",
       "  </thead>\n",
       "  <tbody>\n",
       "    <tr>\n",
       "      <th>100090</th>\n",
       "      <td>2014-07-08</td>\n",
       "      <td>Standard</td>\n",
       "      <td>EB-13705</td>\n",
       "      <td>699.192</td>\n",
       "    </tr>\n",
       "    <tr>\n",
       "      <th>100293</th>\n",
       "      <td>2014-03-14</td>\n",
       "      <td>Standard</td>\n",
       "      <td>NF-18475</td>\n",
       "      <td>91.056</td>\n",
       "    </tr>\n",
       "    <tr>\n",
       "      <th>100328</th>\n",
       "      <td>2014-01-28</td>\n",
       "      <td>Standard</td>\n",
       "      <td>JC-15340</td>\n",
       "      <td>3.928</td>\n",
       "    </tr>\n",
       "  </tbody>\n",
       "</table>\n",
       "</div>"
      ]
     },
     "execution_count": 25,
     "metadata": {},
     "output_type": "execute_result"
    }
   ],
   "execution_count": 25
  },
  {
   "cell_type": "markdown",
   "metadata": {
    "id": "sl7dgAnJQp7C"
   },
   "source": [
    "Можно фильтровать датафреймы по колонкам и столбцам одновременно:"
   ]
  },
  {
   "cell_type": "code",
   "metadata": {
    "id": "AKtP4XGmQp7C",
    "outputId": "8ba93cb8-7898-4712-f7e1-21e1caf666a5",
    "colab": {
     "base_uri": "https://localhost:8080/",
     "height": 175
    },
    "ExecuteTime": {
     "end_time": "2024-05-17T09:51:39.211852Z",
     "start_time": "2024-05-17T09:51:39.202241Z"
    }
   },
   "source": [
    "columns = ['customer_id', 'sales']\n",
    "rows = [100363, 100363, 100706]\n",
    "orders.loc[rows][columns]"
   ],
   "outputs": [
    {
     "data": {
      "text/plain": [
       "       customer_id    sales\n",
       "id                         \n",
       "100363    JM-15655   21.376\n",
       "100363    JM-15655   21.376\n",
       "100706    LE-16810  129.440"
      ],
      "text/html": [
       "<div>\n",
       "<style scoped>\n",
       "    .dataframe tbody tr th:only-of-type {\n",
       "        vertical-align: middle;\n",
       "    }\n",
       "\n",
       "    .dataframe tbody tr th {\n",
       "        vertical-align: top;\n",
       "    }\n",
       "\n",
       "    .dataframe thead th {\n",
       "        text-align: right;\n",
       "    }\n",
       "</style>\n",
       "<table border=\"1\" class=\"dataframe\">\n",
       "  <thead>\n",
       "    <tr style=\"text-align: right;\">\n",
       "      <th></th>\n",
       "      <th>customer_id</th>\n",
       "      <th>sales</th>\n",
       "    </tr>\n",
       "    <tr>\n",
       "      <th>id</th>\n",
       "      <th></th>\n",
       "      <th></th>\n",
       "    </tr>\n",
       "  </thead>\n",
       "  <tbody>\n",
       "    <tr>\n",
       "      <th>100363</th>\n",
       "      <td>JM-15655</td>\n",
       "      <td>21.376</td>\n",
       "    </tr>\n",
       "    <tr>\n",
       "      <th>100363</th>\n",
       "      <td>JM-15655</td>\n",
       "      <td>21.376</td>\n",
       "    </tr>\n",
       "    <tr>\n",
       "      <th>100706</th>\n",
       "      <td>LE-16810</td>\n",
       "      <td>129.440</td>\n",
       "    </tr>\n",
       "  </tbody>\n",
       "</table>\n",
       "</div>"
      ]
     },
     "execution_count": 26,
     "metadata": {},
     "output_type": "execute_result"
    }
   ],
   "execution_count": 26
  },
  {
   "cell_type": "markdown",
   "metadata": {
    "id": "PXZ2eLOhQp7D"
   },
   "source": [
    "Часто вы не знаете заранее номеров заказов, которые вам нужны. Например, если задача — получить заказы, стоимостью более `1000` рублей. Эту задачу удобно решать с помощью условных операторов."
   ]
  },
  {
   "cell_type": "markdown",
   "metadata": {
    "id": "NSFWFqy0Qp7D"
   },
   "source": [
    "### Задача\n",
    "\n",
    "Необходимо узнать, откуда приходят самые большие заказы. Начнем с того, что достанем все покупки стоимостью более 1000 долларов:"
   ]
  },
  {
   "cell_type": "code",
   "metadata": {
    "id": "3lXkJ_1yQp7D",
    "ExecuteTime": {
     "end_time": "2024-05-17T09:51:39.218542Z",
     "start_time": "2024-05-17T09:51:39.214473Z"
    }
   },
   "source": [
    "filter_large = orders['sales'] > 1000"
   ],
   "outputs": [],
   "execution_count": 27
  },
  {
   "cell_type": "code",
   "metadata": {
    "id": "zoZHEN2dQp7D",
    "outputId": "6be311c8-245e-4ab6-8729-07098702e807",
    "colab": {
     "base_uri": "https://localhost:8080/",
     "height": 455
    },
    "ExecuteTime": {
     "end_time": "2024-05-17T09:51:39.239684Z",
     "start_time": "2024-05-17T09:51:39.221255Z"
    }
   },
   "source": [
    "orders.loc[filter_large]"
   ],
   "outputs": [
    {
     "data": {
      "text/plain": [
       "        order_date ship_mode customer_id     sales\n",
       "id                                                \n",
       "101931  2014-10-28     First    TS-21370  1252.602\n",
       "102673  2014-11-01  Standard    KH-16630  1044.440\n",
       "102988  2014-04-05    Second    GM-14695  4251.920\n",
       "103100  2014-12-20     First    AB-10105  1107.660\n",
       "103310  2014-05-10  Standard    GM-14680  1769.784\n",
       "...            ...       ...         ...       ...\n",
       "167318  2017-07-26  Standard    GZ-14545  2012.302\n",
       "167402  2017-01-13    Second    CP-12085  4619.330\n",
       "167920  2017-12-09    Second    JL-15835  1827.510\n",
       "168116  2017-11-04  Same Day    GT-14635  8167.420\n",
       "169551  2017-07-07     First    RL-19615  1344.838\n",
       "\n",
       "[620 rows x 4 columns]"
      ],
      "text/html": [
       "<div>\n",
       "<style scoped>\n",
       "    .dataframe tbody tr th:only-of-type {\n",
       "        vertical-align: middle;\n",
       "    }\n",
       "\n",
       "    .dataframe tbody tr th {\n",
       "        vertical-align: top;\n",
       "    }\n",
       "\n",
       "    .dataframe thead th {\n",
       "        text-align: right;\n",
       "    }\n",
       "</style>\n",
       "<table border=\"1\" class=\"dataframe\">\n",
       "  <thead>\n",
       "    <tr style=\"text-align: right;\">\n",
       "      <th></th>\n",
       "      <th>order_date</th>\n",
       "      <th>ship_mode</th>\n",
       "      <th>customer_id</th>\n",
       "      <th>sales</th>\n",
       "    </tr>\n",
       "    <tr>\n",
       "      <th>id</th>\n",
       "      <th></th>\n",
       "      <th></th>\n",
       "      <th></th>\n",
       "      <th></th>\n",
       "    </tr>\n",
       "  </thead>\n",
       "  <tbody>\n",
       "    <tr>\n",
       "      <th>101931</th>\n",
       "      <td>2014-10-28</td>\n",
       "      <td>First</td>\n",
       "      <td>TS-21370</td>\n",
       "      <td>1252.602</td>\n",
       "    </tr>\n",
       "    <tr>\n",
       "      <th>102673</th>\n",
       "      <td>2014-11-01</td>\n",
       "      <td>Standard</td>\n",
       "      <td>KH-16630</td>\n",
       "      <td>1044.440</td>\n",
       "    </tr>\n",
       "    <tr>\n",
       "      <th>102988</th>\n",
       "      <td>2014-04-05</td>\n",
       "      <td>Second</td>\n",
       "      <td>GM-14695</td>\n",
       "      <td>4251.920</td>\n",
       "    </tr>\n",
       "    <tr>\n",
       "      <th>103100</th>\n",
       "      <td>2014-12-20</td>\n",
       "      <td>First</td>\n",
       "      <td>AB-10105</td>\n",
       "      <td>1107.660</td>\n",
       "    </tr>\n",
       "    <tr>\n",
       "      <th>103310</th>\n",
       "      <td>2014-05-10</td>\n",
       "      <td>Standard</td>\n",
       "      <td>GM-14680</td>\n",
       "      <td>1769.784</td>\n",
       "    </tr>\n",
       "    <tr>\n",
       "      <th>...</th>\n",
       "      <td>...</td>\n",
       "      <td>...</td>\n",
       "      <td>...</td>\n",
       "      <td>...</td>\n",
       "    </tr>\n",
       "    <tr>\n",
       "      <th>167318</th>\n",
       "      <td>2017-07-26</td>\n",
       "      <td>Standard</td>\n",
       "      <td>GZ-14545</td>\n",
       "      <td>2012.302</td>\n",
       "    </tr>\n",
       "    <tr>\n",
       "      <th>167402</th>\n",
       "      <td>2017-01-13</td>\n",
       "      <td>Second</td>\n",
       "      <td>CP-12085</td>\n",
       "      <td>4619.330</td>\n",
       "    </tr>\n",
       "    <tr>\n",
       "      <th>167920</th>\n",
       "      <td>2017-12-09</td>\n",
       "      <td>Second</td>\n",
       "      <td>JL-15835</td>\n",
       "      <td>1827.510</td>\n",
       "    </tr>\n",
       "    <tr>\n",
       "      <th>168116</th>\n",
       "      <td>2017-11-04</td>\n",
       "      <td>Same Day</td>\n",
       "      <td>GT-14635</td>\n",
       "      <td>8167.420</td>\n",
       "    </tr>\n",
       "    <tr>\n",
       "      <th>169551</th>\n",
       "      <td>2017-07-07</td>\n",
       "      <td>First</td>\n",
       "      <td>RL-19615</td>\n",
       "      <td>1344.838</td>\n",
       "    </tr>\n",
       "  </tbody>\n",
       "</table>\n",
       "<p>620 rows × 4 columns</p>\n",
       "</div>"
      ]
     },
     "execution_count": 28,
     "metadata": {},
     "output_type": "execute_result"
    }
   ],
   "execution_count": 28
  },
  {
   "cell_type": "markdown",
   "metadata": {
    "id": "pYpvgSMjQp7D"
   },
   "source": [
    "Операция `orders['sales'] > 1000` идет по каждому элементу серии и, если условие выполняется, возвращает `True`. Если не выполняется — `False`. Получившуюся серию мы сохраняем в переменную `filter_large`.\n",
    "\n",
    "Вторая команда фильтрует строки датафрейма с помощью серии. Если элемент `filter_large` равен `True`, заказ отобразится, если `False` — нет. Результат — датафрейм с заказами, стоимостью более `1000` долларов."
   ]
  },
  {
   "cell_type": "code",
   "metadata": {
    "id": "OGalUtwZQp7E",
    "outputId": "37fc3c15-7bc6-4e3c-d5b0-62687b8e4e68",
    "colab": {
     "base_uri": "https://localhost:8080/",
     "height": 455
    },
    "ExecuteTime": {
     "end_time": "2024-05-17T09:51:39.255325Z",
     "start_time": "2024-05-17T09:51:39.241247Z"
    }
   },
   "source": [
    "# можно без .loc и в одной строчке:\n",
    "orders[orders['sales'] > 1000]"
   ],
   "outputs": [
    {
     "data": {
      "text/plain": [
       "        order_date ship_mode customer_id     sales\n",
       "id                                                \n",
       "101931  2014-10-28     First    TS-21370  1252.602\n",
       "102673  2014-11-01  Standard    KH-16630  1044.440\n",
       "102988  2014-04-05    Second    GM-14695  4251.920\n",
       "103100  2014-12-20     First    AB-10105  1107.660\n",
       "103310  2014-05-10  Standard    GM-14680  1769.784\n",
       "...            ...       ...         ...       ...\n",
       "167318  2017-07-26  Standard    GZ-14545  2012.302\n",
       "167402  2017-01-13    Second    CP-12085  4619.330\n",
       "167920  2017-12-09    Second    JL-15835  1827.510\n",
       "168116  2017-11-04  Same Day    GT-14635  8167.420\n",
       "169551  2017-07-07     First    RL-19615  1344.838\n",
       "\n",
       "[620 rows x 4 columns]"
      ],
      "text/html": [
       "<div>\n",
       "<style scoped>\n",
       "    .dataframe tbody tr th:only-of-type {\n",
       "        vertical-align: middle;\n",
       "    }\n",
       "\n",
       "    .dataframe tbody tr th {\n",
       "        vertical-align: top;\n",
       "    }\n",
       "\n",
       "    .dataframe thead th {\n",
       "        text-align: right;\n",
       "    }\n",
       "</style>\n",
       "<table border=\"1\" class=\"dataframe\">\n",
       "  <thead>\n",
       "    <tr style=\"text-align: right;\">\n",
       "      <th></th>\n",
       "      <th>order_date</th>\n",
       "      <th>ship_mode</th>\n",
       "      <th>customer_id</th>\n",
       "      <th>sales</th>\n",
       "    </tr>\n",
       "    <tr>\n",
       "      <th>id</th>\n",
       "      <th></th>\n",
       "      <th></th>\n",
       "      <th></th>\n",
       "      <th></th>\n",
       "    </tr>\n",
       "  </thead>\n",
       "  <tbody>\n",
       "    <tr>\n",
       "      <th>101931</th>\n",
       "      <td>2014-10-28</td>\n",
       "      <td>First</td>\n",
       "      <td>TS-21370</td>\n",
       "      <td>1252.602</td>\n",
       "    </tr>\n",
       "    <tr>\n",
       "      <th>102673</th>\n",
       "      <td>2014-11-01</td>\n",
       "      <td>Standard</td>\n",
       "      <td>KH-16630</td>\n",
       "      <td>1044.440</td>\n",
       "    </tr>\n",
       "    <tr>\n",
       "      <th>102988</th>\n",
       "      <td>2014-04-05</td>\n",
       "      <td>Second</td>\n",
       "      <td>GM-14695</td>\n",
       "      <td>4251.920</td>\n",
       "    </tr>\n",
       "    <tr>\n",
       "      <th>103100</th>\n",
       "      <td>2014-12-20</td>\n",
       "      <td>First</td>\n",
       "      <td>AB-10105</td>\n",
       "      <td>1107.660</td>\n",
       "    </tr>\n",
       "    <tr>\n",
       "      <th>103310</th>\n",
       "      <td>2014-05-10</td>\n",
       "      <td>Standard</td>\n",
       "      <td>GM-14680</td>\n",
       "      <td>1769.784</td>\n",
       "    </tr>\n",
       "    <tr>\n",
       "      <th>...</th>\n",
       "      <td>...</td>\n",
       "      <td>...</td>\n",
       "      <td>...</td>\n",
       "      <td>...</td>\n",
       "    </tr>\n",
       "    <tr>\n",
       "      <th>167318</th>\n",
       "      <td>2017-07-26</td>\n",
       "      <td>Standard</td>\n",
       "      <td>GZ-14545</td>\n",
       "      <td>2012.302</td>\n",
       "    </tr>\n",
       "    <tr>\n",
       "      <th>167402</th>\n",
       "      <td>2017-01-13</td>\n",
       "      <td>Second</td>\n",
       "      <td>CP-12085</td>\n",
       "      <td>4619.330</td>\n",
       "    </tr>\n",
       "    <tr>\n",
       "      <th>167920</th>\n",
       "      <td>2017-12-09</td>\n",
       "      <td>Second</td>\n",
       "      <td>JL-15835</td>\n",
       "      <td>1827.510</td>\n",
       "    </tr>\n",
       "    <tr>\n",
       "      <th>168116</th>\n",
       "      <td>2017-11-04</td>\n",
       "      <td>Same Day</td>\n",
       "      <td>GT-14635</td>\n",
       "      <td>8167.420</td>\n",
       "    </tr>\n",
       "    <tr>\n",
       "      <th>169551</th>\n",
       "      <td>2017-07-07</td>\n",
       "      <td>First</td>\n",
       "      <td>RL-19615</td>\n",
       "      <td>1344.838</td>\n",
       "    </tr>\n",
       "  </tbody>\n",
       "</table>\n",
       "<p>620 rows × 4 columns</p>\n",
       "</div>"
      ]
     },
     "execution_count": 29,
     "metadata": {},
     "output_type": "execute_result"
    }
   ],
   "execution_count": 29
  },
  {
   "cell_type": "markdown",
   "metadata": {
    "id": "_sVJa4ckQp7E"
   },
   "source": [
    "Интересно, сколько дорогих заказов было доставлено первым классом? Добавим в фильтр ещё одно условие:"
   ]
  },
  {
   "cell_type": "code",
   "metadata": {
    "id": "5k8itUx-Qp7E",
    "outputId": "a92caf95-2ab8-4372-c2ff-fccc44cd6f26",
    "colab": {
     "base_uri": "https://localhost:8080/",
     "height": 455
    },
    "ExecuteTime": {
     "end_time": "2024-05-17T09:51:39.274853Z",
     "start_time": "2024-05-17T09:51:39.257201Z"
    }
   },
   "source": [
    "filter_large = orders['sales'] > 1000\n",
    "filter_first_class = (orders['ship_mode'] == 'First')\n",
    "\n",
    "orders[filter_large & filter_first_class]"
   ],
   "outputs": [
    {
     "data": {
      "text/plain": [
       "        order_date ship_mode customer_id     sales\n",
       "id                                                \n",
       "101931  2014-10-28     First    TS-21370  1252.602\n",
       "103100  2014-12-20     First    AB-10105  1107.660\n",
       "106726  2014-12-06     First    RS-19765  1261.330\n",
       "112158  2014-12-02     First    DP-13165  1050.600\n",
       "116666  2014-05-08     First    KT-16480  1799.970\n",
       "...            ...       ...         ...       ...\n",
       "147886  2017-03-28     First    DH-13075  1435.960\n",
       "155425  2017-11-10     First    AB-10600  1475.054\n",
       "162558  2017-10-02     First    Dp-13240  2437.672\n",
       "165456  2017-11-30     First    TB-21625  1079.316\n",
       "169551  2017-07-07     First    RL-19615  1344.838\n",
       "\n",
       "[96 rows x 4 columns]"
      ],
      "text/html": [
       "<div>\n",
       "<style scoped>\n",
       "    .dataframe tbody tr th:only-of-type {\n",
       "        vertical-align: middle;\n",
       "    }\n",
       "\n",
       "    .dataframe tbody tr th {\n",
       "        vertical-align: top;\n",
       "    }\n",
       "\n",
       "    .dataframe thead th {\n",
       "        text-align: right;\n",
       "    }\n",
       "</style>\n",
       "<table border=\"1\" class=\"dataframe\">\n",
       "  <thead>\n",
       "    <tr style=\"text-align: right;\">\n",
       "      <th></th>\n",
       "      <th>order_date</th>\n",
       "      <th>ship_mode</th>\n",
       "      <th>customer_id</th>\n",
       "      <th>sales</th>\n",
       "    </tr>\n",
       "    <tr>\n",
       "      <th>id</th>\n",
       "      <th></th>\n",
       "      <th></th>\n",
       "      <th></th>\n",
       "      <th></th>\n",
       "    </tr>\n",
       "  </thead>\n",
       "  <tbody>\n",
       "    <tr>\n",
       "      <th>101931</th>\n",
       "      <td>2014-10-28</td>\n",
       "      <td>First</td>\n",
       "      <td>TS-21370</td>\n",
       "      <td>1252.602</td>\n",
       "    </tr>\n",
       "    <tr>\n",
       "      <th>103100</th>\n",
       "      <td>2014-12-20</td>\n",
       "      <td>First</td>\n",
       "      <td>AB-10105</td>\n",
       "      <td>1107.660</td>\n",
       "    </tr>\n",
       "    <tr>\n",
       "      <th>106726</th>\n",
       "      <td>2014-12-06</td>\n",
       "      <td>First</td>\n",
       "      <td>RS-19765</td>\n",
       "      <td>1261.330</td>\n",
       "    </tr>\n",
       "    <tr>\n",
       "      <th>112158</th>\n",
       "      <td>2014-12-02</td>\n",
       "      <td>First</td>\n",
       "      <td>DP-13165</td>\n",
       "      <td>1050.600</td>\n",
       "    </tr>\n",
       "    <tr>\n",
       "      <th>116666</th>\n",
       "      <td>2014-05-08</td>\n",
       "      <td>First</td>\n",
       "      <td>KT-16480</td>\n",
       "      <td>1799.970</td>\n",
       "    </tr>\n",
       "    <tr>\n",
       "      <th>...</th>\n",
       "      <td>...</td>\n",
       "      <td>...</td>\n",
       "      <td>...</td>\n",
       "      <td>...</td>\n",
       "    </tr>\n",
       "    <tr>\n",
       "      <th>147886</th>\n",
       "      <td>2017-03-28</td>\n",
       "      <td>First</td>\n",
       "      <td>DH-13075</td>\n",
       "      <td>1435.960</td>\n",
       "    </tr>\n",
       "    <tr>\n",
       "      <th>155425</th>\n",
       "      <td>2017-11-10</td>\n",
       "      <td>First</td>\n",
       "      <td>AB-10600</td>\n",
       "      <td>1475.054</td>\n",
       "    </tr>\n",
       "    <tr>\n",
       "      <th>162558</th>\n",
       "      <td>2017-10-02</td>\n",
       "      <td>First</td>\n",
       "      <td>Dp-13240</td>\n",
       "      <td>2437.672</td>\n",
       "    </tr>\n",
       "    <tr>\n",
       "      <th>165456</th>\n",
       "      <td>2017-11-30</td>\n",
       "      <td>First</td>\n",
       "      <td>TB-21625</td>\n",
       "      <td>1079.316</td>\n",
       "    </tr>\n",
       "    <tr>\n",
       "      <th>169551</th>\n",
       "      <td>2017-07-07</td>\n",
       "      <td>First</td>\n",
       "      <td>RL-19615</td>\n",
       "      <td>1344.838</td>\n",
       "    </tr>\n",
       "  </tbody>\n",
       "</table>\n",
       "<p>96 rows × 4 columns</p>\n",
       "</div>"
      ]
     },
     "execution_count": 30,
     "metadata": {},
     "output_type": "execute_result"
    }
   ],
   "execution_count": 30
  },
  {
   "cell_type": "markdown",
   "metadata": {
    "id": "zyiAiWVfQp7E"
   },
   "source": [
    "Логика не изменилась. В переменную `filter_large` сохранили серию, удовлетворяющую условию `orders['sales'] > 1000`. В `filter_first_class` — серию, удовлетворяющую `orders['ship_mode'] == 'First'`.\n",
    "\n",
    "Затем объединили обе серии с помощью логического `И`: `filter_first_class & filter_first_class`. Получили новую серию той же длины, в элементах которой `True` только у заказов, стоимостью больше `1000`, доставленных первым классом. Таких условий может быть сколько угодно."
   ]
  },
  {
   "cell_type": "markdown",
   "metadata": {
    "id": "K15znAcOQp7F"
   },
   "source": [
    "Еще один способ решить предыдущую задачу — использовать язык запросов.\n",
    "\n",
    "Все условия пишем одной строкой `'sales > 1000 & ship_mode == 'First'` и передаем ее в метод `.query()`. Запрос получается компактнее."
   ]
  },
  {
   "cell_type": "code",
   "metadata": {
    "id": "_wj3hcoVQp7G",
    "outputId": "11a1a9e2-820e-489c-cb34-f758fb4d05fc",
    "colab": {
     "base_uri": "https://localhost:8080/",
     "height": 455
    },
    "ExecuteTime": {
     "end_time": "2024-05-17T09:51:39.296053Z",
     "start_time": "2024-05-17T09:51:39.277892Z"
    }
   },
   "source": [
    "orders.query(\"sales > 1000 and ship_mode=='First'\")"
   ],
   "outputs": [
    {
     "data": {
      "text/plain": [
       "        order_date ship_mode customer_id     sales\n",
       "id                                                \n",
       "101931  2014-10-28     First    TS-21370  1252.602\n",
       "103100  2014-12-20     First    AB-10105  1107.660\n",
       "106726  2014-12-06     First    RS-19765  1261.330\n",
       "112158  2014-12-02     First    DP-13165  1050.600\n",
       "116666  2014-05-08     First    KT-16480  1799.970\n",
       "...            ...       ...         ...       ...\n",
       "147886  2017-03-28     First    DH-13075  1435.960\n",
       "155425  2017-11-10     First    AB-10600  1475.054\n",
       "162558  2017-10-02     First    Dp-13240  2437.672\n",
       "165456  2017-11-30     First    TB-21625  1079.316\n",
       "169551  2017-07-07     First    RL-19615  1344.838\n",
       "\n",
       "[96 rows x 4 columns]"
      ],
      "text/html": [
       "<div>\n",
       "<style scoped>\n",
       "    .dataframe tbody tr th:only-of-type {\n",
       "        vertical-align: middle;\n",
       "    }\n",
       "\n",
       "    .dataframe tbody tr th {\n",
       "        vertical-align: top;\n",
       "    }\n",
       "\n",
       "    .dataframe thead th {\n",
       "        text-align: right;\n",
       "    }\n",
       "</style>\n",
       "<table border=\"1\" class=\"dataframe\">\n",
       "  <thead>\n",
       "    <tr style=\"text-align: right;\">\n",
       "      <th></th>\n",
       "      <th>order_date</th>\n",
       "      <th>ship_mode</th>\n",
       "      <th>customer_id</th>\n",
       "      <th>sales</th>\n",
       "    </tr>\n",
       "    <tr>\n",
       "      <th>id</th>\n",
       "      <th></th>\n",
       "      <th></th>\n",
       "      <th></th>\n",
       "      <th></th>\n",
       "    </tr>\n",
       "  </thead>\n",
       "  <tbody>\n",
       "    <tr>\n",
       "      <th>101931</th>\n",
       "      <td>2014-10-28</td>\n",
       "      <td>First</td>\n",
       "      <td>TS-21370</td>\n",
       "      <td>1252.602</td>\n",
       "    </tr>\n",
       "    <tr>\n",
       "      <th>103100</th>\n",
       "      <td>2014-12-20</td>\n",
       "      <td>First</td>\n",
       "      <td>AB-10105</td>\n",
       "      <td>1107.660</td>\n",
       "    </tr>\n",
       "    <tr>\n",
       "      <th>106726</th>\n",
       "      <td>2014-12-06</td>\n",
       "      <td>First</td>\n",
       "      <td>RS-19765</td>\n",
       "      <td>1261.330</td>\n",
       "    </tr>\n",
       "    <tr>\n",
       "      <th>112158</th>\n",
       "      <td>2014-12-02</td>\n",
       "      <td>First</td>\n",
       "      <td>DP-13165</td>\n",
       "      <td>1050.600</td>\n",
       "    </tr>\n",
       "    <tr>\n",
       "      <th>116666</th>\n",
       "      <td>2014-05-08</td>\n",
       "      <td>First</td>\n",
       "      <td>KT-16480</td>\n",
       "      <td>1799.970</td>\n",
       "    </tr>\n",
       "    <tr>\n",
       "      <th>...</th>\n",
       "      <td>...</td>\n",
       "      <td>...</td>\n",
       "      <td>...</td>\n",
       "      <td>...</td>\n",
       "    </tr>\n",
       "    <tr>\n",
       "      <th>147886</th>\n",
       "      <td>2017-03-28</td>\n",
       "      <td>First</td>\n",
       "      <td>DH-13075</td>\n",
       "      <td>1435.960</td>\n",
       "    </tr>\n",
       "    <tr>\n",
       "      <th>155425</th>\n",
       "      <td>2017-11-10</td>\n",
       "      <td>First</td>\n",
       "      <td>AB-10600</td>\n",
       "      <td>1475.054</td>\n",
       "    </tr>\n",
       "    <tr>\n",
       "      <th>162558</th>\n",
       "      <td>2017-10-02</td>\n",
       "      <td>First</td>\n",
       "      <td>Dp-13240</td>\n",
       "      <td>2437.672</td>\n",
       "    </tr>\n",
       "    <tr>\n",
       "      <th>165456</th>\n",
       "      <td>2017-11-30</td>\n",
       "      <td>First</td>\n",
       "      <td>TB-21625</td>\n",
       "      <td>1079.316</td>\n",
       "    </tr>\n",
       "    <tr>\n",
       "      <th>169551</th>\n",
       "      <td>2017-07-07</td>\n",
       "      <td>First</td>\n",
       "      <td>RL-19615</td>\n",
       "      <td>1344.838</td>\n",
       "    </tr>\n",
       "  </tbody>\n",
       "</table>\n",
       "<p>96 rows × 4 columns</p>\n",
       "</div>"
      ]
     },
     "execution_count": 31,
     "metadata": {},
     "output_type": "execute_result"
    }
   ],
   "execution_count": 31
  },
  {
   "cell_type": "markdown",
   "metadata": {
    "id": "r6DNW6sDQp7G"
   },
   "source": [
    "Значения для фильтров можно сохранить в переменной, а в запросе сослаться на нее с помощью символа `@`: `sales > @sales_filter`."
   ]
  },
  {
   "cell_type": "code",
   "metadata": {
    "id": "HRfffrkBQp7G",
    "outputId": "b9346bb9-e403-4f9f-dea3-2731c719bc6f",
    "colab": {
     "base_uri": "https://localhost:8080/",
     "height": 455
    },
    "ExecuteTime": {
     "end_time": "2024-05-17T09:51:39.314699Z",
     "start_time": "2024-05-17T09:51:39.298220Z"
    }
   },
   "source": [
    "sales_filter = 1000\n",
    "ship_mode_filter = 'First'\n",
    "orders.query('sales > @sales_filter & ship_mode > @ship_mode_filter')"
   ],
   "outputs": [
    {
     "data": {
      "text/plain": [
       "        order_date ship_mode customer_id     sales\n",
       "id                                                \n",
       "102673  2014-11-01  Standard    KH-16630  1044.440\n",
       "102988  2014-04-05    Second    GM-14695  4251.920\n",
       "103310  2014-05-10  Standard    GM-14680  1769.784\n",
       "103492  2014-10-10  Standard    CM-12715  1488.774\n",
       "103660  2014-08-25  Standard    MW-18220  1007.944\n",
       "...            ...       ...         ...       ...\n",
       "166688  2017-05-20  Standard    RD-19480  1196.316\n",
       "167318  2017-07-26  Standard    GZ-14545  2012.302\n",
       "167402  2017-01-13    Second    CP-12085  4619.330\n",
       "167920  2017-12-09    Second    JL-15835  1827.510\n",
       "168116  2017-11-04  Same Day    GT-14635  8167.420\n",
       "\n",
       "[524 rows x 4 columns]"
      ],
      "text/html": [
       "<div>\n",
       "<style scoped>\n",
       "    .dataframe tbody tr th:only-of-type {\n",
       "        vertical-align: middle;\n",
       "    }\n",
       "\n",
       "    .dataframe tbody tr th {\n",
       "        vertical-align: top;\n",
       "    }\n",
       "\n",
       "    .dataframe thead th {\n",
       "        text-align: right;\n",
       "    }\n",
       "</style>\n",
       "<table border=\"1\" class=\"dataframe\">\n",
       "  <thead>\n",
       "    <tr style=\"text-align: right;\">\n",
       "      <th></th>\n",
       "      <th>order_date</th>\n",
       "      <th>ship_mode</th>\n",
       "      <th>customer_id</th>\n",
       "      <th>sales</th>\n",
       "    </tr>\n",
       "    <tr>\n",
       "      <th>id</th>\n",
       "      <th></th>\n",
       "      <th></th>\n",
       "      <th></th>\n",
       "      <th></th>\n",
       "    </tr>\n",
       "  </thead>\n",
       "  <tbody>\n",
       "    <tr>\n",
       "      <th>102673</th>\n",
       "      <td>2014-11-01</td>\n",
       "      <td>Standard</td>\n",
       "      <td>KH-16630</td>\n",
       "      <td>1044.440</td>\n",
       "    </tr>\n",
       "    <tr>\n",
       "      <th>102988</th>\n",
       "      <td>2014-04-05</td>\n",
       "      <td>Second</td>\n",
       "      <td>GM-14695</td>\n",
       "      <td>4251.920</td>\n",
       "    </tr>\n",
       "    <tr>\n",
       "      <th>103310</th>\n",
       "      <td>2014-05-10</td>\n",
       "      <td>Standard</td>\n",
       "      <td>GM-14680</td>\n",
       "      <td>1769.784</td>\n",
       "    </tr>\n",
       "    <tr>\n",
       "      <th>103492</th>\n",
       "      <td>2014-10-10</td>\n",
       "      <td>Standard</td>\n",
       "      <td>CM-12715</td>\n",
       "      <td>1488.774</td>\n",
       "    </tr>\n",
       "    <tr>\n",
       "      <th>103660</th>\n",
       "      <td>2014-08-25</td>\n",
       "      <td>Standard</td>\n",
       "      <td>MW-18220</td>\n",
       "      <td>1007.944</td>\n",
       "    </tr>\n",
       "    <tr>\n",
       "      <th>...</th>\n",
       "      <td>...</td>\n",
       "      <td>...</td>\n",
       "      <td>...</td>\n",
       "      <td>...</td>\n",
       "    </tr>\n",
       "    <tr>\n",
       "      <th>166688</th>\n",
       "      <td>2017-05-20</td>\n",
       "      <td>Standard</td>\n",
       "      <td>RD-19480</td>\n",
       "      <td>1196.316</td>\n",
       "    </tr>\n",
       "    <tr>\n",
       "      <th>167318</th>\n",
       "      <td>2017-07-26</td>\n",
       "      <td>Standard</td>\n",
       "      <td>GZ-14545</td>\n",
       "      <td>2012.302</td>\n",
       "    </tr>\n",
       "    <tr>\n",
       "      <th>167402</th>\n",
       "      <td>2017-01-13</td>\n",
       "      <td>Second</td>\n",
       "      <td>CP-12085</td>\n",
       "      <td>4619.330</td>\n",
       "    </tr>\n",
       "    <tr>\n",
       "      <th>167920</th>\n",
       "      <td>2017-12-09</td>\n",
       "      <td>Second</td>\n",
       "      <td>JL-15835</td>\n",
       "      <td>1827.510</td>\n",
       "    </tr>\n",
       "    <tr>\n",
       "      <th>168116</th>\n",
       "      <td>2017-11-04</td>\n",
       "      <td>Same Day</td>\n",
       "      <td>GT-14635</td>\n",
       "      <td>8167.420</td>\n",
       "    </tr>\n",
       "  </tbody>\n",
       "</table>\n",
       "<p>524 rows × 4 columns</p>\n",
       "</div>"
      ]
     },
     "execution_count": 32,
     "metadata": {},
     "output_type": "execute_result"
    }
   ],
   "execution_count": 32
  },
  {
   "cell_type": "markdown",
   "metadata": {
    "id": "3jAJMLACQp7G"
   },
   "source": [
    "Разобравшись, как получать куски данных из датафрейма, перейдем к тому, как считать агрегированные метрики: количество заказов, суммарную выручку, средний чек, конверсию."
   ]
  },
  {
   "cell_type": "markdown",
   "metadata": {
    "id": "P4xefPIEQp7G"
   },
   "source": [
    "### Считаем производные метрики"
   ]
  },
  {
   "cell_type": "markdown",
   "metadata": {
    "id": "XM3cAlcuQp7G"
   },
   "source": [
    "Задача: посчитаем, сколько денег магазин заработал с помощью каждого класса доставки. Начнем с простого — просуммируем выручку со всех заказов. Для этого используем метод `.sum()`:"
   ]
  },
  {
   "cell_type": "code",
   "metadata": {
    "id": "iHceCObdQp7H",
    "outputId": "a97530d7-e95d-4971-a53a-7b511da82d0f",
    "colab": {
     "base_uri": "https://localhost:8080/"
    },
    "ExecuteTime": {
     "end_time": "2024-05-17T09:51:39.324559Z",
     "start_time": "2024-05-17T09:51:39.319328Z"
    }
   },
   "source": [
    "orders['sales'].sum()"
   ],
   "outputs": [
    {
     "data": {
      "text/plain": [
       "2297200.8603000003"
      ]
     },
     "execution_count": 33,
     "metadata": {},
     "output_type": "execute_result"
    }
   ],
   "execution_count": 33
  },
  {
   "cell_type": "markdown",
   "metadata": {
    "id": "1vAWLJPoQp7H"
   },
   "source": [
    "Добавим класс доставки. Перед суммированием сгруппируем данные с помощью метода `.groupby()`:"
   ]
  },
  {
   "cell_type": "code",
   "metadata": {
    "id": "NipBRLvbQp7H",
    "outputId": "ca79de93-ac25-4c6c-d77e-39becb1ee436",
    "colab": {
     "base_uri": "https://localhost:8080/"
    },
    "ExecuteTime": {
     "end_time": "2024-05-17T09:51:39.337771Z",
     "start_time": "2024-05-17T09:51:39.327270Z"
    }
   },
   "source": [
    "orders.groupby('ship_mode')['sales'].sum()"
   ],
   "outputs": [
    {
     "data": {
      "text/plain": [
       "ship_mode\n",
       "First       3.514284e+05\n",
       "Same Day    1.283631e+05\n",
       "Second      4.591936e+05\n",
       "Standard    1.358216e+06\n",
       "Name: sales, dtype: float64"
      ]
     },
     "execution_count": 34,
     "metadata": {},
     "output_type": "execute_result"
    }
   ],
   "execution_count": 34
  },
  {
   "cell_type": "markdown",
   "metadata": {
    "id": "aqjwrt0cQp7H"
   },
   "source": [
    "`3.514284e+05` — научный формат вывода чисел. Означает $3.51 * 10^5$. Нам такая точность не нужна, поэтому можем сказать Pandas, чтобы округлял значения до сотых:"
   ]
  },
  {
   "cell_type": "code",
   "metadata": {
    "id": "hMaTjkq9Qp7H",
    "ExecuteTime": {
     "end_time": "2024-05-17T09:51:39.343411Z",
     "start_time": "2024-05-17T09:51:39.339412Z"
    }
   },
   "source": [
    "pd.options.display.float_format = '{:,.1f}'.format"
   ],
   "outputs": [],
   "execution_count": 35
  },
  {
   "cell_type": "code",
   "metadata": {
    "id": "AKiEHf_SQp7H",
    "outputId": "7dbba495-06ed-4d0b-feca-d0ab28e07992",
    "colab": {
     "base_uri": "https://localhost:8080/"
    },
    "ExecuteTime": {
     "end_time": "2024-05-17T09:51:39.355185Z",
     "start_time": "2024-05-17T09:51:39.346105Z"
    }
   },
   "source": [
    "orders.groupby('ship_mode')['sales'].sum()"
   ],
   "outputs": [
    {
     "data": {
      "text/plain": [
       "ship_mode\n",
       "First        351,428.4\n",
       "Same Day     128,363.1\n",
       "Second       459,193.6\n",
       "Standard   1,358,215.7\n",
       "Name: sales, dtype: float64"
      ]
     },
     "execution_count": 36,
     "metadata": {},
     "output_type": "execute_result"
    }
   ],
   "execution_count": 36
  },
  {
   "cell_type": "markdown",
   "metadata": {
    "id": "mrTXKFOuQp7I"
   },
   "source": [
    "Другое дело. Теперь видим сумму выручки по каждому классу доставки. По суммарной выручке неясно, становится лучше или хуже. Добавим разбивку по датам заказа:"
   ]
  },
  {
   "cell_type": "code",
   "metadata": {
    "id": "_f3kD8QuQp7I",
    "outputId": "dbb834ee-4e30-43ee-bf86-014fb867ad89",
    "colab": {
     "base_uri": "https://localhost:8080/"
    },
    "ExecuteTime": {
     "end_time": "2024-05-17T09:51:39.369362Z",
     "start_time": "2024-05-17T09:51:39.356915Z"
    }
   },
   "source": [
    "orders.groupby(['ship_mode', 'order_date'])['sales'].sum()"
   ],
   "outputs": [
    {
     "data": {
      "text/plain": [
       "ship_mode  order_date\n",
       "First      2014-01-06      12.8\n",
       "           2014-01-11       9.9\n",
       "           2014-01-14      62.0\n",
       "           2014-01-15     149.9\n",
       "           2014-01-19     378.6\n",
       "                          ...  \n",
       "Standard   2017-12-25   1,338.3\n",
       "           2017-12-26      63.9\n",
       "           2017-12-28     589.6\n",
       "           2017-12-29   1,094.8\n",
       "           2017-12-30     713.8\n",
       "Name: sales, Length: 2498, dtype: float64"
      ]
     },
     "execution_count": 37,
     "metadata": {},
     "output_type": "execute_result"
    }
   ],
   "execution_count": 37
  },
  {
   "cell_type": "markdown",
   "metadata": {
    "id": "r31UHu35Qp7I"
   },
   "source": [
    "Видно, что выручка прыгает ото дня ко дню: иногда `10` долларов, а иногда `378`.\n",
    "\n",
    "Интересно, это меняется количество заказов или средний чек?\n",
    "\n",
    "Добавим к выборке количество заказов. Для этого вместо `.sum()` используем метод `.agg()`, в который передадим список с названиями нужных функций."
   ]
  },
  {
   "cell_type": "code",
   "metadata": {
    "id": "tzt1eNMaQp7I",
    "outputId": "0f29caff-6bfc-4def-eb81-8b834e0d51b6",
    "colab": {
     "base_uri": "https://localhost:8080/",
     "height": 455
    },
    "ExecuteTime": {
     "end_time": "2024-05-17T09:51:39.390464Z",
     "start_time": "2024-05-17T09:51:39.370701Z"
    }
   },
   "source": [
    "orders.groupby(['ship_mode', 'order_date'])['sales'].agg(['sum', 'count'])"
   ],
   "outputs": [
    {
     "data": {
      "text/plain": [
       "                         sum  count\n",
       "ship_mode order_date               \n",
       "First     2014-01-06    12.8      1\n",
       "          2014-01-11     9.9      1\n",
       "          2014-01-14    62.0      1\n",
       "          2014-01-15   149.9      1\n",
       "          2014-01-19   378.6      1\n",
       "...                      ...    ...\n",
       "Standard  2017-12-25 1,338.3      7\n",
       "          2017-12-26    63.9      3\n",
       "          2017-12-28   589.6      7\n",
       "          2017-12-29 1,094.8      4\n",
       "          2017-12-30   713.8      4\n",
       "\n",
       "[2498 rows x 2 columns]"
      ],
      "text/html": [
       "<div>\n",
       "<style scoped>\n",
       "    .dataframe tbody tr th:only-of-type {\n",
       "        vertical-align: middle;\n",
       "    }\n",
       "\n",
       "    .dataframe tbody tr th {\n",
       "        vertical-align: top;\n",
       "    }\n",
       "\n",
       "    .dataframe thead th {\n",
       "        text-align: right;\n",
       "    }\n",
       "</style>\n",
       "<table border=\"1\" class=\"dataframe\">\n",
       "  <thead>\n",
       "    <tr style=\"text-align: right;\">\n",
       "      <th></th>\n",
       "      <th></th>\n",
       "      <th>sum</th>\n",
       "      <th>count</th>\n",
       "    </tr>\n",
       "    <tr>\n",
       "      <th>ship_mode</th>\n",
       "      <th>order_date</th>\n",
       "      <th></th>\n",
       "      <th></th>\n",
       "    </tr>\n",
       "  </thead>\n",
       "  <tbody>\n",
       "    <tr>\n",
       "      <th rowspan=\"5\" valign=\"top\">First</th>\n",
       "      <th>2014-01-06</th>\n",
       "      <td>12.8</td>\n",
       "      <td>1</td>\n",
       "    </tr>\n",
       "    <tr>\n",
       "      <th>2014-01-11</th>\n",
       "      <td>9.9</td>\n",
       "      <td>1</td>\n",
       "    </tr>\n",
       "    <tr>\n",
       "      <th>2014-01-14</th>\n",
       "      <td>62.0</td>\n",
       "      <td>1</td>\n",
       "    </tr>\n",
       "    <tr>\n",
       "      <th>2014-01-15</th>\n",
       "      <td>149.9</td>\n",
       "      <td>1</td>\n",
       "    </tr>\n",
       "    <tr>\n",
       "      <th>2014-01-19</th>\n",
       "      <td>378.6</td>\n",
       "      <td>1</td>\n",
       "    </tr>\n",
       "    <tr>\n",
       "      <th>...</th>\n",
       "      <th>...</th>\n",
       "      <td>...</td>\n",
       "      <td>...</td>\n",
       "    </tr>\n",
       "    <tr>\n",
       "      <th rowspan=\"5\" valign=\"top\">Standard</th>\n",
       "      <th>2017-12-25</th>\n",
       "      <td>1,338.3</td>\n",
       "      <td>7</td>\n",
       "    </tr>\n",
       "    <tr>\n",
       "      <th>2017-12-26</th>\n",
       "      <td>63.9</td>\n",
       "      <td>3</td>\n",
       "    </tr>\n",
       "    <tr>\n",
       "      <th>2017-12-28</th>\n",
       "      <td>589.6</td>\n",
       "      <td>7</td>\n",
       "    </tr>\n",
       "    <tr>\n",
       "      <th>2017-12-29</th>\n",
       "      <td>1,094.8</td>\n",
       "      <td>4</td>\n",
       "    </tr>\n",
       "    <tr>\n",
       "      <th>2017-12-30</th>\n",
       "      <td>713.8</td>\n",
       "      <td>4</td>\n",
       "    </tr>\n",
       "  </tbody>\n",
       "</table>\n",
       "<p>2498 rows × 2 columns</p>\n",
       "</div>"
      ]
     },
     "execution_count": 38,
     "metadata": {},
     "output_type": "execute_result"
    }
   ],
   "execution_count": 38
  },
  {
   "cell_type": "markdown",
   "metadata": {
    "id": "eL9v5YF8Qp7I"
   },
   "source": [
    "Ого, получается, что это так прыгает средний чек. Интересно, а какой был самый удачный день? Чтобы узнать, отсортируем получившийся датафрейм: выведем 10 самых денежных дней по выручке:"
   ]
  },
  {
   "cell_type": "code",
   "metadata": {
    "id": "9-4ovrGCQp7I",
    "outputId": "8ca4afcf-746c-483e-b760-40bef579daf0",
    "colab": {
     "base_uri": "https://localhost:8080/",
     "height": 394
    },
    "ExecuteTime": {
     "end_time": "2024-05-17T09:51:39.406723Z",
     "start_time": "2024-05-17T09:51:39.392983Z"
    }
   },
   "source": [
    "orders.groupby(['ship_mode', 'order_date'])['sales'].agg(['sum']).sort_values(by='sum', ascending=False).head(10)"
   ],
   "outputs": [
    {
     "data": {
      "text/plain": [
       "                          sum\n",
       "ship_mode order_date         \n",
       "Standard  2014-03-18 26,908.4\n",
       "          2016-10-02 18,398.2\n",
       "First     2017-03-23 14,299.1\n",
       "Standard  2014-09-08 14,060.4\n",
       "First     2017-10-22 13,716.5\n",
       "Standard  2016-12-17 12,185.1\n",
       "          2017-11-17 12,112.5\n",
       "          2015-09-17 11,467.6\n",
       "          2016-05-23 10,561.0\n",
       "          2014-09-23 10,478.6"
      ],
      "text/html": [
       "<div>\n",
       "<style scoped>\n",
       "    .dataframe tbody tr th:only-of-type {\n",
       "        vertical-align: middle;\n",
       "    }\n",
       "\n",
       "    .dataframe tbody tr th {\n",
       "        vertical-align: top;\n",
       "    }\n",
       "\n",
       "    .dataframe thead th {\n",
       "        text-align: right;\n",
       "    }\n",
       "</style>\n",
       "<table border=\"1\" class=\"dataframe\">\n",
       "  <thead>\n",
       "    <tr style=\"text-align: right;\">\n",
       "      <th></th>\n",
       "      <th></th>\n",
       "      <th>sum</th>\n",
       "    </tr>\n",
       "    <tr>\n",
       "      <th>ship_mode</th>\n",
       "      <th>order_date</th>\n",
       "      <th></th>\n",
       "    </tr>\n",
       "  </thead>\n",
       "  <tbody>\n",
       "    <tr>\n",
       "      <th rowspan=\"2\" valign=\"top\">Standard</th>\n",
       "      <th>2014-03-18</th>\n",
       "      <td>26,908.4</td>\n",
       "    </tr>\n",
       "    <tr>\n",
       "      <th>2016-10-02</th>\n",
       "      <td>18,398.2</td>\n",
       "    </tr>\n",
       "    <tr>\n",
       "      <th>First</th>\n",
       "      <th>2017-03-23</th>\n",
       "      <td>14,299.1</td>\n",
       "    </tr>\n",
       "    <tr>\n",
       "      <th>Standard</th>\n",
       "      <th>2014-09-08</th>\n",
       "      <td>14,060.4</td>\n",
       "    </tr>\n",
       "    <tr>\n",
       "      <th>First</th>\n",
       "      <th>2017-10-22</th>\n",
       "      <td>13,716.5</td>\n",
       "    </tr>\n",
       "    <tr>\n",
       "      <th rowspan=\"5\" valign=\"top\">Standard</th>\n",
       "      <th>2016-12-17</th>\n",
       "      <td>12,185.1</td>\n",
       "    </tr>\n",
       "    <tr>\n",
       "      <th>2017-11-17</th>\n",
       "      <td>12,112.5</td>\n",
       "    </tr>\n",
       "    <tr>\n",
       "      <th>2015-09-17</th>\n",
       "      <td>11,467.6</td>\n",
       "    </tr>\n",
       "    <tr>\n",
       "      <th>2016-05-23</th>\n",
       "      <td>10,561.0</td>\n",
       "    </tr>\n",
       "    <tr>\n",
       "      <th>2014-09-23</th>\n",
       "      <td>10,478.6</td>\n",
       "    </tr>\n",
       "  </tbody>\n",
       "</table>\n",
       "</div>"
      ]
     },
     "execution_count": 39,
     "metadata": {},
     "output_type": "execute_result"
    }
   ],
   "execution_count": 39
  },
  {
   "cell_type": "markdown",
   "metadata": {
    "id": "gDadU7GjQp7J"
   },
   "source": [
    "Параметр `ascending` указывает тип сортировки: по возрастанию или по убыванию."
   ]
  },
  {
   "cell_type": "markdown",
   "metadata": {
    "id": "5KamCLHiQp7J"
   },
   "source": [
    "Команда разрослась, и её теперь неудобно читать. Чтобы упростить, можно разбить её на несколько строк. В конце каждой строки ставим обратный слеш \\\\:"
   ]
  },
  {
   "cell_type": "code",
   "metadata": {
    "id": "fh5dR4ZWQp7J",
    "outputId": "719c300b-ebfa-4918-db4a-c9ac263d2e39",
    "colab": {
     "base_uri": "https://localhost:8080/",
     "height": 394
    },
    "ExecuteTime": {
     "end_time": "2024-05-17T09:51:39.758614Z",
     "start_time": "2024-05-17T09:51:39.741310Z"
    }
   },
   "source": [
    "orders \\\n",
    "    .groupby(['ship_mode', 'order_date'])['sales'] \\\n",
    "    .agg(['sum']) \\\n",
    "    .sort_values(by='sum', ascending=False) \\\n",
    "    .head(10)"
   ],
   "outputs": [
    {
     "data": {
      "text/plain": [
       "                          sum\n",
       "ship_mode order_date         \n",
       "Standard  2014-03-18 26,908.4\n",
       "          2016-10-02 18,398.2\n",
       "First     2017-03-23 14,299.1\n",
       "Standard  2014-09-08 14,060.4\n",
       "First     2017-10-22 13,716.5\n",
       "Standard  2016-12-17 12,185.1\n",
       "          2017-11-17 12,112.5\n",
       "          2015-09-17 11,467.6\n",
       "          2016-05-23 10,561.0\n",
       "          2014-09-23 10,478.6"
      ],
      "text/html": [
       "<div>\n",
       "<style scoped>\n",
       "    .dataframe tbody tr th:only-of-type {\n",
       "        vertical-align: middle;\n",
       "    }\n",
       "\n",
       "    .dataframe tbody tr th {\n",
       "        vertical-align: top;\n",
       "    }\n",
       "\n",
       "    .dataframe thead th {\n",
       "        text-align: right;\n",
       "    }\n",
       "</style>\n",
       "<table border=\"1\" class=\"dataframe\">\n",
       "  <thead>\n",
       "    <tr style=\"text-align: right;\">\n",
       "      <th></th>\n",
       "      <th></th>\n",
       "      <th>sum</th>\n",
       "    </tr>\n",
       "    <tr>\n",
       "      <th>ship_mode</th>\n",
       "      <th>order_date</th>\n",
       "      <th></th>\n",
       "    </tr>\n",
       "  </thead>\n",
       "  <tbody>\n",
       "    <tr>\n",
       "      <th rowspan=\"2\" valign=\"top\">Standard</th>\n",
       "      <th>2014-03-18</th>\n",
       "      <td>26,908.4</td>\n",
       "    </tr>\n",
       "    <tr>\n",
       "      <th>2016-10-02</th>\n",
       "      <td>18,398.2</td>\n",
       "    </tr>\n",
       "    <tr>\n",
       "      <th>First</th>\n",
       "      <th>2017-03-23</th>\n",
       "      <td>14,299.1</td>\n",
       "    </tr>\n",
       "    <tr>\n",
       "      <th>Standard</th>\n",
       "      <th>2014-09-08</th>\n",
       "      <td>14,060.4</td>\n",
       "    </tr>\n",
       "    <tr>\n",
       "      <th>First</th>\n",
       "      <th>2017-10-22</th>\n",
       "      <td>13,716.5</td>\n",
       "    </tr>\n",
       "    <tr>\n",
       "      <th rowspan=\"5\" valign=\"top\">Standard</th>\n",
       "      <th>2016-12-17</th>\n",
       "      <td>12,185.1</td>\n",
       "    </tr>\n",
       "    <tr>\n",
       "      <th>2017-11-17</th>\n",
       "      <td>12,112.5</td>\n",
       "    </tr>\n",
       "    <tr>\n",
       "      <th>2015-09-17</th>\n",
       "      <td>11,467.6</td>\n",
       "    </tr>\n",
       "    <tr>\n",
       "      <th>2016-05-23</th>\n",
       "      <td>10,561.0</td>\n",
       "    </tr>\n",
       "    <tr>\n",
       "      <th>2014-09-23</th>\n",
       "      <td>10,478.6</td>\n",
       "    </tr>\n",
       "  </tbody>\n",
       "</table>\n",
       "</div>"
      ]
     },
     "execution_count": 40,
     "metadata": {},
     "output_type": "execute_result"
    }
   ],
   "execution_count": 40
  },
  {
   "cell_type": "markdown",
   "metadata": {
    "id": "zL-S7M5yQp7J"
   },
   "source": [
    "В самый удачный день — `18 марта 2014 года` — магазин заработал `27 тысяч долларов с помощью стандартного класса доставки`.\n",
    "\n",
    "Интересно, откуда были клиенты, сделавшие эти заказы? Чтобы узнать, надо объединить данные о заказах с данными о клиентах."
   ]
  },
  {
   "cell_type": "markdown",
   "metadata": {
    "id": "QRPKGZxYQp7J"
   },
   "source": [
    "### Объединяем несколько датафреймов"
   ]
  },
  {
   "cell_type": "markdown",
   "metadata": {
    "id": "EMd_QRRZQp7J"
   },
   "source": [
    "До сих пор мы смотрели только на таблицу с заказами. Но ведь у нас есть еще данные о клиентах интернет-магазина. Загрузим их в переменную `customers` и посмотрим, что они собой представляют:"
   ]
  },
  {
   "cell_type": "code",
   "metadata": {
    "id": "CHboXfPHQp7J",
    "ExecuteTime": {
     "end_time": "2024-05-17T09:51:40.845311Z",
     "start_time": "2024-05-17T09:51:40.488930Z"
    }
   },
   "source": [
    "url = \"https://raw.githubusercontent.com/dm-fedorov/pandas_basic/master/data/customers.csv\"\n",
    "\n",
    "customers = pd.read_csv(url, index_col='id')"
   ],
   "outputs": [],
   "execution_count": 41
  },
  {
   "cell_type": "code",
   "metadata": {
    "id": "yizVwB1LQp7K",
    "colab": {
     "base_uri": "https://localhost:8080/",
     "height": 237
    },
    "outputId": "8e1eb6dc-ff5a-4abc-cf48-f6ac28a376bf",
    "ExecuteTime": {
     "end_time": "2024-05-17T09:51:43.152220Z",
     "start_time": "2024-05-17T09:51:43.140382Z"
    }
   },
   "source": [
    "customers.head()"
   ],
   "outputs": [
    {
     "data": {
      "text/plain": [
       "                     name    segment           state             city\n",
       "id                                                                   \n",
       "CG-12520      Claire Gute   Consumer        Kentucky        Henderson\n",
       "DV-13045  Darrin Van Huff  Corporate      California      Los Angeles\n",
       "SO-20335   Sean O'Donnell   Consumer         Florida  Fort Lauderdale\n",
       "BH-11710  Brosina Hoffman   Consumer      California      Los Angeles\n",
       "AA-10480     Andrew Allen   Consumer  North Carolina          Concord"
      ],
      "text/html": [
       "<div>\n",
       "<style scoped>\n",
       "    .dataframe tbody tr th:only-of-type {\n",
       "        vertical-align: middle;\n",
       "    }\n",
       "\n",
       "    .dataframe tbody tr th {\n",
       "        vertical-align: top;\n",
       "    }\n",
       "\n",
       "    .dataframe thead th {\n",
       "        text-align: right;\n",
       "    }\n",
       "</style>\n",
       "<table border=\"1\" class=\"dataframe\">\n",
       "  <thead>\n",
       "    <tr style=\"text-align: right;\">\n",
       "      <th></th>\n",
       "      <th>name</th>\n",
       "      <th>segment</th>\n",
       "      <th>state</th>\n",
       "      <th>city</th>\n",
       "    </tr>\n",
       "    <tr>\n",
       "      <th>id</th>\n",
       "      <th></th>\n",
       "      <th></th>\n",
       "      <th></th>\n",
       "      <th></th>\n",
       "    </tr>\n",
       "  </thead>\n",
       "  <tbody>\n",
       "    <tr>\n",
       "      <th>CG-12520</th>\n",
       "      <td>Claire Gute</td>\n",
       "      <td>Consumer</td>\n",
       "      <td>Kentucky</td>\n",
       "      <td>Henderson</td>\n",
       "    </tr>\n",
       "    <tr>\n",
       "      <th>DV-13045</th>\n",
       "      <td>Darrin Van Huff</td>\n",
       "      <td>Corporate</td>\n",
       "      <td>California</td>\n",
       "      <td>Los Angeles</td>\n",
       "    </tr>\n",
       "    <tr>\n",
       "      <th>SO-20335</th>\n",
       "      <td>Sean O'Donnell</td>\n",
       "      <td>Consumer</td>\n",
       "      <td>Florida</td>\n",
       "      <td>Fort Lauderdale</td>\n",
       "    </tr>\n",
       "    <tr>\n",
       "      <th>BH-11710</th>\n",
       "      <td>Brosina Hoffman</td>\n",
       "      <td>Consumer</td>\n",
       "      <td>California</td>\n",
       "      <td>Los Angeles</td>\n",
       "    </tr>\n",
       "    <tr>\n",
       "      <th>AA-10480</th>\n",
       "      <td>Andrew Allen</td>\n",
       "      <td>Consumer</td>\n",
       "      <td>North Carolina</td>\n",
       "      <td>Concord</td>\n",
       "    </tr>\n",
       "  </tbody>\n",
       "</table>\n",
       "</div>"
      ]
     },
     "execution_count": 42,
     "metadata": {},
     "output_type": "execute_result"
    }
   ],
   "execution_count": 42
  },
  {
   "cell_type": "markdown",
   "metadata": {
    "id": "Gvu_hHwdQp7K"
   },
   "source": [
    "Мы знаем тип клиента, место его проживания, его имя и имя контактного лица. У каждого клиента есть уникальный номер `id`. Этот же номер лежит в колонке `customer_id` таблицы `orders`. Значит мы можем найти, какие заказы сделал каждый клиент. Например, посмотрим, заказы пользователя `CG-12520`:"
   ]
  },
  {
   "cell_type": "code",
   "metadata": {
    "id": "hQOSLr59Qp7K",
    "colab": {
     "base_uri": "https://localhost:8080/",
     "height": 175
    },
    "outputId": "0f5794c9-e67d-4fa6-adda-787f1af1c404",
    "ExecuteTime": {
     "end_time": "2024-05-17T09:51:44.238747Z",
     "start_time": "2024-05-17T09:51:44.222210Z"
    }
   },
   "source": [
    "cust_filter = 'CG-12520'\n",
    "orders.query('customer_id == @cust_filter')"
   ],
   "outputs": [
    {
     "data": {
      "text/plain": [
       "        order_date ship_mode customer_id  sales\n",
       "id                                             \n",
       "152156  2016-11-08    Second    CG-12520  993.9\n",
       "164098  2017-01-26     First    CG-12520   18.2\n",
       "123918  2015-10-15  Same Day    CG-12520  136.7"
      ],
      "text/html": [
       "<div>\n",
       "<style scoped>\n",
       "    .dataframe tbody tr th:only-of-type {\n",
       "        vertical-align: middle;\n",
       "    }\n",
       "\n",
       "    .dataframe tbody tr th {\n",
       "        vertical-align: top;\n",
       "    }\n",
       "\n",
       "    .dataframe thead th {\n",
       "        text-align: right;\n",
       "    }\n",
       "</style>\n",
       "<table border=\"1\" class=\"dataframe\">\n",
       "  <thead>\n",
       "    <tr style=\"text-align: right;\">\n",
       "      <th></th>\n",
       "      <th>order_date</th>\n",
       "      <th>ship_mode</th>\n",
       "      <th>customer_id</th>\n",
       "      <th>sales</th>\n",
       "    </tr>\n",
       "    <tr>\n",
       "      <th>id</th>\n",
       "      <th></th>\n",
       "      <th></th>\n",
       "      <th></th>\n",
       "      <th></th>\n",
       "    </tr>\n",
       "  </thead>\n",
       "  <tbody>\n",
       "    <tr>\n",
       "      <th>152156</th>\n",
       "      <td>2016-11-08</td>\n",
       "      <td>Second</td>\n",
       "      <td>CG-12520</td>\n",
       "      <td>993.9</td>\n",
       "    </tr>\n",
       "    <tr>\n",
       "      <th>164098</th>\n",
       "      <td>2017-01-26</td>\n",
       "      <td>First</td>\n",
       "      <td>CG-12520</td>\n",
       "      <td>18.2</td>\n",
       "    </tr>\n",
       "    <tr>\n",
       "      <th>123918</th>\n",
       "      <td>2015-10-15</td>\n",
       "      <td>Same Day</td>\n",
       "      <td>CG-12520</td>\n",
       "      <td>136.7</td>\n",
       "    </tr>\n",
       "  </tbody>\n",
       "</table>\n",
       "</div>"
      ]
     },
     "execution_count": 43,
     "metadata": {},
     "output_type": "execute_result"
    }
   ],
   "execution_count": 43
  },
  {
   "cell_type": "markdown",
   "metadata": {
    "id": "_6kACNGXQp7K"
   },
   "source": [
    "Вернемся к задаче из предыдущего раздела: узнать, что за клиенты, которые сделали `18 марта заказы со стандартной доставкой`. Для этого объединим таблицы с клиентами и заказами.\n",
    "\n",
    "Датафреймы объединяют с помощью методов `.concat()`, `.merge()` и `.join()`. Все они делают одно и то же, но отличаются синтаксисом — на практике достаточно уметь пользоваться одним из них.\n",
    "\n",
    "Покажу на примере `.merge()`:"
   ]
  },
  {
   "cell_type": "code",
   "metadata": {
    "id": "m3hV2mFTQp7K",
    "ExecuteTime": {
     "end_time": "2024-05-17T09:51:44.895796Z",
     "start_time": "2024-05-17T09:51:44.878910Z"
    }
   },
   "source": [
    "new_df = pd.merge(orders, customers,\n",
    "                  how='inner',\n",
    "                  left_on='customer_id', # номер клиента\n",
    "                  right_index=True) # номер клиента в индексе"
   ],
   "outputs": [],
   "execution_count": 44
  },
  {
   "cell_type": "code",
   "metadata": {
    "id": "M9UmSG6IQp7L",
    "outputId": "3a0194a9-d287-413a-a830-13abc4375be6",
    "colab": {
     "base_uri": "https://localhost:8080/"
    },
    "ExecuteTime": {
     "end_time": "2024-05-17T09:51:45.340432Z",
     "start_time": "2024-05-17T09:51:45.331982Z"
    }
   },
   "source": [
    "new_df.columns"
   ],
   "outputs": [
    {
     "data": {
      "text/plain": [
       "Index(['order_date', 'ship_mode', 'customer_id', 'sales', 'name', 'segment',\n",
       "       'state', 'city'],\n",
       "      dtype='object')"
      ]
     },
     "execution_count": 45,
     "metadata": {},
     "output_type": "execute_result"
    }
   ],
   "execution_count": 45
  },
  {
   "cell_type": "code",
   "metadata": {
    "id": "sH10yzf0Qp7L",
    "outputId": "859efc95-09d5-4d0c-8009-c180a6e2ed67",
    "colab": {
     "base_uri": "https://localhost:8080/",
     "height": 237
    },
    "ExecuteTime": {
     "end_time": "2024-05-17T09:51:45.854145Z",
     "start_time": "2024-05-17T09:51:45.836626Z"
    }
   },
   "source": [
    "new_df.head()"
   ],
   "outputs": [
    {
     "data": {
      "text/plain": [
       "        order_date ship_mode customer_id  sales         name   segment state  \\\n",
       "id                                                                             \n",
       "100006  2014-09-07  Standard    DK-13375  378.0  Dennis Kane  Consumer  Ohio   \n",
       "131884  2015-12-06  Same Day    DK-13375  594.0  Dennis Kane  Consumer  Ohio   \n",
       "145065  2015-12-12     First    DK-13375   32.3  Dennis Kane  Consumer  Ohio   \n",
       "133046  2017-07-27    Second    DK-13375  298.0  Dennis Kane  Consumer  Ohio   \n",
       "165099  2017-12-11     First    DK-13375    1.4  Dennis Kane  Consumer  Ohio   \n",
       "\n",
       "          city  \n",
       "id              \n",
       "100006  Marion  \n",
       "131884  Marion  \n",
       "145065  Marion  \n",
       "133046  Marion  \n",
       "165099  Marion  "
      ],
      "text/html": [
       "<div>\n",
       "<style scoped>\n",
       "    .dataframe tbody tr th:only-of-type {\n",
       "        vertical-align: middle;\n",
       "    }\n",
       "\n",
       "    .dataframe tbody tr th {\n",
       "        vertical-align: top;\n",
       "    }\n",
       "\n",
       "    .dataframe thead th {\n",
       "        text-align: right;\n",
       "    }\n",
       "</style>\n",
       "<table border=\"1\" class=\"dataframe\">\n",
       "  <thead>\n",
       "    <tr style=\"text-align: right;\">\n",
       "      <th></th>\n",
       "      <th>order_date</th>\n",
       "      <th>ship_mode</th>\n",
       "      <th>customer_id</th>\n",
       "      <th>sales</th>\n",
       "      <th>name</th>\n",
       "      <th>segment</th>\n",
       "      <th>state</th>\n",
       "      <th>city</th>\n",
       "    </tr>\n",
       "    <tr>\n",
       "      <th>id</th>\n",
       "      <th></th>\n",
       "      <th></th>\n",
       "      <th></th>\n",
       "      <th></th>\n",
       "      <th></th>\n",
       "      <th></th>\n",
       "      <th></th>\n",
       "      <th></th>\n",
       "    </tr>\n",
       "  </thead>\n",
       "  <tbody>\n",
       "    <tr>\n",
       "      <th>100006</th>\n",
       "      <td>2014-09-07</td>\n",
       "      <td>Standard</td>\n",
       "      <td>DK-13375</td>\n",
       "      <td>378.0</td>\n",
       "      <td>Dennis Kane</td>\n",
       "      <td>Consumer</td>\n",
       "      <td>Ohio</td>\n",
       "      <td>Marion</td>\n",
       "    </tr>\n",
       "    <tr>\n",
       "      <th>131884</th>\n",
       "      <td>2015-12-06</td>\n",
       "      <td>Same Day</td>\n",
       "      <td>DK-13375</td>\n",
       "      <td>594.0</td>\n",
       "      <td>Dennis Kane</td>\n",
       "      <td>Consumer</td>\n",
       "      <td>Ohio</td>\n",
       "      <td>Marion</td>\n",
       "    </tr>\n",
       "    <tr>\n",
       "      <th>145065</th>\n",
       "      <td>2015-12-12</td>\n",
       "      <td>First</td>\n",
       "      <td>DK-13375</td>\n",
       "      <td>32.3</td>\n",
       "      <td>Dennis Kane</td>\n",
       "      <td>Consumer</td>\n",
       "      <td>Ohio</td>\n",
       "      <td>Marion</td>\n",
       "    </tr>\n",
       "    <tr>\n",
       "      <th>133046</th>\n",
       "      <td>2017-07-27</td>\n",
       "      <td>Second</td>\n",
       "      <td>DK-13375</td>\n",
       "      <td>298.0</td>\n",
       "      <td>Dennis Kane</td>\n",
       "      <td>Consumer</td>\n",
       "      <td>Ohio</td>\n",
       "      <td>Marion</td>\n",
       "    </tr>\n",
       "    <tr>\n",
       "      <th>165099</th>\n",
       "      <td>2017-12-11</td>\n",
       "      <td>First</td>\n",
       "      <td>DK-13375</td>\n",
       "      <td>1.4</td>\n",
       "      <td>Dennis Kane</td>\n",
       "      <td>Consumer</td>\n",
       "      <td>Ohio</td>\n",
       "      <td>Marion</td>\n",
       "    </tr>\n",
       "  </tbody>\n",
       "</table>\n",
       "</div>"
      ]
     },
     "execution_count": 46,
     "metadata": {},
     "output_type": "execute_result"
    }
   ],
   "execution_count": 46
  },
  {
   "cell_type": "markdown",
   "metadata": {
    "id": "QpKJPaUgQp7L"
   },
   "source": [
    "В `.merge()` я сначала указал названия датафреймов, которые хочу объединить.\n",
    "Затем уточнил, как именно их объединить и какие колонки использовать в качестве ключа.\n",
    "\n",
    "Ключ — это колонка, связывающая оба датафрейма. В нашем случае — номер клиента. В таблице с заказами он в колонке `customer_id`, а таблице с клиентами — в индексе. Поэтому в команде мы пишем: `left_on='customer_id', right_index=True`."
   ]
  },
  {
   "cell_type": "markdown",
   "metadata": {
    "id": "jF3NDIbyQp7L"
   },
   "source": [
    "### Решаем задачу"
   ]
  },
  {
   "cell_type": "markdown",
   "metadata": {
    "id": "oTt6DcVZQp7L"
   },
   "source": [
    "Найдем `5 городов, принесших самую большую выручку в 2016 году`.\n",
    "\n",
    "Для начала отфильтруем заказы из `2016 года`:"
   ]
  },
  {
   "cell_type": "code",
   "metadata": {
    "id": "YHfVltRgQp7L",
    "ExecuteTime": {
     "end_time": "2024-05-17T09:51:46.123767Z",
     "start_time": "2024-05-17T09:51:46.113995Z"
    }
   },
   "source": [
    "orders_2016 = orders.query(\"order_date >= '2016-01-01' & order_date <= '2016-12-31'\")"
   ],
   "outputs": [],
   "execution_count": 47
  },
  {
   "cell_type": "code",
   "metadata": {
    "id": "wfL_91p1Qp7L",
    "outputId": "600a6d53-8222-44e8-f54c-c75f959f3c3a",
    "colab": {
     "base_uri": "https://localhost:8080/",
     "height": 237
    },
    "ExecuteTime": {
     "end_time": "2024-05-17T09:51:46.475120Z",
     "start_time": "2024-05-17T09:51:46.461827Z"
    }
   },
   "source": [
    "orders_2016.head()"
   ],
   "outputs": [
    {
     "data": {
      "text/plain": [
       "        order_date ship_mode customer_id   sales\n",
       "id                                              \n",
       "100041  2016-11-20  Standard    BF-10975   328.5\n",
       "100083  2016-11-24  Standard    CD-11980    24.8\n",
       "100153  2016-12-13  Standard    KH-16630    63.9\n",
       "100244  2016-09-20  Standard    GM-14695   475.7\n",
       "100300  2016-06-24    Second    MJ-17740 4,823.1"
      ],
      "text/html": [
       "<div>\n",
       "<style scoped>\n",
       "    .dataframe tbody tr th:only-of-type {\n",
       "        vertical-align: middle;\n",
       "    }\n",
       "\n",
       "    .dataframe tbody tr th {\n",
       "        vertical-align: top;\n",
       "    }\n",
       "\n",
       "    .dataframe thead th {\n",
       "        text-align: right;\n",
       "    }\n",
       "</style>\n",
       "<table border=\"1\" class=\"dataframe\">\n",
       "  <thead>\n",
       "    <tr style=\"text-align: right;\">\n",
       "      <th></th>\n",
       "      <th>order_date</th>\n",
       "      <th>ship_mode</th>\n",
       "      <th>customer_id</th>\n",
       "      <th>sales</th>\n",
       "    </tr>\n",
       "    <tr>\n",
       "      <th>id</th>\n",
       "      <th></th>\n",
       "      <th></th>\n",
       "      <th></th>\n",
       "      <th></th>\n",
       "    </tr>\n",
       "  </thead>\n",
       "  <tbody>\n",
       "    <tr>\n",
       "      <th>100041</th>\n",
       "      <td>2016-11-20</td>\n",
       "      <td>Standard</td>\n",
       "      <td>BF-10975</td>\n",
       "      <td>328.5</td>\n",
       "    </tr>\n",
       "    <tr>\n",
       "      <th>100083</th>\n",
       "      <td>2016-11-24</td>\n",
       "      <td>Standard</td>\n",
       "      <td>CD-11980</td>\n",
       "      <td>24.8</td>\n",
       "    </tr>\n",
       "    <tr>\n",
       "      <th>100153</th>\n",
       "      <td>2016-12-13</td>\n",
       "      <td>Standard</td>\n",
       "      <td>KH-16630</td>\n",
       "      <td>63.9</td>\n",
       "    </tr>\n",
       "    <tr>\n",
       "      <th>100244</th>\n",
       "      <td>2016-09-20</td>\n",
       "      <td>Standard</td>\n",
       "      <td>GM-14695</td>\n",
       "      <td>475.7</td>\n",
       "    </tr>\n",
       "    <tr>\n",
       "      <th>100300</th>\n",
       "      <td>2016-06-24</td>\n",
       "      <td>Second</td>\n",
       "      <td>MJ-17740</td>\n",
       "      <td>4,823.1</td>\n",
       "    </tr>\n",
       "  </tbody>\n",
       "</table>\n",
       "</div>"
      ]
     },
     "execution_count": 48,
     "metadata": {},
     "output_type": "execute_result"
    }
   ],
   "execution_count": 48
  },
  {
   "cell_type": "markdown",
   "metadata": {
    "id": "RjNqDqshQp7M"
   },
   "source": [
    "Город — это атрибут пользователей, а не заказов. Добавим информацию о пользователях:"
   ]
  },
  {
   "cell_type": "code",
   "metadata": {
    "id": "UzCsdhkLQp7M",
    "ExecuteTime": {
     "end_time": "2024-05-17T09:51:46.746058Z",
     "start_time": "2024-05-17T09:51:46.738045Z"
    }
   },
   "source": [
    "with_customers_2016 = pd.merge(customers, orders_2016,\n",
    "                               how='inner',\n",
    "                               left_index=True,\n",
    "                               right_on='customer_id')"
   ],
   "outputs": [],
   "execution_count": 49
  },
  {
   "cell_type": "markdown",
   "metadata": {
    "id": "BBhFIVPCQp7M"
   },
   "source": [
    "Cруппируем получившийся датафрейм по городам и посчитаем выручку:"
   ]
  },
  {
   "cell_type": "code",
   "metadata": {
    "id": "_Fla85KIQp7M",
    "ExecuteTime": {
     "end_time": "2024-05-17T09:51:46.946407Z",
     "start_time": "2024-05-17T09:51:46.941311Z"
    }
   },
   "source": [
    "grouped_2016 = with_customers_2016.groupby('city')['sales'].sum()"
   ],
   "outputs": [],
   "execution_count": 50
  },
  {
   "cell_type": "code",
   "metadata": {
    "id": "FBuk1D9CQp7M",
    "outputId": "62131d7e-b145-407c-a31d-b04b7a1503a8",
    "colab": {
     "base_uri": "https://localhost:8080/"
    },
    "ExecuteTime": {
     "end_time": "2024-05-17T09:51:47.287321Z",
     "start_time": "2024-05-17T09:51:47.280295Z"
    }
   },
   "source": [
    "grouped_2016.head()"
   ],
   "outputs": [
    {
     "data": {
      "text/plain": [
       "city\n",
       "Akron               1,763.0\n",
       "Albuquerque           692.9\n",
       "Amarillo              197.2\n",
       "Arlington           5,672.1\n",
       "Arlington Heights      14.1\n",
       "Name: sales, dtype: float64"
      ]
     },
     "execution_count": 51,
     "metadata": {},
     "output_type": "execute_result"
    }
   ],
   "execution_count": 51
  },
  {
   "cell_type": "markdown",
   "metadata": {
    "id": "P37JSXtbQp7M"
   },
   "source": [
    "Отсортируем по убыванию продаж и оставим топ-5:"
   ]
  },
  {
   "cell_type": "code",
   "metadata": {
    "id": "bVqIB2P_Qp7M",
    "ExecuteTime": {
     "end_time": "2024-05-17T09:51:47.607265Z",
     "start_time": "2024-05-17T09:51:47.601894Z"
    }
   },
   "source": [
    "top5 = grouped_2016.sort_values(ascending=False).head(5)"
   ],
   "outputs": [],
   "execution_count": 52
  },
  {
   "cell_type": "code",
   "metadata": {
    "id": "ktPgSJvuQp7M",
    "outputId": "f4430ff9-2260-4340-9050-eeaa0b11af80",
    "colab": {
     "base_uri": "https://localhost:8080/"
    },
    "ExecuteTime": {
     "end_time": "2024-05-17T09:51:47.888451Z",
     "start_time": "2024-05-17T09:51:47.882375Z"
    }
   },
   "source": [
    "top5"
   ],
   "outputs": [
    {
     "data": {
      "text/plain": [
       "city\n",
       "New York City   53,094.1\n",
       "Philadelphia    39,895.5\n",
       "Seattle         33,955.5\n",
       "Los Angeles     33,611.1\n",
       "San Francisco   27,990.0\n",
       "Name: sales, dtype: float64"
      ]
     },
     "execution_count": 53,
     "metadata": {},
     "output_type": "execute_result"
    }
   ],
   "execution_count": 53
  },
  {
   "cell_type": "markdown",
   "metadata": {
    "id": "KWktIC02Qp7N"
   },
   "source": [
    "### Упражнение:\n",
    "\n",
    "1. Сколько заказов, отправлено первым классом за последние 5 лет?\n",
    "2. Сколько в базе клиентов из Калифорнии?\n",
    "3. Сколько заказов они сделали?\n",
    "4. Постройте сводную таблицу средних чеков по всем штатам за каждый год."
   ]
  },
  {
   "cell_type": "markdown",
   "source": [
    "**1**"
   ],
   "metadata": {
    "id": "QZ8-mZcPYYEs"
   }
  },
  {
   "cell_type": "code",
   "metadata": {
    "id": "thrDCZUZQp7N",
    "colab": {
     "base_uri": "https://localhost:8080/"
    },
    "outputId": "5bf1ffb4-3d98-4514-af27-cc454d116a78",
    "ExecuteTime": {
     "end_time": "2024-05-17T09:51:48.006575Z",
     "start_time": "2024-05-17T09:51:47.997185Z"
    }
   },
   "source": [
    "first_class_orders = orders[orders['ship_mode'] == 'First']\n",
    "recent_orders = first_class_orders[first_class_orders['order_date'] >= '2019-05-16']\n",
    "len(recent_orders)\n",
    "\n",
    "# 0, т.к. последние даты в датасете за 2017 год"
   ],
   "outputs": [
    {
     "data": {
      "text/plain": [
       "0"
      ]
     },
     "execution_count": 54,
     "metadata": {},
     "output_type": "execute_result"
    }
   ],
   "execution_count": 54
  },
  {
   "cell_type": "markdown",
   "source": [
    "**2**"
   ],
   "metadata": {
    "id": "ytqNt6OYYYvl"
   }
  },
  {
   "cell_type": "code",
   "source": [
    "customers[customers['state'] == 'California'].shape[0]"
   ],
   "metadata": {
    "colab": {
     "base_uri": "https://localhost:8080/"
    },
    "id": "0Q3bzo-6WKBi",
    "outputId": "d7913335-d0fb-4c2d-d854-c8fe8bfa3050",
    "ExecuteTime": {
     "end_time": "2024-05-17T09:51:48.242774Z",
     "start_time": "2024-05-17T09:51:48.237160Z"
    }
   },
   "outputs": [
    {
     "data": {
      "text/plain": [
       "161"
      ]
     },
     "execution_count": 55,
     "metadata": {},
     "output_type": "execute_result"
    }
   ],
   "execution_count": 55
  },
  {
   "cell_type": "markdown",
   "source": [
    "**3**"
   ],
   "metadata": {
    "id": "rnejUw4FYfSg"
   }
  },
  {
   "cell_type": "code",
   "source": [
    "merged_data = pd.merge(customers, orders, left_index=True, right_on='customer_id')\n",
    "california_orders = merged_data[merged_data['state'] == 'California']\n",
    "len(california_orders)"
   ],
   "metadata": {
    "colab": {
     "base_uri": "https://localhost:8080/"
    },
    "id": "yFYd8CXeWM0b",
    "outputId": "763b444d-51eb-45d5-c722-c32045c3a4e4",
    "ExecuteTime": {
     "end_time": "2024-05-17T09:51:48.516178Z",
     "start_time": "2024-05-17T09:51:48.501255Z"
    }
   },
   "outputs": [
    {
     "data": {
      "text/plain": [
       "1006"
      ]
     },
     "execution_count": 56,
     "metadata": {},
     "output_type": "execute_result"
    }
   ],
   "execution_count": 56
  },
  {
   "cell_type": "markdown",
   "source": [
    "**4**"
   ],
   "metadata": {
    "id": "DP2V354cZj7u"
   }
  },
  {
   "cell_type": "code",
   "source": [
    "merged_data['year'] = pd.to_datetime(merged_data['order_date']).dt.year\n",
    "pivot_table = merged_data.pivot_table(index='year', columns='state', values='sales', aggfunc='mean')\n",
    "pivot_table"
   ],
   "metadata": {
    "colab": {
     "base_uri": "https://localhost:8080/",
     "height": 290
    },
    "id": "LSPyIBqWWQcR",
    "outputId": "fa4e3a81-e3c7-49ac-879f-a938a078ef7c",
    "ExecuteTime": {
     "end_time": "2024-05-17T09:51:48.856414Z",
     "start_time": "2024-05-17T09:51:48.811867Z"
    }
   },
   "outputs": [
    {
     "data": {
      "text/plain": [
       "state  Alabama  Arizona  Arkansas  California  Colorado  Connecticut  \\\n",
       "year                                                                   \n",
       "2014     425.5    475.2   1,098.0       563.7     351.1        955.0   \n",
       "2015     501.4    703.3      55.8       404.2     433.3        183.6   \n",
       "2016     854.3    699.1     103.1       426.4     540.7        392.5   \n",
       "2017     418.0    535.7     214.8       422.2     365.6        479.2   \n",
       "\n",
       "state  Delaware  District of Columbia  Florida  Georgia  ...  Oregon  \\\n",
       "year                                                     ...           \n",
       "2014      341.8                 267.2    445.7    462.5  ...   774.2   \n",
       "2015      401.1                   NaN    333.2    559.8  ...   977.5   \n",
       "2016      304.9                 465.6    318.4    521.9  ...   850.0   \n",
       "2017      894.5                   NaN    318.3    390.5  ...   290.5   \n",
       "\n",
       "state  Pennsylvania  Rhode Island  South Dakota  Tennessee  Texas  Utah  \\\n",
       "year                                                                      \n",
       "2014          293.2          87.1          21.2      526.8  584.2 293.4   \n",
       "2015          557.0         273.4         264.0      637.2  343.7 408.5   \n",
       "2016          605.4         659.5          15.2      200.8  343.0 626.9   \n",
       "2017          391.8         221.6         586.7      323.8  420.7 467.0   \n",
       "\n",
       "state  Virginia  Washington  Wisconsin  \n",
       "year                                    \n",
       "2014    1,048.3       601.2      318.1  \n",
       "2015      491.5       491.8      831.2  \n",
       "2016      466.3       661.0      444.5  \n",
       "2017      268.3       576.4      797.5  \n",
       "\n",
       "[4 rows x 41 columns]"
      ],
      "text/html": [
       "<div>\n",
       "<style scoped>\n",
       "    .dataframe tbody tr th:only-of-type {\n",
       "        vertical-align: middle;\n",
       "    }\n",
       "\n",
       "    .dataframe tbody tr th {\n",
       "        vertical-align: top;\n",
       "    }\n",
       "\n",
       "    .dataframe thead th {\n",
       "        text-align: right;\n",
       "    }\n",
       "</style>\n",
       "<table border=\"1\" class=\"dataframe\">\n",
       "  <thead>\n",
       "    <tr style=\"text-align: right;\">\n",
       "      <th>state</th>\n",
       "      <th>Alabama</th>\n",
       "      <th>Arizona</th>\n",
       "      <th>Arkansas</th>\n",
       "      <th>California</th>\n",
       "      <th>Colorado</th>\n",
       "      <th>Connecticut</th>\n",
       "      <th>Delaware</th>\n",
       "      <th>District of Columbia</th>\n",
       "      <th>Florida</th>\n",
       "      <th>Georgia</th>\n",
       "      <th>...</th>\n",
       "      <th>Oregon</th>\n",
       "      <th>Pennsylvania</th>\n",
       "      <th>Rhode Island</th>\n",
       "      <th>South Dakota</th>\n",
       "      <th>Tennessee</th>\n",
       "      <th>Texas</th>\n",
       "      <th>Utah</th>\n",
       "      <th>Virginia</th>\n",
       "      <th>Washington</th>\n",
       "      <th>Wisconsin</th>\n",
       "    </tr>\n",
       "    <tr>\n",
       "      <th>year</th>\n",
       "      <th></th>\n",
       "      <th></th>\n",
       "      <th></th>\n",
       "      <th></th>\n",
       "      <th></th>\n",
       "      <th></th>\n",
       "      <th></th>\n",
       "      <th></th>\n",
       "      <th></th>\n",
       "      <th></th>\n",
       "      <th></th>\n",
       "      <th></th>\n",
       "      <th></th>\n",
       "      <th></th>\n",
       "      <th></th>\n",
       "      <th></th>\n",
       "      <th></th>\n",
       "      <th></th>\n",
       "      <th></th>\n",
       "      <th></th>\n",
       "      <th></th>\n",
       "    </tr>\n",
       "  </thead>\n",
       "  <tbody>\n",
       "    <tr>\n",
       "      <th>2014</th>\n",
       "      <td>425.5</td>\n",
       "      <td>475.2</td>\n",
       "      <td>1,098.0</td>\n",
       "      <td>563.7</td>\n",
       "      <td>351.1</td>\n",
       "      <td>955.0</td>\n",
       "      <td>341.8</td>\n",
       "      <td>267.2</td>\n",
       "      <td>445.7</td>\n",
       "      <td>462.5</td>\n",
       "      <td>...</td>\n",
       "      <td>774.2</td>\n",
       "      <td>293.2</td>\n",
       "      <td>87.1</td>\n",
       "      <td>21.2</td>\n",
       "      <td>526.8</td>\n",
       "      <td>584.2</td>\n",
       "      <td>293.4</td>\n",
       "      <td>1,048.3</td>\n",
       "      <td>601.2</td>\n",
       "      <td>318.1</td>\n",
       "    </tr>\n",
       "    <tr>\n",
       "      <th>2015</th>\n",
       "      <td>501.4</td>\n",
       "      <td>703.3</td>\n",
       "      <td>55.8</td>\n",
       "      <td>404.2</td>\n",
       "      <td>433.3</td>\n",
       "      <td>183.6</td>\n",
       "      <td>401.1</td>\n",
       "      <td>NaN</td>\n",
       "      <td>333.2</td>\n",
       "      <td>559.8</td>\n",
       "      <td>...</td>\n",
       "      <td>977.5</td>\n",
       "      <td>557.0</td>\n",
       "      <td>273.4</td>\n",
       "      <td>264.0</td>\n",
       "      <td>637.2</td>\n",
       "      <td>343.7</td>\n",
       "      <td>408.5</td>\n",
       "      <td>491.5</td>\n",
       "      <td>491.8</td>\n",
       "      <td>831.2</td>\n",
       "    </tr>\n",
       "    <tr>\n",
       "      <th>2016</th>\n",
       "      <td>854.3</td>\n",
       "      <td>699.1</td>\n",
       "      <td>103.1</td>\n",
       "      <td>426.4</td>\n",
       "      <td>540.7</td>\n",
       "      <td>392.5</td>\n",
       "      <td>304.9</td>\n",
       "      <td>465.6</td>\n",
       "      <td>318.4</td>\n",
       "      <td>521.9</td>\n",
       "      <td>...</td>\n",
       "      <td>850.0</td>\n",
       "      <td>605.4</td>\n",
       "      <td>659.5</td>\n",
       "      <td>15.2</td>\n",
       "      <td>200.8</td>\n",
       "      <td>343.0</td>\n",
       "      <td>626.9</td>\n",
       "      <td>466.3</td>\n",
       "      <td>661.0</td>\n",
       "      <td>444.5</td>\n",
       "    </tr>\n",
       "    <tr>\n",
       "      <th>2017</th>\n",
       "      <td>418.0</td>\n",
       "      <td>535.7</td>\n",
       "      <td>214.8</td>\n",
       "      <td>422.2</td>\n",
       "      <td>365.6</td>\n",
       "      <td>479.2</td>\n",
       "      <td>894.5</td>\n",
       "      <td>NaN</td>\n",
       "      <td>318.3</td>\n",
       "      <td>390.5</td>\n",
       "      <td>...</td>\n",
       "      <td>290.5</td>\n",
       "      <td>391.8</td>\n",
       "      <td>221.6</td>\n",
       "      <td>586.7</td>\n",
       "      <td>323.8</td>\n",
       "      <td>420.7</td>\n",
       "      <td>467.0</td>\n",
       "      <td>268.3</td>\n",
       "      <td>576.4</td>\n",
       "      <td>797.5</td>\n",
       "    </tr>\n",
       "  </tbody>\n",
       "</table>\n",
       "<p>4 rows × 41 columns</p>\n",
       "</div>"
      ]
     },
     "execution_count": 57,
     "metadata": {},
     "output_type": "execute_result"
    }
   ],
   "execution_count": 57
  }
 ]
}
