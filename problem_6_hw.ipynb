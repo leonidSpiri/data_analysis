{
 "nbformat": 4,
 "nbformat_minor": 0,
 "metadata": {
  "colab": {
   "provenance": []
  },
  "kernelspec": {
   "name": "python3",
   "language": "python",
   "display_name": "Python 3 (ipykernel)"
  },
  "language_info": {
   "name": "python"
  }
 },
 "cells": [
  {
   "cell_type": "markdown",
   "source": [
    "# Классная работа 6"
   ],
   "metadata": {
    "id": "UpZB2p9QxfgL"
   }
  },
  {
   "cell_type": "markdown",
   "source": [
    "## Раздел 1\n",
    "\n",
    "Пункты 1-2"
   ],
   "metadata": {
    "id": "_2R1KMRhQwp8"
   }
  },
  {
   "cell_type": "code",
   "execution_count": 18,
   "metadata": {
    "colab": {
     "base_uri": "https://localhost:8080/",
     "height": 206
    },
    "id": "IEWxusOEQdzL",
    "outputId": "5bdd0950-1131-4f3a-cd93-9f69aff3273c",
    "ExecuteTime": {
     "end_time": "2023-12-01T07:21:35.897982Z",
     "start_time": "2023-12-01T07:21:35.669271Z"
    }
   },
   "outputs": [
    {
     "data": {
      "text/plain": "   preg  plas  pres  skin  test  mass   pedi  age  class\n0     6   148    72    35     0  33.6  0.627   50      1\n1     1    85    66    29     0  26.6  0.351   31      0\n2     8   183    64     0     0  23.3  0.672   32      1\n3     1    89    66    23    94  28.1  0.167   21      0\n4     0   137    40    35   168  43.1  2.288   33      1",
      "text/html": "<div>\n<style scoped>\n    .dataframe tbody tr th:only-of-type {\n        vertical-align: middle;\n    }\n\n    .dataframe tbody tr th {\n        vertical-align: top;\n    }\n\n    .dataframe thead th {\n        text-align: right;\n    }\n</style>\n<table border=\"1\" class=\"dataframe\">\n  <thead>\n    <tr style=\"text-align: right;\">\n      <th></th>\n      <th>preg</th>\n      <th>plas</th>\n      <th>pres</th>\n      <th>skin</th>\n      <th>test</th>\n      <th>mass</th>\n      <th>pedi</th>\n      <th>age</th>\n      <th>class</th>\n    </tr>\n  </thead>\n  <tbody>\n    <tr>\n      <th>0</th>\n      <td>6</td>\n      <td>148</td>\n      <td>72</td>\n      <td>35</td>\n      <td>0</td>\n      <td>33.6</td>\n      <td>0.627</td>\n      <td>50</td>\n      <td>1</td>\n    </tr>\n    <tr>\n      <th>1</th>\n      <td>1</td>\n      <td>85</td>\n      <td>66</td>\n      <td>29</td>\n      <td>0</td>\n      <td>26.6</td>\n      <td>0.351</td>\n      <td>31</td>\n      <td>0</td>\n    </tr>\n    <tr>\n      <th>2</th>\n      <td>8</td>\n      <td>183</td>\n      <td>64</td>\n      <td>0</td>\n      <td>0</td>\n      <td>23.3</td>\n      <td>0.672</td>\n      <td>32</td>\n      <td>1</td>\n    </tr>\n    <tr>\n      <th>3</th>\n      <td>1</td>\n      <td>89</td>\n      <td>66</td>\n      <td>23</td>\n      <td>94</td>\n      <td>28.1</td>\n      <td>0.167</td>\n      <td>21</td>\n      <td>0</td>\n    </tr>\n    <tr>\n      <th>4</th>\n      <td>0</td>\n      <td>137</td>\n      <td>40</td>\n      <td>35</td>\n      <td>168</td>\n      <td>43.1</td>\n      <td>2.288</td>\n      <td>33</td>\n      <td>1</td>\n    </tr>\n  </tbody>\n</table>\n</div>"
     },
     "execution_count": 18,
     "metadata": {},
     "output_type": "execute_result"
    }
   ],
   "source": [
    "import pandas as pd\n",
    "import sklearn.model_selection as skms\n",
    "import sklearn.linear_model as sklm\n",
    "import sklearn.metrics as skmt\n",
    "filename = 'data/pima-indians-diabetes.data.csv'\n",
    "names = ['preg', 'plas', 'pres', 'skin', 'test', 'mass', 'pedi', 'age', 'class']\n",
    "data = pd.read_csv(filename, names = names)\n",
    "data.head()"
   ]
  },
  {
   "cell_type": "markdown",
   "source": [
    "Пункты 3-4"
   ],
   "metadata": {
    "id": "sp6KBhBNSbQn"
   }
  },
  {
   "cell_type": "code",
   "source": [
    "array = data.values\n",
    "x = array[:, :-1]\n",
    "y = array[:, -1]"
   ],
   "metadata": {
    "id": "NmJf5yrUSeZH",
    "ExecuteTime": {
     "end_time": "2023-12-01T07:21:35.901550Z",
     "start_time": "2023-12-01T07:21:35.686890Z"
    }
   },
   "execution_count": 19,
   "outputs": []
  },
  {
   "cell_type": "markdown",
   "source": [
    "X - признаки, предположительно влияющие на статус диабета\n",
    "\n",
    "Y - статус диабета"
   ],
   "metadata": {
    "id": "l_d6T9GuThAU"
   }
  },
  {
   "cell_type": "markdown",
   "source": [
    "Пункты 5-8"
   ],
   "metadata": {
    "id": "Bs0NrHMxTlgy"
   }
  },
  {
   "cell_type": "code",
   "source": [
    "test_size = 0.33\n",
    "random_state = 7\n",
    "x_train, x_test, y_train, y_test = skms.train_test_split(x, y, test_size=test_size, random_state=random_state)\n",
    "model1 = sklm.LogisticRegression(solver='liblinear')\n",
    "model1.fit(x_train, y_train)\n",
    "result_sc = model1.score(x_test, y_test)\n",
    "print(result_sc)"
   ],
   "metadata": {
    "colab": {
     "base_uri": "https://localhost:8080/"
    },
    "id": "LrLNFw4fTp8Q",
    "outputId": "a1365227-ccb8-4b77-cc92-d62b62589e1c",
    "ExecuteTime": {
     "end_time": "2023-12-01T07:21:35.923916Z",
     "start_time": "2023-12-01T07:21:35.694931Z"
    }
   },
   "execution_count": 20,
   "outputs": [
    {
     "name": "stdout",
     "output_type": "stream",
     "text": [
      "0.7559055118110236\n"
     ]
    }
   ]
  },
  {
   "cell_type": "markdown",
   "source": [
    "Пункты 9-11"
   ],
   "metadata": {
    "id": "4wsiJ7gWWEoJ"
   }
  },
  {
   "cell_type": "code",
   "source": [
    "n_splits = 10\n",
    "random_state = 7\n",
    "kfold = skms.KFold(n_splits= n_splits, random_state = random_state, shuffle=True)\n",
    "result_cv = skms.cross_val_score(model1, x, y, cv=kfold)\n",
    "print(result_cv.mean(), result_cv.std())"
   ],
   "metadata": {
    "colab": {
     "base_uri": "https://localhost:8080/"
    },
    "id": "dAMi3t4NWH9w",
    "outputId": "1e571c22-ed8a-4a6b-fb47-9f998d9ece6b",
    "ExecuteTime": {
     "end_time": "2023-12-01T07:21:35.974231Z",
     "start_time": "2023-12-01T07:21:35.711221Z"
    }
   },
   "execution_count": 21,
   "outputs": [
    {
     "name": "stdout",
     "output_type": "stream",
     "text": [
      "0.7708646616541353 0.05090500786917546\n"
     ]
    }
   ]
  },
  {
   "cell_type": "markdown",
   "source": [
    "Пункты 12-14"
   ],
   "metadata": {
    "id": "j74da5eTXmae"
   }
  },
  {
   "cell_type": "code",
   "source": [
    "loocv = skms.LeaveOneOut()\n",
    "result_cv2 = skms.cross_val_score(model1, x, y, cv=loocv)\n",
    "print(result_cv2.mean(), result_cv2.std())"
   ],
   "metadata": {
    "colab": {
     "base_uri": "https://localhost:8080/"
    },
    "id": "P7ssDIT9Xrcn",
    "outputId": "0212693c-a967-45d0-9de4-e9b64fa09795",
    "ExecuteTime": {
     "end_time": "2023-12-01T07:21:40.307813Z",
     "start_time": "2023-12-01T07:21:35.775191Z"
    }
   },
   "execution_count": 22,
   "outputs": [
    {
     "name": "stdout",
     "output_type": "stream",
     "text": [
      "0.7682291666666666 0.42196340380334596\n"
     ]
    }
   ]
  },
  {
   "cell_type": "markdown",
   "source": [
    "Пункты 15-17"
   ],
   "metadata": {
    "id": "j4omOtHyYJZg"
   }
  },
  {
   "cell_type": "code",
   "source": [
    "kfold3 = skms.ShuffleSplit(n_splits = 10, test_size = 0.33, random_state = 7)\n",
    "result_cv3 = skms.cross_val_score(model1, x, y, cv=kfold)\n",
    "print(result_cv3.mean(), result_cv3.std())"
   ],
   "metadata": {
    "colab": {
     "base_uri": "https://localhost:8080/"
    },
    "id": "jbfMOTM0YNQq",
    "outputId": "1a8336a4-8b95-4f2c-c326-155b3e41fdfc",
    "ExecuteTime": {
     "end_time": "2023-12-01T07:21:40.377500Z",
     "start_time": "2023-12-01T07:21:40.302452Z"
    }
   },
   "execution_count": 23,
   "outputs": [
    {
     "name": "stdout",
     "output_type": "stream",
     "text": [
      "0.7708646616541353 0.05090500786917546\n"
     ]
    }
   ]
  },
  {
   "cell_type": "markdown",
   "source": [
    "## Раздел 2\n",
    "\n",
    "Пункты 18-20"
   ],
   "metadata": {
    "id": "iYFZeQ9rZC9W"
   }
  },
  {
   "cell_type": "code",
   "source": [
    "kfold4 = skms.KFold(n_splits = 10, random_state = 7, shuffle=True)\n",
    "result_cv4 = skms.cross_val_score(model1, x, y, cv=kfold4, scoring='accuracy')\n",
    "print(result_cv4.mean(), result_cv4.std())"
   ],
   "metadata": {
    "colab": {
     "base_uri": "https://localhost:8080/"
    },
    "id": "n4ws1MJzZE_S",
    "outputId": "66c1645e-14b0-43f5-ae74-0f89006de697",
    "ExecuteTime": {
     "end_time": "2023-12-01T07:21:40.459637Z",
     "start_time": "2023-12-01T07:21:40.377133Z"
    }
   },
   "execution_count": 24,
   "outputs": [
    {
     "name": "stdout",
     "output_type": "stream",
     "text": [
      "0.7708646616541353 0.05090500786917546\n"
     ]
    }
   ]
  },
  {
   "cell_type": "markdown",
   "source": [
    "Пункты 21-22"
   ],
   "metadata": {
    "id": "quIXIET4dHuI"
   }
  },
  {
   "cell_type": "code",
   "source": [
    "result_cv5 = skms.cross_val_score(model1, x, y, cv=kfold4, scoring='neg_log_loss')\n",
    "print(-result_cv5.mean(), result_cv5.std())"
   ],
   "metadata": {
    "colab": {
     "base_uri": "https://localhost:8080/"
    },
    "id": "yazuwxiYcvTU",
    "outputId": "969a29f6-b997-4b6a-c97c-9bb77d62acc6",
    "ExecuteTime": {
     "end_time": "2023-12-01T07:21:40.559287Z",
     "start_time": "2023-12-01T07:21:40.451281Z"
    }
   },
   "execution_count": 25,
   "outputs": [
    {
     "name": "stdout",
     "output_type": "stream",
     "text": [
      "0.49356405689112515 0.04206587818993993\n"
     ]
    }
   ]
  },
  {
   "cell_type": "markdown",
   "source": [
    "Пункты 23-24"
   ],
   "metadata": {
    "id": "fThg5NNpdLvq"
   }
  },
  {
   "cell_type": "code",
   "source": [
    "result_cv6 = skms.cross_val_score(model1, x, y, cv=kfold4, scoring='roc_auc')\n",
    "print(result_cv6.mean(), result_cv6.std())"
   ],
   "metadata": {
    "colab": {
     "base_uri": "https://localhost:8080/"
    },
    "id": "8zVouHJRdPUD",
    "outputId": "eace57c4-2742-4390-c540-08de6579ba22",
    "ExecuteTime": {
     "end_time": "2023-12-01T07:21:40.675505Z",
     "start_time": "2023-12-01T07:21:40.556670Z"
    }
   },
   "execution_count": 26,
   "outputs": [
    {
     "name": "stdout",
     "output_type": "stream",
     "text": [
      "0.8257627921677674 0.05005520303752424\n"
     ]
    }
   ]
  },
  {
   "cell_type": "markdown",
   "source": [
    "Пункт 25-27"
   ],
   "metadata": {
    "id": "PTW3IEfvdlRw"
   }
  },
  {
   "cell_type": "code",
   "source": [
    "predicted = model1.predict(x_test)\n",
    "confusion_m = skmt.confusion_matrix(y_test, predicted)\n",
    "print(confusion_m)"
   ],
   "metadata": {
    "colab": {
     "base_uri": "https://localhost:8080/"
    },
    "id": "YaApzdKcdnkG",
    "outputId": "caf9e6ec-a971-4c1b-ed4e-b6107a9f0a5e",
    "ExecuteTime": {
     "end_time": "2023-12-01T07:21:40.680784Z",
     "start_time": "2023-12-01T07:21:40.666169Z"
    }
   },
   "execution_count": 27,
   "outputs": [
    {
     "name": "stdout",
     "output_type": "stream",
     "text": [
      "[[141  21]\n",
      " [ 41  51]]\n"
     ]
    }
   ]
  },
  {
   "cell_type": "markdown",
   "source": [
    "Результативный признак class имеет два значения: 1 и 0.\n",
    "\n",
    "[141 21] - корректно определенные значения для класса 1 и 0 соответственно\n",
    "\n",
    "[41 51] - некорректно определенные значения для класса 1 и 0 соответственно"
   ],
   "metadata": {
    "id": "lSxpKma2erZ6"
   }
  },
  {
   "cell_type": "markdown",
   "source": [
    "Пункты 28-29"
   ],
   "metadata": {
    "id": "v3tWbWZaeuo_"
   }
  },
  {
   "cell_type": "code",
   "source": [
    "report = skmt.classification_report(y_test, predicted)\n",
    "print(report)"
   ],
   "metadata": {
    "colab": {
     "base_uri": "https://localhost:8080/"
    },
    "id": "T7iWSVONew3L",
    "outputId": "e7b87d06-723b-4b12-d8f0-4f51877d84c8",
    "ExecuteTime": {
     "end_time": "2023-12-01T07:21:40.801629Z",
     "start_time": "2023-12-01T07:21:40.686554Z"
    }
   },
   "execution_count": 28,
   "outputs": [
    {
     "name": "stdout",
     "output_type": "stream",
     "text": [
      "              precision    recall  f1-score   support\n",
      "\n",
      "         0.0       0.77      0.87      0.82       162\n",
      "         1.0       0.71      0.55      0.62        92\n",
      "\n",
      "    accuracy                           0.76       254\n",
      "   macro avg       0.74      0.71      0.72       254\n",
      "weighted avg       0.75      0.76      0.75       254\n"
     ]
    }
   ]
  },
  {
   "cell_type": "markdown",
   "source": [
    "В результате получем числовые значения следующих параметров:\n",
    "\n",
    "precision - отношение true positive предположений и общего числа positive предположений\n",
    "\n",
    "recall - отношение всех корректных positive предположений и общего числа реальных positive\n",
    "\n",
    "f1-score - сбалансированное среднее precision и recall\n",
    "\n",
    "support - кол-во появлений класса в датасете\n",
    "\n",
    "accuracy - общая точность предположений\n"
   ],
   "metadata": {
    "id": "rYDT4kaafToj"
   }
  },
  {
   "cell_type": "markdown",
   "source": [
    "## Раздел 3\n",
    "\n",
    "Пункт 30"
   ],
   "metadata": {
    "id": "uEVRCKodfWTt"
   }
  },
  {
   "cell_type": "code",
   "source": [
    "filename = \"data/housing.csv\"\n",
    "names = ['CRIM', 'ZN', 'INDUS', 'CHAS', 'NOX', 'RM', 'AGE', 'DIS', 'RAD', 'TAX', 'PTRATIO','B', 'LSTAT', 'MEDV']\n",
    "data2 = pd.read_csv(filename, delim_whitespace=True, names=names)\n",
    "data2.head()"
   ],
   "metadata": {
    "colab": {
     "base_uri": "https://localhost:8080/",
     "height": 226
    },
    "id": "jcTf6llwfVmU",
    "outputId": "1a5d0a6f-9d12-4157-f25f-a2a75147d088",
    "ExecuteTime": {
     "end_time": "2023-12-01T07:21:40.803530Z",
     "start_time": "2023-12-01T07:21:40.718977Z"
    }
   },
   "execution_count": 29,
   "outputs": [
    {
     "data": {
      "text/plain": "      CRIM    ZN  INDUS  CHAS    NOX     RM   AGE     DIS  RAD    TAX  \\\n0  0.00632  18.0   2.31     0  0.538  6.575  65.2  4.0900    1  296.0   \n1  0.02731   0.0   7.07     0  0.469  6.421  78.9  4.9671    2  242.0   \n2  0.02729   0.0   7.07     0  0.469  7.185  61.1  4.9671    2  242.0   \n3  0.03237   0.0   2.18     0  0.458  6.998  45.8  6.0622    3  222.0   \n4  0.06905   0.0   2.18     0  0.458  7.147  54.2  6.0622    3  222.0   \n\n   PTRATIO       B  LSTAT  MEDV  \n0     15.3  396.90   4.98  24.0  \n1     17.8  396.90   9.14  21.6  \n2     17.8  392.83   4.03  34.7  \n3     18.7  394.63   2.94  33.4  \n4     18.7  396.90   5.33  36.2  ",
      "text/html": "<div>\n<style scoped>\n    .dataframe tbody tr th:only-of-type {\n        vertical-align: middle;\n    }\n\n    .dataframe tbody tr th {\n        vertical-align: top;\n    }\n\n    .dataframe thead th {\n        text-align: right;\n    }\n</style>\n<table border=\"1\" class=\"dataframe\">\n  <thead>\n    <tr style=\"text-align: right;\">\n      <th></th>\n      <th>CRIM</th>\n      <th>ZN</th>\n      <th>INDUS</th>\n      <th>CHAS</th>\n      <th>NOX</th>\n      <th>RM</th>\n      <th>AGE</th>\n      <th>DIS</th>\n      <th>RAD</th>\n      <th>TAX</th>\n      <th>PTRATIO</th>\n      <th>B</th>\n      <th>LSTAT</th>\n      <th>MEDV</th>\n    </tr>\n  </thead>\n  <tbody>\n    <tr>\n      <th>0</th>\n      <td>0.00632</td>\n      <td>18.0</td>\n      <td>2.31</td>\n      <td>0</td>\n      <td>0.538</td>\n      <td>6.575</td>\n      <td>65.2</td>\n      <td>4.0900</td>\n      <td>1</td>\n      <td>296.0</td>\n      <td>15.3</td>\n      <td>396.90</td>\n      <td>4.98</td>\n      <td>24.0</td>\n    </tr>\n    <tr>\n      <th>1</th>\n      <td>0.02731</td>\n      <td>0.0</td>\n      <td>7.07</td>\n      <td>0</td>\n      <td>0.469</td>\n      <td>6.421</td>\n      <td>78.9</td>\n      <td>4.9671</td>\n      <td>2</td>\n      <td>242.0</td>\n      <td>17.8</td>\n      <td>396.90</td>\n      <td>9.14</td>\n      <td>21.6</td>\n    </tr>\n    <tr>\n      <th>2</th>\n      <td>0.02729</td>\n      <td>0.0</td>\n      <td>7.07</td>\n      <td>0</td>\n      <td>0.469</td>\n      <td>7.185</td>\n      <td>61.1</td>\n      <td>4.9671</td>\n      <td>2</td>\n      <td>242.0</td>\n      <td>17.8</td>\n      <td>392.83</td>\n      <td>4.03</td>\n      <td>34.7</td>\n    </tr>\n    <tr>\n      <th>3</th>\n      <td>0.03237</td>\n      <td>0.0</td>\n      <td>2.18</td>\n      <td>0</td>\n      <td>0.458</td>\n      <td>6.998</td>\n      <td>45.8</td>\n      <td>6.0622</td>\n      <td>3</td>\n      <td>222.0</td>\n      <td>18.7</td>\n      <td>394.63</td>\n      <td>2.94</td>\n      <td>33.4</td>\n    </tr>\n    <tr>\n      <th>4</th>\n      <td>0.06905</td>\n      <td>0.0</td>\n      <td>2.18</td>\n      <td>0</td>\n      <td>0.458</td>\n      <td>7.147</td>\n      <td>54.2</td>\n      <td>6.0622</td>\n      <td>3</td>\n      <td>222.0</td>\n      <td>18.7</td>\n      <td>396.90</td>\n      <td>5.33</td>\n      <td>36.2</td>\n    </tr>\n  </tbody>\n</table>\n</div>"
     },
     "execution_count": 29,
     "metadata": {},
     "output_type": "execute_result"
    }
   ]
  },
  {
   "cell_type": "markdown",
   "source": [
    "Пункты 31-32"
   ],
   "metadata": {
    "id": "ssb4NMMFfwVR"
   }
  },
  {
   "cell_type": "code",
   "source": [
    "array2 = data2.values\n",
    "x2 = array[:, :-1]\n",
    "y2 = array[:, -1]"
   ],
   "metadata": {
    "id": "nQ2ivZjBfsT9",
    "ExecuteTime": {
     "end_time": "2023-12-01T07:21:40.804323Z",
     "start_time": "2023-12-01T07:21:40.760438Z"
    }
   },
   "execution_count": 30,
   "outputs": []
  },
  {
   "cell_type": "markdown",
   "source": [
    "X - признаки, предположительно влияющие на среднюю стоимость недвижимости в Бостоне\n",
    "\n",
    "Y - стоимость недвижимости в Бостоне"
   ],
   "metadata": {
    "id": "hTs1AHxXqN-_"
   }
  },
  {
   "cell_type": "markdown",
   "source": [
    "Пункты 33-35"
   ],
   "metadata": {
    "id": "jpXtPti_qQBM"
   }
  },
  {
   "cell_type": "code",
   "source": [
    "model2 = sklm.LinearRegression()\n",
    "kfold2 = skms.KFold(n_splits = 10, random_state = 7, shuffle=True)\n",
    "result2_cv = skms.cross_val_score(model2, x2, y2, cv=kfold2, scoring='neg_mean_absolute_error')\n",
    "print(-result2_cv.mean(), result2_cv.std())"
   ],
   "metadata": {
    "colab": {
     "base_uri": "https://localhost:8080/"
    },
    "id": "yzEtuZRPtDTY",
    "outputId": "ea55a901-5e56-4695-ad2f-ccec5ce5b2d1",
    "ExecuteTime": {
     "end_time": "2023-12-01T07:21:40.889295Z",
     "start_time": "2023-12-01T07:21:40.771026Z"
    }
   },
   "execution_count": 31,
   "outputs": [
    {
     "name": "stdout",
     "output_type": "stream",
     "text": [
      "0.3368404421024537 0.019780732404569353\n"
     ]
    }
   ]
  },
  {
   "cell_type": "markdown",
   "source": [
    "MAE измеряет разницу между предположенными и реальными значениями. Чем ниже MAE, тем лучше. В данном примере оно составляет ~0.34 тыс. долл., т.е. 340 долл.\n",
    "\n",
    "Второе значение - разброс. Чем ниже, тем выше постоянство модели.\n",
    "\n",
    "Можно заключить, что кросс-валидация подтвердила эффективность работы модели: значение MAE и его разброс довольно низки."
   ],
   "metadata": {
    "id": "88MP6PeevkZu"
   }
  },
  {
   "cell_type": "markdown",
   "source": [
    "Пункты 36-37"
   ],
   "metadata": {
    "id": "_l1kkznwvnPG"
   }
  },
  {
   "cell_type": "code",
   "source": [
    "result2_cv2 = skms.cross_val_score(model2, x2, y2, cv=kfold2, scoring='neg_mean_squared_error')\n",
    "print(-result2_cv2.mean(), result2_cv2.std())"
   ],
   "metadata": {
    "colab": {
     "base_uri": "https://localhost:8080/"
    },
    "id": "CnGXj78Gvy9V",
    "outputId": "222ec4ac-42ea-4bfb-a92d-582d8ad89e59",
    "ExecuteTime": {
     "end_time": "2023-12-01T07:21:40.961807Z",
     "start_time": "2023-12-01T07:21:40.819619Z"
    }
   },
   "execution_count": 32,
   "outputs": [
    {
     "name": "stdout",
     "output_type": "stream",
     "text": [
      "0.16320738575907065 0.020251428034588133\n"
     ]
    }
   ]
  },
  {
   "cell_type": "markdown",
   "source": [
    "MSE так же рассчитывает разницу между предположенными и реальными значениями, но расчет метрики проводится по-другому. Значение будет представлено в у. ед. в квадрате, для нас - тыс. долл. в квадрате."
   ],
   "metadata": {
    "id": "H_y7KGWSwI5f"
   }
  },
  {
   "cell_type": "markdown",
   "source": [
    "Пункты 38-39"
   ],
   "metadata": {
    "id": "ltFJc7T1vxsW"
   }
  },
  {
   "cell_type": "code",
   "source": [
    "result2_cv3 = skms.cross_val_score(model2, x2, y2, cv=kfold2, scoring='r2')\n",
    "print(result2_cv3.mean(), result2_cv3.std())"
   ],
   "metadata": {
    "colab": {
     "base_uri": "https://localhost:8080/"
    },
    "id": "xbAB7OBawKE5",
    "outputId": "e34b22cb-630a-4fda-c144-ea1be3cedac8",
    "ExecuteTime": {
     "end_time": "2023-12-01T07:21:40.965619Z",
     "start_time": "2023-12-01T07:21:40.854287Z"
    }
   },
   "execution_count": 33,
   "outputs": [
    {
     "name": "stdout",
     "output_type": "stream",
     "text": [
      "0.26432881386388385 0.10236184260132886\n"
     ]
    }
   ]
  },
  {
   "cell_type": "markdown",
   "source": [
    "R^2 показывает, насколько регрессионная модель подходит под датасет.\n",
    "\n",
    "1 - полностью подходит\n",
    "0 - не подходит\n",
    "\n",
    "В отличие от предыдуших кросс-валидаций данная показала более пессемистичный результат."
   ],
   "metadata": {
    "id": "JMO1HiM4wmaQ"
   }
  }
 ]
}
