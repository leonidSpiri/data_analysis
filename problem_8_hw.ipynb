{
 "nbformat": 4,
 "nbformat_minor": 0,
 "metadata": {
  "colab": {
   "provenance": [
    {
     "file_id": "1yCiF-NrweaC1BOG6MA9K7end-wCEyd96",
     "timestamp": 1702645132292
    },
    {
     "file_id": "1O-hJuicdJTiKUrIO9ucXBIpDZB2S9xXD",
     "timestamp": 1699968008993
    }
   ]
  },
  "kernelspec": {
   "name": "python3",
   "language": "python",
   "display_name": "Python 3 (ipykernel)"
  },
  "language_info": {
   "name": "python"
  }
 },
 "cells": [
  {
   "cell_type": "code",
   "execution_count": 74,
   "metadata": {
    "id": "6qzWuqT5mwq_",
    "ExecuteTime": {
     "end_time": "2023-12-21T12:44:29.202785Z",
     "start_time": "2023-12-21T12:44:28.999486Z"
    }
   },
   "outputs": [],
   "source": [
    "import matplotlib.pyplot as plt\n",
    "import numpy as np\n",
    "import pandas as pd\n",
    "import sklearn.discriminant_analysis as sda\n",
    "import sklearn.linear_model as slm\n",
    "import sklearn.model_selection as sms\n",
    "import sklearn.svm as svm\n",
    "from numpy import set_printoptions\n",
    "from sklearn.naive_bayes import GaussianNB\n",
    "from sklearn.neighbors import KNeighborsClassifier\n",
    "from sklearn.tree import DecisionTreeClassifier"
   ]
  },
  {
   "cell_type": "code",
   "source": [
    "filename = 'data/pima-indians-diabetes.data.csv'\n",
    "names = ['preg', 'plas', 'pres', 'skin', 'test', 'mass', 'pedi', 'age', 'class']\n",
    "data = pd.read_csv(filename, names = names)\n",
    "data.head()\n",
    "pd.set_option('display.precision',3)\n",
    "print(data.head(10))\n",
    "set_printoptions(precision = 3)"
   ],
   "metadata": {
    "colab": {
     "base_uri": "https://localhost:8080/"
    },
    "id": "256Z0pXon1y0",
    "executionInfo": {
     "status": "ok",
     "timestamp": 1701369557403,
     "user_tz": -180,
     "elapsed": 471,
     "user": {
      "displayName": "Софья Тарасова",
      "userId": "10876662613223961281"
     }
    },
    "outputId": "3cbaf4df-06c7-43ae-9788-ef7b88c02e43",
    "ExecuteTime": {
     "end_time": "2023-12-21T12:44:29.256316Z",
     "start_time": "2023-12-21T12:44:29.208367Z"
    }
   },
   "execution_count": 75,
   "outputs": [
    {
     "name": "stdout",
     "output_type": "stream",
     "text": [
      "   preg  plas  pres  skin  test  mass   pedi  age  class\n",
      "0     6   148    72    35     0  33.6  0.627   50      1\n",
      "1     1    85    66    29     0  26.6  0.351   31      0\n",
      "2     8   183    64     0     0  23.3  0.672   32      1\n",
      "3     1    89    66    23    94  28.1  0.167   21      0\n",
      "4     0   137    40    35   168  43.1  2.288   33      1\n",
      "5     5   116    74     0     0  25.6  0.201   30      0\n",
      "6     3    78    50    32    88  31.0  0.248   26      1\n",
      "7    10   115     0     0     0  35.3  0.134   29      0\n",
      "8     2   197    70    45   543  30.5  0.158   53      1\n",
      "9     8   125    96     0     0   0.0  0.232   54      1\n"
     ]
    }
   ]
  },
  {
   "cell_type": "markdown",
   "source": [
    "3.\tСохраните в переменную array значения признаков, обратившись к атрибуту values."
   ],
   "metadata": {
    "id": "-5yXa92CLzfW"
   }
  },
  {
   "cell_type": "code",
   "source": [
    "array = data.values"
   ],
   "metadata": {
    "id": "E0BuiNVXwHcy",
    "ExecuteTime": {
     "end_time": "2023-12-21T12:44:29.279592Z",
     "start_time": "2023-12-21T12:44:29.222641Z"
    }
   },
   "execution_count": 76,
   "outputs": []
  },
  {
   "cell_type": "markdown",
   "source": [
    "4.\tВыделите в переменной array часть, которая относится к факторным признакам, назовите ее X, и часть, которая относится к результативному признаку, - Y. Прокомментируйте содержимое переменных X и Y."
   ],
   "metadata": {
    "id": "lTG4d-gwL7GG"
   }
  },
  {
   "cell_type": "code",
   "source": [
    "X = array[:, 1:]\n",
    "Y = array[:, 0]\n",
    "\n",
    "print(\"X:\", X.shape)\n",
    "print(\"Y:\", Y.shape)"
   ],
   "metadata": {
    "id": "FihywUyQn-wZ",
    "colab": {
     "base_uri": "https://localhost:8080/"
    },
    "executionInfo": {
     "status": "ok",
     "timestamp": 1701369562172,
     "user_tz": -180,
     "elapsed": 2,
     "user": {
      "displayName": "Софья Тарасова",
      "userId": "10876662613223961281"
     }
    },
    "outputId": "e2e04392-fc7c-4d90-f443-29a29a254743",
    "ExecuteTime": {
     "end_time": "2023-12-21T12:44:29.297190Z",
     "start_time": "2023-12-21T12:44:29.262329Z"
    }
   },
   "execution_count": 77,
   "outputs": [
    {
     "name": "stdout",
     "output_type": "stream",
     "text": [
      "X: (768, 8)\n",
      "Y: (768,)\n"
     ]
    }
   ]
  },
  {
   "cell_type": "markdown",
   "source": [
    "В качестве Y результативного фактора был выбран диагноз (1 столбец), а Х оставшиеся признаки в качестве факторныхх признаков"
   ],
   "metadata": {
    "id": "F5gSzbKxHghP"
   }
  },
  {
   "cell_type": "markdown",
   "source": [
    "5.\tСоздайте объект разбиения на фолды с помощью функции KFold(n_splits= n_splits, random_state = random_state, shuffle=True) из модуля sklearn.model_selection. Результат запишите в переменную kfold. На вход данной функции подайте следующую информацию: 1) количество частей, на которые должна разбиваться выборка (n_splits), - пусть 10; 2) счетчик случайных чисел (random_state) – пусть 7; 3) необходимость перемешивания данных выборки при каждой оценке, задав параметр shuffle=True.  "
   ],
   "metadata": {
    "id": "B8G4CabNPLKC"
   }
  },
  {
   "cell_type": "code",
   "source": [
    "kfold = sms.KFold(n_splits=10, random_state=7, shuffle=True)"
   ],
   "metadata": {
    "id": "qUWn90DGPAwz",
    "ExecuteTime": {
     "end_time": "2023-12-21T12:44:29.357421Z",
     "start_time": "2023-12-21T12:44:29.288768Z"
    }
   },
   "execution_count": 78,
   "outputs": []
  },
  {
   "cell_type": "markdown",
   "source": [
    "6.\tПостройте модель ближайшего соседа, воспользовавшись функцией KNeighborsClassifier() из модуля sklearn.neighbors. Результат запишите в переменную model. По умолчанию k принимается равным 5. Вы можете изменить настройки, задав другое значение параметра n_neighbors. Параметр weights отвечает за веса наблюдений. По умолчанию они одинаковые, взяты из равномерного распределения. Соответственно, вероятность каждого наблюдения равна 1/n, где n – число наблюдений"
   ],
   "metadata": {
    "id": "Sz6p532XMFmr"
   }
  },
  {
   "cell_type": "code",
   "source": [
    "model = KNeighborsClassifier(n_neighbors=5, weights=\"uniform\")"
   ],
   "metadata": {
    "id": "tyGjg80Jo_Ra",
    "ExecuteTime": {
     "end_time": "2023-12-21T12:44:29.377598Z",
     "start_time": "2023-12-21T12:44:29.315901Z"
    }
   },
   "execution_count": 79,
   "outputs": []
  },
  {
   "cell_type": "markdown",
   "source": [
    "7.\tПроведите кросс-валидацию, воспользовавшись функцией cross_val_score(model, X, Y, cv=kfold) из модуля sklearn.model_selection. Результат запишите в переменную results."
   ],
   "metadata": {
    "id": "8_TzUxzPdtt-"
   }
  },
  {
   "cell_type": "code",
   "source": [
    "results = sms.cross_val_score(model, X, Y, cv=kfold)"
   ],
   "metadata": {
    "id": "X2-u9I9CdrV4",
    "ExecuteTime": {
     "end_time": "2023-12-21T12:44:29.495524Z",
     "start_time": "2023-12-21T12:44:29.383881Z"
    }
   },
   "execution_count": 80,
   "outputs": []
  },
  {
   "cell_type": "markdown",
   "source": [
    "Выведите на экран среднюю долю правильных ответов (accuracy) и стандартное отклонение полученных оценок, воспользовавшись функциями mean() и std() соответственно"
   ],
   "metadata": {
    "id": "qWZIvqdRMHn6"
   }
  },
  {
   "cell_type": "code",
   "source": [
    "print (\"Среднее\", np.mean(results))\n",
    "print (\"Стандартное отклоение\", np.std(results))"
   ],
   "metadata": {
    "colab": {
     "base_uri": "https://localhost:8080/"
    },
    "id": "rtyWXx0QPok6",
    "executionInfo": {
     "status": "ok",
     "timestamp": 1701369961912,
     "user_tz": -180,
     "elapsed": 578,
     "user": {
      "displayName": "Софья Тарасова",
      "userId": "10876662613223961281"
     }
    },
    "outputId": "11829c08-0437-4e5b-9b44-80fc73c78ebe",
    "ExecuteTime": {
     "end_time": "2023-12-21T12:44:29.509633Z",
     "start_time": "2023-12-21T12:44:29.476121Z"
    }
   },
   "execution_count": 81,
   "outputs": [
    {
     "name": "stdout",
     "output_type": "stream",
     "text": [
      "Среднее 0.16543062200956937\n",
      "Стандартное отклоение 0.034737569908633414\n"
     ]
    }
   ]
  },
  {
   "cell_type": "markdown",
   "source": [
    "9.\tОбучите модель на всех данных с помощью функции fit()."
   ],
   "metadata": {
    "id": "BugTUZDveDjH"
   }
  },
  {
   "cell_type": "code",
   "source": [
    "model.fit(X, Y)"
   ],
   "metadata": {
    "colab": {
     "base_uri": "https://localhost:8080/",
     "height": 74
    },
    "id": "j8P438W8Kjh4",
    "executionInfo": {
     "status": "ok",
     "timestamp": 1701369978473,
     "user_tz": -180,
     "elapsed": 412,
     "user": {
      "displayName": "Софья Тарасова",
      "userId": "10876662613223961281"
     }
    },
    "outputId": "04b9caf0-d3b7-4a1f-8338-7163806f38e3",
    "ExecuteTime": {
     "end_time": "2023-12-21T12:44:29.536020Z",
     "start_time": "2023-12-21T12:44:29.486103Z"
    }
   },
   "execution_count": 82,
   "outputs": [
    {
     "data": {
      "text/plain": "KNeighborsClassifier()",
      "text/html": "<style>#sk-container-id-8 {color: black;}#sk-container-id-8 pre{padding: 0;}#sk-container-id-8 div.sk-toggleable {background-color: white;}#sk-container-id-8 label.sk-toggleable__label {cursor: pointer;display: block;width: 100%;margin-bottom: 0;padding: 0.3em;box-sizing: border-box;text-align: center;}#sk-container-id-8 label.sk-toggleable__label-arrow:before {content: \"▸\";float: left;margin-right: 0.25em;color: #696969;}#sk-container-id-8 label.sk-toggleable__label-arrow:hover:before {color: black;}#sk-container-id-8 div.sk-estimator:hover label.sk-toggleable__label-arrow:before {color: black;}#sk-container-id-8 div.sk-toggleable__content {max-height: 0;max-width: 0;overflow: hidden;text-align: left;background-color: #f0f8ff;}#sk-container-id-8 div.sk-toggleable__content pre {margin: 0.2em;color: black;border-radius: 0.25em;background-color: #f0f8ff;}#sk-container-id-8 input.sk-toggleable__control:checked~div.sk-toggleable__content {max-height: 200px;max-width: 100%;overflow: auto;}#sk-container-id-8 input.sk-toggleable__control:checked~label.sk-toggleable__label-arrow:before {content: \"▾\";}#sk-container-id-8 div.sk-estimator input.sk-toggleable__control:checked~label.sk-toggleable__label {background-color: #d4ebff;}#sk-container-id-8 div.sk-label input.sk-toggleable__control:checked~label.sk-toggleable__label {background-color: #d4ebff;}#sk-container-id-8 input.sk-hidden--visually {border: 0;clip: rect(1px 1px 1px 1px);clip: rect(1px, 1px, 1px, 1px);height: 1px;margin: -1px;overflow: hidden;padding: 0;position: absolute;width: 1px;}#sk-container-id-8 div.sk-estimator {font-family: monospace;background-color: #f0f8ff;border: 1px dotted black;border-radius: 0.25em;box-sizing: border-box;margin-bottom: 0.5em;}#sk-container-id-8 div.sk-estimator:hover {background-color: #d4ebff;}#sk-container-id-8 div.sk-parallel-item::after {content: \"\";width: 100%;border-bottom: 1px solid gray;flex-grow: 1;}#sk-container-id-8 div.sk-label:hover label.sk-toggleable__label {background-color: #d4ebff;}#sk-container-id-8 div.sk-serial::before {content: \"\";position: absolute;border-left: 1px solid gray;box-sizing: border-box;top: 0;bottom: 0;left: 50%;z-index: 0;}#sk-container-id-8 div.sk-serial {display: flex;flex-direction: column;align-items: center;background-color: white;padding-right: 0.2em;padding-left: 0.2em;position: relative;}#sk-container-id-8 div.sk-item {position: relative;z-index: 1;}#sk-container-id-8 div.sk-parallel {display: flex;align-items: stretch;justify-content: center;background-color: white;position: relative;}#sk-container-id-8 div.sk-item::before, #sk-container-id-8 div.sk-parallel-item::before {content: \"\";position: absolute;border-left: 1px solid gray;box-sizing: border-box;top: 0;bottom: 0;left: 50%;z-index: -1;}#sk-container-id-8 div.sk-parallel-item {display: flex;flex-direction: column;z-index: 1;position: relative;background-color: white;}#sk-container-id-8 div.sk-parallel-item:first-child::after {align-self: flex-end;width: 50%;}#sk-container-id-8 div.sk-parallel-item:last-child::after {align-self: flex-start;width: 50%;}#sk-container-id-8 div.sk-parallel-item:only-child::after {width: 0;}#sk-container-id-8 div.sk-dashed-wrapped {border: 1px dashed gray;margin: 0 0.4em 0.5em 0.4em;box-sizing: border-box;padding-bottom: 0.4em;background-color: white;}#sk-container-id-8 div.sk-label label {font-family: monospace;font-weight: bold;display: inline-block;line-height: 1.2em;}#sk-container-id-8 div.sk-label-container {text-align: center;}#sk-container-id-8 div.sk-container {/* jupyter's `normalize.less` sets `[hidden] { display: none; }` but bootstrap.min.css set `[hidden] { display: none !important; }` so we also need the `!important` here to be able to override the default hidden behavior on the sphinx rendered scikit-learn.org. See: https://github.com/scikit-learn/scikit-learn/issues/21755 */display: inline-block !important;position: relative;}#sk-container-id-8 div.sk-text-repr-fallback {display: none;}</style><div id=\"sk-container-id-8\" class=\"sk-top-container\"><div class=\"sk-text-repr-fallback\"><pre>KNeighborsClassifier()</pre><b>In a Jupyter environment, please rerun this cell to show the HTML representation or trust the notebook. <br />On GitHub, the HTML representation is unable to render, please try loading this page with nbviewer.org.</b></div><div class=\"sk-container\" hidden><div class=\"sk-item\"><div class=\"sk-estimator sk-toggleable\"><input class=\"sk-toggleable__control sk-hidden--visually\" id=\"sk-estimator-id-8\" type=\"checkbox\" checked><label for=\"sk-estimator-id-8\" class=\"sk-toggleable__label sk-toggleable__label-arrow\">KNeighborsClassifier</label><div class=\"sk-toggleable__content\"><pre>KNeighborsClassifier()</pre></div></div></div></div></div>"
     },
     "execution_count": 82,
     "metadata": {},
     "output_type": "execute_result"
    }
   ]
  },
  {
   "cell_type": "markdown",
   "source": [
    "10.\tПроизвольно задайте значения факторных признаков для двух новых наблюдений. Поместите их в переменную x_new."
   ],
   "metadata": {
    "id": "YcPq8pjmeO4u"
   }
  },
  {
   "cell_type": "code",
   "source": [
    "x_new = np.array([[5, 16, 34, 34, 0.126, 0.012, 0.3, 0.123],\n",
    "                  [12, 2, 150, 363, 0.415, 0.321, 0.33, 0.28]])"
   ],
   "metadata": {
    "id": "hvq2lcqbgUJl",
    "ExecuteTime": {
     "end_time": "2023-12-21T12:44:29.620217Z",
     "start_time": "2023-12-21T12:44:29.499496Z"
    }
   },
   "execution_count": 83,
   "outputs": []
  },
  {
   "cell_type": "markdown",
   "source": [
    "По обученной модели дайте прогноз классов для новых наблюдений, воспользовавшись функцией predict()"
   ],
   "metadata": {
    "id": "bQb1-X21eO2A"
   }
  },
  {
   "cell_type": "code",
   "execution_count": 84,
   "outputs": [
    {
     "data": {
      "text/plain": "array([1., 2.])"
     },
     "execution_count": 84,
     "metadata": {},
     "output_type": "execute_result"
    }
   ],
   "source": [
    "model.predict(x_new)"
   ],
   "metadata": {
    "collapsed": false,
    "ExecuteTime": {
     "end_time": "2023-12-21T12:44:29.638111Z",
     "start_time": "2023-12-21T12:44:29.509011Z"
    }
   }
  },
  {
   "cell_type": "markdown",
   "source": [
    "12.\tПо обученной модели дайте прогноз вероятности классов для новых наблюдений, воспользовавшись функцией predict_proba()."
   ],
   "metadata": {
    "collapsed": false
   }
  },
  {
   "cell_type": "code",
   "source": [
    "model.predict_proba(x_new)"
   ],
   "metadata": {
    "colab": {
     "base_uri": "https://localhost:8080/"
    },
    "id": "n9nS5zvVhdWO",
    "executionInfo": {
     "status": "ok",
     "timestamp": 1701370046981,
     "user_tz": -180,
     "elapsed": 421,
     "user": {
      "displayName": "Софья Тарасова",
      "userId": "10876662613223961281"
     }
    },
    "outputId": "80d9247c-27d8-4ad9-f171-7d5c76065e17",
    "ExecuteTime": {
     "end_time": "2023-12-21T12:44:29.640246Z",
     "start_time": "2023-12-21T12:44:29.519620Z"
    }
   },
   "execution_count": 85,
   "outputs": [
    {
     "data": {
      "text/plain": "array([[0. , 0.6, 0.2, 0. , 0. , 0. , 0.2, 0. , 0. , 0. , 0. , 0. , 0. ,\n        0. , 0. , 0. , 0. ],\n       [0. , 0. , 0.4, 0. , 0. , 0.2, 0.2, 0. , 0. , 0.2, 0. , 0. , 0. ,\n        0. , 0. , 0. , 0. ]])"
     },
     "execution_count": 85,
     "metadata": {},
     "output_type": "execute_result"
    }
   ]
  },
  {
   "cell_type": "markdown",
   "source": [
    "13.\tОпираясь на п.22 задания 7, сделайте вывод о нормальности распределения факторных признаков и возможности применения гауссовской функции плотности распределения для оценки вероятностей в формуле наивного байесовского классификатора. Воспользуйтесь документацией метода для подбора подходящей функции, если это нужно. Прокомментируйте результат."
   ],
   "metadata": {
    "collapsed": false
   }
  },
  {
   "cell_type": "markdown",
   "source": [
    "14.\tПостройте модель наивного байесовского классификатора, воспользовавшись функцией GaussianNB() из модуля sklearn.naive_bayes. Результат запишите в переменную model. Можете воспользоваться другой функцией, исходя из ответа в п.13."
   ],
   "metadata": {
    "id": "ExHaxF1ZeOsY"
   }
  },
  {
   "cell_type": "code",
   "source": [
    "model_gauss = GaussianNB()"
   ],
   "metadata": {
    "id": "_gaONVXziB8b",
    "ExecuteTime": {
     "end_time": "2023-12-21T12:44:29.669332Z",
     "start_time": "2023-12-21T12:44:29.548517Z"
    }
   },
   "execution_count": 86,
   "outputs": []
  },
  {
   "cell_type": "markdown",
   "source": [
    "15.\tПроведите кросс-валидацию, воспользовавшись функцией cross_val_score(model, X, Y, cv=kfold) из модуля sklearn.model_selection. Результат запишите в переменную results.  "
   ],
   "metadata": {
    "id": "eZMfPbz5eOpl"
   }
  },
  {
   "cell_type": "code",
   "source": [
    "results_gauss = sms.cross_val_score(model_gauss, X, Y, cv=kfold)"
   ],
   "metadata": {
    "id": "L-VFiEW7iLgY",
    "ExecuteTime": {
     "end_time": "2023-12-21T12:44:29.745560Z",
     "start_time": "2023-12-21T12:44:29.659192Z"
    }
   },
   "execution_count": 87,
   "outputs": []
  },
  {
   "cell_type": "markdown",
   "source": [
    "16.\tВыведите на экран среднюю долю правильных ответов (accuracy) и стандартное отклонение полученных оценок, воспользовавшись функциями mean() и std() соответственно."
   ],
   "metadata": {
    "id": "FN7mqPxSeOmu"
   }
  },
  {
   "cell_type": "code",
   "source": [
    "print (\"Среднее\", np.mean(results_gauss))\n",
    "print (\"Стандартное отклоение\", np.std(results_gauss))"
   ],
   "metadata": {
    "colab": {
     "base_uri": "https://localhost:8080/"
    },
    "id": "xh_a9K8Ficgd",
    "executionInfo": {
     "status": "ok",
     "timestamp": 1701370458611,
     "user_tz": -180,
     "elapsed": 2,
     "user": {
      "displayName": "Софья Тарасова",
      "userId": "10876662613223961281"
     }
    },
    "outputId": "d29694a0-0524-4fa2-f5a2-6bf197114b04",
    "ExecuteTime": {
     "end_time": "2023-12-21T12:44:29.775030Z",
     "start_time": "2023-12-21T12:44:29.736280Z"
    }
   },
   "execution_count": 88,
   "outputs": [
    {
     "name": "stdout",
     "output_type": "stream",
     "text": [
      "Среднее 0.19143882433356119\n",
      "Стандартное отклоение 0.0292805816002982\n"
     ]
    }
   ]
  },
  {
   "cell_type": "markdown",
   "source": [
    "17.\tОбучите модель на всех данных с помощью функции fit()."
   ],
   "metadata": {
    "id": "oZ5HYSzheOVT"
   }
  },
  {
   "cell_type": "code",
   "source": [
    "model_gauss.fit(X, Y)"
   ],
   "metadata": {
    "colab": {
     "base_uri": "https://localhost:8080/",
     "height": 74
    },
    "id": "fu2c0TGfiea3",
    "executionInfo": {
     "status": "ok",
     "timestamp": 1701370476361,
     "user_tz": -180,
     "elapsed": 5,
     "user": {
      "displayName": "Софья Тарасова",
      "userId": "10876662613223961281"
     }
    },
    "outputId": "b66be91e-8554-43af-bf5b-db206bcd1ccf",
    "ExecuteTime": {
     "end_time": "2023-12-21T12:44:29.832013Z",
     "start_time": "2023-12-21T12:44:29.756047Z"
    }
   },
   "execution_count": 89,
   "outputs": [
    {
     "data": {
      "text/plain": "GaussianNB()",
      "text/html": "<style>#sk-container-id-9 {color: black;}#sk-container-id-9 pre{padding: 0;}#sk-container-id-9 div.sk-toggleable {background-color: white;}#sk-container-id-9 label.sk-toggleable__label {cursor: pointer;display: block;width: 100%;margin-bottom: 0;padding: 0.3em;box-sizing: border-box;text-align: center;}#sk-container-id-9 label.sk-toggleable__label-arrow:before {content: \"▸\";float: left;margin-right: 0.25em;color: #696969;}#sk-container-id-9 label.sk-toggleable__label-arrow:hover:before {color: black;}#sk-container-id-9 div.sk-estimator:hover label.sk-toggleable__label-arrow:before {color: black;}#sk-container-id-9 div.sk-toggleable__content {max-height: 0;max-width: 0;overflow: hidden;text-align: left;background-color: #f0f8ff;}#sk-container-id-9 div.sk-toggleable__content pre {margin: 0.2em;color: black;border-radius: 0.25em;background-color: #f0f8ff;}#sk-container-id-9 input.sk-toggleable__control:checked~div.sk-toggleable__content {max-height: 200px;max-width: 100%;overflow: auto;}#sk-container-id-9 input.sk-toggleable__control:checked~label.sk-toggleable__label-arrow:before {content: \"▾\";}#sk-container-id-9 div.sk-estimator input.sk-toggleable__control:checked~label.sk-toggleable__label {background-color: #d4ebff;}#sk-container-id-9 div.sk-label input.sk-toggleable__control:checked~label.sk-toggleable__label {background-color: #d4ebff;}#sk-container-id-9 input.sk-hidden--visually {border: 0;clip: rect(1px 1px 1px 1px);clip: rect(1px, 1px, 1px, 1px);height: 1px;margin: -1px;overflow: hidden;padding: 0;position: absolute;width: 1px;}#sk-container-id-9 div.sk-estimator {font-family: monospace;background-color: #f0f8ff;border: 1px dotted black;border-radius: 0.25em;box-sizing: border-box;margin-bottom: 0.5em;}#sk-container-id-9 div.sk-estimator:hover {background-color: #d4ebff;}#sk-container-id-9 div.sk-parallel-item::after {content: \"\";width: 100%;border-bottom: 1px solid gray;flex-grow: 1;}#sk-container-id-9 div.sk-label:hover label.sk-toggleable__label {background-color: #d4ebff;}#sk-container-id-9 div.sk-serial::before {content: \"\";position: absolute;border-left: 1px solid gray;box-sizing: border-box;top: 0;bottom: 0;left: 50%;z-index: 0;}#sk-container-id-9 div.sk-serial {display: flex;flex-direction: column;align-items: center;background-color: white;padding-right: 0.2em;padding-left: 0.2em;position: relative;}#sk-container-id-9 div.sk-item {position: relative;z-index: 1;}#sk-container-id-9 div.sk-parallel {display: flex;align-items: stretch;justify-content: center;background-color: white;position: relative;}#sk-container-id-9 div.sk-item::before, #sk-container-id-9 div.sk-parallel-item::before {content: \"\";position: absolute;border-left: 1px solid gray;box-sizing: border-box;top: 0;bottom: 0;left: 50%;z-index: -1;}#sk-container-id-9 div.sk-parallel-item {display: flex;flex-direction: column;z-index: 1;position: relative;background-color: white;}#sk-container-id-9 div.sk-parallel-item:first-child::after {align-self: flex-end;width: 50%;}#sk-container-id-9 div.sk-parallel-item:last-child::after {align-self: flex-start;width: 50%;}#sk-container-id-9 div.sk-parallel-item:only-child::after {width: 0;}#sk-container-id-9 div.sk-dashed-wrapped {border: 1px dashed gray;margin: 0 0.4em 0.5em 0.4em;box-sizing: border-box;padding-bottom: 0.4em;background-color: white;}#sk-container-id-9 div.sk-label label {font-family: monospace;font-weight: bold;display: inline-block;line-height: 1.2em;}#sk-container-id-9 div.sk-label-container {text-align: center;}#sk-container-id-9 div.sk-container {/* jupyter's `normalize.less` sets `[hidden] { display: none; }` but bootstrap.min.css set `[hidden] { display: none !important; }` so we also need the `!important` here to be able to override the default hidden behavior on the sphinx rendered scikit-learn.org. See: https://github.com/scikit-learn/scikit-learn/issues/21755 */display: inline-block !important;position: relative;}#sk-container-id-9 div.sk-text-repr-fallback {display: none;}</style><div id=\"sk-container-id-9\" class=\"sk-top-container\"><div class=\"sk-text-repr-fallback\"><pre>GaussianNB()</pre><b>In a Jupyter environment, please rerun this cell to show the HTML representation or trust the notebook. <br />On GitHub, the HTML representation is unable to render, please try loading this page with nbviewer.org.</b></div><div class=\"sk-container\" hidden><div class=\"sk-item\"><div class=\"sk-estimator sk-toggleable\"><input class=\"sk-toggleable__control sk-hidden--visually\" id=\"sk-estimator-id-9\" type=\"checkbox\" checked><label for=\"sk-estimator-id-9\" class=\"sk-toggleable__label sk-toggleable__label-arrow\">GaussianNB</label><div class=\"sk-toggleable__content\"><pre>GaussianNB()</pre></div></div></div></div></div>"
     },
     "execution_count": 89,
     "metadata": {},
     "output_type": "execute_result"
    }
   ]
  },
  {
   "cell_type": "markdown",
   "source": [
    "По обученной модели дайте прогноз классов для новых наблюдений, воспользовавшись функцией predict()."
   ],
   "metadata": {
    "id": "AWz27ArNefk0"
   }
  },
  {
   "cell_type": "code",
   "source": [
    "model_gauss.predict(x_new)"
   ],
   "metadata": {
    "colab": {
     "base_uri": "https://localhost:8080/"
    },
    "id": "Vj6-8KAHilF6",
    "executionInfo": {
     "status": "ok",
     "timestamp": 1701370507484,
     "user_tz": -180,
     "elapsed": 3,
     "user": {
      "displayName": "Софья Тарасова",
      "userId": "10876662613223961281"
     }
    },
    "outputId": "ccd21c07-8a91-4d30-ad90-0ed837537137",
    "ExecuteTime": {
     "end_time": "2023-12-21T12:44:29.851548Z",
     "start_time": "2023-12-21T12:44:29.794674Z"
    }
   },
   "execution_count": 90,
   "outputs": [
    {
     "data": {
      "text/plain": "array([0., 0.])"
     },
     "execution_count": 90,
     "metadata": {},
     "output_type": "execute_result"
    }
   ]
  },
  {
   "cell_type": "markdown",
   "source": [
    "По обученной модели дайте прогноз вероятности классов для новых наблюдений, воспользовавшись функцией predict_proba()."
   ],
   "metadata": {
    "id": "Xet6u6dYehvI"
   }
  },
  {
   "cell_type": "code",
   "source": [
    "model_gauss.predict_proba(x_new)"
   ],
   "metadata": {
    "colab": {
     "base_uri": "https://localhost:8080/"
    },
    "id": "ozLGGci0iz-D",
    "executionInfo": {
     "status": "ok",
     "timestamp": 1701370547497,
     "user_tz": -180,
     "elapsed": 419,
     "user": {
      "displayName": "Софья Тарасова",
      "userId": "10876662613223961281"
     }
    },
    "outputId": "38bed088-d45a-4908-8408-7d46de129ae4",
    "ExecuteTime": {
     "end_time": "2023-12-21T12:44:29.915535Z",
     "start_time": "2023-12-21T12:44:29.857443Z"
    }
   },
   "execution_count": 91,
   "outputs": [
    {
     "data": {
      "text/plain": "array([[8.996e-01, 1.269e-02, 5.941e-02, 2.913e-03, 1.938e-07, 2.068e-07,\n        2.529e-02, 4.237e-07, 7.260e-06, 2.761e-14, 7.039e-05, 7.426e-21,\n        4.233e-28, 3.103e-18, 0.000e+00, 0.000e+00, 0.000e+00],\n       [9.995e-01, 1.600e-08, 4.826e-04, 4.252e-10, 1.499e-12, 2.102e-12,\n        2.074e-05, 8.311e-08, 2.044e-06, 7.697e-20, 6.308e-10, 1.410e-22,\n        1.150e-37, 2.254e-24, 0.000e+00, 0.000e+00, 0.000e+00]])"
     },
     "execution_count": 91,
     "metadata": {},
     "output_type": "execute_result"
    }
   ]
  },
  {
   "cell_type": "markdown",
   "source": [
    "20.\tПостройте модель решающего дерева, воспользовавшись функцией DecisionTreeClassifier() из модуля sklearn.tree. Результат запишите в переменную model."
   ],
   "metadata": {
    "id": "0z49JgvvemeL"
   }
  },
  {
   "cell_type": "code",
   "source": [
    "model_tree = DecisionTreeClassifier()"
   ],
   "metadata": {
    "id": "hGuDaBfgi3UI",
    "ExecuteTime": {
     "end_time": "2023-12-21T12:44:29.962359Z",
     "start_time": "2023-12-21T12:44:29.917823Z"
    }
   },
   "execution_count": 92,
   "outputs": []
  },
  {
   "cell_type": "markdown",
   "source": [
    "21.\tПроведите кросс-валидацию, воспользовавшись функцией cross_val_score(model, X, Y, cv=kfold) из модуля sklearn.model_selection. Результат запишите в переменную results.  "
   ],
   "metadata": {
    "id": "Sprb9aFDemGK"
   }
  },
  {
   "cell_type": "code",
   "source": [
    "results_tree = sms.cross_val_score(model_tree, X, Y, cv=kfold)"
   ],
   "metadata": {
    "id": "chtwfEq9l7cx",
    "ExecuteTime": {
     "end_time": "2023-12-21T12:44:30.061785Z",
     "start_time": "2023-12-21T12:44:29.954734Z"
    }
   },
   "execution_count": 93,
   "outputs": []
  },
  {
   "cell_type": "markdown",
   "source": [
    "22.\tВыведите на экран среднюю долю правильных ответов (accuracy) и стандартное отклонение полученных оценок, воспользовавшись, соответственно, функциями mean() и std()."
   ],
   "metadata": {
    "id": "3C211Y3Tl6U9"
   }
  },
  {
   "cell_type": "code",
   "source": [
    "print (\"Среднее\", np.mean(results_tree))\n",
    "print (\"Стандартное отклоение\", np.std(results_tree))"
   ],
   "metadata": {
    "colab": {
     "base_uri": "https://localhost:8080/"
    },
    "id": "d-f_8u73l_1-",
    "executionInfo": {
     "status": "ok",
     "timestamp": 1701370850568,
     "user_tz": -180,
     "elapsed": 421,
     "user": {
      "displayName": "Софья Тарасова",
      "userId": "10876662613223961281"
     }
    },
    "outputId": "de13c9a9-fd9a-42f3-85a3-2f1e942bfd4f",
    "ExecuteTime": {
     "end_time": "2023-12-21T12:44:30.081238Z",
     "start_time": "2023-12-21T12:44:30.053757Z"
    }
   },
   "execution_count": 94,
   "outputs": [
    {
     "name": "stdout",
     "output_type": "stream",
     "text": [
      "Среднее 0.15746753246753248\n",
      "Стандартное отклоение 0.05226463783430922\n"
     ]
    }
   ]
  },
  {
   "cell_type": "markdown",
   "source": [
    "23.\tОбучите модель решающего дерева на всех данных, воспользовавшись функцией fit()."
   ],
   "metadata": {
    "id": "THbqDLM4mBBc"
   }
  },
  {
   "cell_type": "code",
   "source": [
    "model_tree.fit(X, Y)"
   ],
   "metadata": {
    "colab": {
     "base_uri": "https://localhost:8080/",
     "height": 74
    },
    "id": "MCqsusOwmEKs",
    "executionInfo": {
     "status": "ok",
     "timestamp": 1701370868573,
     "user_tz": -180,
     "elapsed": 4,
     "user": {
      "displayName": "Софья Тарасова",
      "userId": "10876662613223961281"
     }
    },
    "outputId": "28f64bd6-f4b4-4b0c-a553-073553b1fd2a",
    "ExecuteTime": {
     "end_time": "2023-12-21T12:44:30.192232Z",
     "start_time": "2023-12-21T12:44:30.063617Z"
    }
   },
   "execution_count": 95,
   "outputs": [
    {
     "data": {
      "text/plain": "DecisionTreeClassifier()",
      "text/html": "<style>#sk-container-id-10 {color: black;}#sk-container-id-10 pre{padding: 0;}#sk-container-id-10 div.sk-toggleable {background-color: white;}#sk-container-id-10 label.sk-toggleable__label {cursor: pointer;display: block;width: 100%;margin-bottom: 0;padding: 0.3em;box-sizing: border-box;text-align: center;}#sk-container-id-10 label.sk-toggleable__label-arrow:before {content: \"▸\";float: left;margin-right: 0.25em;color: #696969;}#sk-container-id-10 label.sk-toggleable__label-arrow:hover:before {color: black;}#sk-container-id-10 div.sk-estimator:hover label.sk-toggleable__label-arrow:before {color: black;}#sk-container-id-10 div.sk-toggleable__content {max-height: 0;max-width: 0;overflow: hidden;text-align: left;background-color: #f0f8ff;}#sk-container-id-10 div.sk-toggleable__content pre {margin: 0.2em;color: black;border-radius: 0.25em;background-color: #f0f8ff;}#sk-container-id-10 input.sk-toggleable__control:checked~div.sk-toggleable__content {max-height: 200px;max-width: 100%;overflow: auto;}#sk-container-id-10 input.sk-toggleable__control:checked~label.sk-toggleable__label-arrow:before {content: \"▾\";}#sk-container-id-10 div.sk-estimator input.sk-toggleable__control:checked~label.sk-toggleable__label {background-color: #d4ebff;}#sk-container-id-10 div.sk-label input.sk-toggleable__control:checked~label.sk-toggleable__label {background-color: #d4ebff;}#sk-container-id-10 input.sk-hidden--visually {border: 0;clip: rect(1px 1px 1px 1px);clip: rect(1px, 1px, 1px, 1px);height: 1px;margin: -1px;overflow: hidden;padding: 0;position: absolute;width: 1px;}#sk-container-id-10 div.sk-estimator {font-family: monospace;background-color: #f0f8ff;border: 1px dotted black;border-radius: 0.25em;box-sizing: border-box;margin-bottom: 0.5em;}#sk-container-id-10 div.sk-estimator:hover {background-color: #d4ebff;}#sk-container-id-10 div.sk-parallel-item::after {content: \"\";width: 100%;border-bottom: 1px solid gray;flex-grow: 1;}#sk-container-id-10 div.sk-label:hover label.sk-toggleable__label {background-color: #d4ebff;}#sk-container-id-10 div.sk-serial::before {content: \"\";position: absolute;border-left: 1px solid gray;box-sizing: border-box;top: 0;bottom: 0;left: 50%;z-index: 0;}#sk-container-id-10 div.sk-serial {display: flex;flex-direction: column;align-items: center;background-color: white;padding-right: 0.2em;padding-left: 0.2em;position: relative;}#sk-container-id-10 div.sk-item {position: relative;z-index: 1;}#sk-container-id-10 div.sk-parallel {display: flex;align-items: stretch;justify-content: center;background-color: white;position: relative;}#sk-container-id-10 div.sk-item::before, #sk-container-id-10 div.sk-parallel-item::before {content: \"\";position: absolute;border-left: 1px solid gray;box-sizing: border-box;top: 0;bottom: 0;left: 50%;z-index: -1;}#sk-container-id-10 div.sk-parallel-item {display: flex;flex-direction: column;z-index: 1;position: relative;background-color: white;}#sk-container-id-10 div.sk-parallel-item:first-child::after {align-self: flex-end;width: 50%;}#sk-container-id-10 div.sk-parallel-item:last-child::after {align-self: flex-start;width: 50%;}#sk-container-id-10 div.sk-parallel-item:only-child::after {width: 0;}#sk-container-id-10 div.sk-dashed-wrapped {border: 1px dashed gray;margin: 0 0.4em 0.5em 0.4em;box-sizing: border-box;padding-bottom: 0.4em;background-color: white;}#sk-container-id-10 div.sk-label label {font-family: monospace;font-weight: bold;display: inline-block;line-height: 1.2em;}#sk-container-id-10 div.sk-label-container {text-align: center;}#sk-container-id-10 div.sk-container {/* jupyter's `normalize.less` sets `[hidden] { display: none; }` but bootstrap.min.css set `[hidden] { display: none !important; }` so we also need the `!important` here to be able to override the default hidden behavior on the sphinx rendered scikit-learn.org. See: https://github.com/scikit-learn/scikit-learn/issues/21755 */display: inline-block !important;position: relative;}#sk-container-id-10 div.sk-text-repr-fallback {display: none;}</style><div id=\"sk-container-id-10\" class=\"sk-top-container\"><div class=\"sk-text-repr-fallback\"><pre>DecisionTreeClassifier()</pre><b>In a Jupyter environment, please rerun this cell to show the HTML representation or trust the notebook. <br />On GitHub, the HTML representation is unable to render, please try loading this page with nbviewer.org.</b></div><div class=\"sk-container\" hidden><div class=\"sk-item\"><div class=\"sk-estimator sk-toggleable\"><input class=\"sk-toggleable__control sk-hidden--visually\" id=\"sk-estimator-id-10\" type=\"checkbox\" checked><label for=\"sk-estimator-id-10\" class=\"sk-toggleable__label sk-toggleable__label-arrow\">DecisionTreeClassifier</label><div class=\"sk-toggleable__content\"><pre>DecisionTreeClassifier()</pre></div></div></div></div></div>"
     },
     "execution_count": 95,
     "metadata": {},
     "output_type": "execute_result"
    }
   ]
  },
  {
   "cell_type": "markdown",
   "source": [
    "По обученной модели дайте прогноз классов для новых наблюдений, воспользовавшись функцией predict()"
   ],
   "metadata": {
    "id": "y4z_zsyImFTg"
   }
  },
  {
   "cell_type": "code",
   "source": [
    "model_tree.predict(x_new)"
   ],
   "metadata": {
    "colab": {
     "base_uri": "https://localhost:8080/"
    },
    "id": "IoR8s09ImKJZ",
    "executionInfo": {
     "status": "ok",
     "timestamp": 1701370871037,
     "user_tz": -180,
     "elapsed": 2,
     "user": {
      "displayName": "Софья Тарасова",
      "userId": "10876662613223961281"
     }
    },
    "outputId": "084a914f-8a32-405d-dfd2-347190ba48e5",
    "ExecuteTime": {
     "end_time": "2023-12-21T12:44:30.221157Z",
     "start_time": "2023-12-21T12:44:30.084991Z"
    }
   },
   "execution_count": 96,
   "outputs": [
    {
     "data": {
      "text/plain": "array([1., 1.])"
     },
     "execution_count": 96,
     "metadata": {},
     "output_type": "execute_result"
    }
   ]
  },
  {
   "cell_type": "markdown",
   "source": [
    "25.\tПо обученной модели дайте прогноз вероятности классов для новых наблюдений, воспользовавшись функцией predict_proba(). Вероятность – это доля наблюдений данного класса в листе."
   ],
   "metadata": {
    "id": "LFBVpSzFmJ7e"
   }
  },
  {
   "cell_type": "code",
   "source": [
    "model_tree.predict_proba(x_new)"
   ],
   "metadata": {
    "colab": {
     "base_uri": "https://localhost:8080/"
    },
    "id": "sN5LO4WdmNXF",
    "executionInfo": {
     "status": "ok",
     "timestamp": 1701371183123,
     "user_tz": -180,
     "elapsed": 600,
     "user": {
      "displayName": "Софья Тарасова",
      "userId": "10876662613223961281"
     }
    },
    "outputId": "17fe1300-00b4-477c-84d2-0a01e428534f",
    "ExecuteTime": {
     "end_time": "2023-12-21T12:44:30.227799Z",
     "start_time": "2023-12-21T12:44:30.094539Z"
    }
   },
   "execution_count": 97,
   "outputs": [
    {
     "data": {
      "text/plain": "array([[0., 1., 0., 0., 0., 0., 0., 0., 0., 0., 0., 0., 0., 0., 0., 0.,\n        0.],\n       [0., 1., 0., 0., 0., 0., 0., 0., 0., 0., 0., 0., 0., 0., 0., 0.,\n        0.]])"
     },
     "execution_count": 97,
     "metadata": {},
     "output_type": "execute_result"
    }
   ]
  },
  {
   "cell_type": "markdown",
   "source": [
    "26.\tСоздайте пустой список и запишите его в переменную models."
   ],
   "metadata": {
    "id": "MfEFj9pDembv"
   }
  },
  {
   "cell_type": "code",
   "source": [
    "models = []"
   ],
   "metadata": {
    "id": "2lFaC5Pxn_-r",
    "ExecuteTime": {
     "end_time": "2023-12-21T12:44:30.229842Z",
     "start_time": "2023-12-21T12:44:30.104428Z"
    }
   },
   "execution_count": 98,
   "outputs": []
  },
  {
   "cell_type": "markdown",
   "source": [
    "27.\tДобавьте в список models с помощью функции append() набор из кортежей, первый элемент которого содержит название модели, а второй – функцию для создания соответствующей модели. Включите все линейные и нелинейные модели, рассмотренные в заданиях 7 и 8. Можно при этом воспользоваться следующими сокращениями:"
   ],
   "metadata": {
    "id": "euLZ1-NKkjQf"
   }
  },
  {
   "cell_type": "code",
   "source": [
    "models.append(('LR', slm.LogisticRegression(solver='liblinear')))\n",
    "models.append(('SVM', svm.SVC(kernel='linear')))\n",
    "models.append(('LDA', sda.LinearDiscriminantAnalysis()))\n",
    "models.append(('KNN', KNeighborsClassifier()))\n",
    "models.append(('NB', GaussianNB()))\n",
    "models.append(('CART', DecisionTreeClassifier()))"
   ],
   "metadata": {
    "id": "C_Nw8PJhob4J",
    "ExecuteTime": {
     "end_time": "2023-12-21T12:44:30.244074Z",
     "start_time": "2023-12-21T12:44:30.114664Z"
    }
   },
   "execution_count": 99,
   "outputs": []
  },
  {
   "cell_type": "markdown",
   "source": [
    "28.\tСоздайте пустые списки results и names."
   ],
   "metadata": {
    "id": "rbp52qxQemZP"
   }
  },
  {
   "cell_type": "code",
   "source": [
    "results = []\n",
    "names = []"
   ],
   "metadata": {
    "id": "so_EbgXGpYDq",
    "ExecuteTime": {
     "end_time": "2023-12-21T12:44:30.355347Z",
     "start_time": "2023-12-21T12:44:30.234371Z"
    }
   },
   "execution_count": 100,
   "outputs": []
  },
  {
   "cell_type": "markdown",
   "source": [
    "29.\tЗадайте критерий оценки качества моделей классификации в переменной scoring. Пусть – доля правильных ответов (accuracy)."
   ],
   "metadata": {
    "id": "B0B_jK4TlChC"
   }
  },
  {
   "cell_type": "code",
   "source": [
    "scoring = 'accuracy'"
   ],
   "metadata": {
    "id": "Fq3fR_ZNpsTN",
    "ExecuteTime": {
     "end_time": "2023-12-21T12:44:30.370388Z",
     "start_time": "2023-12-21T12:44:30.331698Z"
    }
   },
   "execution_count": 101,
   "outputs": []
  },
  {
   "cell_type": "markdown",
   "source": [
    "30.\tС помощью функции for, обращаясь к имени и объекту модели, которые содержатся в кортежах списка models, выполните следующее:\n",
    "\n",
    "\n",
    "1.   Задайте разбиение выборки на фолды с помощью функции KFold(n_splits=10, random_state=7, shuffle=True). Результат запишите в переменную kfold.\n",
    "2.   Проведите кросс-валидацию, воспользовавшись функцией cross_val_score(model, X, Y, cv=kfold, scoring=scoring). Результат запишите в переменную cv_results.\n",
    "3. Добавьте полученные результаты (cv_results) в список results, воспользовавшись функцией append().\n",
    "4. Добавьте в список names имя рассмотренной модели, воспользовавшись функцией append().\n",
    "5. С помощью функции print() выведите на экран список названий моделей с соответствующими значениями средней доли правильных ответов (функция mean()) и стандартного отклонения (функция std()), рассчитанными на кросс-валидации."
   ],
   "metadata": {
    "id": "VnxTxYb7emWw"
   }
  }
 ]
}
