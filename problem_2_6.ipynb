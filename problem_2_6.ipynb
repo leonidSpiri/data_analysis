{
 "nbformat": 4,
 "nbformat_minor": 0,
 "metadata": {
  "kernelspec": {
   "display_name": "Python 3",
   "language": "python",
   "name": "python3"
  },
  "language_info": {
   "codemirror_mode": {
    "name": "ipython",
    "version": 3
   },
   "file_extension": ".py",
   "mimetype": "text/x-python",
   "name": "python",
   "nbconvert_exporter": "python",
   "pygments_lexer": "ipython3",
   "version": "3.8.3"
  },
  "colab": {
   "provenance": []
  }
 },
 "cells": [
  {
   "cell_type": "markdown",
   "source": [
    "Теория:\n",
    "\n",
    "9.Агрегирование и группировка:\n",
    "https://docs.google.com/presentation/d/1rd8_dCD1rKBkYLUc29mm4VxHXYajV2uCUXWR7Nafjjk/edit#slide=id.ga89b2b8700_0_178"
   ],
   "metadata": {
    "id": "cHpxW3Md3TCE"
   }
  },
  {
   "cell_type": "markdown",
   "source": [
    "# Задание 6. Группировка футболистов"
   ],
   "metadata": {
    "id": "GxuNxN6VIWyU"
   }
  },
  {
   "cell_type": "code",
   "metadata": {
    "id": "UbjadN030ZQs",
    "colab": {
     "base_uri": "https://localhost:8080/",
     "height": 360
    },
    "outputId": "645dd7dc-1703-4a8a-a4ee-2bf5804d2c6d",
    "ExecuteTime": {
     "end_time": "2024-05-10T10:22:03.483745Z",
     "start_time": "2024-05-10T10:22:02.036129Z"
    }
   },
   "source": [
    "import pandas as pd\n",
    "\n",
    "url = 'https://raw.githubusercontent.com/dm-fedorov/pandas_basic/master/data/football.csv'\n",
    "\n",
    "df = pd.read_csv(url)\n",
    "df.head() # groopby"
   ],
   "outputs": [
    {
     "data": {
      "text/plain": [
       "   Unnamed: 0               Name  Age Nationality                 Club  \\\n",
       "0           0           L. Messi   31   Argentina         FC Barcelona   \n",
       "1           1  Cristiano Ronaldo   33    Portugal             Juventus   \n",
       "2           2          Neymar Jr   26      Brazil  Paris Saint-Germain   \n",
       "3           3             De Gea   27       Spain    Manchester United   \n",
       "4           4       K. De Bruyne   27     Belgium      Manchester City   \n",
       "\n",
       "       Value    Wage Position  Crossing  Finishing  ...  Penalties  Composure  \\\n",
       "0  110500000  565000       RF        84         95  ...         75         96   \n",
       "1   77000000  405000       ST        84         94  ...         85         95   \n",
       "2  118500000  290000       LW        79         87  ...         81         94   \n",
       "3   72000000  260000       GK        17         13  ...         40         68   \n",
       "4  102000000  355000      RCM        93         82  ...         79         88   \n",
       "\n",
       "   Marking  StandingTackle  SlidingTackle  GKDiving  GKHandling  GKKicking  \\\n",
       "0       33              28             26         6          11         15   \n",
       "1       28              31             23         7          11         15   \n",
       "2       27              24             33         9           9         15   \n",
       "3       15              21             13        90          85         87   \n",
       "4       68              58             51        15          13          5   \n",
       "\n",
       "   GKPositioning  GKReflexes  \n",
       "0             14           8  \n",
       "1             14          11  \n",
       "2             15          11  \n",
       "3             88          94  \n",
       "4             10          13  \n",
       "\n",
       "[5 rows x 42 columns]"
      ],
      "text/html": [
       "<div>\n",
       "<style scoped>\n",
       "    .dataframe tbody tr th:only-of-type {\n",
       "        vertical-align: middle;\n",
       "    }\n",
       "\n",
       "    .dataframe tbody tr th {\n",
       "        vertical-align: top;\n",
       "    }\n",
       "\n",
       "    .dataframe thead th {\n",
       "        text-align: right;\n",
       "    }\n",
       "</style>\n",
       "<table border=\"1\" class=\"dataframe\">\n",
       "  <thead>\n",
       "    <tr style=\"text-align: right;\">\n",
       "      <th></th>\n",
       "      <th>Unnamed: 0</th>\n",
       "      <th>Name</th>\n",
       "      <th>Age</th>\n",
       "      <th>Nationality</th>\n",
       "      <th>Club</th>\n",
       "      <th>Value</th>\n",
       "      <th>Wage</th>\n",
       "      <th>Position</th>\n",
       "      <th>Crossing</th>\n",
       "      <th>Finishing</th>\n",
       "      <th>...</th>\n",
       "      <th>Penalties</th>\n",
       "      <th>Composure</th>\n",
       "      <th>Marking</th>\n",
       "      <th>StandingTackle</th>\n",
       "      <th>SlidingTackle</th>\n",
       "      <th>GKDiving</th>\n",
       "      <th>GKHandling</th>\n",
       "      <th>GKKicking</th>\n",
       "      <th>GKPositioning</th>\n",
       "      <th>GKReflexes</th>\n",
       "    </tr>\n",
       "  </thead>\n",
       "  <tbody>\n",
       "    <tr>\n",
       "      <th>0</th>\n",
       "      <td>0</td>\n",
       "      <td>L. Messi</td>\n",
       "      <td>31</td>\n",
       "      <td>Argentina</td>\n",
       "      <td>FC Barcelona</td>\n",
       "      <td>110500000</td>\n",
       "      <td>565000</td>\n",
       "      <td>RF</td>\n",
       "      <td>84</td>\n",
       "      <td>95</td>\n",
       "      <td>...</td>\n",
       "      <td>75</td>\n",
       "      <td>96</td>\n",
       "      <td>33</td>\n",
       "      <td>28</td>\n",
       "      <td>26</td>\n",
       "      <td>6</td>\n",
       "      <td>11</td>\n",
       "      <td>15</td>\n",
       "      <td>14</td>\n",
       "      <td>8</td>\n",
       "    </tr>\n",
       "    <tr>\n",
       "      <th>1</th>\n",
       "      <td>1</td>\n",
       "      <td>Cristiano Ronaldo</td>\n",
       "      <td>33</td>\n",
       "      <td>Portugal</td>\n",
       "      <td>Juventus</td>\n",
       "      <td>77000000</td>\n",
       "      <td>405000</td>\n",
       "      <td>ST</td>\n",
       "      <td>84</td>\n",
       "      <td>94</td>\n",
       "      <td>...</td>\n",
       "      <td>85</td>\n",
       "      <td>95</td>\n",
       "      <td>28</td>\n",
       "      <td>31</td>\n",
       "      <td>23</td>\n",
       "      <td>7</td>\n",
       "      <td>11</td>\n",
       "      <td>15</td>\n",
       "      <td>14</td>\n",
       "      <td>11</td>\n",
       "    </tr>\n",
       "    <tr>\n",
       "      <th>2</th>\n",
       "      <td>2</td>\n",
       "      <td>Neymar Jr</td>\n",
       "      <td>26</td>\n",
       "      <td>Brazil</td>\n",
       "      <td>Paris Saint-Germain</td>\n",
       "      <td>118500000</td>\n",
       "      <td>290000</td>\n",
       "      <td>LW</td>\n",
       "      <td>79</td>\n",
       "      <td>87</td>\n",
       "      <td>...</td>\n",
       "      <td>81</td>\n",
       "      <td>94</td>\n",
       "      <td>27</td>\n",
       "      <td>24</td>\n",
       "      <td>33</td>\n",
       "      <td>9</td>\n",
       "      <td>9</td>\n",
       "      <td>15</td>\n",
       "      <td>15</td>\n",
       "      <td>11</td>\n",
       "    </tr>\n",
       "    <tr>\n",
       "      <th>3</th>\n",
       "      <td>3</td>\n",
       "      <td>De Gea</td>\n",
       "      <td>27</td>\n",
       "      <td>Spain</td>\n",
       "      <td>Manchester United</td>\n",
       "      <td>72000000</td>\n",
       "      <td>260000</td>\n",
       "      <td>GK</td>\n",
       "      <td>17</td>\n",
       "      <td>13</td>\n",
       "      <td>...</td>\n",
       "      <td>40</td>\n",
       "      <td>68</td>\n",
       "      <td>15</td>\n",
       "      <td>21</td>\n",
       "      <td>13</td>\n",
       "      <td>90</td>\n",
       "      <td>85</td>\n",
       "      <td>87</td>\n",
       "      <td>88</td>\n",
       "      <td>94</td>\n",
       "    </tr>\n",
       "    <tr>\n",
       "      <th>4</th>\n",
       "      <td>4</td>\n",
       "      <td>K. De Bruyne</td>\n",
       "      <td>27</td>\n",
       "      <td>Belgium</td>\n",
       "      <td>Manchester City</td>\n",
       "      <td>102000000</td>\n",
       "      <td>355000</td>\n",
       "      <td>RCM</td>\n",
       "      <td>93</td>\n",
       "      <td>82</td>\n",
       "      <td>...</td>\n",
       "      <td>79</td>\n",
       "      <td>88</td>\n",
       "      <td>68</td>\n",
       "      <td>58</td>\n",
       "      <td>51</td>\n",
       "      <td>15</td>\n",
       "      <td>13</td>\n",
       "      <td>5</td>\n",
       "      <td>10</td>\n",
       "      <td>13</td>\n",
       "    </tr>\n",
       "  </tbody>\n",
       "</table>\n",
       "<p>5 rows × 42 columns</p>\n",
       "</div>"
      ]
     },
     "execution_count": 1,
     "metadata": {},
     "output_type": "execute_result"
    }
   ],
   "execution_count": 1
  },
  {
   "cell_type": "markdown",
   "metadata": {
    "id": "zfTrGDV10ZQu"
   },
   "source": [
    "Предположим, что перед нами стоит задача посчитать сумму зарплат по клубам, чтобы найти клуб с самой высокой зарплатой.\n",
    "\n",
    "Мы можем сделать это с помощью функции `groupby`:"
   ]
  },
  {
   "cell_type": "code",
   "metadata": {
    "id": "Pz2QCydq0ZQv",
    "colab": {
     "base_uri": "https://localhost:8080/"
    },
    "outputId": "a424b598-a463-4171-d937-0f493f530596",
    "ExecuteTime": {
     "end_time": "2024-05-10T10:22:03.502503Z",
     "start_time": "2024-05-10T10:22:03.491020Z"
    }
   },
   "source": [
    "df.groupby('Club')"
   ],
   "outputs": [
    {
     "data": {
      "text/plain": [
       "<pandas.core.groupby.generic.DataFrameGroupBy object at 0x10827d090>"
      ]
     },
     "execution_count": 2,
     "metadata": {},
     "output_type": "execute_result"
    }
   ],
   "execution_count": 2
  },
  {
   "cell_type": "markdown",
   "metadata": {
    "id": "Lc1ZOxge0ZQv"
   },
   "source": [
    "Мы передали на вход функции `groupby` колонку (или список колонок), по которой будет осуществляться группировка. Но в ответ получили что-то странное. Это объект группировки, он хранит в себе информацию о том, какие строки датафрейма (по индексным номерам) соответствуют определенной группе (в нашем случае определенному клубу). Увидеть это можно, вызвав у объекта группировки атрибут `groups`:"
   ]
  },
  {
   "cell_type": "code",
   "metadata": {
    "scrolled": true,
    "id": "21tyhLrA0ZQv",
    "colab": {
     "base_uri": "https://localhost:8080/"
    },
    "outputId": "c06f7ec2-e607-4987-bde9-8fdfb1778bbc",
    "ExecuteTime": {
     "end_time": "2024-05-10T10:22:03.552739Z",
     "start_time": "2024-05-10T10:22:03.504896Z"
    }
   },
   "source": [
    "df.groupby('Club').groups"
   ],
   "outputs": [
    {
     "data": {
      "text/plain": [
       "{' SSV Jahn Regensburg': [1642, 2284, 2374, 2401, 2575, 2583, 2850, 2868, 3418, 3908, 3989, 4154, 5151, 5177, 5525, 5885, 6070, 6679, 7173, 7477, 8905, 9061, 10825, 12482], '1. FC Heidenheim 1846': [1060, 1805, 1978, 2050, 2066, 2926, 3584, 3605, 4312, 4457, 4783, 6818, 7160, 7166, 7460, 9475, 10052, 10565, 11217, 12236], '1. FC Kaiserslautern': [2931, 3590, 4270, 4413, 4475, 4483, 4709, 4779, 5079, 5325, 5403, 5855, 5917, 7295, 8784, 9496, 9964, 10019, 10122, 10671, 11500, 11970, 12222], '1. FC Köln': [166, 379, 899, 1399, 3415, 6904, 7052, 8892, 12171, 12376], '1. FC Magdeburg': [1967, 2069, 2152, 2569, 2886, 3030, 3300, 3332, 4436, 4913, 5002, 5033, 5493, 5768, 6329, 7046, 7595, 8387, 9626, 11125, 11400], '1. FC Nürnberg': [724, 1208, 1254, 1920, 4775, 5265, 5556, 5985, 8590, 8632, 9217, 9858, 10480], '1. FC Union Berlin': [1422, 1493, 2530, 2876, 3635, 3844, 4683, 4826, 11038, 11296, 12340], '1. FSV Mainz 05': [545, 670, 765, 1201, 1342, 6218, 6868, 8792, 10293, 10561, 10566], 'AC Ajaccio': [1507, 1672, 2118, 2180, 2798, 3046, 3742, 3879, 4522, 4697, 5698, 6607, 7484, 8519, 9449, 11043, 11789, 12221, 12244], 'AC Horsens': [2491, 2924, 3640, 3881, 5419, 5471, 5929, 6518, 6669, 6736, 7115, 8049, 8203, 8237, 9281, 9804, 10251, 10454, 11241, 11513, 11763, 12011, 12598, 12692, 12743], 'AD Alcorcón': [1407, 1607, 1651, 2117, 2216, 2619, 3011, 3177, 3278, 3601, 3801, 4808, 6385, 6805, 7120, 7141, 7397, 8901, 9526], 'ADO Den Haag': [1377, 1825, 2976, 3037, 3611, 3783, 3825, 4555, 4969, 5599, 6344, 6787, 6816, 8296, 8391, 9055, 9157, 10330, 10506], 'AEK Athens': [700, 751, 754, 1180, 1309, 1356, 3314, 5304, 5975, 10026, 12119], 'AFC Wimbledon': [3464, 3868, 4990, 5292, 5566, 6228, 6526, 6566, 7070, 7181, 7241, 7256, 7698, 7978, 8213, 8356, 9521, 10693, 11132, 11318, 12078, 12139, 12142, 12239, 12266, 12679], 'AIK': [1451, 1961, 3323, 3466, 3651, 4274, 4615, 5201, 6418, 7655, 8072, 8611, 9363, 11325, 11341, 11399, 11633, 11729, 12386], 'AJ Auxerre': [1606, 2028, 2132, 2962, 3597, 4731, 4980, 5006, 5396, 5542, 5626, 8419, 9728, 10420, 10471, 10849, 11520], 'AS Béziers': [1557, 4215, 4796, 5134, 5604, 5809, 5965, 6427, 6435, 6558, 6867, 7590, 7730, 7870, 8428, 8540, 8587, 9981, 10106, 10771, 10907, 10987, 11444, 11689, 11942], 'AS Monaco': [137, 172, 173, 298, 365, 400, 428, 475, 477, 918, 991, 4009, 4487, 6278, 6431, 7588, 8046, 8314], 'AS Nancy Lorraine': [1995, 2169, 2428, 2432, 2943, 3209, 3237, 3289, 3457, 3579, 3920, 4465, 5026, 5666, 5972, 6374, 6963, 7856, 8468, 9543, 10306, 10854, 11260, 11746, 11906], 'AS Saint-Étienne': [136, 725, 822, 897, 1314, 1394, 1913, 2643, 2702, 6892, 8321, 9822, 10234, 10718, 11503], 'AZ Alkmaar': [849, 1158, 1246, 1768, 3458, 3891, 4207, 4842, 6039, 7059], 'Aalborg BK': [1458, 2509, 2646, 3862, 3922, 5707, 6119, 6555, 6715, 7094, 7961, 9259, 9334, 10694, 11262, 11816, 12342, 12440, 12510, 12520, 12652, 12758], 'Aarhus GF': [2318, 2610, 2936, 3490, 4530, 4546, 4855, 4886, 4920, 4941, 5161, 6213, 6575, 7096, 7768, 8082, 9731, 11769, 12301, 12570, 12574, 12580, 12634, 12663, 12700], 'Aberdeen': [2444, 2978, 3317, 3574, 4026, 4144, 4280, 4824, 4949, 5524, 7444, 9203, 9943, 11232, 12248, 12425, 12675, 12765], 'Accrington Stanley': [2227, 2600, 3827, 4031, 4295, 5336, 5675, 6433, 6493, 6554, 7891, 8074, 8508, 8518, 8928, 9515, 9782, 9940, 10059, 10141, 10349, 10424, 10474, 10928, 11020, 12346, 12422, 12456], 'Adelaide United': [1533, 2387, 2460, 3354, 3942, 4130, 4451, 4668, 6908, 7090, 7252, 7706, 8316, 9212, 9623, 9980, 10220, 10458, 12055, 12409, 12485, 12613, 12628, 12703], 'Ajax': [152, 188, 234, 300, 319, 352, 737, 1335, 3111, 3769, 4847, 4897, 5010], 'Akhisar Belediyespor': [722, 796, 1781, 2049, 2096, 2594, 2617, 2699, 4929, 5376, 5589, 6870, 7081, 8801], 'Al Ahli': [419, 524, 1617, 1815, 2256, 2519, 2521, 3614, 4048, 6163, 6794, 9114, 9636, 9922, 11292, 11330, 11380, 11724, 11728, 11730, 11839, 12230], 'Al Batin': [1540, 1959, 2525, 3812, 4591, 4771, 7178, 7220, 8091, 8146, 8288, 9275, 9606, 10196, 10688, 11035, 11042, 11170, 11659, 12106, 12135, 12198, 12324, 12392, 12427, 12749, 12787, 12788], 'Al Faisaly': [2021, 2514, 2522, 2644, 2693, 3217, 4859, 4867, 5059, 5715, 6144, 6347, 7322, 7855, 8061, 9207, 9329, 10389, 10880, 10944, 11011, 11012, 11172, 11403, 11554, 11696, 11739], 'Al Fateh': [1374, 2376, 3437, 4198, 4877, 5186, 6452, 6534, 6665, 6907, 7471, 7840, 8279, 8652, 8874, 9086, 9819, 9960, 10312, 11252, 11519, 12064, 12066, 12366, 12371, 12568, 12676], 'Al Fayha': [1252, 1760, 1822, 1850, 3191, 4563, 4919, 5253, 6574, 6775, 6953, 7091, 7196, 7568, 7642, 7798, 8129, 8771, 10323, 10887, 11245, 11312, 11446, 11693, 11933], 'Al Hazem': [2396, 3045, 3627, 4174, 6016, 6931, 7118, 7615, 8711, 8846, 8864, 8869, 8959, 9105, 9262, 9437, 9448, 9793, 10079, 10580, 10927, 11019, 11321, 11597, 11632, 11745, 12058], 'Al Hilal': [281, 505, 653, 1061, 1269, 1316, 1479, 1778, 1915, 2758, 3234, 4180, 4489, 4658, 5409, 7735, 9081, 9436, 9451, 10328, 11340, 11475], 'Al Ittihad': [682, 2358, 2369, 2445, 2707, 2782, 2884, 3831, 4338, 5219, 6299, 6379, 6620, 7436, 7783, 7877, 9517, 10412, 10469, 10486, 10885, 11919], 'Al Nassr': [177, 469, 948, 1067, 1800, 1818, 2334, 2981, 3839, 3850, 4047, 6387, 6998, 7276, 7511, 9979, 10414, 10423, 11299, 11761, 12180, 12544, 12713], 'Al Qadisiyah': [2972, 3493, 3894, 4586, 5327, 5492, 5601, 5817, 5829, 5880, 6598, 7095, 7438, 7527, 7774, 8917, 10110, 11088, 11207, 11324, 11331, 11334, 11416, 11741, 11762, 12004], 'Al Raed': [2157, 2224, 4152, 5195, 5511, 6685, 8040, 8174, 8224, 8310, 8591, 8610, 8744, 9087, 9353, 9488, 9846, 10378, 10593, 11191, 12025, 12159, 12418, 12420, 12807], 'Al Shabab': [1898, 2464, 3138, 4181, 4307, 6207, 6285, 6399, 6434, 7751, 8292, 8443, 8900, 9511, 9575, 9985, 10475, 10600, 10803, 11578, 11714, 11784, 11785, 12584], 'Al Taawoun': [975, 3703, 3724, 5197, 5418, 5792, 6366, 6744, 6789, 6888, 7992, 8140, 8877, 9268, 9430, 9643, 9894, 10018, 10938, 11136, 12343, 12367, 12512, 12525, 12770], 'Al Wehda': [857, 1115, 1211, 1402, 1931, 4235, 4935, 5359, 6103, 7060, 7394, 7620, 8887, 9073, 9523, 9704, 10130, 10452, 10654, 11242, 11253, 11545, 11758, 11894], 'Alanyaspor': [1196, 1794, 2019, 2119, 2366, 2418, 2765, 3185, 3388, 4542, 5156, 9179, 10845, 11054, 11086, 11353, 11619], 'Albacete BP': [1852, 2133, 2968, 3455, 3566, 3755, 5076, 5830, 6972, 7036, 7078, 7493, 7778, 9163, 9903, 11498, 11504], 'Alianza Petrolera': [2327, 2381, 2395, 2992, 3008, 3139, 3608, 4442, 4623, 4703, 4827, 5163, 5275, 6547, 7162, 7300, 7799, 7965, 8079, 9427, 9552, 10155, 10807, 11156, 11347, 12039], 'Amiens SC': [709, 768, 923, 925, 1088, 1395, 1719, 2925, 2935, 6470, 8244, 8306, 9655, 9664, 10317, 10585, 10735], 'América FC (Minas Gerais)': [908, 2592, 2688, 2739, 2949, 4458, 4891, 5993, 6841], 'América de Cali': [1848, 2651, 3758, 3794, 3871, 3882, 4086, 4706, 4940, 6191, 6549, 6989, 10925, 10990, 11202, 11604, 11734, 11991, 12748], 'Angers SCO': [1218, 1820, 1882, 2048, 2312, 3910, 6468, 7204, 7462, 8679, 9265, 10946], 'Antalyaspor': [782, 788, 1952, 2207, 2309, 2493, 3346, 3359, 3412, 3941, 4204, 6582, 6608, 7434, 7535, 9493, 9888, 10931, 11442], 'Argentinos Juniors': [1391, 1923, 2171, 2952, 3961, 4757, 6281, 7820, 8371, 8722, 8837, 9023, 9321, 9339, 9634, 10192, 10227, 10427, 10661, 12681], 'Arka Gdynia': [1629, 3067, 3318, 4187, 4208, 4373, 4519, 4792, 5298, 6709, 6803, 6873, 7908, 8385, 8685, 8865, 8998, 9151, 9974, 10633, 11181, 11773, 11954, 12052, 12228, 12426], 'Arsenal': [33, 74, 87, 126, 135, 194, 215, 230, 257, 331, 380, 483, 570, 1416, 1603, 1979, 5283, 6398, 6583, 7307, 8747, 9892, 10934], 'Ascoli': [2518, 2573, 2692, 3102, 3324, 3364, 3671, 3930, 4088, 4406, 4712, 4858, 5469, 5786, 6139, 6594, 7461, 7738, 7788, 7829, 9442, 10647, 10818, 11335, 12750], 'Aston Villa': [1108, 1184, 1193, 1639, 1753, 1779, 2837, 5065, 5588, 8838, 10265, 10495, 12006, 12373, 12404], 'Atalanta': [140, 254, 436, 479, 481, 525, 708, 732, 1019, 3004, 6914, 7363, 9585], 'Athletic Club de Bilbao': [197, 229, 323, 337, 384, 569, 664, 973, 1012, 1056, 6872, 8092, 10085], 'Atiker Konyaspor': [886, 1009, 1155, 1348, 1591, 1773, 1795, 1868, 1945, 2114, 2896, 3347, 4184, 5180, 6308, 8663], 'Atlanta United': [1057, 1333, 1613, 1754, 2187, 3305, 3333, 4550, 4632, 5451, 5946, 6732, 7208, 7284, 7874, 7989, 9238, 10784, 11048, 11050, 11463, 12167], 'Atlético Bucaramanga': [1284, 1706, 2165, 2273, 3681, 3732, 3762, 4735, 5457, 5609, 5844, 6384, 6540, 6976, 7217, 7522, 7950, 8616, 10337, 11016, 11022, 11326, 11978, 12189], 'Atlético Huila': [1767, 2342, 4411, 4669, 5560, 5683, 6893, 7635, 7697, 7817, 8117, 8178, 8245, 9729, 10381, 10610, 10700, 10912, 11075, 11840, 12247, 12263, 12330, 12629, 12738], 'Atlético Madrid': [9, 12, 17, 83, 86, 100, 106, 111, 146, 161, 189, 256, 423, 6623, 6654, 6900, 7296, 7404, 7587, 8013, 8985, 9080, 9953, 10371, 10510], 'Atlético Mineiro': [855, 1409, 1935, 2036, 2150, 3371], 'Atlético Nacional': [1535, 3062, 3348, 3787, 5847, 6271, 8708, 11972, 12019, 12718, 12843, 12872], 'Atlético Paranaense': [1129, 1255, 1589, 1604, 2159, 2473, 2534, 3097, 3428, 3958, 5882, 6265, 7035], 'Atlético Tucumán': [1455, 1542, 1646, 1917, 2829, 3174, 3802, 3997, 4677, 5276, 6850, 8320, 9923, 10635, 10673, 10812], 'Audax Italiano': [1788, 2002, 2168, 2443, 3855, 3913, 4007, 4353, 4793, 5168, 5205, 5243, 6100, 6333, 6463, 7205, 8357, 8817, 8881, 9362, 9407, 9984, 10641, 12199, 12667], 'BB Erzurumspor': [1718, 2067, 2687, 4535, 5055, 5674, 6475, 7045, 8510, 8742, 8773, 9671, 10466, 10479, 10751, 11523, 12740], 'BK Häcken': [1955, 2086, 2971, 3153, 3463, 4129, 4481, 4500, 4788, 5573, 5852, 6483, 6937, 7203, 8745, 10049, 11192, 11304, 12009, 12205, 12232, 12478, 12715, 12792], 'BSC Young Boys': [649, 771, 1250, 2357, 2664, 5449, 5767, 6220, 7575, 9221, 9417, 11404, 11876, 12108, 12181], 'Bahia': [1247, 1263, 1623, 2260, 2315, 2404, 2629, 2945, 3955, 4347, 5816, 6322], 'Barnsley': [2897, 3094, 3408, 3518, 4358, 5056, 5062, 6325, 6920, 7265, 7780, 10744, 11512, 11516, 11756, 12007, 12060, 12237, 12388, 12599, 12821], 'Bayer 04 Leverkusen': [128, 181, 251, 255, 258, 270, 285, 373, 674, 683, 1049, 2108, 8768, 10316, 10325], 'Beijing Renhe FC': [332, 543, 3232, 5081, 5176, 5474, 6214, 6763, 7055, 7502, 7882, 8073, 8294, 9120, 9933, 9939, 10906, 11246, 11890, 11944, 12192, 12202, 12255, 12391, 12682, 12684, 12876], 'Beijing Sinobo Guoan FC': [205, 563, 2291, 2695, 3319, 3529, 4315, 5333, 5643, 5942, 6226, 7101, 7228, 8000, 8525, 8578, 9555, 9757, 10766, 11509, 11536, 11704, 12466, 12846], 'Belgrano de Córdoba': [2254, 2550, 2682, 4328, 4375, 4473, 4794, 5380, 5927, 6405, 7379, 7716, 8642, 9352, 9657, 10834, 11701, 11882, 12056], 'Benevento': [1020, 1406, 1441, 1538, 3151, 3166, 3644, 4028, 6560, 7583, 9869, 11790], 'Beşiktaş JK': [108, 260, 441, 516, 536, 537, 720, 740, 753, 850, 5864, 6044, 7333, 7386, 9330, 9696, 10281, 12744], 'Birmingham City': [1908, 2074, 2124, 3691, 3766, 4279, 4888, 5395, 5605, 5699, 7330, 7662, 7873, 8246, 10438, 12099], 'Blackburn Rovers': [1667, 1809, 2217, 2454, 2650, 3522, 4034, 4070, 4125, 4538, 4740, 5019, 7593, 8378, 8422, 10529, 10685, 11727, 11742, 11853, 11966], 'Blackpool': [3536, 3677, 3686, 3987, 4024, 4118, 4639, 6093, 6108, 6171, 6529, 6802, 6993, 7031, 7447, 7947, 7982, 8397, 8730, 9491, 9991, 10531, 11307, 11350, 11596, 12533, 12823, 12867], 'Boavista FC': [1327, 2073, 2694, 3009, 3055, 3106, 3479, 5232, 5360, 5484, 6792, 6880, 11377], 'Boca Juniors': [374, 482, 517, 554, 579, 590, 1002, 1091, 1206, 1803, 8367, 9099, 9787], 'Bohemian FC': [6257, 9723, 10084, 10126, 10545, 10579, 10779, 10903, 11234, 11542, 11813, 11819, 11996, 12082, 12111, 12125, 12204, 12445, 12476, 12501, 12618, 12619, 12734, 12799, 12841], 'Bologna': [588, 607, 627, 721, 1023, 1066, 1285, 1600, 1661, 2666, 9533], 'Bolton Wanderers': [1763, 1782, 1903, 1911, 2570, 2700, 2911, 3042, 3196, 3201, 3213, 3530, 3916, 4448, 4967, 5561, 10404, 10590, 10612, 11928, 12170], 'Borussia Dortmund': [68, 134, 209, 233, 245, 266, 273, 294, 360, 364, 371, 415, 630, 979, 1127, 4748, 6513, 9484, 10443, 10853, 10995], 'Borussia Mönchengladbach': [179, 247, 249, 265, 283, 378, 426, 552, 566, 616, 637, 2142, 7769, 7869, 7902, 8076, 8262, 8431, 9744, 10136], 'Botafogo': [906, 1405, 1430, 1525, 1670, 2350, 2377, 3212, 4213, 4305], 'Bournemouth': [846, 1142, 1256, 8512, 8880, 9292, 9314, 10066, 10163, 10248, 10643, 10915, 10916, 11006], 'Boyacá Chicó FC': [2264, 4437, 5013, 5255, 5739, 6295, 6831, 7016, 7040, 7086, 7549, 8207, 8660, 8733, 9452, 10618, 11046, 11405, 11441, 11465, 11768, 11999, 12002, 12338, 12495, 12588], 'Bradford City': [2205, 3555, 3665, 3981, 4381, 4398, 5740, 5780, 5996, 6022, 6274, 6516, 6590, 7240, 7704, 7760, 8142, 8222, 8665, 9460, 10197, 10957, 10958, 11001, 12029, 12195, 12362], 'Bray Wanderers': [10670, 11060, 11070, 11083, 11106, 11383, 11537, 11651, 11674, 11814, 11826, 12046, 12251, 12402, 12410, 12591, 12668, 12705, 12712, 12753, 12801, 12817, 12871], 'Brentford': [1068, 1114, 3065, 3402, 5028, 6010, 6974, 9006, 9975, 10881, 11171, 11244, 11251, 11305, 11481], 'Brescia': [985, 1596, 2267, 2379, 2425, 3554, 3896, 4145, 4226, 4388, 4399, 4822, 5401, 5555, 5784, 7709, 7717, 8066, 9141, 9236, 9505, 9546, 9658], 'Brighton & Hove Albion': [511, 564, 587, 917, 1165, 1241, 1276, 1475, 2761, 3445, 8594, 8643, 8693, 9196, 10613, 10848, 12081], 'Brisbane Roar': [1641, 1906, 2414, 2478, 2890, 2986, 4885, 5049, 5145, 5759, 6771, 9160, 9328, 9742, 10826, 11561, 11636, 11650, 11990, 12036], 'Bristol City': [1266, 1489, 1720, 1804, 1846, 1933, 2018, 2025, 2336, 4948, 5777, 7474, 7883, 9064, 11267, 12216, 12225, 12579], 'Bristol Rovers': [3128, 4272, 4444, 5103, 5553, 5558, 5734, 5788, 6370, 7083, 8238, 9083, 9106, 9503, 9726, 9904, 9965, 10068, 10165, 10339, 10364, 10447, 10530, 10567, 11987, 12080, 12575], 'Brøndby IF': [1131, 2956, 3020, 3588, 3619, 3662, 4064, 5712, 5905, 6062, 6353, 8940, 9783, 12493, 12543, 12735, 12804], ...}"
      ]
     },
     "execution_count": 3,
     "metadata": {},
     "output_type": "execute_result"
    }
   ],
   "execution_count": 3
  },
  {
   "cell_type": "markdown",
   "metadata": {
    "id": "rJYunTVA0ZQw"
   },
   "source": [
    "Это означает, что `FC Köln` соответствуют следующие строки: `166, 379, 899, 1399, 3415, 6904, 7052, 8892, 12171, 12376`.\n",
    "\n",
    "О чем нам это говорит? Нам — ни о чем, но для алгоритма группировки это важная информация. Он поймет, какие строки брать для включения в группу, когда мы решим применить к этим строкам какую-нибудь агрегирующую функцию, например функцию суммы `sum`:"
   ]
  },
  {
   "cell_type": "code",
   "metadata": {
    "id": "-vinyd800ZQx",
    "colab": {
     "base_uri": "https://localhost:8080/",
     "height": 547
    },
    "outputId": "f94eb459-bc80-40ed-ae4c-2f308ab49ec9",
    "ExecuteTime": {
     "end_time": "2024-05-10T10:22:03.634756Z",
     "start_time": "2024-05-10T10:22:03.561479Z"
    }
   },
   "source": [
    "grouped_df = df.groupby('Club').sum()\n",
    "grouped_df.head()"
   ],
   "outputs": [
    {
     "data": {
      "text/plain": [
       "                       Unnamed: 0  \\\n",
       "Club                                \n",
       " SSV Jahn Regensburg       129124   \n",
       "1. FC Heidenheim 1846      117834   \n",
       "1. FC Kaiserslautern       167351   \n",
       "1. FC Köln                  54865   \n",
       "1. FC Magdeburg            116731   \n",
       "\n",
       "                                                                    Name  Age  \\\n",
       "Club                                                                            \n",
       " SSV Jahn Regensburg   P. PentkeS. NachreinerA. NandzikB. SallerA. Ge...  609   \n",
       "1. FC Heidenheim 1846  M. SchnattererN. TheuerkaufM. WittekT. Beerman...  473   \n",
       "1. FC Kaiserslautern   T. ThieleJ. LöhmannsröbenH. ZuckA. HainaultJ. ...  544   \n",
       "1. FC Köln             T. HornJ. HectorL. SchaubM. LehmannM. BaderC. ...  225   \n",
       "1. FC Magdeburg        C. BeckJ. FejzićR. WeilS. SchäferN. HammannR. ...  515   \n",
       "\n",
       "                                                             Nationality  \\\n",
       "Club                                                                       \n",
       " SSV Jahn Regensburg   GermanyGermanyGermanyGermanyGermanyGermanyGerm...   \n",
       "1. FC Heidenheim 1846  GermanyGermanyGermanyGermanyGermanyGermanyGerm...   \n",
       "1. FC Kaiserslautern   GermanyGermanyGermanyCanadaGermanyGermanyGerma...   \n",
       "1. FC Köln             GermanyGermanyAustriaGermanyGermanyGermanyDenm...   \n",
       "1. FC Magdeburg        GermanyBosnia HerzegovinaGermanyGermanyGermany...   \n",
       "\n",
       "                          Value   Wage  \\\n",
       "Club                                     \n",
       " SSV Jahn Regensburg   15195000  90000   \n",
       "1. FC Heidenheim 1846  18290000  76000   \n",
       "1. FC Kaiserslautern   11195000  33000   \n",
       "1. FC Köln             46810000  92000   \n",
       "1. FC Magdeburg        57525000  84000   \n",
       "\n",
       "                                                                Position  \\\n",
       "Club                                                                       \n",
       " SSV Jahn Regensburg   GKCBLBRBRDMGKCDMCMLBRAMLMRCBRBLMCBSTLDMCBCBSTC...   \n",
       "1. FC Heidenheim 1846        LMLBCBLCBRBGKCAMRBRCBRMSTRMSTCBRMCMLMCBGKLB   \n",
       "1. FC Kaiserslautern   LSRDMLMLCBRSCDMRBRMRMLBCDMSTCBRBGKCBLWGKLMGKCD...   \n",
       "1. FC Köln                                        GKLWBRMCDMRBCMCMCBGKGK   \n",
       "1. FC Magdeburg           RSGKCBLCBCBLCMRMCBCBLSRWRCBGKRMRWLBRCMRMGKSTCF   \n",
       "\n",
       "                       Crossing  Finishing  HeadingAccuracy  ...  Penalties  \\\n",
       "Club                                                         ...              \n",
       " SSV Jahn Regensburg       1104        944             1283  ...       1042   \n",
       "1. FC Heidenheim 1846       961        860              955  ...        923   \n",
       "1. FC Kaiserslautern       1106        918             1133  ...       1030   \n",
       "1. FC Köln                  444        357              434  ...        431   \n",
       "1. FC Magdeburg             948        903             1044  ...        938   \n",
       "\n",
       "                       Composure  Marking  StandingTackle  SlidingTackle  \\\n",
       "Club                                                                       \n",
       " SSV Jahn Regensburg        1332     1205            1146           1088   \n",
       "1. FC Heidenheim 1846       1093      888             952            890   \n",
       "1. FC Kaiserslautern        1174      938             989            996   \n",
       "1. FC Köln                   515      453             458            452   \n",
       "1. FC Magdeburg             1057      933             930            892   \n",
       "\n",
       "                       GKDiving  GKHandling  GKKicking  GKPositioning  \\\n",
       "Club                                                                    \n",
       " SSV Jahn Regensburg        405         406        368            409   \n",
       "1. FC Heidenheim 1846       335         317        287            335   \n",
       "1. FC Kaiserslautern        392         373        348            368   \n",
       "1. FC Köln                  272         251        276            252   \n",
       "1. FC Magdeburg             367         373        354            361   \n",
       "\n",
       "                       GKReflexes  \n",
       "Club                               \n",
       " SSV Jahn Regensburg          424  \n",
       "1. FC Heidenheim 1846         306  \n",
       "1. FC Kaiserslautern          356  \n",
       "1. FC Köln                    268  \n",
       "1. FC Magdeburg               394  \n",
       "\n",
       "[5 rows x 41 columns]"
      ],
      "text/html": [
       "<div>\n",
       "<style scoped>\n",
       "    .dataframe tbody tr th:only-of-type {\n",
       "        vertical-align: middle;\n",
       "    }\n",
       "\n",
       "    .dataframe tbody tr th {\n",
       "        vertical-align: top;\n",
       "    }\n",
       "\n",
       "    .dataframe thead th {\n",
       "        text-align: right;\n",
       "    }\n",
       "</style>\n",
       "<table border=\"1\" class=\"dataframe\">\n",
       "  <thead>\n",
       "    <tr style=\"text-align: right;\">\n",
       "      <th></th>\n",
       "      <th>Unnamed: 0</th>\n",
       "      <th>Name</th>\n",
       "      <th>Age</th>\n",
       "      <th>Nationality</th>\n",
       "      <th>Value</th>\n",
       "      <th>Wage</th>\n",
       "      <th>Position</th>\n",
       "      <th>Crossing</th>\n",
       "      <th>Finishing</th>\n",
       "      <th>HeadingAccuracy</th>\n",
       "      <th>...</th>\n",
       "      <th>Penalties</th>\n",
       "      <th>Composure</th>\n",
       "      <th>Marking</th>\n",
       "      <th>StandingTackle</th>\n",
       "      <th>SlidingTackle</th>\n",
       "      <th>GKDiving</th>\n",
       "      <th>GKHandling</th>\n",
       "      <th>GKKicking</th>\n",
       "      <th>GKPositioning</th>\n",
       "      <th>GKReflexes</th>\n",
       "    </tr>\n",
       "    <tr>\n",
       "      <th>Club</th>\n",
       "      <th></th>\n",
       "      <th></th>\n",
       "      <th></th>\n",
       "      <th></th>\n",
       "      <th></th>\n",
       "      <th></th>\n",
       "      <th></th>\n",
       "      <th></th>\n",
       "      <th></th>\n",
       "      <th></th>\n",
       "      <th></th>\n",
       "      <th></th>\n",
       "      <th></th>\n",
       "      <th></th>\n",
       "      <th></th>\n",
       "      <th></th>\n",
       "      <th></th>\n",
       "      <th></th>\n",
       "      <th></th>\n",
       "      <th></th>\n",
       "      <th></th>\n",
       "    </tr>\n",
       "  </thead>\n",
       "  <tbody>\n",
       "    <tr>\n",
       "      <th>SSV Jahn Regensburg</th>\n",
       "      <td>129124</td>\n",
       "      <td>P. PentkeS. NachreinerA. NandzikB. SallerA. Ge...</td>\n",
       "      <td>609</td>\n",
       "      <td>GermanyGermanyGermanyGermanyGermanyGermanyGerm...</td>\n",
       "      <td>15195000</td>\n",
       "      <td>90000</td>\n",
       "      <td>GKCBLBRBRDMGKCDMCMLBRAMLMRCBRBLMCBSTLDMCBCBSTC...</td>\n",
       "      <td>1104</td>\n",
       "      <td>944</td>\n",
       "      <td>1283</td>\n",
       "      <td>...</td>\n",
       "      <td>1042</td>\n",
       "      <td>1332</td>\n",
       "      <td>1205</td>\n",
       "      <td>1146</td>\n",
       "      <td>1088</td>\n",
       "      <td>405</td>\n",
       "      <td>406</td>\n",
       "      <td>368</td>\n",
       "      <td>409</td>\n",
       "      <td>424</td>\n",
       "    </tr>\n",
       "    <tr>\n",
       "      <th>1. FC Heidenheim 1846</th>\n",
       "      <td>117834</td>\n",
       "      <td>M. SchnattererN. TheuerkaufM. WittekT. Beerman...</td>\n",
       "      <td>473</td>\n",
       "      <td>GermanyGermanyGermanyGermanyGermanyGermanyGerm...</td>\n",
       "      <td>18290000</td>\n",
       "      <td>76000</td>\n",
       "      <td>LMLBCBLCBRBGKCAMRBRCBRMSTRMSTCBRMCMLMCBGKLB</td>\n",
       "      <td>961</td>\n",
       "      <td>860</td>\n",
       "      <td>955</td>\n",
       "      <td>...</td>\n",
       "      <td>923</td>\n",
       "      <td>1093</td>\n",
       "      <td>888</td>\n",
       "      <td>952</td>\n",
       "      <td>890</td>\n",
       "      <td>335</td>\n",
       "      <td>317</td>\n",
       "      <td>287</td>\n",
       "      <td>335</td>\n",
       "      <td>306</td>\n",
       "    </tr>\n",
       "    <tr>\n",
       "      <th>1. FC Kaiserslautern</th>\n",
       "      <td>167351</td>\n",
       "      <td>T. ThieleJ. LöhmannsröbenH. ZuckA. HainaultJ. ...</td>\n",
       "      <td>544</td>\n",
       "      <td>GermanyGermanyGermanyCanadaGermanyGermanyGerma...</td>\n",
       "      <td>11195000</td>\n",
       "      <td>33000</td>\n",
       "      <td>LSRDMLMLCBRSCDMRBRMRMLBCDMSTCBRBGKCBLWGKLMGKCD...</td>\n",
       "      <td>1106</td>\n",
       "      <td>918</td>\n",
       "      <td>1133</td>\n",
       "      <td>...</td>\n",
       "      <td>1030</td>\n",
       "      <td>1174</td>\n",
       "      <td>938</td>\n",
       "      <td>989</td>\n",
       "      <td>996</td>\n",
       "      <td>392</td>\n",
       "      <td>373</td>\n",
       "      <td>348</td>\n",
       "      <td>368</td>\n",
       "      <td>356</td>\n",
       "    </tr>\n",
       "    <tr>\n",
       "      <th>1. FC Köln</th>\n",
       "      <td>54865</td>\n",
       "      <td>T. HornJ. HectorL. SchaubM. LehmannM. BaderC. ...</td>\n",
       "      <td>225</td>\n",
       "      <td>GermanyGermanyAustriaGermanyGermanyGermanyDenm...</td>\n",
       "      <td>46810000</td>\n",
       "      <td>92000</td>\n",
       "      <td>GKLWBRMCDMRBCMCMCBGKGK</td>\n",
       "      <td>444</td>\n",
       "      <td>357</td>\n",
       "      <td>434</td>\n",
       "      <td>...</td>\n",
       "      <td>431</td>\n",
       "      <td>515</td>\n",
       "      <td>453</td>\n",
       "      <td>458</td>\n",
       "      <td>452</td>\n",
       "      <td>272</td>\n",
       "      <td>251</td>\n",
       "      <td>276</td>\n",
       "      <td>252</td>\n",
       "      <td>268</td>\n",
       "    </tr>\n",
       "    <tr>\n",
       "      <th>1. FC Magdeburg</th>\n",
       "      <td>116731</td>\n",
       "      <td>C. BeckJ. FejzićR. WeilS. SchäferN. HammannR. ...</td>\n",
       "      <td>515</td>\n",
       "      <td>GermanyBosnia HerzegovinaGermanyGermanyGermany...</td>\n",
       "      <td>57525000</td>\n",
       "      <td>84000</td>\n",
       "      <td>RSGKCBLCBCBLCMRMCBCBLSRWRCBGKRMRWLBRCMRMGKSTCF</td>\n",
       "      <td>948</td>\n",
       "      <td>903</td>\n",
       "      <td>1044</td>\n",
       "      <td>...</td>\n",
       "      <td>938</td>\n",
       "      <td>1057</td>\n",
       "      <td>933</td>\n",
       "      <td>930</td>\n",
       "      <td>892</td>\n",
       "      <td>367</td>\n",
       "      <td>373</td>\n",
       "      <td>354</td>\n",
       "      <td>361</td>\n",
       "      <td>394</td>\n",
       "    </tr>\n",
       "  </tbody>\n",
       "</table>\n",
       "<p>5 rows × 41 columns</p>\n",
       "</div>"
      ]
     },
     "execution_count": 4,
     "metadata": {},
     "output_type": "execute_result"
    }
   ],
   "execution_count": 4
  },
  {
   "cell_type": "code",
   "metadata": {
    "id": "mCfl8wS40frJ",
    "colab": {
     "base_uri": "https://localhost:8080/",
     "height": 547
    },
    "outputId": "f98987aa-54fe-48ce-e90e-b6a5ed355fee",
    "ExecuteTime": {
     "end_time": "2024-05-10T10:22:03.692013Z",
     "start_time": "2024-05-10T10:22:03.638189Z"
    }
   },
   "source": [
    "# лучше так:\n",
    "grouped_df = df.groupby('Club').agg(\"sum\")\n",
    "grouped_df.head()"
   ],
   "outputs": [
    {
     "data": {
      "text/plain": [
       "                       Unnamed: 0  \\\n",
       "Club                                \n",
       " SSV Jahn Regensburg       129124   \n",
       "1. FC Heidenheim 1846      117834   \n",
       "1. FC Kaiserslautern       167351   \n",
       "1. FC Köln                  54865   \n",
       "1. FC Magdeburg            116731   \n",
       "\n",
       "                                                                    Name  Age  \\\n",
       "Club                                                                            \n",
       " SSV Jahn Regensburg   P. PentkeS. NachreinerA. NandzikB. SallerA. Ge...  609   \n",
       "1. FC Heidenheim 1846  M. SchnattererN. TheuerkaufM. WittekT. Beerman...  473   \n",
       "1. FC Kaiserslautern   T. ThieleJ. LöhmannsröbenH. ZuckA. HainaultJ. ...  544   \n",
       "1. FC Köln             T. HornJ. HectorL. SchaubM. LehmannM. BaderC. ...  225   \n",
       "1. FC Magdeburg        C. BeckJ. FejzićR. WeilS. SchäferN. HammannR. ...  515   \n",
       "\n",
       "                                                             Nationality  \\\n",
       "Club                                                                       \n",
       " SSV Jahn Regensburg   GermanyGermanyGermanyGermanyGermanyGermanyGerm...   \n",
       "1. FC Heidenheim 1846  GermanyGermanyGermanyGermanyGermanyGermanyGerm...   \n",
       "1. FC Kaiserslautern   GermanyGermanyGermanyCanadaGermanyGermanyGerma...   \n",
       "1. FC Köln             GermanyGermanyAustriaGermanyGermanyGermanyDenm...   \n",
       "1. FC Magdeburg        GermanyBosnia HerzegovinaGermanyGermanyGermany...   \n",
       "\n",
       "                          Value   Wage  \\\n",
       "Club                                     \n",
       " SSV Jahn Regensburg   15195000  90000   \n",
       "1. FC Heidenheim 1846  18290000  76000   \n",
       "1. FC Kaiserslautern   11195000  33000   \n",
       "1. FC Köln             46810000  92000   \n",
       "1. FC Magdeburg        57525000  84000   \n",
       "\n",
       "                                                                Position  \\\n",
       "Club                                                                       \n",
       " SSV Jahn Regensburg   GKCBLBRBRDMGKCDMCMLBRAMLMRCBRBLMCBSTLDMCBCBSTC...   \n",
       "1. FC Heidenheim 1846        LMLBCBLCBRBGKCAMRBRCBRMSTRMSTCBRMCMLMCBGKLB   \n",
       "1. FC Kaiserslautern   LSRDMLMLCBRSCDMRBRMRMLBCDMSTCBRBGKCBLWGKLMGKCD...   \n",
       "1. FC Köln                                        GKLWBRMCDMRBCMCMCBGKGK   \n",
       "1. FC Magdeburg           RSGKCBLCBCBLCMRMCBCBLSRWRCBGKRMRWLBRCMRMGKSTCF   \n",
       "\n",
       "                       Crossing  Finishing  HeadingAccuracy  ...  Penalties  \\\n",
       "Club                                                         ...              \n",
       " SSV Jahn Regensburg       1104        944             1283  ...       1042   \n",
       "1. FC Heidenheim 1846       961        860              955  ...        923   \n",
       "1. FC Kaiserslautern       1106        918             1133  ...       1030   \n",
       "1. FC Köln                  444        357              434  ...        431   \n",
       "1. FC Magdeburg             948        903             1044  ...        938   \n",
       "\n",
       "                       Composure  Marking  StandingTackle  SlidingTackle  \\\n",
       "Club                                                                       \n",
       " SSV Jahn Regensburg        1332     1205            1146           1088   \n",
       "1. FC Heidenheim 1846       1093      888             952            890   \n",
       "1. FC Kaiserslautern        1174      938             989            996   \n",
       "1. FC Köln                   515      453             458            452   \n",
       "1. FC Magdeburg             1057      933             930            892   \n",
       "\n",
       "                       GKDiving  GKHandling  GKKicking  GKPositioning  \\\n",
       "Club                                                                    \n",
       " SSV Jahn Regensburg        405         406        368            409   \n",
       "1. FC Heidenheim 1846       335         317        287            335   \n",
       "1. FC Kaiserslautern        392         373        348            368   \n",
       "1. FC Köln                  272         251        276            252   \n",
       "1. FC Magdeburg             367         373        354            361   \n",
       "\n",
       "                       GKReflexes  \n",
       "Club                               \n",
       " SSV Jahn Regensburg          424  \n",
       "1. FC Heidenheim 1846         306  \n",
       "1. FC Kaiserslautern          356  \n",
       "1. FC Köln                    268  \n",
       "1. FC Magdeburg               394  \n",
       "\n",
       "[5 rows x 41 columns]"
      ],
      "text/html": [
       "<div>\n",
       "<style scoped>\n",
       "    .dataframe tbody tr th:only-of-type {\n",
       "        vertical-align: middle;\n",
       "    }\n",
       "\n",
       "    .dataframe tbody tr th {\n",
       "        vertical-align: top;\n",
       "    }\n",
       "\n",
       "    .dataframe thead th {\n",
       "        text-align: right;\n",
       "    }\n",
       "</style>\n",
       "<table border=\"1\" class=\"dataframe\">\n",
       "  <thead>\n",
       "    <tr style=\"text-align: right;\">\n",
       "      <th></th>\n",
       "      <th>Unnamed: 0</th>\n",
       "      <th>Name</th>\n",
       "      <th>Age</th>\n",
       "      <th>Nationality</th>\n",
       "      <th>Value</th>\n",
       "      <th>Wage</th>\n",
       "      <th>Position</th>\n",
       "      <th>Crossing</th>\n",
       "      <th>Finishing</th>\n",
       "      <th>HeadingAccuracy</th>\n",
       "      <th>...</th>\n",
       "      <th>Penalties</th>\n",
       "      <th>Composure</th>\n",
       "      <th>Marking</th>\n",
       "      <th>StandingTackle</th>\n",
       "      <th>SlidingTackle</th>\n",
       "      <th>GKDiving</th>\n",
       "      <th>GKHandling</th>\n",
       "      <th>GKKicking</th>\n",
       "      <th>GKPositioning</th>\n",
       "      <th>GKReflexes</th>\n",
       "    </tr>\n",
       "    <tr>\n",
       "      <th>Club</th>\n",
       "      <th></th>\n",
       "      <th></th>\n",
       "      <th></th>\n",
       "      <th></th>\n",
       "      <th></th>\n",
       "      <th></th>\n",
       "      <th></th>\n",
       "      <th></th>\n",
       "      <th></th>\n",
       "      <th></th>\n",
       "      <th></th>\n",
       "      <th></th>\n",
       "      <th></th>\n",
       "      <th></th>\n",
       "      <th></th>\n",
       "      <th></th>\n",
       "      <th></th>\n",
       "      <th></th>\n",
       "      <th></th>\n",
       "      <th></th>\n",
       "      <th></th>\n",
       "    </tr>\n",
       "  </thead>\n",
       "  <tbody>\n",
       "    <tr>\n",
       "      <th>SSV Jahn Regensburg</th>\n",
       "      <td>129124</td>\n",
       "      <td>P. PentkeS. NachreinerA. NandzikB. SallerA. Ge...</td>\n",
       "      <td>609</td>\n",
       "      <td>GermanyGermanyGermanyGermanyGermanyGermanyGerm...</td>\n",
       "      <td>15195000</td>\n",
       "      <td>90000</td>\n",
       "      <td>GKCBLBRBRDMGKCDMCMLBRAMLMRCBRBLMCBSTLDMCBCBSTC...</td>\n",
       "      <td>1104</td>\n",
       "      <td>944</td>\n",
       "      <td>1283</td>\n",
       "      <td>...</td>\n",
       "      <td>1042</td>\n",
       "      <td>1332</td>\n",
       "      <td>1205</td>\n",
       "      <td>1146</td>\n",
       "      <td>1088</td>\n",
       "      <td>405</td>\n",
       "      <td>406</td>\n",
       "      <td>368</td>\n",
       "      <td>409</td>\n",
       "      <td>424</td>\n",
       "    </tr>\n",
       "    <tr>\n",
       "      <th>1. FC Heidenheim 1846</th>\n",
       "      <td>117834</td>\n",
       "      <td>M. SchnattererN. TheuerkaufM. WittekT. Beerman...</td>\n",
       "      <td>473</td>\n",
       "      <td>GermanyGermanyGermanyGermanyGermanyGermanyGerm...</td>\n",
       "      <td>18290000</td>\n",
       "      <td>76000</td>\n",
       "      <td>LMLBCBLCBRBGKCAMRBRCBRMSTRMSTCBRMCMLMCBGKLB</td>\n",
       "      <td>961</td>\n",
       "      <td>860</td>\n",
       "      <td>955</td>\n",
       "      <td>...</td>\n",
       "      <td>923</td>\n",
       "      <td>1093</td>\n",
       "      <td>888</td>\n",
       "      <td>952</td>\n",
       "      <td>890</td>\n",
       "      <td>335</td>\n",
       "      <td>317</td>\n",
       "      <td>287</td>\n",
       "      <td>335</td>\n",
       "      <td>306</td>\n",
       "    </tr>\n",
       "    <tr>\n",
       "      <th>1. FC Kaiserslautern</th>\n",
       "      <td>167351</td>\n",
       "      <td>T. ThieleJ. LöhmannsröbenH. ZuckA. HainaultJ. ...</td>\n",
       "      <td>544</td>\n",
       "      <td>GermanyGermanyGermanyCanadaGermanyGermanyGerma...</td>\n",
       "      <td>11195000</td>\n",
       "      <td>33000</td>\n",
       "      <td>LSRDMLMLCBRSCDMRBRMRMLBCDMSTCBRBGKCBLWGKLMGKCD...</td>\n",
       "      <td>1106</td>\n",
       "      <td>918</td>\n",
       "      <td>1133</td>\n",
       "      <td>...</td>\n",
       "      <td>1030</td>\n",
       "      <td>1174</td>\n",
       "      <td>938</td>\n",
       "      <td>989</td>\n",
       "      <td>996</td>\n",
       "      <td>392</td>\n",
       "      <td>373</td>\n",
       "      <td>348</td>\n",
       "      <td>368</td>\n",
       "      <td>356</td>\n",
       "    </tr>\n",
       "    <tr>\n",
       "      <th>1. FC Köln</th>\n",
       "      <td>54865</td>\n",
       "      <td>T. HornJ. HectorL. SchaubM. LehmannM. BaderC. ...</td>\n",
       "      <td>225</td>\n",
       "      <td>GermanyGermanyAustriaGermanyGermanyGermanyDenm...</td>\n",
       "      <td>46810000</td>\n",
       "      <td>92000</td>\n",
       "      <td>GKLWBRMCDMRBCMCMCBGKGK</td>\n",
       "      <td>444</td>\n",
       "      <td>357</td>\n",
       "      <td>434</td>\n",
       "      <td>...</td>\n",
       "      <td>431</td>\n",
       "      <td>515</td>\n",
       "      <td>453</td>\n",
       "      <td>458</td>\n",
       "      <td>452</td>\n",
       "      <td>272</td>\n",
       "      <td>251</td>\n",
       "      <td>276</td>\n",
       "      <td>252</td>\n",
       "      <td>268</td>\n",
       "    </tr>\n",
       "    <tr>\n",
       "      <th>1. FC Magdeburg</th>\n",
       "      <td>116731</td>\n",
       "      <td>C. BeckJ. FejzićR. WeilS. SchäferN. HammannR. ...</td>\n",
       "      <td>515</td>\n",
       "      <td>GermanyBosnia HerzegovinaGermanyGermanyGermany...</td>\n",
       "      <td>57525000</td>\n",
       "      <td>84000</td>\n",
       "      <td>RSGKCBLCBCBLCMRMCBCBLSRWRCBGKRMRWLBRCMRMGKSTCF</td>\n",
       "      <td>948</td>\n",
       "      <td>903</td>\n",
       "      <td>1044</td>\n",
       "      <td>...</td>\n",
       "      <td>938</td>\n",
       "      <td>1057</td>\n",
       "      <td>933</td>\n",
       "      <td>930</td>\n",
       "      <td>892</td>\n",
       "      <td>367</td>\n",
       "      <td>373</td>\n",
       "      <td>354</td>\n",
       "      <td>361</td>\n",
       "      <td>394</td>\n",
       "    </tr>\n",
       "  </tbody>\n",
       "</table>\n",
       "<p>5 rows × 41 columns</p>\n",
       "</div>"
      ]
     },
     "execution_count": 5,
     "metadata": {},
     "output_type": "execute_result"
    }
   ],
   "execution_count": 5
  },
  {
   "cell_type": "markdown",
   "metadata": {
    "id": "DgD5uNhH0ZQx"
   },
   "source": [
    "Получился датафрейм, где все параметры, к которым можно было применить соответствующую агрегирующую функцию, были просуммированы. Если точнее, были просуммированы все численные параметры. Другие параметры, такие как национальность (`Nationality`), не будут отображены в датафрейме сгруппированных данных. Это связано с тем, что к таким колонкам нельзя применить агрегирующую функцию, потому что они содержат не численные параметры, а текст.\n",
    "\n",
    "Давайте обратимся по индексу к какой-то из строк получившегося датафрейма:"
   ]
  },
  {
   "cell_type": "code",
   "metadata": {
    "id": "hUSK6GON0ZQy",
    "colab": {
     "base_uri": "https://localhost:8080/"
    },
    "outputId": "8916e07a-8fda-4095-e90b-cdb7a704fa6a",
    "ExecuteTime": {
     "end_time": "2024-05-10T10:22:03.708155Z",
     "start_time": "2024-05-10T10:22:03.697339Z"
    }
   },
   "source": [
    "grouped_df.loc['Ajax']"
   ],
   "outputs": [
    {
     "data": {
      "text/plain": [
       "Unnamed: 0                                                     26041\n",
       "Name               H. ZiyechM. de LigtF. de JongN. TagliaficoD. B...\n",
       "Age                                                              275\n",
       "Nationality        MoroccoNetherlandsNetherlandsArgentinaNetherla...\n",
       "Value                                                      152250000\n",
       "Wage                                                          158000\n",
       "Position                               RAMRCBLDMLBLBRWSTCBRBCMLBLWCM\n",
       "Crossing                                                         844\n",
       "Finishing                                                        723\n",
       "HeadingAccuracy                                                  848\n",
       "ShortPassing                                                     940\n",
       "Volleys                                                          696\n",
       "Dribbling                                                        932\n",
       "Curve                                                            779\n",
       "FKAccuracy                                                       680\n",
       "LongPassing                                                      878\n",
       "BallControl                                                      951\n",
       "Acceleration                                                     944\n",
       "SprintSpeed                                                      969\n",
       "Agility                                                          969\n",
       "Reactions                                                        924\n",
       "Balance                                                          918\n",
       "ShotPower                                                        876\n",
       "Jumping                                                          915\n",
       "Stamina                                                          974\n",
       "Strength                                                         896\n",
       "LongShots                                                        720\n",
       "Aggression                                                       847\n",
       "Interceptions                                                    801\n",
       "Positioning                                                      813\n",
       "Vision                                                           881\n",
       "Penalties                                                        710\n",
       "Composure                                                        929\n",
       "Marking                                                          750\n",
       "StandingTackle                                                   814\n",
       "SlidingTackle                                                    756\n",
       "GKDiving                                                         150\n",
       "GKHandling                                                       130\n",
       "GKKicking                                                        139\n",
       "GKPositioning                                                    155\n",
       "GKReflexes                                                       129\n",
       "Name: Ajax, dtype: object"
      ]
     },
     "execution_count": 6,
     "metadata": {},
     "output_type": "execute_result"
    }
   ],
   "execution_count": 6
  },
  {
   "cell_type": "markdown",
   "metadata": {
    "id": "casQYLnK0ZQy"
   },
   "source": [
    "Таким образом, мы получили серию, где индекс содержит все параметры, которые можно было просуммировать, а значения серии — суммы параметров для всех игроков `ФК \"Ajax\"`.\n",
    "\n",
    "Теперь мы можем получить сумму зарплат игроков этого футбольного клуба:"
   ]
  },
  {
   "cell_type": "code",
   "metadata": {
    "id": "GqbfKbYv0ZQz",
    "colab": {
     "base_uri": "https://localhost:8080/"
    },
    "outputId": "0530730c-70ae-4876-b4ee-b5e6ac1424e0",
    "ExecuteTime": {
     "end_time": "2024-05-10T10:22:03.729851Z",
     "start_time": "2024-05-10T10:22:03.718541Z"
    }
   },
   "source": [
    "grouped_df.loc['Ajax']['Wage']"
   ],
   "outputs": [
    {
     "data": {
      "text/plain": [
       "158000"
      ]
     },
     "execution_count": 7,
     "metadata": {},
     "output_type": "execute_result"
    }
   ],
   "execution_count": 7
  },
  {
   "cell_type": "markdown",
   "metadata": {
    "id": "6CZDkLuW0ZQz"
   },
   "source": [
    "Тут важно заметить, что особого смысла суммировать другие параметры нет. Например, что нам даёт сумма возрастов? Это неинформативная метрика, а значит смысла её подсчитывать нет. Поэтому мы можем ограничить список наших параметров и при группировке осуществлять суммирование только по параметру `\"Wage\"` (заработная плата):"
   ]
  },
  {
   "cell_type": "code",
   "metadata": {
    "id": "NYs57oue0ZQ0",
    "colab": {
     "base_uri": "https://localhost:8080/"
    },
    "outputId": "979aaebd-367f-489c-f45d-28d40ffd0d7e",
    "ExecuteTime": {
     "end_time": "2024-05-10T10:22:03.749124Z",
     "start_time": "2024-05-10T10:22:03.733135Z"
    }
   },
   "source": [
    "grouped_df = df.groupby('Club')['Wage'].sum()\n",
    "grouped_df"
   ],
   "outputs": [
    {
     "data": {
      "text/plain": [
       "Club\n",
       " SSV Jahn Regensburg      90000\n",
       "1. FC Heidenheim 1846     76000\n",
       "1. FC Kaiserslautern      33000\n",
       "1. FC Köln                92000\n",
       "1. FC Magdeburg           84000\n",
       "                          ...  \n",
       "Zagłębie Sosnowiec        27000\n",
       "Çaykur Rizespor          118000\n",
       "Örebro SK                 36000\n",
       "Östersunds FK             39000\n",
       "Śląsk Wrocław             50000\n",
       "Name: Wage, Length: 650, dtype: int64"
      ]
     },
     "execution_count": 8,
     "metadata": {},
     "output_type": "execute_result"
    }
   ],
   "execution_count": 8
  },
  {
   "cell_type": "code",
   "metadata": {
    "id": "hUbtBJuV0jNe",
    "colab": {
     "base_uri": "https://localhost:8080/",
     "height": 455
    },
    "outputId": "a8e9f9e9-d692-45b9-9588-c1d402ec5306",
    "ExecuteTime": {
     "end_time": "2024-05-10T10:22:03.771197Z",
     "start_time": "2024-05-10T10:22:03.753251Z"
    }
   },
   "source": [
    "# лучше так:\n",
    "grouped_df = df.groupby('Club').agg({'Wage': 'sum'})\n",
    "grouped_df"
   ],
   "outputs": [
    {
     "data": {
      "text/plain": [
       "                         Wage\n",
       "Club                         \n",
       " SSV Jahn Regensburg    90000\n",
       "1. FC Heidenheim 1846   76000\n",
       "1. FC Kaiserslautern    33000\n",
       "1. FC Köln              92000\n",
       "1. FC Magdeburg         84000\n",
       "...                       ...\n",
       "Zagłębie Sosnowiec      27000\n",
       "Çaykur Rizespor        118000\n",
       "Örebro SK               36000\n",
       "Östersunds FK           39000\n",
       "Śląsk Wrocław           50000\n",
       "\n",
       "[650 rows x 1 columns]"
      ],
      "text/html": [
       "<div>\n",
       "<style scoped>\n",
       "    .dataframe tbody tr th:only-of-type {\n",
       "        vertical-align: middle;\n",
       "    }\n",
       "\n",
       "    .dataframe tbody tr th {\n",
       "        vertical-align: top;\n",
       "    }\n",
       "\n",
       "    .dataframe thead th {\n",
       "        text-align: right;\n",
       "    }\n",
       "</style>\n",
       "<table border=\"1\" class=\"dataframe\">\n",
       "  <thead>\n",
       "    <tr style=\"text-align: right;\">\n",
       "      <th></th>\n",
       "      <th>Wage</th>\n",
       "    </tr>\n",
       "    <tr>\n",
       "      <th>Club</th>\n",
       "      <th></th>\n",
       "    </tr>\n",
       "  </thead>\n",
       "  <tbody>\n",
       "    <tr>\n",
       "      <th>SSV Jahn Regensburg</th>\n",
       "      <td>90000</td>\n",
       "    </tr>\n",
       "    <tr>\n",
       "      <th>1. FC Heidenheim 1846</th>\n",
       "      <td>76000</td>\n",
       "    </tr>\n",
       "    <tr>\n",
       "      <th>1. FC Kaiserslautern</th>\n",
       "      <td>33000</td>\n",
       "    </tr>\n",
       "    <tr>\n",
       "      <th>1. FC Köln</th>\n",
       "      <td>92000</td>\n",
       "    </tr>\n",
       "    <tr>\n",
       "      <th>1. FC Magdeburg</th>\n",
       "      <td>84000</td>\n",
       "    </tr>\n",
       "    <tr>\n",
       "      <th>...</th>\n",
       "      <td>...</td>\n",
       "    </tr>\n",
       "    <tr>\n",
       "      <th>Zagłębie Sosnowiec</th>\n",
       "      <td>27000</td>\n",
       "    </tr>\n",
       "    <tr>\n",
       "      <th>Çaykur Rizespor</th>\n",
       "      <td>118000</td>\n",
       "    </tr>\n",
       "    <tr>\n",
       "      <th>Örebro SK</th>\n",
       "      <td>36000</td>\n",
       "    </tr>\n",
       "    <tr>\n",
       "      <th>Östersunds FK</th>\n",
       "      <td>39000</td>\n",
       "    </tr>\n",
       "    <tr>\n",
       "      <th>Śląsk Wrocław</th>\n",
       "      <td>50000</td>\n",
       "    </tr>\n",
       "  </tbody>\n",
       "</table>\n",
       "<p>650 rows × 1 columns</p>\n",
       "</div>"
      ]
     },
     "execution_count": 9,
     "metadata": {},
     "output_type": "execute_result"
    }
   ],
   "execution_count": 9
  },
  {
   "cell_type": "markdown",
   "metadata": {
    "id": "hQumLe4K0ZQ0"
   },
   "source": [
    "Уже лучше!\n",
    "\n",
    "Но помните наш исходный вопрос: `\"В каком клубе самая высокая зарплата?\"`\n",
    "\n",
    "Для ответа на этот вопрос нам достаточно лишь отсортировать полученные данные по убыванию суммы зарплат с помощью функции `sort_values`:"
   ]
  },
  {
   "cell_type": "code",
   "metadata": {
    "id": "mamq6YQq0ZQ0",
    "colab": {
     "base_uri": "https://localhost:8080/",
     "height": 238
    },
    "outputId": "46e7fac4-7fa5-4b64-a412-85490b46ebf1",
    "ExecuteTime": {
     "end_time": "2024-05-10T10:22:03.798074Z",
     "start_time": "2024-05-10T10:22:03.780928Z"
    }
   },
   "source": [
    "# параметр ascending=False указывает, что данные надо сортировать по убыванию\n",
    "grouped_df = df \\\n",
    "               .groupby('Club') \\\n",
    "               .agg({'Wage': 'sum'}) \\\n",
    "               .sort_values(by=\"Wage\", ascending=False)\n",
    "\n",
    "grouped_df.head(5)"
   ],
   "outputs": [
    {
     "data": {
      "text/plain": [
       "                      Wage\n",
       "Club                      \n",
       "Real Madrid        4138000\n",
       "FC Barcelona       3967000\n",
       "Manchester City    3097000\n",
       "Manchester United  2357000\n",
       "Juventus           2335000"
      ],
      "text/html": [
       "<div>\n",
       "<style scoped>\n",
       "    .dataframe tbody tr th:only-of-type {\n",
       "        vertical-align: middle;\n",
       "    }\n",
       "\n",
       "    .dataframe tbody tr th {\n",
       "        vertical-align: top;\n",
       "    }\n",
       "\n",
       "    .dataframe thead th {\n",
       "        text-align: right;\n",
       "    }\n",
       "</style>\n",
       "<table border=\"1\" class=\"dataframe\">\n",
       "  <thead>\n",
       "    <tr style=\"text-align: right;\">\n",
       "      <th></th>\n",
       "      <th>Wage</th>\n",
       "    </tr>\n",
       "    <tr>\n",
       "      <th>Club</th>\n",
       "      <th></th>\n",
       "    </tr>\n",
       "  </thead>\n",
       "  <tbody>\n",
       "    <tr>\n",
       "      <th>Real Madrid</th>\n",
       "      <td>4138000</td>\n",
       "    </tr>\n",
       "    <tr>\n",
       "      <th>FC Barcelona</th>\n",
       "      <td>3967000</td>\n",
       "    </tr>\n",
       "    <tr>\n",
       "      <th>Manchester City</th>\n",
       "      <td>3097000</td>\n",
       "    </tr>\n",
       "    <tr>\n",
       "      <th>Manchester United</th>\n",
       "      <td>2357000</td>\n",
       "    </tr>\n",
       "    <tr>\n",
       "      <th>Juventus</th>\n",
       "      <td>2335000</td>\n",
       "    </tr>\n",
       "  </tbody>\n",
       "</table>\n",
       "</div>"
      ]
     },
     "execution_count": 10,
     "metadata": {},
     "output_type": "execute_result"
    }
   ],
   "execution_count": 10
  },
  {
   "cell_type": "markdown",
   "metadata": {
    "id": "At5_zzVx0ZQ1"
   },
   "source": [
    "И это `Real Madrid`, что вполне ожидаемо!"
   ]
  },
  {
   "cell_type": "markdown",
   "metadata": {
    "id": "Wa32wfQ80ZQ1"
   },
   "source": [
    "Давайте рассмотрим ещё несколько примеров использования функции `groupby`.\n",
    "\n",
    "Например, построим такую таблицу, где сгруппируем игроков по национальностям (`Nationality`) и посчитаем среднюю зарплату, средний возраст и среднюю силу удара. Вдруг это всё как-то взаимосвязано?!\n",
    "\n",
    "Для подсчета среднего мы будем использовать агрегирующую функцию `mean`:"
   ]
  },
  {
   "cell_type": "code",
   "metadata": {
    "id": "mKBIRxCh1Akk",
    "colab": {
     "base_uri": "https://localhost:8080/",
     "height": 455
    },
    "outputId": "8872c645-5c88-46fa-c215-c997e02d80e1",
    "ExecuteTime": {
     "end_time": "2024-05-10T10:22:03.843848Z",
     "start_time": "2024-05-10T10:22:03.803827Z"
    }
   },
   "source": [
    "df.groupby('Nationality')[['Wage','Age','ShotPower']].mean()"
   ],
   "outputs": [
    {
     "data": {
      "text/plain": [
       "                     Wage        Age  ShotPower\n",
       "Nationality                                    \n",
       "Afghanistan   1250.000000  22.500000  53.750000\n",
       "Albania       5931.034483  23.689655  54.551724\n",
       "Algeria      15810.810811  27.027027  56.567568\n",
       "Andorra       1000.000000  28.000000  58.000000\n",
       "Angola        7100.000000  24.700000  63.700000\n",
       "...                   ...        ...        ...\n",
       "Uzbekistan    9000.000000  29.500000  71.500000\n",
       "Venezuela     6611.111111  23.638889  57.222222\n",
       "Wales         9529.411765  24.754902  48.558824\n",
       "Zambia        2833.333333  21.833333  66.833333\n",
       "Zimbabwe      5000.000000  26.555556  62.888889\n",
       "\n",
       "[156 rows x 3 columns]"
      ],
      "text/html": [
       "<div>\n",
       "<style scoped>\n",
       "    .dataframe tbody tr th:only-of-type {\n",
       "        vertical-align: middle;\n",
       "    }\n",
       "\n",
       "    .dataframe tbody tr th {\n",
       "        vertical-align: top;\n",
       "    }\n",
       "\n",
       "    .dataframe thead th {\n",
       "        text-align: right;\n",
       "    }\n",
       "</style>\n",
       "<table border=\"1\" class=\"dataframe\">\n",
       "  <thead>\n",
       "    <tr style=\"text-align: right;\">\n",
       "      <th></th>\n",
       "      <th>Wage</th>\n",
       "      <th>Age</th>\n",
       "      <th>ShotPower</th>\n",
       "    </tr>\n",
       "    <tr>\n",
       "      <th>Nationality</th>\n",
       "      <th></th>\n",
       "      <th></th>\n",
       "      <th></th>\n",
       "    </tr>\n",
       "  </thead>\n",
       "  <tbody>\n",
       "    <tr>\n",
       "      <th>Afghanistan</th>\n",
       "      <td>1250.000000</td>\n",
       "      <td>22.500000</td>\n",
       "      <td>53.750000</td>\n",
       "    </tr>\n",
       "    <tr>\n",
       "      <th>Albania</th>\n",
       "      <td>5931.034483</td>\n",
       "      <td>23.689655</td>\n",
       "      <td>54.551724</td>\n",
       "    </tr>\n",
       "    <tr>\n",
       "      <th>Algeria</th>\n",
       "      <td>15810.810811</td>\n",
       "      <td>27.027027</td>\n",
       "      <td>56.567568</td>\n",
       "    </tr>\n",
       "    <tr>\n",
       "      <th>Andorra</th>\n",
       "      <td>1000.000000</td>\n",
       "      <td>28.000000</td>\n",
       "      <td>58.000000</td>\n",
       "    </tr>\n",
       "    <tr>\n",
       "      <th>Angola</th>\n",
       "      <td>7100.000000</td>\n",
       "      <td>24.700000</td>\n",
       "      <td>63.700000</td>\n",
       "    </tr>\n",
       "    <tr>\n",
       "      <th>...</th>\n",
       "      <td>...</td>\n",
       "      <td>...</td>\n",
       "      <td>...</td>\n",
       "    </tr>\n",
       "    <tr>\n",
       "      <th>Uzbekistan</th>\n",
       "      <td>9000.000000</td>\n",
       "      <td>29.500000</td>\n",
       "      <td>71.500000</td>\n",
       "    </tr>\n",
       "    <tr>\n",
       "      <th>Venezuela</th>\n",
       "      <td>6611.111111</td>\n",
       "      <td>23.638889</td>\n",
       "      <td>57.222222</td>\n",
       "    </tr>\n",
       "    <tr>\n",
       "      <th>Wales</th>\n",
       "      <td>9529.411765</td>\n",
       "      <td>24.754902</td>\n",
       "      <td>48.558824</td>\n",
       "    </tr>\n",
       "    <tr>\n",
       "      <th>Zambia</th>\n",
       "      <td>2833.333333</td>\n",
       "      <td>21.833333</td>\n",
       "      <td>66.833333</td>\n",
       "    </tr>\n",
       "    <tr>\n",
       "      <th>Zimbabwe</th>\n",
       "      <td>5000.000000</td>\n",
       "      <td>26.555556</td>\n",
       "      <td>62.888889</td>\n",
       "    </tr>\n",
       "  </tbody>\n",
       "</table>\n",
       "<p>156 rows × 3 columns</p>\n",
       "</div>"
      ]
     },
     "execution_count": 11,
     "metadata": {},
     "output_type": "execute_result"
    }
   ],
   "execution_count": 11
  },
  {
   "cell_type": "markdown",
   "metadata": {
    "id": "STcogUr10ZQ2"
   },
   "source": [
    "Далее отсортируем по убыванию усредненной зарплаты:"
   ]
  },
  {
   "cell_type": "code",
   "metadata": {
    "id": "lPuOr0tm0ZQ2",
    "colab": {
     "base_uri": "https://localhost:8080/",
     "height": 394
    },
    "outputId": "7d1095ce-eae8-43cf-9fbe-e2a613ef4361",
    "ExecuteTime": {
     "end_time": "2024-05-10T10:22:03.877708Z",
     "start_time": "2024-05-10T10:22:03.849940Z"
    }
   },
   "source": [
    "df \\\n",
    "  .groupby('Nationality')[['Wage','Age','ShotPower']] \\\n",
    "  .mean() \\\n",
    "  .sort_values('Wage', ascending=False) \\\n",
    "  .head(10)"
   ],
   "outputs": [
    {
     "data": {
      "text/plain": [
       "                            Wage        Age  ShotPower\n",
       "Nationality                                           \n",
       "Dominican Republic  71000.000000  23.000000  75.500000\n",
       "Egypt               35545.454545  25.818182  59.363636\n",
       "Gabon               28900.000000  26.400000  56.900000\n",
       "Croatia             26722.222222  24.819444  54.305556\n",
       "Equatorial Guinea   25666.666667  28.000000  55.333333\n",
       "Belgium             20024.390244  24.030488  56.390244\n",
       "Ecuador             18333.333333  24.619048  60.666667\n",
       "Uruguay             17590.361446  26.771084  56.192771\n",
       "Brazil              17371.158392  27.898345  58.203310\n",
       "Algeria             15810.810811  27.027027  56.567568"
      ],
      "text/html": [
       "<div>\n",
       "<style scoped>\n",
       "    .dataframe tbody tr th:only-of-type {\n",
       "        vertical-align: middle;\n",
       "    }\n",
       "\n",
       "    .dataframe tbody tr th {\n",
       "        vertical-align: top;\n",
       "    }\n",
       "\n",
       "    .dataframe thead th {\n",
       "        text-align: right;\n",
       "    }\n",
       "</style>\n",
       "<table border=\"1\" class=\"dataframe\">\n",
       "  <thead>\n",
       "    <tr style=\"text-align: right;\">\n",
       "      <th></th>\n",
       "      <th>Wage</th>\n",
       "      <th>Age</th>\n",
       "      <th>ShotPower</th>\n",
       "    </tr>\n",
       "    <tr>\n",
       "      <th>Nationality</th>\n",
       "      <th></th>\n",
       "      <th></th>\n",
       "      <th></th>\n",
       "    </tr>\n",
       "  </thead>\n",
       "  <tbody>\n",
       "    <tr>\n",
       "      <th>Dominican Republic</th>\n",
       "      <td>71000.000000</td>\n",
       "      <td>23.000000</td>\n",
       "      <td>75.500000</td>\n",
       "    </tr>\n",
       "    <tr>\n",
       "      <th>Egypt</th>\n",
       "      <td>35545.454545</td>\n",
       "      <td>25.818182</td>\n",
       "      <td>59.363636</td>\n",
       "    </tr>\n",
       "    <tr>\n",
       "      <th>Gabon</th>\n",
       "      <td>28900.000000</td>\n",
       "      <td>26.400000</td>\n",
       "      <td>56.900000</td>\n",
       "    </tr>\n",
       "    <tr>\n",
       "      <th>Croatia</th>\n",
       "      <td>26722.222222</td>\n",
       "      <td>24.819444</td>\n",
       "      <td>54.305556</td>\n",
       "    </tr>\n",
       "    <tr>\n",
       "      <th>Equatorial Guinea</th>\n",
       "      <td>25666.666667</td>\n",
       "      <td>28.000000</td>\n",
       "      <td>55.333333</td>\n",
       "    </tr>\n",
       "    <tr>\n",
       "      <th>Belgium</th>\n",
       "      <td>20024.390244</td>\n",
       "      <td>24.030488</td>\n",
       "      <td>56.390244</td>\n",
       "    </tr>\n",
       "    <tr>\n",
       "      <th>Ecuador</th>\n",
       "      <td>18333.333333</td>\n",
       "      <td>24.619048</td>\n",
       "      <td>60.666667</td>\n",
       "    </tr>\n",
       "    <tr>\n",
       "      <th>Uruguay</th>\n",
       "      <td>17590.361446</td>\n",
       "      <td>26.771084</td>\n",
       "      <td>56.192771</td>\n",
       "    </tr>\n",
       "    <tr>\n",
       "      <th>Brazil</th>\n",
       "      <td>17371.158392</td>\n",
       "      <td>27.898345</td>\n",
       "      <td>58.203310</td>\n",
       "    </tr>\n",
       "    <tr>\n",
       "      <th>Algeria</th>\n",
       "      <td>15810.810811</td>\n",
       "      <td>27.027027</td>\n",
       "      <td>56.567568</td>\n",
       "    </tr>\n",
       "  </tbody>\n",
       "</table>\n",
       "</div>"
      ]
     },
     "execution_count": 12,
     "metadata": {},
     "output_type": "execute_result"
    }
   ],
   "execution_count": 12
  },
  {
   "cell_type": "markdown",
   "metadata": {
    "id": "vlttfp_b0ZQ2"
   },
   "source": [
    "Что?! Доминиканская республика? Очень странно, давайте поближе посмотрим на данные по этой стране:"
   ]
  },
  {
   "cell_type": "code",
   "metadata": {
    "id": "SPXJzH_k2O-T",
    "colab": {
     "base_uri": "https://localhost:8080/",
     "height": 112
    },
    "outputId": "cb92fe9e-765b-4a87-981e-93e24b4ef589",
    "ExecuteTime": {
     "end_time": "2024-05-10T10:22:03.899204Z",
     "start_time": "2024-05-10T10:22:03.881872Z"
    }
   },
   "source": [
    "df.query(\"Nationality == 'Dominican Republic'\")[['Name','Club','Wage','Age','ShotPower']]"
   ],
   "outputs": [
    {
     "data": {
      "text/plain": [
       "            Name         Club    Wage  Age  ShotPower\n",
       "291      Mariano  Real Madrid  140000   24         85\n",
       "6279  L. Quezada   Córdoba CF    2000   22         66"
      ],
      "text/html": [
       "<div>\n",
       "<style scoped>\n",
       "    .dataframe tbody tr th:only-of-type {\n",
       "        vertical-align: middle;\n",
       "    }\n",
       "\n",
       "    .dataframe tbody tr th {\n",
       "        vertical-align: top;\n",
       "    }\n",
       "\n",
       "    .dataframe thead th {\n",
       "        text-align: right;\n",
       "    }\n",
       "</style>\n",
       "<table border=\"1\" class=\"dataframe\">\n",
       "  <thead>\n",
       "    <tr style=\"text-align: right;\">\n",
       "      <th></th>\n",
       "      <th>Name</th>\n",
       "      <th>Club</th>\n",
       "      <th>Wage</th>\n",
       "      <th>Age</th>\n",
       "      <th>ShotPower</th>\n",
       "    </tr>\n",
       "  </thead>\n",
       "  <tbody>\n",
       "    <tr>\n",
       "      <th>291</th>\n",
       "      <td>Mariano</td>\n",
       "      <td>Real Madrid</td>\n",
       "      <td>140000</td>\n",
       "      <td>24</td>\n",
       "      <td>85</td>\n",
       "    </tr>\n",
       "    <tr>\n",
       "      <th>6279</th>\n",
       "      <td>L. Quezada</td>\n",
       "      <td>Córdoba CF</td>\n",
       "      <td>2000</td>\n",
       "      <td>22</td>\n",
       "      <td>66</td>\n",
       "    </tr>\n",
       "  </tbody>\n",
       "</table>\n",
       "</div>"
      ]
     },
     "execution_count": 13,
     "metadata": {},
     "output_type": "execute_result"
    }
   ],
   "execution_count": 13
  },
  {
   "cell_type": "markdown",
   "metadata": {
    "id": "7clWhH-O0ZQ3"
   },
   "source": [
    "Теперь всё ясно. В нашей выборке только два футболиста из этой страны, один из них играет в клубе `\"Real Madrid\"` и получает 140000 евро, а другой в испанском клубе второго дивизиона с зарплатой в 70 раз ниже! Поэтому среднее и получилось таким высоким."
   ]
  },
  {
   "cell_type": "markdown",
   "metadata": {
    "id": "allb6iLq0ZQ3"
   },
   "source": [
    "### Задача 1\n",
    "\n",
    "Посчитайте среднюю зарплату (`Wage`) и цену (`Value`) игроков разных позиций (`Position`). Представители какой позиции имеют самую высокую среднюю цену?"
   ]
  },
  {
   "cell_type": "code",
   "source": [
    "average_values = df.groupby('Position').agg({'Wage': 'mean', 'Value': 'mean'})\n",
    "position_with_highest_value = average_values['Value'].idxmax()\n",
    "\n",
    "print(\"Позиция с самой высокой средней ценой игроков:\", position_with_highest_value)"
   ],
   "metadata": {
    "id": "-yalis_5v-Ap",
    "colab": {
     "base_uri": "https://localhost:8080/"
    },
    "outputId": "551728d6-7703-42db-8c9b-90214142c9df",
    "ExecuteTime": {
     "end_time": "2024-05-10T10:22:03.912370Z",
     "start_time": "2024-05-10T10:22:03.901447Z"
    }
   },
   "outputs": [
    {
     "name": "stdout",
     "output_type": "stream",
     "text": [
      "Позиция с самой высокой средней ценой игроков: LF\n"
     ]
    }
   ],
   "execution_count": 14
  },
  {
   "cell_type": "markdown",
   "metadata": {
    "id": "EZ39cflK0ZQ4"
   },
   "source": [
    "Какова средняя зарплата футболистов на данной позиции?"
   ]
  },
  {
   "cell_type": "code",
   "source": [
    "average_wage_highest_value_position = average_values.loc[position_with_highest_value, 'Wage']\n",
    "print(\"Средняя зарплата футболистов на позиции с самой высокой средней ценой:\", average_wage_highest_value_position)"
   ],
   "metadata": {
    "id": "PBIFnb1Cv_1y",
    "colab": {
     "base_uri": "https://localhost:8080/"
    },
    "outputId": "cea067bb-fff6-498a-948a-4bfc41ce261f",
    "ExecuteTime": {
     "end_time": "2024-05-10T10:22:03.924078Z",
     "start_time": "2024-05-10T10:22:03.914599Z"
    }
   },
   "outputs": [
    {
     "name": "stdout",
     "output_type": "stream",
     "text": [
      "Средняя зарплата футболистов на позиции с самой высокой средней ценой: 75125.0\n"
     ]
    }
   ],
   "execution_count": 15
  },
  {
   "cell_type": "markdown",
   "metadata": {
    "id": "OJWVDRfw0ZQ4"
   },
   "source": [
    "В предыдущих примерах мы использовали такие агрегирующие функции, как `sum` (сумма) и `mean` (среднее). Давайте рассмотрим, какие ещё функции можно использовать при группировке данных.\n",
    "\n",
    "Функция `nunique`, которая позволяет посчитать количество уникальных значений по серии. Её лучше всего применять к тем колонкам датафрейма, в которых хранятся категорийные данные:"
   ]
  },
  {
   "cell_type": "code",
   "metadata": {
    "id": "zHK69Bzc0ZQ4",
    "colab": {
     "base_uri": "https://localhost:8080/",
     "height": 455
    },
    "outputId": "35933001-b5e8-48a4-979f-a76520e355d2",
    "ExecuteTime": {
     "end_time": "2024-05-10T10:22:03.954279Z",
     "start_time": "2024-05-10T10:22:03.927136Z"
    }
   },
   "source": [
    "df.groupby('Nationality')[['Club','Name']].nunique()"
   ],
   "outputs": [
    {
     "data": {
      "text/plain": [
       "             Club  Name\n",
       "Nationality            \n",
       "Afghanistan     4     4\n",
       "Albania        26    29\n",
       "Algeria        33    37\n",
       "Andorra         1     1\n",
       "Angola          9    10\n",
       "...           ...   ...\n",
       "Uzbekistan      2     2\n",
       "Venezuela      34    36\n",
       "Wales          56   101\n",
       "Zambia          5     6\n",
       "Zimbabwe        8     9\n",
       "\n",
       "[156 rows x 2 columns]"
      ],
      "text/html": [
       "<div>\n",
       "<style scoped>\n",
       "    .dataframe tbody tr th:only-of-type {\n",
       "        vertical-align: middle;\n",
       "    }\n",
       "\n",
       "    .dataframe tbody tr th {\n",
       "        vertical-align: top;\n",
       "    }\n",
       "\n",
       "    .dataframe thead th {\n",
       "        text-align: right;\n",
       "    }\n",
       "</style>\n",
       "<table border=\"1\" class=\"dataframe\">\n",
       "  <thead>\n",
       "    <tr style=\"text-align: right;\">\n",
       "      <th></th>\n",
       "      <th>Club</th>\n",
       "      <th>Name</th>\n",
       "    </tr>\n",
       "    <tr>\n",
       "      <th>Nationality</th>\n",
       "      <th></th>\n",
       "      <th></th>\n",
       "    </tr>\n",
       "  </thead>\n",
       "  <tbody>\n",
       "    <tr>\n",
       "      <th>Afghanistan</th>\n",
       "      <td>4</td>\n",
       "      <td>4</td>\n",
       "    </tr>\n",
       "    <tr>\n",
       "      <th>Albania</th>\n",
       "      <td>26</td>\n",
       "      <td>29</td>\n",
       "    </tr>\n",
       "    <tr>\n",
       "      <th>Algeria</th>\n",
       "      <td>33</td>\n",
       "      <td>37</td>\n",
       "    </tr>\n",
       "    <tr>\n",
       "      <th>Andorra</th>\n",
       "      <td>1</td>\n",
       "      <td>1</td>\n",
       "    </tr>\n",
       "    <tr>\n",
       "      <th>Angola</th>\n",
       "      <td>9</td>\n",
       "      <td>10</td>\n",
       "    </tr>\n",
       "    <tr>\n",
       "      <th>...</th>\n",
       "      <td>...</td>\n",
       "      <td>...</td>\n",
       "    </tr>\n",
       "    <tr>\n",
       "      <th>Uzbekistan</th>\n",
       "      <td>2</td>\n",
       "      <td>2</td>\n",
       "    </tr>\n",
       "    <tr>\n",
       "      <th>Venezuela</th>\n",
       "      <td>34</td>\n",
       "      <td>36</td>\n",
       "    </tr>\n",
       "    <tr>\n",
       "      <th>Wales</th>\n",
       "      <td>56</td>\n",
       "      <td>101</td>\n",
       "    </tr>\n",
       "    <tr>\n",
       "      <th>Zambia</th>\n",
       "      <td>5</td>\n",
       "      <td>6</td>\n",
       "    </tr>\n",
       "    <tr>\n",
       "      <th>Zimbabwe</th>\n",
       "      <td>8</td>\n",
       "      <td>9</td>\n",
       "    </tr>\n",
       "  </tbody>\n",
       "</table>\n",
       "<p>156 rows × 2 columns</p>\n",
       "</div>"
      ]
     },
     "execution_count": 16,
     "metadata": {},
     "output_type": "execute_result"
    }
   ],
   "execution_count": 16
  },
  {
   "cell_type": "markdown",
   "metadata": {
    "id": "Wqzpun0H0ZQ4"
   },
   "source": [
    "Функция `count`, с помощью которой можно посчитать количество элементов в группе. То есть результат её будет такой же, как у функции `value_counts`:"
   ]
  },
  {
   "cell_type": "code",
   "metadata": {
    "id": "WnRes5gv0ZQ4",
    "colab": {
     "base_uri": "https://localhost:8080/"
    },
    "outputId": "c77a9bbc-6170-4493-ff4a-d7c923511e9d",
    "ExecuteTime": {
     "end_time": "2024-05-10T10:22:03.966815Z",
     "start_time": "2024-05-10T10:22:03.956389Z"
    }
   },
   "source": [
    "df.groupby('Club')['Name'].count()"
   ],
   "outputs": [
    {
     "data": {
      "text/plain": [
       "Club\n",
       " SSV Jahn Regensburg     24\n",
       "1. FC Heidenheim 1846    20\n",
       "1. FC Kaiserslautern     23\n",
       "1. FC Köln               10\n",
       "1. FC Magdeburg          21\n",
       "                         ..\n",
       "Zagłębie Sosnowiec       25\n",
       "Çaykur Rizespor          22\n",
       "Örebro SK                26\n",
       "Östersunds FK            20\n",
       "Śląsk Wrocław            24\n",
       "Name: Name, Length: 650, dtype: int64"
      ]
     },
     "execution_count": 17,
     "metadata": {},
     "output_type": "execute_result"
    }
   ],
   "execution_count": 17
  },
  {
   "cell_type": "code",
   "metadata": {
    "id": "yv0Xnbs_4iB-",
    "colab": {
     "base_uri": "https://localhost:8080/",
     "height": 455
    },
    "outputId": "77e32838-2449-4ef7-f1dd-7a78dc60dbde",
    "ExecuteTime": {
     "end_time": "2024-05-10T10:22:03.985381Z",
     "start_time": "2024-05-10T10:22:03.969425Z"
    }
   },
   "source": [
    "# либо так:\n",
    "df \\\n",
    "  .groupby('Club') \\\n",
    "  .agg({'Name' : \"count\"})"
   ],
   "outputs": [
    {
     "data": {
      "text/plain": [
       "                       Name\n",
       "Club                       \n",
       " SSV Jahn Regensburg     24\n",
       "1. FC Heidenheim 1846    20\n",
       "1. FC Kaiserslautern     23\n",
       "1. FC Köln               10\n",
       "1. FC Magdeburg          21\n",
       "...                     ...\n",
       "Zagłębie Sosnowiec       25\n",
       "Çaykur Rizespor          22\n",
       "Örebro SK                26\n",
       "Östersunds FK            20\n",
       "Śląsk Wrocław            24\n",
       "\n",
       "[650 rows x 1 columns]"
      ],
      "text/html": [
       "<div>\n",
       "<style scoped>\n",
       "    .dataframe tbody tr th:only-of-type {\n",
       "        vertical-align: middle;\n",
       "    }\n",
       "\n",
       "    .dataframe tbody tr th {\n",
       "        vertical-align: top;\n",
       "    }\n",
       "\n",
       "    .dataframe thead th {\n",
       "        text-align: right;\n",
       "    }\n",
       "</style>\n",
       "<table border=\"1\" class=\"dataframe\">\n",
       "  <thead>\n",
       "    <tr style=\"text-align: right;\">\n",
       "      <th></th>\n",
       "      <th>Name</th>\n",
       "    </tr>\n",
       "    <tr>\n",
       "      <th>Club</th>\n",
       "      <th></th>\n",
       "    </tr>\n",
       "  </thead>\n",
       "  <tbody>\n",
       "    <tr>\n",
       "      <th>SSV Jahn Regensburg</th>\n",
       "      <td>24</td>\n",
       "    </tr>\n",
       "    <tr>\n",
       "      <th>1. FC Heidenheim 1846</th>\n",
       "      <td>20</td>\n",
       "    </tr>\n",
       "    <tr>\n",
       "      <th>1. FC Kaiserslautern</th>\n",
       "      <td>23</td>\n",
       "    </tr>\n",
       "    <tr>\n",
       "      <th>1. FC Köln</th>\n",
       "      <td>10</td>\n",
       "    </tr>\n",
       "    <tr>\n",
       "      <th>1. FC Magdeburg</th>\n",
       "      <td>21</td>\n",
       "    </tr>\n",
       "    <tr>\n",
       "      <th>...</th>\n",
       "      <td>...</td>\n",
       "    </tr>\n",
       "    <tr>\n",
       "      <th>Zagłębie Sosnowiec</th>\n",
       "      <td>25</td>\n",
       "    </tr>\n",
       "    <tr>\n",
       "      <th>Çaykur Rizespor</th>\n",
       "      <td>22</td>\n",
       "    </tr>\n",
       "    <tr>\n",
       "      <th>Örebro SK</th>\n",
       "      <td>26</td>\n",
       "    </tr>\n",
       "    <tr>\n",
       "      <th>Östersunds FK</th>\n",
       "      <td>20</td>\n",
       "    </tr>\n",
       "    <tr>\n",
       "      <th>Śląsk Wrocław</th>\n",
       "      <td>24</td>\n",
       "    </tr>\n",
       "  </tbody>\n",
       "</table>\n",
       "<p>650 rows × 1 columns</p>\n",
       "</div>"
      ]
     },
     "execution_count": 18,
     "metadata": {},
     "output_type": "execute_result"
    }
   ],
   "execution_count": 18
  },
  {
   "cell_type": "markdown",
   "metadata": {
    "id": "7jWXeCVk0ZQ4"
   },
   "source": [
    "Функция `median`, с помощью которой можно посчитать медианное значение:"
   ]
  },
  {
   "cell_type": "code",
   "metadata": {
    "id": "Z8eOX1uQ0ZQ5",
    "colab": {
     "base_uri": "https://localhost:8080/"
    },
    "outputId": "b1c14c05-17c8-4110-e802-b0f2290ef210",
    "ExecuteTime": {
     "end_time": "2024-05-10T10:22:03.998970Z",
     "start_time": "2024-05-10T10:22:03.987277Z"
    }
   },
   "source": [
    "df.groupby('Club')['Dribbling'].median()"
   ],
   "outputs": [
    {
     "data": {
      "text/plain": [
       "Club\n",
       " SSV Jahn Regensburg     57.5\n",
       "1. FC Heidenheim 1846    59.5\n",
       "1. FC Kaiserslautern     54.0\n",
       "1. FC Köln               60.5\n",
       "1. FC Magdeburg          53.0\n",
       "                         ... \n",
       "Zagłębie Sosnowiec       58.0\n",
       "Çaykur Rizespor          62.0\n",
       "Örebro SK                55.0\n",
       "Östersunds FK            61.5\n",
       "Śląsk Wrocław            54.5\n",
       "Name: Dribbling, Length: 650, dtype: float64"
      ]
     },
     "execution_count": 19,
     "metadata": {},
     "output_type": "execute_result"
    }
   ],
   "execution_count": 19
  },
  {
   "cell_type": "code",
   "metadata": {
    "id": "AC_73VkV2j2J",
    "colab": {
     "base_uri": "https://localhost:8080/",
     "height": 455
    },
    "outputId": "7f918d8b-7bc5-43c0-c347-4f6c5f30fce1",
    "ExecuteTime": {
     "end_time": "2024-05-10T10:22:04.028327Z",
     "start_time": "2024-05-10T10:22:04.002299Z"
    }
   },
   "source": [
    "# либо так:\n",
    "df \\\n",
    "  .groupby('Club') \\\n",
    "  .agg({'Dribbling' : \"median\"})"
   ],
   "outputs": [
    {
     "data": {
      "text/plain": [
       "                       Dribbling\n",
       "Club                            \n",
       " SSV Jahn Regensburg        57.5\n",
       "1. FC Heidenheim 1846       59.5\n",
       "1. FC Kaiserslautern        54.0\n",
       "1. FC Köln                  60.5\n",
       "1. FC Magdeburg             53.0\n",
       "...                          ...\n",
       "Zagłębie Sosnowiec          58.0\n",
       "Çaykur Rizespor             62.0\n",
       "Örebro SK                   55.0\n",
       "Östersunds FK               61.5\n",
       "Śląsk Wrocław               54.5\n",
       "\n",
       "[650 rows x 1 columns]"
      ],
      "text/html": [
       "<div>\n",
       "<style scoped>\n",
       "    .dataframe tbody tr th:only-of-type {\n",
       "        vertical-align: middle;\n",
       "    }\n",
       "\n",
       "    .dataframe tbody tr th {\n",
       "        vertical-align: top;\n",
       "    }\n",
       "\n",
       "    .dataframe thead th {\n",
       "        text-align: right;\n",
       "    }\n",
       "</style>\n",
       "<table border=\"1\" class=\"dataframe\">\n",
       "  <thead>\n",
       "    <tr style=\"text-align: right;\">\n",
       "      <th></th>\n",
       "      <th>Dribbling</th>\n",
       "    </tr>\n",
       "    <tr>\n",
       "      <th>Club</th>\n",
       "      <th></th>\n",
       "    </tr>\n",
       "  </thead>\n",
       "  <tbody>\n",
       "    <tr>\n",
       "      <th>SSV Jahn Regensburg</th>\n",
       "      <td>57.5</td>\n",
       "    </tr>\n",
       "    <tr>\n",
       "      <th>1. FC Heidenheim 1846</th>\n",
       "      <td>59.5</td>\n",
       "    </tr>\n",
       "    <tr>\n",
       "      <th>1. FC Kaiserslautern</th>\n",
       "      <td>54.0</td>\n",
       "    </tr>\n",
       "    <tr>\n",
       "      <th>1. FC Köln</th>\n",
       "      <td>60.5</td>\n",
       "    </tr>\n",
       "    <tr>\n",
       "      <th>1. FC Magdeburg</th>\n",
       "      <td>53.0</td>\n",
       "    </tr>\n",
       "    <tr>\n",
       "      <th>...</th>\n",
       "      <td>...</td>\n",
       "    </tr>\n",
       "    <tr>\n",
       "      <th>Zagłębie Sosnowiec</th>\n",
       "      <td>58.0</td>\n",
       "    </tr>\n",
       "    <tr>\n",
       "      <th>Çaykur Rizespor</th>\n",
       "      <td>62.0</td>\n",
       "    </tr>\n",
       "    <tr>\n",
       "      <th>Örebro SK</th>\n",
       "      <td>55.0</td>\n",
       "    </tr>\n",
       "    <tr>\n",
       "      <th>Östersunds FK</th>\n",
       "      <td>61.5</td>\n",
       "    </tr>\n",
       "    <tr>\n",
       "      <th>Śląsk Wrocław</th>\n",
       "      <td>54.5</td>\n",
       "    </tr>\n",
       "  </tbody>\n",
       "</table>\n",
       "<p>650 rows × 1 columns</p>\n",
       "</div>"
      ]
     },
     "execution_count": 20,
     "metadata": {},
     "output_type": "execute_result"
    }
   ],
   "execution_count": 20
  },
  {
   "cell_type": "markdown",
   "metadata": {
    "id": "zG1UdQaC0ZQ5"
   },
   "source": [
    "Функция `max`, с помощью которой можно посчитать максимальное значение внутри группы:"
   ]
  },
  {
   "cell_type": "code",
   "metadata": {
    "id": "HBOuoV2u0ZQ5",
    "colab": {
     "base_uri": "https://localhost:8080/"
    },
    "outputId": "b2867b2d-8211-4988-840e-593c6413601c",
    "ExecuteTime": {
     "end_time": "2024-05-10T10:22:04.059609Z",
     "start_time": "2024-05-10T10:22:04.044023Z"
    }
   },
   "source": [
    "df.groupby('Club')['Strength'].max()"
   ],
   "outputs": [
    {
     "data": {
      "text/plain": [
       "Club\n",
       " SSV Jahn Regensburg     92\n",
       "1. FC Heidenheim 1846    86\n",
       "1. FC Kaiserslautern     85\n",
       "1. FC Köln               76\n",
       "1. FC Magdeburg          86\n",
       "                         ..\n",
       "Zagłębie Sosnowiec       84\n",
       "Çaykur Rizespor          81\n",
       "Örebro SK                85\n",
       "Östersunds FK            88\n",
       "Śląsk Wrocław            85\n",
       "Name: Strength, Length: 650, dtype: int64"
      ]
     },
     "execution_count": 21,
     "metadata": {},
     "output_type": "execute_result"
    }
   ],
   "execution_count": 21
  },
  {
   "cell_type": "code",
   "metadata": {
    "id": "TELuYKtL2yKd",
    "colab": {
     "base_uri": "https://localhost:8080/",
     "height": 424
    },
    "outputId": "9b3498f8-37e9-449a-ed1e-7b2e7a54ade7",
    "ExecuteTime": {
     "end_time": "2024-05-10T10:22:04.174772Z",
     "start_time": "2024-05-10T10:22:04.155907Z"
    }
   },
   "source": [
    "# либо так:\n",
    "df \\\n",
    "  .groupby('Club', as_index=False) \\\n",
    "  .agg({'Strength': 'max'})"
   ],
   "outputs": [
    {
     "data": {
      "text/plain": [
       "                      Club  Strength\n",
       "0      SSV Jahn Regensburg        92\n",
       "1    1. FC Heidenheim 1846        86\n",
       "2     1. FC Kaiserslautern        85\n",
       "3               1. FC Köln        76\n",
       "4          1. FC Magdeburg        86\n",
       "..                     ...       ...\n",
       "645     Zagłębie Sosnowiec        84\n",
       "646        Çaykur Rizespor        81\n",
       "647              Örebro SK        85\n",
       "648          Östersunds FK        88\n",
       "649          Śląsk Wrocław        85\n",
       "\n",
       "[650 rows x 2 columns]"
      ],
      "text/html": [
       "<div>\n",
       "<style scoped>\n",
       "    .dataframe tbody tr th:only-of-type {\n",
       "        vertical-align: middle;\n",
       "    }\n",
       "\n",
       "    .dataframe tbody tr th {\n",
       "        vertical-align: top;\n",
       "    }\n",
       "\n",
       "    .dataframe thead th {\n",
       "        text-align: right;\n",
       "    }\n",
       "</style>\n",
       "<table border=\"1\" class=\"dataframe\">\n",
       "  <thead>\n",
       "    <tr style=\"text-align: right;\">\n",
       "      <th></th>\n",
       "      <th>Club</th>\n",
       "      <th>Strength</th>\n",
       "    </tr>\n",
       "  </thead>\n",
       "  <tbody>\n",
       "    <tr>\n",
       "      <th>0</th>\n",
       "      <td>SSV Jahn Regensburg</td>\n",
       "      <td>92</td>\n",
       "    </tr>\n",
       "    <tr>\n",
       "      <th>1</th>\n",
       "      <td>1. FC Heidenheim 1846</td>\n",
       "      <td>86</td>\n",
       "    </tr>\n",
       "    <tr>\n",
       "      <th>2</th>\n",
       "      <td>1. FC Kaiserslautern</td>\n",
       "      <td>85</td>\n",
       "    </tr>\n",
       "    <tr>\n",
       "      <th>3</th>\n",
       "      <td>1. FC Köln</td>\n",
       "      <td>76</td>\n",
       "    </tr>\n",
       "    <tr>\n",
       "      <th>4</th>\n",
       "      <td>1. FC Magdeburg</td>\n",
       "      <td>86</td>\n",
       "    </tr>\n",
       "    <tr>\n",
       "      <th>...</th>\n",
       "      <td>...</td>\n",
       "      <td>...</td>\n",
       "    </tr>\n",
       "    <tr>\n",
       "      <th>645</th>\n",
       "      <td>Zagłębie Sosnowiec</td>\n",
       "      <td>84</td>\n",
       "    </tr>\n",
       "    <tr>\n",
       "      <th>646</th>\n",
       "      <td>Çaykur Rizespor</td>\n",
       "      <td>81</td>\n",
       "    </tr>\n",
       "    <tr>\n",
       "      <th>647</th>\n",
       "      <td>Örebro SK</td>\n",
       "      <td>85</td>\n",
       "    </tr>\n",
       "    <tr>\n",
       "      <th>648</th>\n",
       "      <td>Östersunds FK</td>\n",
       "      <td>88</td>\n",
       "    </tr>\n",
       "    <tr>\n",
       "      <th>649</th>\n",
       "      <td>Śląsk Wrocław</td>\n",
       "      <td>85</td>\n",
       "    </tr>\n",
       "  </tbody>\n",
       "</table>\n",
       "<p>650 rows × 2 columns</p>\n",
       "</div>"
      ]
     },
     "execution_count": 22,
     "metadata": {},
     "output_type": "execute_result"
    }
   ],
   "execution_count": 22
  },
  {
   "cell_type": "markdown",
   "metadata": {
    "id": "e1fB8yBg0ZQ5"
   },
   "source": [
    "Функция `min`, с помощью которой можно посчитать минимальное значение внутри группы:"
   ]
  },
  {
   "cell_type": "code",
   "metadata": {
    "id": "-aZ0U_kP0ZQ5",
    "colab": {
     "base_uri": "https://localhost:8080/"
    },
    "outputId": "b1409846-f415-4cb0-ca83-7216e0469c3b",
    "ExecuteTime": {
     "end_time": "2024-05-10T10:22:04.759292Z",
     "start_time": "2024-05-10T10:22:04.747740Z"
    }
   },
   "source": [
    "df.groupby('Club')['Balance'].min()"
   ],
   "outputs": [
    {
     "data": {
      "text/plain": [
       "Club\n",
       " SSV Jahn Regensburg     29\n",
       "1. FC Heidenheim 1846    22\n",
       "1. FC Kaiserslautern     29\n",
       "1. FC Köln               31\n",
       "1. FC Magdeburg          19\n",
       "                         ..\n",
       "Zagłębie Sosnowiec       28\n",
       "Çaykur Rizespor          39\n",
       "Örebro SK                34\n",
       "Östersunds FK            32\n",
       "Śląsk Wrocław            31\n",
       "Name: Balance, Length: 650, dtype: int64"
      ]
     },
     "execution_count": 23,
     "metadata": {},
     "output_type": "execute_result"
    }
   ],
   "execution_count": 23
  },
  {
   "cell_type": "code",
   "metadata": {
    "id": "Yy_CtI9c3XeE",
    "colab": {
     "base_uri": "https://localhost:8080/",
     "height": 455
    },
    "outputId": "46b27a6e-47f8-4cd7-d77f-7a055c63926f",
    "ExecuteTime": {
     "end_time": "2024-05-10T10:22:06.147444Z",
     "start_time": "2024-05-10T10:22:06.130536Z"
    }
   },
   "source": [
    "# либо так:\n",
    "df \\\n",
    "  .groupby('Club') \\\n",
    "  .agg({'Balance': \"min\"})"
   ],
   "outputs": [
    {
     "data": {
      "text/plain": [
       "                       Balance\n",
       "Club                          \n",
       " SSV Jahn Regensburg        29\n",
       "1. FC Heidenheim 1846       22\n",
       "1. FC Kaiserslautern        29\n",
       "1. FC Köln                  31\n",
       "1. FC Magdeburg             19\n",
       "...                        ...\n",
       "Zagłębie Sosnowiec          28\n",
       "Çaykur Rizespor             39\n",
       "Örebro SK                   34\n",
       "Östersunds FK               32\n",
       "Śląsk Wrocław               31\n",
       "\n",
       "[650 rows x 1 columns]"
      ],
      "text/html": [
       "<div>\n",
       "<style scoped>\n",
       "    .dataframe tbody tr th:only-of-type {\n",
       "        vertical-align: middle;\n",
       "    }\n",
       "\n",
       "    .dataframe tbody tr th {\n",
       "        vertical-align: top;\n",
       "    }\n",
       "\n",
       "    .dataframe thead th {\n",
       "        text-align: right;\n",
       "    }\n",
       "</style>\n",
       "<table border=\"1\" class=\"dataframe\">\n",
       "  <thead>\n",
       "    <tr style=\"text-align: right;\">\n",
       "      <th></th>\n",
       "      <th>Balance</th>\n",
       "    </tr>\n",
       "    <tr>\n",
       "      <th>Club</th>\n",
       "      <th></th>\n",
       "    </tr>\n",
       "  </thead>\n",
       "  <tbody>\n",
       "    <tr>\n",
       "      <th>SSV Jahn Regensburg</th>\n",
       "      <td>29</td>\n",
       "    </tr>\n",
       "    <tr>\n",
       "      <th>1. FC Heidenheim 1846</th>\n",
       "      <td>22</td>\n",
       "    </tr>\n",
       "    <tr>\n",
       "      <th>1. FC Kaiserslautern</th>\n",
       "      <td>29</td>\n",
       "    </tr>\n",
       "    <tr>\n",
       "      <th>1. FC Köln</th>\n",
       "      <td>31</td>\n",
       "    </tr>\n",
       "    <tr>\n",
       "      <th>1. FC Magdeburg</th>\n",
       "      <td>19</td>\n",
       "    </tr>\n",
       "    <tr>\n",
       "      <th>...</th>\n",
       "      <td>...</td>\n",
       "    </tr>\n",
       "    <tr>\n",
       "      <th>Zagłębie Sosnowiec</th>\n",
       "      <td>28</td>\n",
       "    </tr>\n",
       "    <tr>\n",
       "      <th>Çaykur Rizespor</th>\n",
       "      <td>39</td>\n",
       "    </tr>\n",
       "    <tr>\n",
       "      <th>Örebro SK</th>\n",
       "      <td>34</td>\n",
       "    </tr>\n",
       "    <tr>\n",
       "      <th>Östersunds FK</th>\n",
       "      <td>32</td>\n",
       "    </tr>\n",
       "    <tr>\n",
       "      <th>Śląsk Wrocław</th>\n",
       "      <td>31</td>\n",
       "    </tr>\n",
       "  </tbody>\n",
       "</table>\n",
       "<p>650 rows × 1 columns</p>\n",
       "</div>"
      ]
     },
     "execution_count": 24,
     "metadata": {},
     "output_type": "execute_result"
    }
   ],
   "execution_count": 24
  },
  {
   "cell_type": "markdown",
   "metadata": {
    "id": "oUNKBlhP0ZQ5"
   },
   "source": [
    "### Задача 2\n",
    "\n",
    "Посчитайте среднюю (`mean`) и медианную (`median`) зарплату (`Wage`) футболистов из разных клубов (`Club`). В скольких клубах средняя и медианная зарплаты совпадают?\n",
    "\n",
    "Подсказка: чтобы в процессе группировки применить к данным одновременно две агрегирующие функции, необходимо указать их как аргументы метода `agg`:\n",
    "\n",
    "```Python\n",
    "df.groupby(столбец_для_группировки)[столбцы_для_отображения].agg(['функция_1', 'функция_2'])\n",
    "```\n",
    "\n",
    "либо:\n",
    "\n",
    "```Python\n",
    "df.groupby(столбец_для_группировки).agg({'столбец_для_отображения':['функция_1', 'функция_2'])\n",
    "```"
   ]
  },
  {
   "cell_type": "code",
   "source": [
    "# Группируем данные по клубам и считаем среднюю и медианную зарплату\n",
    "club_wage_stats = df.groupby('Club')['Wage'].agg(['mean', 'median'])\n",
    "\n",
    "# Находим клубы, в которых средняя и медианная зарплаты совпадают\n",
    "clubs_same_mean_median = club_wage_stats[club_wage_stats['mean'] == club_wage_stats['median']]\n",
    "\n",
    "print(\"Клубы, в которых средняя и медианная зарплаты совпадают:\")\n",
    "print(clubs_same_mean_median)\n",
    "print(\"Всего таких клубов:\", len(clubs_same_mean_median))"
   ],
   "metadata": {
    "id": "0WcqbuSEwS5J",
    "colab": {
     "base_uri": "https://localhost:8080/"
    },
    "outputId": "249ebc25-7d65-4ada-bce7-767287e3cb8f",
    "ExecuteTime": {
     "end_time": "2024-05-10T10:22:06.908420Z",
     "start_time": "2024-05-10T10:22:06.891779Z"
    }
   },
   "outputs": [
    {
     "name": "stdout",
     "output_type": "stream",
     "text": [
      "Клубы, в которых средняя и медианная зарплаты совпадают:\n",
      "                           mean   median\n",
      "Club                                    \n",
      "1. FC Magdeburg          4000.0   4000.0\n",
      "AEK Athens               1000.0   1000.0\n",
      "AJ Auxerre               2000.0   2000.0\n",
      "Benevento                2000.0   2000.0\n",
      "Bohemian FC              1000.0   1000.0\n",
      "Boyacá Chicó FC          1000.0   1000.0\n",
      "Bray Wanderers           1000.0   1000.0\n",
      "Brøndby IF               6000.0   6000.0\n",
      "CD Feirense              4000.0   4000.0\n",
      "CD Tondela               2000.0   2000.0\n",
      "Cork City                1000.0   1000.0\n",
      "Cruzeiro                13000.0  13000.0\n",
      "Deportivo Pasto          1000.0   1000.0\n",
      "Dinamo Zagreb            1000.0   1000.0\n",
      "Dundalk                  1000.0   1000.0\n",
      "Dynamo Kyiv              1000.0   1000.0\n",
      "Envigado FC              1000.0   1000.0\n",
      "FC Energie Cottbus       1000.0   1000.0\n",
      "FC Metz                  1500.0   1500.0\n",
      "Grimsby Town             2000.0   2000.0\n",
      "Göztepe SK               7000.0   7000.0\n",
      "HJK Helsinki             1000.0   1000.0\n",
      "Heracles Almelo          2000.0   2000.0\n",
      "IF Brommapojkarna        1000.0   1000.0\n",
      "IK Sirius                1000.0   1000.0\n",
      "Itagüí Leones FC         1000.0   1000.0\n",
      "Jaguares de Córdoba      1000.0   1000.0\n",
      "Jeonnam Dragons          2000.0   2000.0\n",
      "Kaizer Chiefs            1000.0   1000.0\n",
      "Kashiwa Reysol           2000.0   2000.0\n",
      "Limerick FC              1000.0   1000.0\n",
      "Lokomotiv Moscow         1000.0   1000.0\n",
      "Northampton Town         2500.0   2500.0\n",
      "Olympiacos CFP           1000.0   1000.0\n",
      "Orlando Pirates          1000.0   1000.0\n",
      "PAOK                     1000.0   1000.0\n",
      "PFC CSKA Moscow          1000.0   1000.0\n",
      "Panathinaikos FC         1000.0   1000.0\n",
      "Patriotas Boyacá FC      1000.0   1000.0\n",
      "Philadelphia Union       2000.0   2000.0\n",
      "Pohang Steelers          2000.0   2000.0\n",
      "SK Slavia Praha          1000.0   1000.0\n",
      "Shakhtar Donetsk         1000.0   1000.0\n",
      "Shamrock Rovers          1000.0   1000.0\n",
      "Sligo Rovers             1000.0   1000.0\n",
      "Sparta Praha             1000.0   1000.0\n",
      "Spartak Moscow           1000.0   1000.0\n",
      "St. Patrick's Athletic   1000.0   1000.0\n",
      "Stade Brestois 29        2000.0   2000.0\n",
      "Sunderland               4000.0   4000.0\n",
      "Trelleborgs FF           1000.0   1000.0\n",
      "Viktoria Plzeň           1000.0   1000.0\n",
      "Всего таких клубов: 52\n"
     ]
    }
   ],
   "execution_count": 25
  },
  {
   "cell_type": "markdown",
   "metadata": {
    "id": "BAO8DVCh0ZQ6"
   },
   "source": [
    "### Задача 3\n",
    "\n",
    "Продолжаем работать с клубами, в которых средняя зарплата совпадает с медианной. Каков максимальный размер средней зарплаты в этой группе клубов?"
   ]
  },
  {
   "cell_type": "code",
   "source": [
    "# Группируем данные по клубам и считаем среднюю и медианную зарплату\n",
    "club_wage_stats = df.groupby('Club')['Wage'].agg(['mean', 'median'])\n",
    "\n",
    "# Находим клубы, в которых средняя и медианная зарплаты совпадают\n",
    "clubs_same_mean_median = club_wage_stats[club_wage_stats['mean'] == club_wage_stats['median']]\n",
    "\n",
    "# Находим максимальный размер средней зарплаты в этой группе клубов\n",
    "max_avg_wage = clubs_same_mean_median['mean'].max()\n",
    "\n",
    "print(\"Максимальный размер средней зарплаты в группе клубов, где средняя и медианная зарплаты совпадают:\", max_avg_wage)"
   ],
   "metadata": {
    "id": "kr7zMEj2wYWQ",
    "colab": {
     "base_uri": "https://localhost:8080/"
    },
    "outputId": "f6d5108b-cedd-4143-b728-84ef30789ff5",
    "ExecuteTime": {
     "end_time": "2024-05-10T10:22:07.263150Z",
     "start_time": "2024-05-10T10:22:07.250902Z"
    }
   },
   "outputs": [
    {
     "name": "stdout",
     "output_type": "stream",
     "text": [
      "Максимальный размер средней зарплаты в группе клубов, где средняя и медианная зарплаты совпадают: 13000.0\n"
     ]
    }
   ],
   "execution_count": 26
  },
  {
   "cell_type": "markdown",
   "metadata": {
    "id": "W4PT7_UN0ZQ6"
   },
   "source": [
    "Как называется клуб, где игроки получают такую зарплату?"
   ]
  },
  {
   "cell_type": "code",
   "source": [
    "# Находим название клуба с максимальной средней зарплатой\n",
    "club_max_avg_wage = clubs_same_mean_median[clubs_same_mean_median['mean'] == max_avg_wage].index[0]\n",
    "\n",
    "print(\"Название клуба, в котором игроки получают максимальный размер средней зарплаты в группе:\", club_max_avg_wage)\n"
   ],
   "metadata": {
    "id": "VLFMXBLNwY5p",
    "colab": {
     "base_uri": "https://localhost:8080/"
    },
    "outputId": "de5e3dcf-bc7f-4e06-c25f-11e0db8c16c8",
    "ExecuteTime": {
     "end_time": "2024-05-10T10:22:07.639276Z",
     "start_time": "2024-05-10T10:22:07.631673Z"
    }
   },
   "outputs": [
    {
     "name": "stdout",
     "output_type": "stream",
     "text": [
      "Название клуба, в котором игроки получают максимальный размер средней зарплаты в группе: Cruzeiro\n"
     ]
    }
   ],
   "execution_count": 27
  },
  {
   "cell_type": "markdown",
   "metadata": {
    "id": "JIbI9v0H0ZQ6"
   },
   "source": [
    "### Задача 4\n",
    "\n",
    "С помощью функции groupby посчитайте сумму зарплат (`Wage`) футболистов клуба (`Club`) `\"Chelsea\"`."
   ]
  },
  {
   "cell_type": "code",
   "source": [
    "# Группируем по клубу \"Chelsea\" и считаем сумму зарплат\n",
    "chelsea_wages_sum = df[df['Club'] == 'Chelsea']['Wage'].sum()\n",
    "\n",
    "print(f\"Сумма зарплат футболистов клуба Chelsea: {chelsea_wages_sum}\")"
   ],
   "metadata": {
    "id": "3TuJ7TnApbbc",
    "colab": {
     "base_uri": "https://localhost:8080/"
    },
    "outputId": "294f3d05-ca61-4b6b-b9ee-7df7ef38a4e6",
    "ExecuteTime": {
     "end_time": "2024-05-10T10:22:07.820825Z",
     "start_time": "2024-05-10T10:22:07.813482Z"
    }
   },
   "outputs": [
    {
     "name": "stdout",
     "output_type": "stream",
     "text": [
      "Сумма зарплат футболистов клуба Chelsea: 2035000\n"
     ]
    }
   ],
   "execution_count": 28
  },
  {
   "cell_type": "markdown",
   "metadata": {
    "id": "RYSGDNNM0ZQ6"
   },
   "source": [
    "### Задача 5\n",
    "\n",
    "Определите максимальную зарплату футболиста национальности (`Nationality`) Аргентина (`\"Argentina\"`) в возрасте `20 лет`."
   ]
  },
  {
   "cell_type": "code",
   "source": [
    "# Фильтрация данных по условию\n",
    "max_salary_argentina_20 = df[(df['Nationality'] == 'Argentina') & (df['Age'] == 20)]['Wage'].max()\n",
    "\n",
    "print(f\"Максимальная зарплата футболиста национальности Аргентина в возрасте 20 лет: {max_salary_argentina_20}\")"
   ],
   "metadata": {
    "id": "sY3sA4HGwd0A",
    "colab": {
     "base_uri": "https://localhost:8080/"
    },
    "outputId": "8647330a-3fe7-4d3c-f1af-b0e3d994b252",
    "ExecuteTime": {
     "end_time": "2024-05-10T10:22:08.091529Z",
     "start_time": "2024-05-10T10:22:08.071197Z"
    }
   },
   "outputs": [
    {
     "name": "stdout",
     "output_type": "stream",
     "text": [
      "Максимальная зарплата футболиста национальности Аргентина в возрасте 20 лет: 54000\n"
     ]
    }
   ],
   "execution_count": 29
  },
  {
   "cell_type": "markdown",
   "metadata": {
    "id": "jbFg1b5K0ZQ6"
   },
   "source": [
    "### Задача 6\n",
    "\n",
    "Определите максимальную зарплату футболиста национальности (`Nationality`) Аргентина (`\"Argentina\"`) в возрасте `30 лет`."
   ]
  },
  {
   "cell_type": "code",
   "source": [
    "max_salary_argentina_30 = df[(df['Nationality'] == 'Argentina') & (df['Age'] == 30)]['Wage'].max()\n",
    "\n",
    "print(f\"Максимальная зарплата футболиста национальности Аргентина в возрасте 30 лет: {max_salary_argentina_30}\")"
   ],
   "metadata": {
    "id": "aSE_AhBCwfJp",
    "colab": {
     "base_uri": "https://localhost:8080/"
    },
    "outputId": "e1cb1fea-0b51-4ab5-fe13-77ddd265ca6b",
    "ExecuteTime": {
     "end_time": "2024-05-10T10:22:08.218209Z",
     "start_time": "2024-05-10T10:22:08.205888Z"
    }
   },
   "outputs": [
    {
     "name": "stdout",
     "output_type": "stream",
     "text": [
      "Максимальная зарплата футболиста национальности Аргентина в возрасте 30 лет: 300000\n"
     ]
    }
   ],
   "execution_count": 30
  },
  {
   "cell_type": "markdown",
   "metadata": {
    "id": "wo2-lQIV0ZQ7"
   },
   "source": [
    "### Задача 7\n",
    "\n",
    "Определите минимальную зарплату футболиста национальности (`Nationality`) Аргентина (`\"Argentina\"`) в возрасте `30 лет`."
   ]
  },
  {
   "cell_type": "code",
   "source": [
    "min_salary_argentina_30 = df[(df['Nationality'] == 'Argentina') & (df['Age'] == 30)]['Wage'].min()\n",
    "\n",
    "print(f\"Минимальная зарплата футболиста национальности Аргентина в возрасте 30 лет: {min_salary_argentina_30}\")\n"
   ],
   "metadata": {
    "id": "bVu75jJiwgEo",
    "colab": {
     "base_uri": "https://localhost:8080/"
    },
    "outputId": "7e086d8f-6f8f-4f9f-ef07-ffe6e4f8ebbe",
    "ExecuteTime": {
     "end_time": "2024-05-10T10:22:08.373783Z",
     "start_time": "2024-05-10T10:22:08.365766Z"
    }
   },
   "outputs": [
    {
     "name": "stdout",
     "output_type": "stream",
     "text": [
      "Минимальная зарплата футболиста национальности Аргентина в возрасте 30 лет: 1000\n"
     ]
    }
   ],
   "execution_count": 31
  },
  {
   "cell_type": "markdown",
   "metadata": {
    "id": "zMiuXkrg0ZQ7"
   },
   "source": [
    "### Задача 8\n",
    "\n",
    "Определите максимальную силу (`Strength`) и баланс (`Balance`) среди игроков клуба (`Club`) `\"FC Barcelona\"` из Аргентины (`\"Argentina\"`). Ответ через точку с запятой без пробела."
   ]
  },
  {
   "cell_type": "code",
   "source": [
    "max_strength_balance = df[(df['Club'] == 'FC Barcelona') & (df['Nationality'] == 'Argentina')][['Strength', 'Balance']].max(axis=0).to_string(index=False, header=False, na_rep=';')\n",
    "\n",
    "print(max_strength_balance)\n"
   ],
   "metadata": {
    "id": "9Mi0ZF-wwiNq",
    "colab": {
     "base_uri": "https://localhost:8080/"
    },
    "outputId": "0122906d-f611-4c21-922b-501237b11b9d",
    "ExecuteTime": {
     "end_time": "2024-05-10T10:22:08.647678Z",
     "start_time": "2024-05-10T10:22:08.635233Z"
    }
   },
   "outputs": [
    {
     "name": "stdout",
     "output_type": "stream",
     "text": [
      "59\n",
      "95\n"
     ]
    }
   ],
   "execution_count": 32
  }
 ]
}
